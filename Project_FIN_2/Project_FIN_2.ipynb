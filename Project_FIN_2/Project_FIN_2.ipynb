{
  "cells": [
    {
      "cell_type": "markdown",
      "metadata": {
        "id": "kIOnMAuQrtS7"
      },
      "source": [
        "# Проект \"Событийный анализ стартапа по продаже продуктов\"\n",
        "\n",
        "## Описание проекта\n",
        "\n",
        "Вы работаете в стартапе, который продаёт продукты питания. Нужно разобраться, как ведут себя пользователи вашего мобильного приложения.\n",
        "\n",
        "Требуется:\n",
        "1. Изучить воронку продаж.\n",
        "\n",
        "2. Исследовать результаты A/A/B-эксперимента. Дизайнеры предложили поменять шрифты во всём приложениии, было решено провести A/A/B-тест. Пользователей разбили на 3 группы: 2 контрольные со старыми шрифтами и одну экспериментальную — с новыми. Необходимо выяснить, не ухудшилось ли отношение пользователей к приложению после смены шрифтов.\n",
        "\n",
        "\n",
        "**Данные**\n",
        "\n",
        "Данные представлены одним файлом, содержащим лог действий пользователей в приложении за определённый временной промежуток - **logs_exp.csv**.\n",
        "\n",
        "**Описание данных**\n",
        "\n",
        "**EventName** — название события;\n",
        "\n",
        "**DeviceIDHash** — уникальный идентификатор пользователя;\n",
        "\n",
        "**EventTimestamp** — время события;\n",
        "\n",
        "**ExpId** — номер эксперимента: 246 и 247 — контрольные группы, 248 — экспериментальная.\n",
        "\n",
        "**План работы над проектом**\n",
        "\n",
        "1. Загрузить и данные и выполнить предобработку. При необходимости изменить или дополнить представление данных, типы данных. Обработать пропуски и дубликаты.\n",
        "\n",
        "2. Провести исследовательский анализ.\n",
        "  1. Изучить данные и проверить их на наличие аномалий и ошибок.\n",
        "  2. Изучить воронку событий приложения и конверсию каждого этапа событий.\n",
        "\n",
        "3. Провести статистический анализ данных.\n",
        "  1. Определить необходимые методы статистического анализа. Выбрать необходимый уровень статистической значимости для проведения теста.\n",
        "  2. Подготовить данные.\n",
        "  3. Провести необходимые тесты.\n",
        "    1. Сравнить контрольные группы 246 и 247 для проверки корректности теста.\n",
        "    2. Сравнить экспериментальную группу 248 с каждой из контрольных групп.\n",
        "    3. Сравнить экспериментальную группу 248 с объединённой выборкой из двух контрольных групп.\n",
        "4. Сделать общий вывод и сформулировать рекомендации.    \n",
        "\n"
      ]
    },
    {
      "cell_type": "markdown",
      "metadata": {
        "id": "rszSZqPprtS_"
      },
      "source": [
        "## Загрузка и предобработка данных\n",
        "\n"
      ]
    },
    {
      "cell_type": "markdown",
      "source": [
        "### Загрузка данных"
      ],
      "metadata": {
        "id": "zfHkNuDzyHz8"
      }
    },
    {
      "cell_type": "code",
      "execution_count": 1,
      "metadata": {
        "id": "bMpqNCc4rtTA"
      },
      "outputs": [],
      "source": [
        "#импорт необходимых библиотек\n",
        "import pandas as pd\n",
        "\n",
        "import matplotlib.pyplot as plt\n",
        "\n",
        "import plotly.express as px\n",
        "\n",
        "import numpy as np\n",
        "\n",
        "import math\n",
        "\n",
        "from scipy import stats as st\n",
        "\n",
        "from datetime import datetime as dt\n",
        "\n",
        "#настройка ширины отображаемых колонок\n",
        "pd.set_option('max_colwidth', 120)\n",
        "\n",
        "#отключение текстовых предупреждений\n",
        "import warnings\n",
        "warnings.filterwarnings('ignore')"
      ]
    },
    {
      "cell_type": "code",
      "execution_count": 2,
      "metadata": {
        "colab": {
          "base_uri": "https://localhost:8080/",
          "height": 868
        },
        "id": "OeHzaaChrtTD",
        "outputId": "b581292d-8156-44b4-dd3e-db8996a483b3"
      },
      "outputs": [
        {
          "output_type": "display_data",
          "data": {
            "text/plain": [
              "                  EventName         DeviceIDHash  EventTimestamp  ExpId\n",
              "0          MainScreenAppear  4575588528974610257      1564029816    246\n",
              "1          MainScreenAppear  7416695313311560658      1564053102    246\n",
              "2   PaymentScreenSuccessful  3518123091307005509      1564054127    248\n",
              "3          CartScreenAppear  3518123091307005509      1564054127    248\n",
              "4   PaymentScreenSuccessful  6217807653094995999      1564055322    248\n",
              "5          CartScreenAppear  6217807653094995999      1564055323    248\n",
              "6        OffersScreenAppear  8351860793733343758      1564066242    246\n",
              "7          MainScreenAppear  5682100281902512875      1564085677    246\n",
              "8          MainScreenAppear  1850981295691852772      1564086702    247\n",
              "9          MainScreenAppear  5407636962369102641      1564112112    246\n",
              "10         MainScreenAppear   948465712512390382      1564119214    247\n",
              "11         MainScreenAppear  2547684315586332355      1564123826    248\n",
              "12         MainScreenAppear  8885295911290764495      1564124085    248\n",
              "13         MainScreenAppear  2140904690380565988      1564125732    247\n",
              "14         MainScreenAppear  4444236400320272864      1564135560    246\n",
              "15         MainScreenAppear  8947220251154009657      1564140668    248\n",
              "16         MainScreenAppear  5839517684026830712      1564141421    247\n",
              "17         MainScreenAppear  7540130374989658208      1564144283    248\n",
              "18         CartScreenAppear  2575393697599976818      1564148945    247\n",
              "19         MainScreenAppear  4651149533106703820      1564149866    246"
            ],
            "text/html": [
              "\n",
              "  <div id=\"df-fd170f2e-41e5-48fe-8210-e511a274f586\" class=\"colab-df-container\">\n",
              "    <div>\n",
              "<style scoped>\n",
              "    .dataframe tbody tr th:only-of-type {\n",
              "        vertical-align: middle;\n",
              "    }\n",
              "\n",
              "    .dataframe tbody tr th {\n",
              "        vertical-align: top;\n",
              "    }\n",
              "\n",
              "    .dataframe thead th {\n",
              "        text-align: right;\n",
              "    }\n",
              "</style>\n",
              "<table border=\"1\" class=\"dataframe\">\n",
              "  <thead>\n",
              "    <tr style=\"text-align: right;\">\n",
              "      <th></th>\n",
              "      <th>EventName</th>\n",
              "      <th>DeviceIDHash</th>\n",
              "      <th>EventTimestamp</th>\n",
              "      <th>ExpId</th>\n",
              "    </tr>\n",
              "  </thead>\n",
              "  <tbody>\n",
              "    <tr>\n",
              "      <th>0</th>\n",
              "      <td>MainScreenAppear</td>\n",
              "      <td>4575588528974610257</td>\n",
              "      <td>1564029816</td>\n",
              "      <td>246</td>\n",
              "    </tr>\n",
              "    <tr>\n",
              "      <th>1</th>\n",
              "      <td>MainScreenAppear</td>\n",
              "      <td>7416695313311560658</td>\n",
              "      <td>1564053102</td>\n",
              "      <td>246</td>\n",
              "    </tr>\n",
              "    <tr>\n",
              "      <th>2</th>\n",
              "      <td>PaymentScreenSuccessful</td>\n",
              "      <td>3518123091307005509</td>\n",
              "      <td>1564054127</td>\n",
              "      <td>248</td>\n",
              "    </tr>\n",
              "    <tr>\n",
              "      <th>3</th>\n",
              "      <td>CartScreenAppear</td>\n",
              "      <td>3518123091307005509</td>\n",
              "      <td>1564054127</td>\n",
              "      <td>248</td>\n",
              "    </tr>\n",
              "    <tr>\n",
              "      <th>4</th>\n",
              "      <td>PaymentScreenSuccessful</td>\n",
              "      <td>6217807653094995999</td>\n",
              "      <td>1564055322</td>\n",
              "      <td>248</td>\n",
              "    </tr>\n",
              "    <tr>\n",
              "      <th>5</th>\n",
              "      <td>CartScreenAppear</td>\n",
              "      <td>6217807653094995999</td>\n",
              "      <td>1564055323</td>\n",
              "      <td>248</td>\n",
              "    </tr>\n",
              "    <tr>\n",
              "      <th>6</th>\n",
              "      <td>OffersScreenAppear</td>\n",
              "      <td>8351860793733343758</td>\n",
              "      <td>1564066242</td>\n",
              "      <td>246</td>\n",
              "    </tr>\n",
              "    <tr>\n",
              "      <th>7</th>\n",
              "      <td>MainScreenAppear</td>\n",
              "      <td>5682100281902512875</td>\n",
              "      <td>1564085677</td>\n",
              "      <td>246</td>\n",
              "    </tr>\n",
              "    <tr>\n",
              "      <th>8</th>\n",
              "      <td>MainScreenAppear</td>\n",
              "      <td>1850981295691852772</td>\n",
              "      <td>1564086702</td>\n",
              "      <td>247</td>\n",
              "    </tr>\n",
              "    <tr>\n",
              "      <th>9</th>\n",
              "      <td>MainScreenAppear</td>\n",
              "      <td>5407636962369102641</td>\n",
              "      <td>1564112112</td>\n",
              "      <td>246</td>\n",
              "    </tr>\n",
              "    <tr>\n",
              "      <th>10</th>\n",
              "      <td>MainScreenAppear</td>\n",
              "      <td>948465712512390382</td>\n",
              "      <td>1564119214</td>\n",
              "      <td>247</td>\n",
              "    </tr>\n",
              "    <tr>\n",
              "      <th>11</th>\n",
              "      <td>MainScreenAppear</td>\n",
              "      <td>2547684315586332355</td>\n",
              "      <td>1564123826</td>\n",
              "      <td>248</td>\n",
              "    </tr>\n",
              "    <tr>\n",
              "      <th>12</th>\n",
              "      <td>MainScreenAppear</td>\n",
              "      <td>8885295911290764495</td>\n",
              "      <td>1564124085</td>\n",
              "      <td>248</td>\n",
              "    </tr>\n",
              "    <tr>\n",
              "      <th>13</th>\n",
              "      <td>MainScreenAppear</td>\n",
              "      <td>2140904690380565988</td>\n",
              "      <td>1564125732</td>\n",
              "      <td>247</td>\n",
              "    </tr>\n",
              "    <tr>\n",
              "      <th>14</th>\n",
              "      <td>MainScreenAppear</td>\n",
              "      <td>4444236400320272864</td>\n",
              "      <td>1564135560</td>\n",
              "      <td>246</td>\n",
              "    </tr>\n",
              "    <tr>\n",
              "      <th>15</th>\n",
              "      <td>MainScreenAppear</td>\n",
              "      <td>8947220251154009657</td>\n",
              "      <td>1564140668</td>\n",
              "      <td>248</td>\n",
              "    </tr>\n",
              "    <tr>\n",
              "      <th>16</th>\n",
              "      <td>MainScreenAppear</td>\n",
              "      <td>5839517684026830712</td>\n",
              "      <td>1564141421</td>\n",
              "      <td>247</td>\n",
              "    </tr>\n",
              "    <tr>\n",
              "      <th>17</th>\n",
              "      <td>MainScreenAppear</td>\n",
              "      <td>7540130374989658208</td>\n",
              "      <td>1564144283</td>\n",
              "      <td>248</td>\n",
              "    </tr>\n",
              "    <tr>\n",
              "      <th>18</th>\n",
              "      <td>CartScreenAppear</td>\n",
              "      <td>2575393697599976818</td>\n",
              "      <td>1564148945</td>\n",
              "      <td>247</td>\n",
              "    </tr>\n",
              "    <tr>\n",
              "      <th>19</th>\n",
              "      <td>MainScreenAppear</td>\n",
              "      <td>4651149533106703820</td>\n",
              "      <td>1564149866</td>\n",
              "      <td>246</td>\n",
              "    </tr>\n",
              "  </tbody>\n",
              "</table>\n",
              "</div>\n",
              "    <div class=\"colab-df-buttons\">\n",
              "\n",
              "  <div class=\"colab-df-container\">\n",
              "    <button class=\"colab-df-convert\" onclick=\"convertToInteractive('df-fd170f2e-41e5-48fe-8210-e511a274f586')\"\n",
              "            title=\"Convert this dataframe to an interactive table.\"\n",
              "            style=\"display:none;\">\n",
              "\n",
              "  <svg xmlns=\"http://www.w3.org/2000/svg\" height=\"24px\" viewBox=\"0 -960 960 960\">\n",
              "    <path d=\"M120-120v-720h720v720H120Zm60-500h600v-160H180v160Zm220 220h160v-160H400v160Zm0 220h160v-160H400v160ZM180-400h160v-160H180v160Zm440 0h160v-160H620v160ZM180-180h160v-160H180v160Zm440 0h160v-160H620v160Z\"/>\n",
              "  </svg>\n",
              "    </button>\n",
              "\n",
              "  <style>\n",
              "    .colab-df-container {\n",
              "      display:flex;\n",
              "      gap: 12px;\n",
              "    }\n",
              "\n",
              "    .colab-df-convert {\n",
              "      background-color: #E8F0FE;\n",
              "      border: none;\n",
              "      border-radius: 50%;\n",
              "      cursor: pointer;\n",
              "      display: none;\n",
              "      fill: #1967D2;\n",
              "      height: 32px;\n",
              "      padding: 0 0 0 0;\n",
              "      width: 32px;\n",
              "    }\n",
              "\n",
              "    .colab-df-convert:hover {\n",
              "      background-color: #E2EBFA;\n",
              "      box-shadow: 0px 1px 2px rgba(60, 64, 67, 0.3), 0px 1px 3px 1px rgba(60, 64, 67, 0.15);\n",
              "      fill: #174EA6;\n",
              "    }\n",
              "\n",
              "    .colab-df-buttons div {\n",
              "      margin-bottom: 4px;\n",
              "    }\n",
              "\n",
              "    [theme=dark] .colab-df-convert {\n",
              "      background-color: #3B4455;\n",
              "      fill: #D2E3FC;\n",
              "    }\n",
              "\n",
              "    [theme=dark] .colab-df-convert:hover {\n",
              "      background-color: #434B5C;\n",
              "      box-shadow: 0px 1px 3px 1px rgba(0, 0, 0, 0.15);\n",
              "      filter: drop-shadow(0px 1px 2px rgba(0, 0, 0, 0.3));\n",
              "      fill: #FFFFFF;\n",
              "    }\n",
              "  </style>\n",
              "\n",
              "    <script>\n",
              "      const buttonEl =\n",
              "        document.querySelector('#df-fd170f2e-41e5-48fe-8210-e511a274f586 button.colab-df-convert');\n",
              "      buttonEl.style.display =\n",
              "        google.colab.kernel.accessAllowed ? 'block' : 'none';\n",
              "\n",
              "      async function convertToInteractive(key) {\n",
              "        const element = document.querySelector('#df-fd170f2e-41e5-48fe-8210-e511a274f586');\n",
              "        const dataTable =\n",
              "          await google.colab.kernel.invokeFunction('convertToInteractive',\n",
              "                                                    [key], {});\n",
              "        if (!dataTable) return;\n",
              "\n",
              "        const docLinkHtml = 'Like what you see? Visit the ' +\n",
              "          '<a target=\"_blank\" href=https://colab.research.google.com/notebooks/data_table.ipynb>data table notebook</a>'\n",
              "          + ' to learn more about interactive tables.';\n",
              "        element.innerHTML = '';\n",
              "        dataTable['output_type'] = 'display_data';\n",
              "        await google.colab.output.renderOutput(dataTable, element);\n",
              "        const docLink = document.createElement('div');\n",
              "        docLink.innerHTML = docLinkHtml;\n",
              "        element.appendChild(docLink);\n",
              "      }\n",
              "    </script>\n",
              "  </div>\n",
              "\n",
              "\n",
              "<div id=\"df-19b370b6-3aea-40bc-9825-c9097511b85b\">\n",
              "  <button class=\"colab-df-quickchart\" onclick=\"quickchart('df-19b370b6-3aea-40bc-9825-c9097511b85b')\"\n",
              "            title=\"Suggest charts\"\n",
              "            style=\"display:none;\">\n",
              "\n",
              "<svg xmlns=\"http://www.w3.org/2000/svg\" height=\"24px\"viewBox=\"0 0 24 24\"\n",
              "     width=\"24px\">\n",
              "    <g>\n",
              "        <path d=\"M19 3H5c-1.1 0-2 .9-2 2v14c0 1.1.9 2 2 2h14c1.1 0 2-.9 2-2V5c0-1.1-.9-2-2-2zM9 17H7v-7h2v7zm4 0h-2V7h2v10zm4 0h-2v-4h2v4z\"/>\n",
              "    </g>\n",
              "</svg>\n",
              "  </button>\n",
              "\n",
              "<style>\n",
              "  .colab-df-quickchart {\n",
              "      --bg-color: #E8F0FE;\n",
              "      --fill-color: #1967D2;\n",
              "      --hover-bg-color: #E2EBFA;\n",
              "      --hover-fill-color: #174EA6;\n",
              "      --disabled-fill-color: #AAA;\n",
              "      --disabled-bg-color: #DDD;\n",
              "  }\n",
              "\n",
              "  [theme=dark] .colab-df-quickchart {\n",
              "      --bg-color: #3B4455;\n",
              "      --fill-color: #D2E3FC;\n",
              "      --hover-bg-color: #434B5C;\n",
              "      --hover-fill-color: #FFFFFF;\n",
              "      --disabled-bg-color: #3B4455;\n",
              "      --disabled-fill-color: #666;\n",
              "  }\n",
              "\n",
              "  .colab-df-quickchart {\n",
              "    background-color: var(--bg-color);\n",
              "    border: none;\n",
              "    border-radius: 50%;\n",
              "    cursor: pointer;\n",
              "    display: none;\n",
              "    fill: var(--fill-color);\n",
              "    height: 32px;\n",
              "    padding: 0;\n",
              "    width: 32px;\n",
              "  }\n",
              "\n",
              "  .colab-df-quickchart:hover {\n",
              "    background-color: var(--hover-bg-color);\n",
              "    box-shadow: 0 1px 2px rgba(60, 64, 67, 0.3), 0 1px 3px 1px rgba(60, 64, 67, 0.15);\n",
              "    fill: var(--button-hover-fill-color);\n",
              "  }\n",
              "\n",
              "  .colab-df-quickchart-complete:disabled,\n",
              "  .colab-df-quickchart-complete:disabled:hover {\n",
              "    background-color: var(--disabled-bg-color);\n",
              "    fill: var(--disabled-fill-color);\n",
              "    box-shadow: none;\n",
              "  }\n",
              "\n",
              "  .colab-df-spinner {\n",
              "    border: 2px solid var(--fill-color);\n",
              "    border-color: transparent;\n",
              "    border-bottom-color: var(--fill-color);\n",
              "    animation:\n",
              "      spin 1s steps(1) infinite;\n",
              "  }\n",
              "\n",
              "  @keyframes spin {\n",
              "    0% {\n",
              "      border-color: transparent;\n",
              "      border-bottom-color: var(--fill-color);\n",
              "      border-left-color: var(--fill-color);\n",
              "    }\n",
              "    20% {\n",
              "      border-color: transparent;\n",
              "      border-left-color: var(--fill-color);\n",
              "      border-top-color: var(--fill-color);\n",
              "    }\n",
              "    30% {\n",
              "      border-color: transparent;\n",
              "      border-left-color: var(--fill-color);\n",
              "      border-top-color: var(--fill-color);\n",
              "      border-right-color: var(--fill-color);\n",
              "    }\n",
              "    40% {\n",
              "      border-color: transparent;\n",
              "      border-right-color: var(--fill-color);\n",
              "      border-top-color: var(--fill-color);\n",
              "    }\n",
              "    60% {\n",
              "      border-color: transparent;\n",
              "      border-right-color: var(--fill-color);\n",
              "    }\n",
              "    80% {\n",
              "      border-color: transparent;\n",
              "      border-right-color: var(--fill-color);\n",
              "      border-bottom-color: var(--fill-color);\n",
              "    }\n",
              "    90% {\n",
              "      border-color: transparent;\n",
              "      border-bottom-color: var(--fill-color);\n",
              "    }\n",
              "  }\n",
              "</style>\n",
              "\n",
              "  <script>\n",
              "    async function quickchart(key) {\n",
              "      const quickchartButtonEl =\n",
              "        document.querySelector('#' + key + ' button');\n",
              "      quickchartButtonEl.disabled = true;  // To prevent multiple clicks.\n",
              "      quickchartButtonEl.classList.add('colab-df-spinner');\n",
              "      try {\n",
              "        const charts = await google.colab.kernel.invokeFunction(\n",
              "            'suggestCharts', [key], {});\n",
              "      } catch (error) {\n",
              "        console.error('Error during call to suggestCharts:', error);\n",
              "      }\n",
              "      quickchartButtonEl.classList.remove('colab-df-spinner');\n",
              "      quickchartButtonEl.classList.add('colab-df-quickchart-complete');\n",
              "    }\n",
              "    (() => {\n",
              "      let quickchartButtonEl =\n",
              "        document.querySelector('#df-19b370b6-3aea-40bc-9825-c9097511b85b button');\n",
              "      quickchartButtonEl.style.display =\n",
              "        google.colab.kernel.accessAllowed ? 'block' : 'none';\n",
              "    })();\n",
              "  </script>\n",
              "</div>\n",
              "    </div>\n",
              "  </div>\n"
            ],
            "application/vnd.google.colaboratory.intrinsic+json": {
              "type": "dataframe",
              "summary": "{\n  \"name\": \"data\",\n  \"rows\": 20,\n  \"fields\": [\n    {\n      \"column\": \"EventName\",\n      \"properties\": {\n        \"dtype\": \"category\",\n        \"num_unique_values\": 4,\n        \"samples\": [\n          \"PaymentScreenSuccessful\",\n          \"OffersScreenAppear\",\n          \"MainScreenAppear\"\n        ],\n        \"semantic_type\": \"\",\n        \"description\": \"\"\n      }\n    },\n    {\n      \"column\": \"DeviceIDHash\",\n      \"properties\": {\n        \"dtype\": \"number\",\n        \"std\": 2404222228171780096,\n        \"min\": 948465712512390382,\n        \"max\": 8947220251154009657,\n        \"num_unique_values\": 18,\n        \"samples\": [\n          4575588528974610257,\n          7416695313311560658,\n          948465712512390382\n        ],\n        \"semantic_type\": \"\",\n        \"description\": \"\"\n      }\n    },\n    {\n      \"column\": \"EventTimestamp\",\n      \"properties\": {\n        \"dtype\": \"number\",\n        \"std\": 40163,\n        \"min\": 1564029816,\n        \"max\": 1564149866,\n        \"num_unique_values\": 19,\n        \"samples\": [\n          1564029816,\n          1564066242,\n          1564124085\n        ],\n        \"semantic_type\": \"\",\n        \"description\": \"\"\n      }\n    },\n    {\n      \"column\": \"ExpId\",\n      \"properties\": {\n        \"dtype\": \"number\",\n        \"std\": 0,\n        \"min\": 246,\n        \"max\": 248,\n        \"num_unique_values\": 3,\n        \"samples\": [\n          246,\n          248,\n          247\n        ],\n        \"semantic_type\": \"\",\n        \"description\": \"\"\n      }\n    }\n  ]\n}"
            }
          },
          "metadata": {}
        },
        {
          "output_type": "stream",
          "name": "stdout",
          "text": [
            "<class 'pandas.core.frame.DataFrame'>\n",
            "RangeIndex: 135312 entries, 0 to 135311\n",
            "Data columns (total 4 columns):\n",
            " #   Column          Non-Null Count   Dtype \n",
            "---  ------          --------------   ----- \n",
            " 0   EventName       135312 non-null  object\n",
            " 1   DeviceIDHash    135312 non-null  int64 \n",
            " 2   EventTimestamp  135312 non-null  int64 \n",
            " 3   ExpId           135312 non-null  int64 \n",
            "dtypes: int64(3), object(1)\n",
            "memory usage: 4.1+ MB\n"
          ]
        }
      ],
      "source": [
        "#загрузка данных\n",
        "#data = pd.read_csv('/datasets/logs_exp.csv', sep='\\t')\n",
        "data = pd.read_csv('logs_exp.csv', sep='\\t')\n",
        "\n",
        "#вывод первых строк датафрейма\n",
        "display(data.head(20))\n",
        "\n",
        "#основная информация о датафрейме\n",
        "data.info()"
      ]
    },
    {
      "cell_type": "markdown",
      "metadata": {
        "id": "7YtQl3v_rtTG"
      },
      "source": [
        "Данные отображаются корректно. В качестве разделителя в датасете используется \"\\t\".\n",
        "\n",
        "На этапе предобработки необходимо:\n",
        "\n",
        " - переименовать столбцы и привести их названия к стилю snake_case;\n",
        " - привести значения даты и времени события (столбец **EventTimestamp**) к типу pandas datetime;\n",
        " - добавить отдельный столбец дат.\n",
        "\n",
        "Пропусков нет."
      ]
    },
    {
      "cell_type": "markdown",
      "metadata": {
        "id": "29ydXxiPrtTH"
      },
      "source": [
        "### Предобработка данных\n",
        "\n"
      ]
    },
    {
      "cell_type": "markdown",
      "source": [
        "#### Переименование столбцов"
      ],
      "metadata": {
        "id": "nUscVAKbyLVk"
      }
    },
    {
      "cell_type": "code",
      "execution_count": 3,
      "metadata": {
        "id": "wUGieS4MrtTI"
      },
      "outputs": [],
      "source": [
        "data.columns = ['event_type','user_id','event_time','exp_id']"
      ]
    },
    {
      "cell_type": "markdown",
      "metadata": {
        "id": "KhD6F3FprtTJ"
      },
      "source": [
        "#### Приведение значений сдаты и времени к типу данных pandas и добавление отдельного столбца дат"
      ]
    },
    {
      "cell_type": "code",
      "execution_count": 4,
      "metadata": {
        "colab": {
          "base_uri": "https://localhost:8080/",
          "height": 885
        },
        "id": "jwVce0qortTK",
        "outputId": "5eb6c0c6-389f-4ec9-d1ac-b05ed45ac0eb"
      },
      "outputs": [
        {
          "output_type": "display_data",
          "data": {
            "text/plain": [
              "                 event_type              user_id          event_time  exp_id  \\\n",
              "0          MainScreenAppear  4575588528974610257 2019-07-25 04:43:36     246   \n",
              "1          MainScreenAppear  7416695313311560658 2019-07-25 11:11:42     246   \n",
              "2   PaymentScreenSuccessful  3518123091307005509 2019-07-25 11:28:47     248   \n",
              "3          CartScreenAppear  3518123091307005509 2019-07-25 11:28:47     248   \n",
              "4   PaymentScreenSuccessful  6217807653094995999 2019-07-25 11:48:42     248   \n",
              "5          CartScreenAppear  6217807653094995999 2019-07-25 11:48:43     248   \n",
              "6        OffersScreenAppear  8351860793733343758 2019-07-25 14:50:42     246   \n",
              "7          MainScreenAppear  5682100281902512875 2019-07-25 20:14:37     246   \n",
              "8          MainScreenAppear  1850981295691852772 2019-07-25 20:31:42     247   \n",
              "9          MainScreenAppear  5407636962369102641 2019-07-26 03:35:12     246   \n",
              "10         MainScreenAppear   948465712512390382 2019-07-26 05:33:34     247   \n",
              "11         MainScreenAppear  2547684315586332355 2019-07-26 06:50:26     248   \n",
              "12         MainScreenAppear  8885295911290764495 2019-07-26 06:54:45     248   \n",
              "13         MainScreenAppear  2140904690380565988 2019-07-26 07:22:12     247   \n",
              "14         MainScreenAppear  4444236400320272864 2019-07-26 10:06:00     246   \n",
              "15         MainScreenAppear  8947220251154009657 2019-07-26 11:31:08     248   \n",
              "16         MainScreenAppear  5839517684026830712 2019-07-26 11:43:41     247   \n",
              "17         MainScreenAppear  7540130374989658208 2019-07-26 12:31:23     248   \n",
              "18         CartScreenAppear  2575393697599976818 2019-07-26 13:49:05     247   \n",
              "19         MainScreenAppear  4651149533106703820 2019-07-26 14:04:26     246   \n",
              "\n",
              "            dt  \n",
              "0   2019-07-25  \n",
              "1   2019-07-25  \n",
              "2   2019-07-25  \n",
              "3   2019-07-25  \n",
              "4   2019-07-25  \n",
              "5   2019-07-25  \n",
              "6   2019-07-25  \n",
              "7   2019-07-25  \n",
              "8   2019-07-25  \n",
              "9   2019-07-26  \n",
              "10  2019-07-26  \n",
              "11  2019-07-26  \n",
              "12  2019-07-26  \n",
              "13  2019-07-26  \n",
              "14  2019-07-26  \n",
              "15  2019-07-26  \n",
              "16  2019-07-26  \n",
              "17  2019-07-26  \n",
              "18  2019-07-26  \n",
              "19  2019-07-26  "
            ],
            "text/html": [
              "\n",
              "  <div id=\"df-b53fd192-2f0d-47a7-a305-8bb000d0c1ec\" class=\"colab-df-container\">\n",
              "    <div>\n",
              "<style scoped>\n",
              "    .dataframe tbody tr th:only-of-type {\n",
              "        vertical-align: middle;\n",
              "    }\n",
              "\n",
              "    .dataframe tbody tr th {\n",
              "        vertical-align: top;\n",
              "    }\n",
              "\n",
              "    .dataframe thead th {\n",
              "        text-align: right;\n",
              "    }\n",
              "</style>\n",
              "<table border=\"1\" class=\"dataframe\">\n",
              "  <thead>\n",
              "    <tr style=\"text-align: right;\">\n",
              "      <th></th>\n",
              "      <th>event_type</th>\n",
              "      <th>user_id</th>\n",
              "      <th>event_time</th>\n",
              "      <th>exp_id</th>\n",
              "      <th>dt</th>\n",
              "    </tr>\n",
              "  </thead>\n",
              "  <tbody>\n",
              "    <tr>\n",
              "      <th>0</th>\n",
              "      <td>MainScreenAppear</td>\n",
              "      <td>4575588528974610257</td>\n",
              "      <td>2019-07-25 04:43:36</td>\n",
              "      <td>246</td>\n",
              "      <td>2019-07-25</td>\n",
              "    </tr>\n",
              "    <tr>\n",
              "      <th>1</th>\n",
              "      <td>MainScreenAppear</td>\n",
              "      <td>7416695313311560658</td>\n",
              "      <td>2019-07-25 11:11:42</td>\n",
              "      <td>246</td>\n",
              "      <td>2019-07-25</td>\n",
              "    </tr>\n",
              "    <tr>\n",
              "      <th>2</th>\n",
              "      <td>PaymentScreenSuccessful</td>\n",
              "      <td>3518123091307005509</td>\n",
              "      <td>2019-07-25 11:28:47</td>\n",
              "      <td>248</td>\n",
              "      <td>2019-07-25</td>\n",
              "    </tr>\n",
              "    <tr>\n",
              "      <th>3</th>\n",
              "      <td>CartScreenAppear</td>\n",
              "      <td>3518123091307005509</td>\n",
              "      <td>2019-07-25 11:28:47</td>\n",
              "      <td>248</td>\n",
              "      <td>2019-07-25</td>\n",
              "    </tr>\n",
              "    <tr>\n",
              "      <th>4</th>\n",
              "      <td>PaymentScreenSuccessful</td>\n",
              "      <td>6217807653094995999</td>\n",
              "      <td>2019-07-25 11:48:42</td>\n",
              "      <td>248</td>\n",
              "      <td>2019-07-25</td>\n",
              "    </tr>\n",
              "    <tr>\n",
              "      <th>5</th>\n",
              "      <td>CartScreenAppear</td>\n",
              "      <td>6217807653094995999</td>\n",
              "      <td>2019-07-25 11:48:43</td>\n",
              "      <td>248</td>\n",
              "      <td>2019-07-25</td>\n",
              "    </tr>\n",
              "    <tr>\n",
              "      <th>6</th>\n",
              "      <td>OffersScreenAppear</td>\n",
              "      <td>8351860793733343758</td>\n",
              "      <td>2019-07-25 14:50:42</td>\n",
              "      <td>246</td>\n",
              "      <td>2019-07-25</td>\n",
              "    </tr>\n",
              "    <tr>\n",
              "      <th>7</th>\n",
              "      <td>MainScreenAppear</td>\n",
              "      <td>5682100281902512875</td>\n",
              "      <td>2019-07-25 20:14:37</td>\n",
              "      <td>246</td>\n",
              "      <td>2019-07-25</td>\n",
              "    </tr>\n",
              "    <tr>\n",
              "      <th>8</th>\n",
              "      <td>MainScreenAppear</td>\n",
              "      <td>1850981295691852772</td>\n",
              "      <td>2019-07-25 20:31:42</td>\n",
              "      <td>247</td>\n",
              "      <td>2019-07-25</td>\n",
              "    </tr>\n",
              "    <tr>\n",
              "      <th>9</th>\n",
              "      <td>MainScreenAppear</td>\n",
              "      <td>5407636962369102641</td>\n",
              "      <td>2019-07-26 03:35:12</td>\n",
              "      <td>246</td>\n",
              "      <td>2019-07-26</td>\n",
              "    </tr>\n",
              "    <tr>\n",
              "      <th>10</th>\n",
              "      <td>MainScreenAppear</td>\n",
              "      <td>948465712512390382</td>\n",
              "      <td>2019-07-26 05:33:34</td>\n",
              "      <td>247</td>\n",
              "      <td>2019-07-26</td>\n",
              "    </tr>\n",
              "    <tr>\n",
              "      <th>11</th>\n",
              "      <td>MainScreenAppear</td>\n",
              "      <td>2547684315586332355</td>\n",
              "      <td>2019-07-26 06:50:26</td>\n",
              "      <td>248</td>\n",
              "      <td>2019-07-26</td>\n",
              "    </tr>\n",
              "    <tr>\n",
              "      <th>12</th>\n",
              "      <td>MainScreenAppear</td>\n",
              "      <td>8885295911290764495</td>\n",
              "      <td>2019-07-26 06:54:45</td>\n",
              "      <td>248</td>\n",
              "      <td>2019-07-26</td>\n",
              "    </tr>\n",
              "    <tr>\n",
              "      <th>13</th>\n",
              "      <td>MainScreenAppear</td>\n",
              "      <td>2140904690380565988</td>\n",
              "      <td>2019-07-26 07:22:12</td>\n",
              "      <td>247</td>\n",
              "      <td>2019-07-26</td>\n",
              "    </tr>\n",
              "    <tr>\n",
              "      <th>14</th>\n",
              "      <td>MainScreenAppear</td>\n",
              "      <td>4444236400320272864</td>\n",
              "      <td>2019-07-26 10:06:00</td>\n",
              "      <td>246</td>\n",
              "      <td>2019-07-26</td>\n",
              "    </tr>\n",
              "    <tr>\n",
              "      <th>15</th>\n",
              "      <td>MainScreenAppear</td>\n",
              "      <td>8947220251154009657</td>\n",
              "      <td>2019-07-26 11:31:08</td>\n",
              "      <td>248</td>\n",
              "      <td>2019-07-26</td>\n",
              "    </tr>\n",
              "    <tr>\n",
              "      <th>16</th>\n",
              "      <td>MainScreenAppear</td>\n",
              "      <td>5839517684026830712</td>\n",
              "      <td>2019-07-26 11:43:41</td>\n",
              "      <td>247</td>\n",
              "      <td>2019-07-26</td>\n",
              "    </tr>\n",
              "    <tr>\n",
              "      <th>17</th>\n",
              "      <td>MainScreenAppear</td>\n",
              "      <td>7540130374989658208</td>\n",
              "      <td>2019-07-26 12:31:23</td>\n",
              "      <td>248</td>\n",
              "      <td>2019-07-26</td>\n",
              "    </tr>\n",
              "    <tr>\n",
              "      <th>18</th>\n",
              "      <td>CartScreenAppear</td>\n",
              "      <td>2575393697599976818</td>\n",
              "      <td>2019-07-26 13:49:05</td>\n",
              "      <td>247</td>\n",
              "      <td>2019-07-26</td>\n",
              "    </tr>\n",
              "    <tr>\n",
              "      <th>19</th>\n",
              "      <td>MainScreenAppear</td>\n",
              "      <td>4651149533106703820</td>\n",
              "      <td>2019-07-26 14:04:26</td>\n",
              "      <td>246</td>\n",
              "      <td>2019-07-26</td>\n",
              "    </tr>\n",
              "  </tbody>\n",
              "</table>\n",
              "</div>\n",
              "    <div class=\"colab-df-buttons\">\n",
              "\n",
              "  <div class=\"colab-df-container\">\n",
              "    <button class=\"colab-df-convert\" onclick=\"convertToInteractive('df-b53fd192-2f0d-47a7-a305-8bb000d0c1ec')\"\n",
              "            title=\"Convert this dataframe to an interactive table.\"\n",
              "            style=\"display:none;\">\n",
              "\n",
              "  <svg xmlns=\"http://www.w3.org/2000/svg\" height=\"24px\" viewBox=\"0 -960 960 960\">\n",
              "    <path d=\"M120-120v-720h720v720H120Zm60-500h600v-160H180v160Zm220 220h160v-160H400v160Zm0 220h160v-160H400v160ZM180-400h160v-160H180v160Zm440 0h160v-160H620v160ZM180-180h160v-160H180v160Zm440 0h160v-160H620v160Z\"/>\n",
              "  </svg>\n",
              "    </button>\n",
              "\n",
              "  <style>\n",
              "    .colab-df-container {\n",
              "      display:flex;\n",
              "      gap: 12px;\n",
              "    }\n",
              "\n",
              "    .colab-df-convert {\n",
              "      background-color: #E8F0FE;\n",
              "      border: none;\n",
              "      border-radius: 50%;\n",
              "      cursor: pointer;\n",
              "      display: none;\n",
              "      fill: #1967D2;\n",
              "      height: 32px;\n",
              "      padding: 0 0 0 0;\n",
              "      width: 32px;\n",
              "    }\n",
              "\n",
              "    .colab-df-convert:hover {\n",
              "      background-color: #E2EBFA;\n",
              "      box-shadow: 0px 1px 2px rgba(60, 64, 67, 0.3), 0px 1px 3px 1px rgba(60, 64, 67, 0.15);\n",
              "      fill: #174EA6;\n",
              "    }\n",
              "\n",
              "    .colab-df-buttons div {\n",
              "      margin-bottom: 4px;\n",
              "    }\n",
              "\n",
              "    [theme=dark] .colab-df-convert {\n",
              "      background-color: #3B4455;\n",
              "      fill: #D2E3FC;\n",
              "    }\n",
              "\n",
              "    [theme=dark] .colab-df-convert:hover {\n",
              "      background-color: #434B5C;\n",
              "      box-shadow: 0px 1px 3px 1px rgba(0, 0, 0, 0.15);\n",
              "      filter: drop-shadow(0px 1px 2px rgba(0, 0, 0, 0.3));\n",
              "      fill: #FFFFFF;\n",
              "    }\n",
              "  </style>\n",
              "\n",
              "    <script>\n",
              "      const buttonEl =\n",
              "        document.querySelector('#df-b53fd192-2f0d-47a7-a305-8bb000d0c1ec button.colab-df-convert');\n",
              "      buttonEl.style.display =\n",
              "        google.colab.kernel.accessAllowed ? 'block' : 'none';\n",
              "\n",
              "      async function convertToInteractive(key) {\n",
              "        const element = document.querySelector('#df-b53fd192-2f0d-47a7-a305-8bb000d0c1ec');\n",
              "        const dataTable =\n",
              "          await google.colab.kernel.invokeFunction('convertToInteractive',\n",
              "                                                    [key], {});\n",
              "        if (!dataTable) return;\n",
              "\n",
              "        const docLinkHtml = 'Like what you see? Visit the ' +\n",
              "          '<a target=\"_blank\" href=https://colab.research.google.com/notebooks/data_table.ipynb>data table notebook</a>'\n",
              "          + ' to learn more about interactive tables.';\n",
              "        element.innerHTML = '';\n",
              "        dataTable['output_type'] = 'display_data';\n",
              "        await google.colab.output.renderOutput(dataTable, element);\n",
              "        const docLink = document.createElement('div');\n",
              "        docLink.innerHTML = docLinkHtml;\n",
              "        element.appendChild(docLink);\n",
              "      }\n",
              "    </script>\n",
              "  </div>\n",
              "\n",
              "\n",
              "<div id=\"df-e9d0adca-04b1-4aed-8ae4-998ef95eae5a\">\n",
              "  <button class=\"colab-df-quickchart\" onclick=\"quickchart('df-e9d0adca-04b1-4aed-8ae4-998ef95eae5a')\"\n",
              "            title=\"Suggest charts\"\n",
              "            style=\"display:none;\">\n",
              "\n",
              "<svg xmlns=\"http://www.w3.org/2000/svg\" height=\"24px\"viewBox=\"0 0 24 24\"\n",
              "     width=\"24px\">\n",
              "    <g>\n",
              "        <path d=\"M19 3H5c-1.1 0-2 .9-2 2v14c0 1.1.9 2 2 2h14c1.1 0 2-.9 2-2V5c0-1.1-.9-2-2-2zM9 17H7v-7h2v7zm4 0h-2V7h2v10zm4 0h-2v-4h2v4z\"/>\n",
              "    </g>\n",
              "</svg>\n",
              "  </button>\n",
              "\n",
              "<style>\n",
              "  .colab-df-quickchart {\n",
              "      --bg-color: #E8F0FE;\n",
              "      --fill-color: #1967D2;\n",
              "      --hover-bg-color: #E2EBFA;\n",
              "      --hover-fill-color: #174EA6;\n",
              "      --disabled-fill-color: #AAA;\n",
              "      --disabled-bg-color: #DDD;\n",
              "  }\n",
              "\n",
              "  [theme=dark] .colab-df-quickchart {\n",
              "      --bg-color: #3B4455;\n",
              "      --fill-color: #D2E3FC;\n",
              "      --hover-bg-color: #434B5C;\n",
              "      --hover-fill-color: #FFFFFF;\n",
              "      --disabled-bg-color: #3B4455;\n",
              "      --disabled-fill-color: #666;\n",
              "  }\n",
              "\n",
              "  .colab-df-quickchart {\n",
              "    background-color: var(--bg-color);\n",
              "    border: none;\n",
              "    border-radius: 50%;\n",
              "    cursor: pointer;\n",
              "    display: none;\n",
              "    fill: var(--fill-color);\n",
              "    height: 32px;\n",
              "    padding: 0;\n",
              "    width: 32px;\n",
              "  }\n",
              "\n",
              "  .colab-df-quickchart:hover {\n",
              "    background-color: var(--hover-bg-color);\n",
              "    box-shadow: 0 1px 2px rgba(60, 64, 67, 0.3), 0 1px 3px 1px rgba(60, 64, 67, 0.15);\n",
              "    fill: var(--button-hover-fill-color);\n",
              "  }\n",
              "\n",
              "  .colab-df-quickchart-complete:disabled,\n",
              "  .colab-df-quickchart-complete:disabled:hover {\n",
              "    background-color: var(--disabled-bg-color);\n",
              "    fill: var(--disabled-fill-color);\n",
              "    box-shadow: none;\n",
              "  }\n",
              "\n",
              "  .colab-df-spinner {\n",
              "    border: 2px solid var(--fill-color);\n",
              "    border-color: transparent;\n",
              "    border-bottom-color: var(--fill-color);\n",
              "    animation:\n",
              "      spin 1s steps(1) infinite;\n",
              "  }\n",
              "\n",
              "  @keyframes spin {\n",
              "    0% {\n",
              "      border-color: transparent;\n",
              "      border-bottom-color: var(--fill-color);\n",
              "      border-left-color: var(--fill-color);\n",
              "    }\n",
              "    20% {\n",
              "      border-color: transparent;\n",
              "      border-left-color: var(--fill-color);\n",
              "      border-top-color: var(--fill-color);\n",
              "    }\n",
              "    30% {\n",
              "      border-color: transparent;\n",
              "      border-left-color: var(--fill-color);\n",
              "      border-top-color: var(--fill-color);\n",
              "      border-right-color: var(--fill-color);\n",
              "    }\n",
              "    40% {\n",
              "      border-color: transparent;\n",
              "      border-right-color: var(--fill-color);\n",
              "      border-top-color: var(--fill-color);\n",
              "    }\n",
              "    60% {\n",
              "      border-color: transparent;\n",
              "      border-right-color: var(--fill-color);\n",
              "    }\n",
              "    80% {\n",
              "      border-color: transparent;\n",
              "      border-right-color: var(--fill-color);\n",
              "      border-bottom-color: var(--fill-color);\n",
              "    }\n",
              "    90% {\n",
              "      border-color: transparent;\n",
              "      border-bottom-color: var(--fill-color);\n",
              "    }\n",
              "  }\n",
              "</style>\n",
              "\n",
              "  <script>\n",
              "    async function quickchart(key) {\n",
              "      const quickchartButtonEl =\n",
              "        document.querySelector('#' + key + ' button');\n",
              "      quickchartButtonEl.disabled = true;  // To prevent multiple clicks.\n",
              "      quickchartButtonEl.classList.add('colab-df-spinner');\n",
              "      try {\n",
              "        const charts = await google.colab.kernel.invokeFunction(\n",
              "            'suggestCharts', [key], {});\n",
              "      } catch (error) {\n",
              "        console.error('Error during call to suggestCharts:', error);\n",
              "      }\n",
              "      quickchartButtonEl.classList.remove('colab-df-spinner');\n",
              "      quickchartButtonEl.classList.add('colab-df-quickchart-complete');\n",
              "    }\n",
              "    (() => {\n",
              "      let quickchartButtonEl =\n",
              "        document.querySelector('#df-e9d0adca-04b1-4aed-8ae4-998ef95eae5a button');\n",
              "      quickchartButtonEl.style.display =\n",
              "        google.colab.kernel.accessAllowed ? 'block' : 'none';\n",
              "    })();\n",
              "  </script>\n",
              "</div>\n",
              "    </div>\n",
              "  </div>\n"
            ],
            "application/vnd.google.colaboratory.intrinsic+json": {
              "type": "dataframe",
              "summary": "{\n  \"name\": \"data\",\n  \"rows\": 20,\n  \"fields\": [\n    {\n      \"column\": \"event_type\",\n      \"properties\": {\n        \"dtype\": \"category\",\n        \"num_unique_values\": 4,\n        \"samples\": [\n          \"PaymentScreenSuccessful\",\n          \"OffersScreenAppear\",\n          \"MainScreenAppear\"\n        ],\n        \"semantic_type\": \"\",\n        \"description\": \"\"\n      }\n    },\n    {\n      \"column\": \"user_id\",\n      \"properties\": {\n        \"dtype\": \"number\",\n        \"std\": 2404222228171780096,\n        \"min\": 948465712512390382,\n        \"max\": 8947220251154009657,\n        \"num_unique_values\": 18,\n        \"samples\": [\n          4575588528974610257,\n          7416695313311560658,\n          948465712512390382\n        ],\n        \"semantic_type\": \"\",\n        \"description\": \"\"\n      }\n    },\n    {\n      \"column\": \"event_time\",\n      \"properties\": {\n        \"dtype\": \"date\",\n        \"min\": \"2019-07-25 04:43:36\",\n        \"max\": \"2019-07-26 14:04:26\",\n        \"num_unique_values\": 19,\n        \"samples\": [\n          \"2019-07-25 04:43:36\",\n          \"2019-07-25 14:50:42\",\n          \"2019-07-26 06:54:45\"\n        ],\n        \"semantic_type\": \"\",\n        \"description\": \"\"\n      }\n    },\n    {\n      \"column\": \"exp_id\",\n      \"properties\": {\n        \"dtype\": \"number\",\n        \"std\": 0,\n        \"min\": 246,\n        \"max\": 248,\n        \"num_unique_values\": 3,\n        \"samples\": [\n          246,\n          248,\n          247\n        ],\n        \"semantic_type\": \"\",\n        \"description\": \"\"\n      }\n    },\n    {\n      \"column\": \"dt\",\n      \"properties\": {\n        \"dtype\": \"date\",\n        \"min\": \"2019-07-25\",\n        \"max\": \"2019-07-26\",\n        \"num_unique_values\": 2,\n        \"samples\": [\n          \"2019-07-26\",\n          \"2019-07-25\"\n        ],\n        \"semantic_type\": \"\",\n        \"description\": \"\"\n      }\n    }\n  ]\n}"
            }
          },
          "metadata": {}
        },
        {
          "output_type": "stream",
          "name": "stdout",
          "text": [
            "<class 'pandas.core.frame.DataFrame'>\n",
            "RangeIndex: 135312 entries, 0 to 135311\n",
            "Data columns (total 5 columns):\n",
            " #   Column      Non-Null Count   Dtype         \n",
            "---  ------      --------------   -----         \n",
            " 0   event_type  135312 non-null  object        \n",
            " 1   user_id     135312 non-null  int64         \n",
            " 2   event_time  135312 non-null  datetime64[ns]\n",
            " 3   exp_id      135312 non-null  int64         \n",
            " 4   dt          135312 non-null  object        \n",
            "dtypes: datetime64[ns](1), int64(2), object(2)\n",
            "memory usage: 5.2+ MB\n"
          ]
        }
      ],
      "source": [
        "#приведение значений сдаты и времени к типу данных pandas\n",
        "data['event_time'] = data['event_time'].map(lambda x: dt.fromtimestamp(x))\n",
        "\n",
        "#добавление отдельного столбца дат\n",
        "data['dt'] = data['event_time'].dt.date\n",
        "\n",
        "#вывод первых строк датафрейма\n",
        "display(data.head(20))\n",
        "\n",
        "#основная информация о датафрейме\n",
        "data.info()"
      ]
    },
    {
      "cell_type": "markdown",
      "metadata": {
        "id": "c9dk7bYKrtTL"
      },
      "source": [
        "#### Обработка дубликатов"
      ]
    },
    {
      "cell_type": "code",
      "execution_count": 5,
      "metadata": {
        "colab": {
          "base_uri": "https://localhost:8080/",
          "height": 35
        },
        "id": "poy9feQLrtTL",
        "outputId": "7a6e3e1f-932e-4396-b11e-98464caa141f"
      },
      "outputs": [
        {
          "output_type": "execute_result",
          "data": {
            "text/plain": [
              "'Количество дубликатов сток в датафрейме: 260'"
            ],
            "application/vnd.google.colaboratory.intrinsic+json": {
              "type": "string"
            }
          },
          "metadata": {},
          "execution_count": 5
        }
      ],
      "source": [
        "f'Количество дубликатов сток в датафрейме: {data.duplicated().sum()}'"
      ]
    },
    {
      "cell_type": "code",
      "execution_count": 6,
      "metadata": {
        "id": "G_5Fcw9WrtTM"
      },
      "outputs": [],
      "source": [
        "#удаление дубликатов\n",
        "data = data.drop_duplicates()"
      ]
    },
    {
      "cell_type": "markdown",
      "metadata": {
        "id": "oYqztRbirtTN"
      },
      "source": [
        "### Вывод по разделу подготовки данных\n",
        "\n",
        "Данные загружены, названия столбцов переименованы и приведены к стилю snake_case. Столбец, содержащий даты, приведён к типу данных pandas datetime. Добавлен столбец с датами.\n",
        "\n",
        "Удалены 413 дублирующихся строк."
      ]
    },
    {
      "cell_type": "markdown",
      "metadata": {
        "id": "dmsba8isrtTO"
      },
      "source": [
        "## Исследовательский анализ данных\n",
        "\n",
        "\n",
        "\n"
      ]
    },
    {
      "cell_type": "markdown",
      "source": [
        "### Изучение данных и проверка их на наличие аномалий и ошибок"
      ],
      "metadata": {
        "id": "fdPVKdunyQrD"
      }
    },
    {
      "cell_type": "markdown",
      "source": [
        "#### Количество событий, пользователей и их соотношение"
      ],
      "metadata": {
        "id": "6LyFCVDDySOS"
      }
    },
    {
      "cell_type": "code",
      "execution_count": 7,
      "metadata": {
        "colab": {
          "base_uri": "https://localhost:8080/",
          "height": 107
        },
        "id": "ojzMocItrtTP",
        "outputId": "44a5e6d2-7056-463c-95db-2d592bf1e584"
      },
      "outputs": [
        {
          "output_type": "display_data",
          "data": {
            "text/plain": [
              "\"Типы событий: ['MainScreenAppear' 'PaymentScreenSuccessful' 'CartScreenAppear'\\n 'OffersScreenAppear' 'Tutorial']\""
            ],
            "application/vnd.google.colaboratory.intrinsic+json": {
              "type": "string"
            }
          },
          "metadata": {}
        },
        {
          "output_type": "display_data",
          "data": {
            "text/plain": [
              "'Общее количество событий: 135052'"
            ],
            "application/vnd.google.colaboratory.intrinsic+json": {
              "type": "string"
            }
          },
          "metadata": {}
        },
        {
          "output_type": "display_data",
          "data": {
            "text/plain": [
              "'Количество пользователей: 6576'"
            ],
            "application/vnd.google.colaboratory.intrinsic+json": {
              "type": "string"
            }
          },
          "metadata": {}
        },
        {
          "output_type": "display_data",
          "data": {
            "text/plain": [
              "'Среднее количество событий на пользователя:'"
            ],
            "application/vnd.google.colaboratory.intrinsic+json": {
              "type": "string"
            }
          },
          "metadata": {}
        },
        {
          "output_type": "display_data",
          "data": {
            "text/plain": [
              "'20.54'"
            ],
            "application/vnd.google.colaboratory.intrinsic+json": {
              "type": "string"
            }
          },
          "metadata": {}
        }
      ],
      "source": [
        "display(\n",
        "    f'Типы событий: {data[\"event_type\"].unique()}',\n",
        "    f'Общее количество событий: {len(data[\"event_type\"])}',\n",
        "    f'Количество пользователей: {data[\"user_id\"].nunique()}',\n",
        "    f'Среднее количество событий на пользователя:',\n",
        "    f'{data.groupby(\"user_id\")[\"event_type\"].agg(\"count\").mean():.2f}'\n",
        ")\n"
      ]
    },
    {
      "cell_type": "markdown",
      "metadata": {
        "id": "2yGHhFNMrtTQ"
      },
      "source": [
        "Изучим показатель количества событий на пользователя более подробно: оценим характер распределения этого значения, выведем его основные характеристики и гистограмму распределения значений."
      ]
    },
    {
      "cell_type": "code",
      "execution_count": 8,
      "metadata": {
        "colab": {
          "base_uri": "https://localhost:8080/",
          "height": 771
        },
        "id": "8f9dlz1yrtTQ",
        "outputId": "19eb4b17-ffd4-4f4d-816b-86e1b6d1c761"
      },
      "outputs": [
        {
          "output_type": "display_data",
          "data": {
            "text/plain": [
              "<Figure size 1500x500 with 1 Axes>"
            ],
            "image/png": "[encoded data removed]"
          },
          "metadata": {}
        },
        {
          "output_type": "execute_result",
          "data": {
            "text/plain": [
              "            events\n",
              "count  6576.000000\n",
              "mean     20.537105\n",
              "std      51.533604\n",
              "min       1.000000\n",
              "25%       6.000000\n",
              "50%      12.000000\n",
              "75%      24.000000\n",
              "max    2281.000000"
            ],
            "text/html": [
              "\n",
              "  <div id=\"df-b247537c-0512-41c4-a5e1-03965ec2fe1c\" class=\"colab-df-container\">\n",
              "    <div>\n",
              "<style scoped>\n",
              "    .dataframe tbody tr th:only-of-type {\n",
              "        vertical-align: middle;\n",
              "    }\n",
              "\n",
              "    .dataframe tbody tr th {\n",
              "        vertical-align: top;\n",
              "    }\n",
              "\n",
              "    .dataframe thead th {\n",
              "        text-align: right;\n",
              "    }\n",
              "</style>\n",
              "<table border=\"1\" class=\"dataframe\">\n",
              "  <thead>\n",
              "    <tr style=\"text-align: right;\">\n",
              "      <th></th>\n",
              "      <th>events</th>\n",
              "    </tr>\n",
              "  </thead>\n",
              "  <tbody>\n",
              "    <tr>\n",
              "      <th>count</th>\n",
              "      <td>6576.000000</td>\n",
              "    </tr>\n",
              "    <tr>\n",
              "      <th>mean</th>\n",
              "      <td>20.537105</td>\n",
              "    </tr>\n",
              "    <tr>\n",
              "      <th>std</th>\n",
              "      <td>51.533604</td>\n",
              "    </tr>\n",
              "    <tr>\n",
              "      <th>min</th>\n",
              "      <td>1.000000</td>\n",
              "    </tr>\n",
              "    <tr>\n",
              "      <th>25%</th>\n",
              "      <td>6.000000</td>\n",
              "    </tr>\n",
              "    <tr>\n",
              "      <th>50%</th>\n",
              "      <td>12.000000</td>\n",
              "    </tr>\n",
              "    <tr>\n",
              "      <th>75%</th>\n",
              "      <td>24.000000</td>\n",
              "    </tr>\n",
              "    <tr>\n",
              "      <th>max</th>\n",
              "      <td>2281.000000</td>\n",
              "    </tr>\n",
              "  </tbody>\n",
              "</table>\n",
              "</div>\n",
              "    <div class=\"colab-df-buttons\">\n",
              "\n",
              "  <div class=\"colab-df-container\">\n",
              "    <button class=\"colab-df-convert\" onclick=\"convertToInteractive('df-b247537c-0512-41c4-a5e1-03965ec2fe1c')\"\n",
              "            title=\"Convert this dataframe to an interactive table.\"\n",
              "            style=\"display:none;\">\n",
              "\n",
              "  <svg xmlns=\"http://www.w3.org/2000/svg\" height=\"24px\" viewBox=\"0 -960 960 960\">\n",
              "    <path d=\"M120-120v-720h720v720H120Zm60-500h600v-160H180v160Zm220 220h160v-160H400v160Zm0 220h160v-160H400v160ZM180-400h160v-160H180v160Zm440 0h160v-160H620v160ZM180-180h160v-160H180v160Zm440 0h160v-160H620v160Z\"/>\n",
              "  </svg>\n",
              "    </button>\n",
              "\n",
              "  <style>\n",
              "    .colab-df-container {\n",
              "      display:flex;\n",
              "      gap: 12px;\n",
              "    }\n",
              "\n",
              "    .colab-df-convert {\n",
              "      background-color: #E8F0FE;\n",
              "      border: none;\n",
              "      border-radius: 50%;\n",
              "      cursor: pointer;\n",
              "      display: none;\n",
              "      fill: #1967D2;\n",
              "      height: 32px;\n",
              "      padding: 0 0 0 0;\n",
              "      width: 32px;\n",
              "    }\n",
              "\n",
              "    .colab-df-convert:hover {\n",
              "      background-color: #E2EBFA;\n",
              "      box-shadow: 0px 1px 2px rgba(60, 64, 67, 0.3), 0px 1px 3px 1px rgba(60, 64, 67, 0.15);\n",
              "      fill: #174EA6;\n",
              "    }\n",
              "\n",
              "    .colab-df-buttons div {\n",
              "      margin-bottom: 4px;\n",
              "    }\n",
              "\n",
              "    [theme=dark] .colab-df-convert {\n",
              "      background-color: #3B4455;\n",
              "      fill: #D2E3FC;\n",
              "    }\n",
              "\n",
              "    [theme=dark] .colab-df-convert:hover {\n",
              "      background-color: #434B5C;\n",
              "      box-shadow: 0px 1px 3px 1px rgba(0, 0, 0, 0.15);\n",
              "      filter: drop-shadow(0px 1px 2px rgba(0, 0, 0, 0.3));\n",
              "      fill: #FFFFFF;\n",
              "    }\n",
              "  </style>\n",
              "\n",
              "    <script>\n",
              "      const buttonEl =\n",
              "        document.querySelector('#df-b247537c-0512-41c4-a5e1-03965ec2fe1c button.colab-df-convert');\n",
              "      buttonEl.style.display =\n",
              "        google.colab.kernel.accessAllowed ? 'block' : 'none';\n",
              "\n",
              "      async function convertToInteractive(key) {\n",
              "        const element = document.querySelector('#df-b247537c-0512-41c4-a5e1-03965ec2fe1c');\n",
              "        const dataTable =\n",
              "          await google.colab.kernel.invokeFunction('convertToInteractive',\n",
              "                                                    [key], {});\n",
              "        if (!dataTable) return;\n",
              "\n",
              "        const docLinkHtml = 'Like what you see? Visit the ' +\n",
              "          '<a target=\"_blank\" href=https://colab.research.google.com/notebooks/data_table.ipynb>data table notebook</a>'\n",
              "          + ' to learn more about interactive tables.';\n",
              "        element.innerHTML = '';\n",
              "        dataTable['output_type'] = 'display_data';\n",
              "        await google.colab.output.renderOutput(dataTable, element);\n",
              "        const docLink = document.createElement('div');\n",
              "        docLink.innerHTML = docLinkHtml;\n",
              "        element.appendChild(docLink);\n",
              "      }\n",
              "    </script>\n",
              "  </div>\n",
              "\n",
              "\n",
              "<div id=\"df-086ac413-eeb8-4cd7-b340-0e8410b7ae03\">\n",
              "  <button class=\"colab-df-quickchart\" onclick=\"quickchart('df-086ac413-eeb8-4cd7-b340-0e8410b7ae03')\"\n",
              "            title=\"Suggest charts\"\n",
              "            style=\"display:none;\">\n",
              "\n",
              "<svg xmlns=\"http://www.w3.org/2000/svg\" height=\"24px\"viewBox=\"0 0 24 24\"\n",
              "     width=\"24px\">\n",
              "    <g>\n",
              "        <path d=\"M19 3H5c-1.1 0-2 .9-2 2v14c0 1.1.9 2 2 2h14c1.1 0 2-.9 2-2V5c0-1.1-.9-2-2-2zM9 17H7v-7h2v7zm4 0h-2V7h2v10zm4 0h-2v-4h2v4z\"/>\n",
              "    </g>\n",
              "</svg>\n",
              "  </button>\n",
              "\n",
              "<style>\n",
              "  .colab-df-quickchart {\n",
              "      --bg-color: #E8F0FE;\n",
              "      --fill-color: #1967D2;\n",
              "      --hover-bg-color: #E2EBFA;\n",
              "      --hover-fill-color: #174EA6;\n",
              "      --disabled-fill-color: #AAA;\n",
              "      --disabled-bg-color: #DDD;\n",
              "  }\n",
              "\n",
              "  [theme=dark] .colab-df-quickchart {\n",
              "      --bg-color: #3B4455;\n",
              "      --fill-color: #D2E3FC;\n",
              "      --hover-bg-color: #434B5C;\n",
              "      --hover-fill-color: #FFFFFF;\n",
              "      --disabled-bg-color: #3B4455;\n",
              "      --disabled-fill-color: #666;\n",
              "  }\n",
              "\n",
              "  .colab-df-quickchart {\n",
              "    background-color: var(--bg-color);\n",
              "    border: none;\n",
              "    border-radius: 50%;\n",
              "    cursor: pointer;\n",
              "    display: none;\n",
              "    fill: var(--fill-color);\n",
              "    height: 32px;\n",
              "    padding: 0;\n",
              "    width: 32px;\n",
              "  }\n",
              "\n",
              "  .colab-df-quickchart:hover {\n",
              "    background-color: var(--hover-bg-color);\n",
              "    box-shadow: 0 1px 2px rgba(60, 64, 67, 0.3), 0 1px 3px 1px rgba(60, 64, 67, 0.15);\n",
              "    fill: var(--button-hover-fill-color);\n",
              "  }\n",
              "\n",
              "  .colab-df-quickchart-complete:disabled,\n",
              "  .colab-df-quickchart-complete:disabled:hover {\n",
              "    background-color: var(--disabled-bg-color);\n",
              "    fill: var(--disabled-fill-color);\n",
              "    box-shadow: none;\n",
              "  }\n",
              "\n",
              "  .colab-df-spinner {\n",
              "    border: 2px solid var(--fill-color);\n",
              "    border-color: transparent;\n",
              "    border-bottom-color: var(--fill-color);\n",
              "    animation:\n",
              "      spin 1s steps(1) infinite;\n",
              "  }\n",
              "\n",
              "  @keyframes spin {\n",
              "    0% {\n",
              "      border-color: transparent;\n",
              "      border-bottom-color: var(--fill-color);\n",
              "      border-left-color: var(--fill-color);\n",
              "    }\n",
              "    20% {\n",
              "      border-color: transparent;\n",
              "      border-left-color: var(--fill-color);\n",
              "      border-top-color: var(--fill-color);\n",
              "    }\n",
              "    30% {\n",
              "      border-color: transparent;\n",
              "      border-left-color: var(--fill-color);\n",
              "      border-top-color: var(--fill-color);\n",
              "      border-right-color: var(--fill-color);\n",
              "    }\n",
              "    40% {\n",
              "      border-color: transparent;\n",
              "      border-right-color: var(--fill-color);\n",
              "      border-top-color: var(--fill-color);\n",
              "    }\n",
              "    60% {\n",
              "      border-color: transparent;\n",
              "      border-right-color: var(--fill-color);\n",
              "    }\n",
              "    80% {\n",
              "      border-color: transparent;\n",
              "      border-right-color: var(--fill-color);\n",
              "      border-bottom-color: var(--fill-color);\n",
              "    }\n",
              "    90% {\n",
              "      border-color: transparent;\n",
              "      border-bottom-color: var(--fill-color);\n",
              "    }\n",
              "  }\n",
              "</style>\n",
              "\n",
              "  <script>\n",
              "    async function quickchart(key) {\n",
              "      const quickchartButtonEl =\n",
              "        document.querySelector('#' + key + ' button');\n",
              "      quickchartButtonEl.disabled = true;  // To prevent multiple clicks.\n",
              "      quickchartButtonEl.classList.add('colab-df-spinner');\n",
              "      try {\n",
              "        const charts = await google.colab.kernel.invokeFunction(\n",
              "            'suggestCharts', [key], {});\n",
              "      } catch (error) {\n",
              "        console.error('Error during call to suggestCharts:', error);\n",
              "      }\n",
              "      quickchartButtonEl.classList.remove('colab-df-spinner');\n",
              "      quickchartButtonEl.classList.add('colab-df-quickchart-complete');\n",
              "    }\n",
              "    (() => {\n",
              "      let quickchartButtonEl =\n",
              "        document.querySelector('#df-086ac413-eeb8-4cd7-b340-0e8410b7ae03 button');\n",
              "      quickchartButtonEl.style.display =\n",
              "        google.colab.kernel.accessAllowed ? 'block' : 'none';\n",
              "    })();\n",
              "  </script>\n",
              "</div>\n",
              "    </div>\n",
              "  </div>\n"
            ],
            "application/vnd.google.colaboratory.intrinsic+json": {
              "type": "dataframe",
              "summary": "{\n  \"name\": \"events_by_users\",\n  \"rows\": 8,\n  \"fields\": [\n    {\n      \"column\": \"events\",\n      \"properties\": {\n        \"dtype\": \"number\",\n        \"std\": 2341.803788413202,\n        \"min\": 1.0,\n        \"max\": 6576.0,\n        \"num_unique_values\": 8,\n        \"samples\": [\n          20.537104622871045,\n          12.0,\n          6576.0\n        ],\n        \"semantic_type\": \"\",\n        \"description\": \"\"\n      }\n    }\n  ]\n}"
            }
          },
          "metadata": {},
          "execution_count": 8
        }
      ],
      "source": [
        "events_by_users = data.pivot_table(index='user_id', values='event_type', aggfunc='count')\n",
        "events_by_users.columns = ['events']\n",
        "\n",
        "events_by_users['events'].hist(\n",
        "    bins=460,\n",
        "    figsize=(15,5)\n",
        ")\n",
        "\n",
        "plt.title('Гистограмма распределения количества событий на пользователя')\n",
        "plt.xlabel('Значения количества событий на пользователя')\n",
        "plt.ylabel('Частота значений')\n",
        "plt.show()\n",
        "events_by_users.describe()"
      ]
    },
    {
      "cell_type": "markdown",
      "metadata": {
        "id": "-Oqm93VFrtTR"
      },
      "source": [
        "Медианное значение 20, что сильно отличается от среднего, стандартное отклонение 65, что при среднем в 32 говорит о большом разбросе значений.\n",
        "\n",
        "Минимальное значение 1, максимальное 2307. Основное количество значений сосредоточено между 1 и 79 (верхнаяя граница выбросов, равная Q3 + 1,5 * IQR). на гистограмме виден \"хвост\" из редких, но больших значений.\n",
        "\n",
        "Построим гистограмму, отбросив \"хвост\" из аномально больших значений."
      ]
    },
    {
      "cell_type": "code",
      "execution_count": 9,
      "metadata": {
        "colab": {
          "base_uri": "https://localhost:8080/",
          "height": 771
        },
        "id": "p9CdZYQyrtTS",
        "outputId": "5fe0bed1-5c5c-498b-af48-370e793dc79a"
      },
      "outputs": [
        {
          "output_type": "display_data",
          "data": {
            "text/plain": [
              "<Figure size 1500x500 with 1 Axes>"
            ],
            "image/png": "[encoded data removed]"
          },
          "metadata": {}
        },
        {
          "output_type": "execute_result",
          "data": {
            "text/plain": [
              "            events\n",
              "count  6418.000000\n",
              "mean     16.419757\n",
              "std      14.489566\n",
              "min       1.000000\n",
              "25%       6.000000\n",
              "50%      12.000000\n",
              "75%      23.000000\n",
              "max      78.000000"
            ],
            "text/html": [
              "\n",
              "  <div id=\"df-e27aa565-c62f-4da1-a69b-5d5e5444121c\" class=\"colab-df-container\">\n",
              "    <div>\n",
              "<style scoped>\n",
              "    .dataframe tbody tr th:only-of-type {\n",
              "        vertical-align: middle;\n",
              "    }\n",
              "\n",
              "    .dataframe tbody tr th {\n",
              "        vertical-align: top;\n",
              "    }\n",
              "\n",
              "    .dataframe thead th {\n",
              "        text-align: right;\n",
              "    }\n",
              "</style>\n",
              "<table border=\"1\" class=\"dataframe\">\n",
              "  <thead>\n",
              "    <tr style=\"text-align: right;\">\n",
              "      <th></th>\n",
              "      <th>events</th>\n",
              "    </tr>\n",
              "  </thead>\n",
              "  <tbody>\n",
              "    <tr>\n",
              "      <th>count</th>\n",
              "      <td>6418.000000</td>\n",
              "    </tr>\n",
              "    <tr>\n",
              "      <th>mean</th>\n",
              "      <td>16.419757</td>\n",
              "    </tr>\n",
              "    <tr>\n",
              "      <th>std</th>\n",
              "      <td>14.489566</td>\n",
              "    </tr>\n",
              "    <tr>\n",
              "      <th>min</th>\n",
              "      <td>1.000000</td>\n",
              "    </tr>\n",
              "    <tr>\n",
              "      <th>25%</th>\n",
              "      <td>6.000000</td>\n",
              "    </tr>\n",
              "    <tr>\n",
              "      <th>50%</th>\n",
              "      <td>12.000000</td>\n",
              "    </tr>\n",
              "    <tr>\n",
              "      <th>75%</th>\n",
              "      <td>23.000000</td>\n",
              "    </tr>\n",
              "    <tr>\n",
              "      <th>max</th>\n",
              "      <td>78.000000</td>\n",
              "    </tr>\n",
              "  </tbody>\n",
              "</table>\n",
              "</div>\n",
              "    <div class=\"colab-df-buttons\">\n",
              "\n",
              "  <div class=\"colab-df-container\">\n",
              "    <button class=\"colab-df-convert\" onclick=\"convertToInteractive('df-e27aa565-c62f-4da1-a69b-5d5e5444121c')\"\n",
              "            title=\"Convert this dataframe to an interactive table.\"\n",
              "            style=\"display:none;\">\n",
              "\n",
              "  <svg xmlns=\"http://www.w3.org/2000/svg\" height=\"24px\" viewBox=\"0 -960 960 960\">\n",
              "    <path d=\"M120-120v-720h720v720H120Zm60-500h600v-160H180v160Zm220 220h160v-160H400v160Zm0 220h160v-160H400v160ZM180-400h160v-160H180v160Zm440 0h160v-160H620v160ZM180-180h160v-160H180v160Zm440 0h160v-160H620v160Z\"/>\n",
              "  </svg>\n",
              "    </button>\n",
              "\n",
              "  <style>\n",
              "    .colab-df-container {\n",
              "      display:flex;\n",
              "      gap: 12px;\n",
              "    }\n",
              "\n",
              "    .colab-df-convert {\n",
              "      background-color: #E8F0FE;\n",
              "      border: none;\n",
              "      border-radius: 50%;\n",
              "      cursor: pointer;\n",
              "      display: none;\n",
              "      fill: #1967D2;\n",
              "      height: 32px;\n",
              "      padding: 0 0 0 0;\n",
              "      width: 32px;\n",
              "    }\n",
              "\n",
              "    .colab-df-convert:hover {\n",
              "      background-color: #E2EBFA;\n",
              "      box-shadow: 0px 1px 2px rgba(60, 64, 67, 0.3), 0px 1px 3px 1px rgba(60, 64, 67, 0.15);\n",
              "      fill: #174EA6;\n",
              "    }\n",
              "\n",
              "    .colab-df-buttons div {\n",
              "      margin-bottom: 4px;\n",
              "    }\n",
              "\n",
              "    [theme=dark] .colab-df-convert {\n",
              "      background-color: #3B4455;\n",
              "      fill: #D2E3FC;\n",
              "    }\n",
              "\n",
              "    [theme=dark] .colab-df-convert:hover {\n",
              "      background-color: #434B5C;\n",
              "      box-shadow: 0px 1px 3px 1px rgba(0, 0, 0, 0.15);\n",
              "      filter: drop-shadow(0px 1px 2px rgba(0, 0, 0, 0.3));\n",
              "      fill: #FFFFFF;\n",
              "    }\n",
              "  </style>\n",
              "\n",
              "    <script>\n",
              "      const buttonEl =\n",
              "        document.querySelector('#df-e27aa565-c62f-4da1-a69b-5d5e5444121c button.colab-df-convert');\n",
              "      buttonEl.style.display =\n",
              "        google.colab.kernel.accessAllowed ? 'block' : 'none';\n",
              "\n",
              "      async function convertToInteractive(key) {\n",
              "        const element = document.querySelector('#df-e27aa565-c62f-4da1-a69b-5d5e5444121c');\n",
              "        const dataTable =\n",
              "          await google.colab.kernel.invokeFunction('convertToInteractive',\n",
              "                                                    [key], {});\n",
              "        if (!dataTable) return;\n",
              "\n",
              "        const docLinkHtml = 'Like what you see? Visit the ' +\n",
              "          '<a target=\"_blank\" href=https://colab.research.google.com/notebooks/data_table.ipynb>data table notebook</a>'\n",
              "          + ' to learn more about interactive tables.';\n",
              "        element.innerHTML = '';\n",
              "        dataTable['output_type'] = 'display_data';\n",
              "        await google.colab.output.renderOutput(dataTable, element);\n",
              "        const docLink = document.createElement('div');\n",
              "        docLink.innerHTML = docLinkHtml;\n",
              "        element.appendChild(docLink);\n",
              "      }\n",
              "    </script>\n",
              "  </div>\n",
              "\n",
              "\n",
              "<div id=\"df-eef2fb5d-02e9-4844-857e-da404e100c27\">\n",
              "  <button class=\"colab-df-quickchart\" onclick=\"quickchart('df-eef2fb5d-02e9-4844-857e-da404e100c27')\"\n",
              "            title=\"Suggest charts\"\n",
              "            style=\"display:none;\">\n",
              "\n",
              "<svg xmlns=\"http://www.w3.org/2000/svg\" height=\"24px\"viewBox=\"0 0 24 24\"\n",
              "     width=\"24px\">\n",
              "    <g>\n",
              "        <path d=\"M19 3H5c-1.1 0-2 .9-2 2v14c0 1.1.9 2 2 2h14c1.1 0 2-.9 2-2V5c0-1.1-.9-2-2-2zM9 17H7v-7h2v7zm4 0h-2V7h2v10zm4 0h-2v-4h2v4z\"/>\n",
              "    </g>\n",
              "</svg>\n",
              "  </button>\n",
              "\n",
              "<style>\n",
              "  .colab-df-quickchart {\n",
              "      --bg-color: #E8F0FE;\n",
              "      --fill-color: #1967D2;\n",
              "      --hover-bg-color: #E2EBFA;\n",
              "      --hover-fill-color: #174EA6;\n",
              "      --disabled-fill-color: #AAA;\n",
              "      --disabled-bg-color: #DDD;\n",
              "  }\n",
              "\n",
              "  [theme=dark] .colab-df-quickchart {\n",
              "      --bg-color: #3B4455;\n",
              "      --fill-color: #D2E3FC;\n",
              "      --hover-bg-color: #434B5C;\n",
              "      --hover-fill-color: #FFFFFF;\n",
              "      --disabled-bg-color: #3B4455;\n",
              "      --disabled-fill-color: #666;\n",
              "  }\n",
              "\n",
              "  .colab-df-quickchart {\n",
              "    background-color: var(--bg-color);\n",
              "    border: none;\n",
              "    border-radius: 50%;\n",
              "    cursor: pointer;\n",
              "    display: none;\n",
              "    fill: var(--fill-color);\n",
              "    height: 32px;\n",
              "    padding: 0;\n",
              "    width: 32px;\n",
              "  }\n",
              "\n",
              "  .colab-df-quickchart:hover {\n",
              "    background-color: var(--hover-bg-color);\n",
              "    box-shadow: 0 1px 2px rgba(60, 64, 67, 0.3), 0 1px 3px 1px rgba(60, 64, 67, 0.15);\n",
              "    fill: var(--button-hover-fill-color);\n",
              "  }\n",
              "\n",
              "  .colab-df-quickchart-complete:disabled,\n",
              "  .colab-df-quickchart-complete:disabled:hover {\n",
              "    background-color: var(--disabled-bg-color);\n",
              "    fill: var(--disabled-fill-color);\n",
              "    box-shadow: none;\n",
              "  }\n",
              "\n",
              "  .colab-df-spinner {\n",
              "    border: 2px solid var(--fill-color);\n",
              "    border-color: transparent;\n",
              "    border-bottom-color: var(--fill-color);\n",
              "    animation:\n",
              "      spin 1s steps(1) infinite;\n",
              "  }\n",
              "\n",
              "  @keyframes spin {\n",
              "    0% {\n",
              "      border-color: transparent;\n",
              "      border-bottom-color: var(--fill-color);\n",
              "      border-left-color: var(--fill-color);\n",
              "    }\n",
              "    20% {\n",
              "      border-color: transparent;\n",
              "      border-left-color: var(--fill-color);\n",
              "      border-top-color: var(--fill-color);\n",
              "    }\n",
              "    30% {\n",
              "      border-color: transparent;\n",
              "      border-left-color: var(--fill-color);\n",
              "      border-top-color: var(--fill-color);\n",
              "      border-right-color: var(--fill-color);\n",
              "    }\n",
              "    40% {\n",
              "      border-color: transparent;\n",
              "      border-right-color: var(--fill-color);\n",
              "      border-top-color: var(--fill-color);\n",
              "    }\n",
              "    60% {\n",
              "      border-color: transparent;\n",
              "      border-right-color: var(--fill-color);\n",
              "    }\n",
              "    80% {\n",
              "      border-color: transparent;\n",
              "      border-right-color: var(--fill-color);\n",
              "      border-bottom-color: var(--fill-color);\n",
              "    }\n",
              "    90% {\n",
              "      border-color: transparent;\n",
              "      border-bottom-color: var(--fill-color);\n",
              "    }\n",
              "  }\n",
              "</style>\n",
              "\n",
              "  <script>\n",
              "    async function quickchart(key) {\n",
              "      const quickchartButtonEl =\n",
              "        document.querySelector('#' + key + ' button');\n",
              "      quickchartButtonEl.disabled = true;  // To prevent multiple clicks.\n",
              "      quickchartButtonEl.classList.add('colab-df-spinner');\n",
              "      try {\n",
              "        const charts = await google.colab.kernel.invokeFunction(\n",
              "            'suggestCharts', [key], {});\n",
              "      } catch (error) {\n",
              "        console.error('Error during call to suggestCharts:', error);\n",
              "      }\n",
              "      quickchartButtonEl.classList.remove('colab-df-spinner');\n",
              "      quickchartButtonEl.classList.add('colab-df-quickchart-complete');\n",
              "    }\n",
              "    (() => {\n",
              "      let quickchartButtonEl =\n",
              "        document.querySelector('#df-eef2fb5d-02e9-4844-857e-da404e100c27 button');\n",
              "      quickchartButtonEl.style.display =\n",
              "        google.colab.kernel.accessAllowed ? 'block' : 'none';\n",
              "    })();\n",
              "  </script>\n",
              "</div>\n",
              "    </div>\n",
              "  </div>\n"
            ],
            "application/vnd.google.colaboratory.intrinsic+json": {
              "type": "dataframe",
              "summary": "{\n  \"name\": \"events_by_users\",\n  \"rows\": 8,\n  \"fields\": [\n    {\n      \"column\": \"events\",\n      \"properties\": {\n        \"dtype\": \"number\",\n        \"std\": 2261.6105621883753,\n        \"min\": 1.0,\n        \"max\": 6418.0,\n        \"num_unique_values\": 8,\n        \"samples\": [\n          16.419756933624182,\n          12.0,\n          6418.0\n        ],\n        \"semantic_type\": \"\",\n        \"description\": \"\"\n      }\n    }\n  ]\n}"
            }
          },
          "metadata": {},
          "execution_count": 9
        }
      ],
      "source": [
        "events_by_users.query('events <= 79')['events'].hist(\n",
        "    bins=79,\n",
        "    figsize=(15,5)\n",
        ")\n",
        "\n",
        "plt.title('Гистограмма распределения количества событий на пользователя')\n",
        "plt.xlabel('Значения количества событий на пользователя')\n",
        "plt.ylabel('Частота значений')\n",
        "\n",
        "plt.show()\n",
        "events_by_users.query('events < 79').describe()\n"
      ]
    },
    {
      "cell_type": "markdown",
      "metadata": {
        "id": "xFw_0FRNrtTT"
      },
      "source": [
        "Гистограмма выглядит характерно для биноминального распределения с малой вероятностью события относительно количества попыток.\n",
        "\n",
        "Редкие большие значения, выглядящие аномальными, скорее всего, говорят о самых активных пользователях, которые тратят много времени в приложении, и аномалиями не являются."
      ]
    },
    {
      "cell_type": "markdown",
      "metadata": {
        "id": "Rbi7Y2CNrtTU"
      },
      "source": [
        "#### Период, данные за который содержит датасет. Диаграмма количества событий по дате для разных групп"
      ]
    },
    {
      "cell_type": "code",
      "execution_count": 10,
      "metadata": {
        "colab": {
          "base_uri": "https://localhost:8080/",
          "height": 35
        },
        "id": "CDQ-mFO1rtTU",
        "outputId": "db548a76-ff37-46c3-ba30-9f2cdcc82069"
      },
      "outputs": [
        {
          "output_type": "execute_result",
          "data": {
            "text/plain": [
              "'В логе содержатся данные с 2019-07-25 04:43:36 по 2019-08-04 17:46:37'"
            ],
            "application/vnd.google.colaboratory.intrinsic+json": {
              "type": "string"
            }
          },
          "metadata": {},
          "execution_count": 10
        }
      ],
      "source": [
        "f'В логе содержатся данные с {data[\"event_time\"].min()} по {data[\"event_time\"].max()}'"
      ]
    },
    {
      "cell_type": "code",
      "execution_count": 11,
      "metadata": {
        "colab": {
          "base_uri": "https://localhost:8080/",
          "height": 1000
        },
        "id": "sE13zG89rtTV",
        "outputId": "fc8563fc-7232-4b76-ecfd-ff4a97b4a5f6"
      },
      "outputs": [
        {
          "output_type": "display_data",
          "data": {
            "text/plain": [
              "            dt    246    247    248\n",
              "0   2019-07-25      4      1      4\n",
              "1   2019-07-26     14      8      9\n",
              "2   2019-07-27     24     23      8\n",
              "3   2019-07-28     33     36     36\n",
              "4   2019-07-29     55     58     71\n",
              "5   2019-07-30    129    138    145\n",
              "6   2019-07-31    620    664    746\n",
              "7   2019-08-01  11561  12306  12274\n",
              "8   2019-08-02  10946  10990  13618\n",
              "9   2019-08-03  10575  11024  11683\n",
              "10  2019-08-04   9576   8087   9586"
            ],
            "text/html": [
              "\n",
              "  <div id=\"df-ed013ca4-b56b-4462-b578-b7adb2c70d8d\" class=\"colab-df-container\">\n",
              "    <div>\n",
              "<style scoped>\n",
              "    .dataframe tbody tr th:only-of-type {\n",
              "        vertical-align: middle;\n",
              "    }\n",
              "\n",
              "    .dataframe tbody tr th {\n",
              "        vertical-align: top;\n",
              "    }\n",
              "\n",
              "    .dataframe thead th {\n",
              "        text-align: right;\n",
              "    }\n",
              "</style>\n",
              "<table border=\"1\" class=\"dataframe\">\n",
              "  <thead>\n",
              "    <tr style=\"text-align: right;\">\n",
              "      <th></th>\n",
              "      <th>dt</th>\n",
              "      <th>246</th>\n",
              "      <th>247</th>\n",
              "      <th>248</th>\n",
              "    </tr>\n",
              "  </thead>\n",
              "  <tbody>\n",
              "    <tr>\n",
              "      <th>0</th>\n",
              "      <td>2019-07-25</td>\n",
              "      <td>4</td>\n",
              "      <td>1</td>\n",
              "      <td>4</td>\n",
              "    </tr>\n",
              "    <tr>\n",
              "      <th>1</th>\n",
              "      <td>2019-07-26</td>\n",
              "      <td>14</td>\n",
              "      <td>8</td>\n",
              "      <td>9</td>\n",
              "    </tr>\n",
              "    <tr>\n",
              "      <th>2</th>\n",
              "      <td>2019-07-27</td>\n",
              "      <td>24</td>\n",
              "      <td>23</td>\n",
              "      <td>8</td>\n",
              "    </tr>\n",
              "    <tr>\n",
              "      <th>3</th>\n",
              "      <td>2019-07-28</td>\n",
              "      <td>33</td>\n",
              "      <td>36</td>\n",
              "      <td>36</td>\n",
              "    </tr>\n",
              "    <tr>\n",
              "      <th>4</th>\n",
              "      <td>2019-07-29</td>\n",
              "      <td>55</td>\n",
              "      <td>58</td>\n",
              "      <td>71</td>\n",
              "    </tr>\n",
              "    <tr>\n",
              "      <th>5</th>\n",
              "      <td>2019-07-30</td>\n",
              "      <td>129</td>\n",
              "      <td>138</td>\n",
              "      <td>145</td>\n",
              "    </tr>\n",
              "    <tr>\n",
              "      <th>6</th>\n",
              "      <td>2019-07-31</td>\n",
              "      <td>620</td>\n",
              "      <td>664</td>\n",
              "      <td>746</td>\n",
              "    </tr>\n",
              "    <tr>\n",
              "      <th>7</th>\n",
              "      <td>2019-08-01</td>\n",
              "      <td>11561</td>\n",
              "      <td>12306</td>\n",
              "      <td>12274</td>\n",
              "    </tr>\n",
              "    <tr>\n",
              "      <th>8</th>\n",
              "      <td>2019-08-02</td>\n",
              "      <td>10946</td>\n",
              "      <td>10990</td>\n",
              "      <td>13618</td>\n",
              "    </tr>\n",
              "    <tr>\n",
              "      <th>9</th>\n",
              "      <td>2019-08-03</td>\n",
              "      <td>10575</td>\n",
              "      <td>11024</td>\n",
              "      <td>11683</td>\n",
              "    </tr>\n",
              "    <tr>\n",
              "      <th>10</th>\n",
              "      <td>2019-08-04</td>\n",
              "      <td>9576</td>\n",
              "      <td>8087</td>\n",
              "      <td>9586</td>\n",
              "    </tr>\n",
              "  </tbody>\n",
              "</table>\n",
              "</div>\n",
              "    <div class=\"colab-df-buttons\">\n",
              "\n",
              "  <div class=\"colab-df-container\">\n",
              "    <button class=\"colab-df-convert\" onclick=\"convertToInteractive('df-ed013ca4-b56b-4462-b578-b7adb2c70d8d')\"\n",
              "            title=\"Convert this dataframe to an interactive table.\"\n",
              "            style=\"display:none;\">\n",
              "\n",
              "  <svg xmlns=\"http://www.w3.org/2000/svg\" height=\"24px\" viewBox=\"0 -960 960 960\">\n",
              "    <path d=\"M120-120v-720h720v720H120Zm60-500h600v-160H180v160Zm220 220h160v-160H400v160Zm0 220h160v-160H400v160ZM180-400h160v-160H180v160Zm440 0h160v-160H620v160ZM180-180h160v-160H180v160Zm440 0h160v-160H620v160Z\"/>\n",
              "  </svg>\n",
              "    </button>\n",
              "\n",
              "  <style>\n",
              "    .colab-df-container {\n",
              "      display:flex;\n",
              "      gap: 12px;\n",
              "    }\n",
              "\n",
              "    .colab-df-convert {\n",
              "      background-color: #E8F0FE;\n",
              "      border: none;\n",
              "      border-radius: 50%;\n",
              "      cursor: pointer;\n",
              "      display: none;\n",
              "      fill: #1967D2;\n",
              "      height: 32px;\n",
              "      padding: 0 0 0 0;\n",
              "      width: 32px;\n",
              "    }\n",
              "\n",
              "    .colab-df-convert:hover {\n",
              "      background-color: #E2EBFA;\n",
              "      box-shadow: 0px 1px 2px rgba(60, 64, 67, 0.3), 0px 1px 3px 1px rgba(60, 64, 67, 0.15);\n",
              "      fill: #174EA6;\n",
              "    }\n",
              "\n",
              "    .colab-df-buttons div {\n",
              "      margin-bottom: 4px;\n",
              "    }\n",
              "\n",
              "    [theme=dark] .colab-df-convert {\n",
              "      background-color: #3B4455;\n",
              "      fill: #D2E3FC;\n",
              "    }\n",
              "\n",
              "    [theme=dark] .colab-df-convert:hover {\n",
              "      background-color: #434B5C;\n",
              "      box-shadow: 0px 1px 3px 1px rgba(0, 0, 0, 0.15);\n",
              "      filter: drop-shadow(0px 1px 2px rgba(0, 0, 0, 0.3));\n",
              "      fill: #FFFFFF;\n",
              "    }\n",
              "  </style>\n",
              "\n",
              "    <script>\n",
              "      const buttonEl =\n",
              "        document.querySelector('#df-ed013ca4-b56b-4462-b578-b7adb2c70d8d button.colab-df-convert');\n",
              "      buttonEl.style.display =\n",
              "        google.colab.kernel.accessAllowed ? 'block' : 'none';\n",
              "\n",
              "      async function convertToInteractive(key) {\n",
              "        const element = document.querySelector('#df-ed013ca4-b56b-4462-b578-b7adb2c70d8d');\n",
              "        const dataTable =\n",
              "          await google.colab.kernel.invokeFunction('convertToInteractive',\n",
              "                                                    [key], {});\n",
              "        if (!dataTable) return;\n",
              "\n",
              "        const docLinkHtml = 'Like what you see? Visit the ' +\n",
              "          '<a target=\"_blank\" href=https://colab.research.google.com/notebooks/data_table.ipynb>data table notebook</a>'\n",
              "          + ' to learn more about interactive tables.';\n",
              "        element.innerHTML = '';\n",
              "        dataTable['output_type'] = 'display_data';\n",
              "        await google.colab.output.renderOutput(dataTable, element);\n",
              "        const docLink = document.createElement('div');\n",
              "        docLink.innerHTML = docLinkHtml;\n",
              "        element.appendChild(docLink);\n",
              "      }\n",
              "    </script>\n",
              "  </div>\n",
              "\n",
              "\n",
              "<div id=\"df-c11c4f40-123a-41e5-8f7d-ea9c08f733fe\">\n",
              "  <button class=\"colab-df-quickchart\" onclick=\"quickchart('df-c11c4f40-123a-41e5-8f7d-ea9c08f733fe')\"\n",
              "            title=\"Suggest charts\"\n",
              "            style=\"display:none;\">\n",
              "\n",
              "<svg xmlns=\"http://www.w3.org/2000/svg\" height=\"24px\"viewBox=\"0 0 24 24\"\n",
              "     width=\"24px\">\n",
              "    <g>\n",
              "        <path d=\"M19 3H5c-1.1 0-2 .9-2 2v14c0 1.1.9 2 2 2h14c1.1 0 2-.9 2-2V5c0-1.1-.9-2-2-2zM9 17H7v-7h2v7zm4 0h-2V7h2v10zm4 0h-2v-4h2v4z\"/>\n",
              "    </g>\n",
              "</svg>\n",
              "  </button>\n",
              "\n",
              "<style>\n",
              "  .colab-df-quickchart {\n",
              "      --bg-color: #E8F0FE;\n",
              "      --fill-color: #1967D2;\n",
              "      --hover-bg-color: #E2EBFA;\n",
              "      --hover-fill-color: #174EA6;\n",
              "      --disabled-fill-color: #AAA;\n",
              "      --disabled-bg-color: #DDD;\n",
              "  }\n",
              "\n",
              "  [theme=dark] .colab-df-quickchart {\n",
              "      --bg-color: #3B4455;\n",
              "      --fill-color: #D2E3FC;\n",
              "      --hover-bg-color: #434B5C;\n",
              "      --hover-fill-color: #FFFFFF;\n",
              "      --disabled-bg-color: #3B4455;\n",
              "      --disabled-fill-color: #666;\n",
              "  }\n",
              "\n",
              "  .colab-df-quickchart {\n",
              "    background-color: var(--bg-color);\n",
              "    border: none;\n",
              "    border-radius: 50%;\n",
              "    cursor: pointer;\n",
              "    display: none;\n",
              "    fill: var(--fill-color);\n",
              "    height: 32px;\n",
              "    padding: 0;\n",
              "    width: 32px;\n",
              "  }\n",
              "\n",
              "  .colab-df-quickchart:hover {\n",
              "    background-color: var(--hover-bg-color);\n",
              "    box-shadow: 0 1px 2px rgba(60, 64, 67, 0.3), 0 1px 3px 1px rgba(60, 64, 67, 0.15);\n",
              "    fill: var(--button-hover-fill-color);\n",
              "  }\n",
              "\n",
              "  .colab-df-quickchart-complete:disabled,\n",
              "  .colab-df-quickchart-complete:disabled:hover {\n",
              "    background-color: var(--disabled-bg-color);\n",
              "    fill: var(--disabled-fill-color);\n",
              "    box-shadow: none;\n",
              "  }\n",
              "\n",
              "  .colab-df-spinner {\n",
              "    border: 2px solid var(--fill-color);\n",
              "    border-color: transparent;\n",
              "    border-bottom-color: var(--fill-color);\n",
              "    animation:\n",
              "      spin 1s steps(1) infinite;\n",
              "  }\n",
              "\n",
              "  @keyframes spin {\n",
              "    0% {\n",
              "      border-color: transparent;\n",
              "      border-bottom-color: var(--fill-color);\n",
              "      border-left-color: var(--fill-color);\n",
              "    }\n",
              "    20% {\n",
              "      border-color: transparent;\n",
              "      border-left-color: var(--fill-color);\n",
              "      border-top-color: var(--fill-color);\n",
              "    }\n",
              "    30% {\n",
              "      border-color: transparent;\n",
              "      border-left-color: var(--fill-color);\n",
              "      border-top-color: var(--fill-color);\n",
              "      border-right-color: var(--fill-color);\n",
              "    }\n",
              "    40% {\n",
              "      border-color: transparent;\n",
              "      border-right-color: var(--fill-color);\n",
              "      border-top-color: var(--fill-color);\n",
              "    }\n",
              "    60% {\n",
              "      border-color: transparent;\n",
              "      border-right-color: var(--fill-color);\n",
              "    }\n",
              "    80% {\n",
              "      border-color: transparent;\n",
              "      border-right-color: var(--fill-color);\n",
              "      border-bottom-color: var(--fill-color);\n",
              "    }\n",
              "    90% {\n",
              "      border-color: transparent;\n",
              "      border-bottom-color: var(--fill-color);\n",
              "    }\n",
              "  }\n",
              "</style>\n",
              "\n",
              "  <script>\n",
              "    async function quickchart(key) {\n",
              "      const quickchartButtonEl =\n",
              "        document.querySelector('#' + key + ' button');\n",
              "      quickchartButtonEl.disabled = true;  // To prevent multiple clicks.\n",
              "      quickchartButtonEl.classList.add('colab-df-spinner');\n",
              "      try {\n",
              "        const charts = await google.colab.kernel.invokeFunction(\n",
              "            'suggestCharts', [key], {});\n",
              "      } catch (error) {\n",
              "        console.error('Error during call to suggestCharts:', error);\n",
              "      }\n",
              "      quickchartButtonEl.classList.remove('colab-df-spinner');\n",
              "      quickchartButtonEl.classList.add('colab-df-quickchart-complete');\n",
              "    }\n",
              "    (() => {\n",
              "      let quickchartButtonEl =\n",
              "        document.querySelector('#df-c11c4f40-123a-41e5-8f7d-ea9c08f733fe button');\n",
              "      quickchartButtonEl.style.display =\n",
              "        google.colab.kernel.accessAllowed ? 'block' : 'none';\n",
              "    })();\n",
              "  </script>\n",
              "</div>\n",
              "    </div>\n",
              "  </div>\n"
            ],
            "application/vnd.google.colaboratory.intrinsic+json": {
              "type": "dataframe",
              "variable_name": "events_date_groups",
              "summary": "{\n  \"name\": \"events_date_groups\",\n  \"rows\": 11,\n  \"fields\": [\n    {\n      \"column\": \"dt\",\n      \"properties\": {\n        \"dtype\": \"date\",\n        \"min\": \"2019-07-25\",\n        \"max\": \"2019-08-04\",\n        \"num_unique_values\": 11,\n        \"samples\": [\n          \"2019-07-30\",\n          \"2019-07-25\",\n          \"2019-08-03\"\n        ],\n        \"semantic_type\": \"\",\n        \"description\": \"\"\n      }\n    },\n    {\n      \"column\": \"246\",\n      \"properties\": {\n        \"dtype\": \"number\",\n        \"std\": 5339,\n        \"min\": 4,\n        \"max\": 11561,\n        \"num_unique_values\": 11,\n        \"samples\": [\n          129,\n          4,\n          10575\n        ],\n        \"semantic_type\": \"\",\n        \"description\": \"\"\n      }\n    },\n    {\n      \"column\": \"247\",\n      \"properties\": {\n        \"dtype\": \"number\",\n        \"std\": 5374,\n        \"min\": 1,\n        \"max\": 12306,\n        \"num_unique_values\": 11,\n        \"samples\": [\n          138,\n          1,\n          11024\n        ],\n        \"semantic_type\": \"\",\n        \"description\": \"\"\n      }\n    },\n    {\n      \"column\": \"248\",\n      \"properties\": {\n        \"dtype\": \"number\",\n        \"std\": 5950,\n        \"min\": 4,\n        \"max\": 13618,\n        \"num_unique_values\": 11,\n        \"samples\": [\n          145,\n          4,\n          11683\n        ],\n        \"semantic_type\": \"\",\n        \"description\": \"\"\n      }\n    }\n  ]\n}"
            }
          },
          "metadata": {}
        },
        {
          "output_type": "display_data",
          "data": {
            "text/plain": [
              "<Figure size 1500x700 with 0 Axes>"
            ]
          },
          "metadata": {}
        },
        {
          "output_type": "display_data",
          "data": {
            "text/plain": [
              "<Figure size 1500x1000 with 1 Axes>"
            ],
            "image/png": "[encoded data removed]"
          },
          "metadata": {}
        }
      ],
      "source": [
        "#таблица для построения диаграммы количества событий по дате для разных групп\n",
        "events_date_groups = (\n",
        "    data.pivot_table(\n",
        "    index='dt',\n",
        "    columns='exp_id',\n",
        "    values='user_id',\n",
        "    aggfunc='count'\n",
        ").reset_index()\n",
        ")\n",
        "\n",
        "events_date_groups.columns=['dt','246','247','248']\n",
        "\n",
        "display(events_date_groups)\n",
        "\n",
        "#диаграмма\n",
        "plt.figure(figsize=(15,7))\n",
        "events_date_groups[['dt','246','247','248']].plot(\n",
        "    x='dt',\n",
        "    kind='bar',\n",
        "    figsize=(15,10),\n",
        "    width=0.7\n",
        ")\n",
        "plt.grid(True)\n",
        "plt.title('Количество событий по дате для разных групп')\n",
        "plt.xlabel('Дата')\n",
        "plt.ylabel('Количество событий')\n",
        "plt.xticks(rotation=45)\n",
        "plt.show();\n"
      ]
    },
    {
      "cell_type": "markdown",
      "metadata": {
        "id": "LdEaSrOYrtTW"
      },
      "source": [
        "Количество событий за день до 1 августа исчезающе мало. Очевидно, данные в логе за этот перод неполны. Полные данные есть только за период с 1 по 7 августа.\n",
        "\n",
        "Создадим датафрейм с данными за этот период."
      ]
    },
    {
      "cell_type": "code",
      "execution_count": 12,
      "metadata": {
        "colab": {
          "base_uri": "https://localhost:8080/",
          "height": 677
        },
        "id": "dvMqhGuTrtTW",
        "outputId": "5c6737f4-99f0-4ff3-f793-a7a980fc3632"
      },
      "outputs": [
        {
          "output_type": "execute_result",
          "data": {
            "text/plain": [
              "                   event_type              user_id          event_time  \\\n",
              "2828                 Tutorial  3737462046622621720 2019-08-01 00:07:28   \n",
              "2829         MainScreenAppear  3737462046622621720 2019-08-01 00:08:00   \n",
              "2830         MainScreenAppear  3737462046622621720 2019-08-01 00:08:55   \n",
              "2831       OffersScreenAppear  3737462046622621720 2019-08-01 00:08:58   \n",
              "2832         MainScreenAppear  1433840883824088890 2019-08-01 00:08:59   \n",
              "2833         MainScreenAppear  4899590676214355127 2019-08-01 00:10:15   \n",
              "2834       OffersScreenAppear  3737462046622621720 2019-08-01 00:10:26   \n",
              "2835         MainScreenAppear  3737462046622621720 2019-08-01 00:10:47   \n",
              "2836         MainScreenAppear  3737462046622621720 2019-08-01 00:11:10   \n",
              "2837         MainScreenAppear  3737462046622621720 2019-08-01 00:11:20   \n",
              "2838         MainScreenAppear  4899590676214355127 2019-08-01 00:11:28   \n",
              "2839       OffersScreenAppear  4899590676214355127 2019-08-01 00:11:30   \n",
              "2840         MainScreenAppear  1182179323890311443 2019-08-01 00:11:57   \n",
              "2841                 Tutorial  3737462046622621720 2019-08-01 00:12:18   \n",
              "2842         MainScreenAppear  3737462046622621720 2019-08-01 00:12:34   \n",
              "2843       OffersScreenAppear  4899590676214355127 2019-08-01 00:12:36   \n",
              "2844         MainScreenAppear  4613461174774205834 2019-08-01 00:14:31   \n",
              "2845         MainScreenAppear  4613461174774205834 2019-08-01 00:14:34   \n",
              "2846         CartScreenAppear  4613461174774205834 2019-08-01 00:14:34   \n",
              "2847  PaymentScreenSuccessful  4613461174774205834 2019-08-01 00:14:43   \n",
              "\n",
              "      exp_id          dt  \n",
              "2828     246  2019-08-01  \n",
              "2829     246  2019-08-01  \n",
              "2830     246  2019-08-01  \n",
              "2831     246  2019-08-01  \n",
              "2832     247  2019-08-01  \n",
              "2833     247  2019-08-01  \n",
              "2834     246  2019-08-01  \n",
              "2835     246  2019-08-01  \n",
              "2836     246  2019-08-01  \n",
              "2837     246  2019-08-01  \n",
              "2838     247  2019-08-01  \n",
              "2839     247  2019-08-01  \n",
              "2840     246  2019-08-01  \n",
              "2841     246  2019-08-01  \n",
              "2842     246  2019-08-01  \n",
              "2843     247  2019-08-01  \n",
              "2844     248  2019-08-01  \n",
              "2845     248  2019-08-01  \n",
              "2846     248  2019-08-01  \n",
              "2847     248  2019-08-01  "
            ],
            "text/html": [
              "\n",
              "  <div id=\"df-e2551b01-5887-4609-8f40-10a5f755f394\" class=\"colab-df-container\">\n",
              "    <div>\n",
              "<style scoped>\n",
              "    .dataframe tbody tr th:only-of-type {\n",
              "        vertical-align: middle;\n",
              "    }\n",
              "\n",
              "    .dataframe tbody tr th {\n",
              "        vertical-align: top;\n",
              "    }\n",
              "\n",
              "    .dataframe thead th {\n",
              "        text-align: right;\n",
              "    }\n",
              "</style>\n",
              "<table border=\"1\" class=\"dataframe\">\n",
              "  <thead>\n",
              "    <tr style=\"text-align: right;\">\n",
              "      <th></th>\n",
              "      <th>event_type</th>\n",
              "      <th>user_id</th>\n",
              "      <th>event_time</th>\n",
              "      <th>exp_id</th>\n",
              "      <th>dt</th>\n",
              "    </tr>\n",
              "  </thead>\n",
              "  <tbody>\n",
              "    <tr>\n",
              "      <th>2828</th>\n",
              "      <td>Tutorial</td>\n",
              "      <td>3737462046622621720</td>\n",
              "      <td>2019-08-01 00:07:28</td>\n",
              "      <td>246</td>\n",
              "      <td>2019-08-01</td>\n",
              "    </tr>\n",
              "    <tr>\n",
              "      <th>2829</th>\n",
              "      <td>MainScreenAppear</td>\n",
              "      <td>3737462046622621720</td>\n",
              "      <td>2019-08-01 00:08:00</td>\n",
              "      <td>246</td>\n",
              "      <td>2019-08-01</td>\n",
              "    </tr>\n",
              "    <tr>\n",
              "      <th>2830</th>\n",
              "      <td>MainScreenAppear</td>\n",
              "      <td>3737462046622621720</td>\n",
              "      <td>2019-08-01 00:08:55</td>\n",
              "      <td>246</td>\n",
              "      <td>2019-08-01</td>\n",
              "    </tr>\n",
              "    <tr>\n",
              "      <th>2831</th>\n",
              "      <td>OffersScreenAppear</td>\n",
              "      <td>3737462046622621720</td>\n",
              "      <td>2019-08-01 00:08:58</td>\n",
              "      <td>246</td>\n",
              "      <td>2019-08-01</td>\n",
              "    </tr>\n",
              "    <tr>\n",
              "      <th>2832</th>\n",
              "      <td>MainScreenAppear</td>\n",
              "      <td>1433840883824088890</td>\n",
              "      <td>2019-08-01 00:08:59</td>\n",
              "      <td>247</td>\n",
              "      <td>2019-08-01</td>\n",
              "    </tr>\n",
              "    <tr>\n",
              "      <th>2833</th>\n",
              "      <td>MainScreenAppear</td>\n",
              "      <td>4899590676214355127</td>\n",
              "      <td>2019-08-01 00:10:15</td>\n",
              "      <td>247</td>\n",
              "      <td>2019-08-01</td>\n",
              "    </tr>\n",
              "    <tr>\n",
              "      <th>2834</th>\n",
              "      <td>OffersScreenAppear</td>\n",
              "      <td>3737462046622621720</td>\n",
              "      <td>2019-08-01 00:10:26</td>\n",
              "      <td>246</td>\n",
              "      <td>2019-08-01</td>\n",
              "    </tr>\n",
              "    <tr>\n",
              "      <th>2835</th>\n",
              "      <td>MainScreenAppear</td>\n",
              "      <td>3737462046622621720</td>\n",
              "      <td>2019-08-01 00:10:47</td>\n",
              "      <td>246</td>\n",
              "      <td>2019-08-01</td>\n",
              "    </tr>\n",
              "    <tr>\n",
              "      <th>2836</th>\n",
              "      <td>MainScreenAppear</td>\n",
              "      <td>3737462046622621720</td>\n",
              "      <td>2019-08-01 00:11:10</td>\n",
              "      <td>246</td>\n",
              "      <td>2019-08-01</td>\n",
              "    </tr>\n",
              "    <tr>\n",
              "      <th>2837</th>\n",
              "      <td>MainScreenAppear</td>\n",
              "      <td>3737462046622621720</td>\n",
              "      <td>2019-08-01 00:11:20</td>\n",
              "      <td>246</td>\n",
              "      <td>2019-08-01</td>\n",
              "    </tr>\n",
              "    <tr>\n",
              "      <th>2838</th>\n",
              "      <td>MainScreenAppear</td>\n",
              "      <td>4899590676214355127</td>\n",
              "      <td>2019-08-01 00:11:28</td>\n",
              "      <td>247</td>\n",
              "      <td>2019-08-01</td>\n",
              "    </tr>\n",
              "    <tr>\n",
              "      <th>2839</th>\n",
              "      <td>OffersScreenAppear</td>\n",
              "      <td>4899590676214355127</td>\n",
              "      <td>2019-08-01 00:11:30</td>\n",
              "      <td>247</td>\n",
              "      <td>2019-08-01</td>\n",
              "    </tr>\n",
              "    <tr>\n",
              "      <th>2840</th>\n",
              "      <td>MainScreenAppear</td>\n",
              "      <td>1182179323890311443</td>\n",
              "      <td>2019-08-01 00:11:57</td>\n",
              "      <td>246</td>\n",
              "      <td>2019-08-01</td>\n",
              "    </tr>\n",
              "    <tr>\n",
              "      <th>2841</th>\n",
              "      <td>Tutorial</td>\n",
              "      <td>3737462046622621720</td>\n",
              "      <td>2019-08-01 00:12:18</td>\n",
              "      <td>246</td>\n",
              "      <td>2019-08-01</td>\n",
              "    </tr>\n",
              "    <tr>\n",
              "      <th>2842</th>\n",
              "      <td>MainScreenAppear</td>\n",
              "      <td>3737462046622621720</td>\n",
              "      <td>2019-08-01 00:12:34</td>\n",
              "      <td>246</td>\n",
              "      <td>2019-08-01</td>\n",
              "    </tr>\n",
              "    <tr>\n",
              "      <th>2843</th>\n",
              "      <td>OffersScreenAppear</td>\n",
              "      <td>4899590676214355127</td>\n",
              "      <td>2019-08-01 00:12:36</td>\n",
              "      <td>247</td>\n",
              "      <td>2019-08-01</td>\n",
              "    </tr>\n",
              "    <tr>\n",
              "      <th>2844</th>\n",
              "      <td>MainScreenAppear</td>\n",
              "      <td>4613461174774205834</td>\n",
              "      <td>2019-08-01 00:14:31</td>\n",
              "      <td>248</td>\n",
              "      <td>2019-08-01</td>\n",
              "    </tr>\n",
              "    <tr>\n",
              "      <th>2845</th>\n",
              "      <td>MainScreenAppear</td>\n",
              "      <td>4613461174774205834</td>\n",
              "      <td>2019-08-01 00:14:34</td>\n",
              "      <td>248</td>\n",
              "      <td>2019-08-01</td>\n",
              "    </tr>\n",
              "    <tr>\n",
              "      <th>2846</th>\n",
              "      <td>CartScreenAppear</td>\n",
              "      <td>4613461174774205834</td>\n",
              "      <td>2019-08-01 00:14:34</td>\n",
              "      <td>248</td>\n",
              "      <td>2019-08-01</td>\n",
              "    </tr>\n",
              "    <tr>\n",
              "      <th>2847</th>\n",
              "      <td>PaymentScreenSuccessful</td>\n",
              "      <td>4613461174774205834</td>\n",
              "      <td>2019-08-01 00:14:43</td>\n",
              "      <td>248</td>\n",
              "      <td>2019-08-01</td>\n",
              "    </tr>\n",
              "  </tbody>\n",
              "</table>\n",
              "</div>\n",
              "    <div class=\"colab-df-buttons\">\n",
              "\n",
              "  <div class=\"colab-df-container\">\n",
              "    <button class=\"colab-df-convert\" onclick=\"convertToInteractive('df-e2551b01-5887-4609-8f40-10a5f755f394')\"\n",
              "            title=\"Convert this dataframe to an interactive table.\"\n",
              "            style=\"display:none;\">\n",
              "\n",
              "  <svg xmlns=\"http://www.w3.org/2000/svg\" height=\"24px\" viewBox=\"0 -960 960 960\">\n",
              "    <path d=\"M120-120v-720h720v720H120Zm60-500h600v-160H180v160Zm220 220h160v-160H400v160Zm0 220h160v-160H400v160ZM180-400h160v-160H180v160Zm440 0h160v-160H620v160ZM180-180h160v-160H180v160Zm440 0h160v-160H620v160Z\"/>\n",
              "  </svg>\n",
              "    </button>\n",
              "\n",
              "  <style>\n",
              "    .colab-df-container {\n",
              "      display:flex;\n",
              "      gap: 12px;\n",
              "    }\n",
              "\n",
              "    .colab-df-convert {\n",
              "      background-color: #E8F0FE;\n",
              "      border: none;\n",
              "      border-radius: 50%;\n",
              "      cursor: pointer;\n",
              "      display: none;\n",
              "      fill: #1967D2;\n",
              "      height: 32px;\n",
              "      padding: 0 0 0 0;\n",
              "      width: 32px;\n",
              "    }\n",
              "\n",
              "    .colab-df-convert:hover {\n",
              "      background-color: #E2EBFA;\n",
              "      box-shadow: 0px 1px 2px rgba(60, 64, 67, 0.3), 0px 1px 3px 1px rgba(60, 64, 67, 0.15);\n",
              "      fill: #174EA6;\n",
              "    }\n",
              "\n",
              "    .colab-df-buttons div {\n",
              "      margin-bottom: 4px;\n",
              "    }\n",
              "\n",
              "    [theme=dark] .colab-df-convert {\n",
              "      background-color: #3B4455;\n",
              "      fill: #D2E3FC;\n",
              "    }\n",
              "\n",
              "    [theme=dark] .colab-df-convert:hover {\n",
              "      background-color: #434B5C;\n",
              "      box-shadow: 0px 1px 3px 1px rgba(0, 0, 0, 0.15);\n",
              "      filter: drop-shadow(0px 1px 2px rgba(0, 0, 0, 0.3));\n",
              "      fill: #FFFFFF;\n",
              "    }\n",
              "  </style>\n",
              "\n",
              "    <script>\n",
              "      const buttonEl =\n",
              "        document.querySelector('#df-e2551b01-5887-4609-8f40-10a5f755f394 button.colab-df-convert');\n",
              "      buttonEl.style.display =\n",
              "        google.colab.kernel.accessAllowed ? 'block' : 'none';\n",
              "\n",
              "      async function convertToInteractive(key) {\n",
              "        const element = document.querySelector('#df-e2551b01-5887-4609-8f40-10a5f755f394');\n",
              "        const dataTable =\n",
              "          await google.colab.kernel.invokeFunction('convertToInteractive',\n",
              "                                                    [key], {});\n",
              "        if (!dataTable) return;\n",
              "\n",
              "        const docLinkHtml = 'Like what you see? Visit the ' +\n",
              "          '<a target=\"_blank\" href=https://colab.research.google.com/notebooks/data_table.ipynb>data table notebook</a>'\n",
              "          + ' to learn more about interactive tables.';\n",
              "        element.innerHTML = '';\n",
              "        dataTable['output_type'] = 'display_data';\n",
              "        await google.colab.output.renderOutput(dataTable, element);\n",
              "        const docLink = document.createElement('div');\n",
              "        docLink.innerHTML = docLinkHtml;\n",
              "        element.appendChild(docLink);\n",
              "      }\n",
              "    </script>\n",
              "  </div>\n",
              "\n",
              "\n",
              "<div id=\"df-c4e11e6c-df1f-42a8-b770-a1e380c778a1\">\n",
              "  <button class=\"colab-df-quickchart\" onclick=\"quickchart('df-c4e11e6c-df1f-42a8-b770-a1e380c778a1')\"\n",
              "            title=\"Suggest charts\"\n",
              "            style=\"display:none;\">\n",
              "\n",
              "<svg xmlns=\"http://www.w3.org/2000/svg\" height=\"24px\"viewBox=\"0 0 24 24\"\n",
              "     width=\"24px\">\n",
              "    <g>\n",
              "        <path d=\"M19 3H5c-1.1 0-2 .9-2 2v14c0 1.1.9 2 2 2h14c1.1 0 2-.9 2-2V5c0-1.1-.9-2-2-2zM9 17H7v-7h2v7zm4 0h-2V7h2v10zm4 0h-2v-4h2v4z\"/>\n",
              "    </g>\n",
              "</svg>\n",
              "  </button>\n",
              "\n",
              "<style>\n",
              "  .colab-df-quickchart {\n",
              "      --bg-color: #E8F0FE;\n",
              "      --fill-color: #1967D2;\n",
              "      --hover-bg-color: #E2EBFA;\n",
              "      --hover-fill-color: #174EA6;\n",
              "      --disabled-fill-color: #AAA;\n",
              "      --disabled-bg-color: #DDD;\n",
              "  }\n",
              "\n",
              "  [theme=dark] .colab-df-quickchart {\n",
              "      --bg-color: #3B4455;\n",
              "      --fill-color: #D2E3FC;\n",
              "      --hover-bg-color: #434B5C;\n",
              "      --hover-fill-color: #FFFFFF;\n",
              "      --disabled-bg-color: #3B4455;\n",
              "      --disabled-fill-color: #666;\n",
              "  }\n",
              "\n",
              "  .colab-df-quickchart {\n",
              "    background-color: var(--bg-color);\n",
              "    border: none;\n",
              "    border-radius: 50%;\n",
              "    cursor: pointer;\n",
              "    display: none;\n",
              "    fill: var(--fill-color);\n",
              "    height: 32px;\n",
              "    padding: 0;\n",
              "    width: 32px;\n",
              "  }\n",
              "\n",
              "  .colab-df-quickchart:hover {\n",
              "    background-color: var(--hover-bg-color);\n",
              "    box-shadow: 0 1px 2px rgba(60, 64, 67, 0.3), 0 1px 3px 1px rgba(60, 64, 67, 0.15);\n",
              "    fill: var(--button-hover-fill-color);\n",
              "  }\n",
              "\n",
              "  .colab-df-quickchart-complete:disabled,\n",
              "  .colab-df-quickchart-complete:disabled:hover {\n",
              "    background-color: var(--disabled-bg-color);\n",
              "    fill: var(--disabled-fill-color);\n",
              "    box-shadow: none;\n",
              "  }\n",
              "\n",
              "  .colab-df-spinner {\n",
              "    border: 2px solid var(--fill-color);\n",
              "    border-color: transparent;\n",
              "    border-bottom-color: var(--fill-color);\n",
              "    animation:\n",
              "      spin 1s steps(1) infinite;\n",
              "  }\n",
              "\n",
              "  @keyframes spin {\n",
              "    0% {\n",
              "      border-color: transparent;\n",
              "      border-bottom-color: var(--fill-color);\n",
              "      border-left-color: var(--fill-color);\n",
              "    }\n",
              "    20% {\n",
              "      border-color: transparent;\n",
              "      border-left-color: var(--fill-color);\n",
              "      border-top-color: var(--fill-color);\n",
              "    }\n",
              "    30% {\n",
              "      border-color: transparent;\n",
              "      border-left-color: var(--fill-color);\n",
              "      border-top-color: var(--fill-color);\n",
              "      border-right-color: var(--fill-color);\n",
              "    }\n",
              "    40% {\n",
              "      border-color: transparent;\n",
              "      border-right-color: var(--fill-color);\n",
              "      border-top-color: var(--fill-color);\n",
              "    }\n",
              "    60% {\n",
              "      border-color: transparent;\n",
              "      border-right-color: var(--fill-color);\n",
              "    }\n",
              "    80% {\n",
              "      border-color: transparent;\n",
              "      border-right-color: var(--fill-color);\n",
              "      border-bottom-color: var(--fill-color);\n",
              "    }\n",
              "    90% {\n",
              "      border-color: transparent;\n",
              "      border-bottom-color: var(--fill-color);\n",
              "    }\n",
              "  }\n",
              "</style>\n",
              "\n",
              "  <script>\n",
              "    async function quickchart(key) {\n",
              "      const quickchartButtonEl =\n",
              "        document.querySelector('#' + key + ' button');\n",
              "      quickchartButtonEl.disabled = true;  // To prevent multiple clicks.\n",
              "      quickchartButtonEl.classList.add('colab-df-spinner');\n",
              "      try {\n",
              "        const charts = await google.colab.kernel.invokeFunction(\n",
              "            'suggestCharts', [key], {});\n",
              "      } catch (error) {\n",
              "        console.error('Error during call to suggestCharts:', error);\n",
              "      }\n",
              "      quickchartButtonEl.classList.remove('colab-df-spinner');\n",
              "      quickchartButtonEl.classList.add('colab-df-quickchart-complete');\n",
              "    }\n",
              "    (() => {\n",
              "      let quickchartButtonEl =\n",
              "        document.querySelector('#df-c4e11e6c-df1f-42a8-b770-a1e380c778a1 button');\n",
              "      quickchartButtonEl.style.display =\n",
              "        google.colab.kernel.accessAllowed ? 'block' : 'none';\n",
              "    })();\n",
              "  </script>\n",
              "</div>\n",
              "    </div>\n",
              "  </div>\n"
            ],
            "application/vnd.google.colaboratory.intrinsic+json": {
              "type": "dataframe",
              "variable_name": "data_actual"
            }
          },
          "metadata": {},
          "execution_count": 12
        }
      ],
      "source": [
        "#датафрейм с данными с 1 по 7 августа 2019 г.\n",
        "data_actual = data[data[\"dt\"] >= pd.to_datetime('2019-08-01')]\n",
        "\n",
        "#первые 20 строк\n",
        "data_actual.head(20)"
      ]
    },
    {
      "cell_type": "markdown",
      "metadata": {
        "id": "VMwM_SR-rtTX"
      },
      "source": [
        "Подсчёт количества потерянных при удалении неполных данных."
      ]
    },
    {
      "cell_type": "code",
      "execution_count": 13,
      "metadata": {
        "colab": {
          "base_uri": "https://localhost:8080/",
          "height": 89
        },
        "id": "hLRpk8PqrtTX",
        "outputId": "1fcb6874-6c31-4718-f335-f4c11a4b0d70"
      },
      "outputs": [
        {
          "output_type": "display_data",
          "data": {
            "text/plain": [
              "'Количество удалённых событий: 2826 из 135052'"
            ],
            "application/vnd.google.colaboratory.intrinsic+json": {
              "type": "string"
            }
          },
          "metadata": {}
        },
        {
          "output_type": "display_data",
          "data": {
            "text/plain": [
              "'Процент удалённых событий: 2.09'"
            ],
            "application/vnd.google.colaboratory.intrinsic+json": {
              "type": "string"
            }
          },
          "metadata": {}
        },
        {
          "output_type": "display_data",
          "data": {
            "text/plain": [
              "'Количество удалённых пользователей: 99 из 6576'"
            ],
            "application/vnd.google.colaboratory.intrinsic+json": {
              "type": "string"
            }
          },
          "metadata": {}
        },
        {
          "output_type": "display_data",
          "data": {
            "text/plain": [
              "'Процент удалённых пользователей: 1.51'"
            ],
            "application/vnd.google.colaboratory.intrinsic+json": {
              "type": "string"
            }
          },
          "metadata": {}
        }
      ],
      "source": [
        "display(\n",
        "    f'Количество удалённых событий: {len(data[\"event_type\"]) - len(data_actual[\"event_type\"])} из {len(data[\"event_type\"])}',\n",
        "    f'Процент удалённых событий: {(len(data[\"event_type\"]) - len(data_actual[\"event_type\"])) * 100 / len(data[\"event_type\"]):.2f}',\n",
        "    f'Количество удалённых пользователей: {data[\"user_id\"].nunique() - data_actual[\"user_id\"].nunique()} из {data[\"user_id\"].nunique()}',\n",
        "    f'Процент удалённых пользователей: {(data[\"user_id\"].nunique() - data_actual[\"user_id\"].nunique()) * 100 / data[\"user_id\"].nunique():.2f}'\n",
        ")\n"
      ]
    },
    {
      "cell_type": "markdown",
      "metadata": {
        "id": "OqlxIN6CrtTY"
      },
      "source": [
        "Потери данных незначительные."
      ]
    },
    {
      "cell_type": "markdown",
      "metadata": {
        "id": "cP9TInsxrtTY"
      },
      "source": [
        "#### Количество и соотношение пользователей из разных групп"
      ]
    },
    {
      "cell_type": "code",
      "execution_count": 14,
      "metadata": {
        "colab": {
          "base_uri": "https://localhost:8080/",
          "height": 645
        },
        "id": "74I2nTQbrtTZ",
        "outputId": "cadba294-51ae-487b-ce79-8977fad3b456"
      },
      "outputs": [
        {
          "output_type": "display_data",
          "data": {
            "text/plain": [
              "       users\n",
              "group       \n",
              "246     2127\n",
              "247     2167\n",
              "248     2183"
            ],
            "text/html": [
              "\n",
              "  <div id=\"df-3183e0af-0c01-402c-aed9-cadf40f24ac9\" class=\"colab-df-container\">\n",
              "    <div>\n",
              "<style scoped>\n",
              "    .dataframe tbody tr th:only-of-type {\n",
              "        vertical-align: middle;\n",
              "    }\n",
              "\n",
              "    .dataframe tbody tr th {\n",
              "        vertical-align: top;\n",
              "    }\n",
              "\n",
              "    .dataframe thead th {\n",
              "        text-align: right;\n",
              "    }\n",
              "</style>\n",
              "<table border=\"1\" class=\"dataframe\">\n",
              "  <thead>\n",
              "    <tr style=\"text-align: right;\">\n",
              "      <th></th>\n",
              "      <th>users</th>\n",
              "    </tr>\n",
              "    <tr>\n",
              "      <th>group</th>\n",
              "      <th></th>\n",
              "    </tr>\n",
              "  </thead>\n",
              "  <tbody>\n",
              "    <tr>\n",
              "      <th>246</th>\n",
              "      <td>2127</td>\n",
              "    </tr>\n",
              "    <tr>\n",
              "      <th>247</th>\n",
              "      <td>2167</td>\n",
              "    </tr>\n",
              "    <tr>\n",
              "      <th>248</th>\n",
              "      <td>2183</td>\n",
              "    </tr>\n",
              "  </tbody>\n",
              "</table>\n",
              "</div>\n",
              "    <div class=\"colab-df-buttons\">\n",
              "\n",
              "  <div class=\"colab-df-container\">\n",
              "    <button class=\"colab-df-convert\" onclick=\"convertToInteractive('df-3183e0af-0c01-402c-aed9-cadf40f24ac9')\"\n",
              "            title=\"Convert this dataframe to an interactive table.\"\n",
              "            style=\"display:none;\">\n",
              "\n",
              "  <svg xmlns=\"http://www.w3.org/2000/svg\" height=\"24px\" viewBox=\"0 -960 960 960\">\n",
              "    <path d=\"M120-120v-720h720v720H120Zm60-500h600v-160H180v160Zm220 220h160v-160H400v160Zm0 220h160v-160H400v160ZM180-400h160v-160H180v160Zm440 0h160v-160H620v160ZM180-180h160v-160H180v160Zm440 0h160v-160H620v160Z\"/>\n",
              "  </svg>\n",
              "    </button>\n",
              "\n",
              "  <style>\n",
              "    .colab-df-container {\n",
              "      display:flex;\n",
              "      gap: 12px;\n",
              "    }\n",
              "\n",
              "    .colab-df-convert {\n",
              "      background-color: #E8F0FE;\n",
              "      border: none;\n",
              "      border-radius: 50%;\n",
              "      cursor: pointer;\n",
              "      display: none;\n",
              "      fill: #1967D2;\n",
              "      height: 32px;\n",
              "      padding: 0 0 0 0;\n",
              "      width: 32px;\n",
              "    }\n",
              "\n",
              "    .colab-df-convert:hover {\n",
              "      background-color: #E2EBFA;\n",
              "      box-shadow: 0px 1px 2px rgba(60, 64, 67, 0.3), 0px 1px 3px 1px rgba(60, 64, 67, 0.15);\n",
              "      fill: #174EA6;\n",
              "    }\n",
              "\n",
              "    .colab-df-buttons div {\n",
              "      margin-bottom: 4px;\n",
              "    }\n",
              "\n",
              "    [theme=dark] .colab-df-convert {\n",
              "      background-color: #3B4455;\n",
              "      fill: #D2E3FC;\n",
              "    }\n",
              "\n",
              "    [theme=dark] .colab-df-convert:hover {\n",
              "      background-color: #434B5C;\n",
              "      box-shadow: 0px 1px 3px 1px rgba(0, 0, 0, 0.15);\n",
              "      filter: drop-shadow(0px 1px 2px rgba(0, 0, 0, 0.3));\n",
              "      fill: #FFFFFF;\n",
              "    }\n",
              "  </style>\n",
              "\n",
              "    <script>\n",
              "      const buttonEl =\n",
              "        document.querySelector('#df-3183e0af-0c01-402c-aed9-cadf40f24ac9 button.colab-df-convert');\n",
              "      buttonEl.style.display =\n",
              "        google.colab.kernel.accessAllowed ? 'block' : 'none';\n",
              "\n",
              "      async function convertToInteractive(key) {\n",
              "        const element = document.querySelector('#df-3183e0af-0c01-402c-aed9-cadf40f24ac9');\n",
              "        const dataTable =\n",
              "          await google.colab.kernel.invokeFunction('convertToInteractive',\n",
              "                                                    [key], {});\n",
              "        if (!dataTable) return;\n",
              "\n",
              "        const docLinkHtml = 'Like what you see? Visit the ' +\n",
              "          '<a target=\"_blank\" href=https://colab.research.google.com/notebooks/data_table.ipynb>data table notebook</a>'\n",
              "          + ' to learn more about interactive tables.';\n",
              "        element.innerHTML = '';\n",
              "        dataTable['output_type'] = 'display_data';\n",
              "        await google.colab.output.renderOutput(dataTable, element);\n",
              "        const docLink = document.createElement('div');\n",
              "        docLink.innerHTML = docLinkHtml;\n",
              "        element.appendChild(docLink);\n",
              "      }\n",
              "    </script>\n",
              "  </div>\n",
              "\n",
              "\n",
              "<div id=\"df-51e869c1-92fc-4128-a91d-5a9361f6a4c0\">\n",
              "  <button class=\"colab-df-quickchart\" onclick=\"quickchart('df-51e869c1-92fc-4128-a91d-5a9361f6a4c0')\"\n",
              "            title=\"Suggest charts\"\n",
              "            style=\"display:none;\">\n",
              "\n",
              "<svg xmlns=\"http://www.w3.org/2000/svg\" height=\"24px\"viewBox=\"0 0 24 24\"\n",
              "     width=\"24px\">\n",
              "    <g>\n",
              "        <path d=\"M19 3H5c-1.1 0-2 .9-2 2v14c0 1.1.9 2 2 2h14c1.1 0 2-.9 2-2V5c0-1.1-.9-2-2-2zM9 17H7v-7h2v7zm4 0h-2V7h2v10zm4 0h-2v-4h2v4z\"/>\n",
              "    </g>\n",
              "</svg>\n",
              "  </button>\n",
              "\n",
              "<style>\n",
              "  .colab-df-quickchart {\n",
              "      --bg-color: #E8F0FE;\n",
              "      --fill-color: #1967D2;\n",
              "      --hover-bg-color: #E2EBFA;\n",
              "      --hover-fill-color: #174EA6;\n",
              "      --disabled-fill-color: #AAA;\n",
              "      --disabled-bg-color: #DDD;\n",
              "  }\n",
              "\n",
              "  [theme=dark] .colab-df-quickchart {\n",
              "      --bg-color: #3B4455;\n",
              "      --fill-color: #D2E3FC;\n",
              "      --hover-bg-color: #434B5C;\n",
              "      --hover-fill-color: #FFFFFF;\n",
              "      --disabled-bg-color: #3B4455;\n",
              "      --disabled-fill-color: #666;\n",
              "  }\n",
              "\n",
              "  .colab-df-quickchart {\n",
              "    background-color: var(--bg-color);\n",
              "    border: none;\n",
              "    border-radius: 50%;\n",
              "    cursor: pointer;\n",
              "    display: none;\n",
              "    fill: var(--fill-color);\n",
              "    height: 32px;\n",
              "    padding: 0;\n",
              "    width: 32px;\n",
              "  }\n",
              "\n",
              "  .colab-df-quickchart:hover {\n",
              "    background-color: var(--hover-bg-color);\n",
              "    box-shadow: 0 1px 2px rgba(60, 64, 67, 0.3), 0 1px 3px 1px rgba(60, 64, 67, 0.15);\n",
              "    fill: var(--button-hover-fill-color);\n",
              "  }\n",
              "\n",
              "  .colab-df-quickchart-complete:disabled,\n",
              "  .colab-df-quickchart-complete:disabled:hover {\n",
              "    background-color: var(--disabled-bg-color);\n",
              "    fill: var(--disabled-fill-color);\n",
              "    box-shadow: none;\n",
              "  }\n",
              "\n",
              "  .colab-df-spinner {\n",
              "    border: 2px solid var(--fill-color);\n",
              "    border-color: transparent;\n",
              "    border-bottom-color: var(--fill-color);\n",
              "    animation:\n",
              "      spin 1s steps(1) infinite;\n",
              "  }\n",
              "\n",
              "  @keyframes spin {\n",
              "    0% {\n",
              "      border-color: transparent;\n",
              "      border-bottom-color: var(--fill-color);\n",
              "      border-left-color: var(--fill-color);\n",
              "    }\n",
              "    20% {\n",
              "      border-color: transparent;\n",
              "      border-left-color: var(--fill-color);\n",
              "      border-top-color: var(--fill-color);\n",
              "    }\n",
              "    30% {\n",
              "      border-color: transparent;\n",
              "      border-left-color: var(--fill-color);\n",
              "      border-top-color: var(--fill-color);\n",
              "      border-right-color: var(--fill-color);\n",
              "    }\n",
              "    40% {\n",
              "      border-color: transparent;\n",
              "      border-right-color: var(--fill-color);\n",
              "      border-top-color: var(--fill-color);\n",
              "    }\n",
              "    60% {\n",
              "      border-color: transparent;\n",
              "      border-right-color: var(--fill-color);\n",
              "    }\n",
              "    80% {\n",
              "      border-color: transparent;\n",
              "      border-right-color: var(--fill-color);\n",
              "      border-bottom-color: var(--fill-color);\n",
              "    }\n",
              "    90% {\n",
              "      border-color: transparent;\n",
              "      border-bottom-color: var(--fill-color);\n",
              "    }\n",
              "  }\n",
              "</style>\n",
              "\n",
              "  <script>\n",
              "    async function quickchart(key) {\n",
              "      const quickchartButtonEl =\n",
              "        document.querySelector('#' + key + ' button');\n",
              "      quickchartButtonEl.disabled = true;  // To prevent multiple clicks.\n",
              "      quickchartButtonEl.classList.add('colab-df-spinner');\n",
              "      try {\n",
              "        const charts = await google.colab.kernel.invokeFunction(\n",
              "            'suggestCharts', [key], {});\n",
              "      } catch (error) {\n",
              "        console.error('Error during call to suggestCharts:', error);\n",
              "      }\n",
              "      quickchartButtonEl.classList.remove('colab-df-spinner');\n",
              "      quickchartButtonEl.classList.add('colab-df-quickchart-complete');\n",
              "    }\n",
              "    (() => {\n",
              "      let quickchartButtonEl =\n",
              "        document.querySelector('#df-51e869c1-92fc-4128-a91d-5a9361f6a4c0 button');\n",
              "      quickchartButtonEl.style.display =\n",
              "        google.colab.kernel.accessAllowed ? 'block' : 'none';\n",
              "    })();\n",
              "  </script>\n",
              "</div>\n",
              "    </div>\n",
              "  </div>\n"
            ],
            "application/vnd.google.colaboratory.intrinsic+json": {
              "type": "dataframe",
              "variable_name": "users_per_group",
              "summary": "{\n  \"name\": \"users_per_group\",\n  \"rows\": 3,\n  \"fields\": [\n    {\n      \"column\": \"group\",\n      \"properties\": {\n        \"dtype\": \"number\",\n        \"std\": 1,\n        \"min\": 246,\n        \"max\": 248,\n        \"num_unique_values\": 3,\n        \"samples\": [\n          246,\n          247,\n          248\n        ],\n        \"semantic_type\": \"\",\n        \"description\": \"\"\n      }\n    },\n    {\n      \"column\": \"users\",\n      \"properties\": {\n        \"dtype\": \"number\",\n        \"std\": 28,\n        \"min\": 2127,\n        \"max\": 2183,\n        \"num_unique_values\": 3,\n        \"samples\": [\n          2127,\n          2167,\n          2183\n        ],\n        \"semantic_type\": \"\",\n        \"description\": \"\"\n      }\n    }\n  ]\n}"
            }
          },
          "metadata": {}
        },
        {
          "output_type": "display_data",
          "data": {
            "text/plain": [
              "<Figure size 1500x500 with 1 Axes>"
            ],
            "image/png": "[encoded data removed]"
          },
          "metadata": {}
        }
      ],
      "source": [
        "#сводная таблица\n",
        "users_per_group = data_actual.pivot_table(\n",
        "    index='exp_id',\n",
        "    values='user_id',\n",
        "    aggfunc=pd.Series.nunique\n",
        ").reset_index()\n",
        "\n",
        "\n",
        "users_per_group.columns = ['group', 'users']\n",
        "users_per_group = users_per_group.set_index('group')\n",
        "\n",
        "display(users_per_group)\n",
        "\n",
        "#диаграмма\n",
        "\n",
        "users_per_group.plot(\n",
        "    kind='barh',\n",
        "    grid=True,\n",
        "    figsize=(15,5),\n",
        "    legend=False\n",
        ")\n",
        "plt.title('Соотношение количества пользователей из разных групп')\n",
        "plt.ylabel('Группа')\n",
        "plt.xlabel('Количество пользователей')\n",
        "\n",
        "plt.show();\n"
      ]
    },
    {
      "cell_type": "markdown",
      "metadata": {
        "id": "mb3ycqiMrtTZ"
      },
      "source": [
        "Пользователи распределены по группам достаточно равномерно.\n",
        "\n",
        "Проверим данные на наличие пользователей, попавших в несколько в разных групп."
      ]
    },
    {
      "cell_type": "code",
      "execution_count": 15,
      "metadata": {
        "colab": {
          "base_uri": "https://localhost:8080/",
          "height": 35
        },
        "id": "4U9v1R2grtTa",
        "outputId": "9da4c509-1cdb-4dba-eaf3-020912ccf6d3"
      },
      "outputs": [
        {
          "output_type": "display_data",
          "data": {
            "text/plain": [
              "'Количество пользователей, попавших в неколько групп: 0'"
            ],
            "application/vnd.google.colaboratory.intrinsic+json": {
              "type": "string"
            }
          },
          "metadata": {}
        }
      ],
      "source": [
        "users_diff_groups = (\n",
        "    data_actual\n",
        "    .groupby(\n",
        "        'user_id', as_index=False\n",
        "    )['exp_id']\n",
        "    .agg('nunique')\n",
        "    .query('exp_id > 1')['user_id']\n",
        ")\n",
        "\n",
        "display(\n",
        "    f'Количество пользователей, попавших в неколько групп: {users_diff_groups.nunique()}'\n",
        ")\n"
      ]
    },
    {
      "cell_type": "markdown",
      "metadata": {
        "id": "qqj1EaN8rtTb"
      },
      "source": [
        "Пользователей, попавших одновременно в несколько  разных груп, нет. Система разбиения трафика работает корректно."
      ]
    },
    {
      "cell_type": "markdown",
      "metadata": {
        "id": "LqLt-yecrtTb"
      },
      "source": [
        "### Исследование воронки событий\n"
      ]
    },
    {
      "cell_type": "markdown",
      "source": [
        "\n",
        "#### Типы событий и частота их появления в логе"
      ],
      "metadata": {
        "id": "yx7rLN79yusU"
      }
    },
    {
      "cell_type": "code",
      "execution_count": 16,
      "metadata": {
        "colab": {
          "base_uri": "https://localhost:8080/",
          "height": 762
        },
        "id": "e3ziI15ortTc",
        "outputId": "b7fbfb1a-939d-4608-8942-d18985b865f6"
      },
      "outputs": [
        {
          "output_type": "display_data",
          "data": {
            "text/plain": [
              "event_type\n",
              "MainScreenAppear           61960\n",
              "OffersScreenAppear         26014\n",
              "CartScreenAppear           24325\n",
              "PaymentScreenSuccessful    19259\n",
              "Tutorial                     668\n",
              "Name: user_id, dtype: int64"
            ]
          },
          "metadata": {}
        },
        {
          "output_type": "display_data",
          "data": {
            "text/plain": [
              "<Figure size 1500x700 with 1 Axes>"
            ],
            "image/png": "[encoded data removed]"
          },
          "metadata": {}
        }
      ],
      "source": [
        "#таблица количества событий по типам\n",
        "events_counts = (\n",
        "    data_actual\n",
        "        .groupby('event_type')['user_id']\n",
        "        .agg('count')\n",
        "        .sort_values(ascending=False)\n",
        ")\n",
        "\n",
        "#вывод таблицы\n",
        "display(events_counts)\n",
        "\n",
        "#диаграмма количества событий по типам\n",
        "events_counts.sort_values().plot(\n",
        "    kind='barh',\n",
        "    grid=True,\n",
        "    figsize=(15,7),\n",
        "    legend=False\n",
        ")\n",
        "plt.title('Количество событий разных типов')\n",
        "plt.ylabel('События')\n",
        "plt.xlabel('Количество')\n",
        "plt.show();"
      ]
    },
    {
      "cell_type": "markdown",
      "metadata": {
        "id": "UYPuG3B-rtTc"
      },
      "source": [
        "В логе события 5 видов:\n",
        "\n",
        "- **\"MainScreenAppear\"** - пользователь заходит на главную страницу;\n",
        "- **\"OffersScreenAppear\"** - пользователю предложены товары;\n",
        "- **\"CartScreenAppear\"** - пользователь перешёл в \"корзину\" с выбранными товарами;\n",
        "- **\"PaymentScreenSuccessful\"** - пользователь успешно оплатил товары;\n",
        "- **\"Tutorial\"** - пользователь перешёл на страницу с руководством.\n",
        "\n"
      ]
    },
    {
      "cell_type": "markdown",
      "source": [
        "\n",
        "#### Соотношение событий разного типа и пользователей. Воронка событий"
      ],
      "metadata": {
        "id": "k0Yw6Lshy1om"
      }
    },
    {
      "cell_type": "code",
      "execution_count": 17,
      "metadata": {
        "colab": {
          "base_uri": "https://localhost:8080/",
          "height": 206
        },
        "id": "uLOjQUgQrtTd",
        "outputId": "277a1f71-98c6-48e7-8e71-a389bebe2011"
      },
      "outputs": [
        {
          "output_type": "execute_result",
          "data": {
            "text/plain": [
              "                event_type  users  users_share\n",
              "0         MainScreenAppear   6330        97.73\n",
              "1       OffersScreenAppear   3795        58.59\n",
              "2         CartScreenAppear   3105        47.94\n",
              "3  PaymentScreenSuccessful   2936        45.33\n",
              "4                 Tutorial    550         8.49"
            ],
            "text/html": [
              "\n",
              "  <div id=\"df-b341a5fa-eac0-49dc-b6de-71a6d9f1e8c5\" class=\"colab-df-container\">\n",
              "    <div>\n",
              "<style scoped>\n",
              "    .dataframe tbody tr th:only-of-type {\n",
              "        vertical-align: middle;\n",
              "    }\n",
              "\n",
              "    .dataframe tbody tr th {\n",
              "        vertical-align: top;\n",
              "    }\n",
              "\n",
              "    .dataframe thead th {\n",
              "        text-align: right;\n",
              "    }\n",
              "</style>\n",
              "<table border=\"1\" class=\"dataframe\">\n",
              "  <thead>\n",
              "    <tr style=\"text-align: right;\">\n",
              "      <th></th>\n",
              "      <th>event_type</th>\n",
              "      <th>users</th>\n",
              "      <th>users_share</th>\n",
              "    </tr>\n",
              "  </thead>\n",
              "  <tbody>\n",
              "    <tr>\n",
              "      <th>0</th>\n",
              "      <td>MainScreenAppear</td>\n",
              "      <td>6330</td>\n",
              "      <td>97.73</td>\n",
              "    </tr>\n",
              "    <tr>\n",
              "      <th>1</th>\n",
              "      <td>OffersScreenAppear</td>\n",
              "      <td>3795</td>\n",
              "      <td>58.59</td>\n",
              "    </tr>\n",
              "    <tr>\n",
              "      <th>2</th>\n",
              "      <td>CartScreenAppear</td>\n",
              "      <td>3105</td>\n",
              "      <td>47.94</td>\n",
              "    </tr>\n",
              "    <tr>\n",
              "      <th>3</th>\n",
              "      <td>PaymentScreenSuccessful</td>\n",
              "      <td>2936</td>\n",
              "      <td>45.33</td>\n",
              "    </tr>\n",
              "    <tr>\n",
              "      <th>4</th>\n",
              "      <td>Tutorial</td>\n",
              "      <td>550</td>\n",
              "      <td>8.49</td>\n",
              "    </tr>\n",
              "  </tbody>\n",
              "</table>\n",
              "</div>\n",
              "    <div class=\"colab-df-buttons\">\n",
              "\n",
              "  <div class=\"colab-df-container\">\n",
              "    <button class=\"colab-df-convert\" onclick=\"convertToInteractive('df-b341a5fa-eac0-49dc-b6de-71a6d9f1e8c5')\"\n",
              "            title=\"Convert this dataframe to an interactive table.\"\n",
              "            style=\"display:none;\">\n",
              "\n",
              "  <svg xmlns=\"http://www.w3.org/2000/svg\" height=\"24px\" viewBox=\"0 -960 960 960\">\n",
              "    <path d=\"M120-120v-720h720v720H120Zm60-500h600v-160H180v160Zm220 220h160v-160H400v160Zm0 220h160v-160H400v160ZM180-400h160v-160H180v160Zm440 0h160v-160H620v160ZM180-180h160v-160H180v160Zm440 0h160v-160H620v160Z\"/>\n",
              "  </svg>\n",
              "    </button>\n",
              "\n",
              "  <style>\n",
              "    .colab-df-container {\n",
              "      display:flex;\n",
              "      gap: 12px;\n",
              "    }\n",
              "\n",
              "    .colab-df-convert {\n",
              "      background-color: #E8F0FE;\n",
              "      border: none;\n",
              "      border-radius: 50%;\n",
              "      cursor: pointer;\n",
              "      display: none;\n",
              "      fill: #1967D2;\n",
              "      height: 32px;\n",
              "      padding: 0 0 0 0;\n",
              "      width: 32px;\n",
              "    }\n",
              "\n",
              "    .colab-df-convert:hover {\n",
              "      background-color: #E2EBFA;\n",
              "      box-shadow: 0px 1px 2px rgba(60, 64, 67, 0.3), 0px 1px 3px 1px rgba(60, 64, 67, 0.15);\n",
              "      fill: #174EA6;\n",
              "    }\n",
              "\n",
              "    .colab-df-buttons div {\n",
              "      margin-bottom: 4px;\n",
              "    }\n",
              "\n",
              "    [theme=dark] .colab-df-convert {\n",
              "      background-color: #3B4455;\n",
              "      fill: #D2E3FC;\n",
              "    }\n",
              "\n",
              "    [theme=dark] .colab-df-convert:hover {\n",
              "      background-color: #434B5C;\n",
              "      box-shadow: 0px 1px 3px 1px rgba(0, 0, 0, 0.15);\n",
              "      filter: drop-shadow(0px 1px 2px rgba(0, 0, 0, 0.3));\n",
              "      fill: #FFFFFF;\n",
              "    }\n",
              "  </style>\n",
              "\n",
              "    <script>\n",
              "      const buttonEl =\n",
              "        document.querySelector('#df-b341a5fa-eac0-49dc-b6de-71a6d9f1e8c5 button.colab-df-convert');\n",
              "      buttonEl.style.display =\n",
              "        google.colab.kernel.accessAllowed ? 'block' : 'none';\n",
              "\n",
              "      async function convertToInteractive(key) {\n",
              "        const element = document.querySelector('#df-b341a5fa-eac0-49dc-b6de-71a6d9f1e8c5');\n",
              "        const dataTable =\n",
              "          await google.colab.kernel.invokeFunction('convertToInteractive',\n",
              "                                                    [key], {});\n",
              "        if (!dataTable) return;\n",
              "\n",
              "        const docLinkHtml = 'Like what you see? Visit the ' +\n",
              "          '<a target=\"_blank\" href=https://colab.research.google.com/notebooks/data_table.ipynb>data table notebook</a>'\n",
              "          + ' to learn more about interactive tables.';\n",
              "        element.innerHTML = '';\n",
              "        dataTable['output_type'] = 'display_data';\n",
              "        await google.colab.output.renderOutput(dataTable, element);\n",
              "        const docLink = document.createElement('div');\n",
              "        docLink.innerHTML = docLinkHtml;\n",
              "        element.appendChild(docLink);\n",
              "      }\n",
              "    </script>\n",
              "  </div>\n",
              "\n",
              "\n",
              "<div id=\"df-986f5f13-7f82-41dd-87cc-2798c3e3667c\">\n",
              "  <button class=\"colab-df-quickchart\" onclick=\"quickchart('df-986f5f13-7f82-41dd-87cc-2798c3e3667c')\"\n",
              "            title=\"Suggest charts\"\n",
              "            style=\"display:none;\">\n",
              "\n",
              "<svg xmlns=\"http://www.w3.org/2000/svg\" height=\"24px\"viewBox=\"0 0 24 24\"\n",
              "     width=\"24px\">\n",
              "    <g>\n",
              "        <path d=\"M19 3H5c-1.1 0-2 .9-2 2v14c0 1.1.9 2 2 2h14c1.1 0 2-.9 2-2V5c0-1.1-.9-2-2-2zM9 17H7v-7h2v7zm4 0h-2V7h2v10zm4 0h-2v-4h2v4z\"/>\n",
              "    </g>\n",
              "</svg>\n",
              "  </button>\n",
              "\n",
              "<style>\n",
              "  .colab-df-quickchart {\n",
              "      --bg-color: #E8F0FE;\n",
              "      --fill-color: #1967D2;\n",
              "      --hover-bg-color: #E2EBFA;\n",
              "      --hover-fill-color: #174EA6;\n",
              "      --disabled-fill-color: #AAA;\n",
              "      --disabled-bg-color: #DDD;\n",
              "  }\n",
              "\n",
              "  [theme=dark] .colab-df-quickchart {\n",
              "      --bg-color: #3B4455;\n",
              "      --fill-color: #D2E3FC;\n",
              "      --hover-bg-color: #434B5C;\n",
              "      --hover-fill-color: #FFFFFF;\n",
              "      --disabled-bg-color: #3B4455;\n",
              "      --disabled-fill-color: #666;\n",
              "  }\n",
              "\n",
              "  .colab-df-quickchart {\n",
              "    background-color: var(--bg-color);\n",
              "    border: none;\n",
              "    border-radius: 50%;\n",
              "    cursor: pointer;\n",
              "    display: none;\n",
              "    fill: var(--fill-color);\n",
              "    height: 32px;\n",
              "    padding: 0;\n",
              "    width: 32px;\n",
              "  }\n",
              "\n",
              "  .colab-df-quickchart:hover {\n",
              "    background-color: var(--hover-bg-color);\n",
              "    box-shadow: 0 1px 2px rgba(60, 64, 67, 0.3), 0 1px 3px 1px rgba(60, 64, 67, 0.15);\n",
              "    fill: var(--button-hover-fill-color);\n",
              "  }\n",
              "\n",
              "  .colab-df-quickchart-complete:disabled,\n",
              "  .colab-df-quickchart-complete:disabled:hover {\n",
              "    background-color: var(--disabled-bg-color);\n",
              "    fill: var(--disabled-fill-color);\n",
              "    box-shadow: none;\n",
              "  }\n",
              "\n",
              "  .colab-df-spinner {\n",
              "    border: 2px solid var(--fill-color);\n",
              "    border-color: transparent;\n",
              "    border-bottom-color: var(--fill-color);\n",
              "    animation:\n",
              "      spin 1s steps(1) infinite;\n",
              "  }\n",
              "\n",
              "  @keyframes spin {\n",
              "    0% {\n",
              "      border-color: transparent;\n",
              "      border-bottom-color: var(--fill-color);\n",
              "      border-left-color: var(--fill-color);\n",
              "    }\n",
              "    20% {\n",
              "      border-color: transparent;\n",
              "      border-left-color: var(--fill-color);\n",
              "      border-top-color: var(--fill-color);\n",
              "    }\n",
              "    30% {\n",
              "      border-color: transparent;\n",
              "      border-left-color: var(--fill-color);\n",
              "      border-top-color: var(--fill-color);\n",
              "      border-right-color: var(--fill-color);\n",
              "    }\n",
              "    40% {\n",
              "      border-color: transparent;\n",
              "      border-right-color: var(--fill-color);\n",
              "      border-top-color: var(--fill-color);\n",
              "    }\n",
              "    60% {\n",
              "      border-color: transparent;\n",
              "      border-right-color: var(--fill-color);\n",
              "    }\n",
              "    80% {\n",
              "      border-color: transparent;\n",
              "      border-right-color: var(--fill-color);\n",
              "      border-bottom-color: var(--fill-color);\n",
              "    }\n",
              "    90% {\n",
              "      border-color: transparent;\n",
              "      border-bottom-color: var(--fill-color);\n",
              "    }\n",
              "  }\n",
              "</style>\n",
              "\n",
              "  <script>\n",
              "    async function quickchart(key) {\n",
              "      const quickchartButtonEl =\n",
              "        document.querySelector('#' + key + ' button');\n",
              "      quickchartButtonEl.disabled = true;  // To prevent multiple clicks.\n",
              "      quickchartButtonEl.classList.add('colab-df-spinner');\n",
              "      try {\n",
              "        const charts = await google.colab.kernel.invokeFunction(\n",
              "            'suggestCharts', [key], {});\n",
              "      } catch (error) {\n",
              "        console.error('Error during call to suggestCharts:', error);\n",
              "      }\n",
              "      quickchartButtonEl.classList.remove('colab-df-spinner');\n",
              "      quickchartButtonEl.classList.add('colab-df-quickchart-complete');\n",
              "    }\n",
              "    (() => {\n",
              "      let quickchartButtonEl =\n",
              "        document.querySelector('#df-986f5f13-7f82-41dd-87cc-2798c3e3667c button');\n",
              "      quickchartButtonEl.style.display =\n",
              "        google.colab.kernel.accessAllowed ? 'block' : 'none';\n",
              "    })();\n",
              "  </script>\n",
              "</div>\n",
              "    </div>\n",
              "  </div>\n"
            ],
            "application/vnd.google.colaboratory.intrinsic+json": {
              "type": "dataframe",
              "variable_name": "users_per_event_type",
              "summary": "{\n  \"name\": \"users_per_event_type\",\n  \"rows\": 5,\n  \"fields\": [\n    {\n      \"column\": \"event_type\",\n      \"properties\": {\n        \"dtype\": \"string\",\n        \"num_unique_values\": 5,\n        \"samples\": [\n          \"OffersScreenAppear\",\n          \"Tutorial\",\n          \"CartScreenAppear\"\n        ],\n        \"semantic_type\": \"\",\n        \"description\": \"\"\n      }\n    },\n    {\n      \"column\": \"users\",\n      \"properties\": {\n        \"dtype\": \"number\",\n        \"std\": 2070,\n        \"min\": 550,\n        \"max\": 6330,\n        \"num_unique_values\": 5,\n        \"samples\": [\n          3795,\n          550,\n          3105\n        ],\n        \"semantic_type\": \"\",\n        \"description\": \"\"\n      }\n    },\n    {\n      \"column\": \"users_share\",\n      \"properties\": {\n        \"dtype\": \"number\",\n        \"std\": 31.96879853857508,\n        \"min\": 8.49,\n        \"max\": 97.73,\n        \"num_unique_values\": 5,\n        \"samples\": [\n          58.59,\n          8.49,\n          47.94\n        ],\n        \"semantic_type\": \"\",\n        \"description\": \"\"\n      }\n    }\n  ]\n}"
            }
          },
          "metadata": {},
          "execution_count": 17
        }
      ],
      "source": [
        "#таблица количества пользователей по типам событий\n",
        "users_per_event_type = (\n",
        "    data_actual\n",
        "        .groupby('event_type', as_index=False)['user_id']\n",
        "        .agg('nunique')\n",
        "        .sort_values(by='user_id', ascending=False)\n",
        ").reset_index(drop=True)\n",
        "\n",
        "users_per_event_type.columns=['event_type', 'users']\n",
        "\n",
        "#количество пользователей в логе\n",
        "users_count = data_actual['user_id'].nunique()\n",
        "\n",
        "#доля пользователей, совершавших события разных типов\n",
        "\n",
        "users_per_event_type['users_share'] = round(\n",
        "        users_per_event_type['users'] * 100 / users_count, 2\n",
        "        )\n",
        "\n",
        "\n",
        "#вывод таблицы\n",
        "users_per_event_type"
      ]
    },
    {
      "cell_type": "markdown",
      "metadata": {
        "id": "FuEsILxZrtTd"
      },
      "source": [
        "По-видимому, воронка событий выглядит следующим образом:\n",
        "\n",
        "1. **\"MainScreenAppear\"** - пользователь заходит на главную страницу;\n",
        "\n",
        "2. **\"OffersScreenAppear\"** - пользователю предложены товары, формирование заказа;\n",
        "\n",
        "3. **\"CartScreenAppear\"** - пользователь перешёл в \"корзину\" с выбранными товарами;\n",
        "\n",
        "4. **\"PaymentScreenSuccessful\"** - пользователь успешно оплатил товары;\n"
      ]
    },
    {
      "cell_type": "markdown",
      "metadata": {
        "id": "FoWPhwcjrtTe"
      },
      "source": [
        "#### Конверсия воронки событий и её отдельных этапов"
      ]
    },
    {
      "cell_type": "code",
      "execution_count": 18,
      "metadata": {
        "colab": {
          "base_uri": "https://localhost:8080/",
          "height": 724
        },
        "id": "U6Hy-Q6YrtTe",
        "outputId": "f80e893a-88fe-4456-b018-9041d5c6e32d"
      },
      "outputs": [
        {
          "output_type": "display_data",
          "data": {
            "text/plain": [
              "                event_type  users  users_share  step_conversion\n",
              "0         MainScreenAppear   6330        97.73            97.73\n",
              "1       OffersScreenAppear   3795        58.59            59.95\n",
              "2         CartScreenAppear   3105        47.94            81.82\n",
              "3  PaymentScreenSuccessful   2936        45.33            94.56\n",
              "4                 Tutorial    550         8.49            18.73"
            ],
            "text/html": [
              "\n",
              "  <div id=\"df-9be91eaf-7ae3-47dc-be82-e6d6e436ff12\" class=\"colab-df-container\">\n",
              "    <div>\n",
              "<style scoped>\n",
              "    .dataframe tbody tr th:only-of-type {\n",
              "        vertical-align: middle;\n",
              "    }\n",
              "\n",
              "    .dataframe tbody tr th {\n",
              "        vertical-align: top;\n",
              "    }\n",
              "\n",
              "    .dataframe thead th {\n",
              "        text-align: right;\n",
              "    }\n",
              "</style>\n",
              "<table border=\"1\" class=\"dataframe\">\n",
              "  <thead>\n",
              "    <tr style=\"text-align: right;\">\n",
              "      <th></th>\n",
              "      <th>event_type</th>\n",
              "      <th>users</th>\n",
              "      <th>users_share</th>\n",
              "      <th>step_conversion</th>\n",
              "    </tr>\n",
              "  </thead>\n",
              "  <tbody>\n",
              "    <tr>\n",
              "      <th>0</th>\n",
              "      <td>MainScreenAppear</td>\n",
              "      <td>6330</td>\n",
              "      <td>97.73</td>\n",
              "      <td>97.73</td>\n",
              "    </tr>\n",
              "    <tr>\n",
              "      <th>1</th>\n",
              "      <td>OffersScreenAppear</td>\n",
              "      <td>3795</td>\n",
              "      <td>58.59</td>\n",
              "      <td>59.95</td>\n",
              "    </tr>\n",
              "    <tr>\n",
              "      <th>2</th>\n",
              "      <td>CartScreenAppear</td>\n",
              "      <td>3105</td>\n",
              "      <td>47.94</td>\n",
              "      <td>81.82</td>\n",
              "    </tr>\n",
              "    <tr>\n",
              "      <th>3</th>\n",
              "      <td>PaymentScreenSuccessful</td>\n",
              "      <td>2936</td>\n",
              "      <td>45.33</td>\n",
              "      <td>94.56</td>\n",
              "    </tr>\n",
              "    <tr>\n",
              "      <th>4</th>\n",
              "      <td>Tutorial</td>\n",
              "      <td>550</td>\n",
              "      <td>8.49</td>\n",
              "      <td>18.73</td>\n",
              "    </tr>\n",
              "  </tbody>\n",
              "</table>\n",
              "</div>\n",
              "    <div class=\"colab-df-buttons\">\n",
              "\n",
              "  <div class=\"colab-df-container\">\n",
              "    <button class=\"colab-df-convert\" onclick=\"convertToInteractive('df-9be91eaf-7ae3-47dc-be82-e6d6e436ff12')\"\n",
              "            title=\"Convert this dataframe to an interactive table.\"\n",
              "            style=\"display:none;\">\n",
              "\n",
              "  <svg xmlns=\"http://www.w3.org/2000/svg\" height=\"24px\" viewBox=\"0 -960 960 960\">\n",
              "    <path d=\"M120-120v-720h720v720H120Zm60-500h600v-160H180v160Zm220 220h160v-160H400v160Zm0 220h160v-160H400v160ZM180-400h160v-160H180v160Zm440 0h160v-160H620v160ZM180-180h160v-160H180v160Zm440 0h160v-160H620v160Z\"/>\n",
              "  </svg>\n",
              "    </button>\n",
              "\n",
              "  <style>\n",
              "    .colab-df-container {\n",
              "      display:flex;\n",
              "      gap: 12px;\n",
              "    }\n",
              "\n",
              "    .colab-df-convert {\n",
              "      background-color: #E8F0FE;\n",
              "      border: none;\n",
              "      border-radius: 50%;\n",
              "      cursor: pointer;\n",
              "      display: none;\n",
              "      fill: #1967D2;\n",
              "      height: 32px;\n",
              "      padding: 0 0 0 0;\n",
              "      width: 32px;\n",
              "    }\n",
              "\n",
              "    .colab-df-convert:hover {\n",
              "      background-color: #E2EBFA;\n",
              "      box-shadow: 0px 1px 2px rgba(60, 64, 67, 0.3), 0px 1px 3px 1px rgba(60, 64, 67, 0.15);\n",
              "      fill: #174EA6;\n",
              "    }\n",
              "\n",
              "    .colab-df-buttons div {\n",
              "      margin-bottom: 4px;\n",
              "    }\n",
              "\n",
              "    [theme=dark] .colab-df-convert {\n",
              "      background-color: #3B4455;\n",
              "      fill: #D2E3FC;\n",
              "    }\n",
              "\n",
              "    [theme=dark] .colab-df-convert:hover {\n",
              "      background-color: #434B5C;\n",
              "      box-shadow: 0px 1px 3px 1px rgba(0, 0, 0, 0.15);\n",
              "      filter: drop-shadow(0px 1px 2px rgba(0, 0, 0, 0.3));\n",
              "      fill: #FFFFFF;\n",
              "    }\n",
              "  </style>\n",
              "\n",
              "    <script>\n",
              "      const buttonEl =\n",
              "        document.querySelector('#df-9be91eaf-7ae3-47dc-be82-e6d6e436ff12 button.colab-df-convert');\n",
              "      buttonEl.style.display =\n",
              "        google.colab.kernel.accessAllowed ? 'block' : 'none';\n",
              "\n",
              "      async function convertToInteractive(key) {\n",
              "        const element = document.querySelector('#df-9be91eaf-7ae3-47dc-be82-e6d6e436ff12');\n",
              "        const dataTable =\n",
              "          await google.colab.kernel.invokeFunction('convertToInteractive',\n",
              "                                                    [key], {});\n",
              "        if (!dataTable) return;\n",
              "\n",
              "        const docLinkHtml = 'Like what you see? Visit the ' +\n",
              "          '<a target=\"_blank\" href=https://colab.research.google.com/notebooks/data_table.ipynb>data table notebook</a>'\n",
              "          + ' to learn more about interactive tables.';\n",
              "        element.innerHTML = '';\n",
              "        dataTable['output_type'] = 'display_data';\n",
              "        await google.colab.output.renderOutput(dataTable, element);\n",
              "        const docLink = document.createElement('div');\n",
              "        docLink.innerHTML = docLinkHtml;\n",
              "        element.appendChild(docLink);\n",
              "      }\n",
              "    </script>\n",
              "  </div>\n",
              "\n",
              "\n",
              "<div id=\"df-bcf150ae-e451-43ac-922e-54214b7b8f64\">\n",
              "  <button class=\"colab-df-quickchart\" onclick=\"quickchart('df-bcf150ae-e451-43ac-922e-54214b7b8f64')\"\n",
              "            title=\"Suggest charts\"\n",
              "            style=\"display:none;\">\n",
              "\n",
              "<svg xmlns=\"http://www.w3.org/2000/svg\" height=\"24px\"viewBox=\"0 0 24 24\"\n",
              "     width=\"24px\">\n",
              "    <g>\n",
              "        <path d=\"M19 3H5c-1.1 0-2 .9-2 2v14c0 1.1.9 2 2 2h14c1.1 0 2-.9 2-2V5c0-1.1-.9-2-2-2zM9 17H7v-7h2v7zm4 0h-2V7h2v10zm4 0h-2v-4h2v4z\"/>\n",
              "    </g>\n",
              "</svg>\n",
              "  </button>\n",
              "\n",
              "<style>\n",
              "  .colab-df-quickchart {\n",
              "      --bg-color: #E8F0FE;\n",
              "      --fill-color: #1967D2;\n",
              "      --hover-bg-color: #E2EBFA;\n",
              "      --hover-fill-color: #174EA6;\n",
              "      --disabled-fill-color: #AAA;\n",
              "      --disabled-bg-color: #DDD;\n",
              "  }\n",
              "\n",
              "  [theme=dark] .colab-df-quickchart {\n",
              "      --bg-color: #3B4455;\n",
              "      --fill-color: #D2E3FC;\n",
              "      --hover-bg-color: #434B5C;\n",
              "      --hover-fill-color: #FFFFFF;\n",
              "      --disabled-bg-color: #3B4455;\n",
              "      --disabled-fill-color: #666;\n",
              "  }\n",
              "\n",
              "  .colab-df-quickchart {\n",
              "    background-color: var(--bg-color);\n",
              "    border: none;\n",
              "    border-radius: 50%;\n",
              "    cursor: pointer;\n",
              "    display: none;\n",
              "    fill: var(--fill-color);\n",
              "    height: 32px;\n",
              "    padding: 0;\n",
              "    width: 32px;\n",
              "  }\n",
              "\n",
              "  .colab-df-quickchart:hover {\n",
              "    background-color: var(--hover-bg-color);\n",
              "    box-shadow: 0 1px 2px rgba(60, 64, 67, 0.3), 0 1px 3px 1px rgba(60, 64, 67, 0.15);\n",
              "    fill: var(--button-hover-fill-color);\n",
              "  }\n",
              "\n",
              "  .colab-df-quickchart-complete:disabled,\n",
              "  .colab-df-quickchart-complete:disabled:hover {\n",
              "    background-color: var(--disabled-bg-color);\n",
              "    fill: var(--disabled-fill-color);\n",
              "    box-shadow: none;\n",
              "  }\n",
              "\n",
              "  .colab-df-spinner {\n",
              "    border: 2px solid var(--fill-color);\n",
              "    border-color: transparent;\n",
              "    border-bottom-color: var(--fill-color);\n",
              "    animation:\n",
              "      spin 1s steps(1) infinite;\n",
              "  }\n",
              "\n",
              "  @keyframes spin {\n",
              "    0% {\n",
              "      border-color: transparent;\n",
              "      border-bottom-color: var(--fill-color);\n",
              "      border-left-color: var(--fill-color);\n",
              "    }\n",
              "    20% {\n",
              "      border-color: transparent;\n",
              "      border-left-color: var(--fill-color);\n",
              "      border-top-color: var(--fill-color);\n",
              "    }\n",
              "    30% {\n",
              "      border-color: transparent;\n",
              "      border-left-color: var(--fill-color);\n",
              "      border-top-color: var(--fill-color);\n",
              "      border-right-color: var(--fill-color);\n",
              "    }\n",
              "    40% {\n",
              "      border-color: transparent;\n",
              "      border-right-color: var(--fill-color);\n",
              "      border-top-color: var(--fill-color);\n",
              "    }\n",
              "    60% {\n",
              "      border-color: transparent;\n",
              "      border-right-color: var(--fill-color);\n",
              "    }\n",
              "    80% {\n",
              "      border-color: transparent;\n",
              "      border-right-color: var(--fill-color);\n",
              "      border-bottom-color: var(--fill-color);\n",
              "    }\n",
              "    90% {\n",
              "      border-color: transparent;\n",
              "      border-bottom-color: var(--fill-color);\n",
              "    }\n",
              "  }\n",
              "</style>\n",
              "\n",
              "  <script>\n",
              "    async function quickchart(key) {\n",
              "      const quickchartButtonEl =\n",
              "        document.querySelector('#' + key + ' button');\n",
              "      quickchartButtonEl.disabled = true;  // To prevent multiple clicks.\n",
              "      quickchartButtonEl.classList.add('colab-df-spinner');\n",
              "      try {\n",
              "        const charts = await google.colab.kernel.invokeFunction(\n",
              "            'suggestCharts', [key], {});\n",
              "      } catch (error) {\n",
              "        console.error('Error during call to suggestCharts:', error);\n",
              "      }\n",
              "      quickchartButtonEl.classList.remove('colab-df-spinner');\n",
              "      quickchartButtonEl.classList.add('colab-df-quickchart-complete');\n",
              "    }\n",
              "    (() => {\n",
              "      let quickchartButtonEl =\n",
              "        document.querySelector('#df-bcf150ae-e451-43ac-922e-54214b7b8f64 button');\n",
              "      quickchartButtonEl.style.display =\n",
              "        google.colab.kernel.accessAllowed ? 'block' : 'none';\n",
              "    })();\n",
              "  </script>\n",
              "</div>\n",
              "    </div>\n",
              "  </div>\n"
            ],
            "application/vnd.google.colaboratory.intrinsic+json": {
              "type": "dataframe",
              "variable_name": "users_per_event_type",
              "summary": "{\n  \"name\": \"users_per_event_type\",\n  \"rows\": 5,\n  \"fields\": [\n    {\n      \"column\": \"event_type\",\n      \"properties\": {\n        \"dtype\": \"string\",\n        \"num_unique_values\": 5,\n        \"samples\": [\n          \"OffersScreenAppear\",\n          \"Tutorial\",\n          \"CartScreenAppear\"\n        ],\n        \"semantic_type\": \"\",\n        \"description\": \"\"\n      }\n    },\n    {\n      \"column\": \"users\",\n      \"properties\": {\n        \"dtype\": \"number\",\n        \"std\": 2070,\n        \"min\": 550,\n        \"max\": 6330,\n        \"num_unique_values\": 5,\n        \"samples\": [\n          3795,\n          550,\n          3105\n        ],\n        \"semantic_type\": \"\",\n        \"description\": \"\"\n      }\n    },\n    {\n      \"column\": \"users_share\",\n      \"properties\": {\n        \"dtype\": \"number\",\n        \"std\": 31.96879853857508,\n        \"min\": 8.49,\n        \"max\": 97.73,\n        \"num_unique_values\": 5,\n        \"samples\": [\n          58.59,\n          8.49,\n          47.94\n        ],\n        \"semantic_type\": \"\",\n        \"description\": \"\"\n      }\n    },\n    {\n      \"column\": \"step_conversion\",\n      \"properties\": {\n        \"dtype\": \"number\",\n        \"std\": 32.55732436795137,\n        \"min\": 18.73,\n        \"max\": 97.73,\n        \"num_unique_values\": 5,\n        \"samples\": [\n          59.95,\n          18.73,\n          81.82\n        ],\n        \"semantic_type\": \"\",\n        \"description\": \"\"\n      }\n    }\n  ]\n}"
            }
          },
          "metadata": {}
        },
        {
          "output_type": "display_data",
          "data": {
            "text/plain": [
              "'Конверсия от первого события до успешной оплаты: 46.38 %'"
            ],
            "application/vnd.google.colaboratory.intrinsic+json": {
              "type": "string"
            }
          },
          "metadata": {}
        },
        {
          "output_type": "display_data",
          "data": {
            "text/html": [
              "<html>\n",
              "<head><meta charset=\"utf-8\" /></head>\n",
              "<body>\n",
              "    <div>            <script src=\"https://cdnjs.cloudflare.com/ajax/libs/mathjax/2.7.5/MathJax.js?config=TeX-AMS-MML_SVG\"></script><script type=\"text/javascript\">if (window.MathJax && window.MathJax.Hub && window.MathJax.Hub.Config) {window.MathJax.Hub.Config({SVG: {font: \"STIX-Web\"}});}</script>                <script type=\"text/javascript\">window.PlotlyConfig = {MathJaxConfig: 'local'};</script>\n",
              "        <script charset=\"utf-8\" src=\"https://cdn.plot.ly/plotly-2.24.1.min.js\"></script>                <div id=\"4abd09e9-c4cd-4a15-a0e7-066f910ee5c2\" class=\"plotly-graph-div\" style=\"height:500px; width:1300px;\"></div>            <script type=\"text/javascript\">                                    window.PLOTLYENV=window.PLOTLYENV || {};                                    if (document.getElementById(\"4abd09e9-c4cd-4a15-a0e7-066f910ee5c2\")) {                    Plotly.newPlot(                        \"4abd09e9-c4cd-4a15-a0e7-066f910ee5c2\",                        [{\"hovertemplate\":\"\\u041a\\u043e\\u043d\\u0432\\u0435\\u0440\\u0441\\u0438\\u044f, %=%{x}\\u003cbr\\u003e\\u0421\\u043e\\u0431\\u044b\\u0442\\u0438\\u0435 =%{y}\\u003cextra\\u003e\\u003c\\u002fextra\\u003e\",\"legendgroup\":\"\",\"marker\":{\"color\":\"#636efa\"},\"name\":\"\",\"orientation\":\"h\",\"showlegend\":false,\"x\":[97.73,59.95,81.82,94.56,18.73],\"xaxis\":\"x\",\"y\":[\"MainScreenAppear\",\"OffersScreenAppear\",\"CartScreenAppear\",\"PaymentScreenSuccessful\",\"Tutorial\"],\"yaxis\":\"y\",\"type\":\"funnel\"}],                        {\"template\":{\"data\":{\"histogram2dcontour\":[{\"type\":\"histogram2dcontour\",\"colorbar\":{\"outlinewidth\":0,\"ticks\":\"\"},\"colorscale\":[[0.0,\"#0d0887\"],[0.1111111111111111,\"#46039f\"],[0.2222222222222222,\"#7201a8\"],[0.3333333333333333,\"#9c179e\"],[0.4444444444444444,\"#bd3786\"],[0.5555555555555556,\"#d8576b\"],[0.6666666666666666,\"#ed7953\"],[0.7777777777777778,\"#fb9f3a\"],[0.8888888888888888,\"#fdca26\"],[1.0,\"#f0f921\"]]}],\"choropleth\":[{\"type\":\"choropleth\",\"colorbar\":{\"outlinewidth\":0,\"ticks\":\"\"}}],\"histogram2d\":[{\"type\":\"histogram2d\",\"colorbar\":{\"outlinewidth\":0,\"ticks\":\"\"},\"colorscale\":[[0.0,\"#0d0887\"],[0.1111111111111111,\"#46039f\"],[0.2222222222222222,\"#7201a8\"],[0.3333333333333333,\"#9c179e\"],[0.4444444444444444,\"#bd3786\"],[0.5555555555555556,\"#d8576b\"],[0.6666666666666666,\"#ed7953\"],[0.7777777777777778,\"#fb9f3a\"],[0.8888888888888888,\"#fdca26\"],[1.0,\"#f0f921\"]]}],\"heatmap\":[{\"type\":\"heatmap\",\"colorbar\":{\"outlinewidth\":0,\"ticks\":\"\"},\"colorscale\":[[0.0,\"#0d0887\"],[0.1111111111111111,\"#46039f\"],[0.2222222222222222,\"#7201a8\"],[0.3333333333333333,\"#9c179e\"],[0.4444444444444444,\"#bd3786\"],[0.5555555555555556,\"#d8576b\"],[0.6666666666666666,\"#ed7953\"],[0.7777777777777778,\"#fb9f3a\"],[0.8888888888888888,\"#fdca26\"],[1.0,\"#f0f921\"]]}],\"heatmapgl\":[{\"type\":\"heatmapgl\",\"colorbar\":{\"outlinewidth\":0,\"ticks\":\"\"},\"colorscale\":[[0.0,\"#0d0887\"],[0.1111111111111111,\"#46039f\"],[0.2222222222222222,\"#7201a8\"],[0.3333333333333333,\"#9c179e\"],[0.4444444444444444,\"#bd3786\"],[0.5555555555555556,\"#d8576b\"],[0.6666666666666666,\"#ed7953\"],[0.7777777777777778,\"#fb9f3a\"],[0.8888888888888888,\"#fdca26\"],[1.0,\"#f0f921\"]]}],\"contourcarpet\":[{\"type\":\"contourcarpet\",\"colorbar\":{\"outlinewidth\":0,\"ticks\":\"\"}}],\"contour\":[{\"type\":\"contour\",\"colorbar\":{\"outlinewidth\":0,\"ticks\":\"\"},\"colorscale\":[[0.0,\"#0d0887\"],[0.1111111111111111,\"#46039f\"],[0.2222222222222222,\"#7201a8\"],[0.3333333333333333,\"#9c179e\"],[0.4444444444444444,\"#bd3786\"],[0.5555555555555556,\"#d8576b\"],[0.6666666666666666,\"#ed7953\"],[0.7777777777777778,\"#fb9f3a\"],[0.8888888888888888,\"#fdca26\"],[1.0,\"#f0f921\"]]}],\"surface\":[{\"type\":\"surface\",\"colorbar\":{\"outlinewidth\":0,\"ticks\":\"\"},\"colorscale\":[[0.0,\"#0d0887\"],[0.1111111111111111,\"#46039f\"],[0.2222222222222222,\"#7201a8\"],[0.3333333333333333,\"#9c179e\"],[0.4444444444444444,\"#bd3786\"],[0.5555555555555556,\"#d8576b\"],[0.6666666666666666,\"#ed7953\"],[0.7777777777777778,\"#fb9f3a\"],[0.8888888888888888,\"#fdca26\"],[1.0,\"#f0f921\"]]}],\"mesh3d\":[{\"type\":\"mesh3d\",\"colorbar\":{\"outlinewidth\":0,\"ticks\":\"\"}}],\"scatter\":[{\"fillpattern\":{\"fillmode\":\"overlay\",\"size\":10,\"solidity\":0.2},\"type\":\"scatter\"}],\"parcoords\":[{\"type\":\"parcoords\",\"line\":{\"colorbar\":{\"outlinewidth\":0,\"ticks\":\"\"}}}],\"scatterpolargl\":[{\"type\":\"scatterpolargl\",\"marker\":{\"colorbar\":{\"outlinewidth\":0,\"ticks\":\"\"}}}],\"bar\":[{\"error_x\":{\"color\":\"#2a3f5f\"},\"error_y\":{\"color\":\"#2a3f5f\"},\"marker\":{\"line\":{\"color\":\"#E5ECF6\",\"width\":0.5},\"pattern\":{\"fillmode\":\"overlay\",\"size\":10,\"solidity\":0.2}},\"type\":\"bar\"}],\"scattergeo\":[{\"type\":\"scattergeo\",\"marker\":{\"colorbar\":{\"outlinewidth\":0,\"ticks\":\"\"}}}],\"scatterpolar\":[{\"type\":\"scatterpolar\",\"marker\":{\"colorbar\":{\"outlinewidth\":0,\"ticks\":\"\"}}}],\"histogram\":[{\"marker\":{\"pattern\":{\"fillmode\":\"overlay\",\"size\":10,\"solidity\":0.2}},\"type\":\"histogram\"}],\"scattergl\":[{\"type\":\"scattergl\",\"marker\":{\"colorbar\":{\"outlinewidth\":0,\"ticks\":\"\"}}}],\"scatter3d\":[{\"type\":\"scatter3d\",\"line\":{\"colorbar\":{\"outlinewidth\":0,\"ticks\":\"\"}},\"marker\":{\"colorbar\":{\"outlinewidth\":0,\"ticks\":\"\"}}}],\"scattermapbox\":[{\"type\":\"scattermapbox\",\"marker\":{\"colorbar\":{\"outlinewidth\":0,\"ticks\":\"\"}}}],\"scatterternary\":[{\"type\":\"scatterternary\",\"marker\":{\"colorbar\":{\"outlinewidth\":0,\"ticks\":\"\"}}}],\"scattercarpet\":[{\"type\":\"scattercarpet\",\"marker\":{\"colorbar\":{\"outlinewidth\":0,\"ticks\":\"\"}}}],\"carpet\":[{\"aaxis\":{\"endlinecolor\":\"#2a3f5f\",\"gridcolor\":\"white\",\"linecolor\":\"white\",\"minorgridcolor\":\"white\",\"startlinecolor\":\"#2a3f5f\"},\"baxis\":{\"endlinecolor\":\"#2a3f5f\",\"gridcolor\":\"white\",\"linecolor\":\"white\",\"minorgridcolor\":\"white\",\"startlinecolor\":\"#2a3f5f\"},\"type\":\"carpet\"}],\"table\":[{\"cells\":{\"fill\":{\"color\":\"#EBF0F8\"},\"line\":{\"color\":\"white\"}},\"header\":{\"fill\":{\"color\":\"#C8D4E3\"},\"line\":{\"color\":\"white\"}},\"type\":\"table\"}],\"barpolar\":[{\"marker\":{\"line\":{\"color\":\"#E5ECF6\",\"width\":0.5},\"pattern\":{\"fillmode\":\"overlay\",\"size\":10,\"solidity\":0.2}},\"type\":\"barpolar\"}],\"pie\":[{\"automargin\":true,\"type\":\"pie\"}]},\"layout\":{\"autotypenumbers\":\"strict\",\"colorway\":[\"#636efa\",\"#EF553B\",\"#00cc96\",\"#ab63fa\",\"#FFA15A\",\"#19d3f3\",\"#FF6692\",\"#B6E880\",\"#FF97FF\",\"#FECB52\"],\"font\":{\"color\":\"#2a3f5f\"},\"hovermode\":\"closest\",\"hoverlabel\":{\"align\":\"left\"},\"paper_bgcolor\":\"white\",\"plot_bgcolor\":\"#E5ECF6\",\"polar\":{\"bgcolor\":\"#E5ECF6\",\"angularaxis\":{\"gridcolor\":\"white\",\"linecolor\":\"white\",\"ticks\":\"\"},\"radialaxis\":{\"gridcolor\":\"white\",\"linecolor\":\"white\",\"ticks\":\"\"}},\"ternary\":{\"bgcolor\":\"#E5ECF6\",\"aaxis\":{\"gridcolor\":\"white\",\"linecolor\":\"white\",\"ticks\":\"\"},\"baxis\":{\"gridcolor\":\"white\",\"linecolor\":\"white\",\"ticks\":\"\"},\"caxis\":{\"gridcolor\":\"white\",\"linecolor\":\"white\",\"ticks\":\"\"}},\"coloraxis\":{\"colorbar\":{\"outlinewidth\":0,\"ticks\":\"\"}},\"colorscale\":{\"sequential\":[[0.0,\"#0d0887\"],[0.1111111111111111,\"#46039f\"],[0.2222222222222222,\"#7201a8\"],[0.3333333333333333,\"#9c179e\"],[0.4444444444444444,\"#bd3786\"],[0.5555555555555556,\"#d8576b\"],[0.6666666666666666,\"#ed7953\"],[0.7777777777777778,\"#fb9f3a\"],[0.8888888888888888,\"#fdca26\"],[1.0,\"#f0f921\"]],\"sequentialminus\":[[0.0,\"#0d0887\"],[0.1111111111111111,\"#46039f\"],[0.2222222222222222,\"#7201a8\"],[0.3333333333333333,\"#9c179e\"],[0.4444444444444444,\"#bd3786\"],[0.5555555555555556,\"#d8576b\"],[0.6666666666666666,\"#ed7953\"],[0.7777777777777778,\"#fb9f3a\"],[0.8888888888888888,\"#fdca26\"],[1.0,\"#f0f921\"]],\"diverging\":[[0,\"#8e0152\"],[0.1,\"#c51b7d\"],[0.2,\"#de77ae\"],[0.3,\"#f1b6da\"],[0.4,\"#fde0ef\"],[0.5,\"#f7f7f7\"],[0.6,\"#e6f5d0\"],[0.7,\"#b8e186\"],[0.8,\"#7fbc41\"],[0.9,\"#4d9221\"],[1,\"#276419\"]]},\"xaxis\":{\"gridcolor\":\"white\",\"linecolor\":\"white\",\"ticks\":\"\",\"title\":{\"standoff\":15},\"zerolinecolor\":\"white\",\"automargin\":true,\"zerolinewidth\":2},\"yaxis\":{\"gridcolor\":\"white\",\"linecolor\":\"white\",\"ticks\":\"\",\"title\":{\"standoff\":15},\"zerolinecolor\":\"white\",\"automargin\":true,\"zerolinewidth\":2},\"scene\":{\"xaxis\":{\"backgroundcolor\":\"#E5ECF6\",\"gridcolor\":\"white\",\"linecolor\":\"white\",\"showbackground\":true,\"ticks\":\"\",\"zerolinecolor\":\"white\",\"gridwidth\":2},\"yaxis\":{\"backgroundcolor\":\"#E5ECF6\",\"gridcolor\":\"white\",\"linecolor\":\"white\",\"showbackground\":true,\"ticks\":\"\",\"zerolinecolor\":\"white\",\"gridwidth\":2},\"zaxis\":{\"backgroundcolor\":\"#E5ECF6\",\"gridcolor\":\"white\",\"linecolor\":\"white\",\"showbackground\":true,\"ticks\":\"\",\"zerolinecolor\":\"white\",\"gridwidth\":2}},\"shapedefaults\":{\"line\":{\"color\":\"#2a3f5f\"}},\"annotationdefaults\":{\"arrowcolor\":\"#2a3f5f\",\"arrowhead\":0,\"arrowwidth\":1},\"geo\":{\"bgcolor\":\"white\",\"landcolor\":\"#E5ECF6\",\"subunitcolor\":\"white\",\"showland\":true,\"showlakes\":true,\"lakecolor\":\"white\"},\"title\":{\"x\":0.05},\"mapbox\":{\"style\":\"light\"}}},\"xaxis\":{\"anchor\":\"y\",\"domain\":[0.0,1.0],\"title\":{\"text\":\"\\u041a\\u043e\\u043d\\u0432\\u0435\\u0440\\u0441\\u0438\\u044f, %\"}},\"yaxis\":{\"anchor\":\"x\",\"domain\":[0.0,1.0],\"title\":{\"text\":\"\\u0421\\u043e\\u0431\\u044b\\u0442\\u0438\\u0435 \"}},\"legend\":{\"tracegroupgap\":0},\"title\":{\"text\":\"\\u041a\\u043e\\u043d\\u0432\\u0435\\u0440\\u0441\\u0438\\u044f \\u043a\\u0430\\u0436\\u0434\\u043e\\u0433\\u043e \\u0441\\u043b\\u0435\\u0434\\u0443\\u044e\\u0449\\u0435\\u0433\\u043e \\u0448\\u0430\\u0433\\u0430 \\u0432\\u043e\\u0440\\u043e\\u043d\\u043a\\u0438 \\u0441\\u043e\\u0431\\u044b\\u0442\\u0438\\u0439\"},\"height\":500,\"width\":1300},                        {\"responsive\": true}                    ).then(function(){\n",
              "                            \n",
              "var gd = document.getElementById('4abd09e9-c4cd-4a15-a0e7-066f910ee5c2');\n",
              "var x = new MutationObserver(function (mutations, observer) {{\n",
              "        var display = window.getComputedStyle(gd).display;\n",
              "        if (!display || display === 'none') {{\n",
              "            console.log([gd, 'removed!']);\n",
              "            Plotly.purge(gd);\n",
              "            observer.disconnect();\n",
              "        }}\n",
              "}});\n",
              "\n",
              "// Listen for the removal of the full notebook cells\n",
              "var notebookContainer = gd.closest('#notebook-container');\n",
              "if (notebookContainer) {{\n",
              "    x.observe(notebookContainer, {childList: true});\n",
              "}}\n",
              "\n",
              "// Listen for the clearing of the current output cell\n",
              "var outputEl = gd.closest('.output');\n",
              "if (outputEl) {{\n",
              "    x.observe(outputEl, {childList: true});\n",
              "}}\n",
              "\n",
              "                        })                };                            </script>        </div>\n",
              "</body>\n",
              "</html>"
            ]
          },
          "metadata": {}
        }
      ],
      "source": [
        "#конверсия  каждого отдельного этапа воронки в процентах\n",
        "\n",
        "users_per_event_type['step_conversion'] = (round(\n",
        "    users_per_event_type['users'] * 100 / users_per_event_type['users'].shift(1),\n",
        "    2)\n",
        ").fillna(users_per_event_type.loc[0]['users_share'])\n",
        "\n",
        "\n",
        "display(users_per_event_type)\n",
        "\n",
        "#конверсия от первого события до оплаты\n",
        "conversion = (\n",
        "    users_per_event_type.loc[3]['users'] * 100\n",
        "    /\n",
        "    users_per_event_type.loc[0]['users']\n",
        "    )\n",
        "\n",
        "display(\n",
        "    f'Конверсия от первого события до успешной оплаты: {conversion:.2f} %'\n",
        ")\n",
        "\n",
        "#график конверсии каждого следующего шага\n",
        "\n",
        "fig = px.funnel(\n",
        "    users_per_event_type, x='step_conversion', y='event_type',\n",
        "    title='Конверсия каждого следующего шага воронки событий',\n",
        "    labels = {\n",
        "        'step_conversion':'Конверсия, %',\n",
        "        'event_type':'Событие '\n",
        "    },\n",
        "    width=1300,\n",
        "    height=500\n",
        ")\n",
        "fig.show()\n",
        "\n",
        "\n"
      ]
    },
    {
      "cell_type": "markdown",
      "metadata": {
        "id": "IDNsQv5KrtTg"
      },
      "source": [
        "47,7%  пользователей проходят от первого события до успешной оплаты заказа. Больше всего пользоветелей теряется на этапе **\"OffersScreenAppear\"** - предложения товаров и формирования заказа: 38,1 % пользователей, открывших прилоежение и посетивших главную страницу, не переходят к следующему этапу."
      ]
    },
    {
      "cell_type": "markdown",
      "metadata": {
        "id": "8HftL5dWrtTg"
      },
      "source": [
        "### Вывод по разделу исследовательского анализа данных\n",
        "\n",
        "Полные данные в логе есть только за период с 1 по 7 августа.\n",
        "\n",
        "Количество пользователей за этот период:\n",
        "\n",
        "- общее: 7534;\n",
        "- группа 246: 2484;\n",
        "- группа 247: 2513;\n",
        "- группа 248: 2537.\n",
        "\n",
        "В логе события 5 видов:\n",
        "\n",
        "- **\"MainScreenAppear\"** - пользователь заходит на главную страницу;\n",
        "- **\"OffersScreenAppear\"** - пользователю предложены товары;\n",
        "- **\"CartScreenAppear\"** - пользователь перешёл в \"корзину\" с выбранными товарами;\n",
        "- **\"PaymentScreenSuccessful\"** - пользователь успешно оплатил товары;\n",
        "- **\"Tutorial\"** - пользователь перешёл на страницу с руководством.\n",
        "\n",
        "Воронка событий выглядит следующим образом:\n",
        "\n",
        "1. **\"MainScreenAppear\"** - пользователь заходит на главную страницу - совершают 98,47% пользователей, зашедших в приложение;\n",
        "\n",
        "2. **\"OffersScreenAppear\"** - пользователю предложены товары, формирование заказа - совершают 61,91% пользователей, открывших главную страницу;\n",
        "\n",
        "3. **\"CartScreenAppear\"** - пользователь перешёл в \"корзину\" с выбранными товарами - совершают 81,3% пользователей, выбравших товары;\n",
        "\n",
        "4. **\"PaymentScreenSuccessful\"** - пользователь успешно оплатил товары - совершают 94,78% пользователей, оформивших заказ в корзине;\n",
        "\n",
        "47,7%  пользователей проходят от первого события до успешной оплаты заказа.\n",
        "\n",
        "Больше всего пользоветелей теряется на этапе **\"OffersScreenAppear\"** - предложения товаров и формирования заказа: 38,1 % пользователей, открывших прилоежение и посетивших главную страницу, не переходят к следующему этапу."
      ]
    },
    {
      "cell_type": "markdown",
      "metadata": {
        "id": "KDquB4dprtTg"
      },
      "source": [
        "## Статистический анализ данных\n",
        "\n"
      ]
    },
    {
      "cell_type": "markdown",
      "source": [
        "### Выбор теста для проверки гипотез\n",
        "\n",
        "В данном исследования будут проверены гипотезы о равенстве значений конверсии для разных групп на разных этапах продуктовой воронки. Для проверки таких параметров хорошо подходит **z-тест**, поскольку для его проведения необходимо, чтобы исследуемая величина была распределена нормально с известным стандартным отклонением; при проверке гипотезы о равенстве конверсий измеряемой статистикой будет разница между пропорциями, т.е. величина, которая распределена нормально, а стандартное отклонение поддаётся вычислению.\n",
        "\n"
      ],
      "metadata": {
        "id": "oNbsPiMTx1Ai"
      }
    },
    {
      "cell_type": "markdown",
      "source": [
        "### Расчёт уровня статистической значимости\n",
        "\n",
        "Примем уровень статистической значимости в рамках исследования 5%. Поскольку исследование проводилось одновременно на трёх разных группах, для каждого параметра будет проведено четыре сравнения:\n",
        "\n",
        "- сравнение параметра для двух контрольных групп (246 и 247);\n",
        "- сравнение параметра для тестовой группы 248 и контрольной группы 246;\n",
        "- сравнение параметра для тестовой группы 248 и контрольной группы 247;\n",
        "- сравнение параметра для тестовой группы 248 и объединённой контрольной группы;\n",
        "\n",
        "Следовательно, необходимо скорректировать уровень статистической значимости для каждой пары сравниваемых групп.\n",
        "\n",
        "Воспользуемся для этого методом Шидака."
      ],
      "metadata": {
        "id": "wlEggJpIx73C"
      }
    },
    {
      "cell_type": "code",
      "execution_count": 19,
      "metadata": {
        "colab": {
          "base_uri": "https://localhost:8080/",
          "height": 35
        },
        "id": "GlTITRPhrtTh",
        "outputId": "fa9a6723-1ad8-4379-8f7e-a9f308374373"
      },
      "outputs": [
        {
          "output_type": "execute_result",
          "data": {
            "text/plain": [
              "'Уровень статистической значимости для каждого попарного сравнения: 0.012741455098566168'"
            ],
            "application/vnd.google.colaboratory.intrinsic+json": {
              "type": "string"
            }
          },
          "metadata": {},
          "execution_count": 19
        }
      ],
      "source": [
        "#общий уровень статистической значимости\n",
        "alpha_full = 0.05\n",
        "\n",
        "#количество сравнений\n",
        "m = 4\n",
        "\n",
        "#уровень статистической значимости для каждого отдельного сравнения\n",
        "alpha =1 - (1 - alpha_full)**(1 / m)\n",
        "\n",
        "f'Уровень статистической значимости для каждого попарного сравнения: {alpha}'"
      ]
    },
    {
      "cell_type": "markdown",
      "metadata": {
        "id": "F1KhL6fqrtTi"
      },
      "source": [
        "### Подготовка данных для проведения тестов"
      ]
    },
    {
      "cell_type": "code",
      "execution_count": 20,
      "metadata": {
        "colab": {
          "base_uri": "https://localhost:8080/",
          "height": 462
        },
        "id": "y8se8B5zrtTi",
        "outputId": "56a2a801-314b-4c0b-d8bd-417b9f2f311c"
      },
      "outputs": [
        {
          "output_type": "display_data",
          "data": {
            "text/plain": [
              "'Таблица количества пользователей на событие и их доли от общего количества пользователей для каждой группы'"
            ],
            "application/vnd.google.colaboratory.intrinsic+json": {
              "type": "string"
            }
          },
          "metadata": {}
        },
        {
          "output_type": "display_data",
          "data": {
            "text/plain": [
              "group                       246                247                248  \\\n",
              "parameter                 users conversion   users conversion   users   \n",
              "event_type                                                              \n",
              "MainScreenAppear         2076.0   0.976023  2116.0   0.976465  2138.0   \n",
              "OffersScreenAppear       1276.0   0.599906  1259.0   0.580988  1260.0   \n",
              "CartScreenAppear         1041.0   0.489422  1031.0   0.475773  1033.0   \n",
              "PaymentScreenSuccessful   991.0   0.465914   962.0   0.443932   983.0   \n",
              "Tutorial                  182.0   0.085567   185.0   0.085371   183.0   \n",
              "\n",
              "group                              246_247               \n",
              "parameter               conversion   users   conversion  \n",
              "event_type                                               \n",
              "MainScreenAppear          0.979386  4214.0  2168.981194  \n",
              "OffersScreenAppear        0.577187  2536.0  2168.192290  \n",
              "CartScreenAppear          0.473202  2074.0  2167.975082  \n",
              "PaymentScreenSuccessful   0.450298  1974.0  2167.928068  \n",
              "Tutorial                  0.083830   365.0  2167.171603  "
            ],
            "text/html": [
              "\n",
              "  <div id=\"df-d04fab9e-ae33-4d2e-bb9c-e39c71ec2349\" class=\"colab-df-container\">\n",
              "    <div>\n",
              "<style scoped>\n",
              "    .dataframe tbody tr th:only-of-type {\n",
              "        vertical-align: middle;\n",
              "    }\n",
              "\n",
              "    .dataframe tbody tr th {\n",
              "        vertical-align: top;\n",
              "    }\n",
              "\n",
              "    .dataframe thead tr th {\n",
              "        text-align: left;\n",
              "    }\n",
              "\n",
              "    .dataframe thead tr:last-of-type th {\n",
              "        text-align: right;\n",
              "    }\n",
              "</style>\n",
              "<table border=\"1\" class=\"dataframe\">\n",
              "  <thead>\n",
              "    <tr>\n",
              "      <th>group</th>\n",
              "      <th colspan=\"2\" halign=\"left\">246</th>\n",
              "      <th colspan=\"2\" halign=\"left\">247</th>\n",
              "      <th colspan=\"2\" halign=\"left\">248</th>\n",
              "      <th colspan=\"2\" halign=\"left\">246_247</th>\n",
              "    </tr>\n",
              "    <tr>\n",
              "      <th>parameter</th>\n",
              "      <th>users</th>\n",
              "      <th>conversion</th>\n",
              "      <th>users</th>\n",
              "      <th>conversion</th>\n",
              "      <th>users</th>\n",
              "      <th>conversion</th>\n",
              "      <th>users</th>\n",
              "      <th>conversion</th>\n",
              "    </tr>\n",
              "    <tr>\n",
              "      <th>event_type</th>\n",
              "      <th></th>\n",
              "      <th></th>\n",
              "      <th></th>\n",
              "      <th></th>\n",
              "      <th></th>\n",
              "      <th></th>\n",
              "      <th></th>\n",
              "      <th></th>\n",
              "    </tr>\n",
              "  </thead>\n",
              "  <tbody>\n",
              "    <tr>\n",
              "      <th>MainScreenAppear</th>\n",
              "      <td>2076.0</td>\n",
              "      <td>0.976023</td>\n",
              "      <td>2116.0</td>\n",
              "      <td>0.976465</td>\n",
              "      <td>2138.0</td>\n",
              "      <td>0.979386</td>\n",
              "      <td>4214.0</td>\n",
              "      <td>2168.981194</td>\n",
              "    </tr>\n",
              "    <tr>\n",
              "      <th>OffersScreenAppear</th>\n",
              "      <td>1276.0</td>\n",
              "      <td>0.599906</td>\n",
              "      <td>1259.0</td>\n",
              "      <td>0.580988</td>\n",
              "      <td>1260.0</td>\n",
              "      <td>0.577187</td>\n",
              "      <td>2536.0</td>\n",
              "      <td>2168.192290</td>\n",
              "    </tr>\n",
              "    <tr>\n",
              "      <th>CartScreenAppear</th>\n",
              "      <td>1041.0</td>\n",
              "      <td>0.489422</td>\n",
              "      <td>1031.0</td>\n",
              "      <td>0.475773</td>\n",
              "      <td>1033.0</td>\n",
              "      <td>0.473202</td>\n",
              "      <td>2074.0</td>\n",
              "      <td>2167.975082</td>\n",
              "    </tr>\n",
              "    <tr>\n",
              "      <th>PaymentScreenSuccessful</th>\n",
              "      <td>991.0</td>\n",
              "      <td>0.465914</td>\n",
              "      <td>962.0</td>\n",
              "      <td>0.443932</td>\n",
              "      <td>983.0</td>\n",
              "      <td>0.450298</td>\n",
              "      <td>1974.0</td>\n",
              "      <td>2167.928068</td>\n",
              "    </tr>\n",
              "    <tr>\n",
              "      <th>Tutorial</th>\n",
              "      <td>182.0</td>\n",
              "      <td>0.085567</td>\n",
              "      <td>185.0</td>\n",
              "      <td>0.085371</td>\n",
              "      <td>183.0</td>\n",
              "      <td>0.083830</td>\n",
              "      <td>365.0</td>\n",
              "      <td>2167.171603</td>\n",
              "    </tr>\n",
              "  </tbody>\n",
              "</table>\n",
              "</div>\n",
              "    <div class=\"colab-df-buttons\">\n",
              "\n",
              "  <div class=\"colab-df-container\">\n",
              "    <button class=\"colab-df-convert\" onclick=\"convertToInteractive('df-d04fab9e-ae33-4d2e-bb9c-e39c71ec2349')\"\n",
              "            title=\"Convert this dataframe to an interactive table.\"\n",
              "            style=\"display:none;\">\n",
              "\n",
              "  <svg xmlns=\"http://www.w3.org/2000/svg\" height=\"24px\" viewBox=\"0 -960 960 960\">\n",
              "    <path d=\"M120-120v-720h720v720H120Zm60-500h600v-160H180v160Zm220 220h160v-160H400v160Zm0 220h160v-160H400v160ZM180-400h160v-160H180v160Zm440 0h160v-160H620v160ZM180-180h160v-160H180v160Zm440 0h160v-160H620v160Z\"/>\n",
              "  </svg>\n",
              "    </button>\n",
              "\n",
              "  <style>\n",
              "    .colab-df-container {\n",
              "      display:flex;\n",
              "      gap: 12px;\n",
              "    }\n",
              "\n",
              "    .colab-df-convert {\n",
              "      background-color: #E8F0FE;\n",
              "      border: none;\n",
              "      border-radius: 50%;\n",
              "      cursor: pointer;\n",
              "      display: none;\n",
              "      fill: #1967D2;\n",
              "      height: 32px;\n",
              "      padding: 0 0 0 0;\n",
              "      width: 32px;\n",
              "    }\n",
              "\n",
              "    .colab-df-convert:hover {\n",
              "      background-color: #E2EBFA;\n",
              "      box-shadow: 0px 1px 2px rgba(60, 64, 67, 0.3), 0px 1px 3px 1px rgba(60, 64, 67, 0.15);\n",
              "      fill: #174EA6;\n",
              "    }\n",
              "\n",
              "    .colab-df-buttons div {\n",
              "      margin-bottom: 4px;\n",
              "    }\n",
              "\n",
              "    [theme=dark] .colab-df-convert {\n",
              "      background-color: #3B4455;\n",
              "      fill: #D2E3FC;\n",
              "    }\n",
              "\n",
              "    [theme=dark] .colab-df-convert:hover {\n",
              "      background-color: #434B5C;\n",
              "      box-shadow: 0px 1px 3px 1px rgba(0, 0, 0, 0.15);\n",
              "      filter: drop-shadow(0px 1px 2px rgba(0, 0, 0, 0.3));\n",
              "      fill: #FFFFFF;\n",
              "    }\n",
              "  </style>\n",
              "\n",
              "    <script>\n",
              "      const buttonEl =\n",
              "        document.querySelector('#df-d04fab9e-ae33-4d2e-bb9c-e39c71ec2349 button.colab-df-convert');\n",
              "      buttonEl.style.display =\n",
              "        google.colab.kernel.accessAllowed ? 'block' : 'none';\n",
              "\n",
              "      async function convertToInteractive(key) {\n",
              "        const element = document.querySelector('#df-d04fab9e-ae33-4d2e-bb9c-e39c71ec2349');\n",
              "        const dataTable =\n",
              "          await google.colab.kernel.invokeFunction('convertToInteractive',\n",
              "                                                    [key], {});\n",
              "        if (!dataTable) return;\n",
              "\n",
              "        const docLinkHtml = 'Like what you see? Visit the ' +\n",
              "          '<a target=\"_blank\" href=https://colab.research.google.com/notebooks/data_table.ipynb>data table notebook</a>'\n",
              "          + ' to learn more about interactive tables.';\n",
              "        element.innerHTML = '';\n",
              "        dataTable['output_type'] = 'display_data';\n",
              "        await google.colab.output.renderOutput(dataTable, element);\n",
              "        const docLink = document.createElement('div');\n",
              "        docLink.innerHTML = docLinkHtml;\n",
              "        element.appendChild(docLink);\n",
              "      }\n",
              "    </script>\n",
              "  </div>\n",
              "\n",
              "\n",
              "<div id=\"df-95b53920-3f03-4ce8-9d8e-2a405713dbf2\">\n",
              "  <button class=\"colab-df-quickchart\" onclick=\"quickchart('df-95b53920-3f03-4ce8-9d8e-2a405713dbf2')\"\n",
              "            title=\"Suggest charts\"\n",
              "            style=\"display:none;\">\n",
              "\n",
              "<svg xmlns=\"http://www.w3.org/2000/svg\" height=\"24px\"viewBox=\"0 0 24 24\"\n",
              "     width=\"24px\">\n",
              "    <g>\n",
              "        <path d=\"M19 3H5c-1.1 0-2 .9-2 2v14c0 1.1.9 2 2 2h14c1.1 0 2-.9 2-2V5c0-1.1-.9-2-2-2zM9 17H7v-7h2v7zm4 0h-2V7h2v10zm4 0h-2v-4h2v4z\"/>\n",
              "    </g>\n",
              "</svg>\n",
              "  </button>\n",
              "\n",
              "<style>\n",
              "  .colab-df-quickchart {\n",
              "      --bg-color: #E8F0FE;\n",
              "      --fill-color: #1967D2;\n",
              "      --hover-bg-color: #E2EBFA;\n",
              "      --hover-fill-color: #174EA6;\n",
              "      --disabled-fill-color: #AAA;\n",
              "      --disabled-bg-color: #DDD;\n",
              "  }\n",
              "\n",
              "  [theme=dark] .colab-df-quickchart {\n",
              "      --bg-color: #3B4455;\n",
              "      --fill-color: #D2E3FC;\n",
              "      --hover-bg-color: #434B5C;\n",
              "      --hover-fill-color: #FFFFFF;\n",
              "      --disabled-bg-color: #3B4455;\n",
              "      --disabled-fill-color: #666;\n",
              "  }\n",
              "\n",
              "  .colab-df-quickchart {\n",
              "    background-color: var(--bg-color);\n",
              "    border: none;\n",
              "    border-radius: 50%;\n",
              "    cursor: pointer;\n",
              "    display: none;\n",
              "    fill: var(--fill-color);\n",
              "    height: 32px;\n",
              "    padding: 0;\n",
              "    width: 32px;\n",
              "  }\n",
              "\n",
              "  .colab-df-quickchart:hover {\n",
              "    background-color: var(--hover-bg-color);\n",
              "    box-shadow: 0 1px 2px rgba(60, 64, 67, 0.3), 0 1px 3px 1px rgba(60, 64, 67, 0.15);\n",
              "    fill: var(--button-hover-fill-color);\n",
              "  }\n",
              "\n",
              "  .colab-df-quickchart-complete:disabled,\n",
              "  .colab-df-quickchart-complete:disabled:hover {\n",
              "    background-color: var(--disabled-bg-color);\n",
              "    fill: var(--disabled-fill-color);\n",
              "    box-shadow: none;\n",
              "  }\n",
              "\n",
              "  .colab-df-spinner {\n",
              "    border: 2px solid var(--fill-color);\n",
              "    border-color: transparent;\n",
              "    border-bottom-color: var(--fill-color);\n",
              "    animation:\n",
              "      spin 1s steps(1) infinite;\n",
              "  }\n",
              "\n",
              "  @keyframes spin {\n",
              "    0% {\n",
              "      border-color: transparent;\n",
              "      border-bottom-color: var(--fill-color);\n",
              "      border-left-color: var(--fill-color);\n",
              "    }\n",
              "    20% {\n",
              "      border-color: transparent;\n",
              "      border-left-color: var(--fill-color);\n",
              "      border-top-color: var(--fill-color);\n",
              "    }\n",
              "    30% {\n",
              "      border-color: transparent;\n",
              "      border-left-color: var(--fill-color);\n",
              "      border-top-color: var(--fill-color);\n",
              "      border-right-color: var(--fill-color);\n",
              "    }\n",
              "    40% {\n",
              "      border-color: transparent;\n",
              "      border-right-color: var(--fill-color);\n",
              "      border-top-color: var(--fill-color);\n",
              "    }\n",
              "    60% {\n",
              "      border-color: transparent;\n",
              "      border-right-color: var(--fill-color);\n",
              "    }\n",
              "    80% {\n",
              "      border-color: transparent;\n",
              "      border-right-color: var(--fill-color);\n",
              "      border-bottom-color: var(--fill-color);\n",
              "    }\n",
              "    90% {\n",
              "      border-color: transparent;\n",
              "      border-bottom-color: var(--fill-color);\n",
              "    }\n",
              "  }\n",
              "</style>\n",
              "\n",
              "  <script>\n",
              "    async function quickchart(key) {\n",
              "      const quickchartButtonEl =\n",
              "        document.querySelector('#' + key + ' button');\n",
              "      quickchartButtonEl.disabled = true;  // To prevent multiple clicks.\n",
              "      quickchartButtonEl.classList.add('colab-df-spinner');\n",
              "      try {\n",
              "        const charts = await google.colab.kernel.invokeFunction(\n",
              "            'suggestCharts', [key], {});\n",
              "      } catch (error) {\n",
              "        console.error('Error during call to suggestCharts:', error);\n",
              "      }\n",
              "      quickchartButtonEl.classList.remove('colab-df-spinner');\n",
              "      quickchartButtonEl.classList.add('colab-df-quickchart-complete');\n",
              "    }\n",
              "    (() => {\n",
              "      let quickchartButtonEl =\n",
              "        document.querySelector('#df-95b53920-3f03-4ce8-9d8e-2a405713dbf2 button');\n",
              "      quickchartButtonEl.style.display =\n",
              "        google.colab.kernel.accessAllowed ? 'block' : 'none';\n",
              "    })();\n",
              "  </script>\n",
              "</div>\n",
              "    </div>\n",
              "  </div>\n"
            ],
            "application/vnd.google.colaboratory.intrinsic+json": {
              "type": "dataframe",
              "variable_name": "df_stat",
              "summary": "{\n  \"name\": \"df_stat\",\n  \"rows\": 5,\n  \"fields\": [\n    {\n      \"column\": [\n        \"event_type\",\n        \"\"\n      ],\n      \"properties\": {\n        \"dtype\": \"string\",\n        \"num_unique_values\": 5,\n        \"samples\": [\n          \"OffersScreenAppear\",\n          \"Tutorial\",\n          \"CartScreenAppear\"\n        ],\n        \"semantic_type\": \"\",\n        \"description\": \"\"\n      }\n    },\n    {\n      \"column\": [\n        246,\n        \"users\"\n      ],\n      \"properties\": {\n        \"dtype\": \"number\",\n        \"std\": 678.3743067068505,\n        \"min\": 182.0,\n        \"max\": 2076.0,\n        \"num_unique_values\": 5,\n        \"samples\": [\n          1276.0,\n          182.0,\n          1041.0\n        ],\n        \"semantic_type\": \"\",\n        \"description\": \"\"\n      }\n    },\n    {\n      \"column\": [\n        246,\n        \"conversion\"\n      ],\n      \"properties\": {\n        \"dtype\": \"number\",\n        \"std\": 0.3189347939383406,\n        \"min\": 0.08556652562294312,\n        \"max\": 0.9760225669957687,\n        \"num_unique_values\": 5,\n        \"samples\": [\n          0.5999059708509638,\n          0.08556652562294312,\n          0.4894217207334274\n        ],\n        \"semantic_type\": \"\",\n        \"description\": \"\"\n      }\n    },\n    {\n      \"column\": [\n        247,\n        \"users\"\n      ],\n      \"properties\": {\n        \"dtype\": \"number\",\n        \"std\": 692.4603237731387,\n        \"min\": 185.0,\n        \"max\": 2116.0,\n        \"num_unique_values\": 5,\n        \"samples\": [\n          1259.0,\n          185.0,\n          1031.0\n        ],\n        \"semantic_type\": \"\",\n        \"description\": \"\"\n      }\n    },\n    {\n      \"column\": [\n        247,\n        \"conversion\"\n      ],\n      \"properties\": {\n        \"dtype\": \"number\",\n        \"std\": 0.3195479112935573,\n        \"min\": 0.0853714813105676,\n        \"max\": 0.976465159206276,\n        \"num_unique_values\": 5,\n        \"samples\": [\n          0.5809875403784033,\n          0.0853714813105676,\n          0.4757729580064605\n        ],\n        \"semantic_type\": \"\",\n        \"description\": \"\"\n      }\n    },\n    {\n      \"column\": [\n        248,\n        \"users\"\n      ],\n      \"properties\": {\n        \"dtype\": \"number\",\n        \"std\": 700.0409273749642,\n        \"min\": 183.0,\n        \"max\": 2138.0,\n        \"num_unique_values\": 5,\n        \"samples\": [\n          1260.0,\n          183.0,\n          1033.0\n        ],\n        \"semantic_type\": \"\",\n        \"description\": \"\"\n      }\n    },\n    {\n      \"column\": [\n        248,\n        \"conversion\"\n      ],\n      \"properties\": {\n        \"dtype\": \"number\",\n        \"std\": 0.32067839091844447,\n        \"min\": 0.08382959230416857,\n        \"max\": 0.9793861658268438,\n        \"num_unique_values\": 5,\n        \"samples\": [\n          0.5771873568483737,\n          0.08382959230416857,\n          0.47320201557489694\n        ],\n        \"semantic_type\": \"\",\n        \"description\": \"\"\n      }\n    },\n    {\n      \"column\": [\n        \"246_247\",\n        \"users\"\n      ],\n      \"properties\": {\n        \"dtype\": \"number\",\n        \"std\": 1378.2194310050922,\n        \"min\": 365.0,\n        \"max\": 4214.0,\n        \"num_unique_values\": 5,\n        \"samples\": [\n          2536.0,\n          365.0,\n          2074.0\n        ],\n        \"semantic_type\": \"\",\n        \"description\": \"\"\n      }\n    },\n    {\n      \"column\": [\n        \"246_247\",\n        \"conversion\"\n      ],\n      \"properties\": {\n        \"dtype\": \"number\",\n        \"std\": 0.647964001412901,\n        \"min\": 2167.171603196991,\n        \"max\": 2168.981194170193,\n        \"num_unique_values\": 5,\n        \"samples\": [\n          2168.192289609779,\n          2167.171603196991,\n          2167.9750822755054\n        ],\n        \"semantic_type\": \"\",\n        \"description\": \"\"\n      }\n    }\n  ]\n}"
            }
          },
          "metadata": {}
        },
        {
          "output_type": "display_data",
          "data": {
            "text/plain": [
              "'Количество пользователей в группах'"
            ],
            "application/vnd.google.colaboratory.intrinsic+json": {
              "type": "string"
            }
          },
          "metadata": {}
        },
        {
          "output_type": "display_data",
          "data": {
            "text/plain": [
              "group\n",
              "246    2127\n",
              "247    2167\n",
              "248    2183\n",
              "Name: users, dtype: int64"
            ]
          },
          "metadata": {}
        },
        {
          "output_type": "display_data",
          "data": {
            "text/plain": [
              "'Список событий для тестирования'"
            ],
            "application/vnd.google.colaboratory.intrinsic+json": {
              "type": "string"
            }
          },
          "metadata": {}
        },
        {
          "output_type": "display_data",
          "data": {
            "text/plain": [
              "Index(['MainScreenAppear', 'OffersScreenAppear', 'CartScreenAppear',\n",
              "       'PaymentScreenSuccessful', 'Tutorial'],\n",
              "      dtype='object', name='event_type')"
            ]
          },
          "metadata": {}
        }
      ],
      "source": [
        "#список индексов-событий\n",
        "df_stat = users_per_event_type.drop(\n",
        "    ['users','users_share','step_conversion'],\n",
        "    axis=1\n",
        "    )\n",
        "\n",
        "#добавление столбцов с количеством пользователей на событие\n",
        "#и их доли от общего количества пользователей для каждой группы\n",
        "for grp in sorted(data_actual['exp_id'].unique()):\n",
        "    group_data = (\n",
        "        data_actual[data_actual['exp_id'] == grp]\n",
        "        .groupby('event_type', as_index=False)\n",
        "        .agg({'user_id':'nunique'})\n",
        "    )\n",
        "    group_data['conversion'] = (\n",
        "        group_data['user_id'] / users_per_group['users'][grp]\n",
        "        )\n",
        "    df_stat = df_stat.merge(\n",
        "        group_data,\n",
        "        left_on='event_type',\n",
        "        right_on='event_type',\n",
        "        how='left'\n",
        "    )\n",
        "\n",
        "\n",
        "\n",
        "#добавление данных объединённой контрольной группы\n",
        "df_stat['user_246_247'] = df_stat['user_id_x'] + df_stat['user_id']\n",
        "df_stat['conversion_246_247'] = (\n",
        "    df_stat['user_246_247']\n",
        "    /\n",
        "     users_per_group['users'][246] + users_per_group['users'][247]\n",
        "    )\n",
        "\n",
        "df_stat = df_stat.set_index('event_type').T\n",
        "\n",
        "#формирование мультииндекса\n",
        "\n",
        "index = pd.MultiIndex.from_product(\n",
        "    [[246,247,248,'246_247'],\n",
        "     ['users','conversion']],\n",
        "    names=['group', 'parameter']\n",
        "    )\n",
        "\n",
        "df_stat.index = index\n",
        "df_stat = df_stat.T\n",
        "\n",
        "\n",
        "#список событий для проверки\n",
        "events_to_test = df_stat.index\n",
        "\n",
        "users_in_groups = users_per_group['users']\n",
        "\n",
        "#вывод результата\n",
        "display('Таблица количества пользователей на событие и их доли от общего количества пользователей для каждой группы',\n",
        "        df_stat,\n",
        "        'Количество пользователей в группах',\n",
        "        #users_per_group,\n",
        "        users_in_groups,\n",
        "        'Список событий для тестирования',\n",
        "        events_to_test)\n"
      ]
    },
    {
      "cell_type": "markdown",
      "metadata": {
        "id": "o5RTto_NrtTi"
      },
      "source": [
        "### Функция для проверки гипотезы о равенстве долей пользователей, совершивших событие"
      ]
    },
    {
      "cell_type": "code",
      "execution_count": 21,
      "metadata": {
        "id": "2JIhNbiFrtTj"
      },
      "outputs": [],
      "source": [
        "#функция\n",
        "def z_test(df, group_1, group_2, event, users_1, users_2):\n",
        "    try:\n",
        "        #конверсия группы 1\n",
        "        p1 = df[group_1,'conversion'][event]\n",
        "\n",
        "        #конверсия группы 2\n",
        "        p2 = df[group_2,'conversion'][event]\n",
        "\n",
        "        #конверсия скомбинированной выборки\n",
        "        p_combined = (\n",
        "            df[group_1, 'users'][event]\n",
        "            +\n",
        "            df[group_2, 'users'][event]\n",
        "        ) / (users_1 + users_2)\n",
        "\n",
        "        #разница между конверсиями\n",
        "        difference = p1 - p2\n",
        "\n",
        "        #z-значение\n",
        "        z_score = (\n",
        "            difference\n",
        "            /\n",
        "            math.sqrt(p_combined * (1 - p_combined) * (1/users_1 + 1/users_2))\n",
        "            )\n",
        "\n",
        "        #построение стандартного нормального распределения\n",
        "        distr = st.norm(0, 1)\n",
        "\n",
        "        #вычисление p-value\n",
        "        p_value = (1 - distr.cdf(abs(z_score))) * 2\n",
        "\n",
        "        return [z_score, p_value]\n",
        "\n",
        "    except:\n",
        "\n",
        "        display('Ошибка работы функции')\n"
      ]
    },
    {
      "cell_type": "markdown",
      "metadata": {
        "id": "fcGcX8tertTj"
      },
      "source": [
        "### Проверка гипотезы о равенстве долей пользователей, совершивших разные события, между контрольными группами 246 и 247\n",
        "\n",
        "Формулирование гипотез.\n",
        "\n",
        "Нулевая гипотеза: доли пользователей из групп **246** и **247**, совершивших, события, одинаковы.\n",
        "\n",
        "Алтернативная гипотеза: доли пользователей из групп **246** и **247**, совершивших, события, различаются."
      ]
    },
    {
      "cell_type": "code",
      "execution_count": 22,
      "metadata": {
        "colab": {
          "base_uri": "https://localhost:8080/"
        },
        "id": "QyVrxjyBrtTk",
        "outputId": "4fc01973-142a-4355-c4e3-beb22f604e1c"
      },
      "outputs": [
        {
          "output_type": "stream",
          "name": "stdout",
          "text": [
            "\n",
            "Результат теста для события \"MainScreenAppear\":\n",
            "\n",
            "z-score: -0.09522199233389407\n",
            "p-value: 0.9241385019991273\n",
            "    \n",
            "Не получилось отвергнуть нулевую гипотезу \n",
            "\n",
            "\n",
            "Результат теста для события \"OffersScreenAppear\":\n",
            "\n",
            "z-score: 1.260397178610447\n",
            "p-value: 0.2075261189561033\n",
            "    \n",
            "Не получилось отвергнуть нулевую гипотезу \n",
            "\n",
            "\n",
            "Результат теста для события \"CartScreenAppear\":\n",
            "\n",
            "z-score: 0.8948919507856566\n",
            "p-value: 0.3708448499877346\n",
            "    \n",
            "Не получилось отвергнуть нулевую гипотезу \n",
            "\n",
            "\n",
            "Результат теста для события \"PaymentScreenSuccessful\":\n",
            "\n",
            "z-score: 1.446352101590661\n",
            "p-value: 0.14807846915370693\n",
            "    \n",
            "Не получилось отвергнуть нулевую гипотезу \n",
            "\n",
            "\n",
            "Результат теста для события \"Tutorial\":\n",
            "\n",
            "z-score: 0.022856726330882815\n",
            "p-value: 0.9817645587539905\n",
            "    \n",
            "Не получилось отвергнуть нулевую гипотезу \n",
            "\n"
          ]
        }
      ],
      "source": [
        "test_group_1 = 246\n",
        "test_group_2 = 247\n",
        "\n",
        "for ev in events_to_test:\n",
        "    results = z_test(\n",
        "        df_stat,\n",
        "        test_group_1,\n",
        "        test_group_2,\n",
        "        ev,\n",
        "        users_in_groups[test_group_1],\n",
        "        users_in_groups[test_group_2]\n",
        "        )\n",
        "    print(f'''\n",
        "Результат теста для события \"{ev}\":\n",
        "\n",
        "z-score: {results[0]}\n",
        "p-value: {results[1]}\n",
        "    ''')\n",
        "    if results[1] < alpha:\n",
        "        print('Отвергаем нулевую гипотезу \\n')\n",
        "    else:\n",
        "        print('Не получилось отвергнуть нулевую гипотезу \\n')\n",
        "\n"
      ]
    },
    {
      "cell_type": "markdown",
      "metadata": {
        "id": "S8q0la2IrtTk"
      },
      "source": [
        "Результат проверки между двумя контрольными группами показывает, что система разбиения трафика работает корректно, расчёты выполняются правильно: для всех событий разница между долей пользователей совершивших событие, не является статистически значимой."
      ]
    },
    {
      "cell_type": "markdown",
      "metadata": {
        "id": "wtwKT1LYrtTl"
      },
      "source": [
        "### Проверка гипотезы о равенстве долей пользователей, совершивших разные события, между группами 246 (контрольная) и 248 (тестовая)\n",
        "\n",
        "Формулирование гипотез.\n",
        "\n",
        "Нулевая гипотеза: доли пользователей из групп **246** и **248**, совершивших, события, одинаковы.\n",
        "\n",
        "Алтернативная гипотеза: доли пользователей из групп **246** и **248**, совершивших, события, различаются."
      ]
    },
    {
      "cell_type": "code",
      "execution_count": 23,
      "metadata": {
        "colab": {
          "base_uri": "https://localhost:8080/"
        },
        "id": "15EiAtngrtTl",
        "outputId": "647fb2fb-d1ca-42a3-cba6-6659aa2d9a8a"
      },
      "outputs": [
        {
          "output_type": "stream",
          "name": "stdout",
          "text": [
            "\n",
            "Результат теста для события \"MainScreenAppear\":\n",
            "\n",
            "z-score: -0.748118782845485\n",
            "p-value: 0.45438851355631704\n",
            "    \n",
            "Не получилось отвергнуть нулевую гипотезу \n",
            "\n",
            "\n",
            "Результат теста для события \"OffersScreenAppear\":\n",
            "\n",
            "z-score: 1.5152337959490634\n",
            "p-value: 0.12971320729983415\n",
            "    \n",
            "Не получилось отвергнуть нулевую гипотезу \n",
            "\n",
            "\n",
            "Результат теста для события \"CartScreenAppear\":\n",
            "\n",
            "z-score: 1.0654962550148463\n",
            "p-value: 0.2866514194055174\n",
            "    \n",
            "Не получилось отвергнуть нулевую гипотезу \n",
            "\n",
            "\n",
            "Результат теста для события \"PaymentScreenSuccessful\":\n",
            "\n",
            "z-score: 1.028792791830122\n",
            "p-value: 0.3035770546539911\n",
            "    \n",
            "Не получилось отвергнуть нулевую гипотезу \n",
            "\n",
            "\n",
            "Результат теста для события \"Tutorial\":\n",
            "\n",
            "z-score: 0.2047681742222119\n",
            "p-value: 0.8377532533998089\n",
            "    \n",
            "Не получилось отвергнуть нулевую гипотезу \n",
            "\n"
          ]
        }
      ],
      "source": [
        "test_group_1 = 246\n",
        "test_group_2 = 248\n",
        "\n",
        "for ev in events_to_test:\n",
        "    results = z_test(\n",
        "        df_stat,\n",
        "        test_group_1,\n",
        "        test_group_2, ev,\n",
        "        users_in_groups[test_group_1],\n",
        "        users_in_groups[test_group_2]\n",
        "        )\n",
        "    print(f'''\n",
        "Результат теста для события \"{ev}\":\n",
        "\n",
        "z-score: {results[0]}\n",
        "p-value: {results[1]}\n",
        "    ''')\n",
        "    if results[1] < alpha:\n",
        "        print('Отвергаем нулевую гипотезу \\n')\n",
        "    else:\n",
        "        print('Не получилось отвергнуть нулевую гипотезу \\n')\n"
      ]
    },
    {
      "cell_type": "markdown",
      "metadata": {
        "id": "JbqxfYyUrtTl"
      },
      "source": [
        "При сравнении тестовой группы **248** с контрольной группой **246** ни для одного из событий нет статистически значимой разницы в долях пользователей, совершивших событие."
      ]
    },
    {
      "cell_type": "markdown",
      "metadata": {
        "id": "tGLZv0_NrtTm"
      },
      "source": [
        "### Проверка гипотезы о равенстве долей пользователей, совершивших разные события, между группами 247 (контрольная) и 248 (тестовая)\n",
        "\n",
        "Формулирование гипотез.\n",
        "\n",
        "Нулевая гипотеза: доли пользователей из групп **247** и **248**, совершивших, события, одинаковы.\n",
        "\n",
        "Алтернативная гипотеза: доли пользователей из групп **247** и **248**, совершивших, события, различаются."
      ]
    },
    {
      "cell_type": "code",
      "execution_count": 24,
      "metadata": {
        "colab": {
          "base_uri": "https://localhost:8080/"
        },
        "id": "l4UccramrtTm",
        "outputId": "cd6ec702-e65c-4b4c-db0a-7579275d62b1"
      },
      "outputs": [
        {
          "output_type": "stream",
          "name": "stdout",
          "text": [
            "\n",
            "Результат теста для события \"MainScreenAppear\":\n",
            "\n",
            "z-score: -0.6556908662580229\n",
            "p-value: 0.5120230468653795\n",
            "    \n",
            "Не получилось отвергнуть нулевую гипотезу \n",
            "\n",
            "\n",
            "Результат теста для события \"OffersScreenAppear\":\n",
            "\n",
            "z-score: 0.253832523567227\n",
            "p-value: 0.7996249459586717\n",
            "    \n",
            "Не получилось отвергнуть нулевую гипотезу \n",
            "\n",
            "\n",
            "Результат теста для события \"CartScreenAppear\":\n",
            "\n",
            "z-score: 0.16978540093583128\n",
            "p-value: 0.8651789085922708\n",
            "    \n",
            "Не получилось отвергнуть нулевую гипотезу \n",
            "\n",
            "\n",
            "Результат теста для события \"PaymentScreenSuccessful\":\n",
            "\n",
            "z-score: -0.4222346103126329\n",
            "p-value: 0.6728537813962885\n",
            "    \n",
            "Не получилось отвергнуть нулевую гипотезу \n",
            "\n",
            "\n",
            "Результат теста для события \"Tutorial\":\n",
            "\n",
            "z-score: 0.1827172401238244\n",
            "p-value: 0.8550198878242616\n",
            "    \n",
            "Не получилось отвергнуть нулевую гипотезу \n",
            "\n"
          ]
        }
      ],
      "source": [
        "test_group_1 = 247\n",
        "test_group_2 = 248\n",
        "\n",
        "for ev in events_to_test:\n",
        "    results = z_test(\n",
        "        df_stat,\n",
        "        test_group_1,\n",
        "        test_group_2,\n",
        "        ev,\n",
        "        users_in_groups[test_group_1],\n",
        "        users_in_groups[test_group_2]\n",
        "        )\n",
        "    print(f'''\n",
        "Результат теста для события \"{ev}\":\n",
        "\n",
        "z-score: {results[0]}\n",
        "p-value: {results[1]}\n",
        "    ''')\n",
        "    if results[1] < alpha:\n",
        "        print('Отвергаем нулевую гипотезу \\n')\n",
        "    else:\n",
        "        print('Не получилось отвергнуть нулевую гипотезу \\n')\n"
      ]
    },
    {
      "cell_type": "markdown",
      "metadata": {
        "id": "qcEUSRhsrtTm"
      },
      "source": [
        "При сравнении тестовой группы **248** с контрольной группой **247** ни для одного из событий нет статистически значимой разницы в долях пользователей, совершивших событие."
      ]
    },
    {
      "cell_type": "markdown",
      "metadata": {
        "id": "O582Fd3nrtTn"
      },
      "source": [
        "### Проверка гипотезы о равенстве долей пользователей, совершивших разные события, между объединённой контрольной группой (246 и 247) и 248 (тестовая)\n",
        "\n",
        "Формулирование гипотез.\n",
        "\n",
        "Нулевая гипотеза: доли пользователей из объединённой контрольной группы (**246** + **247**) и тестовой группой **248**, совершивших, события, одинаковы.\n",
        "\n",
        "Алтернативная гипотеза: доли пользователей из из объединённой контрольной группы (**246** + **247**) и тестовой группой **248**, совершивших, события, различаются."
      ]
    },
    {
      "cell_type": "code",
      "execution_count": 25,
      "metadata": {
        "colab": {
          "base_uri": "https://localhost:8080/"
        },
        "id": "WQDTxos6rtTn",
        "outputId": "90d53ef0-48d1-4353-83c8-48c63ec3cd45"
      },
      "outputs": [
        {
          "output_type": "stream",
          "name": "stdout",
          "text": [
            "\n",
            "Результат теста для события \"MainScreenAppear\":\n",
            "\n",
            "z-score: 599506.9542589152\n",
            "p-value: 0.0\n",
            "    \n",
            "Отвергаем нулевую гипотезу \n",
            "\n",
            "\n",
            "Результат теста для события \"OffersScreenAppear\":\n",
            "\n",
            "z-score: 167423.1449850816\n",
            "p-value: 0.0\n",
            "    \n",
            "Отвергаем нулевую гипотезу \n",
            "\n",
            "\n",
            "Результат теста для события \"CartScreenAppear\":\n",
            "\n",
            "z-score: 165051.22130316377\n",
            "p-value: 0.0\n",
            "    \n",
            "Отвергаем нулевую гипотезу \n",
            "\n",
            "\n",
            "Результат теста для события \"PaymentScreenSuccessful\":\n",
            "\n",
            "z-score: 165539.82600856936\n",
            "p-value: 0.0\n",
            "    \n",
            "Отвергаем нулевую гипотезу \n",
            "\n",
            "\n",
            "Результат теста для события \"Tutorial\":\n",
            "\n",
            "z-score: 296237.70460796397\n",
            "p-value: 0.0\n",
            "    \n",
            "Отвергаем нулевую гипотезу \n",
            "\n"
          ]
        }
      ],
      "source": [
        "test_group_1 = '246_247'\n",
        "test_group_2 = 248\n",
        "\n",
        "for ev in events_to_test:\n",
        "    results = z_test(\n",
        "        df_stat,\n",
        "        test_group_1,\n",
        "        test_group_2,\n",
        "        ev,\n",
        "        users_in_groups[246] + users_in_groups[247],\n",
        "        users_in_groups[test_group_2]\n",
        "        )\n",
        "    print(f'''\n",
        "Результат теста для события \"{ev}\":\n",
        "\n",
        "z-score: {results[0]}\n",
        "p-value: {results[1]}\n",
        "    ''')\n",
        "    if results[1] < alpha:\n",
        "        print('Отвергаем нулевую гипотезу \\n')\n",
        "    else:\n",
        "        print('Не получилось отвергнуть нулевую гипотезу \\n')\n"
      ]
    },
    {
      "cell_type": "markdown",
      "metadata": {
        "id": "XOQHB8hvrtTo"
      },
      "source": [
        "При сравнении тестовой группы **248** с объединённой контрольной группой (**246** + **247**) ни для одного из событий нет статистически значимой разницы в долях пользователей, совершивших событие."
      ]
    },
    {
      "cell_type": "markdown",
      "metadata": {
        "id": "RxjA329BrtTo"
      },
      "source": [
        "### Вывод об уровне статистической значимости\n",
        "\n",
        "Уровень статистической значимости, установленный на уровне 5%, привёл бы к другим результатам: тест для события **\"MainScreenAppear\"** при сравнении тестовой группы **248** с объединённой контрольной группой (**246** + **246**) показал p-value, равное 0.018.\n",
        "\n",
        "Коррекция уровня статистической значимости по методу Шидака позволила провести тест более точно и избежать ложнопозитивного результата."
      ]
    },
    {
      "cell_type": "markdown",
      "metadata": {
        "id": "uVmFEaYrrtTo"
      },
      "source": [
        "### Вывод по разделу статистического анализа данных"
      ]
    },
    {
      "cell_type": "markdown",
      "metadata": {
        "id": "4XcxIX7qrtTp"
      },
      "source": [
        "В данном исследования будут проверены гипотезы о равенстве значений конверсии для разных групп на разных этапах продуктовой воронки. Для проверки параметра используется **z-тест**.\n",
        "\n",
        "Общий уровень статистической значимости в рамках исследования установлен в 5%. Поскольку в рамках исследования проводились 4 сравнения одновременно на трёх разных группах, уровень статистической значимости был скорректирован методом Шидака и установлен в 1,27%.\n",
        "\n",
        "Результаты проведённых тестов:\n",
        "\n",
        "Результат проверки между двумя контрольными группами**246** и **247** показывает, что система разбиения трафика работает корректно, расчёты выполняются правильно: для всех событий разница между долей пользователей совершивших событие, не является статистически значимой.\n",
        "\n",
        "При сравнении тестовой группы **248** с контрольной группой **246** ни для одного из событий нет статистически значимой разницы в долях пользователей, совершивших событие.\n",
        "\n",
        "При сравнении тестовой группы **248** с контрольной группой **247** ни для одного из событий нет статистически значимой разницы в долях пользователей, совершивших событие.\n",
        "\n",
        "При сравнении тестовой группы **248** с объединённой контрольной группой (**246** + **247**) ни для одного из событий нет статистически значимой разницы в долях пользователей, совершивших событие."
      ]
    },
    {
      "cell_type": "markdown",
      "metadata": {
        "id": "Qch25qKqrtTp"
      },
      "source": [
        "## Общий вывод\n",
        "\n",
        "### Цели и задачи проекта\n",
        "\n",
        "Цели проекта:\n",
        "\n",
        "Изучить воронку продаж приложения и проверить гипотезу об изменении отношения пользователей к приложению после смены шрифтов.\n",
        "\n",
        "Задачи проекта:\n",
        "\n",
        "1. Изучить данные:\n",
        "    - определить действительный период, за который есть полные данные;\n",
        "    - определить количество событи;, пользователей, их количество, соотношение и распределение пользователей по группам.\n",
        "\n",
        "2. Изучить воронку продаж:\n",
        "    - определить этапы воронки событий;\n",
        "    - рассчитать конверсию каждого этапа;\n",
        "    - выяснить, на каком этапе теряется больше всего пользователей.\n",
        "\n",
        "3. Провести статистический анализ результатов A/A/B-эксперимента. Провести серию тестов для определения изменения доли пользователей, оказавшихся на разных этапах воронки событий приложения, для двух контрольных групп и одной тестовой, пользователи которой работали в приложении с изменёнными шрифтами.\n",
        "\n",
        "### Исследовательский анализ данных\n",
        "\n",
        "Полные данные в логе есть только за период с 1 по 7 августа.\n",
        "\n",
        "Количество пользователей за этот период:\n",
        "\n",
        "- общее: 7534;\n",
        "- группа 246: 2484;\n",
        "- группа 247: 2513;\n",
        "- группа 248: 2537.\n",
        "\n",
        "В логе события 5 видов:\n",
        "\n",
        "- **\"MainScreenAppear\"** - пользователь заходит на главную страницу;\n",
        "- **\"OffersScreenAppear\"** - пользователю предложены товары;\n",
        "- **\"CartScreenAppear\"** - пользователь перешёл в \"корзину\" с выбранными товарами;\n",
        "- **\"PaymentScreenSuccessful\"** - пользователь успешно оплатил товары;\n",
        "- **\"Tutorial\"** - пользователь перешёл на страницу с руководством.\n",
        "\n",
        "Воронка событий выглядит следующим образом:\n",
        "\n",
        "1. **\"MainScreenAppear\"** - пользователь заходит на главную страницу - совершают 98,47% пользователей, зашедших в приложение;\n",
        "\n",
        "2. **\"OffersScreenAppear\"** - пользователю предложены товары, формирование заказа - совершают 61,91% пользователей, открывших главную страницу;\n",
        "\n",
        "3. **\"CartScreenAppear\"** - пользователь перешёл в \"корзину\" с выбранными товарами - совершают 81,3% пользователей, выбравших товары;\n",
        "\n",
        "4. **\"PaymentScreenSuccessful\"** - пользователь успешно оплатил товары - совершают 94,78% пользователей, оформивших заказ в корзине;\n",
        "\n",
        "47,7%  пользователей проходят от первого события до успешной оплаты заказа.\n",
        "\n",
        "Больше всего пользоветелей теряется на этапе **\"OffersScreenAppear\"** - предложения товаров и формирования заказа: 38,1 % пользователей, открывших прилоежение и посетивших главную страницу, не переходят к следующему этапу.\n",
        "\n",
        "### Статистический анализ данных\n",
        "\n",
        "В данном исследования будут проверены гипотезы о равенстве значений конверсии для разных групп на разных этапах продуктовой воронки. Для проверки параметра используется **z-тест**.\n",
        "\n",
        "Общий уровень статистической значимости в рамках исследования установлен в 5%. Поскольку в рамках исследования проводились 4 сравнения одновременно на трёх разных группах, уровень статистической значимости был скорректирован методом Шидака и установлен в 1,27%.\n",
        "\n",
        "Результаты проведённых тестов:\n",
        "\n",
        "Результат проверки между двумя контрольными группами**246** и **247** показывает, что система разбиения трафика работает корректно, расчёты выполняются правильно: для всех событий разница между долей пользователей совершивших событие, не является статистически значимой.\n",
        "\n",
        "При сравнении тестовой группы **248** с контрольной группой **246** ни для одного из событий нет статистически значимой разницы в долях пользователей, совершивших событие.\n",
        "\n",
        "При сравнении тестовой группы **248** с контрольной группой **247** ни для одного из событий нет статистически значимой разницы в долях пользователей, совершивших событие.\n",
        "\n",
        "При сравнении тестовой группы **248** с объединённой контрольной группой (**246** + **247**) ни для одного из событий нет статистически значимой разницы в долях пользователей, совершивших событие.\n",
        "\n",
        "### Рекомендации по результатам исследования\n",
        "\n",
        "Рекомендую считать, что изменение шрифтов в приложении не повлияло на отношение пользователей к приложению и их конверсию ни для одного из этапов воронки событий приложения.\n",
        "\n",
        "### О качестве данных\n",
        "\n",
        "В датасете присутствуют 413 дублирующихся строк.\n",
        "\n",
        "Пропусков данных и явных ошибок в датасетах нет."
      ]
    }
  ],
  "metadata": {
    "ExecuteTimeLog": [
      {
        "duration": 61,
        "start_time": "2024-03-22T12:15:00.150Z"
      },
      {
        "duration": 1174,
        "start_time": "2024-03-22T12:18:08.670Z"
      },
      {
        "duration": 819,
        "start_time": "2024-03-22T12:18:10.565Z"
      },
      {
        "duration": 349,
        "start_time": "2024-03-22T12:18:43.398Z"
      },
      {
        "duration": 185,
        "start_time": "2024-03-22T12:18:58.615Z"
      },
      {
        "duration": 22,
        "start_time": "2024-03-22T12:20:06.631Z"
      },
      {
        "duration": 3,
        "start_time": "2024-03-22T12:23:16.945Z"
      },
      {
        "duration": 68,
        "start_time": "2024-03-22T12:24:04.083Z"
      },
      {
        "duration": 10,
        "start_time": "2024-03-22T12:24:10.825Z"
      },
      {
        "duration": 5,
        "start_time": "2024-03-22T12:24:48.842Z"
      },
      {
        "duration": 153,
        "start_time": "2024-03-22T12:26:58.261Z"
      },
      {
        "duration": 8,
        "start_time": "2024-03-22T12:27:02.822Z"
      },
      {
        "duration": 5,
        "start_time": "2024-03-22T12:28:09.742Z"
      },
      {
        "duration": 9,
        "start_time": "2024-03-22T12:28:16.046Z"
      },
      {
        "duration": 9,
        "start_time": "2024-03-22T12:28:19.732Z"
      },
      {
        "duration": 9,
        "start_time": "2024-03-22T12:28:22.110Z"
      },
      {
        "duration": 131,
        "start_time": "2024-03-22T12:28:34.847Z"
      },
      {
        "duration": 4,
        "start_time": "2024-03-22T12:28:51.814Z"
      },
      {
        "duration": 5,
        "start_time": "2024-03-22T12:28:57.551Z"
      },
      {
        "duration": 12,
        "start_time": "2024-03-22T12:29:00.551Z"
      },
      {
        "duration": 5,
        "start_time": "2024-03-22T12:29:03.855Z"
      },
      {
        "duration": 5,
        "start_time": "2024-03-22T12:35:41.270Z"
      },
      {
        "duration": 7,
        "start_time": "2024-03-22T12:36:08.574Z"
      },
      {
        "duration": 42,
        "start_time": "2024-03-22T12:36:47.239Z"
      },
      {
        "duration": 159,
        "start_time": "2024-03-22T12:37:41.850Z"
      },
      {
        "duration": 5,
        "start_time": "2024-03-22T12:49:24.301Z"
      },
      {
        "duration": 3,
        "start_time": "2024-03-22T12:49:57.637Z"
      },
      {
        "duration": 4,
        "start_time": "2024-03-22T12:50:12.653Z"
      },
      {
        "duration": 242,
        "start_time": "2024-03-22T12:55:07.596Z"
      },
      {
        "duration": 1135,
        "start_time": "2024-03-22T12:56:21.308Z"
      },
      {
        "duration": 4,
        "start_time": "2024-03-22T12:57:17.742Z"
      },
      {
        "duration": 9,
        "start_time": "2024-03-22T12:57:21.238Z"
      },
      {
        "duration": 9,
        "start_time": "2024-03-22T12:57:29.463Z"
      },
      {
        "duration": 1142,
        "start_time": "2024-03-22T12:58:27.217Z"
      },
      {
        "duration": 211,
        "start_time": "2024-03-22T12:58:28.361Z"
      },
      {
        "duration": 25,
        "start_time": "2024-03-22T12:58:28.573Z"
      },
      {
        "duration": 3,
        "start_time": "2024-03-22T12:58:28.600Z"
      },
      {
        "duration": 263,
        "start_time": "2024-03-22T12:58:28.605Z"
      },
      {
        "duration": 123,
        "start_time": "2024-03-22T12:58:28.872Z"
      },
      {
        "duration": 1160,
        "start_time": "2024-03-22T12:58:48.783Z"
      },
      {
        "duration": 1183,
        "start_time": "2024-03-22T12:58:57.046Z"
      },
      {
        "duration": 199,
        "start_time": "2024-03-22T12:58:58.232Z"
      },
      {
        "duration": 22,
        "start_time": "2024-03-22T12:58:58.433Z"
      },
      {
        "duration": 3,
        "start_time": "2024-03-22T12:58:58.457Z"
      },
      {
        "duration": 269,
        "start_time": "2024-03-22T12:58:58.478Z"
      },
      {
        "duration": 119,
        "start_time": "2024-03-22T12:58:58.749Z"
      },
      {
        "duration": 32,
        "start_time": "2024-03-22T12:59:14.496Z"
      },
      {
        "duration": 206,
        "start_time": "2024-03-22T13:00:15.033Z"
      },
      {
        "duration": 61,
        "start_time": "2024-03-22T13:05:50.945Z"
      },
      {
        "duration": 58,
        "start_time": "2024-03-22T13:07:34.802Z"
      },
      {
        "duration": 11,
        "start_time": "2024-03-22T13:08:48.355Z"
      },
      {
        "duration": 145,
        "start_time": "2024-03-22T13:08:53.380Z"
      },
      {
        "duration": 12,
        "start_time": "2024-03-22T13:09:03.347Z"
      },
      {
        "duration": 10,
        "start_time": "2024-03-22T13:09:27.204Z"
      },
      {
        "duration": 61,
        "start_time": "2024-03-22T13:09:41.389Z"
      },
      {
        "duration": 109,
        "start_time": "2024-03-22T13:10:35.342Z"
      },
      {
        "duration": 56,
        "start_time": "2024-03-22T13:10:41.870Z"
      },
      {
        "duration": 56,
        "start_time": "2024-03-22T13:10:56.349Z"
      },
      {
        "duration": 64,
        "start_time": "2024-03-22T13:11:03.926Z"
      },
      {
        "duration": 441,
        "start_time": "2024-03-22T13:12:07.727Z"
      },
      {
        "duration": 82,
        "start_time": "2024-03-22T13:12:23.176Z"
      },
      {
        "duration": 71,
        "start_time": "2024-03-22T13:12:45.594Z"
      },
      {
        "duration": 73,
        "start_time": "2024-03-22T13:13:19.465Z"
      },
      {
        "duration": 70,
        "start_time": "2024-03-22T13:13:26.874Z"
      },
      {
        "duration": 69,
        "start_time": "2024-03-22T13:15:11.427Z"
      },
      {
        "duration": 7,
        "start_time": "2024-03-22T13:15:27.684Z"
      },
      {
        "duration": 80,
        "start_time": "2024-03-22T13:15:32.403Z"
      },
      {
        "duration": 72,
        "start_time": "2024-03-22T13:16:20.468Z"
      },
      {
        "duration": 80,
        "start_time": "2024-03-22T13:16:35.068Z"
      },
      {
        "duration": 81,
        "start_time": "2024-03-22T13:16:53.045Z"
      },
      {
        "duration": 119,
        "start_time": "2024-03-22T13:19:30.911Z"
      },
      {
        "duration": 1653,
        "start_time": "2024-03-22T13:22:21.602Z"
      },
      {
        "duration": 1116,
        "start_time": "2024-03-22T13:22:28.035Z"
      },
      {
        "duration": 227,
        "start_time": "2024-03-22T13:22:29.153Z"
      },
      {
        "duration": 3,
        "start_time": "2024-03-22T13:22:29.382Z"
      },
      {
        "duration": 279,
        "start_time": "2024-03-22T13:22:29.387Z"
      },
      {
        "duration": 90,
        "start_time": "2024-03-22T13:22:29.668Z"
      },
      {
        "duration": 135,
        "start_time": "2024-03-22T13:22:29.760Z"
      },
      {
        "duration": 98,
        "start_time": "2024-03-22T13:22:42.635Z"
      },
      {
        "duration": 70,
        "start_time": "2024-03-22T13:23:39.428Z"
      },
      {
        "duration": 32,
        "start_time": "2024-03-22T13:41:35.789Z"
      },
      {
        "duration": 120,
        "start_time": "2024-03-22T13:42:54.660Z"
      },
      {
        "duration": 21,
        "start_time": "2024-03-22T13:42:57.492Z"
      },
      {
        "duration": 11,
        "start_time": "2024-03-22T13:43:55.694Z"
      },
      {
        "duration": 39,
        "start_time": "2024-03-22T13:44:00.510Z"
      },
      {
        "duration": 179,
        "start_time": "2024-03-22T13:44:11.190Z"
      },
      {
        "duration": 34,
        "start_time": "2024-03-22T13:44:41.894Z"
      },
      {
        "duration": 174,
        "start_time": "2024-03-22T13:44:51.494Z"
      },
      {
        "duration": 29,
        "start_time": "2024-03-22T13:44:59.854Z"
      },
      {
        "duration": 160,
        "start_time": "2024-03-22T13:45:10.495Z"
      },
      {
        "duration": 176,
        "start_time": "2024-03-22T13:45:32.375Z"
      },
      {
        "duration": 231,
        "start_time": "2024-03-22T13:45:47.759Z"
      },
      {
        "duration": 106,
        "start_time": "2024-03-22T13:45:52.543Z"
      },
      {
        "duration": 4,
        "start_time": "2024-03-22T13:45:57.255Z"
      },
      {
        "duration": 187,
        "start_time": "2024-03-22T13:45:59.535Z"
      },
      {
        "duration": 105,
        "start_time": "2024-03-22T13:46:08.959Z"
      },
      {
        "duration": 196,
        "start_time": "2024-03-22T13:46:42.559Z"
      },
      {
        "duration": 178,
        "start_time": "2024-03-22T13:46:53.704Z"
      },
      {
        "duration": 184,
        "start_time": "2024-03-22T13:47:17.075Z"
      },
      {
        "duration": 240,
        "start_time": "2024-03-22T13:47:20.791Z"
      },
      {
        "duration": 187,
        "start_time": "2024-03-22T13:47:38.848Z"
      },
      {
        "duration": 187,
        "start_time": "2024-03-22T13:48:05.409Z"
      },
      {
        "duration": 174,
        "start_time": "2024-03-22T13:48:41.471Z"
      },
      {
        "duration": 186,
        "start_time": "2024-03-22T13:49:24.442Z"
      },
      {
        "duration": 191,
        "start_time": "2024-03-22T13:49:29.914Z"
      },
      {
        "duration": 19,
        "start_time": "2024-03-22T13:51:56.948Z"
      },
      {
        "duration": 394,
        "start_time": "2024-03-22T13:59:42.923Z"
      },
      {
        "duration": 1205,
        "start_time": "2024-03-22T13:59:55.747Z"
      },
      {
        "duration": 241,
        "start_time": "2024-03-22T13:59:56.954Z"
      },
      {
        "duration": 3,
        "start_time": "2024-03-22T13:59:57.196Z"
      },
      {
        "duration": 296,
        "start_time": "2024-03-22T13:59:57.201Z"
      },
      {
        "duration": 95,
        "start_time": "2024-03-22T13:59:57.499Z"
      },
      {
        "duration": 120,
        "start_time": "2024-03-22T13:59:57.595Z"
      },
      {
        "duration": 20,
        "start_time": "2024-03-22T13:59:57.716Z"
      },
      {
        "duration": 1679,
        "start_time": "2024-03-22T13:59:57.737Z"
      },
      {
        "duration": 0,
        "start_time": "2024-03-22T13:59:59.417Z"
      },
      {
        "duration": 28,
        "start_time": "2024-03-22T14:00:02.338Z"
      },
      {
        "duration": 203,
        "start_time": "2024-03-22T14:00:07.388Z"
      },
      {
        "duration": 6,
        "start_time": "2024-03-22T14:07:17.593Z"
      },
      {
        "duration": 12,
        "start_time": "2024-03-22T14:07:23.890Z"
      },
      {
        "duration": 6,
        "start_time": "2024-03-22T14:07:30.921Z"
      },
      {
        "duration": 9,
        "start_time": "2024-03-22T14:07:47.881Z"
      },
      {
        "duration": 7,
        "start_time": "2024-03-22T14:08:10.794Z"
      },
      {
        "duration": 4,
        "start_time": "2024-03-22T14:16:46.705Z"
      },
      {
        "duration": 21,
        "start_time": "2024-03-22T14:17:19.505Z"
      },
      {
        "duration": 99,
        "start_time": "2024-03-22T14:17:49.042Z"
      },
      {
        "duration": 101,
        "start_time": "2024-03-22T14:18:06.010Z"
      },
      {
        "duration": 99,
        "start_time": "2024-03-22T14:18:22.287Z"
      },
      {
        "duration": 100,
        "start_time": "2024-03-22T14:18:28.762Z"
      },
      {
        "duration": 20,
        "start_time": "2024-03-22T14:18:39.859Z"
      },
      {
        "duration": 23,
        "start_time": "2024-03-22T14:20:26.397Z"
      },
      {
        "duration": 23,
        "start_time": "2024-03-22T14:20:35.957Z"
      },
      {
        "duration": 21,
        "start_time": "2024-03-22T14:20:53.829Z"
      },
      {
        "duration": 20,
        "start_time": "2024-03-22T14:21:17.164Z"
      },
      {
        "duration": 20,
        "start_time": "2024-03-22T14:22:07.093Z"
      },
      {
        "duration": 25,
        "start_time": "2024-03-22T14:24:56.608Z"
      },
      {
        "duration": 26,
        "start_time": "2024-03-22T14:25:08.456Z"
      },
      {
        "duration": 24,
        "start_time": "2024-03-22T14:26:01.826Z"
      },
      {
        "duration": 23,
        "start_time": "2024-03-22T14:26:10.137Z"
      },
      {
        "duration": 26,
        "start_time": "2024-03-22T14:26:18.241Z"
      },
      {
        "duration": 103,
        "start_time": "2024-03-22T14:27:04.306Z"
      },
      {
        "duration": 46,
        "start_time": "2024-03-22T14:27:30.043Z"
      },
      {
        "duration": 42,
        "start_time": "2024-03-22T14:27:33.810Z"
      },
      {
        "duration": 136,
        "start_time": "2024-03-22T14:27:41.459Z"
      },
      {
        "duration": 41,
        "start_time": "2024-03-22T14:27:48.780Z"
      },
      {
        "duration": 99,
        "start_time": "2024-03-22T14:28:50.779Z"
      },
      {
        "duration": 35,
        "start_time": "2024-03-22T14:32:13.167Z"
      },
      {
        "duration": 39,
        "start_time": "2024-03-22T14:35:33.172Z"
      },
      {
        "duration": 1129,
        "start_time": "2024-03-22T14:36:53.817Z"
      },
      {
        "duration": 221,
        "start_time": "2024-03-22T14:36:54.948Z"
      },
      {
        "duration": 3,
        "start_time": "2024-03-22T14:36:55.174Z"
      },
      {
        "duration": 318,
        "start_time": "2024-03-22T14:36:55.178Z"
      },
      {
        "duration": 104,
        "start_time": "2024-03-22T14:36:55.499Z"
      },
      {
        "duration": 119,
        "start_time": "2024-03-22T14:36:55.605Z"
      },
      {
        "duration": 51,
        "start_time": "2024-03-22T14:36:55.726Z"
      },
      {
        "duration": 35,
        "start_time": "2024-03-22T14:36:55.779Z"
      },
      {
        "duration": 6,
        "start_time": "2024-03-22T14:36:55.816Z"
      },
      {
        "duration": 52,
        "start_time": "2024-03-22T14:36:55.824Z"
      },
      {
        "duration": 209,
        "start_time": "2024-03-22T14:36:55.878Z"
      },
      {
        "duration": 126,
        "start_time": "2024-03-22T14:37:48.336Z"
      },
      {
        "duration": 5,
        "start_time": "2024-03-22T14:38:01.946Z"
      },
      {
        "duration": 163,
        "start_time": "2024-03-22T14:38:33.939Z"
      },
      {
        "duration": 9,
        "start_time": "2024-03-22T14:38:52.715Z"
      },
      {
        "duration": 33,
        "start_time": "2024-03-22T14:38:55.850Z"
      },
      {
        "duration": 38,
        "start_time": "2024-03-22T14:39:08.683Z"
      },
      {
        "duration": 348,
        "start_time": "2024-03-22T14:39:48.667Z"
      },
      {
        "duration": 299,
        "start_time": "2024-03-22T14:40:13.596Z"
      },
      {
        "duration": 254,
        "start_time": "2024-03-22T14:40:37.342Z"
      },
      {
        "duration": 267,
        "start_time": "2024-03-22T14:40:42.678Z"
      },
      {
        "duration": 344,
        "start_time": "2024-03-22T14:40:51.782Z"
      },
      {
        "duration": 442,
        "start_time": "2024-03-22T14:41:15.503Z"
      },
      {
        "duration": 97,
        "start_time": "2024-03-22T14:41:42.111Z"
      },
      {
        "duration": 571,
        "start_time": "2024-03-22T14:42:01.391Z"
      },
      {
        "duration": 533,
        "start_time": "2024-03-22T14:42:06.784Z"
      },
      {
        "duration": 298,
        "start_time": "2024-03-22T14:43:25.289Z"
      },
      {
        "duration": 1110,
        "start_time": "2024-03-22T14:44:00.438Z"
      },
      {
        "duration": 214,
        "start_time": "2024-03-22T14:44:01.550Z"
      },
      {
        "duration": 3,
        "start_time": "2024-03-22T14:44:01.765Z"
      },
      {
        "duration": 346,
        "start_time": "2024-03-22T14:44:01.769Z"
      },
      {
        "duration": 97,
        "start_time": "2024-03-22T14:44:02.117Z"
      },
      {
        "duration": 115,
        "start_time": "2024-03-22T14:44:02.215Z"
      },
      {
        "duration": 49,
        "start_time": "2024-03-22T14:44:02.332Z"
      },
      {
        "duration": 34,
        "start_time": "2024-03-22T14:44:02.383Z"
      },
      {
        "duration": 366,
        "start_time": "2024-03-22T14:44:02.419Z"
      },
      {
        "duration": 36,
        "start_time": "2024-03-22T14:44:02.788Z"
      },
      {
        "duration": 524,
        "start_time": "2024-03-22T14:44:02.826Z"
      },
      {
        "duration": 31,
        "start_time": "2024-03-22T14:44:03.351Z"
      },
      {
        "duration": 209,
        "start_time": "2024-03-22T14:44:03.384Z"
      },
      {
        "duration": 273,
        "start_time": "2024-03-22T14:44:23.723Z"
      },
      {
        "duration": 244,
        "start_time": "2024-03-22T14:46:25.695Z"
      },
      {
        "duration": 254,
        "start_time": "2024-03-22T14:46:35.615Z"
      },
      {
        "duration": 223,
        "start_time": "2024-03-22T14:46:39.975Z"
      },
      {
        "duration": 236,
        "start_time": "2024-03-22T14:46:42.174Z"
      },
      {
        "duration": 264,
        "start_time": "2024-03-22T14:46:53.927Z"
      },
      {
        "duration": 159,
        "start_time": "2024-03-22T14:47:15.743Z"
      },
      {
        "duration": 347,
        "start_time": "2024-03-22T14:47:20.631Z"
      },
      {
        "duration": 280,
        "start_time": "2024-03-22T14:49:19.898Z"
      },
      {
        "duration": 173,
        "start_time": "2024-03-22T14:52:58.231Z"
      },
      {
        "duration": 98,
        "start_time": "2024-03-22T14:53:09.103Z"
      },
      {
        "duration": 102,
        "start_time": "2024-03-22T14:53:12.486Z"
      },
      {
        "duration": 108,
        "start_time": "2024-03-22T14:53:18.063Z"
      },
      {
        "duration": 398,
        "start_time": "2024-03-22T14:53:21.390Z"
      },
      {
        "duration": 1222,
        "start_time": "2024-03-22T14:53:51.200Z"
      },
      {
        "duration": 1175,
        "start_time": "2024-03-22T14:54:03.182Z"
      },
      {
        "duration": 219,
        "start_time": "2024-03-22T14:54:04.360Z"
      },
      {
        "duration": 3,
        "start_time": "2024-03-22T14:54:04.580Z"
      },
      {
        "duration": 303,
        "start_time": "2024-03-22T14:54:04.585Z"
      },
      {
        "duration": 0,
        "start_time": "2024-03-22T14:54:04.890Z"
      },
      {
        "duration": 0,
        "start_time": "2024-03-22T14:54:04.891Z"
      },
      {
        "duration": 0,
        "start_time": "2024-03-22T14:54:04.893Z"
      },
      {
        "duration": 0,
        "start_time": "2024-03-22T14:54:04.894Z"
      },
      {
        "duration": 0,
        "start_time": "2024-03-22T14:54:04.895Z"
      },
      {
        "duration": 0,
        "start_time": "2024-03-22T14:54:04.897Z"
      },
      {
        "duration": 0,
        "start_time": "2024-03-22T14:54:04.898Z"
      },
      {
        "duration": 0,
        "start_time": "2024-03-22T14:54:04.900Z"
      },
      {
        "duration": 0,
        "start_time": "2024-03-22T14:54:04.901Z"
      },
      {
        "duration": 0,
        "start_time": "2024-03-22T14:54:04.902Z"
      },
      {
        "duration": 1199,
        "start_time": "2024-03-22T14:54:20.735Z"
      },
      {
        "duration": 1210,
        "start_time": "2024-03-22T14:54:39.224Z"
      },
      {
        "duration": 1152,
        "start_time": "2024-03-22T14:54:46.687Z"
      },
      {
        "duration": 215,
        "start_time": "2024-03-22T14:54:47.841Z"
      },
      {
        "duration": 3,
        "start_time": "2024-03-22T14:54:48.058Z"
      },
      {
        "duration": 370,
        "start_time": "2024-03-22T14:54:48.063Z"
      },
      {
        "duration": 98,
        "start_time": "2024-03-22T14:54:48.435Z"
      },
      {
        "duration": 118,
        "start_time": "2024-03-22T14:54:48.535Z"
      },
      {
        "duration": 46,
        "start_time": "2024-03-22T14:54:48.655Z"
      },
      {
        "duration": 6,
        "start_time": "2024-03-22T14:54:48.703Z"
      },
      {
        "duration": 379,
        "start_time": "2024-03-22T14:54:48.710Z"
      },
      {
        "duration": 10,
        "start_time": "2024-03-22T14:54:49.091Z"
      },
      {
        "duration": 30,
        "start_time": "2024-03-22T14:54:49.102Z"
      },
      {
        "duration": 230,
        "start_time": "2024-03-22T14:54:49.134Z"
      },
      {
        "duration": 32,
        "start_time": "2024-03-22T14:54:49.365Z"
      },
      {
        "duration": 200,
        "start_time": "2024-03-22T14:54:49.399Z"
      },
      {
        "duration": 11,
        "start_time": "2024-03-22T14:55:10.424Z"
      },
      {
        "duration": 122,
        "start_time": "2024-03-22T14:55:22.449Z"
      },
      {
        "duration": 114,
        "start_time": "2024-03-22T14:55:34.961Z"
      },
      {
        "duration": 6,
        "start_time": "2024-03-22T14:55:39.810Z"
      },
      {
        "duration": 16,
        "start_time": "2024-03-22T14:56:04.953Z"
      },
      {
        "duration": 7,
        "start_time": "2024-03-22T14:56:18.890Z"
      },
      {
        "duration": 16,
        "start_time": "2024-03-22T14:56:28.161Z"
      },
      {
        "duration": 7,
        "start_time": "2024-03-22T14:56:34.910Z"
      },
      {
        "duration": 9,
        "start_time": "2024-03-22T14:57:49.995Z"
      },
      {
        "duration": 5,
        "start_time": "2024-03-22T14:58:10.165Z"
      },
      {
        "duration": 9,
        "start_time": "2024-03-22T15:01:13.185Z"
      },
      {
        "duration": 427,
        "start_time": "2024-03-22T15:01:25.177Z"
      },
      {
        "duration": 99,
        "start_time": "2024-03-22T15:04:01.444Z"
      },
      {
        "duration": 47,
        "start_time": "2024-03-22T15:04:09.875Z"
      },
      {
        "duration": 434,
        "start_time": "2024-03-22T15:04:19.948Z"
      },
      {
        "duration": 7,
        "start_time": "2024-03-22T15:07:34.958Z"
      },
      {
        "duration": 9,
        "start_time": "2024-03-22T15:08:21.777Z"
      },
      {
        "duration": 6,
        "start_time": "2024-03-22T15:08:31.000Z"
      },
      {
        "duration": 1204,
        "start_time": "2024-03-22T15:09:20.075Z"
      },
      {
        "duration": 1143,
        "start_time": "2024-03-22T15:10:41.833Z"
      },
      {
        "duration": 225,
        "start_time": "2024-03-22T15:10:42.978Z"
      },
      {
        "duration": 3,
        "start_time": "2024-03-22T15:10:43.205Z"
      },
      {
        "duration": 328,
        "start_time": "2024-03-22T15:10:43.209Z"
      },
      {
        "duration": 78,
        "start_time": "2024-03-22T15:10:43.540Z"
      },
      {
        "duration": 95,
        "start_time": "2024-03-22T15:10:43.620Z"
      },
      {
        "duration": 42,
        "start_time": "2024-03-22T15:10:43.717Z"
      },
      {
        "duration": 16,
        "start_time": "2024-03-22T15:10:43.760Z"
      },
      {
        "duration": 562,
        "start_time": "2024-03-22T15:10:43.778Z"
      },
      {
        "duration": 5,
        "start_time": "2024-03-22T15:10:44.342Z"
      },
      {
        "duration": 30,
        "start_time": "2024-03-22T15:10:44.348Z"
      },
      {
        "duration": 224,
        "start_time": "2024-03-22T15:10:44.380Z"
      },
      {
        "duration": 27,
        "start_time": "2024-03-22T15:10:44.606Z"
      },
      {
        "duration": 205,
        "start_time": "2024-03-22T15:10:44.635Z"
      },
      {
        "duration": 1796,
        "start_time": "2024-03-22T15:11:26.166Z"
      },
      {
        "duration": 6,
        "start_time": "2024-03-22T15:11:39.615Z"
      },
      {
        "duration": 5,
        "start_time": "2024-03-22T15:14:12.378Z"
      },
      {
        "duration": 49,
        "start_time": "2024-03-22T15:16:19.054Z"
      },
      {
        "duration": 41,
        "start_time": "2024-03-22T15:17:12.344Z"
      },
      {
        "duration": 19,
        "start_time": "2024-03-22T15:17:21.839Z"
      },
      {
        "duration": 19,
        "start_time": "2024-03-22T15:17:42.312Z"
      },
      {
        "duration": 1178,
        "start_time": "2024-03-22T15:17:53.278Z"
      },
      {
        "duration": 216,
        "start_time": "2024-03-22T15:17:54.458Z"
      },
      {
        "duration": 3,
        "start_time": "2024-03-22T15:17:54.675Z"
      },
      {
        "duration": 305,
        "start_time": "2024-03-22T15:17:54.680Z"
      },
      {
        "duration": 66,
        "start_time": "2024-03-22T15:17:54.987Z"
      },
      {
        "duration": 95,
        "start_time": "2024-03-22T15:17:55.054Z"
      },
      {
        "duration": 52,
        "start_time": "2024-03-22T15:17:55.151Z"
      },
      {
        "duration": 6,
        "start_time": "2024-03-22T15:17:55.205Z"
      },
      {
        "duration": 169,
        "start_time": "2024-03-22T15:17:55.213Z"
      },
      {
        "duration": 0,
        "start_time": "2024-03-22T15:17:55.384Z"
      },
      {
        "duration": 0,
        "start_time": "2024-03-22T15:17:55.386Z"
      },
      {
        "duration": 0,
        "start_time": "2024-03-22T15:17:55.387Z"
      },
      {
        "duration": 0,
        "start_time": "2024-03-22T15:17:55.389Z"
      },
      {
        "duration": 0,
        "start_time": "2024-03-22T15:17:55.390Z"
      },
      {
        "duration": 0,
        "start_time": "2024-03-22T15:17:55.392Z"
      },
      {
        "duration": 0,
        "start_time": "2024-03-22T15:17:55.393Z"
      },
      {
        "duration": 19,
        "start_time": "2024-03-22T15:17:58.504Z"
      },
      {
        "duration": 13,
        "start_time": "2024-03-22T15:18:07.608Z"
      },
      {
        "duration": 20,
        "start_time": "2024-03-22T15:18:15.880Z"
      },
      {
        "duration": 16,
        "start_time": "2024-03-22T15:18:34.201Z"
      },
      {
        "duration": 5,
        "start_time": "2024-03-22T15:18:54.258Z"
      },
      {
        "duration": 6,
        "start_time": "2024-03-22T15:19:04.386Z"
      },
      {
        "duration": 5,
        "start_time": "2024-03-22T15:19:17.165Z"
      },
      {
        "duration": 57,
        "start_time": "2024-03-22T15:19:35.026Z"
      },
      {
        "duration": 25,
        "start_time": "2024-03-22T15:19:44.530Z"
      },
      {
        "duration": 20,
        "start_time": "2024-03-22T15:20:51.205Z"
      },
      {
        "duration": 32,
        "start_time": "2024-03-22T15:21:24.389Z"
      },
      {
        "duration": 42,
        "start_time": "2024-03-22T15:21:33.846Z"
      },
      {
        "duration": 24,
        "start_time": "2024-03-22T15:22:09.814Z"
      },
      {
        "duration": 23,
        "start_time": "2024-03-22T15:22:36.032Z"
      },
      {
        "duration": 40,
        "start_time": "2024-03-22T15:22:57.567Z"
      },
      {
        "duration": 46,
        "start_time": "2024-03-22T15:23:32.360Z"
      },
      {
        "duration": 46,
        "start_time": "2024-03-22T15:24:37.009Z"
      },
      {
        "duration": 46,
        "start_time": "2024-03-22T15:24:43.490Z"
      },
      {
        "duration": 40,
        "start_time": "2024-03-22T15:25:17.167Z"
      },
      {
        "duration": 38,
        "start_time": "2024-03-22T15:25:31.986Z"
      },
      {
        "duration": 40,
        "start_time": "2024-03-22T15:26:04.340Z"
      },
      {
        "duration": 36,
        "start_time": "2024-03-22T15:26:12.316Z"
      },
      {
        "duration": 36,
        "start_time": "2024-03-22T15:26:23.900Z"
      },
      {
        "duration": 113,
        "start_time": "2024-03-22T15:26:36.277Z"
      },
      {
        "duration": 53,
        "start_time": "2024-03-22T15:26:39.452Z"
      },
      {
        "duration": 9,
        "start_time": "2024-03-22T15:29:21.648Z"
      },
      {
        "duration": 63,
        "start_time": "2024-03-22T15:29:49.696Z"
      },
      {
        "duration": 432,
        "start_time": "2024-03-22T15:30:02.601Z"
      },
      {
        "duration": 332,
        "start_time": "2024-03-22T15:33:08.525Z"
      },
      {
        "duration": 158,
        "start_time": "2024-03-22T15:36:13.210Z"
      },
      {
        "duration": 250,
        "start_time": "2024-03-22T15:36:25.905Z"
      },
      {
        "duration": 353,
        "start_time": "2024-03-22T15:36:40.833Z"
      },
      {
        "duration": 228,
        "start_time": "2024-03-22T15:36:47.681Z"
      },
      {
        "duration": 211,
        "start_time": "2024-03-22T15:37:00.810Z"
      },
      {
        "duration": 250,
        "start_time": "2024-03-22T15:37:07.897Z"
      },
      {
        "duration": 303,
        "start_time": "2024-03-22T15:37:23.090Z"
      },
      {
        "duration": 243,
        "start_time": "2024-03-22T15:37:53.002Z"
      },
      {
        "duration": 275,
        "start_time": "2024-03-22T15:38:15.907Z"
      },
      {
        "duration": 268,
        "start_time": "2024-03-22T15:38:27.500Z"
      },
      {
        "duration": 260,
        "start_time": "2024-03-22T15:38:55.580Z"
      },
      {
        "duration": 261,
        "start_time": "2024-03-22T15:39:04.525Z"
      },
      {
        "duration": 423,
        "start_time": "2024-03-22T15:39:11.307Z"
      },
      {
        "duration": 422,
        "start_time": "2024-03-22T15:39:35.589Z"
      },
      {
        "duration": 499,
        "start_time": "2024-03-22T15:41:38.446Z"
      },
      {
        "duration": 388,
        "start_time": "2024-03-22T15:42:29.321Z"
      },
      {
        "duration": 412,
        "start_time": "2024-03-22T15:42:59.983Z"
      },
      {
        "duration": 430,
        "start_time": "2024-03-22T15:43:19.904Z"
      },
      {
        "duration": 62,
        "start_time": "2024-03-22T15:46:32.395Z"
      },
      {
        "duration": 62,
        "start_time": "2024-03-22T15:46:49.466Z"
      },
      {
        "duration": 285,
        "start_time": "2024-03-22T15:47:04.363Z"
      },
      {
        "duration": 358,
        "start_time": "2024-03-22T15:47:14.266Z"
      },
      {
        "duration": 67,
        "start_time": "2024-03-22T15:47:33.250Z"
      },
      {
        "duration": 276,
        "start_time": "2024-03-22T15:48:06.226Z"
      },
      {
        "duration": 283,
        "start_time": "2024-03-22T15:48:21.899Z"
      },
      {
        "duration": 269,
        "start_time": "2024-03-22T15:48:45.475Z"
      },
      {
        "duration": 457,
        "start_time": "2024-03-22T15:48:54.587Z"
      },
      {
        "duration": 631,
        "start_time": "2024-03-22T15:49:16.500Z"
      },
      {
        "duration": 549,
        "start_time": "2024-03-22T15:49:24.275Z"
      },
      {
        "duration": 475,
        "start_time": "2024-03-22T15:49:33.604Z"
      },
      {
        "duration": 621,
        "start_time": "2024-03-22T15:49:42.621Z"
      },
      {
        "duration": 554,
        "start_time": "2024-03-22T15:49:53.404Z"
      },
      {
        "duration": 565,
        "start_time": "2024-03-22T15:50:03.557Z"
      },
      {
        "duration": 1260,
        "start_time": "2024-03-22T15:51:03.180Z"
      },
      {
        "duration": 1183,
        "start_time": "2024-03-22T15:51:09.261Z"
      },
      {
        "duration": 926,
        "start_time": "2024-03-22T15:51:10.446Z"
      },
      {
        "duration": 4,
        "start_time": "2024-03-22T15:51:11.373Z"
      },
      {
        "duration": 295,
        "start_time": "2024-03-22T15:51:11.379Z"
      },
      {
        "duration": 99,
        "start_time": "2024-03-22T15:51:11.676Z"
      },
      {
        "duration": 122,
        "start_time": "2024-03-22T15:51:11.777Z"
      },
      {
        "duration": 43,
        "start_time": "2024-03-22T15:51:11.901Z"
      },
      {
        "duration": 6,
        "start_time": "2024-03-22T15:51:11.945Z"
      },
      {
        "duration": 657,
        "start_time": "2024-03-22T15:51:11.972Z"
      },
      {
        "duration": 0,
        "start_time": "2024-03-22T15:51:12.631Z"
      },
      {
        "duration": 0,
        "start_time": "2024-03-22T15:51:12.632Z"
      },
      {
        "duration": 0,
        "start_time": "2024-03-22T15:51:12.633Z"
      },
      {
        "duration": 0,
        "start_time": "2024-03-22T15:51:12.635Z"
      },
      {
        "duration": 0,
        "start_time": "2024-03-22T15:51:12.635Z"
      },
      {
        "duration": 0,
        "start_time": "2024-03-22T15:51:12.636Z"
      },
      {
        "duration": 0,
        "start_time": "2024-03-22T15:51:12.638Z"
      },
      {
        "duration": 0,
        "start_time": "2024-03-22T15:51:12.639Z"
      },
      {
        "duration": 572,
        "start_time": "2024-03-22T15:51:36.301Z"
      },
      {
        "duration": 391,
        "start_time": "2024-03-22T15:51:39.765Z"
      },
      {
        "duration": 385,
        "start_time": "2024-03-22T15:52:25.023Z"
      },
      {
        "duration": 462,
        "start_time": "2024-03-22T15:52:41.326Z"
      },
      {
        "duration": 399,
        "start_time": "2024-03-22T15:52:45.504Z"
      },
      {
        "duration": 409,
        "start_time": "2024-03-22T15:52:53.559Z"
      },
      {
        "duration": 428,
        "start_time": "2024-03-22T15:53:08.816Z"
      },
      {
        "duration": 402,
        "start_time": "2024-03-22T15:53:17.316Z"
      },
      {
        "duration": 11,
        "start_time": "2024-03-22T15:54:19.080Z"
      },
      {
        "duration": 10,
        "start_time": "2024-03-22T15:54:28.431Z"
      },
      {
        "duration": 477,
        "start_time": "2024-03-22T15:54:37.064Z"
      },
      {
        "duration": 432,
        "start_time": "2024-03-22T15:54:45.969Z"
      },
      {
        "duration": 525,
        "start_time": "2024-03-22T15:55:13.665Z"
      },
      {
        "duration": 485,
        "start_time": "2024-03-22T15:55:19.712Z"
      },
      {
        "duration": 488,
        "start_time": "2024-03-22T15:55:25.504Z"
      },
      {
        "duration": 404,
        "start_time": "2024-03-22T15:55:58.625Z"
      },
      {
        "duration": 491,
        "start_time": "2024-03-22T15:56:04.505Z"
      },
      {
        "duration": 407,
        "start_time": "2024-03-22T15:56:21.849Z"
      },
      {
        "duration": 389,
        "start_time": "2024-03-22T15:56:32.337Z"
      },
      {
        "duration": 404,
        "start_time": "2024-03-22T15:58:01.180Z"
      },
      {
        "duration": 382,
        "start_time": "2024-03-22T15:59:06.517Z"
      },
      {
        "duration": 418,
        "start_time": "2024-03-22T15:59:13.222Z"
      },
      {
        "duration": 503,
        "start_time": "2024-03-22T15:59:40.461Z"
      },
      {
        "duration": 576,
        "start_time": "2024-03-22T15:59:53.300Z"
      },
      {
        "duration": 481,
        "start_time": "2024-03-22T16:00:47.726Z"
      },
      {
        "duration": 397,
        "start_time": "2024-03-22T16:02:00.487Z"
      },
      {
        "duration": 8,
        "start_time": "2024-03-22T16:04:00.248Z"
      },
      {
        "duration": 8,
        "start_time": "2024-03-22T16:04:10.593Z"
      },
      {
        "duration": 1646,
        "start_time": "2024-03-22T16:04:39.272Z"
      },
      {
        "duration": 10,
        "start_time": "2024-03-22T16:04:47.530Z"
      },
      {
        "duration": 1606,
        "start_time": "2024-03-22T16:04:51.802Z"
      },
      {
        "duration": 1640,
        "start_time": "2024-03-22T16:05:00.650Z"
      },
      {
        "duration": 1756,
        "start_time": "2024-03-22T16:05:06.395Z"
      },
      {
        "duration": 12,
        "start_time": "2024-03-22T16:05:11.418Z"
      },
      {
        "duration": 8,
        "start_time": "2024-03-22T16:05:14.738Z"
      },
      {
        "duration": 398,
        "start_time": "2024-03-22T16:05:57.883Z"
      },
      {
        "duration": 9,
        "start_time": "2024-03-22T16:06:19.813Z"
      },
      {
        "duration": 106,
        "start_time": "2024-03-22T16:06:29.083Z"
      },
      {
        "duration": 8,
        "start_time": "2024-03-22T16:06:31.611Z"
      },
      {
        "duration": 9,
        "start_time": "2024-03-22T16:06:50.653Z"
      },
      {
        "duration": 412,
        "start_time": "2024-03-22T16:07:38.836Z"
      },
      {
        "duration": 9,
        "start_time": "2024-03-22T16:07:41.079Z"
      },
      {
        "duration": 8,
        "start_time": "2024-03-22T16:07:44.859Z"
      },
      {
        "duration": 4,
        "start_time": "2024-03-22T16:08:01.598Z"
      },
      {
        "duration": 4,
        "start_time": "2024-03-22T16:08:06.693Z"
      },
      {
        "duration": 4,
        "start_time": "2024-03-22T16:08:13.500Z"
      },
      {
        "duration": 8,
        "start_time": "2024-03-22T16:08:21.277Z"
      },
      {
        "duration": 4,
        "start_time": "2024-03-22T16:08:25.111Z"
      },
      {
        "duration": 3,
        "start_time": "2024-03-22T16:08:31.757Z"
      },
      {
        "duration": 5,
        "start_time": "2024-03-22T16:08:39.132Z"
      },
      {
        "duration": 25,
        "start_time": "2024-03-22T16:08:46.478Z"
      },
      {
        "duration": 27,
        "start_time": "2024-03-22T16:54:56.015Z"
      },
      {
        "duration": 37,
        "start_time": "2024-03-22T16:55:02.639Z"
      },
      {
        "duration": 44,
        "start_time": "2024-03-22T16:55:07.905Z"
      },
      {
        "duration": 47,
        "start_time": "2024-03-22T16:55:22.177Z"
      },
      {
        "duration": 55,
        "start_time": "2024-03-22T16:55:51.656Z"
      },
      {
        "duration": 448,
        "start_time": "2024-03-22T17:02:10.350Z"
      },
      {
        "duration": 43,
        "start_time": "2024-03-22T17:02:51.943Z"
      },
      {
        "duration": 59,
        "start_time": "2024-03-22T17:03:07.040Z"
      },
      {
        "duration": 53,
        "start_time": "2024-03-22T17:03:14.735Z"
      },
      {
        "duration": 50,
        "start_time": "2024-03-22T17:03:22.176Z"
      },
      {
        "duration": 54,
        "start_time": "2024-03-22T18:08:52.361Z"
      },
      {
        "duration": 1222,
        "start_time": "2024-03-23T13:02:16.714Z"
      },
      {
        "duration": 341,
        "start_time": "2024-03-23T13:02:17.938Z"
      },
      {
        "duration": 3,
        "start_time": "2024-03-23T13:02:18.280Z"
      },
      {
        "duration": 284,
        "start_time": "2024-03-23T13:02:18.285Z"
      },
      {
        "duration": 95,
        "start_time": "2024-03-23T13:02:18.571Z"
      },
      {
        "duration": 114,
        "start_time": "2024-03-23T13:02:18.667Z"
      },
      {
        "duration": 55,
        "start_time": "2024-03-23T13:02:18.792Z"
      },
      {
        "duration": 6,
        "start_time": "2024-03-23T13:02:18.850Z"
      },
      {
        "duration": 473,
        "start_time": "2024-03-23T13:02:18.867Z"
      },
      {
        "duration": 40,
        "start_time": "2024-03-23T13:02:19.343Z"
      },
      {
        "duration": 20,
        "start_time": "2024-03-23T13:02:19.385Z"
      },
      {
        "duration": 4,
        "start_time": "2024-03-23T13:02:19.407Z"
      },
      {
        "duration": 560,
        "start_time": "2024-03-23T13:02:19.412Z"
      },
      {
        "duration": 25,
        "start_time": "2024-03-23T13:02:19.973Z"
      },
      {
        "duration": 186,
        "start_time": "2024-03-23T13:02:20.000Z"
      },
      {
        "duration": 1631,
        "start_time": "2024-03-24T07:31:58.558Z"
      },
      {
        "duration": 509,
        "start_time": "2024-03-24T07:32:00.191Z"
      },
      {
        "duration": 4,
        "start_time": "2024-03-24T07:32:00.701Z"
      },
      {
        "duration": 476,
        "start_time": "2024-03-24T07:32:00.706Z"
      },
      {
        "duration": 98,
        "start_time": "2024-03-24T07:32:01.185Z"
      },
      {
        "duration": 119,
        "start_time": "2024-03-24T07:32:01.285Z"
      },
      {
        "duration": 42,
        "start_time": "2024-03-24T07:32:01.405Z"
      },
      {
        "duration": 6,
        "start_time": "2024-03-24T07:32:01.449Z"
      },
      {
        "duration": 431,
        "start_time": "2024-03-24T07:32:01.457Z"
      },
      {
        "duration": 39,
        "start_time": "2024-03-24T07:32:01.890Z"
      },
      {
        "duration": 24,
        "start_time": "2024-03-24T07:32:01.931Z"
      },
      {
        "duration": 28,
        "start_time": "2024-03-24T07:32:01.957Z"
      },
      {
        "duration": 582,
        "start_time": "2024-03-24T07:32:01.988Z"
      },
      {
        "duration": 32,
        "start_time": "2024-03-24T07:32:02.573Z"
      },
      {
        "duration": 187,
        "start_time": "2024-03-24T07:32:02.606Z"
      },
      {
        "duration": 3,
        "start_time": "2024-03-24T07:32:50.681Z"
      },
      {
        "duration": 69,
        "start_time": "2024-03-24T07:36:02.229Z"
      },
      {
        "duration": 67,
        "start_time": "2024-03-24T07:36:27.148Z"
      },
      {
        "duration": 111,
        "start_time": "2024-03-24T07:36:31.764Z"
      },
      {
        "duration": 70,
        "start_time": "2024-03-24T07:36:42.476Z"
      },
      {
        "duration": 76,
        "start_time": "2024-03-24T07:36:55.581Z"
      },
      {
        "duration": 928,
        "start_time": "2024-03-24T07:37:16.285Z"
      },
      {
        "duration": 5,
        "start_time": "2024-03-24T07:37:35.325Z"
      },
      {
        "duration": 5,
        "start_time": "2024-03-24T07:38:54.326Z"
      },
      {
        "duration": 5,
        "start_time": "2024-03-24T07:39:22.223Z"
      },
      {
        "duration": 6,
        "start_time": "2024-03-24T07:39:31.287Z"
      },
      {
        "duration": 34,
        "start_time": "2024-03-24T07:39:44.952Z"
      },
      {
        "duration": 5,
        "start_time": "2024-03-24T07:39:50.081Z"
      },
      {
        "duration": 5,
        "start_time": "2024-03-24T07:40:01.408Z"
      },
      {
        "duration": 72,
        "start_time": "2024-03-24T07:40:12.904Z"
      },
      {
        "duration": 73,
        "start_time": "2024-03-24T07:40:37.584Z"
      },
      {
        "duration": 3,
        "start_time": "2024-03-24T07:41:05.465Z"
      },
      {
        "duration": 5,
        "start_time": "2024-03-24T07:41:22.033Z"
      },
      {
        "duration": 6,
        "start_time": "2024-03-24T07:41:46.001Z"
      },
      {
        "duration": 5,
        "start_time": "2024-03-24T07:41:50.361Z"
      },
      {
        "duration": 3,
        "start_time": "2024-03-24T07:43:10.499Z"
      },
      {
        "duration": 3,
        "start_time": "2024-03-24T07:43:16.795Z"
      },
      {
        "duration": 15,
        "start_time": "2024-03-24T07:43:26.772Z"
      },
      {
        "duration": 13,
        "start_time": "2024-03-24T07:43:32.396Z"
      },
      {
        "duration": 23,
        "start_time": "2024-03-24T07:44:34.949Z"
      },
      {
        "duration": 23,
        "start_time": "2024-03-24T07:44:39.708Z"
      },
      {
        "duration": 23,
        "start_time": "2024-03-24T07:44:53.637Z"
      },
      {
        "duration": 20,
        "start_time": "2024-03-24T07:44:59.885Z"
      },
      {
        "duration": 24,
        "start_time": "2024-03-24T07:45:04.997Z"
      },
      {
        "duration": 24,
        "start_time": "2024-03-24T07:46:00.982Z"
      },
      {
        "duration": 30,
        "start_time": "2024-03-24T07:46:24.094Z"
      },
      {
        "duration": 17,
        "start_time": "2024-03-24T07:51:02.424Z"
      },
      {
        "duration": 8,
        "start_time": "2024-03-24T07:51:21.064Z"
      },
      {
        "duration": 8,
        "start_time": "2024-03-24T07:51:25.856Z"
      },
      {
        "duration": 8,
        "start_time": "2024-03-24T07:51:31.575Z"
      },
      {
        "duration": 45,
        "start_time": "2024-03-24T07:51:33.746Z"
      },
      {
        "duration": 27,
        "start_time": "2024-03-24T07:52:31.344Z"
      },
      {
        "duration": 148,
        "start_time": "2024-03-24T07:52:35.928Z"
      },
      {
        "duration": 144,
        "start_time": "2024-03-24T07:52:52.656Z"
      },
      {
        "duration": 161,
        "start_time": "2024-03-24T07:54:02.578Z"
      },
      {
        "duration": 151,
        "start_time": "2024-03-24T07:54:12.969Z"
      },
      {
        "duration": 157,
        "start_time": "2024-03-24T07:54:23.145Z"
      },
      {
        "duration": 249,
        "start_time": "2024-03-24T07:55:14.779Z"
      },
      {
        "duration": 145,
        "start_time": "2024-03-24T07:55:34.882Z"
      },
      {
        "duration": 164,
        "start_time": "2024-03-24T08:06:12.147Z"
      },
      {
        "duration": 169,
        "start_time": "2024-03-24T08:06:17.915Z"
      },
      {
        "duration": 162,
        "start_time": "2024-03-24T08:06:21.722Z"
      },
      {
        "duration": 148,
        "start_time": "2024-03-24T08:06:28.755Z"
      },
      {
        "duration": 150,
        "start_time": "2024-03-24T08:07:49.572Z"
      },
      {
        "duration": 146,
        "start_time": "2024-03-24T08:08:11.468Z"
      },
      {
        "duration": 178,
        "start_time": "2024-03-24T08:08:23.821Z"
      },
      {
        "duration": 31,
        "start_time": "2024-03-24T08:08:40.300Z"
      },
      {
        "duration": 31,
        "start_time": "2024-03-24T08:09:04.798Z"
      },
      {
        "duration": 34,
        "start_time": "2024-03-24T08:09:17.094Z"
      },
      {
        "duration": 27,
        "start_time": "2024-03-24T08:09:38.414Z"
      },
      {
        "duration": 28,
        "start_time": "2024-03-24T08:09:46.510Z"
      },
      {
        "duration": 38,
        "start_time": "2024-03-24T08:10:39.798Z"
      },
      {
        "duration": 155,
        "start_time": "2024-03-24T08:10:46.127Z"
      },
      {
        "duration": 172,
        "start_time": "2024-03-24T08:11:29.177Z"
      },
      {
        "duration": 170,
        "start_time": "2024-03-24T08:11:46.440Z"
      },
      {
        "duration": 69,
        "start_time": "2024-03-24T08:12:04.695Z"
      },
      {
        "duration": 249,
        "start_time": "2024-03-24T08:12:11.425Z"
      },
      {
        "duration": 165,
        "start_time": "2024-03-24T08:12:18.936Z"
      },
      {
        "duration": 150,
        "start_time": "2024-03-24T08:12:49.273Z"
      },
      {
        "duration": 151,
        "start_time": "2024-03-24T08:13:02.130Z"
      },
      {
        "duration": 72,
        "start_time": "2024-03-24T08:15:29.187Z"
      },
      {
        "duration": 5,
        "start_time": "2024-03-24T08:15:38.988Z"
      },
      {
        "duration": 15,
        "start_time": "2024-03-24T08:15:47.371Z"
      },
      {
        "duration": 18,
        "start_time": "2024-03-24T08:15:59.834Z"
      },
      {
        "duration": 77,
        "start_time": "2024-03-24T08:16:14.100Z"
      },
      {
        "duration": 11,
        "start_time": "2024-03-24T08:16:18.916Z"
      },
      {
        "duration": 63,
        "start_time": "2024-03-24T08:20:39.281Z"
      },
      {
        "duration": 76,
        "start_time": "2024-03-24T08:20:45.673Z"
      },
      {
        "duration": 900,
        "start_time": "2024-03-24T08:21:04.170Z"
      },
      {
        "duration": 899,
        "start_time": "2024-03-24T08:21:16.097Z"
      },
      {
        "duration": 43,
        "start_time": "2024-03-24T08:21:23.059Z"
      },
      {
        "duration": 69,
        "start_time": "2024-03-24T08:21:26.850Z"
      },
      {
        "duration": 43,
        "start_time": "2024-03-24T08:21:33.098Z"
      },
      {
        "duration": 42,
        "start_time": "2024-03-24T08:22:54.716Z"
      },
      {
        "duration": 88,
        "start_time": "2024-03-24T08:23:16.212Z"
      },
      {
        "duration": 41,
        "start_time": "2024-03-24T08:23:27.164Z"
      },
      {
        "duration": 39,
        "start_time": "2024-03-24T08:23:52.717Z"
      },
      {
        "duration": 43,
        "start_time": "2024-03-24T08:24:52.327Z"
      },
      {
        "duration": 40,
        "start_time": "2024-03-24T08:25:08.049Z"
      },
      {
        "duration": 6,
        "start_time": "2024-03-24T08:25:13.296Z"
      },
      {
        "duration": 71,
        "start_time": "2024-03-24T08:25:22.808Z"
      },
      {
        "duration": 77,
        "start_time": "2024-03-24T08:25:26.151Z"
      },
      {
        "duration": 42,
        "start_time": "2024-03-24T08:25:33.672Z"
      },
      {
        "duration": 15,
        "start_time": "2024-03-24T08:25:46.961Z"
      },
      {
        "duration": 41,
        "start_time": "2024-03-24T08:26:07.314Z"
      },
      {
        "duration": 44,
        "start_time": "2024-03-24T08:26:16.393Z"
      },
      {
        "duration": 42,
        "start_time": "2024-03-24T08:26:20.225Z"
      },
      {
        "duration": 40,
        "start_time": "2024-03-24T08:26:35.586Z"
      },
      {
        "duration": 43,
        "start_time": "2024-03-24T08:26:39.882Z"
      },
      {
        "duration": 48,
        "start_time": "2024-03-24T08:26:54.579Z"
      },
      {
        "duration": 42,
        "start_time": "2024-03-24T08:27:05.659Z"
      },
      {
        "duration": 138,
        "start_time": "2024-03-24T08:32:25.161Z"
      },
      {
        "duration": 47,
        "start_time": "2024-03-24T08:32:56.658Z"
      },
      {
        "duration": 29,
        "start_time": "2024-03-24T08:33:15.994Z"
      },
      {
        "duration": 29,
        "start_time": "2024-03-24T08:33:32.995Z"
      },
      {
        "duration": 36,
        "start_time": "2024-03-24T08:33:42.508Z"
      },
      {
        "duration": 25,
        "start_time": "2024-03-24T08:34:22.180Z"
      },
      {
        "duration": 175,
        "start_time": "2024-03-24T08:35:04.197Z"
      },
      {
        "duration": 201,
        "start_time": "2024-03-24T08:35:24.517Z"
      },
      {
        "duration": 197,
        "start_time": "2024-03-24T08:35:30.197Z"
      },
      {
        "duration": 84,
        "start_time": "2024-03-24T08:36:17.790Z"
      },
      {
        "duration": 186,
        "start_time": "2024-03-24T08:36:25.334Z"
      },
      {
        "duration": 199,
        "start_time": "2024-03-24T08:37:13.743Z"
      },
      {
        "duration": 177,
        "start_time": "2024-03-24T08:37:19.368Z"
      },
      {
        "duration": 218,
        "start_time": "2024-03-24T08:37:52.089Z"
      },
      {
        "duration": 283,
        "start_time": "2024-03-24T08:38:03.864Z"
      },
      {
        "duration": 89,
        "start_time": "2024-03-24T08:39:12.634Z"
      },
      {
        "duration": 42,
        "start_time": "2024-03-24T08:39:15.842Z"
      },
      {
        "duration": 41,
        "start_time": "2024-03-24T08:39:28.130Z"
      },
      {
        "duration": 181,
        "start_time": "2024-03-24T08:39:31.458Z"
      },
      {
        "duration": 212,
        "start_time": "2024-03-24T08:40:03.794Z"
      },
      {
        "duration": 205,
        "start_time": "2024-03-24T08:40:11.979Z"
      },
      {
        "duration": 29,
        "start_time": "2024-03-24T08:40:21.018Z"
      },
      {
        "duration": 38,
        "start_time": "2024-03-24T08:40:25.843Z"
      },
      {
        "duration": 30,
        "start_time": "2024-03-24T08:40:33.930Z"
      },
      {
        "duration": 30,
        "start_time": "2024-03-24T08:40:39.467Z"
      },
      {
        "duration": 32,
        "start_time": "2024-03-24T08:40:41.971Z"
      },
      {
        "duration": 1015,
        "start_time": "2024-03-24T08:40:53.427Z"
      },
      {
        "duration": 187,
        "start_time": "2024-03-24T08:41:00.587Z"
      },
      {
        "duration": 199,
        "start_time": "2024-03-24T08:41:11.034Z"
      },
      {
        "duration": 201,
        "start_time": "2024-03-24T08:41:17.243Z"
      },
      {
        "duration": 223,
        "start_time": "2024-03-24T08:41:53.029Z"
      },
      {
        "duration": 75,
        "start_time": "2024-03-24T09:30:44.194Z"
      },
      {
        "duration": 74,
        "start_time": "2024-03-24T09:30:53.849Z"
      },
      {
        "duration": 54,
        "start_time": "2024-03-24T09:30:58.226Z"
      },
      {
        "duration": 42,
        "start_time": "2024-03-24T09:31:21.418Z"
      },
      {
        "duration": 40,
        "start_time": "2024-03-24T09:31:40.194Z"
      },
      {
        "duration": 40,
        "start_time": "2024-03-24T09:31:48.547Z"
      },
      {
        "duration": 43,
        "start_time": "2024-03-24T09:32:28.698Z"
      },
      {
        "duration": 212,
        "start_time": "2024-03-24T09:34:15.974Z"
      },
      {
        "duration": 205,
        "start_time": "2024-03-24T09:34:21.677Z"
      },
      {
        "duration": 69,
        "start_time": "2024-03-24T09:40:41.297Z"
      },
      {
        "duration": 62,
        "start_time": "2024-03-24T09:40:44.874Z"
      },
      {
        "duration": 50,
        "start_time": "2024-03-24T09:41:10.691Z"
      },
      {
        "duration": 60,
        "start_time": "2024-03-24T09:41:20.179Z"
      },
      {
        "duration": 56,
        "start_time": "2024-03-24T09:41:26.915Z"
      },
      {
        "duration": 59,
        "start_time": "2024-03-24T09:41:36.236Z"
      },
      {
        "duration": 58,
        "start_time": "2024-03-24T09:41:45.179Z"
      },
      {
        "duration": 55,
        "start_time": "2024-03-24T09:42:08.340Z"
      },
      {
        "duration": 61,
        "start_time": "2024-03-24T09:43:19.325Z"
      },
      {
        "duration": 69,
        "start_time": "2024-03-24T09:44:42.416Z"
      },
      {
        "duration": 62,
        "start_time": "2024-03-24T09:44:48.847Z"
      },
      {
        "duration": 69,
        "start_time": "2024-03-24T09:45:06.478Z"
      },
      {
        "duration": 155,
        "start_time": "2024-03-24T09:45:38.032Z"
      },
      {
        "duration": 66,
        "start_time": "2024-03-24T09:45:56.184Z"
      },
      {
        "duration": 73,
        "start_time": "2024-03-24T09:46:09.784Z"
      },
      {
        "duration": 68,
        "start_time": "2024-03-24T09:46:46.928Z"
      },
      {
        "duration": 70,
        "start_time": "2024-03-24T09:47:24.201Z"
      },
      {
        "duration": 65,
        "start_time": "2024-03-24T09:47:28.417Z"
      },
      {
        "duration": 72,
        "start_time": "2024-03-24T09:59:25.287Z"
      },
      {
        "duration": 63,
        "start_time": "2024-03-24T09:59:47.720Z"
      },
      {
        "duration": 81,
        "start_time": "2024-03-24T10:00:04.449Z"
      },
      {
        "duration": 3,
        "start_time": "2024-03-24T10:02:45.195Z"
      },
      {
        "duration": 8,
        "start_time": "2024-03-24T10:02:48.842Z"
      },
      {
        "duration": 10,
        "start_time": "2024-03-24T10:04:41.449Z"
      },
      {
        "duration": 224,
        "start_time": "2024-03-24T10:04:49.964Z"
      },
      {
        "duration": 232,
        "start_time": "2024-03-24T10:05:39.821Z"
      },
      {
        "duration": 217,
        "start_time": "2024-03-24T10:10:08.170Z"
      },
      {
        "duration": 11,
        "start_time": "2024-03-24T10:10:56.970Z"
      },
      {
        "duration": 8,
        "start_time": "2024-03-24T10:11:15.690Z"
      },
      {
        "duration": 12,
        "start_time": "2024-03-24T10:11:39.475Z"
      },
      {
        "duration": 10,
        "start_time": "2024-03-24T10:11:47.268Z"
      },
      {
        "duration": 12,
        "start_time": "2024-03-24T10:12:04.019Z"
      },
      {
        "duration": 8,
        "start_time": "2024-03-24T10:12:25.276Z"
      },
      {
        "duration": 8,
        "start_time": "2024-03-24T10:12:30.516Z"
      },
      {
        "duration": 8,
        "start_time": "2024-03-24T10:12:59.835Z"
      },
      {
        "duration": 12,
        "start_time": "2024-03-24T10:13:28.556Z"
      },
      {
        "duration": 14,
        "start_time": "2024-03-24T10:13:36.101Z"
      },
      {
        "duration": 10,
        "start_time": "2024-03-24T10:16:42.512Z"
      },
      {
        "duration": 9,
        "start_time": "2024-03-24T10:16:58.232Z"
      },
      {
        "duration": 10,
        "start_time": "2024-03-24T10:17:09.960Z"
      },
      {
        "duration": 9,
        "start_time": "2024-03-24T10:17:25.009Z"
      },
      {
        "duration": 10,
        "start_time": "2024-03-24T10:17:50.288Z"
      },
      {
        "duration": 11,
        "start_time": "2024-03-24T10:18:00.008Z"
      },
      {
        "duration": 10,
        "start_time": "2024-03-24T10:18:08.120Z"
      },
      {
        "duration": 10,
        "start_time": "2024-03-24T10:18:40.970Z"
      },
      {
        "duration": 1117,
        "start_time": "2024-03-24T10:18:49.042Z"
      },
      {
        "duration": 222,
        "start_time": "2024-03-24T10:18:50.161Z"
      },
      {
        "duration": 3,
        "start_time": "2024-03-24T10:18:50.385Z"
      },
      {
        "duration": 279,
        "start_time": "2024-03-24T10:18:50.389Z"
      },
      {
        "duration": 96,
        "start_time": "2024-03-24T10:18:50.669Z"
      },
      {
        "duration": 128,
        "start_time": "2024-03-24T10:18:50.766Z"
      },
      {
        "duration": 43,
        "start_time": "2024-03-24T10:18:50.896Z"
      },
      {
        "duration": 5,
        "start_time": "2024-03-24T10:18:50.942Z"
      },
      {
        "duration": 455,
        "start_time": "2024-03-24T10:18:50.949Z"
      },
      {
        "duration": 39,
        "start_time": "2024-03-24T10:18:51.407Z"
      },
      {
        "duration": 44,
        "start_time": "2024-03-24T10:18:51.448Z"
      },
      {
        "duration": 200,
        "start_time": "2024-03-24T10:18:51.493Z"
      },
      {
        "duration": 150,
        "start_time": "2024-03-24T10:18:51.695Z"
      },
      {
        "duration": 0,
        "start_time": "2024-03-24T10:18:51.847Z"
      },
      {
        "duration": 0,
        "start_time": "2024-03-24T10:18:51.849Z"
      },
      {
        "duration": 0,
        "start_time": "2024-03-24T10:18:51.851Z"
      },
      {
        "duration": 0,
        "start_time": "2024-03-24T10:18:51.852Z"
      },
      {
        "duration": 0,
        "start_time": "2024-03-24T10:18:51.854Z"
      },
      {
        "duration": 9,
        "start_time": "2024-03-24T10:19:06.937Z"
      },
      {
        "duration": 40,
        "start_time": "2024-03-24T10:19:22.083Z"
      },
      {
        "duration": 1029,
        "start_time": "2024-03-24T10:19:27.909Z"
      },
      {
        "duration": 201,
        "start_time": "2024-03-24T10:19:28.939Z"
      },
      {
        "duration": 3,
        "start_time": "2024-03-24T10:19:29.141Z"
      },
      {
        "duration": 284,
        "start_time": "2024-03-24T10:19:29.146Z"
      },
      {
        "duration": 93,
        "start_time": "2024-03-24T10:19:29.431Z"
      },
      {
        "duration": 110,
        "start_time": "2024-03-24T10:19:29.525Z"
      },
      {
        "duration": 63,
        "start_time": "2024-03-24T10:19:29.636Z"
      },
      {
        "duration": 6,
        "start_time": "2024-03-24T10:19:29.700Z"
      },
      {
        "duration": 460,
        "start_time": "2024-03-24T10:19:29.708Z"
      },
      {
        "duration": 46,
        "start_time": "2024-03-24T10:19:30.171Z"
      },
      {
        "duration": 47,
        "start_time": "2024-03-24T10:19:30.219Z"
      },
      {
        "duration": 191,
        "start_time": "2024-03-24T10:19:30.268Z"
      },
      {
        "duration": 51,
        "start_time": "2024-03-24T10:19:30.460Z"
      },
      {
        "duration": 526,
        "start_time": "2024-03-24T10:19:30.513Z"
      },
      {
        "duration": 74,
        "start_time": "2024-03-24T10:19:31.041Z"
      },
      {
        "duration": 43,
        "start_time": "2024-03-24T10:19:31.116Z"
      },
      {
        "duration": 380,
        "start_time": "2024-03-24T10:19:31.161Z"
      },
      {
        "duration": 0,
        "start_time": "2024-03-24T10:19:31.542Z"
      },
      {
        "duration": 12,
        "start_time": "2024-03-24T10:19:44.186Z"
      },
      {
        "duration": 226,
        "start_time": "2024-03-24T10:20:45.276Z"
      },
      {
        "duration": 11,
        "start_time": "2024-03-24T10:21:39.948Z"
      },
      {
        "duration": 10,
        "start_time": "2024-03-24T10:21:44.036Z"
      },
      {
        "duration": 11,
        "start_time": "2024-03-24T10:32:47.426Z"
      },
      {
        "duration": 66,
        "start_time": "2024-03-24T10:33:49.594Z"
      },
      {
        "duration": 62,
        "start_time": "2024-03-24T10:33:59.099Z"
      },
      {
        "duration": 10,
        "start_time": "2024-03-24T10:35:29.525Z"
      },
      {
        "duration": 10,
        "start_time": "2024-03-24T10:35:34.997Z"
      },
      {
        "duration": 10,
        "start_time": "2024-03-24T10:36:08.621Z"
      },
      {
        "duration": 25,
        "start_time": "2024-03-24T10:44:36.629Z"
      },
      {
        "duration": 22,
        "start_time": "2024-03-24T10:44:43.885Z"
      },
      {
        "duration": 20,
        "start_time": "2024-03-24T10:45:10.174Z"
      },
      {
        "duration": 11,
        "start_time": "2024-03-24T10:45:35.623Z"
      },
      {
        "duration": 12,
        "start_time": "2024-03-24T10:51:51.085Z"
      },
      {
        "duration": 12,
        "start_time": "2024-03-24T10:51:57.164Z"
      },
      {
        "duration": 12,
        "start_time": "2024-03-24T10:52:05.110Z"
      },
      {
        "duration": 16,
        "start_time": "2024-03-24T10:52:09.317Z"
      },
      {
        "duration": 16,
        "start_time": "2024-03-24T10:54:00.742Z"
      },
      {
        "duration": 178,
        "start_time": "2024-03-24T10:54:46.632Z"
      },
      {
        "duration": 190,
        "start_time": "2024-03-24T10:55:13.745Z"
      },
      {
        "duration": 44,
        "start_time": "2024-03-24T10:57:16.187Z"
      },
      {
        "duration": 46,
        "start_time": "2024-03-24T10:57:21.613Z"
      },
      {
        "duration": 38,
        "start_time": "2024-03-24T10:57:31.158Z"
      },
      {
        "duration": 192,
        "start_time": "2024-03-24T10:57:45.814Z"
      },
      {
        "duration": 266,
        "start_time": "2024-03-24T10:58:02.187Z"
      },
      {
        "duration": 187,
        "start_time": "2024-03-24T10:59:05.405Z"
      },
      {
        "duration": 69,
        "start_time": "2024-03-24T10:59:16.892Z"
      },
      {
        "duration": 70,
        "start_time": "2024-03-24T10:59:19.597Z"
      },
      {
        "duration": 184,
        "start_time": "2024-03-24T10:59:39.797Z"
      },
      {
        "duration": 151,
        "start_time": "2024-03-24T10:59:50.677Z"
      },
      {
        "duration": 141,
        "start_time": "2024-03-24T10:59:53.654Z"
      },
      {
        "duration": 162,
        "start_time": "2024-03-24T11:00:07.310Z"
      },
      {
        "duration": 156,
        "start_time": "2024-03-24T11:00:16.934Z"
      },
      {
        "duration": 156,
        "start_time": "2024-03-24T11:00:28.630Z"
      },
      {
        "duration": 24,
        "start_time": "2024-03-24T11:01:19.950Z"
      },
      {
        "duration": 19,
        "start_time": "2024-03-24T11:01:33.352Z"
      },
      {
        "duration": 23,
        "start_time": "2024-03-24T11:01:42.655Z"
      },
      {
        "duration": 159,
        "start_time": "2024-03-24T11:02:16.648Z"
      },
      {
        "duration": 47,
        "start_time": "2024-03-24T11:02:35.832Z"
      },
      {
        "duration": 147,
        "start_time": "2024-03-24T11:02:40.860Z"
      },
      {
        "duration": 161,
        "start_time": "2024-03-24T11:02:49.383Z"
      },
      {
        "duration": 72,
        "start_time": "2024-03-24T11:04:15.314Z"
      },
      {
        "duration": 24,
        "start_time": "2024-03-24T11:04:18.711Z"
      },
      {
        "duration": 24,
        "start_time": "2024-03-24T11:04:24.313Z"
      },
      {
        "duration": 31,
        "start_time": "2024-03-24T11:04:53.723Z"
      },
      {
        "duration": 25,
        "start_time": "2024-03-24T11:05:21.187Z"
      },
      {
        "duration": 24,
        "start_time": "2024-03-24T11:05:25.138Z"
      },
      {
        "duration": 29,
        "start_time": "2024-03-24T11:05:56.564Z"
      },
      {
        "duration": 32,
        "start_time": "2024-03-24T11:06:11.445Z"
      },
      {
        "duration": 237,
        "start_time": "2024-03-24T11:06:26.012Z"
      },
      {
        "duration": 178,
        "start_time": "2024-03-24T11:06:33.964Z"
      },
      {
        "duration": 220,
        "start_time": "2024-03-24T11:07:00.221Z"
      },
      {
        "duration": 179,
        "start_time": "2024-03-24T11:07:12.516Z"
      },
      {
        "duration": 187,
        "start_time": "2024-03-24T11:08:05.568Z"
      },
      {
        "duration": 197,
        "start_time": "2024-03-24T11:08:30.575Z"
      },
      {
        "duration": 172,
        "start_time": "2024-03-24T11:08:34.574Z"
      },
      {
        "duration": 169,
        "start_time": "2024-03-24T11:08:41.022Z"
      },
      {
        "duration": 173,
        "start_time": "2024-03-24T11:08:44.223Z"
      },
      {
        "duration": 291,
        "start_time": "2024-03-24T11:08:52.409Z"
      },
      {
        "duration": 318,
        "start_time": "2024-03-24T11:09:03.551Z"
      },
      {
        "duration": 308,
        "start_time": "2024-03-24T11:09:07.904Z"
      },
      {
        "duration": 183,
        "start_time": "2024-03-24T11:09:11.511Z"
      },
      {
        "duration": 287,
        "start_time": "2024-03-24T11:09:28.919Z"
      },
      {
        "duration": 174,
        "start_time": "2024-03-24T11:11:44.474Z"
      },
      {
        "duration": 9,
        "start_time": "2024-03-24T11:46:24.381Z"
      },
      {
        "duration": 4,
        "start_time": "2024-03-24T11:47:58.425Z"
      },
      {
        "duration": 4,
        "start_time": "2024-03-24T11:48:12.230Z"
      },
      {
        "duration": 5,
        "start_time": "2024-03-24T11:48:17.742Z"
      },
      {
        "duration": 4,
        "start_time": "2024-03-24T11:48:23.446Z"
      },
      {
        "duration": 4,
        "start_time": "2024-03-24T11:48:25.919Z"
      },
      {
        "duration": 4,
        "start_time": "2024-03-24T11:51:20.920Z"
      },
      {
        "duration": 4,
        "start_time": "2024-03-24T11:51:38.544Z"
      },
      {
        "duration": 6,
        "start_time": "2024-03-24T11:56:53.158Z"
      },
      {
        "duration": 5,
        "start_time": "2024-03-24T11:58:13.440Z"
      },
      {
        "duration": 3,
        "start_time": "2024-03-24T12:01:35.692Z"
      },
      {
        "duration": 1150,
        "start_time": "2024-03-24T13:19:39.778Z"
      },
      {
        "duration": 206,
        "start_time": "2024-03-24T13:19:40.929Z"
      },
      {
        "duration": 3,
        "start_time": "2024-03-24T13:19:41.136Z"
      },
      {
        "duration": 299,
        "start_time": "2024-03-24T13:19:41.141Z"
      },
      {
        "duration": 98,
        "start_time": "2024-03-24T13:19:41.441Z"
      },
      {
        "duration": 124,
        "start_time": "2024-03-24T13:19:41.541Z"
      },
      {
        "duration": 44,
        "start_time": "2024-03-24T13:19:41.667Z"
      },
      {
        "duration": 6,
        "start_time": "2024-03-24T13:19:41.712Z"
      },
      {
        "duration": 484,
        "start_time": "2024-03-24T13:19:41.720Z"
      },
      {
        "duration": 39,
        "start_time": "2024-03-24T13:19:42.207Z"
      },
      {
        "duration": 37,
        "start_time": "2024-03-24T13:19:42.248Z"
      },
      {
        "duration": 183,
        "start_time": "2024-03-24T13:19:42.287Z"
      },
      {
        "duration": 46,
        "start_time": "2024-03-24T13:19:42.471Z"
      },
      {
        "duration": 198,
        "start_time": "2024-03-24T13:19:42.518Z"
      },
      {
        "duration": 66,
        "start_time": "2024-03-24T13:19:42.717Z"
      },
      {
        "duration": 176,
        "start_time": "2024-03-24T13:19:42.784Z"
      },
      {
        "duration": 5,
        "start_time": "2024-03-24T13:19:42.962Z"
      },
      {
        "duration": 115,
        "start_time": "2024-03-24T13:19:42.983Z"
      },
      {
        "duration": 9,
        "start_time": "2024-03-24T13:25:23.382Z"
      },
      {
        "duration": 30,
        "start_time": "2024-03-24T13:25:30.820Z"
      },
      {
        "duration": 29,
        "start_time": "2024-03-24T13:25:49.318Z"
      },
      {
        "duration": 30,
        "start_time": "2024-03-24T13:26:08.733Z"
      },
      {
        "duration": 53,
        "start_time": "2024-03-24T13:28:39.753Z"
      },
      {
        "duration": 51,
        "start_time": "2024-03-24T13:32:10.772Z"
      },
      {
        "duration": 56,
        "start_time": "2024-03-24T13:32:19.196Z"
      },
      {
        "duration": 56,
        "start_time": "2024-03-24T13:36:54.256Z"
      },
      {
        "duration": 59,
        "start_time": "2024-03-24T13:37:39.305Z"
      },
      {
        "duration": 60,
        "start_time": "2024-03-24T13:37:47.313Z"
      },
      {
        "duration": 54,
        "start_time": "2024-03-24T13:38:01.105Z"
      },
      {
        "duration": 61,
        "start_time": "2024-03-24T13:38:33.785Z"
      },
      {
        "duration": 61,
        "start_time": "2024-03-24T13:39:01.707Z"
      },
      {
        "duration": 58,
        "start_time": "2024-03-24T13:39:07.658Z"
      },
      {
        "duration": 58,
        "start_time": "2024-03-24T13:39:51.195Z"
      },
      {
        "duration": 63,
        "start_time": "2024-03-24T13:40:07.458Z"
      },
      {
        "duration": 65,
        "start_time": "2024-03-24T13:40:45.260Z"
      },
      {
        "duration": 17,
        "start_time": "2024-03-24T13:43:08.479Z"
      },
      {
        "duration": 34,
        "start_time": "2024-03-24T13:43:39.206Z"
      },
      {
        "duration": 84,
        "start_time": "2024-03-24T13:43:43.495Z"
      },
      {
        "duration": 84,
        "start_time": "2024-03-24T13:43:49.199Z"
      },
      {
        "duration": 87,
        "start_time": "2024-03-24T13:43:53.414Z"
      },
      {
        "duration": 91,
        "start_time": "2024-03-24T13:44:00.534Z"
      },
      {
        "duration": 62,
        "start_time": "2024-03-24T13:44:32.401Z"
      },
      {
        "duration": 63,
        "start_time": "2024-03-24T13:44:43.640Z"
      },
      {
        "duration": 92,
        "start_time": "2024-03-24T13:44:52.200Z"
      },
      {
        "duration": 300,
        "start_time": "2024-03-24T13:45:40.369Z"
      },
      {
        "duration": 6,
        "start_time": "2024-03-24T13:45:50.912Z"
      },
      {
        "duration": 87,
        "start_time": "2024-03-24T13:46:28.657Z"
      },
      {
        "duration": 91,
        "start_time": "2024-03-24T13:46:36.193Z"
      },
      {
        "duration": 102,
        "start_time": "2024-03-24T13:47:13.546Z"
      },
      {
        "duration": 85,
        "start_time": "2024-03-24T13:47:32.778Z"
      },
      {
        "duration": 93,
        "start_time": "2024-03-24T13:50:24.077Z"
      },
      {
        "duration": 93,
        "start_time": "2024-03-24T13:51:04.159Z"
      },
      {
        "duration": 1033,
        "start_time": "2024-03-24T13:57:23.388Z"
      },
      {
        "duration": 1066,
        "start_time": "2024-03-24T13:57:27.764Z"
      },
      {
        "duration": 1157,
        "start_time": "2024-03-24T13:57:34.861Z"
      },
      {
        "duration": 68,
        "start_time": "2024-03-24T13:57:50.412Z"
      },
      {
        "duration": 66,
        "start_time": "2024-03-24T13:57:57.124Z"
      },
      {
        "duration": 177,
        "start_time": "2024-03-24T13:58:03.053Z"
      },
      {
        "duration": 177,
        "start_time": "2024-03-24T13:58:07.581Z"
      },
      {
        "duration": 258,
        "start_time": "2024-03-24T13:58:14.941Z"
      },
      {
        "duration": 166,
        "start_time": "2024-03-24T13:58:20.350Z"
      },
      {
        "duration": 91,
        "start_time": "2024-03-24T13:58:55.966Z"
      },
      {
        "duration": 88,
        "start_time": "2024-03-24T13:59:46.695Z"
      },
      {
        "duration": 89,
        "start_time": "2024-03-24T13:59:55.703Z"
      },
      {
        "duration": 88,
        "start_time": "2024-03-24T14:00:06.344Z"
      },
      {
        "duration": 100,
        "start_time": "2024-03-24T14:00:32.232Z"
      },
      {
        "duration": 855,
        "start_time": "2024-03-24T14:00:48.561Z"
      },
      {
        "duration": 7,
        "start_time": "2024-03-24T14:01:13.527Z"
      },
      {
        "duration": 5,
        "start_time": "2024-03-24T14:01:24.976Z"
      },
      {
        "duration": 848,
        "start_time": "2024-03-24T14:01:31.600Z"
      },
      {
        "duration": 849,
        "start_time": "2024-03-24T14:01:46.151Z"
      },
      {
        "duration": 889,
        "start_time": "2024-03-24T14:01:56.240Z"
      },
      {
        "duration": 6,
        "start_time": "2024-03-24T14:01:59.983Z"
      },
      {
        "duration": 8,
        "start_time": "2024-03-24T14:02:10.768Z"
      },
      {
        "duration": 8,
        "start_time": "2024-03-24T14:02:15.111Z"
      },
      {
        "duration": 5,
        "start_time": "2024-03-24T14:02:35.168Z"
      },
      {
        "duration": 92,
        "start_time": "2024-03-24T14:02:45.457Z"
      },
      {
        "duration": 105,
        "start_time": "2024-03-24T14:02:51.831Z"
      },
      {
        "duration": 31,
        "start_time": "2024-03-24T14:03:53.079Z"
      },
      {
        "duration": 155,
        "start_time": "2024-03-24T14:03:59.160Z"
      },
      {
        "duration": 151,
        "start_time": "2024-03-24T14:04:38.208Z"
      },
      {
        "duration": 8,
        "start_time": "2024-03-24T15:30:08.295Z"
      },
      {
        "duration": 7,
        "start_time": "2024-03-24T15:30:23.030Z"
      },
      {
        "duration": 92,
        "start_time": "2024-03-24T15:30:26.182Z"
      },
      {
        "duration": 8,
        "start_time": "2024-03-24T15:30:27.526Z"
      },
      {
        "duration": 10,
        "start_time": "2024-03-24T15:30:34.342Z"
      },
      {
        "duration": 6,
        "start_time": "2024-03-24T15:30:36.861Z"
      },
      {
        "duration": 6,
        "start_time": "2024-03-24T15:30:52.614Z"
      },
      {
        "duration": 6,
        "start_time": "2024-03-24T15:31:02.413Z"
      },
      {
        "duration": 5,
        "start_time": "2024-03-24T15:31:29.471Z"
      },
      {
        "duration": 6,
        "start_time": "2024-03-24T15:31:34.352Z"
      },
      {
        "duration": 3,
        "start_time": "2024-03-24T15:31:41.575Z"
      },
      {
        "duration": 5,
        "start_time": "2024-03-24T15:32:03.423Z"
      },
      {
        "duration": 7,
        "start_time": "2024-03-24T15:32:12.704Z"
      },
      {
        "duration": 66,
        "start_time": "2024-03-24T15:34:36.683Z"
      },
      {
        "duration": 8,
        "start_time": "2024-03-24T15:36:18.284Z"
      },
      {
        "duration": 12,
        "start_time": "2024-03-24T15:36:26.269Z"
      },
      {
        "duration": 8,
        "start_time": "2024-03-24T15:36:44.574Z"
      },
      {
        "duration": 9,
        "start_time": "2024-03-24T15:37:28.607Z"
      },
      {
        "duration": 17,
        "start_time": "2024-03-24T15:37:50.407Z"
      },
      {
        "duration": 9,
        "start_time": "2024-03-24T15:39:26.681Z"
      },
      {
        "duration": 11,
        "start_time": "2024-03-24T15:39:32.609Z"
      },
      {
        "duration": 9,
        "start_time": "2024-03-24T15:40:40.666Z"
      },
      {
        "duration": 14,
        "start_time": "2024-03-24T15:41:50.995Z"
      },
      {
        "duration": 92,
        "start_time": "2024-03-24T15:44:26.799Z"
      },
      {
        "duration": 88,
        "start_time": "2024-03-24T15:45:08.271Z"
      },
      {
        "duration": 90,
        "start_time": "2024-03-24T15:45:16.111Z"
      },
      {
        "duration": 89,
        "start_time": "2024-03-24T15:46:29.016Z"
      },
      {
        "duration": 80,
        "start_time": "2024-03-24T15:46:53.529Z"
      },
      {
        "duration": 83,
        "start_time": "2024-03-24T15:46:59.577Z"
      },
      {
        "duration": 89,
        "start_time": "2024-03-24T15:47:18.385Z"
      },
      {
        "duration": 90,
        "start_time": "2024-03-24T15:47:50.514Z"
      },
      {
        "duration": 109,
        "start_time": "2024-03-24T15:48:55.387Z"
      },
      {
        "duration": 117,
        "start_time": "2024-03-24T15:49:03.195Z"
      },
      {
        "duration": 117,
        "start_time": "2024-03-24T15:49:10.652Z"
      },
      {
        "duration": 136,
        "start_time": "2024-03-24T15:49:44.980Z"
      },
      {
        "duration": 115,
        "start_time": "2024-03-24T15:50:12.644Z"
      },
      {
        "duration": 109,
        "start_time": "2024-03-24T15:50:18.724Z"
      },
      {
        "duration": 113,
        "start_time": "2024-03-24T15:50:44.005Z"
      },
      {
        "duration": 115,
        "start_time": "2024-03-24T15:51:08.501Z"
      },
      {
        "duration": 133,
        "start_time": "2024-03-24T15:51:33.229Z"
      },
      {
        "duration": 118,
        "start_time": "2024-03-24T15:51:45.381Z"
      },
      {
        "duration": 93,
        "start_time": "2024-03-24T15:55:05.250Z"
      },
      {
        "duration": 89,
        "start_time": "2024-03-24T15:55:18.273Z"
      },
      {
        "duration": 18,
        "start_time": "2024-03-24T16:01:32.055Z"
      },
      {
        "duration": 3,
        "start_time": "2024-03-24T16:01:51.864Z"
      },
      {
        "duration": 7,
        "start_time": "2024-03-24T16:01:55.216Z"
      },
      {
        "duration": 4,
        "start_time": "2024-03-24T16:03:54.130Z"
      },
      {
        "duration": 8,
        "start_time": "2024-03-24T16:03:58.258Z"
      },
      {
        "duration": 7,
        "start_time": "2024-03-24T16:04:08.915Z"
      },
      {
        "duration": 10,
        "start_time": "2024-03-24T16:04:14.443Z"
      },
      {
        "duration": 10,
        "start_time": "2024-03-24T16:04:18.939Z"
      },
      {
        "duration": 8,
        "start_time": "2024-03-24T16:04:29.499Z"
      },
      {
        "duration": 7,
        "start_time": "2024-03-24T16:04:58.644Z"
      },
      {
        "duration": 11,
        "start_time": "2024-03-24T16:05:03.636Z"
      },
      {
        "duration": 7,
        "start_time": "2024-03-24T16:07:49.175Z"
      },
      {
        "duration": 87,
        "start_time": "2024-03-24T16:08:50.448Z"
      },
      {
        "duration": 97,
        "start_time": "2024-03-24T16:09:00.968Z"
      },
      {
        "duration": 84,
        "start_time": "2024-03-24T16:09:07.457Z"
      },
      {
        "duration": 87,
        "start_time": "2024-03-24T16:09:13.684Z"
      },
      {
        "duration": 83,
        "start_time": "2024-03-24T16:09:25.560Z"
      },
      {
        "duration": 89,
        "start_time": "2024-03-24T16:10:30.603Z"
      },
      {
        "duration": 85,
        "start_time": "2024-03-24T16:10:43.290Z"
      },
      {
        "duration": 86,
        "start_time": "2024-03-24T16:11:14.667Z"
      },
      {
        "duration": 84,
        "start_time": "2024-03-24T16:11:24.515Z"
      },
      {
        "duration": 91,
        "start_time": "2024-03-24T16:13:00.133Z"
      },
      {
        "duration": 87,
        "start_time": "2024-03-24T16:13:10.957Z"
      },
      {
        "duration": 84,
        "start_time": "2024-03-24T16:13:26.677Z"
      },
      {
        "duration": 84,
        "start_time": "2024-03-24T16:13:40.541Z"
      },
      {
        "duration": 90,
        "start_time": "2024-03-24T16:13:43.062Z"
      },
      {
        "duration": 86,
        "start_time": "2024-03-24T16:14:56.591Z"
      },
      {
        "duration": 78,
        "start_time": "2024-03-24T16:15:08.191Z"
      },
      {
        "duration": 86,
        "start_time": "2024-03-24T16:15:12.791Z"
      },
      {
        "duration": 86,
        "start_time": "2024-03-24T16:15:52.736Z"
      },
      {
        "duration": 85,
        "start_time": "2024-03-24T16:15:58.704Z"
      },
      {
        "duration": 92,
        "start_time": "2024-03-24T16:17:10.258Z"
      },
      {
        "duration": 89,
        "start_time": "2024-03-24T16:17:46.346Z"
      },
      {
        "duration": 84,
        "start_time": "2024-03-24T16:17:57.554Z"
      },
      {
        "duration": 94,
        "start_time": "2024-03-24T16:18:03.067Z"
      },
      {
        "duration": 85,
        "start_time": "2024-03-24T16:18:32.300Z"
      },
      {
        "duration": 82,
        "start_time": "2024-03-24T16:18:36.163Z"
      },
      {
        "duration": 89,
        "start_time": "2024-03-24T16:18:49.779Z"
      },
      {
        "duration": 94,
        "start_time": "2024-03-24T16:19:04.819Z"
      },
      {
        "duration": 101,
        "start_time": "2024-03-24T16:19:23.011Z"
      },
      {
        "duration": 82,
        "start_time": "2024-03-24T16:19:39.516Z"
      },
      {
        "duration": 92,
        "start_time": "2024-03-24T16:19:45.868Z"
      },
      {
        "duration": 93,
        "start_time": "2024-03-24T16:19:50.724Z"
      },
      {
        "duration": 82,
        "start_time": "2024-03-24T16:19:55.269Z"
      },
      {
        "duration": 83,
        "start_time": "2024-03-24T16:20:14.037Z"
      },
      {
        "duration": 88,
        "start_time": "2024-03-24T16:20:19.108Z"
      },
      {
        "duration": 84,
        "start_time": "2024-03-24T16:20:29.373Z"
      },
      {
        "duration": 86,
        "start_time": "2024-03-24T16:20:43.357Z"
      },
      {
        "duration": 82,
        "start_time": "2024-03-24T16:20:47.333Z"
      },
      {
        "duration": 100,
        "start_time": "2024-03-24T16:20:53.100Z"
      },
      {
        "duration": 7,
        "start_time": "2024-03-24T16:21:40.070Z"
      },
      {
        "duration": 11,
        "start_time": "2024-03-24T16:21:51.222Z"
      },
      {
        "duration": 13,
        "start_time": "2024-03-24T16:22:03.431Z"
      },
      {
        "duration": 4,
        "start_time": "2024-03-24T16:22:26.494Z"
      },
      {
        "duration": 90,
        "start_time": "2024-03-24T16:22:28.327Z"
      },
      {
        "duration": 104,
        "start_time": "2024-03-24T16:22:55.183Z"
      },
      {
        "duration": 87,
        "start_time": "2024-03-24T16:23:19.272Z"
      },
      {
        "duration": 86,
        "start_time": "2024-03-24T16:23:36.792Z"
      },
      {
        "duration": 85,
        "start_time": "2024-03-24T16:23:40.304Z"
      },
      {
        "duration": 94,
        "start_time": "2024-03-24T16:23:58.434Z"
      },
      {
        "duration": 99,
        "start_time": "2024-03-24T16:24:46.953Z"
      },
      {
        "duration": 95,
        "start_time": "2024-03-24T16:24:52.370Z"
      },
      {
        "duration": 98,
        "start_time": "2024-03-24T16:25:17.875Z"
      },
      {
        "duration": 85,
        "start_time": "2024-03-24T16:25:48.323Z"
      },
      {
        "duration": 90,
        "start_time": "2024-03-24T16:25:57.562Z"
      },
      {
        "duration": 81,
        "start_time": "2024-03-24T16:26:09.395Z"
      },
      {
        "duration": 93,
        "start_time": "2024-03-24T16:26:12.900Z"
      },
      {
        "duration": 93,
        "start_time": "2024-03-24T16:26:28.571Z"
      },
      {
        "duration": 929,
        "start_time": "2024-03-24T16:26:36.156Z"
      },
      {
        "duration": 980,
        "start_time": "2024-03-24T16:26:45.027Z"
      },
      {
        "duration": 81,
        "start_time": "2024-03-24T16:26:51.115Z"
      },
      {
        "duration": 95,
        "start_time": "2024-03-24T16:26:54.860Z"
      },
      {
        "duration": 104,
        "start_time": "2024-03-24T16:27:48.605Z"
      },
      {
        "duration": 93,
        "start_time": "2024-03-24T16:28:05.501Z"
      },
      {
        "duration": 97,
        "start_time": "2024-03-24T16:28:15.885Z"
      },
      {
        "duration": 925,
        "start_time": "2024-03-24T16:28:28.102Z"
      },
      {
        "duration": 98,
        "start_time": "2024-03-24T16:28:33.799Z"
      },
      {
        "duration": 88,
        "start_time": "2024-03-24T16:28:42.103Z"
      },
      {
        "duration": 95,
        "start_time": "2024-03-24T16:28:44.814Z"
      },
      {
        "duration": 101,
        "start_time": "2024-03-24T16:29:07.503Z"
      },
      {
        "duration": 96,
        "start_time": "2024-03-24T16:29:49.606Z"
      },
      {
        "duration": 99,
        "start_time": "2024-03-24T16:30:11.975Z"
      },
      {
        "duration": 6,
        "start_time": "2024-03-24T16:30:37.454Z"
      },
      {
        "duration": 7,
        "start_time": "2024-03-24T16:30:46.215Z"
      },
      {
        "duration": 5,
        "start_time": "2024-03-24T16:30:52.808Z"
      },
      {
        "duration": 880,
        "start_time": "2024-03-24T16:31:04.983Z"
      },
      {
        "duration": 5,
        "start_time": "2024-03-24T16:31:10.361Z"
      },
      {
        "duration": 7,
        "start_time": "2024-03-24T16:31:21.192Z"
      },
      {
        "duration": 97,
        "start_time": "2024-03-24T16:31:51.947Z"
      },
      {
        "duration": 101,
        "start_time": "2024-03-24T16:31:56.529Z"
      },
      {
        "duration": 86,
        "start_time": "2024-03-24T16:32:08.024Z"
      },
      {
        "duration": 94,
        "start_time": "2024-03-24T16:32:15.441Z"
      },
      {
        "duration": 763,
        "start_time": "2024-03-24T16:32:28.411Z"
      },
      {
        "duration": 94,
        "start_time": "2024-03-24T16:32:43.298Z"
      },
      {
        "duration": 6,
        "start_time": "2024-03-24T16:33:30.244Z"
      },
      {
        "duration": 808,
        "start_time": "2024-03-24T16:34:52.108Z"
      },
      {
        "duration": 9,
        "start_time": "2024-03-24T16:35:02.077Z"
      },
      {
        "duration": 10,
        "start_time": "2024-03-24T16:35:09.860Z"
      },
      {
        "duration": 94,
        "start_time": "2024-03-24T16:35:27.916Z"
      },
      {
        "duration": 66,
        "start_time": "2024-03-24T16:44:56.640Z"
      },
      {
        "duration": 3,
        "start_time": "2024-03-24T16:45:13.951Z"
      },
      {
        "duration": 8,
        "start_time": "2024-03-24T16:45:23.080Z"
      },
      {
        "duration": 8,
        "start_time": "2024-03-24T16:45:26.280Z"
      },
      {
        "duration": 4,
        "start_time": "2024-03-24T16:45:35.706Z"
      },
      {
        "duration": 5,
        "start_time": "2024-03-24T16:46:36.697Z"
      },
      {
        "duration": 5,
        "start_time": "2024-03-24T17:15:32.091Z"
      },
      {
        "duration": 6,
        "start_time": "2024-03-24T17:16:55.228Z"
      },
      {
        "duration": 5,
        "start_time": "2024-03-24T17:17:27.870Z"
      },
      {
        "duration": 8,
        "start_time": "2024-03-24T17:17:30.964Z"
      },
      {
        "duration": 8,
        "start_time": "2024-03-24T17:18:29.557Z"
      },
      {
        "duration": 5,
        "start_time": "2024-03-24T17:18:45.719Z"
      },
      {
        "duration": 814,
        "start_time": "2024-03-24T17:18:51.534Z"
      },
      {
        "duration": 5,
        "start_time": "2024-03-24T17:18:58.455Z"
      },
      {
        "duration": 4,
        "start_time": "2024-03-24T17:19:04.167Z"
      },
      {
        "duration": 7,
        "start_time": "2024-03-24T17:19:19.102Z"
      },
      {
        "duration": 6,
        "start_time": "2024-03-24T17:19:26.638Z"
      },
      {
        "duration": 5,
        "start_time": "2024-03-24T18:19:37.425Z"
      },
      {
        "duration": 8,
        "start_time": "2024-03-24T18:19:42.512Z"
      },
      {
        "duration": 109,
        "start_time": "2024-03-24T19:29:14.932Z"
      },
      {
        "duration": 6,
        "start_time": "2024-03-24T19:29:32.723Z"
      },
      {
        "duration": 12,
        "start_time": "2024-03-24T19:29:36.002Z"
      },
      {
        "duration": 7,
        "start_time": "2024-03-24T19:29:39.812Z"
      },
      {
        "duration": 6,
        "start_time": "2024-03-24T19:31:07.862Z"
      },
      {
        "duration": 63,
        "start_time": "2024-03-25T03:58:35.677Z"
      },
      {
        "duration": 1281,
        "start_time": "2024-03-25T03:58:40.971Z"
      },
      {
        "duration": 326,
        "start_time": "2024-03-25T03:58:42.254Z"
      },
      {
        "duration": 3,
        "start_time": "2024-03-25T03:58:42.585Z"
      },
      {
        "duration": 280,
        "start_time": "2024-03-25T03:58:42.590Z"
      },
      {
        "duration": 94,
        "start_time": "2024-03-25T03:58:42.872Z"
      },
      {
        "duration": 124,
        "start_time": "2024-03-25T03:58:42.967Z"
      },
      {
        "duration": 46,
        "start_time": "2024-03-25T03:58:43.093Z"
      },
      {
        "duration": 7,
        "start_time": "2024-03-25T03:58:43.144Z"
      },
      {
        "duration": 481,
        "start_time": "2024-03-25T03:58:43.154Z"
      },
      {
        "duration": 46,
        "start_time": "2024-03-25T03:58:43.637Z"
      },
      {
        "duration": 26,
        "start_time": "2024-03-25T03:58:43.684Z"
      },
      {
        "duration": 201,
        "start_time": "2024-03-25T03:58:43.712Z"
      },
      {
        "duration": 41,
        "start_time": "2024-03-25T03:58:43.914Z"
      },
      {
        "duration": 215,
        "start_time": "2024-03-25T03:58:43.957Z"
      },
      {
        "duration": 73,
        "start_time": "2024-03-25T03:58:44.174Z"
      },
      {
        "duration": 192,
        "start_time": "2024-03-25T03:58:44.249Z"
      },
      {
        "duration": 5,
        "start_time": "2024-03-25T03:58:44.442Z"
      },
      {
        "duration": 112,
        "start_time": "2024-03-25T03:58:44.449Z"
      },
      {
        "duration": 6,
        "start_time": "2024-03-25T03:58:44.563Z"
      },
      {
        "duration": 17,
        "start_time": "2024-03-25T03:58:44.570Z"
      },
      {
        "duration": 7,
        "start_time": "2024-03-25T03:58:44.588Z"
      },
      {
        "duration": 805,
        "start_time": "2024-03-25T03:59:11.484Z"
      },
      {
        "duration": 809,
        "start_time": "2024-03-25T03:59:54.533Z"
      },
      {
        "duration": 1089,
        "start_time": "2024-03-25T04:00:02.737Z"
      },
      {
        "duration": 222,
        "start_time": "2024-03-25T04:00:03.828Z"
      },
      {
        "duration": 3,
        "start_time": "2024-03-25T04:00:04.052Z"
      },
      {
        "duration": 297,
        "start_time": "2024-03-25T04:00:04.057Z"
      },
      {
        "duration": 94,
        "start_time": "2024-03-25T04:00:04.356Z"
      },
      {
        "duration": 109,
        "start_time": "2024-03-25T04:00:04.451Z"
      },
      {
        "duration": 45,
        "start_time": "2024-03-25T04:00:04.561Z"
      },
      {
        "duration": 5,
        "start_time": "2024-03-25T04:00:04.607Z"
      },
      {
        "duration": 407,
        "start_time": "2024-03-25T04:00:04.613Z"
      },
      {
        "duration": 37,
        "start_time": "2024-03-25T04:00:05.021Z"
      },
      {
        "duration": 40,
        "start_time": "2024-03-25T04:00:05.060Z"
      },
      {
        "duration": 191,
        "start_time": "2024-03-25T04:00:05.102Z"
      },
      {
        "duration": 39,
        "start_time": "2024-03-25T04:00:05.295Z"
      },
      {
        "duration": 195,
        "start_time": "2024-03-25T04:00:05.336Z"
      },
      {
        "duration": 71,
        "start_time": "2024-03-25T04:00:05.533Z"
      },
      {
        "duration": 176,
        "start_time": "2024-03-25T04:00:05.606Z"
      },
      {
        "duration": 5,
        "start_time": "2024-03-25T04:00:05.783Z"
      },
      {
        "duration": 919,
        "start_time": "2024-03-25T04:00:05.789Z"
      },
      {
        "duration": 0,
        "start_time": "2024-03-25T04:00:06.710Z"
      },
      {
        "duration": 0,
        "start_time": "2024-03-25T04:00:06.711Z"
      },
      {
        "duration": 0,
        "start_time": "2024-03-25T04:00:06.712Z"
      },
      {
        "duration": 87,
        "start_time": "2024-03-25T04:00:44.845Z"
      },
      {
        "duration": 95,
        "start_time": "2024-03-25T04:02:20.599Z"
      },
      {
        "duration": 79,
        "start_time": "2024-03-25T04:03:57.593Z"
      },
      {
        "duration": 96,
        "start_time": "2024-03-25T04:04:02.177Z"
      },
      {
        "duration": 1017,
        "start_time": "2024-03-25T04:05:11.554Z"
      },
      {
        "duration": 85,
        "start_time": "2024-03-25T04:05:22.787Z"
      },
      {
        "duration": 4377,
        "start_time": "2024-03-25T04:05:28.482Z"
      },
      {
        "duration": 91,
        "start_time": "2024-03-25T04:05:36.370Z"
      },
      {
        "duration": 100,
        "start_time": "2024-03-25T04:06:06.515Z"
      },
      {
        "duration": 99,
        "start_time": "2024-03-25T04:06:19.675Z"
      },
      {
        "duration": 121,
        "start_time": "2024-03-25T04:08:14.782Z"
      },
      {
        "duration": 98,
        "start_time": "2024-03-25T04:08:44.572Z"
      },
      {
        "duration": 119,
        "start_time": "2024-03-25T06:03:33.684Z"
      },
      {
        "duration": 273,
        "start_time": "2024-03-25T06:04:38.059Z"
      },
      {
        "duration": 238,
        "start_time": "2024-03-25T06:04:49.131Z"
      },
      {
        "duration": 243,
        "start_time": "2024-03-25T06:04:52.011Z"
      },
      {
        "duration": 166,
        "start_time": "2024-03-25T06:05:10.188Z"
      },
      {
        "duration": 43,
        "start_time": "2024-03-25T06:05:29.396Z"
      },
      {
        "duration": 166,
        "start_time": "2024-03-25T06:05:37.980Z"
      },
      {
        "duration": 191,
        "start_time": "2024-03-25T06:06:19.819Z"
      },
      {
        "duration": 40,
        "start_time": "2024-03-25T06:06:36.005Z"
      },
      {
        "duration": 163,
        "start_time": "2024-03-25T06:06:42.901Z"
      },
      {
        "duration": 263,
        "start_time": "2024-03-25T06:06:47.516Z"
      },
      {
        "duration": 270,
        "start_time": "2024-03-25T06:06:51.869Z"
      },
      {
        "duration": 29,
        "start_time": "2024-03-25T06:07:18.277Z"
      },
      {
        "duration": 41,
        "start_time": "2024-03-25T06:07:21.125Z"
      },
      {
        "duration": 26,
        "start_time": "2024-03-25T06:07:23.876Z"
      },
      {
        "duration": 26,
        "start_time": "2024-03-25T06:07:36.045Z"
      },
      {
        "duration": 31,
        "start_time": "2024-03-25T06:10:18.120Z"
      },
      {
        "duration": 160,
        "start_time": "2024-03-25T06:10:23.929Z"
      },
      {
        "duration": 29,
        "start_time": "2024-03-25T06:10:35.376Z"
      },
      {
        "duration": 240,
        "start_time": "2024-03-25T06:10:45.096Z"
      },
      {
        "duration": 157,
        "start_time": "2024-03-25T06:11:05.712Z"
      },
      {
        "duration": 162,
        "start_time": "2024-03-25T06:11:36.089Z"
      },
      {
        "duration": 30,
        "start_time": "2024-03-25T06:11:57.139Z"
      },
      {
        "duration": 153,
        "start_time": "2024-03-25T06:12:07.186Z"
      },
      {
        "duration": 152,
        "start_time": "2024-03-25T06:12:19.257Z"
      },
      {
        "duration": 1056,
        "start_time": "2024-03-25T06:12:40.954Z"
      },
      {
        "duration": 71,
        "start_time": "2024-03-25T06:12:54.811Z"
      },
      {
        "duration": 181,
        "start_time": "2024-03-25T06:12:57.322Z"
      },
      {
        "duration": 169,
        "start_time": "2024-03-25T06:13:06.891Z"
      },
      {
        "duration": 162,
        "start_time": "2024-03-25T06:13:13.340Z"
      },
      {
        "duration": 187,
        "start_time": "2024-03-25T06:13:44.874Z"
      },
      {
        "duration": 82,
        "start_time": "2024-03-25T06:13:55.963Z"
      },
      {
        "duration": 227,
        "start_time": "2024-03-25T06:14:02.043Z"
      },
      {
        "duration": 173,
        "start_time": "2024-03-25T06:14:37.764Z"
      },
      {
        "duration": 150,
        "start_time": "2024-03-25T06:14:46.634Z"
      },
      {
        "duration": 179,
        "start_time": "2024-03-25T06:15:05.660Z"
      },
      {
        "duration": 3,
        "start_time": "2024-03-25T06:15:22.716Z"
      },
      {
        "duration": 10,
        "start_time": "2024-03-25T06:15:27.564Z"
      },
      {
        "duration": 81,
        "start_time": "2024-03-25T06:15:29.901Z"
      },
      {
        "duration": 5,
        "start_time": "2024-03-25T06:15:37.325Z"
      },
      {
        "duration": 9,
        "start_time": "2024-03-25T06:15:39.364Z"
      },
      {
        "duration": 952,
        "start_time": "2024-03-25T06:16:49.711Z"
      },
      {
        "duration": 1019,
        "start_time": "2024-03-25T06:17:07.427Z"
      },
      {
        "duration": 206,
        "start_time": "2024-03-25T06:17:08.448Z"
      },
      {
        "duration": 2,
        "start_time": "2024-03-25T06:17:08.656Z"
      },
      {
        "duration": 272,
        "start_time": "2024-03-25T06:17:08.661Z"
      },
      {
        "duration": 91,
        "start_time": "2024-03-25T06:17:08.935Z"
      },
      {
        "duration": 117,
        "start_time": "2024-03-25T06:17:09.028Z"
      },
      {
        "duration": 45,
        "start_time": "2024-03-25T06:17:09.146Z"
      },
      {
        "duration": 7,
        "start_time": "2024-03-25T06:17:09.193Z"
      },
      {
        "duration": 434,
        "start_time": "2024-03-25T06:17:09.202Z"
      },
      {
        "duration": 46,
        "start_time": "2024-03-25T06:17:09.638Z"
      },
      {
        "duration": 27,
        "start_time": "2024-03-25T06:17:09.685Z"
      },
      {
        "duration": 193,
        "start_time": "2024-03-25T06:17:09.713Z"
      },
      {
        "duration": 41,
        "start_time": "2024-03-25T06:17:09.908Z"
      },
      {
        "duration": 201,
        "start_time": "2024-03-25T06:17:09.951Z"
      },
      {
        "duration": 73,
        "start_time": "2024-03-25T06:17:10.153Z"
      },
      {
        "duration": 179,
        "start_time": "2024-03-25T06:17:10.228Z"
      },
      {
        "duration": 4,
        "start_time": "2024-03-25T06:17:10.409Z"
      },
      {
        "duration": 1006,
        "start_time": "2024-03-25T06:17:10.415Z"
      },
      {
        "duration": 0,
        "start_time": "2024-03-25T06:17:11.423Z"
      },
      {
        "duration": 0,
        "start_time": "2024-03-25T06:17:11.424Z"
      },
      {
        "duration": 0,
        "start_time": "2024-03-25T06:17:11.425Z"
      },
      {
        "duration": 934,
        "start_time": "2024-03-25T06:17:20.935Z"
      },
      {
        "duration": 5,
        "start_time": "2024-03-25T06:17:51.414Z"
      },
      {
        "duration": 5,
        "start_time": "2024-03-25T06:17:54.814Z"
      },
      {
        "duration": 89,
        "start_time": "2024-03-25T06:18:00.493Z"
      },
      {
        "duration": 5,
        "start_time": "2024-03-25T06:18:03.093Z"
      },
      {
        "duration": 71,
        "start_time": "2024-03-25T06:18:08.023Z"
      },
      {
        "duration": 953,
        "start_time": "2024-03-25T06:18:17.103Z"
      },
      {
        "duration": 84,
        "start_time": "2024-03-25T06:18:47.120Z"
      },
      {
        "duration": 89,
        "start_time": "2024-03-25T06:19:15.209Z"
      },
      {
        "duration": 1032,
        "start_time": "2024-03-25T06:19:26.601Z"
      },
      {
        "duration": 1213,
        "start_time": "2024-03-25T06:19:32.748Z"
      },
      {
        "duration": 222,
        "start_time": "2024-03-25T06:19:33.963Z"
      },
      {
        "duration": 3,
        "start_time": "2024-03-25T06:19:34.188Z"
      },
      {
        "duration": 300,
        "start_time": "2024-03-25T06:19:34.193Z"
      },
      {
        "duration": 98,
        "start_time": "2024-03-25T06:19:34.496Z"
      },
      {
        "duration": 117,
        "start_time": "2024-03-25T06:19:34.596Z"
      },
      {
        "duration": 41,
        "start_time": "2024-03-25T06:19:34.714Z"
      },
      {
        "duration": 6,
        "start_time": "2024-03-25T06:19:34.756Z"
      },
      {
        "duration": 423,
        "start_time": "2024-03-25T06:19:34.783Z"
      },
      {
        "duration": 42,
        "start_time": "2024-03-25T06:19:35.208Z"
      },
      {
        "duration": 43,
        "start_time": "2024-03-25T06:19:35.251Z"
      },
      {
        "duration": 180,
        "start_time": "2024-03-25T06:19:35.296Z"
      },
      {
        "duration": 40,
        "start_time": "2024-03-25T06:19:35.481Z"
      },
      {
        "duration": 203,
        "start_time": "2024-03-25T06:19:35.523Z"
      },
      {
        "duration": 75,
        "start_time": "2024-03-25T06:19:35.728Z"
      },
      {
        "duration": 194,
        "start_time": "2024-03-25T06:19:35.804Z"
      },
      {
        "duration": 5,
        "start_time": "2024-03-25T06:19:35.999Z"
      },
      {
        "duration": 24,
        "start_time": "2024-03-25T06:19:36.005Z"
      },
      {
        "duration": 1173,
        "start_time": "2024-03-25T06:19:36.031Z"
      },
      {
        "duration": 0,
        "start_time": "2024-03-25T06:19:37.205Z"
      },
      {
        "duration": 0,
        "start_time": "2024-03-25T06:19:37.207Z"
      },
      {
        "duration": 0,
        "start_time": "2024-03-25T06:19:37.208Z"
      },
      {
        "duration": 95,
        "start_time": "2024-03-25T06:20:27.265Z"
      },
      {
        "duration": 332,
        "start_time": "2024-03-25T06:21:12.139Z"
      },
      {
        "duration": 97,
        "start_time": "2024-03-25T06:21:29.203Z"
      },
      {
        "duration": 344,
        "start_time": "2024-03-25T06:21:40.987Z"
      },
      {
        "duration": 100,
        "start_time": "2024-03-25T06:22:03.491Z"
      },
      {
        "duration": 97,
        "start_time": "2024-03-25T06:22:46.452Z"
      },
      {
        "duration": 89,
        "start_time": "2024-03-25T06:22:51.508Z"
      },
      {
        "duration": 335,
        "start_time": "2024-03-25T06:24:34.750Z"
      },
      {
        "duration": 95,
        "start_time": "2024-03-25T06:24:37.350Z"
      },
      {
        "duration": 103,
        "start_time": "2024-03-25T06:24:40.269Z"
      },
      {
        "duration": 6,
        "start_time": "2024-03-25T06:25:05.854Z"
      },
      {
        "duration": 6,
        "start_time": "2024-03-25T06:25:07.109Z"
      },
      {
        "duration": 4,
        "start_time": "2024-03-25T06:25:58.167Z"
      },
      {
        "duration": 6,
        "start_time": "2024-03-25T06:25:59.966Z"
      },
      {
        "duration": 109,
        "start_time": "2024-03-25T06:29:00.004Z"
      },
      {
        "duration": 67,
        "start_time": "2024-03-25T06:30:31.981Z"
      },
      {
        "duration": 85,
        "start_time": "2024-03-25T06:30:35.348Z"
      },
      {
        "duration": 98,
        "start_time": "2024-03-25T06:30:37.068Z"
      },
      {
        "duration": 75,
        "start_time": "2024-03-25T06:30:53.660Z"
      },
      {
        "duration": 116,
        "start_time": "2024-03-25T06:30:57.741Z"
      },
      {
        "duration": 109,
        "start_time": "2024-03-25T06:31:01.973Z"
      },
      {
        "duration": 110,
        "start_time": "2024-03-25T06:31:17.862Z"
      },
      {
        "duration": 103,
        "start_time": "2024-03-25T06:31:27.454Z"
      },
      {
        "duration": 77,
        "start_time": "2024-03-25T06:31:32.693Z"
      },
      {
        "duration": 109,
        "start_time": "2024-03-25T06:31:37.982Z"
      },
      {
        "duration": 102,
        "start_time": "2024-03-25T06:31:50.847Z"
      },
      {
        "duration": 106,
        "start_time": "2024-03-25T06:31:56.302Z"
      },
      {
        "duration": 87,
        "start_time": "2024-03-25T06:32:02.294Z"
      },
      {
        "duration": 66,
        "start_time": "2024-03-25T06:32:08.711Z"
      },
      {
        "duration": 96,
        "start_time": "2024-03-25T06:32:15.086Z"
      },
      {
        "duration": 106,
        "start_time": "2024-03-25T06:33:46.513Z"
      },
      {
        "duration": 113,
        "start_time": "2024-03-25T06:34:01.337Z"
      },
      {
        "duration": 88,
        "start_time": "2024-03-25T06:34:16.570Z"
      },
      {
        "duration": 77,
        "start_time": "2024-03-25T06:34:19.035Z"
      },
      {
        "duration": 107,
        "start_time": "2024-03-25T06:34:22.802Z"
      },
      {
        "duration": 9,
        "start_time": "2024-03-25T06:37:05.925Z"
      },
      {
        "duration": 12,
        "start_time": "2024-03-25T06:37:16.366Z"
      },
      {
        "duration": 27,
        "start_time": "2024-03-25T06:40:05.641Z"
      },
      {
        "duration": 14,
        "start_time": "2024-03-25T06:40:10.768Z"
      },
      {
        "duration": 9,
        "start_time": "2024-03-25T06:40:19.602Z"
      },
      {
        "duration": 10,
        "start_time": "2024-03-25T06:45:00.736Z"
      },
      {
        "duration": 10,
        "start_time": "2024-03-25T06:45:05.487Z"
      },
      {
        "duration": 10,
        "start_time": "2024-03-25T06:45:12.247Z"
      },
      {
        "duration": 13,
        "start_time": "2024-03-25T06:45:16.457Z"
      },
      {
        "duration": 9,
        "start_time": "2024-03-25T06:45:24.512Z"
      },
      {
        "duration": 9,
        "start_time": "2024-03-25T06:45:43.265Z"
      },
      {
        "duration": 13,
        "start_time": "2024-03-25T06:45:59.313Z"
      },
      {
        "duration": 9,
        "start_time": "2024-03-25T06:46:19.777Z"
      },
      {
        "duration": 14,
        "start_time": "2024-03-25T06:47:34.578Z"
      },
      {
        "duration": 11,
        "start_time": "2024-03-25T06:48:18.228Z"
      },
      {
        "duration": 10,
        "start_time": "2024-03-25T06:49:22.829Z"
      },
      {
        "duration": 10,
        "start_time": "2024-03-25T06:49:25.693Z"
      },
      {
        "duration": 13,
        "start_time": "2024-03-25T06:49:33.748Z"
      },
      {
        "duration": 12,
        "start_time": "2024-03-25T06:49:38.661Z"
      },
      {
        "duration": 12,
        "start_time": "2024-03-25T06:49:44.142Z"
      },
      {
        "duration": 10,
        "start_time": "2024-03-25T06:49:47.126Z"
      },
      {
        "duration": 113,
        "start_time": "2024-03-25T06:59:34.843Z"
      },
      {
        "duration": 111,
        "start_time": "2024-03-25T06:59:50.402Z"
      },
      {
        "duration": 91,
        "start_time": "2024-03-25T07:00:08.098Z"
      },
      {
        "duration": 110,
        "start_time": "2024-03-25T07:00:12.442Z"
      },
      {
        "duration": 11,
        "start_time": "2024-03-25T07:00:42.627Z"
      },
      {
        "duration": 11,
        "start_time": "2024-03-25T07:06:15.648Z"
      },
      {
        "duration": 16,
        "start_time": "2024-03-25T07:07:05.240Z"
      },
      {
        "duration": 10,
        "start_time": "2024-03-25T07:07:09.153Z"
      },
      {
        "duration": 10,
        "start_time": "2024-03-25T07:11:13.132Z"
      },
      {
        "duration": 10,
        "start_time": "2024-03-25T07:11:25.788Z"
      },
      {
        "duration": 12,
        "start_time": "2024-03-25T07:14:51.151Z"
      },
      {
        "duration": 12,
        "start_time": "2024-03-25T07:15:24.151Z"
      },
      {
        "duration": 10,
        "start_time": "2024-03-25T07:15:31.744Z"
      },
      {
        "duration": 943,
        "start_time": "2024-03-25T07:18:06.138Z"
      },
      {
        "duration": 1091,
        "start_time": "2024-03-25T07:18:18.099Z"
      },
      {
        "duration": 730,
        "start_time": "2024-03-25T07:18:38.554Z"
      },
      {
        "duration": 905,
        "start_time": "2024-03-25T07:18:50.314Z"
      },
      {
        "duration": 773,
        "start_time": "2024-03-25T07:19:14.755Z"
      },
      {
        "duration": 11,
        "start_time": "2024-03-25T07:19:54.092Z"
      },
      {
        "duration": 1160,
        "start_time": "2024-03-25T07:48:39.788Z"
      },
      {
        "duration": 215,
        "start_time": "2024-03-25T07:48:40.950Z"
      },
      {
        "duration": 3,
        "start_time": "2024-03-25T07:48:41.167Z"
      },
      {
        "duration": 282,
        "start_time": "2024-03-25T07:48:41.182Z"
      },
      {
        "duration": 103,
        "start_time": "2024-03-25T07:48:41.465Z"
      },
      {
        "duration": 128,
        "start_time": "2024-03-25T07:48:41.570Z"
      },
      {
        "duration": 40,
        "start_time": "2024-03-25T07:48:41.700Z"
      },
      {
        "duration": 6,
        "start_time": "2024-03-25T07:48:41.741Z"
      },
      {
        "duration": 426,
        "start_time": "2024-03-25T07:48:41.748Z"
      },
      {
        "duration": 37,
        "start_time": "2024-03-25T07:48:42.183Z"
      },
      {
        "duration": 26,
        "start_time": "2024-03-25T07:48:42.222Z"
      },
      {
        "duration": 213,
        "start_time": "2024-03-25T07:48:42.250Z"
      },
      {
        "duration": 53,
        "start_time": "2024-03-25T07:48:42.465Z"
      },
      {
        "duration": 223,
        "start_time": "2024-03-25T07:48:42.520Z"
      },
      {
        "duration": 76,
        "start_time": "2024-03-25T07:48:42.744Z"
      },
      {
        "duration": 180,
        "start_time": "2024-03-25T07:48:42.822Z"
      },
      {
        "duration": 4,
        "start_time": "2024-03-25T07:48:43.004Z"
      },
      {
        "duration": 4,
        "start_time": "2024-03-25T07:48:43.010Z"
      },
      {
        "duration": 128,
        "start_time": "2024-03-25T07:48:43.016Z"
      },
      {
        "duration": 5,
        "start_time": "2024-03-25T07:48:43.146Z"
      },
      {
        "duration": 33,
        "start_time": "2024-03-25T07:48:43.153Z"
      },
      {
        "duration": 12,
        "start_time": "2024-03-25T07:48:43.188Z"
      },
      {
        "duration": 12,
        "start_time": "2024-03-25T07:48:43.201Z"
      },
      {
        "duration": 14,
        "start_time": "2024-03-25T07:48:43.214Z"
      },
      {
        "duration": 6,
        "start_time": "2024-03-25T08:04:37.242Z"
      },
      {
        "duration": 124,
        "start_time": "2024-03-25T08:05:05.994Z"
      },
      {
        "duration": 13,
        "start_time": "2024-03-25T08:05:12.273Z"
      },
      {
        "duration": 1136,
        "start_time": "2024-03-25T08:05:20.764Z"
      },
      {
        "duration": 211,
        "start_time": "2024-03-25T08:05:21.902Z"
      },
      {
        "duration": 3,
        "start_time": "2024-03-25T08:05:22.115Z"
      },
      {
        "duration": 288,
        "start_time": "2024-03-25T08:05:22.119Z"
      },
      {
        "duration": 97,
        "start_time": "2024-03-25T08:05:22.409Z"
      },
      {
        "duration": 131,
        "start_time": "2024-03-25T08:05:22.507Z"
      },
      {
        "duration": 46,
        "start_time": "2024-03-25T08:05:22.639Z"
      },
      {
        "duration": 6,
        "start_time": "2024-03-25T08:05:22.686Z"
      },
      {
        "duration": 450,
        "start_time": "2024-03-25T08:05:22.693Z"
      },
      {
        "duration": 49,
        "start_time": "2024-03-25T08:05:23.145Z"
      },
      {
        "duration": 27,
        "start_time": "2024-03-25T08:05:23.195Z"
      },
      {
        "duration": 201,
        "start_time": "2024-03-25T08:05:23.223Z"
      },
      {
        "duration": 38,
        "start_time": "2024-03-25T08:05:23.426Z"
      },
      {
        "duration": 211,
        "start_time": "2024-03-25T08:05:23.467Z"
      },
      {
        "duration": 62,
        "start_time": "2024-03-25T08:05:23.681Z"
      },
      {
        "duration": 193,
        "start_time": "2024-03-25T08:05:23.745Z"
      },
      {
        "duration": 4,
        "start_time": "2024-03-25T08:05:23.939Z"
      },
      {
        "duration": 15,
        "start_time": "2024-03-25T08:05:23.945Z"
      },
      {
        "duration": 120,
        "start_time": "2024-03-25T08:05:23.962Z"
      },
      {
        "duration": 5,
        "start_time": "2024-03-25T08:05:24.084Z"
      },
      {
        "duration": 21,
        "start_time": "2024-03-25T08:05:24.090Z"
      },
      {
        "duration": 30,
        "start_time": "2024-03-25T08:05:24.113Z"
      },
      {
        "duration": 14,
        "start_time": "2024-03-25T08:05:24.144Z"
      },
      {
        "duration": 23,
        "start_time": "2024-03-25T08:05:24.159Z"
      },
      {
        "duration": 5,
        "start_time": "2024-03-25T08:05:24.184Z"
      },
      {
        "duration": 1096,
        "start_time": "2024-03-25T08:22:26.987Z"
      },
      {
        "duration": 212,
        "start_time": "2024-03-25T08:22:28.085Z"
      },
      {
        "duration": 3,
        "start_time": "2024-03-25T08:22:28.299Z"
      },
      {
        "duration": 286,
        "start_time": "2024-03-25T08:22:28.303Z"
      },
      {
        "duration": 92,
        "start_time": "2024-03-25T08:22:28.591Z"
      },
      {
        "duration": 112,
        "start_time": "2024-03-25T08:22:28.685Z"
      },
      {
        "duration": 39,
        "start_time": "2024-03-25T08:22:28.798Z"
      },
      {
        "duration": 5,
        "start_time": "2024-03-25T08:22:28.839Z"
      },
      {
        "duration": 425,
        "start_time": "2024-03-25T08:22:28.846Z"
      },
      {
        "duration": 43,
        "start_time": "2024-03-25T08:22:29.274Z"
      },
      {
        "duration": 30,
        "start_time": "2024-03-25T08:22:29.319Z"
      },
      {
        "duration": 217,
        "start_time": "2024-03-25T08:22:29.350Z"
      },
      {
        "duration": 46,
        "start_time": "2024-03-25T08:22:29.569Z"
      },
      {
        "duration": 211,
        "start_time": "2024-03-25T08:22:29.618Z"
      },
      {
        "duration": 78,
        "start_time": "2024-03-25T08:22:29.831Z"
      },
      {
        "duration": 190,
        "start_time": "2024-03-25T08:22:29.911Z"
      },
      {
        "duration": 4,
        "start_time": "2024-03-25T08:22:30.103Z"
      },
      {
        "duration": 67,
        "start_time": "2024-03-25T08:22:30.109Z"
      },
      {
        "duration": 177,
        "start_time": "2024-03-25T08:22:30.178Z"
      },
      {
        "duration": 42,
        "start_time": "2024-03-25T08:22:30.356Z"
      },
      {
        "duration": 147,
        "start_time": "2024-03-25T08:22:30.400Z"
      },
      {
        "duration": 143,
        "start_time": "2024-03-25T08:22:30.549Z"
      },
      {
        "duration": 38,
        "start_time": "2024-03-25T08:22:30.693Z"
      },
      {
        "duration": 69,
        "start_time": "2024-03-25T08:22:30.733Z"
      },
      {
        "duration": 37,
        "start_time": "2024-03-25T08:22:30.804Z"
      },
      {
        "duration": 158,
        "start_time": "2024-03-25T08:26:19.032Z"
      },
      {
        "duration": 115,
        "start_time": "2024-03-25T08:26:44.520Z"
      },
      {
        "duration": 1212,
        "start_time": "2024-03-25T08:42:47.647Z"
      },
      {
        "duration": 220,
        "start_time": "2024-03-25T08:42:48.861Z"
      },
      {
        "duration": 3,
        "start_time": "2024-03-25T08:42:49.082Z"
      },
      {
        "duration": 288,
        "start_time": "2024-03-25T08:42:49.086Z"
      },
      {
        "duration": 98,
        "start_time": "2024-03-25T08:42:49.376Z"
      },
      {
        "duration": 117,
        "start_time": "2024-03-25T08:42:49.475Z"
      },
      {
        "duration": 42,
        "start_time": "2024-03-25T08:42:49.593Z"
      },
      {
        "duration": 5,
        "start_time": "2024-03-25T08:42:49.637Z"
      },
      {
        "duration": 471,
        "start_time": "2024-03-25T08:42:49.644Z"
      },
      {
        "duration": 75,
        "start_time": "2024-03-25T08:42:50.117Z"
      },
      {
        "duration": 38,
        "start_time": "2024-03-25T08:42:50.193Z"
      },
      {
        "duration": 200,
        "start_time": "2024-03-25T08:42:50.233Z"
      },
      {
        "duration": 48,
        "start_time": "2024-03-25T08:42:50.435Z"
      },
      {
        "duration": 207,
        "start_time": "2024-03-25T08:42:50.485Z"
      },
      {
        "duration": 63,
        "start_time": "2024-03-25T08:42:50.693Z"
      },
      {
        "duration": 187,
        "start_time": "2024-03-25T08:42:50.758Z"
      },
      {
        "duration": 4,
        "start_time": "2024-03-25T08:42:50.946Z"
      },
      {
        "duration": 15,
        "start_time": "2024-03-25T08:42:50.952Z"
      },
      {
        "duration": 113,
        "start_time": "2024-03-25T08:42:50.968Z"
      },
      {
        "duration": 6,
        "start_time": "2024-03-25T08:42:51.083Z"
      },
      {
        "duration": 30,
        "start_time": "2024-03-25T08:42:51.091Z"
      },
      {
        "duration": 32,
        "start_time": "2024-03-25T08:42:51.123Z"
      },
      {
        "duration": 19,
        "start_time": "2024-03-25T08:42:51.157Z"
      },
      {
        "duration": 16,
        "start_time": "2024-03-25T08:42:51.178Z"
      },
      {
        "duration": 1291,
        "start_time": "2024-03-25T17:55:40.644Z"
      },
      {
        "duration": 350,
        "start_time": "2024-03-25T17:55:41.937Z"
      },
      {
        "duration": 3,
        "start_time": "2024-03-25T17:55:42.289Z"
      },
      {
        "duration": 280,
        "start_time": "2024-03-25T17:55:42.293Z"
      },
      {
        "duration": 87,
        "start_time": "2024-03-25T17:55:42.576Z"
      },
      {
        "duration": 110,
        "start_time": "2024-03-25T17:55:42.664Z"
      },
      {
        "duration": 40,
        "start_time": "2024-03-25T17:55:42.775Z"
      },
      {
        "duration": 6,
        "start_time": "2024-03-25T17:55:42.817Z"
      },
      {
        "duration": 438,
        "start_time": "2024-03-25T17:55:42.824Z"
      },
      {
        "duration": 38,
        "start_time": "2024-03-25T17:55:43.264Z"
      },
      {
        "duration": 27,
        "start_time": "2024-03-25T17:55:43.304Z"
      },
      {
        "duration": 208,
        "start_time": "2024-03-25T17:55:43.333Z"
      },
      {
        "duration": 54,
        "start_time": "2024-03-25T17:55:43.543Z"
      },
      {
        "duration": 195,
        "start_time": "2024-03-25T17:55:43.599Z"
      },
      {
        "duration": 75,
        "start_time": "2024-03-25T17:55:43.795Z"
      },
      {
        "duration": 168,
        "start_time": "2024-03-25T17:55:43.871Z"
      },
      {
        "duration": 4,
        "start_time": "2024-03-25T17:55:44.041Z"
      },
      {
        "duration": 43,
        "start_time": "2024-03-25T17:55:44.046Z"
      },
      {
        "duration": 114,
        "start_time": "2024-03-25T17:55:44.090Z"
      },
      {
        "duration": 5,
        "start_time": "2024-03-25T17:55:44.206Z"
      },
      {
        "duration": 21,
        "start_time": "2024-03-25T17:55:44.212Z"
      },
      {
        "duration": 30,
        "start_time": "2024-03-25T17:55:44.234Z"
      },
      {
        "duration": 18,
        "start_time": "2024-03-25T17:55:44.265Z"
      },
      {
        "duration": 18,
        "start_time": "2024-03-25T17:55:44.285Z"
      },
      {
        "duration": 34,
        "start_time": "2024-03-25T18:01:23.313Z"
      },
      {
        "duration": 1226,
        "start_time": "2024-03-25T18:01:34.669Z"
      },
      {
        "duration": 206,
        "start_time": "2024-03-25T18:01:35.897Z"
      },
      {
        "duration": 3,
        "start_time": "2024-03-25T18:01:36.104Z"
      },
      {
        "duration": 83,
        "start_time": "2024-03-25T18:01:36.108Z"
      },
      {
        "duration": 276,
        "start_time": "2024-03-25T18:01:36.193Z"
      },
      {
        "duration": 89,
        "start_time": "2024-03-25T18:01:36.470Z"
      },
      {
        "duration": 86,
        "start_time": "2024-03-25T18:01:36.561Z"
      },
      {
        "duration": 50,
        "start_time": "2024-03-25T18:01:36.659Z"
      },
      {
        "duration": 6,
        "start_time": "2024-03-25T18:01:36.712Z"
      },
      {
        "duration": 442,
        "start_time": "2024-03-25T18:01:36.720Z"
      },
      {
        "duration": 40,
        "start_time": "2024-03-25T18:01:37.163Z"
      },
      {
        "duration": 27,
        "start_time": "2024-03-25T18:01:37.205Z"
      },
      {
        "duration": 194,
        "start_time": "2024-03-25T18:01:37.234Z"
      },
      {
        "duration": 45,
        "start_time": "2024-03-25T18:01:37.431Z"
      },
      {
        "duration": 187,
        "start_time": "2024-03-25T18:01:37.478Z"
      },
      {
        "duration": 62,
        "start_time": "2024-03-25T18:01:37.667Z"
      },
      {
        "duration": 183,
        "start_time": "2024-03-25T18:01:37.731Z"
      },
      {
        "duration": 5,
        "start_time": "2024-03-25T18:01:37.915Z"
      },
      {
        "duration": 17,
        "start_time": "2024-03-25T18:01:37.922Z"
      },
      {
        "duration": 123,
        "start_time": "2024-03-25T18:01:37.941Z"
      },
      {
        "duration": 5,
        "start_time": "2024-03-25T18:01:38.065Z"
      },
      {
        "duration": 22,
        "start_time": "2024-03-25T18:01:38.071Z"
      },
      {
        "duration": 18,
        "start_time": "2024-03-25T18:01:38.094Z"
      },
      {
        "duration": 21,
        "start_time": "2024-03-25T18:01:38.113Z"
      },
      {
        "duration": 30,
        "start_time": "2024-03-25T18:01:38.135Z"
      },
      {
        "duration": 45,
        "start_time": "2024-03-26T04:12:26.516Z"
      },
      {
        "duration": 1280,
        "start_time": "2024-03-26T04:12:32.433Z"
      },
      {
        "duration": 297,
        "start_time": "2024-03-26T04:12:33.716Z"
      },
      {
        "duration": 3,
        "start_time": "2024-03-26T04:12:34.014Z"
      },
      {
        "duration": 256,
        "start_time": "2024-03-26T04:12:34.019Z"
      },
      {
        "duration": 80,
        "start_time": "2024-03-26T04:12:34.276Z"
      },
      {
        "duration": 119,
        "start_time": "2024-03-26T04:12:34.365Z"
      },
      {
        "duration": 37,
        "start_time": "2024-03-26T04:12:34.485Z"
      },
      {
        "duration": 1073,
        "start_time": "2024-03-26T04:13:14.443Z"
      },
      {
        "duration": 197,
        "start_time": "2024-03-26T04:13:15.517Z"
      },
      {
        "duration": 3,
        "start_time": "2024-03-26T04:13:15.716Z"
      },
      {
        "duration": 273,
        "start_time": "2024-03-26T04:13:15.720Z"
      },
      {
        "duration": 92,
        "start_time": "2024-03-26T04:13:15.995Z"
      },
      {
        "duration": 106,
        "start_time": "2024-03-26T04:13:16.089Z"
      },
      {
        "duration": 37,
        "start_time": "2024-03-26T04:13:16.197Z"
      },
      {
        "duration": 153,
        "start_time": "2024-03-26T04:13:16.235Z"
      },
      {
        "duration": 5,
        "start_time": "2024-03-26T04:13:16.390Z"
      },
      {
        "duration": 378,
        "start_time": "2024-03-26T04:13:16.397Z"
      },
      {
        "duration": 35,
        "start_time": "2024-03-26T04:13:16.776Z"
      },
      {
        "duration": 24,
        "start_time": "2024-03-26T04:13:16.812Z"
      },
      {
        "duration": 176,
        "start_time": "2024-03-26T04:13:16.837Z"
      },
      {
        "duration": 36,
        "start_time": "2024-03-26T04:13:17.015Z"
      },
      {
        "duration": 185,
        "start_time": "2024-03-26T04:13:17.052Z"
      },
      {
        "duration": 66,
        "start_time": "2024-03-26T04:13:17.238Z"
      },
      {
        "duration": 176,
        "start_time": "2024-03-26T04:13:17.305Z"
      },
      {
        "duration": 4,
        "start_time": "2024-03-26T04:13:17.483Z"
      },
      {
        "duration": 6,
        "start_time": "2024-03-26T04:13:17.488Z"
      },
      {
        "duration": 117,
        "start_time": "2024-03-26T04:13:17.495Z"
      },
      {
        "duration": 5,
        "start_time": "2024-03-26T04:13:17.614Z"
      },
      {
        "duration": 16,
        "start_time": "2024-03-26T04:13:17.621Z"
      },
      {
        "duration": 33,
        "start_time": "2024-03-26T04:13:17.638Z"
      },
      {
        "duration": 13,
        "start_time": "2024-03-26T04:13:17.672Z"
      },
      {
        "duration": 12,
        "start_time": "2024-03-26T04:13:17.686Z"
      },
      {
        "duration": 219,
        "start_time": "2024-03-26T04:13:30.564Z"
      },
      {
        "duration": 22,
        "start_time": "2024-03-26T04:13:49.509Z"
      },
      {
        "duration": 339,
        "start_time": "2024-03-26T04:26:09.217Z"
      },
      {
        "duration": 356,
        "start_time": "2024-03-26T04:26:16.545Z"
      },
      {
        "duration": 1302,
        "start_time": "2024-03-26T13:07:15.036Z"
      },
      {
        "duration": 836,
        "start_time": "2024-03-26T13:07:16.339Z"
      },
      {
        "duration": 3,
        "start_time": "2024-03-26T13:07:17.176Z"
      },
      {
        "duration": 260,
        "start_time": "2024-03-26T13:07:17.181Z"
      },
      {
        "duration": 89,
        "start_time": "2024-03-26T13:07:17.442Z"
      },
      {
        "duration": 110,
        "start_time": "2024-03-26T13:07:17.533Z"
      },
      {
        "duration": 44,
        "start_time": "2024-03-26T13:07:17.645Z"
      },
      {
        "duration": 414,
        "start_time": "2024-03-26T13:07:17.690Z"
      },
      {
        "duration": 22,
        "start_time": "2024-03-26T13:07:18.106Z"
      },
      {
        "duration": 6,
        "start_time": "2024-03-26T13:07:18.130Z"
      },
      {
        "duration": 111,
        "start_time": "2024-03-26T13:07:18.138Z"
      },
      {
        "duration": 0,
        "start_time": "2024-03-26T13:07:18.251Z"
      },
      {
        "duration": 0,
        "start_time": "2024-03-26T13:07:18.251Z"
      },
      {
        "duration": 0,
        "start_time": "2024-03-26T13:07:18.252Z"
      },
      {
        "duration": 0,
        "start_time": "2024-03-26T13:07:18.253Z"
      },
      {
        "duration": 0,
        "start_time": "2024-03-26T13:07:18.254Z"
      },
      {
        "duration": 0,
        "start_time": "2024-03-26T13:07:18.255Z"
      },
      {
        "duration": 0,
        "start_time": "2024-03-26T13:07:18.256Z"
      },
      {
        "duration": 0,
        "start_time": "2024-03-26T13:07:18.257Z"
      },
      {
        "duration": 0,
        "start_time": "2024-03-26T13:07:18.269Z"
      },
      {
        "duration": 0,
        "start_time": "2024-03-26T13:07:18.270Z"
      },
      {
        "duration": 0,
        "start_time": "2024-03-26T13:07:18.271Z"
      },
      {
        "duration": 0,
        "start_time": "2024-03-26T13:07:18.272Z"
      },
      {
        "duration": 0,
        "start_time": "2024-03-26T13:07:18.274Z"
      },
      {
        "duration": 0,
        "start_time": "2024-03-26T13:07:18.274Z"
      },
      {
        "duration": 0,
        "start_time": "2024-03-26T13:07:18.275Z"
      },
      {
        "duration": 0,
        "start_time": "2024-03-26T13:07:18.276Z"
      },
      {
        "duration": 376,
        "start_time": "2024-03-26T13:08:00.667Z"
      },
      {
        "duration": 8,
        "start_time": "2024-03-26T13:08:03.242Z"
      },
      {
        "duration": 9,
        "start_time": "2024-03-26T13:09:23.101Z"
      },
      {
        "duration": 54,
        "start_time": "2024-03-26T13:09:30.438Z"
      },
      {
        "duration": 47,
        "start_time": "2024-03-26T13:09:40.525Z"
      },
      {
        "duration": 365,
        "start_time": "2024-03-26T13:10:01.775Z"
      },
      {
        "duration": 363,
        "start_time": "2024-03-26T13:10:14.766Z"
      },
      {
        "duration": 459,
        "start_time": "2024-03-26T13:11:41.816Z"
      },
      {
        "duration": 56,
        "start_time": "2024-03-26T13:11:47.912Z"
      },
      {
        "duration": 1180,
        "start_time": "2024-03-26T13:11:59.353Z"
      },
      {
        "duration": 335,
        "start_time": "2024-03-26T13:12:03.905Z"
      },
      {
        "duration": 404,
        "start_time": "2024-03-26T13:12:30.114Z"
      },
      {
        "duration": 355,
        "start_time": "2024-03-26T13:12:53.361Z"
      },
      {
        "duration": 56,
        "start_time": "2024-03-26T13:13:04.938Z"
      },
      {
        "duration": 60,
        "start_time": "2024-03-26T13:13:08.467Z"
      },
      {
        "duration": 107,
        "start_time": "2024-03-26T13:13:14.762Z"
      },
      {
        "duration": 372,
        "start_time": "2024-03-26T13:13:19.914Z"
      },
      {
        "duration": 1061,
        "start_time": "2024-03-26T13:13:42.352Z"
      },
      {
        "duration": 206,
        "start_time": "2024-03-26T13:13:43.415Z"
      },
      {
        "duration": 2,
        "start_time": "2024-03-26T13:13:43.623Z"
      },
      {
        "duration": 261,
        "start_time": "2024-03-26T13:13:43.627Z"
      },
      {
        "duration": 89,
        "start_time": "2024-03-26T13:13:43.889Z"
      },
      {
        "duration": 104,
        "start_time": "2024-03-26T13:13:43.980Z"
      },
      {
        "duration": 36,
        "start_time": "2024-03-26T13:13:44.086Z"
      },
      {
        "duration": 400,
        "start_time": "2024-03-26T13:13:44.123Z"
      },
      {
        "duration": 22,
        "start_time": "2024-03-26T13:13:44.525Z"
      },
      {
        "duration": 5,
        "start_time": "2024-03-26T13:13:44.550Z"
      },
      {
        "duration": 432,
        "start_time": "2024-03-26T13:13:44.570Z"
      },
      {
        "duration": 88,
        "start_time": "2024-03-26T13:13:45.003Z"
      },
      {
        "duration": 88,
        "start_time": "2024-03-26T13:13:45.092Z"
      },
      {
        "duration": 331,
        "start_time": "2024-03-26T13:13:45.181Z"
      },
      {
        "duration": 93,
        "start_time": "2024-03-26T13:13:45.514Z"
      },
      {
        "duration": 381,
        "start_time": "2024-03-26T13:13:45.608Z"
      },
      {
        "duration": 109,
        "start_time": "2024-03-26T13:13:45.990Z"
      },
      {
        "duration": 222,
        "start_time": "2024-03-26T13:13:46.100Z"
      },
      {
        "duration": 4,
        "start_time": "2024-03-26T13:13:46.323Z"
      },
      {
        "duration": 15,
        "start_time": "2024-03-26T13:13:46.328Z"
      },
      {
        "duration": 114,
        "start_time": "2024-03-26T13:13:46.345Z"
      },
      {
        "duration": 10,
        "start_time": "2024-03-26T13:13:46.460Z"
      },
      {
        "duration": 33,
        "start_time": "2024-03-26T13:13:46.472Z"
      },
      {
        "duration": 56,
        "start_time": "2024-03-26T13:13:46.506Z"
      },
      {
        "duration": 33,
        "start_time": "2024-03-26T13:13:46.563Z"
      },
      {
        "duration": 65,
        "start_time": "2024-03-26T13:13:46.597Z"
      },
      {
        "duration": 124,
        "start_time": "2024-03-26T13:14:35.620Z"
      },
      {
        "duration": 105,
        "start_time": "2024-03-26T13:14:48.046Z"
      },
      {
        "duration": 101,
        "start_time": "2024-03-26T13:14:52.227Z"
      },
      {
        "duration": 420,
        "start_time": "2024-03-26T13:15:04.483Z"
      },
      {
        "duration": 1312,
        "start_time": "2024-03-26T13:16:45.966Z"
      },
      {
        "duration": 392,
        "start_time": "2024-03-26T13:16:47.280Z"
      },
      {
        "duration": 3,
        "start_time": "2024-03-26T13:16:47.674Z"
      },
      {
        "duration": 501,
        "start_time": "2024-03-26T13:16:47.679Z"
      },
      {
        "duration": 92,
        "start_time": "2024-03-26T13:16:48.181Z"
      },
      {
        "duration": 107,
        "start_time": "2024-03-26T13:16:48.275Z"
      },
      {
        "duration": 37,
        "start_time": "2024-03-26T13:16:48.384Z"
      },
      {
        "duration": 407,
        "start_time": "2024-03-26T13:16:48.422Z"
      },
      {
        "duration": 22,
        "start_time": "2024-03-26T13:16:48.830Z"
      },
      {
        "duration": 5,
        "start_time": "2024-03-26T13:16:48.854Z"
      },
      {
        "duration": 356,
        "start_time": "2024-03-26T13:16:48.870Z"
      },
      {
        "duration": 42,
        "start_time": "2024-03-26T13:16:49.228Z"
      },
      {
        "duration": 23,
        "start_time": "2024-03-26T13:16:49.272Z"
      },
      {
        "duration": 176,
        "start_time": "2024-03-26T13:16:49.297Z"
      },
      {
        "duration": 38,
        "start_time": "2024-03-26T13:16:49.474Z"
      },
      {
        "duration": 189,
        "start_time": "2024-03-26T13:16:49.514Z"
      },
      {
        "duration": 66,
        "start_time": "2024-03-26T13:16:49.705Z"
      },
      {
        "duration": 198,
        "start_time": "2024-03-26T13:16:49.772Z"
      },
      {
        "duration": 4,
        "start_time": "2024-03-26T13:16:49.972Z"
      },
      {
        "duration": 7,
        "start_time": "2024-03-26T13:16:49.978Z"
      },
      {
        "duration": 109,
        "start_time": "2024-03-26T13:16:49.987Z"
      },
      {
        "duration": 4,
        "start_time": "2024-03-26T13:16:50.098Z"
      },
      {
        "duration": 22,
        "start_time": "2024-03-26T13:16:50.103Z"
      },
      {
        "duration": 21,
        "start_time": "2024-03-26T13:16:50.127Z"
      },
      {
        "duration": 26,
        "start_time": "2024-03-26T13:16:50.149Z"
      },
      {
        "duration": 18,
        "start_time": "2024-03-26T13:16:50.177Z"
      },
      {
        "duration": 23,
        "start_time": "2024-03-26T13:16:58.893Z"
      },
      {
        "duration": 28,
        "start_time": "2024-03-26T13:17:06.862Z"
      },
      {
        "duration": 49,
        "start_time": "2024-03-26T13:17:31.734Z"
      },
      {
        "duration": 113,
        "start_time": "2024-03-26T13:17:45.880Z"
      },
      {
        "duration": 26,
        "start_time": "2024-03-26T13:17:55.047Z"
      },
      {
        "duration": 97,
        "start_time": "2024-03-26T13:18:18.120Z"
      },
      {
        "duration": 17,
        "start_time": "2024-03-26T13:18:32.937Z"
      },
      {
        "duration": 18,
        "start_time": "2024-03-26T13:18:41.832Z"
      },
      {
        "duration": 84,
        "start_time": "2024-03-26T13:18:48.384Z"
      },
      {
        "duration": 1279,
        "start_time": "2024-03-26T13:19:41.897Z"
      },
      {
        "duration": 101,
        "start_time": "2024-03-26T13:20:21.457Z"
      },
      {
        "duration": 1358,
        "start_time": "2024-03-26T13:20:38.995Z"
      },
      {
        "duration": 1387,
        "start_time": "2024-03-26T13:21:01.898Z"
      },
      {
        "duration": 1379,
        "start_time": "2024-03-26T13:21:30.227Z"
      },
      {
        "duration": 1087,
        "start_time": "2024-03-26T13:21:38.334Z"
      },
      {
        "duration": 194,
        "start_time": "2024-03-26T13:21:39.423Z"
      },
      {
        "duration": 3,
        "start_time": "2024-03-26T13:21:39.620Z"
      },
      {
        "duration": 280,
        "start_time": "2024-03-26T13:21:39.624Z"
      },
      {
        "duration": 98,
        "start_time": "2024-03-26T13:21:39.906Z"
      },
      {
        "duration": 117,
        "start_time": "2024-03-26T13:21:40.006Z"
      },
      {
        "duration": 49,
        "start_time": "2024-03-26T13:21:40.124Z"
      },
      {
        "duration": 429,
        "start_time": "2024-03-26T13:21:40.175Z"
      },
      {
        "duration": 21,
        "start_time": "2024-03-26T13:21:40.607Z"
      },
      {
        "duration": 10,
        "start_time": "2024-03-26T13:21:40.630Z"
      },
      {
        "duration": 366,
        "start_time": "2024-03-26T13:21:40.642Z"
      },
      {
        "duration": 90,
        "start_time": "2024-03-26T13:21:41.010Z"
      },
      {
        "duration": 37,
        "start_time": "2024-03-26T13:21:41.102Z"
      },
      {
        "duration": 44,
        "start_time": "2024-03-26T13:21:41.141Z"
      },
      {
        "duration": 179,
        "start_time": "2024-03-26T13:21:41.187Z"
      },
      {
        "duration": 38,
        "start_time": "2024-03-26T13:21:41.370Z"
      },
      {
        "duration": 190,
        "start_time": "2024-03-26T13:21:41.410Z"
      },
      {
        "duration": 58,
        "start_time": "2024-03-26T13:21:41.601Z"
      },
      {
        "duration": 164,
        "start_time": "2024-03-26T13:21:41.670Z"
      },
      {
        "duration": 4,
        "start_time": "2024-03-26T13:21:41.835Z"
      },
      {
        "duration": 111,
        "start_time": "2024-03-26T13:21:41.841Z"
      },
      {
        "duration": 15,
        "start_time": "2024-03-26T13:21:41.954Z"
      },
      {
        "duration": 13,
        "start_time": "2024-03-26T13:21:41.971Z"
      },
      {
        "duration": 15,
        "start_time": "2024-03-26T13:21:41.985Z"
      },
      {
        "duration": 11,
        "start_time": "2024-03-26T13:21:42.002Z"
      },
      {
        "duration": 14,
        "start_time": "2024-03-26T13:21:42.014Z"
      },
      {
        "duration": 114,
        "start_time": "2024-03-26T13:22:00.405Z"
      },
      {
        "duration": 11,
        "start_time": "2024-03-26T13:22:08.411Z"
      },
      {
        "duration": 1064,
        "start_time": "2024-03-26T13:23:14.162Z"
      },
      {
        "duration": 208,
        "start_time": "2024-03-26T13:23:15.228Z"
      },
      {
        "duration": 3,
        "start_time": "2024-03-26T13:23:15.438Z"
      },
      {
        "duration": 296,
        "start_time": "2024-03-26T13:23:15.442Z"
      },
      {
        "duration": 85,
        "start_time": "2024-03-26T13:23:15.739Z"
      },
      {
        "duration": 110,
        "start_time": "2024-03-26T13:23:15.826Z"
      },
      {
        "duration": 42,
        "start_time": "2024-03-26T13:23:15.938Z"
      },
      {
        "duration": 421,
        "start_time": "2024-03-26T13:23:15.982Z"
      },
      {
        "duration": 22,
        "start_time": "2024-03-26T13:23:16.404Z"
      },
      {
        "duration": 31,
        "start_time": "2024-03-26T13:23:16.429Z"
      },
      {
        "duration": 397,
        "start_time": "2024-03-26T13:23:16.462Z"
      },
      {
        "duration": 85,
        "start_time": "2024-03-26T13:23:16.861Z"
      },
      {
        "duration": 45,
        "start_time": "2024-03-26T13:23:16.947Z"
      },
      {
        "duration": 54,
        "start_time": "2024-03-26T13:23:16.993Z"
      },
      {
        "duration": 173,
        "start_time": "2024-03-26T13:23:17.049Z"
      },
      {
        "duration": 37,
        "start_time": "2024-03-26T13:23:17.223Z"
      },
      {
        "duration": 182,
        "start_time": "2024-03-26T13:23:17.261Z"
      },
      {
        "duration": 62,
        "start_time": "2024-03-26T13:23:17.444Z"
      },
      {
        "duration": 161,
        "start_time": "2024-03-26T13:23:17.508Z"
      },
      {
        "duration": 4,
        "start_time": "2024-03-26T13:23:17.671Z"
      },
      {
        "duration": 175,
        "start_time": "2024-03-26T13:23:17.676Z"
      },
      {
        "duration": 20,
        "start_time": "2024-03-26T13:23:17.853Z"
      },
      {
        "duration": 31,
        "start_time": "2024-03-26T13:23:17.875Z"
      },
      {
        "duration": 47,
        "start_time": "2024-03-26T13:23:17.907Z"
      },
      {
        "duration": 37,
        "start_time": "2024-03-26T13:23:17.955Z"
      },
      {
        "duration": 23,
        "start_time": "2024-03-26T13:23:17.994Z"
      },
      {
        "duration": 39,
        "start_time": "2024-03-26T13:23:18.018Z"
      },
      {
        "duration": 104,
        "start_time": "2024-03-26T13:23:30.622Z"
      },
      {
        "duration": 7,
        "start_time": "2024-03-26T13:23:33.604Z"
      },
      {
        "duration": 8,
        "start_time": "2024-03-26T13:23:50.397Z"
      },
      {
        "duration": 88,
        "start_time": "2024-03-26T13:24:33.006Z"
      },
      {
        "duration": 12,
        "start_time": "2024-03-26T13:24:36.318Z"
      },
      {
        "duration": 5,
        "start_time": "2024-03-26T13:24:58.431Z"
      },
      {
        "duration": 95,
        "start_time": "2024-03-26T13:25:37.432Z"
      },
      {
        "duration": 10,
        "start_time": "2024-03-26T13:25:39.967Z"
      },
      {
        "duration": 42,
        "start_time": "2024-03-26T13:27:22.522Z"
      },
      {
        "duration": 80,
        "start_time": "2024-03-26T13:27:31.353Z"
      },
      {
        "duration": 78,
        "start_time": "2024-03-26T13:28:37.435Z"
      },
      {
        "duration": 80,
        "start_time": "2024-03-26T13:28:39.746Z"
      },
      {
        "duration": 87,
        "start_time": "2024-03-26T13:28:47.498Z"
      },
      {
        "duration": 79,
        "start_time": "2024-03-26T13:28:58.219Z"
      },
      {
        "duration": 75,
        "start_time": "2024-03-26T13:29:15.901Z"
      },
      {
        "duration": 79,
        "start_time": "2024-03-26T13:29:19.356Z"
      },
      {
        "duration": 78,
        "start_time": "2024-03-26T13:29:41.757Z"
      },
      {
        "duration": 123,
        "start_time": "2024-03-26T13:30:07.884Z"
      },
      {
        "duration": 4,
        "start_time": "2024-03-26T13:31:54.454Z"
      },
      {
        "duration": 82,
        "start_time": "2024-03-26T13:32:35.236Z"
      },
      {
        "duration": 82,
        "start_time": "2024-03-26T13:33:08.441Z"
      },
      {
        "duration": 98,
        "start_time": "2024-03-26T13:35:25.732Z"
      },
      {
        "duration": 1022,
        "start_time": "2024-03-26T13:35:43.926Z"
      },
      {
        "duration": 202,
        "start_time": "2024-03-26T13:35:44.950Z"
      },
      {
        "duration": 2,
        "start_time": "2024-03-26T13:35:45.154Z"
      },
      {
        "duration": 359,
        "start_time": "2024-03-26T13:35:45.158Z"
      },
      {
        "duration": 94,
        "start_time": "2024-03-26T13:35:45.518Z"
      },
      {
        "duration": 115,
        "start_time": "2024-03-26T13:35:45.613Z"
      },
      {
        "duration": 43,
        "start_time": "2024-03-26T13:35:45.730Z"
      },
      {
        "duration": 410,
        "start_time": "2024-03-26T13:35:45.774Z"
      },
      {
        "duration": 22,
        "start_time": "2024-03-26T13:35:46.185Z"
      },
      {
        "duration": 5,
        "start_time": "2024-03-26T13:35:46.209Z"
      },
      {
        "duration": 350,
        "start_time": "2024-03-26T13:35:46.215Z"
      },
      {
        "duration": 82,
        "start_time": "2024-03-26T13:35:46.566Z"
      },
      {
        "duration": 45,
        "start_time": "2024-03-26T13:35:46.649Z"
      },
      {
        "duration": 24,
        "start_time": "2024-03-26T13:35:46.695Z"
      },
      {
        "duration": 184,
        "start_time": "2024-03-26T13:35:46.721Z"
      },
      {
        "duration": 39,
        "start_time": "2024-03-26T13:35:46.907Z"
      },
      {
        "duration": 187,
        "start_time": "2024-03-26T13:35:46.947Z"
      },
      {
        "duration": 62,
        "start_time": "2024-03-26T13:35:47.136Z"
      },
      {
        "duration": 167,
        "start_time": "2024-03-26T13:35:47.200Z"
      },
      {
        "duration": 3,
        "start_time": "2024-03-26T13:35:47.369Z"
      },
      {
        "duration": 105,
        "start_time": "2024-03-26T13:35:47.374Z"
      },
      {
        "duration": 5,
        "start_time": "2024-03-26T13:35:47.480Z"
      },
      {
        "duration": 16,
        "start_time": "2024-03-26T13:35:47.486Z"
      },
      {
        "duration": 11,
        "start_time": "2024-03-26T13:35:47.503Z"
      },
      {
        "duration": 19,
        "start_time": "2024-03-26T13:35:47.515Z"
      },
      {
        "duration": 34,
        "start_time": "2024-03-26T13:35:47.535Z"
      },
      {
        "duration": 1104,
        "start_time": "2024-03-26T13:52:48.835Z"
      },
      {
        "duration": 202,
        "start_time": "2024-03-26T13:52:49.941Z"
      },
      {
        "duration": 3,
        "start_time": "2024-03-26T13:52:50.145Z"
      },
      {
        "duration": 284,
        "start_time": "2024-03-26T13:52:50.150Z"
      },
      {
        "duration": 102,
        "start_time": "2024-03-26T13:52:50.436Z"
      },
      {
        "duration": 113,
        "start_time": "2024-03-26T13:52:50.540Z"
      },
      {
        "duration": 50,
        "start_time": "2024-03-26T13:52:50.656Z"
      },
      {
        "duration": 430,
        "start_time": "2024-03-26T13:52:50.707Z"
      },
      {
        "duration": 23,
        "start_time": "2024-03-26T13:52:51.138Z"
      },
      {
        "duration": 5,
        "start_time": "2024-03-26T13:52:51.170Z"
      },
      {
        "duration": 371,
        "start_time": "2024-03-26T13:52:51.177Z"
      },
      {
        "duration": 89,
        "start_time": "2024-03-26T13:52:51.550Z"
      },
      {
        "duration": 41,
        "start_time": "2024-03-26T13:52:51.641Z"
      },
      {
        "duration": 25,
        "start_time": "2024-03-26T13:52:51.684Z"
      },
      {
        "duration": 196,
        "start_time": "2024-03-26T13:52:51.710Z"
      },
      {
        "duration": 39,
        "start_time": "2024-03-26T13:52:51.908Z"
      },
      {
        "duration": 212,
        "start_time": "2024-03-26T13:52:51.949Z"
      },
      {
        "duration": 64,
        "start_time": "2024-03-26T13:52:52.163Z"
      },
      {
        "duration": 170,
        "start_time": "2024-03-26T13:52:52.229Z"
      },
      {
        "duration": 4,
        "start_time": "2024-03-26T13:52:52.400Z"
      },
      {
        "duration": 113,
        "start_time": "2024-03-26T13:52:52.406Z"
      },
      {
        "duration": 5,
        "start_time": "2024-03-26T13:52:52.520Z"
      },
      {
        "duration": 24,
        "start_time": "2024-03-26T13:52:52.526Z"
      },
      {
        "duration": 24,
        "start_time": "2024-03-26T13:52:52.551Z"
      },
      {
        "duration": 13,
        "start_time": "2024-03-26T13:52:52.576Z"
      },
      {
        "duration": 11,
        "start_time": "2024-03-26T13:52:52.591Z"
      },
      {
        "duration": 93,
        "start_time": "2024-03-26T13:53:28.131Z"
      },
      {
        "duration": 117,
        "start_time": "2024-03-26T13:53:50.659Z"
      },
      {
        "duration": 93,
        "start_time": "2024-03-26T13:54:06.178Z"
      },
      {
        "duration": 102,
        "start_time": "2024-03-26T13:54:15.034Z"
      },
      {
        "duration": 96,
        "start_time": "2024-03-26T13:54:55.555Z"
      },
      {
        "duration": 84,
        "start_time": "2024-03-26T13:55:26.643Z"
      },
      {
        "duration": 82,
        "start_time": "2024-03-26T13:55:33.660Z"
      },
      {
        "duration": 95,
        "start_time": "2024-03-26T13:56:08.645Z"
      },
      {
        "duration": 99,
        "start_time": "2024-03-26T14:14:26.229Z"
      },
      {
        "duration": 80,
        "start_time": "2024-03-26T14:14:30.236Z"
      },
      {
        "duration": 3,
        "start_time": "2024-03-26T14:14:39.890Z"
      },
      {
        "duration": 119,
        "start_time": "2024-03-26T14:14:43.004Z"
      },
      {
        "duration": 119,
        "start_time": "2024-03-26T14:15:00.901Z"
      },
      {
        "duration": 122,
        "start_time": "2024-03-26T14:15:26.948Z"
      },
      {
        "duration": 120,
        "start_time": "2024-03-26T14:15:39.358Z"
      },
      {
        "duration": 124,
        "start_time": "2024-03-26T14:15:50.613Z"
      },
      {
        "duration": 125,
        "start_time": "2024-03-26T14:15:55.245Z"
      },
      {
        "duration": 114,
        "start_time": "2024-03-26T14:15:58.734Z"
      },
      {
        "duration": 118,
        "start_time": "2024-03-26T14:16:09.398Z"
      },
      {
        "duration": 113,
        "start_time": "2024-03-26T14:16:19.326Z"
      },
      {
        "duration": 117,
        "start_time": "2024-03-26T14:16:22.574Z"
      },
      {
        "duration": 209,
        "start_time": "2024-03-26T14:16:44.910Z"
      },
      {
        "duration": 123,
        "start_time": "2024-03-26T14:16:47.359Z"
      },
      {
        "duration": 122,
        "start_time": "2024-03-26T14:16:54.142Z"
      },
      {
        "duration": 117,
        "start_time": "2024-03-26T14:16:57.918Z"
      },
      {
        "duration": 126,
        "start_time": "2024-03-26T14:17:05.998Z"
      },
      {
        "duration": 139,
        "start_time": "2024-03-26T14:17:10.431Z"
      },
      {
        "duration": 100,
        "start_time": "2024-03-26T14:17:23.599Z"
      },
      {
        "duration": 119,
        "start_time": "2024-03-26T14:17:25.982Z"
      },
      {
        "duration": 123,
        "start_time": "2024-03-26T14:17:35.455Z"
      },
      {
        "duration": 115,
        "start_time": "2024-03-26T14:18:06.552Z"
      },
      {
        "duration": 114,
        "start_time": "2024-03-26T14:18:10.056Z"
      },
      {
        "duration": 115,
        "start_time": "2024-03-26T14:18:16.848Z"
      },
      {
        "duration": 121,
        "start_time": "2024-03-26T14:18:50.001Z"
      },
      {
        "duration": 132,
        "start_time": "2024-03-26T14:19:25.426Z"
      },
      {
        "duration": 123,
        "start_time": "2024-03-26T14:19:31.234Z"
      },
      {
        "duration": 118,
        "start_time": "2024-03-26T14:19:34.665Z"
      },
      {
        "duration": 119,
        "start_time": "2024-03-26T14:19:41.369Z"
      },
      {
        "duration": 4,
        "start_time": "2024-03-26T14:20:22.323Z"
      },
      {
        "duration": 112,
        "start_time": "2024-03-26T14:20:27.722Z"
      },
      {
        "duration": 123,
        "start_time": "2024-03-26T14:20:51.787Z"
      },
      {
        "duration": 113,
        "start_time": "2024-03-26T14:21:18.949Z"
      },
      {
        "duration": 122,
        "start_time": "2024-03-26T14:21:25.604Z"
      },
      {
        "duration": 116,
        "start_time": "2024-03-26T14:21:39.836Z"
      },
      {
        "duration": 108,
        "start_time": "2024-03-26T14:21:53.501Z"
      },
      {
        "duration": 113,
        "start_time": "2024-03-26T14:22:05.796Z"
      },
      {
        "duration": 9,
        "start_time": "2024-03-26T14:22:33.781Z"
      },
      {
        "duration": 4,
        "start_time": "2024-03-26T14:22:42.533Z"
      },
      {
        "duration": 3,
        "start_time": "2024-03-26T14:22:48.364Z"
      },
      {
        "duration": 4,
        "start_time": "2024-03-26T14:22:52.197Z"
      },
      {
        "duration": 3,
        "start_time": "2024-03-26T14:23:34.694Z"
      },
      {
        "duration": 110,
        "start_time": "2024-03-26T14:24:17.360Z"
      },
      {
        "duration": 10,
        "start_time": "2024-03-26T14:25:03.048Z"
      },
      {
        "duration": 3,
        "start_time": "2024-03-26T14:25:15.201Z"
      },
      {
        "duration": 3,
        "start_time": "2024-03-26T14:25:21.425Z"
      },
      {
        "duration": 8,
        "start_time": "2024-03-26T14:25:27.449Z"
      },
      {
        "duration": 4,
        "start_time": "2024-03-26T14:25:38.016Z"
      },
      {
        "duration": 4,
        "start_time": "2024-03-26T14:25:43.297Z"
      },
      {
        "duration": 4,
        "start_time": "2024-03-26T14:25:47.489Z"
      },
      {
        "duration": 3,
        "start_time": "2024-03-26T14:25:53.041Z"
      },
      {
        "duration": 4,
        "start_time": "2024-03-26T14:25:54.977Z"
      },
      {
        "duration": 4,
        "start_time": "2024-03-26T14:25:59.897Z"
      },
      {
        "duration": 3,
        "start_time": "2024-03-26T14:26:03.161Z"
      },
      {
        "duration": 4,
        "start_time": "2024-03-26T14:26:16.746Z"
      },
      {
        "duration": 4,
        "start_time": "2024-03-26T14:26:19.065Z"
      },
      {
        "duration": 8,
        "start_time": "2024-03-26T14:26:32.266Z"
      },
      {
        "duration": 3,
        "start_time": "2024-03-26T14:26:50.123Z"
      },
      {
        "duration": 3,
        "start_time": "2024-03-26T14:27:03.802Z"
      },
      {
        "duration": 5,
        "start_time": "2024-03-26T14:27:30.044Z"
      },
      {
        "duration": 10,
        "start_time": "2024-03-26T14:27:47.148Z"
      },
      {
        "duration": 5,
        "start_time": "2024-03-26T14:28:02.629Z"
      },
      {
        "duration": 4,
        "start_time": "2024-03-26T14:29:28.078Z"
      },
      {
        "duration": 5,
        "start_time": "2024-03-26T14:29:43.062Z"
      },
      {
        "duration": 3,
        "start_time": "2024-03-26T14:29:55.799Z"
      },
      {
        "duration": 5,
        "start_time": "2024-03-26T14:30:00.079Z"
      },
      {
        "duration": 4,
        "start_time": "2024-03-26T14:30:12.263Z"
      },
      {
        "duration": 7,
        "start_time": "2024-03-26T14:30:21.528Z"
      },
      {
        "duration": 5,
        "start_time": "2024-03-26T14:30:25.264Z"
      },
      {
        "duration": 8,
        "start_time": "2024-03-26T14:30:36.233Z"
      },
      {
        "duration": 5,
        "start_time": "2024-03-26T14:30:56.641Z"
      },
      {
        "duration": 4,
        "start_time": "2024-03-26T14:31:24.968Z"
      },
      {
        "duration": 4,
        "start_time": "2024-03-26T14:31:28.753Z"
      },
      {
        "duration": 3,
        "start_time": "2024-03-26T14:31:32.522Z"
      },
      {
        "duration": 4,
        "start_time": "2024-03-26T14:31:48.002Z"
      },
      {
        "duration": 11,
        "start_time": "2024-03-26T14:31:51.610Z"
      },
      {
        "duration": 4,
        "start_time": "2024-03-26T14:32:00.098Z"
      },
      {
        "duration": 4,
        "start_time": "2024-03-26T14:32:22.203Z"
      },
      {
        "duration": 4,
        "start_time": "2024-03-26T14:32:25.355Z"
      },
      {
        "duration": 4,
        "start_time": "2024-03-26T14:32:38.778Z"
      },
      {
        "duration": 5,
        "start_time": "2024-03-26T14:32:43.051Z"
      },
      {
        "duration": 4,
        "start_time": "2024-03-26T14:33:00.331Z"
      },
      {
        "duration": 4,
        "start_time": "2024-03-26T14:33:11.443Z"
      },
      {
        "duration": 4,
        "start_time": "2024-03-26T14:33:15.691Z"
      },
      {
        "duration": 9,
        "start_time": "2024-03-26T14:33:21.412Z"
      },
      {
        "duration": 3,
        "start_time": "2024-03-26T14:33:24.061Z"
      },
      {
        "duration": 11,
        "start_time": "2024-03-26T14:34:42.278Z"
      },
      {
        "duration": 9,
        "start_time": "2024-03-26T14:34:57.605Z"
      },
      {
        "duration": 8,
        "start_time": "2024-03-26T14:35:27.975Z"
      },
      {
        "duration": 4,
        "start_time": "2024-03-26T14:35:34.630Z"
      },
      {
        "duration": 100,
        "start_time": "2024-03-26T14:35:37.214Z"
      },
      {
        "duration": 4,
        "start_time": "2024-03-26T14:35:39.215Z"
      },
      {
        "duration": 119,
        "start_time": "2024-03-26T14:36:22.280Z"
      },
      {
        "duration": 5,
        "start_time": "2024-03-26T14:37:11.777Z"
      },
      {
        "duration": 5,
        "start_time": "2024-03-26T14:37:17.368Z"
      },
      {
        "duration": 8,
        "start_time": "2024-03-26T14:37:21.425Z"
      },
      {
        "duration": 104,
        "start_time": "2024-03-26T14:37:47.234Z"
      },
      {
        "duration": 327,
        "start_time": "2024-03-26T14:37:51.050Z"
      },
      {
        "duration": 3,
        "start_time": "2024-03-26T14:38:20.691Z"
      },
      {
        "duration": 10,
        "start_time": "2024-03-26T14:38:22.345Z"
      },
      {
        "duration": 10,
        "start_time": "2024-03-26T14:38:46.714Z"
      },
      {
        "duration": 10,
        "start_time": "2024-03-26T14:39:15.292Z"
      },
      {
        "duration": 3,
        "start_time": "2024-03-26T14:43:34.889Z"
      },
      {
        "duration": 77,
        "start_time": "2024-03-26T14:43:44.587Z"
      },
      {
        "duration": 88,
        "start_time": "2024-03-26T14:43:56.017Z"
      },
      {
        "duration": 78,
        "start_time": "2024-03-26T14:44:02.586Z"
      },
      {
        "duration": 80,
        "start_time": "2024-03-26T14:44:23.074Z"
      },
      {
        "duration": 81,
        "start_time": "2024-03-26T14:44:42.123Z"
      },
      {
        "duration": 102,
        "start_time": "2024-03-26T14:45:44.445Z"
      },
      {
        "duration": 109,
        "start_time": "2024-03-26T14:45:48.652Z"
      },
      {
        "duration": 81,
        "start_time": "2024-03-26T14:45:53.284Z"
      },
      {
        "duration": 80,
        "start_time": "2024-03-26T14:46:01.221Z"
      },
      {
        "duration": 110,
        "start_time": "2024-03-26T14:46:23.894Z"
      },
      {
        "duration": 116,
        "start_time": "2024-03-26T14:46:28.333Z"
      },
      {
        "duration": 125,
        "start_time": "2024-03-26T14:46:43.021Z"
      },
      {
        "duration": 129,
        "start_time": "2024-03-26T14:46:48.598Z"
      },
      {
        "duration": 128,
        "start_time": "2024-03-26T14:46:52.350Z"
      },
      {
        "duration": 79,
        "start_time": "2024-03-26T14:48:18.175Z"
      },
      {
        "duration": 79,
        "start_time": "2024-03-26T14:48:18.334Z"
      },
      {
        "duration": 79,
        "start_time": "2024-03-26T14:48:50.639Z"
      },
      {
        "duration": 82,
        "start_time": "2024-03-26T14:49:00.167Z"
      },
      {
        "duration": 12,
        "start_time": "2024-03-26T14:50:09.202Z"
      },
      {
        "duration": 5,
        "start_time": "2024-03-26T14:50:27.546Z"
      },
      {
        "duration": 5,
        "start_time": "2024-03-26T14:50:43.426Z"
      },
      {
        "duration": 160,
        "start_time": "2024-03-26T14:53:23.665Z"
      },
      {
        "duration": 152,
        "start_time": "2024-03-26T14:53:48.214Z"
      },
      {
        "duration": 119,
        "start_time": "2024-03-26T14:53:56.031Z"
      },
      {
        "duration": 77,
        "start_time": "2024-03-26T14:54:54.831Z"
      },
      {
        "duration": 76,
        "start_time": "2024-03-26T14:54:57.735Z"
      },
      {
        "duration": 82,
        "start_time": "2024-03-26T14:55:22.096Z"
      },
      {
        "duration": 89,
        "start_time": "2024-03-26T14:56:49.042Z"
      },
      {
        "duration": 1119,
        "start_time": "2024-03-26T14:58:55.949Z"
      },
      {
        "duration": 198,
        "start_time": "2024-03-26T14:58:57.070Z"
      },
      {
        "duration": 2,
        "start_time": "2024-03-26T14:58:57.270Z"
      },
      {
        "duration": 266,
        "start_time": "2024-03-26T14:58:57.274Z"
      },
      {
        "duration": 90,
        "start_time": "2024-03-26T14:58:57.541Z"
      },
      {
        "duration": 108,
        "start_time": "2024-03-26T14:58:57.632Z"
      },
      {
        "duration": 47,
        "start_time": "2024-03-26T14:58:57.741Z"
      },
      {
        "duration": 393,
        "start_time": "2024-03-26T14:58:57.790Z"
      },
      {
        "duration": 22,
        "start_time": "2024-03-26T14:58:58.185Z"
      },
      {
        "duration": 5,
        "start_time": "2024-03-26T14:58:58.209Z"
      },
      {
        "duration": 375,
        "start_time": "2024-03-26T14:58:58.216Z"
      },
      {
        "duration": 88,
        "start_time": "2024-03-26T14:58:58.592Z"
      },
      {
        "duration": 36,
        "start_time": "2024-03-26T14:58:58.681Z"
      },
      {
        "duration": 24,
        "start_time": "2024-03-26T14:58:58.718Z"
      },
      {
        "duration": 184,
        "start_time": "2024-03-26T14:58:58.744Z"
      },
      {
        "duration": 43,
        "start_time": "2024-03-26T14:58:58.930Z"
      },
      {
        "duration": 176,
        "start_time": "2024-03-26T14:58:58.975Z"
      },
      {
        "duration": 63,
        "start_time": "2024-03-26T14:58:59.152Z"
      },
      {
        "duration": 165,
        "start_time": "2024-03-26T14:58:59.217Z"
      },
      {
        "duration": 4,
        "start_time": "2024-03-26T14:58:59.383Z"
      },
      {
        "duration": 189,
        "start_time": "2024-03-26T14:58:59.388Z"
      },
      {
        "duration": 5,
        "start_time": "2024-03-26T14:58:59.578Z"
      },
      {
        "duration": 25,
        "start_time": "2024-03-26T14:58:59.584Z"
      },
      {
        "duration": 68,
        "start_time": "2024-03-26T14:58:59.611Z"
      },
      {
        "duration": 26,
        "start_time": "2024-03-26T14:58:59.681Z"
      },
      {
        "duration": 66,
        "start_time": "2024-03-26T14:58:59.709Z"
      },
      {
        "duration": 13,
        "start_time": "2024-03-26T15:03:54.380Z"
      },
      {
        "duration": 104,
        "start_time": "2024-03-26T15:04:31.667Z"
      },
      {
        "duration": 193,
        "start_time": "2024-03-26T15:04:39.227Z"
      },
      {
        "duration": 99,
        "start_time": "2024-03-26T15:04:45.861Z"
      },
      {
        "duration": 427,
        "start_time": "2024-03-26T15:04:57.468Z"
      },
      {
        "duration": 47,
        "start_time": "2024-03-27T12:00:31.873Z"
      },
      {
        "duration": 1257,
        "start_time": "2024-03-27T12:00:36.900Z"
      },
      {
        "duration": 877,
        "start_time": "2024-03-27T12:00:38.159Z"
      },
      {
        "duration": 3,
        "start_time": "2024-03-27T12:00:39.038Z"
      },
      {
        "duration": 286,
        "start_time": "2024-03-27T12:00:39.044Z"
      },
      {
        "duration": 96,
        "start_time": "2024-03-27T12:00:39.331Z"
      },
      {
        "duration": 111,
        "start_time": "2024-03-27T12:00:39.429Z"
      },
      {
        "duration": 55,
        "start_time": "2024-03-27T12:00:39.542Z"
      },
      {
        "duration": 433,
        "start_time": "2024-03-27T12:00:39.599Z"
      },
      {
        "duration": 24,
        "start_time": "2024-03-27T12:00:40.033Z"
      },
      {
        "duration": 7,
        "start_time": "2024-03-27T12:00:40.060Z"
      },
      {
        "duration": 366,
        "start_time": "2024-03-27T12:00:40.081Z"
      },
      {
        "duration": 96,
        "start_time": "2024-03-27T12:00:40.448Z"
      },
      {
        "duration": 46,
        "start_time": "2024-03-27T12:00:40.546Z"
      },
      {
        "duration": 25,
        "start_time": "2024-03-27T12:00:40.593Z"
      },
      {
        "duration": 193,
        "start_time": "2024-03-27T12:00:40.619Z"
      },
      {
        "duration": 39,
        "start_time": "2024-03-27T12:00:40.813Z"
      },
      {
        "duration": 203,
        "start_time": "2024-03-27T12:00:40.854Z"
      },
      {
        "duration": 72,
        "start_time": "2024-03-27T12:00:41.059Z"
      },
      {
        "duration": 166,
        "start_time": "2024-03-27T12:00:41.133Z"
      },
      {
        "duration": 3,
        "start_time": "2024-03-27T12:00:41.301Z"
      },
      {
        "duration": 184,
        "start_time": "2024-03-27T12:00:41.306Z"
      },
      {
        "duration": 4,
        "start_time": "2024-03-27T12:00:41.492Z"
      },
      {
        "duration": 18,
        "start_time": "2024-03-27T12:00:41.498Z"
      },
      {
        "duration": 21,
        "start_time": "2024-03-27T12:00:41.518Z"
      },
      {
        "duration": 12,
        "start_time": "2024-03-27T12:00:41.540Z"
      },
      {
        "duration": 35,
        "start_time": "2024-03-27T12:00:41.553Z"
      },
      {
        "duration": 2571,
        "start_time": "2024-03-27T12:01:02.400Z"
      },
      {
        "duration": 2838,
        "start_time": "2024-03-27T12:01:17.880Z"
      },
      {
        "duration": 572,
        "start_time": "2024-03-27T12:02:29.737Z"
      },
      {
        "duration": 24959,
        "start_time": "2024-03-27T12:02:37.065Z"
      },
      {
        "duration": 4340,
        "start_time": "2024-03-27T12:03:05.705Z"
      },
      {
        "duration": 3886,
        "start_time": "2024-03-27T12:03:12.209Z"
      },
      {
        "duration": 3441,
        "start_time": "2024-03-27T12:03:24.050Z"
      },
      {
        "duration": 3100,
        "start_time": "2024-03-27T12:03:33.289Z"
      },
      {
        "duration": 3046,
        "start_time": "2024-03-27T12:03:41.714Z"
      },
      {
        "duration": 101,
        "start_time": "2024-03-27T12:04:14.098Z"
      },
      {
        "duration": 95,
        "start_time": "2024-03-27T12:04:32.051Z"
      },
      {
        "duration": 100,
        "start_time": "2024-03-27T12:04:37.603Z"
      },
      {
        "duration": 37,
        "start_time": "2024-03-27T12:04:44.163Z"
      },
      {
        "duration": 3075,
        "start_time": "2024-03-27T12:05:03.851Z"
      },
      {
        "duration": 3181,
        "start_time": "2024-03-27T12:05:15.188Z"
      },
      {
        "duration": 1564,
        "start_time": "2024-03-27T12:05:44.854Z"
      },
      {
        "duration": 1465,
        "start_time": "2024-03-27T12:07:50.417Z"
      },
      {
        "duration": 2661,
        "start_time": "2024-03-27T12:08:04.920Z"
      },
      {
        "duration": 2729,
        "start_time": "2024-03-27T12:08:13.688Z"
      },
      {
        "duration": 2625,
        "start_time": "2024-03-27T12:08:17.769Z"
      },
      {
        "duration": 1577,
        "start_time": "2024-03-27T12:46:12.754Z"
      },
      {
        "duration": 114,
        "start_time": "2024-03-27T12:46:49.891Z"
      },
      {
        "duration": 24,
        "start_time": "2024-03-27T12:46:55.610Z"
      },
      {
        "duration": 25,
        "start_time": "2024-03-27T12:46:59.626Z"
      },
      {
        "duration": 9,
        "start_time": "2024-03-27T12:47:13.769Z"
      },
      {
        "duration": 10,
        "start_time": "2024-03-27T12:47:19.529Z"
      },
      {
        "duration": 5,
        "start_time": "2024-03-27T12:47:24.298Z"
      },
      {
        "duration": 10,
        "start_time": "2024-03-27T12:47:44.203Z"
      },
      {
        "duration": 10,
        "start_time": "2024-03-27T12:48:13.819Z"
      },
      {
        "duration": 12,
        "start_time": "2024-03-27T12:48:25.594Z"
      },
      {
        "duration": 11,
        "start_time": "2024-03-27T12:48:42.251Z"
      },
      {
        "duration": 9,
        "start_time": "2024-03-27T12:51:52.180Z"
      },
      {
        "duration": 1643,
        "start_time": "2024-03-27T12:51:58.742Z"
      },
      {
        "duration": 11,
        "start_time": "2024-03-27T12:52:05.101Z"
      },
      {
        "duration": 11,
        "start_time": "2024-03-27T12:52:08.580Z"
      },
      {
        "duration": 7,
        "start_time": "2024-03-27T12:52:36.141Z"
      },
      {
        "duration": 10,
        "start_time": "2024-03-27T12:53:20.958Z"
      },
      {
        "duration": 9,
        "start_time": "2024-03-27T12:53:26.086Z"
      },
      {
        "duration": 7,
        "start_time": "2024-03-27T12:53:30.517Z"
      },
      {
        "duration": 8,
        "start_time": "2024-03-27T12:53:36.549Z"
      },
      {
        "duration": 2727,
        "start_time": "2024-03-27T12:54:24.191Z"
      },
      {
        "duration": 8,
        "start_time": "2024-03-27T12:55:10.855Z"
      },
      {
        "duration": 8,
        "start_time": "2024-03-27T12:55:18.503Z"
      },
      {
        "duration": 8,
        "start_time": "2024-03-27T12:55:56.431Z"
      },
      {
        "duration": 9,
        "start_time": "2024-03-27T12:56:36.640Z"
      },
      {
        "duration": 312,
        "start_time": "2024-03-27T12:56:42.513Z"
      },
      {
        "duration": 1383,
        "start_time": "2024-03-27T12:56:49.976Z"
      },
      {
        "duration": 1374,
        "start_time": "2024-03-27T12:57:02.064Z"
      },
      {
        "duration": 8,
        "start_time": "2024-03-27T13:04:44.430Z"
      },
      {
        "duration": 2754,
        "start_time": "2024-03-27T13:05:21.359Z"
      },
      {
        "duration": 4001,
        "start_time": "2024-03-27T13:06:19.649Z"
      },
      {
        "duration": 3401,
        "start_time": "2024-03-27T13:06:35.032Z"
      },
      {
        "duration": 2906,
        "start_time": "2024-03-27T13:07:13.681Z"
      },
      {
        "duration": 441,
        "start_time": "2024-03-27T13:07:48.506Z"
      },
      {
        "duration": 700,
        "start_time": "2024-03-27T13:07:52.537Z"
      },
      {
        "duration": 708,
        "start_time": "2024-03-27T13:07:56.666Z"
      },
      {
        "duration": 1358,
        "start_time": "2024-03-27T13:08:01.961Z"
      },
      {
        "duration": 99,
        "start_time": "2024-03-27T13:08:20.330Z"
      },
      {
        "duration": 1573,
        "start_time": "2024-03-27T13:08:24.250Z"
      },
      {
        "duration": 1613,
        "start_time": "2024-03-27T13:08:32.035Z"
      },
      {
        "duration": 3044,
        "start_time": "2024-03-27T13:08:43.931Z"
      },
      {
        "duration": 3407,
        "start_time": "2024-03-27T13:08:54.922Z"
      },
      {
        "duration": 98,
        "start_time": "2024-03-27T13:09:47.996Z"
      },
      {
        "duration": 8,
        "start_time": "2024-03-27T13:10:11.772Z"
      },
      {
        "duration": 99,
        "start_time": "2024-03-27T13:10:16.172Z"
      },
      {
        "duration": 99,
        "start_time": "2024-03-27T13:10:21.667Z"
      },
      {
        "duration": 109,
        "start_time": "2024-03-27T13:10:26.892Z"
      },
      {
        "duration": 433,
        "start_time": "2024-03-27T13:10:56.251Z"
      },
      {
        "duration": 731,
        "start_time": "2024-03-27T13:11:00.116Z"
      },
      {
        "duration": 712,
        "start_time": "2024-03-27T13:11:19.509Z"
      },
      {
        "duration": 9,
        "start_time": "2024-03-27T13:12:28.117Z"
      },
      {
        "duration": 8,
        "start_time": "2024-03-27T13:12:32.709Z"
      },
      {
        "duration": 13,
        "start_time": "2024-03-27T13:12:38.527Z"
      },
      {
        "duration": 861,
        "start_time": "2024-03-27T13:15:56.736Z"
      },
      {
        "duration": 736,
        "start_time": "2024-03-27T13:16:11.289Z"
      },
      {
        "duration": 875,
        "start_time": "2024-03-27T13:18:11.491Z"
      },
      {
        "duration": 705,
        "start_time": "2024-03-27T13:18:18.579Z"
      },
      {
        "duration": 242,
        "start_time": "2024-03-27T13:19:17.092Z"
      },
      {
        "duration": 98,
        "start_time": "2024-03-27T13:19:20.164Z"
      },
      {
        "duration": 111,
        "start_time": "2024-03-27T13:19:23.476Z"
      },
      {
        "duration": 6,
        "start_time": "2024-03-27T13:21:33.606Z"
      },
      {
        "duration": 11,
        "start_time": "2024-03-27T13:21:39.574Z"
      },
      {
        "duration": 127,
        "start_time": "2024-03-27T13:21:55.798Z"
      },
      {
        "duration": 754,
        "start_time": "2024-03-27T13:22:35.614Z"
      },
      {
        "duration": 915,
        "start_time": "2024-03-27T13:26:35.002Z"
      },
      {
        "duration": 994,
        "start_time": "2024-03-27T13:41:00.976Z"
      },
      {
        "duration": 907,
        "start_time": "2024-03-27T13:41:05.383Z"
      },
      {
        "duration": 881,
        "start_time": "2024-03-27T13:41:14.975Z"
      },
      {
        "duration": 720,
        "start_time": "2024-03-27T13:42:37.898Z"
      },
      {
        "duration": 841,
        "start_time": "2024-03-27T13:42:43.017Z"
      },
      {
        "duration": 698,
        "start_time": "2024-03-27T13:43:08.194Z"
      },
      {
        "duration": 917,
        "start_time": "2024-03-27T13:50:01.016Z"
      },
      {
        "duration": 1316,
        "start_time": "2024-03-27T13:50:55.116Z"
      },
      {
        "duration": 103,
        "start_time": "2024-03-27T13:51:06.892Z"
      },
      {
        "duration": 765,
        "start_time": "2024-03-27T13:51:10.565Z"
      },
      {
        "duration": 350,
        "start_time": "2024-03-27T13:51:37.374Z"
      },
      {
        "duration": 912,
        "start_time": "2024-03-27T13:51:44.686Z"
      },
      {
        "duration": 713,
        "start_time": "2024-03-27T13:52:07.807Z"
      },
      {
        "duration": 220,
        "start_time": "2024-03-27T13:52:11.687Z"
      },
      {
        "duration": 1117,
        "start_time": "2024-03-27T13:56:14.939Z"
      },
      {
        "duration": 212,
        "start_time": "2024-03-27T13:56:16.058Z"
      },
      {
        "duration": 9,
        "start_time": "2024-03-27T13:56:16.272Z"
      },
      {
        "duration": 299,
        "start_time": "2024-03-27T13:56:16.283Z"
      },
      {
        "duration": 97,
        "start_time": "2024-03-27T13:56:16.585Z"
      },
      {
        "duration": 113,
        "start_time": "2024-03-27T13:56:16.683Z"
      },
      {
        "duration": 41,
        "start_time": "2024-03-27T13:56:16.798Z"
      },
      {
        "duration": 783,
        "start_time": "2024-03-27T13:56:16.841Z"
      },
      {
        "duration": 233,
        "start_time": "2024-03-27T13:56:17.626Z"
      },
      {
        "duration": 6,
        "start_time": "2024-03-27T13:56:17.861Z"
      },
      {
        "duration": 490,
        "start_time": "2024-03-27T13:56:17.882Z"
      },
      {
        "duration": 107,
        "start_time": "2024-03-27T13:56:18.374Z"
      },
      {
        "duration": 39,
        "start_time": "2024-03-27T13:56:18.482Z"
      },
      {
        "duration": 27,
        "start_time": "2024-03-27T13:56:18.523Z"
      },
      {
        "duration": 201,
        "start_time": "2024-03-27T13:56:18.551Z"
      },
      {
        "duration": 48,
        "start_time": "2024-03-27T13:56:18.754Z"
      },
      {
        "duration": 197,
        "start_time": "2024-03-27T13:56:18.804Z"
      },
      {
        "duration": 62,
        "start_time": "2024-03-27T13:56:19.002Z"
      },
      {
        "duration": 182,
        "start_time": "2024-03-27T13:56:19.066Z"
      },
      {
        "duration": 4,
        "start_time": "2024-03-27T13:56:19.250Z"
      },
      {
        "duration": 138,
        "start_time": "2024-03-27T13:56:19.255Z"
      },
      {
        "duration": 5,
        "start_time": "2024-03-27T13:56:19.394Z"
      },
      {
        "duration": 21,
        "start_time": "2024-03-27T13:56:19.400Z"
      },
      {
        "duration": 16,
        "start_time": "2024-03-27T13:56:19.423Z"
      },
      {
        "duration": 13,
        "start_time": "2024-03-27T13:56:19.441Z"
      },
      {
        "duration": 35,
        "start_time": "2024-03-27T13:56:19.456Z"
      },
      {
        "duration": 346,
        "start_time": "2024-03-27T14:21:43.537Z"
      },
      {
        "duration": 338,
        "start_time": "2024-03-27T14:21:45.985Z"
      },
      {
        "duration": 230,
        "start_time": "2024-03-27T14:22:38.073Z"
      },
      {
        "duration": 301,
        "start_time": "2024-03-27T14:22:53.001Z"
      },
      {
        "duration": 1143,
        "start_time": "2024-03-27T14:23:03.040Z"
      },
      {
        "duration": 378,
        "start_time": "2024-03-27T14:23:05.577Z"
      },
      {
        "duration": 267,
        "start_time": "2024-03-27T14:23:11.887Z"
      },
      {
        "duration": 265,
        "start_time": "2024-03-27T14:23:14.792Z"
      },
      {
        "duration": 266,
        "start_time": "2024-03-27T14:23:34.672Z"
      },
      {
        "duration": 262,
        "start_time": "2024-03-27T14:23:52.672Z"
      },
      {
        "duration": 1043,
        "start_time": "2024-03-27T16:18:12.098Z"
      },
      {
        "duration": 205,
        "start_time": "2024-03-27T16:18:13.143Z"
      },
      {
        "duration": 3,
        "start_time": "2024-03-27T16:18:13.349Z"
      },
      {
        "duration": 278,
        "start_time": "2024-03-27T16:18:13.354Z"
      },
      {
        "duration": 90,
        "start_time": "2024-03-27T16:18:13.634Z"
      },
      {
        "duration": 112,
        "start_time": "2024-03-27T16:18:13.725Z"
      },
      {
        "duration": 47,
        "start_time": "2024-03-27T16:18:13.839Z"
      },
      {
        "duration": 743,
        "start_time": "2024-03-27T16:18:13.887Z"
      },
      {
        "duration": 260,
        "start_time": "2024-03-27T16:18:14.632Z"
      },
      {
        "duration": 5,
        "start_time": "2024-03-27T16:18:14.894Z"
      },
      {
        "duration": 491,
        "start_time": "2024-03-27T16:18:14.900Z"
      },
      {
        "duration": 119,
        "start_time": "2024-03-27T16:18:15.392Z"
      },
      {
        "duration": 89,
        "start_time": "2024-03-27T16:18:15.512Z"
      },
      {
        "duration": 98,
        "start_time": "2024-03-27T16:18:15.603Z"
      },
      {
        "duration": 379,
        "start_time": "2024-03-27T16:18:15.702Z"
      },
      {
        "duration": 39,
        "start_time": "2024-03-27T16:18:16.083Z"
      },
      {
        "duration": 391,
        "start_time": "2024-03-27T16:18:16.123Z"
      },
      {
        "duration": 166,
        "start_time": "2024-03-27T16:18:16.515Z"
      },
      {
        "duration": 318,
        "start_time": "2024-03-27T16:18:16.682Z"
      },
      {
        "duration": 4,
        "start_time": "2024-03-27T16:18:17.001Z"
      },
      {
        "duration": 132,
        "start_time": "2024-03-27T16:18:17.006Z"
      },
      {
        "duration": 5,
        "start_time": "2024-03-27T16:18:17.139Z"
      },
      {
        "duration": 36,
        "start_time": "2024-03-27T16:18:17.145Z"
      },
      {
        "duration": 11,
        "start_time": "2024-03-27T16:18:17.183Z"
      },
      {
        "duration": 23,
        "start_time": "2024-03-27T16:18:17.195Z"
      },
      {
        "duration": 19,
        "start_time": "2024-03-27T16:18:17.219Z"
      },
      {
        "duration": 6,
        "start_time": "2024-03-27T16:18:30.492Z"
      },
      {
        "duration": 4,
        "start_time": "2024-03-27T16:19:10.405Z"
      },
      {
        "duration": 9,
        "start_time": "2024-03-27T16:19:12.930Z"
      },
      {
        "duration": 105,
        "start_time": "2024-03-27T16:19:45.358Z"
      },
      {
        "duration": 10,
        "start_time": "2024-03-27T16:19:49.813Z"
      },
      {
        "duration": 11,
        "start_time": "2024-03-27T16:20:02.926Z"
      },
      {
        "duration": 10,
        "start_time": "2024-03-27T16:21:10.854Z"
      },
      {
        "duration": 10,
        "start_time": "2024-03-27T16:21:31.296Z"
      },
      {
        "duration": 11,
        "start_time": "2024-03-27T16:21:34.071Z"
      },
      {
        "duration": 7,
        "start_time": "2024-03-27T16:23:39.505Z"
      },
      {
        "duration": 9,
        "start_time": "2024-03-27T16:23:43.777Z"
      },
      {
        "duration": 12,
        "start_time": "2024-03-27T16:24:57.623Z"
      },
      {
        "duration": 19,
        "start_time": "2024-03-27T16:25:01.339Z"
      },
      {
        "duration": 17,
        "start_time": "2024-03-27T16:25:32.780Z"
      },
      {
        "duration": 26,
        "start_time": "2024-03-27T16:25:41.052Z"
      },
      {
        "duration": 19,
        "start_time": "2024-03-27T16:26:14.932Z"
      },
      {
        "duration": 103,
        "start_time": "2024-03-27T16:26:55.534Z"
      },
      {
        "duration": 17,
        "start_time": "2024-03-27T16:27:18.629Z"
      },
      {
        "duration": 30,
        "start_time": "2024-03-27T16:27:23.030Z"
      },
      {
        "duration": 26,
        "start_time": "2024-03-27T16:27:33.694Z"
      },
      {
        "duration": 24,
        "start_time": "2024-03-27T16:27:45.982Z"
      },
      {
        "duration": 31,
        "start_time": "2024-03-27T16:27:50.727Z"
      },
      {
        "duration": 21,
        "start_time": "2024-03-27T16:27:54.350Z"
      },
      {
        "duration": 21,
        "start_time": "2024-03-27T16:28:05.541Z"
      },
      {
        "duration": 19,
        "start_time": "2024-03-27T16:28:13.862Z"
      },
      {
        "duration": 29,
        "start_time": "2024-03-27T16:28:16.895Z"
      },
      {
        "duration": 23,
        "start_time": "2024-03-27T16:28:25.254Z"
      },
      {
        "duration": 11,
        "start_time": "2024-03-27T16:29:23.456Z"
      },
      {
        "duration": 16,
        "start_time": "2024-03-27T16:29:26.216Z"
      },
      {
        "duration": 16,
        "start_time": "2024-03-27T16:29:39.848Z"
      },
      {
        "duration": 15,
        "start_time": "2024-03-27T16:29:44.465Z"
      },
      {
        "duration": 17,
        "start_time": "2024-03-27T16:31:03.016Z"
      },
      {
        "duration": 13,
        "start_time": "2024-03-27T16:31:38.683Z"
      },
      {
        "duration": 108,
        "start_time": "2024-03-27T16:31:59.588Z"
      },
      {
        "duration": 11,
        "start_time": "2024-03-27T16:32:11.035Z"
      },
      {
        "duration": 110,
        "start_time": "2024-03-27T16:32:30.804Z"
      },
      {
        "duration": 12,
        "start_time": "2024-03-27T16:32:32.796Z"
      },
      {
        "duration": 9,
        "start_time": "2024-03-27T16:32:36.755Z"
      },
      {
        "duration": 103,
        "start_time": "2024-03-27T16:32:40.963Z"
      },
      {
        "duration": 1321,
        "start_time": "2024-03-27T16:32:44.220Z"
      },
      {
        "duration": 98,
        "start_time": "2024-03-27T16:32:49.828Z"
      },
      {
        "duration": 1235,
        "start_time": "2024-03-27T16:32:51.907Z"
      },
      {
        "duration": 1308,
        "start_time": "2024-03-27T16:33:14.909Z"
      },
      {
        "duration": 1273,
        "start_time": "2024-03-27T16:33:31.901Z"
      },
      {
        "duration": 1255,
        "start_time": "2024-03-27T16:33:41.789Z"
      },
      {
        "duration": 14,
        "start_time": "2024-03-27T16:33:48.221Z"
      },
      {
        "duration": 1282,
        "start_time": "2024-03-27T16:33:52.292Z"
      },
      {
        "duration": 15,
        "start_time": "2024-03-27T16:34:07.078Z"
      },
      {
        "duration": 9,
        "start_time": "2024-03-27T16:34:11.477Z"
      },
      {
        "duration": 12,
        "start_time": "2024-03-27T16:34:25.654Z"
      },
      {
        "duration": 14,
        "start_time": "2024-03-27T16:35:26.431Z"
      },
      {
        "duration": 10,
        "start_time": "2024-03-27T16:35:38.766Z"
      },
      {
        "duration": 1255,
        "start_time": "2024-03-27T16:36:03.015Z"
      },
      {
        "duration": 1273,
        "start_time": "2024-03-27T16:36:05.175Z"
      },
      {
        "duration": 12,
        "start_time": "2024-03-27T16:36:10.521Z"
      },
      {
        "duration": 14,
        "start_time": "2024-03-27T16:36:12.720Z"
      },
      {
        "duration": 15,
        "start_time": "2024-03-27T16:36:15.728Z"
      },
      {
        "duration": 9,
        "start_time": "2024-03-27T16:36:35.561Z"
      },
      {
        "duration": 13,
        "start_time": "2024-03-27T16:36:38.191Z"
      },
      {
        "duration": 11,
        "start_time": "2024-03-27T16:36:56.304Z"
      },
      {
        "duration": 9,
        "start_time": "2024-03-27T16:37:02.633Z"
      },
      {
        "duration": 18,
        "start_time": "2024-03-27T16:37:05.657Z"
      },
      {
        "duration": 120,
        "start_time": "2024-03-27T16:37:40.761Z"
      },
      {
        "duration": 16,
        "start_time": "2024-03-27T16:38:17.257Z"
      },
      {
        "duration": 18,
        "start_time": "2024-03-27T16:38:28.633Z"
      },
      {
        "duration": 94,
        "start_time": "2024-03-27T16:39:03.642Z"
      },
      {
        "duration": 100,
        "start_time": "2024-03-27T16:39:14.019Z"
      },
      {
        "duration": 91,
        "start_time": "2024-03-27T16:39:27.292Z"
      },
      {
        "duration": 96,
        "start_time": "2024-03-27T16:40:03.012Z"
      },
      {
        "duration": 95,
        "start_time": "2024-03-27T16:40:14.412Z"
      },
      {
        "duration": 391,
        "start_time": "2024-03-27T16:40:25.363Z"
      },
      {
        "duration": 105,
        "start_time": "2024-03-27T16:40:41.379Z"
      },
      {
        "duration": 100,
        "start_time": "2024-03-27T16:40:52.595Z"
      },
      {
        "duration": 101,
        "start_time": "2024-03-27T16:41:05.012Z"
      },
      {
        "duration": 4,
        "start_time": "2024-03-27T16:41:16.508Z"
      },
      {
        "duration": 18,
        "start_time": "2024-03-27T16:41:19.228Z"
      },
      {
        "duration": 13,
        "start_time": "2024-03-27T16:41:35.963Z"
      },
      {
        "duration": 13,
        "start_time": "2024-03-27T16:41:39.395Z"
      },
      {
        "duration": 14,
        "start_time": "2024-03-27T16:41:44.186Z"
      },
      {
        "duration": 1423,
        "start_time": "2024-03-27T16:42:09.150Z"
      },
      {
        "duration": 223,
        "start_time": "2024-03-27T16:42:10.575Z"
      },
      {
        "duration": 3,
        "start_time": "2024-03-27T16:42:10.800Z"
      },
      {
        "duration": 301,
        "start_time": "2024-03-27T16:42:10.806Z"
      },
      {
        "duration": 99,
        "start_time": "2024-03-27T16:42:11.109Z"
      },
      {
        "duration": 114,
        "start_time": "2024-03-27T16:42:11.210Z"
      },
      {
        "duration": 40,
        "start_time": "2024-03-27T16:42:11.326Z"
      },
      {
        "duration": 818,
        "start_time": "2024-03-27T16:42:11.368Z"
      },
      {
        "duration": 277,
        "start_time": "2024-03-27T16:42:12.187Z"
      },
      {
        "duration": 5,
        "start_time": "2024-03-27T16:42:12.467Z"
      },
      {
        "duration": 478,
        "start_time": "2024-03-27T16:42:12.473Z"
      },
      {
        "duration": 96,
        "start_time": "2024-03-27T16:42:12.953Z"
      },
      {
        "duration": 48,
        "start_time": "2024-03-27T16:42:13.050Z"
      },
      {
        "duration": 27,
        "start_time": "2024-03-27T16:42:13.099Z"
      },
      {
        "duration": 199,
        "start_time": "2024-03-27T16:42:13.127Z"
      },
      {
        "duration": 40,
        "start_time": "2024-03-27T16:42:13.327Z"
      },
      {
        "duration": 214,
        "start_time": "2024-03-27T16:42:13.368Z"
      },
      {
        "duration": 77,
        "start_time": "2024-03-27T16:42:13.584Z"
      },
      {
        "duration": 204,
        "start_time": "2024-03-27T16:42:13.662Z"
      },
      {
        "duration": 5,
        "start_time": "2024-03-27T16:42:13.867Z"
      },
      {
        "duration": 179,
        "start_time": "2024-03-27T16:42:13.874Z"
      },
      {
        "duration": 0,
        "start_time": "2024-03-27T16:42:14.055Z"
      },
      {
        "duration": 0,
        "start_time": "2024-03-27T16:42:14.056Z"
      },
      {
        "duration": 0,
        "start_time": "2024-03-27T16:42:14.057Z"
      },
      {
        "duration": 0,
        "start_time": "2024-03-27T16:42:14.059Z"
      },
      {
        "duration": 0,
        "start_time": "2024-03-27T16:42:14.060Z"
      },
      {
        "duration": 0,
        "start_time": "2024-03-27T16:42:14.061Z"
      },
      {
        "duration": 108,
        "start_time": "2024-03-27T16:43:19.084Z"
      },
      {
        "duration": 86,
        "start_time": "2024-03-27T16:43:24.335Z"
      },
      {
        "duration": 115,
        "start_time": "2024-03-27T16:43:39.525Z"
      },
      {
        "duration": 5,
        "start_time": "2024-03-27T16:43:46.692Z"
      },
      {
        "duration": 13,
        "start_time": "2024-03-27T16:43:48.444Z"
      },
      {
        "duration": 1101,
        "start_time": "2024-03-27T16:43:58.807Z"
      },
      {
        "duration": 218,
        "start_time": "2024-03-27T16:43:59.910Z"
      },
      {
        "duration": 3,
        "start_time": "2024-03-27T16:44:00.130Z"
      },
      {
        "duration": 368,
        "start_time": "2024-03-27T16:44:00.135Z"
      },
      {
        "duration": 92,
        "start_time": "2024-03-27T16:44:00.505Z"
      },
      {
        "duration": 206,
        "start_time": "2024-03-27T16:44:00.599Z"
      },
      {
        "duration": 117,
        "start_time": "2024-03-27T16:44:00.806Z"
      },
      {
        "duration": 814,
        "start_time": "2024-03-27T16:44:00.924Z"
      },
      {
        "duration": 282,
        "start_time": "2024-03-27T16:44:01.740Z"
      },
      {
        "duration": 6,
        "start_time": "2024-03-27T16:44:02.024Z"
      },
      {
        "duration": 463,
        "start_time": "2024-03-27T16:44:02.031Z"
      },
      {
        "duration": 104,
        "start_time": "2024-03-27T16:44:02.496Z"
      },
      {
        "duration": 37,
        "start_time": "2024-03-27T16:44:02.602Z"
      },
      {
        "duration": 80,
        "start_time": "2024-03-27T16:44:02.640Z"
      },
      {
        "duration": 202,
        "start_time": "2024-03-27T16:44:02.722Z"
      },
      {
        "duration": 42,
        "start_time": "2024-03-27T16:44:02.925Z"
      },
      {
        "duration": 201,
        "start_time": "2024-03-27T16:44:02.969Z"
      },
      {
        "duration": 67,
        "start_time": "2024-03-27T16:44:03.171Z"
      },
      {
        "duration": 173,
        "start_time": "2024-03-27T16:44:03.239Z"
      },
      {
        "duration": 4,
        "start_time": "2024-03-27T16:44:03.413Z"
      },
      {
        "duration": 165,
        "start_time": "2024-03-27T16:44:03.419Z"
      },
      {
        "duration": 5,
        "start_time": "2024-03-27T16:44:03.585Z"
      },
      {
        "duration": 53,
        "start_time": "2024-03-27T16:44:03.592Z"
      },
      {
        "duration": 38,
        "start_time": "2024-03-27T16:44:03.646Z"
      },
      {
        "duration": 63,
        "start_time": "2024-03-27T16:44:03.686Z"
      },
      {
        "duration": 21,
        "start_time": "2024-03-27T16:44:03.751Z"
      }
    ],
    "kernelspec": {
      "display_name": "Python 3 (ipykernel)",
      "language": "python",
      "name": "python3"
    },
    "language_info": {
      "codemirror_mode": {
        "name": "ipython",
        "version": 3
      },
      "file_extension": ".py",
      "mimetype": "text/x-python",
      "name": "python",
      "nbconvert_exporter": "python",
      "pygments_lexer": "ipython3",
      "version": "3.9.5"
    },
    "toc": {
      "base_numbering": 1,
      "nav_menu": {},
      "number_sections": true,
      "sideBar": true,
      "skip_h1_title": true,
      "title_cell": "Table of Contents",
      "title_sidebar": "Contents",
      "toc_cell": false,
      "toc_position": {
        "height": "calc(100% - 180px)",
        "left": "10px",
        "top": "150px",
        "width": "517.333px"
      },
      "toc_section_display": true,
      "toc_window_display": true
    },
    "colab": {
      "provenance": []
    }
  },
  "nbformat": 4,
  "nbformat_minor": 0
}