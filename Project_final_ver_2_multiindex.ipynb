{
 "cells": [
  {
   "cell_type": "markdown",
   "metadata": {},
   "source": [
    "<div style=\"border-radius: 15px; box-shadow: 2px 2px 4px; border: 1px solid; background:#bdc3c7; position: relative; padding: 15px; padding-left: 80px;\">\n",
    "<img src=\"https://lh3.googleusercontent.com/a/AAcHTtc31jlywy-FMYxLAouSSqNAmm5NsrBvivwRIASNt7wihI2ClYdpAbzWNqcigfcR04LfvopHwsJrJpnVr4UXDkCHtWk=s432-c-no\" width=\"45\" height=\"45\" style=\"position: absolute; top: 15px; left: 15px; border-radius: 50%;\">\n",
    "<h7 style=\"color:black; margin-bottom:20px\"> Алексей, привет! Меня зовут Егошин Михаил, я буду проводить ревью на этом спринте.\n",
    "\n",
    "Если ты не против, давай общаться на \"ты\", так я думаю будет комфортнее и удобнее.\n",
    "\n",
    "Мои комментарии и замечания далее по тексту помечены различными цветами:\n",
    "\n",
    "---\n",
    "<div class=\"alert alert-block alert-danger\">\n",
    "⁉️ : Критическое замечание, которые следует исправить.\n",
    "</div>\n",
    "\n",
    "<div class=\"alert alert-block alert-warning\">\n",
    "✏️ : Рекомендация\\совет на будущее.\n",
    "</div>\n",
    "\n",
    "<div class=\"alert alert-block alert-success\">\n",
    "✔️ : Когда всё сделано правильно.\n",
    "</div>\n",
    "\n",
    "---\n",
    "\n",
    "Хорошей практикой является оставлять свои комментарии после исправлений замечаний или для вопросов, разъяснений. Для того чтобы мне было легче их найти, то выделяй, пожалуйста, с помощью цвета, например вот так:\n",
    "\n",
    "<div class=\"alert alert-info\" style=\"border-radius: 15px; box-shadow: 4px 4px 4px; border: 1px solid \" ><b> Комментарий студента : </b>\n",
    "\n",
    "Вопрос, который не останется незамеченным\n",
    "\n",
    "</div>\n",
    "\n",
    "---\n",
    "\n",
    "\n",
    "**В рамках ревью есть лимит на количество итераций проверок. Я буду для информативности их отмечать в итоговом ревью:**\n",
    "\n",
    "<div class=\"alert alert-danger\" style=\"border-radius: 15px; box-shadow: 4px 4px 4px; border: 1px solid \">\n",
    "\n",
    "**`[1/6]`**\n",
    "\n",
    "Итог ревью - ...\n",
    "\n",
    "</div>\n",
    "\n",
    "p.s.: не удаляй мои замечания, если предстоит что-то доработать в проекте.</h7>"
   ]
  },
  {
   "cell_type": "markdown",
   "metadata": {},
   "source": [
    "----\n",
    "\n",
    "<div id=\"1\" class=\"alert alert-success\" style=\"border-radius: 15px; box-shadow: 4px 4px 4px; border: 1px solid; position: relative; padding: 15px; padding-left: 80px;\">\n",
    "<img src=\"https://lh3.googleusercontent.com/a/AAcHTtc31jlywy-FMYxLAouSSqNAmm5NsrBvivwRIASNt7wihI2ClYdpAbzWNqcigfcR04LfvopHwsJrJpnVr4UXDkCHtWk=s432-c-no\" width=\"45\" height=\"45\" style=\"position: absolute; top: 15px; left: 15px; border-radius: 50%;\">\n",
    "<b> 🚀 ИТОГИ РЕВЬЮ 🚀 : </b>\n",
    "\n",
    "В целом, ты проделал отличную работу! Верные расчеты, грамотная интерпретация полученных результатов. По результатам A/A/B-эксперимента сделал вывод о влиянии изменения шрифта в приложении на конверсию пользователей.\n",
    "\n",
    "Ты наглядно показал умение использовать данные инструменты для решения подобного рода аналитических задач.\n",
    "\n",
    "Я оставил некоторые рекомендации. Посмотри их, пожалуйста\n",
    "\n",
    "---\n",
    "\n",
    "В качестве, развивающей обратной связи могу порекомендовать следующие материалы по A/B тестированию:\n",
    "\n",
    "* [[AvitoTech] Как устроено A/B-тестирование в Авито](https://habr.com/ru/company/avito/blog/454164/)\n",
    "* [[AvitoTech] Как улучшить ваши A/B-тесты: лайфхаки аналитиков Авито. Часть 1](https://habr.com/ru/company/avito/blog/571094/)\n",
    "* [[AvitoTech] Как улучшить ваши A/B-тесты: лайфхаки аналитиков Авито. Часть 2](https://habr.com/ru/company/avito/blog/571096/)\n",
    "* [[EXPF] Дисбаланс в A/B-тестах. Есть ли разница между 99%/1% и 50%/50% в экспериментах?](https://medium.com/statistics-experiments/%D0%B4%D0%B8%D1%81%D0%B1%D0%B0%D0%BB%D0%B0%D0%BD%D1%81-%D0%B2-a-b-%D1%82%D0%B5%D1%81%D1%82%D0%B0%D1%85-%D0%B5%D1%81%D1%82%D1%8C-%D0%BB%D0%B8-%D1%80%D0%B0%D0%B7%D0%BD%D0%B8%D1%86%D0%B0-%D0%BC%D0%B5%D0%B6%D0%B4%D1%83-99-1-%D0%B8-50-50-%D0%B2-%D1%8D%D0%BA%D1%81%D0%BF%D0%B5%D1%80%D0%B8%D0%BC%D0%B5%D0%BD%D1%82%D0%B0%D1%85-11c8f4fe7eb4) (VPN для просмотра)\n",
    "* [[Рон Кохави] Доверительное A/B тестирование](https://dmkpress.com/catalog/computer/software_development/978-5-97060-913-2/) \n",
    "\n",
    "Надеюсь, они тебе помогут в будущих проектах. Успехов тебе!\n",
    "\n",
    "</div>\n",
    "\n",
    "---"
   ]
  },
  {
   "cell_type": "markdown",
   "metadata": {},
   "source": [
    "# Проект \"Событийный анализ стартапа по продаже продуктов\"\n",
    "\n",
    "## Описание проекта\n",
    "\n",
    "Вы работаете в стартапе, который продаёт продукты питания. Нужно разобраться, как ведут себя пользователи вашего мобильного приложения. \n",
    "\n",
    "\n",
    "Изучите воронку продаж. Узнайте, как пользователи доходят до покупки. Сколько пользователей доходит до покупки, а сколько — «застревает» на предыдущих шагах? На каких именно?\n",
    "\n",
    "После этого исследуйте результаты A/A/B-эксперимента. Дизайнеры захотели поменять шрифты во всём приложении, а менеджеры испугались, что пользователям будет непривычно. Договорились принять решение по результатам A/A/B-теста. Пользователей разбили на 3 группы: 2 контрольные со старыми шрифтами и одну экспериментальную — с новыми. Выясните, какой шрифт лучше.\n",
    "\n",
    "Создание двух групп A вместо одной имеет определённые преимущества. Если две контрольные группы окажутся равны, вы можете быть уверены в точности проведенного тестирования. Если же между значениями A и A будут существенные различия, это поможет обнаружить факторы, которые привели к искажению результатов. Сравнение контрольных групп также помогает понять, сколько времени и данных потребуется для дальнейших тестов.\n",
    "\n",
    "В случае общей аналитики и A/A/B-эксперимента работайте с одними и теми же данными. В реальных проектах всегда идут эксперименты. Аналитики исследуют качество работы приложения по общим данным, не учитывая принадлежность пользователей к экспериментам.\n",
    "\n",
    "**Описание данных**\n",
    "\n",
    "Каждая запись в логе — это действие пользователя, или событие. \n",
    "\n",
    "**EventName** — название события;\n",
    "\n",
    "**DeviceIDHash** — уникальный идентификатор пользователя;\n",
    "\n",
    "**EventTimestamp** — время события;\n",
    "\n",
    "**ExpId** — номер эксперимента: 246 и 247 — контрольные группы, а 248 — экспериментальная.\n",
    "\n",
    "**Инструкция по выполнению проекта**\n",
    "\n",
    "**Шаг 1.** Откройте файл с данными и изучите общую информацию\n",
    "\n",
    "**Шаг 2.** Подготовьте данные\n",
    "\n",
    "Замените названия столбцов на удобные для вас;\n",
    "\n",
    "Проверьте пропуски и типы данных. Откорректируйте, если нужно;\n",
    "\n",
    "Добавьте столбец даты и времени, а также отдельный столбец дат;\n",
    "\n",
    "**Шаг 3.** Изучите и проверьте данные\n",
    "\n",
    "Сколько всего событий в логе?\n",
    "\n",
    "Сколько всего пользователей в логе?\n",
    "\n",
    "Сколько в среднем событий приходится на пользователя?\n",
    "\n",
    "Данными за какой период вы располагаете? Найдите максимальную и минимальную дату. Изучите, как меняется количество данных: постройте столбчатую диаграмму, которая отобразит количество событий в зависимости от времени в разрезе групп. Можно ли быть уверенным, что у вас одинаково полные данные за весь период? Технически в логи новых дней по некоторым пользователям могут «доезжать» события из прошлого — это может «перекашивать данные». Определите, с какого момента данные полные и отбросьте более старые. Данными за какой период времени вы располагаете на самом деле?\n",
    "\n",
    "Много ли событий и пользователей вы потеряли, отбросив старые данные?\n",
    "\n",
    "Проверьте, что у вас есть пользователи из всех трёх экспериментальных групп.\n",
    "\n",
    "**Шаг 4.** Изучите воронку событий\n",
    "\n",
    "Посмотрите, какие события есть в логах, как часто они встречаются. Отсортируйте события по частоте.\n",
    "\n",
    "Посчитайте, сколько пользователей совершали каждое из этих событий. Отсортируйте события по числу пользователей. Посчитайте долю пользователей, которые хоть раз совершали событие.\n",
    "\n",
    "Предположите, в каком порядке происходят события. Все ли они выстраиваются в последовательную цепочку? Их не нужно учитывать при расчёте воронки.\n",
    "\n",
    "По воронке событий посчитайте, какая доля пользователей проходит на следующий шаг воронки (от числа пользователей на предыдущем). То есть для последовательности событий A → B → C посчитайте отношение числа пользователей с событием B к количеству пользователей с событием A, а также отношение числа пользователей с событием C к количеству пользователей с событием B.\n",
    "\n",
    "На каком шаге теряете больше всего пользователей?\n",
    "\n",
    "Какая доля пользователей доходит от первого события до оплаты?\n",
    "\n",
    "**Шаг 5.** Изучите результаты эксперимента\n",
    "\n",
    "Сколько пользователей в каждой экспериментальной группе?\n",
    "\n",
    "Есть 2 контрольные группы для А/А-эксперимента, чтобы проверить корректность всех механизмов и расчётов. Проверьте, находят ли статистические критерии разницу между выборками 246 и 247.\n",
    "\n",
    "Выберите самое популярное событие. Посчитайте число пользователей, совершивших это событие в каждой из контрольных групп. Посчитайте долю пользователей, совершивших это событие. Проверьте, будет ли отличие между группами статистически достоверным. Проделайте то же самое для всех других событий (удобно обернуть проверку в отдельную функцию). Можно ли сказать, что разбиение на группы работает корректно?\n",
    "\n",
    "Аналогично поступите с группой с изменённым шрифтом. Сравните результаты с каждой из контрольных групп в отдельности по каждому событию. Сравните результаты с объединённой контрольной группой. Какие выводы из эксперимента можно сделать?\n",
    "\n",
    "Какой уровень значимости вы выбрали при проверке статистических гипотез выше? Посчитайте, сколько проверок статистических гипотез вы сделали. При уровне значимости 0.1 в 10% случаев можно ошибочно отклонить нулевую гипотезу при условии, что она верна. Какой уровень значимости стоит применить? Если вы хотите изменить его, проделайте предыдущие пункты и проверьте свои выводы."
   ]
  },
  {
   "cell_type": "markdown",
   "metadata": {},
   "source": [
    "<div class=\"alert alert-success\" style=\"border-radius: 15px; box-shadow: 4px 4px 4px; border: 1px solid; position: relative; padding: 15px; padding-left: 80px;\">\n",
    "<img src=\"https://lh3.googleusercontent.com/a/AAcHTtc31jlywy-FMYxLAouSSqNAmm5NsrBvivwRIASNt7wihI2ClYdpAbzWNqcigfcR04LfvopHwsJrJpnVr4UXDkCHtWk=s432-c-no\" width=\"45\" height=\"45\" style=\"position: absolute; top: 15px; left: 15px; border-radius: 50%;\">\n",
    "<b> ✔️ Комментарий ревьюера  : </b>\n",
    "\n",
    "Очень хорошо, что представлено описание работы и обозначены цели исследования. Так будет сразу понятно о чем проект.\n",
    "\n",
    "</div>"
   ]
  },
  {
   "cell_type": "markdown",
   "metadata": {},
   "source": [
    "## Загрузка и предобработка данных\n",
    "\n",
    "### Загрузка данных"
   ]
  },
  {
   "cell_type": "code",
   "execution_count": 1,
   "metadata": {},
   "outputs": [],
   "source": [
    "#импорт необходимых библиотек\n",
    "import pandas as pd\n",
    "\n",
    "import matplotlib.pyplot as plt\n",
    "\n",
    "import numpy as np\n",
    "\n",
    "import math\n",
    "\n",
    "from scipy import stats as st\n",
    "\n",
    "from datetime import datetime as dt\n",
    "\n",
    "#настройка ширины отображаемых колонок\n",
    "pd.set_option('max_colwidth', 120)"
   ]
  },
  {
   "cell_type": "code",
   "execution_count": 2,
   "metadata": {},
   "outputs": [
    {
     "data": {
      "text/html": [
       "<div>\n",
       "<style scoped>\n",
       "    .dataframe tbody tr th:only-of-type {\n",
       "        vertical-align: middle;\n",
       "    }\n",
       "\n",
       "    .dataframe tbody tr th {\n",
       "        vertical-align: top;\n",
       "    }\n",
       "\n",
       "    .dataframe thead th {\n",
       "        text-align: right;\n",
       "    }\n",
       "</style>\n",
       "<table border=\"1\" class=\"dataframe\">\n",
       "  <thead>\n",
       "    <tr style=\"text-align: right;\">\n",
       "      <th></th>\n",
       "      <th>EventName</th>\n",
       "      <th>DeviceIDHash</th>\n",
       "      <th>EventTimestamp</th>\n",
       "      <th>ExpId</th>\n",
       "    </tr>\n",
       "  </thead>\n",
       "  <tbody>\n",
       "    <tr>\n",
       "      <th>0</th>\n",
       "      <td>MainScreenAppear</td>\n",
       "      <td>4575588528974610257</td>\n",
       "      <td>1564029816</td>\n",
       "      <td>246</td>\n",
       "    </tr>\n",
       "    <tr>\n",
       "      <th>1</th>\n",
       "      <td>MainScreenAppear</td>\n",
       "      <td>7416695313311560658</td>\n",
       "      <td>1564053102</td>\n",
       "      <td>246</td>\n",
       "    </tr>\n",
       "    <tr>\n",
       "      <th>2</th>\n",
       "      <td>PaymentScreenSuccessful</td>\n",
       "      <td>3518123091307005509</td>\n",
       "      <td>1564054127</td>\n",
       "      <td>248</td>\n",
       "    </tr>\n",
       "    <tr>\n",
       "      <th>3</th>\n",
       "      <td>CartScreenAppear</td>\n",
       "      <td>3518123091307005509</td>\n",
       "      <td>1564054127</td>\n",
       "      <td>248</td>\n",
       "    </tr>\n",
       "    <tr>\n",
       "      <th>4</th>\n",
       "      <td>PaymentScreenSuccessful</td>\n",
       "      <td>6217807653094995999</td>\n",
       "      <td>1564055322</td>\n",
       "      <td>248</td>\n",
       "    </tr>\n",
       "    <tr>\n",
       "      <th>5</th>\n",
       "      <td>CartScreenAppear</td>\n",
       "      <td>6217807653094995999</td>\n",
       "      <td>1564055323</td>\n",
       "      <td>248</td>\n",
       "    </tr>\n",
       "    <tr>\n",
       "      <th>6</th>\n",
       "      <td>OffersScreenAppear</td>\n",
       "      <td>8351860793733343758</td>\n",
       "      <td>1564066242</td>\n",
       "      <td>246</td>\n",
       "    </tr>\n",
       "    <tr>\n",
       "      <th>7</th>\n",
       "      <td>MainScreenAppear</td>\n",
       "      <td>5682100281902512875</td>\n",
       "      <td>1564085677</td>\n",
       "      <td>246</td>\n",
       "    </tr>\n",
       "    <tr>\n",
       "      <th>8</th>\n",
       "      <td>MainScreenAppear</td>\n",
       "      <td>1850981295691852772</td>\n",
       "      <td>1564086702</td>\n",
       "      <td>247</td>\n",
       "    </tr>\n",
       "    <tr>\n",
       "      <th>9</th>\n",
       "      <td>MainScreenAppear</td>\n",
       "      <td>5407636962369102641</td>\n",
       "      <td>1564112112</td>\n",
       "      <td>246</td>\n",
       "    </tr>\n",
       "    <tr>\n",
       "      <th>10</th>\n",
       "      <td>MainScreenAppear</td>\n",
       "      <td>948465712512390382</td>\n",
       "      <td>1564119214</td>\n",
       "      <td>247</td>\n",
       "    </tr>\n",
       "    <tr>\n",
       "      <th>11</th>\n",
       "      <td>MainScreenAppear</td>\n",
       "      <td>2547684315586332355</td>\n",
       "      <td>1564123826</td>\n",
       "      <td>248</td>\n",
       "    </tr>\n",
       "    <tr>\n",
       "      <th>12</th>\n",
       "      <td>MainScreenAppear</td>\n",
       "      <td>8885295911290764495</td>\n",
       "      <td>1564124085</td>\n",
       "      <td>248</td>\n",
       "    </tr>\n",
       "    <tr>\n",
       "      <th>13</th>\n",
       "      <td>MainScreenAppear</td>\n",
       "      <td>2140904690380565988</td>\n",
       "      <td>1564125732</td>\n",
       "      <td>247</td>\n",
       "    </tr>\n",
       "    <tr>\n",
       "      <th>14</th>\n",
       "      <td>MainScreenAppear</td>\n",
       "      <td>4444236400320272864</td>\n",
       "      <td>1564135560</td>\n",
       "      <td>246</td>\n",
       "    </tr>\n",
       "    <tr>\n",
       "      <th>15</th>\n",
       "      <td>MainScreenAppear</td>\n",
       "      <td>8947220251154009657</td>\n",
       "      <td>1564140668</td>\n",
       "      <td>248</td>\n",
       "    </tr>\n",
       "    <tr>\n",
       "      <th>16</th>\n",
       "      <td>MainScreenAppear</td>\n",
       "      <td>5839517684026830712</td>\n",
       "      <td>1564141421</td>\n",
       "      <td>247</td>\n",
       "    </tr>\n",
       "    <tr>\n",
       "      <th>17</th>\n",
       "      <td>MainScreenAppear</td>\n",
       "      <td>7540130374989658208</td>\n",
       "      <td>1564144283</td>\n",
       "      <td>248</td>\n",
       "    </tr>\n",
       "    <tr>\n",
       "      <th>18</th>\n",
       "      <td>CartScreenAppear</td>\n",
       "      <td>2575393697599976818</td>\n",
       "      <td>1564148945</td>\n",
       "      <td>247</td>\n",
       "    </tr>\n",
       "    <tr>\n",
       "      <th>19</th>\n",
       "      <td>MainScreenAppear</td>\n",
       "      <td>4651149533106703820</td>\n",
       "      <td>1564149866</td>\n",
       "      <td>246</td>\n",
       "    </tr>\n",
       "  </tbody>\n",
       "</table>\n",
       "</div>"
      ],
      "text/plain": [
       "                  EventName         DeviceIDHash  EventTimestamp  ExpId\n",
       "0          MainScreenAppear  4575588528974610257      1564029816    246\n",
       "1          MainScreenAppear  7416695313311560658      1564053102    246\n",
       "2   PaymentScreenSuccessful  3518123091307005509      1564054127    248\n",
       "3          CartScreenAppear  3518123091307005509      1564054127    248\n",
       "4   PaymentScreenSuccessful  6217807653094995999      1564055322    248\n",
       "5          CartScreenAppear  6217807653094995999      1564055323    248\n",
       "6        OffersScreenAppear  8351860793733343758      1564066242    246\n",
       "7          MainScreenAppear  5682100281902512875      1564085677    246\n",
       "8          MainScreenAppear  1850981295691852772      1564086702    247\n",
       "9          MainScreenAppear  5407636962369102641      1564112112    246\n",
       "10         MainScreenAppear   948465712512390382      1564119214    247\n",
       "11         MainScreenAppear  2547684315586332355      1564123826    248\n",
       "12         MainScreenAppear  8885295911290764495      1564124085    248\n",
       "13         MainScreenAppear  2140904690380565988      1564125732    247\n",
       "14         MainScreenAppear  4444236400320272864      1564135560    246\n",
       "15         MainScreenAppear  8947220251154009657      1564140668    248\n",
       "16         MainScreenAppear  5839517684026830712      1564141421    247\n",
       "17         MainScreenAppear  7540130374989658208      1564144283    248\n",
       "18         CartScreenAppear  2575393697599976818      1564148945    247\n",
       "19         MainScreenAppear  4651149533106703820      1564149866    246"
      ]
     },
     "metadata": {},
     "output_type": "display_data"
    },
    {
     "name": "stdout",
     "output_type": "stream",
     "text": [
      "<class 'pandas.core.frame.DataFrame'>\n",
      "RangeIndex: 244126 entries, 0 to 244125\n",
      "Data columns (total 4 columns):\n",
      " #   Column          Non-Null Count   Dtype \n",
      "---  ------          --------------   ----- \n",
      " 0   EventName       244126 non-null  object\n",
      " 1   DeviceIDHash    244126 non-null  int64 \n",
      " 2   EventTimestamp  244126 non-null  int64 \n",
      " 3   ExpId           244126 non-null  int64 \n",
      "dtypes: int64(3), object(1)\n",
      "memory usage: 7.5+ MB\n"
     ]
    }
   ],
   "source": [
    "#загрузка данных\n",
    "data = pd.read_csv('/datasets/logs_exp.csv', sep='\\t')\n",
    "\n",
    "#вывод первых строк датафрейма\n",
    "display(data.head(20))\n",
    "\n",
    "#основная информация о датафрейме\n",
    "data.info()"
   ]
  },
  {
   "cell_type": "markdown",
   "metadata": {},
   "source": [
    "Данные отображаются корректно. В качестве разделителя в датасете используется \"\\t\".\n",
    "\n",
    "На этапе предобработки необходимо: \n",
    "\n",
    " - переименовать столбцы и привести их названия к стилю snake_case;\n",
    " - привести значения даты и времени события (столбец **EventTimestamp**) к типу pandas datetime;\n",
    " - добавить отдельный столбец дат.\n",
    "\n",
    "Пропусков нет."
   ]
  },
  {
   "cell_type": "markdown",
   "metadata": {},
   "source": [
    "### Предобработка данных\n",
    "\n",
    "#### Переименование столбцов"
   ]
  },
  {
   "cell_type": "code",
   "execution_count": 3,
   "metadata": {},
   "outputs": [],
   "source": [
    "data.columns = ['event_type','user_id','event_time','exp_id']"
   ]
  },
  {
   "cell_type": "markdown",
   "metadata": {},
   "source": [
    "#### Приведение значений сдаты и времени к типу данных pandas и добавление отдельного столбца дат"
   ]
  },
  {
   "cell_type": "code",
   "execution_count": 4,
   "metadata": {},
   "outputs": [
    {
     "data": {
      "text/html": [
       "<div>\n",
       "<style scoped>\n",
       "    .dataframe tbody tr th:only-of-type {\n",
       "        vertical-align: middle;\n",
       "    }\n",
       "\n",
       "    .dataframe tbody tr th {\n",
       "        vertical-align: top;\n",
       "    }\n",
       "\n",
       "    .dataframe thead th {\n",
       "        text-align: right;\n",
       "    }\n",
       "</style>\n",
       "<table border=\"1\" class=\"dataframe\">\n",
       "  <thead>\n",
       "    <tr style=\"text-align: right;\">\n",
       "      <th></th>\n",
       "      <th>event_type</th>\n",
       "      <th>user_id</th>\n",
       "      <th>event_time</th>\n",
       "      <th>exp_id</th>\n",
       "      <th>dt</th>\n",
       "    </tr>\n",
       "  </thead>\n",
       "  <tbody>\n",
       "    <tr>\n",
       "      <th>0</th>\n",
       "      <td>MainScreenAppear</td>\n",
       "      <td>4575588528974610257</td>\n",
       "      <td>2019-07-25 04:43:36</td>\n",
       "      <td>246</td>\n",
       "      <td>2019-07-25</td>\n",
       "    </tr>\n",
       "    <tr>\n",
       "      <th>1</th>\n",
       "      <td>MainScreenAppear</td>\n",
       "      <td>7416695313311560658</td>\n",
       "      <td>2019-07-25 11:11:42</td>\n",
       "      <td>246</td>\n",
       "      <td>2019-07-25</td>\n",
       "    </tr>\n",
       "    <tr>\n",
       "      <th>2</th>\n",
       "      <td>PaymentScreenSuccessful</td>\n",
       "      <td>3518123091307005509</td>\n",
       "      <td>2019-07-25 11:28:47</td>\n",
       "      <td>248</td>\n",
       "      <td>2019-07-25</td>\n",
       "    </tr>\n",
       "    <tr>\n",
       "      <th>3</th>\n",
       "      <td>CartScreenAppear</td>\n",
       "      <td>3518123091307005509</td>\n",
       "      <td>2019-07-25 11:28:47</td>\n",
       "      <td>248</td>\n",
       "      <td>2019-07-25</td>\n",
       "    </tr>\n",
       "    <tr>\n",
       "      <th>4</th>\n",
       "      <td>PaymentScreenSuccessful</td>\n",
       "      <td>6217807653094995999</td>\n",
       "      <td>2019-07-25 11:48:42</td>\n",
       "      <td>248</td>\n",
       "      <td>2019-07-25</td>\n",
       "    </tr>\n",
       "    <tr>\n",
       "      <th>5</th>\n",
       "      <td>CartScreenAppear</td>\n",
       "      <td>6217807653094995999</td>\n",
       "      <td>2019-07-25 11:48:43</td>\n",
       "      <td>248</td>\n",
       "      <td>2019-07-25</td>\n",
       "    </tr>\n",
       "    <tr>\n",
       "      <th>6</th>\n",
       "      <td>OffersScreenAppear</td>\n",
       "      <td>8351860793733343758</td>\n",
       "      <td>2019-07-25 14:50:42</td>\n",
       "      <td>246</td>\n",
       "      <td>2019-07-25</td>\n",
       "    </tr>\n",
       "    <tr>\n",
       "      <th>7</th>\n",
       "      <td>MainScreenAppear</td>\n",
       "      <td>5682100281902512875</td>\n",
       "      <td>2019-07-25 20:14:37</td>\n",
       "      <td>246</td>\n",
       "      <td>2019-07-25</td>\n",
       "    </tr>\n",
       "    <tr>\n",
       "      <th>8</th>\n",
       "      <td>MainScreenAppear</td>\n",
       "      <td>1850981295691852772</td>\n",
       "      <td>2019-07-25 20:31:42</td>\n",
       "      <td>247</td>\n",
       "      <td>2019-07-25</td>\n",
       "    </tr>\n",
       "    <tr>\n",
       "      <th>9</th>\n",
       "      <td>MainScreenAppear</td>\n",
       "      <td>5407636962369102641</td>\n",
       "      <td>2019-07-26 03:35:12</td>\n",
       "      <td>246</td>\n",
       "      <td>2019-07-26</td>\n",
       "    </tr>\n",
       "    <tr>\n",
       "      <th>10</th>\n",
       "      <td>MainScreenAppear</td>\n",
       "      <td>948465712512390382</td>\n",
       "      <td>2019-07-26 05:33:34</td>\n",
       "      <td>247</td>\n",
       "      <td>2019-07-26</td>\n",
       "    </tr>\n",
       "    <tr>\n",
       "      <th>11</th>\n",
       "      <td>MainScreenAppear</td>\n",
       "      <td>2547684315586332355</td>\n",
       "      <td>2019-07-26 06:50:26</td>\n",
       "      <td>248</td>\n",
       "      <td>2019-07-26</td>\n",
       "    </tr>\n",
       "    <tr>\n",
       "      <th>12</th>\n",
       "      <td>MainScreenAppear</td>\n",
       "      <td>8885295911290764495</td>\n",
       "      <td>2019-07-26 06:54:45</td>\n",
       "      <td>248</td>\n",
       "      <td>2019-07-26</td>\n",
       "    </tr>\n",
       "    <tr>\n",
       "      <th>13</th>\n",
       "      <td>MainScreenAppear</td>\n",
       "      <td>2140904690380565988</td>\n",
       "      <td>2019-07-26 07:22:12</td>\n",
       "      <td>247</td>\n",
       "      <td>2019-07-26</td>\n",
       "    </tr>\n",
       "    <tr>\n",
       "      <th>14</th>\n",
       "      <td>MainScreenAppear</td>\n",
       "      <td>4444236400320272864</td>\n",
       "      <td>2019-07-26 10:06:00</td>\n",
       "      <td>246</td>\n",
       "      <td>2019-07-26</td>\n",
       "    </tr>\n",
       "    <tr>\n",
       "      <th>15</th>\n",
       "      <td>MainScreenAppear</td>\n",
       "      <td>8947220251154009657</td>\n",
       "      <td>2019-07-26 11:31:08</td>\n",
       "      <td>248</td>\n",
       "      <td>2019-07-26</td>\n",
       "    </tr>\n",
       "    <tr>\n",
       "      <th>16</th>\n",
       "      <td>MainScreenAppear</td>\n",
       "      <td>5839517684026830712</td>\n",
       "      <td>2019-07-26 11:43:41</td>\n",
       "      <td>247</td>\n",
       "      <td>2019-07-26</td>\n",
       "    </tr>\n",
       "    <tr>\n",
       "      <th>17</th>\n",
       "      <td>MainScreenAppear</td>\n",
       "      <td>7540130374989658208</td>\n",
       "      <td>2019-07-26 12:31:23</td>\n",
       "      <td>248</td>\n",
       "      <td>2019-07-26</td>\n",
       "    </tr>\n",
       "    <tr>\n",
       "      <th>18</th>\n",
       "      <td>CartScreenAppear</td>\n",
       "      <td>2575393697599976818</td>\n",
       "      <td>2019-07-26 13:49:05</td>\n",
       "      <td>247</td>\n",
       "      <td>2019-07-26</td>\n",
       "    </tr>\n",
       "    <tr>\n",
       "      <th>19</th>\n",
       "      <td>MainScreenAppear</td>\n",
       "      <td>4651149533106703820</td>\n",
       "      <td>2019-07-26 14:04:26</td>\n",
       "      <td>246</td>\n",
       "      <td>2019-07-26</td>\n",
       "    </tr>\n",
       "  </tbody>\n",
       "</table>\n",
       "</div>"
      ],
      "text/plain": [
       "                 event_type              user_id          event_time  exp_id  \\\n",
       "0          MainScreenAppear  4575588528974610257 2019-07-25 04:43:36     246   \n",
       "1          MainScreenAppear  7416695313311560658 2019-07-25 11:11:42     246   \n",
       "2   PaymentScreenSuccessful  3518123091307005509 2019-07-25 11:28:47     248   \n",
       "3          CartScreenAppear  3518123091307005509 2019-07-25 11:28:47     248   \n",
       "4   PaymentScreenSuccessful  6217807653094995999 2019-07-25 11:48:42     248   \n",
       "5          CartScreenAppear  6217807653094995999 2019-07-25 11:48:43     248   \n",
       "6        OffersScreenAppear  8351860793733343758 2019-07-25 14:50:42     246   \n",
       "7          MainScreenAppear  5682100281902512875 2019-07-25 20:14:37     246   \n",
       "8          MainScreenAppear  1850981295691852772 2019-07-25 20:31:42     247   \n",
       "9          MainScreenAppear  5407636962369102641 2019-07-26 03:35:12     246   \n",
       "10         MainScreenAppear   948465712512390382 2019-07-26 05:33:34     247   \n",
       "11         MainScreenAppear  2547684315586332355 2019-07-26 06:50:26     248   \n",
       "12         MainScreenAppear  8885295911290764495 2019-07-26 06:54:45     248   \n",
       "13         MainScreenAppear  2140904690380565988 2019-07-26 07:22:12     247   \n",
       "14         MainScreenAppear  4444236400320272864 2019-07-26 10:06:00     246   \n",
       "15         MainScreenAppear  8947220251154009657 2019-07-26 11:31:08     248   \n",
       "16         MainScreenAppear  5839517684026830712 2019-07-26 11:43:41     247   \n",
       "17         MainScreenAppear  7540130374989658208 2019-07-26 12:31:23     248   \n",
       "18         CartScreenAppear  2575393697599976818 2019-07-26 13:49:05     247   \n",
       "19         MainScreenAppear  4651149533106703820 2019-07-26 14:04:26     246   \n",
       "\n",
       "            dt  \n",
       "0   2019-07-25  \n",
       "1   2019-07-25  \n",
       "2   2019-07-25  \n",
       "3   2019-07-25  \n",
       "4   2019-07-25  \n",
       "5   2019-07-25  \n",
       "6   2019-07-25  \n",
       "7   2019-07-25  \n",
       "8   2019-07-25  \n",
       "9   2019-07-26  \n",
       "10  2019-07-26  \n",
       "11  2019-07-26  \n",
       "12  2019-07-26  \n",
       "13  2019-07-26  \n",
       "14  2019-07-26  \n",
       "15  2019-07-26  \n",
       "16  2019-07-26  \n",
       "17  2019-07-26  \n",
       "18  2019-07-26  \n",
       "19  2019-07-26  "
      ]
     },
     "metadata": {},
     "output_type": "display_data"
    },
    {
     "name": "stdout",
     "output_type": "stream",
     "text": [
      "<class 'pandas.core.frame.DataFrame'>\n",
      "RangeIndex: 244126 entries, 0 to 244125\n",
      "Data columns (total 5 columns):\n",
      " #   Column      Non-Null Count   Dtype         \n",
      "---  ------      --------------   -----         \n",
      " 0   event_type  244126 non-null  object        \n",
      " 1   user_id     244126 non-null  int64         \n",
      " 2   event_time  244126 non-null  datetime64[ns]\n",
      " 3   exp_id      244126 non-null  int64         \n",
      " 4   dt          244126 non-null  object        \n",
      "dtypes: datetime64[ns](1), int64(2), object(2)\n",
      "memory usage: 9.3+ MB\n"
     ]
    }
   ],
   "source": [
    "#приведение значений сдаты и времени к типу данных pandas\n",
    "data['event_time'] = data['event_time'].map(lambda x: dt.fromtimestamp(x))\n",
    "\n",
    "#добавление отдельного столбца дат\n",
    "data['dt'] = data['event_time'].dt.date\n",
    "\n",
    "#вывод первых строк датафрейма\n",
    "display(data.head(20))\n",
    "\n",
    "#основная информация о датафрейме\n",
    "data.info()"
   ]
  },
  {
   "cell_type": "markdown",
   "metadata": {},
   "source": [
    "#### Обработка дубликатов"
   ]
  },
  {
   "cell_type": "code",
   "execution_count": 5,
   "metadata": {},
   "outputs": [
    {
     "data": {
      "text/plain": [
       "'Количество дубликатов сток в датафрейме: 413'"
      ]
     },
     "execution_count": 5,
     "metadata": {},
     "output_type": "execute_result"
    }
   ],
   "source": [
    "f'Количество дубликатов сток в датафрейме: {data.duplicated().sum()}'"
   ]
  },
  {
   "cell_type": "code",
   "execution_count": 6,
   "metadata": {},
   "outputs": [],
   "source": [
    "#удаление дубликатов\n",
    "data = data.drop_duplicates()"
   ]
  },
  {
   "cell_type": "markdown",
   "metadata": {},
   "source": [
    "### Вывод по разделу подготовки данных\n",
    "\n",
    "Данные загружены, названия столбцов переименованы и приведены к стилю snake_case. Столбец, содержащий даты, приведён к типу данных pandas datetime. Добавлен столбец с датами.\n",
    "\n",
    "Удалены 413 дублирующихся строк."
   ]
  },
  {
   "cell_type": "markdown",
   "metadata": {},
   "source": [
    "<div class=\"alert alert-success\" style=\"border-radius: 15px; box-shadow: 4px 4px 4px; border: 1px solid; position: relative; padding: 15px; padding-left: 80px;\">\n",
    "<img src=\"https://lh3.googleusercontent.com/a/AAcHTtc31jlywy-FMYxLAouSSqNAmm5NsrBvivwRIASNt7wihI2ClYdpAbzWNqcigfcR04LfvopHwsJrJpnVr4UXDkCHtWk=s432-c-no\" width=\"45\" height=\"45\" style=\"position: absolute; top: 15px; left: 15px; border-radius: 50%;\">\n",
    "<b> ✔️ Комментарий ревьюера  : </b>\n",
    "\n",
    "На этом этапе всё хорошо. Были корректно выгружены данные, содержимое файлов просмотрено. Выполнена первичная проверка на пропуски и дубликаты. Можно приступать к следующему шагу\n",
    "\n",
    "</div>"
   ]
  },
  {
   "cell_type": "markdown",
   "metadata": {},
   "source": [
    "## Исследовательский анализ данных\n",
    "\n",
    "### Изучение данных и проверка их на наличие аномалий и ошибок\n",
    "\n",
    "#### Количество событий, пользователей и их соотношение"
   ]
  },
  {
   "cell_type": "code",
   "execution_count": 7,
   "metadata": {},
   "outputs": [
    {
     "data": {
      "text/plain": [
       "\"Типы событий: ['MainScreenAppear' 'PaymentScreenSuccessful' 'CartScreenAppear'\\n 'OffersScreenAppear' 'Tutorial']\""
      ]
     },
     "metadata": {},
     "output_type": "display_data"
    },
    {
     "data": {
      "text/plain": [
       "'Общее количество событий: 243713'"
      ]
     },
     "metadata": {},
     "output_type": "display_data"
    },
    {
     "data": {
      "text/plain": [
       "'Количество пользователей: 7551'"
      ]
     },
     "metadata": {},
     "output_type": "display_data"
    },
    {
     "data": {
      "text/plain": [
       "'Среднее количество событий на пользователя: 32.28'"
      ]
     },
     "metadata": {},
     "output_type": "display_data"
    }
   ],
   "source": [
    "display(\n",
    "    f'Типы событий: {data[\"event_type\"].unique()}',\n",
    "    f'Общее количество событий: {len(data[\"event_type\"])}',\n",
    "    f'Количество пользователей: {data[\"user_id\"].nunique()}',\n",
    "    f'Среднее количество событий на пользователя: {data.groupby(\"user_id\")[\"event_type\"].agg(\"count\").mean():.2f}'\n",
    ")\n"
   ]
  },
  {
   "cell_type": "markdown",
   "metadata": {},
   "source": [
    "Изучим показатель количества событий на пользователя более подробно: оценим характер распределения этого значения, выведем его основные характеристики и гистограмму распределения значений."
   ]
  },
  {
   "cell_type": "code",
   "execution_count": 8,
   "metadata": {},
   "outputs": [
    {
     "data": {
      "image/png": "[encoded data removed]",
      "text/plain": [
       "<Figure size 1080x360 with 1 Axes>"
      ]
     },
     "metadata": {
      "needs_background": "light"
     },
     "output_type": "display_data"
    },
    {
     "data": {
      "text/html": [
       "<div>\n",
       "<style scoped>\n",
       "    .dataframe tbody tr th:only-of-type {\n",
       "        vertical-align: middle;\n",
       "    }\n",
       "\n",
       "    .dataframe tbody tr th {\n",
       "        vertical-align: top;\n",
       "    }\n",
       "\n",
       "    .dataframe thead th {\n",
       "        text-align: right;\n",
       "    }\n",
       "</style>\n",
       "<table border=\"1\" class=\"dataframe\">\n",
       "  <thead>\n",
       "    <tr style=\"text-align: right;\">\n",
       "      <th></th>\n",
       "      <th>events</th>\n",
       "    </tr>\n",
       "  </thead>\n",
       "  <tbody>\n",
       "    <tr>\n",
       "      <th>count</th>\n",
       "      <td>7551.000000</td>\n",
       "    </tr>\n",
       "    <tr>\n",
       "      <th>mean</th>\n",
       "      <td>32.275593</td>\n",
       "    </tr>\n",
       "    <tr>\n",
       "      <th>std</th>\n",
       "      <td>65.154219</td>\n",
       "    </tr>\n",
       "    <tr>\n",
       "      <th>min</th>\n",
       "      <td>1.000000</td>\n",
       "    </tr>\n",
       "    <tr>\n",
       "      <th>25%</th>\n",
       "      <td>9.000000</td>\n",
       "    </tr>\n",
       "    <tr>\n",
       "      <th>50%</th>\n",
       "      <td>20.000000</td>\n",
       "    </tr>\n",
       "    <tr>\n",
       "      <th>75%</th>\n",
       "      <td>37.000000</td>\n",
       "    </tr>\n",
       "    <tr>\n",
       "      <th>max</th>\n",
       "      <td>2307.000000</td>\n",
       "    </tr>\n",
       "  </tbody>\n",
       "</table>\n",
       "</div>"
      ],
      "text/plain": [
       "            events\n",
       "count  7551.000000\n",
       "mean     32.275593\n",
       "std      65.154219\n",
       "min       1.000000\n",
       "25%       9.000000\n",
       "50%      20.000000\n",
       "75%      37.000000\n",
       "max    2307.000000"
      ]
     },
     "execution_count": 8,
     "metadata": {},
     "output_type": "execute_result"
    }
   ],
   "source": [
    "events_by_users = data.pivot_table(index='user_id', values='event_type', aggfunc='count')\n",
    "events_by_users.columns = ['events']\n",
    "\n",
    "events_by_users['events'].hist(\n",
    "    bins=460,\n",
    "    figsize=(15,5)\n",
    ")\n",
    "\n",
    "plt.title('Гистограмма распределения количества событий на пользователя')\n",
    "plt.xlabel('Значения количества событий на пользователя')\n",
    "plt.ylabel('Частота значений')\n",
    "plt.show()\n",
    "events_by_users.describe()"
   ]
  },
  {
   "cell_type": "markdown",
   "metadata": {},
   "source": [
    "Медианное значение 20, что сильно отличается от среднего, стандартное отклонение 65, что при среднем в 32 говорит о большом разбросе значений. \n",
    "\n",
    "Минимальное значение 1, максимальное 2307. Основное количество значений сосредоточено между 1 и 79 (верхнаяя граница выбросов, равная Q3 + 1,5 * IQR). на гистограмме виден \"хвост\" из редких, но больших значений.\n",
    "\n",
    "Построим гистограмму, отбросив \"хвост\" из аномально больших значений."
   ]
  },
  {
   "cell_type": "code",
   "execution_count": 9,
   "metadata": {},
   "outputs": [
    {
     "data": {
      "image/png": "[encoded data removed]",
      "text/plain": [
       "<Figure size 1080x360 with 1 Axes>"
      ]
     },
     "metadata": {
      "needs_background": "light"
     },
     "output_type": "display_data"
    },
    {
     "data": {
      "text/html": [
       "<div>\n",
       "<style scoped>\n",
       "    .dataframe tbody tr th:only-of-type {\n",
       "        vertical-align: middle;\n",
       "    }\n",
       "\n",
       "    .dataframe tbody tr th {\n",
       "        vertical-align: top;\n",
       "    }\n",
       "\n",
       "    .dataframe thead th {\n",
       "        text-align: right;\n",
       "    }\n",
       "</style>\n",
       "<table border=\"1\" class=\"dataframe\">\n",
       "  <thead>\n",
       "    <tr style=\"text-align: right;\">\n",
       "      <th></th>\n",
       "      <th>events</th>\n",
       "    </tr>\n",
       "  </thead>\n",
       "  <tbody>\n",
       "    <tr>\n",
       "      <th>count</th>\n",
       "      <td>7043.000000</td>\n",
       "    </tr>\n",
       "    <tr>\n",
       "      <th>mean</th>\n",
       "      <td>22.906858</td>\n",
       "    </tr>\n",
       "    <tr>\n",
       "      <th>std</th>\n",
       "      <td>17.719600</td>\n",
       "    </tr>\n",
       "    <tr>\n",
       "      <th>min</th>\n",
       "      <td>1.000000</td>\n",
       "    </tr>\n",
       "    <tr>\n",
       "      <th>25%</th>\n",
       "      <td>9.000000</td>\n",
       "    </tr>\n",
       "    <tr>\n",
       "      <th>50%</th>\n",
       "      <td>18.000000</td>\n",
       "    </tr>\n",
       "    <tr>\n",
       "      <th>75%</th>\n",
       "      <td>33.000000</td>\n",
       "    </tr>\n",
       "    <tr>\n",
       "      <th>max</th>\n",
       "      <td>78.000000</td>\n",
       "    </tr>\n",
       "  </tbody>\n",
       "</table>\n",
       "</div>"
      ],
      "text/plain": [
       "            events\n",
       "count  7043.000000\n",
       "mean     22.906858\n",
       "std      17.719600\n",
       "min       1.000000\n",
       "25%       9.000000\n",
       "50%      18.000000\n",
       "75%      33.000000\n",
       "max      78.000000"
      ]
     },
     "execution_count": 9,
     "metadata": {},
     "output_type": "execute_result"
    }
   ],
   "source": [
    "events_by_users.query('events <= 79')['events'].hist(\n",
    "    bins=79,\n",
    "    figsize=(15,5)\n",
    ")\n",
    "\n",
    "plt.title('Гистограмма распределения количества событий на пользователя')\n",
    "plt.xlabel('Значения количества событий на пользователя')\n",
    "plt.ylabel('Частота значений')\n",
    "\n",
    "plt.show()\n",
    "events_by_users.query('events < 79').describe()\n"
   ]
  },
  {
   "cell_type": "markdown",
   "metadata": {},
   "source": [
    "Гистограмма выглядит характерно для биноминального распределения с малой вероятностью события относительно количества попыток. \n",
    "\n",
    "Редкие большие значения, выглядящие аномальными, скорее всего, говорят о самых активных пользователях, которые тратят много времени в приложении, и аномалиями не являются."
   ]
  },
  {
   "cell_type": "markdown",
   "metadata": {},
   "source": [
    "<div class=\"alert alert-warning\" style=\"border-radius: 15px; box-shadow: 4px 4px 4px; border: 1px solid; position: relative; padding: 15px; padding-left: 80px;\">\n",
    "<img src=\"https://lh3.googleusercontent.com/a/AAcHTtc31jlywy-FMYxLAouSSqNAmm5NsrBvivwRIASNt7wihI2ClYdpAbzWNqcigfcR04LfvopHwsJrJpnVr4UXDkCHtWk=s432-c-no\" width=\"45\" height=\"45\" style=\"position: absolute; top: 15px; left: 15px; border-radius: 50%;\">\n",
    "<b> ✏️ Рекомендация ревьюера: </b>\n",
    "\n",
    "Перед расчетом средней метрики, стоит оценить характер распределения данного показателя с использованием функции `describe` или гистограммы.\n",
    "\n",
    "Учти, что среднее арифметическое (mean) может быть чувствительным к выбросам и не всегда точно отражать картину при несимметричных распределениях данных.\n",
    "\n",
    "</div>"
   ]
  },
  {
   "cell_type": "markdown",
   "metadata": {},
   "source": [
    "#### Период, данные за который содержит датасет. Диаграмма количества событий по дате для разных групп"
   ]
  },
  {
   "cell_type": "code",
   "execution_count": 10,
   "metadata": {},
   "outputs": [
    {
     "data": {
      "text/plain": [
       "'В логе содержатся данные с 2019-07-25 04:43:36 по 2019-08-07 21:15:17'"
      ]
     },
     "execution_count": 10,
     "metadata": {},
     "output_type": "execute_result"
    }
   ],
   "source": [
    "f'В логе содержатся данные с {data[\"event_time\"].min()} по {data[\"event_time\"].max()}'"
   ]
  },
  {
   "cell_type": "code",
   "execution_count": 11,
   "metadata": {},
   "outputs": [
    {
     "data": {
      "text/html": [
       "<div>\n",
       "<style scoped>\n",
       "    .dataframe tbody tr th:only-of-type {\n",
       "        vertical-align: middle;\n",
       "    }\n",
       "\n",
       "    .dataframe tbody tr th {\n",
       "        vertical-align: top;\n",
       "    }\n",
       "\n",
       "    .dataframe thead th {\n",
       "        text-align: right;\n",
       "    }\n",
       "</style>\n",
       "<table border=\"1\" class=\"dataframe\">\n",
       "  <thead>\n",
       "    <tr style=\"text-align: right;\">\n",
       "      <th></th>\n",
       "      <th>dt</th>\n",
       "      <th>246</th>\n",
       "      <th>247</th>\n",
       "      <th>248</th>\n",
       "    </tr>\n",
       "  </thead>\n",
       "  <tbody>\n",
       "    <tr>\n",
       "      <th>0</th>\n",
       "      <td>2019-07-25</td>\n",
       "      <td>4</td>\n",
       "      <td>1</td>\n",
       "      <td>4</td>\n",
       "    </tr>\n",
       "    <tr>\n",
       "      <th>1</th>\n",
       "      <td>2019-07-26</td>\n",
       "      <td>14</td>\n",
       "      <td>8</td>\n",
       "      <td>9</td>\n",
       "    </tr>\n",
       "    <tr>\n",
       "      <th>2</th>\n",
       "      <td>2019-07-27</td>\n",
       "      <td>24</td>\n",
       "      <td>23</td>\n",
       "      <td>8</td>\n",
       "    </tr>\n",
       "    <tr>\n",
       "      <th>3</th>\n",
       "      <td>2019-07-28</td>\n",
       "      <td>33</td>\n",
       "      <td>36</td>\n",
       "      <td>36</td>\n",
       "    </tr>\n",
       "    <tr>\n",
       "      <th>4</th>\n",
       "      <td>2019-07-29</td>\n",
       "      <td>55</td>\n",
       "      <td>58</td>\n",
       "      <td>71</td>\n",
       "    </tr>\n",
       "    <tr>\n",
       "      <th>5</th>\n",
       "      <td>2019-07-30</td>\n",
       "      <td>129</td>\n",
       "      <td>138</td>\n",
       "      <td>145</td>\n",
       "    </tr>\n",
       "    <tr>\n",
       "      <th>6</th>\n",
       "      <td>2019-07-31</td>\n",
       "      <td>620</td>\n",
       "      <td>664</td>\n",
       "      <td>746</td>\n",
       "    </tr>\n",
       "    <tr>\n",
       "      <th>7</th>\n",
       "      <td>2019-08-01</td>\n",
       "      <td>11561</td>\n",
       "      <td>12306</td>\n",
       "      <td>12274</td>\n",
       "    </tr>\n",
       "    <tr>\n",
       "      <th>8</th>\n",
       "      <td>2019-08-02</td>\n",
       "      <td>10946</td>\n",
       "      <td>10990</td>\n",
       "      <td>13618</td>\n",
       "    </tr>\n",
       "    <tr>\n",
       "      <th>9</th>\n",
       "      <td>2019-08-03</td>\n",
       "      <td>10575</td>\n",
       "      <td>11024</td>\n",
       "      <td>11683</td>\n",
       "    </tr>\n",
       "    <tr>\n",
       "      <th>10</th>\n",
       "      <td>2019-08-04</td>\n",
       "      <td>11514</td>\n",
       "      <td>9942</td>\n",
       "      <td>11512</td>\n",
       "    </tr>\n",
       "    <tr>\n",
       "      <th>11</th>\n",
       "      <td>2019-08-05</td>\n",
       "      <td>12368</td>\n",
       "      <td>10949</td>\n",
       "      <td>12741</td>\n",
       "    </tr>\n",
       "    <tr>\n",
       "      <th>12</th>\n",
       "      <td>2019-08-06</td>\n",
       "      <td>11726</td>\n",
       "      <td>11720</td>\n",
       "      <td>12342</td>\n",
       "    </tr>\n",
       "    <tr>\n",
       "      <th>13</th>\n",
       "      <td>2019-08-07</td>\n",
       "      <td>10612</td>\n",
       "      <td>10091</td>\n",
       "      <td>10393</td>\n",
       "    </tr>\n",
       "  </tbody>\n",
       "</table>\n",
       "</div>"
      ],
      "text/plain": [
       "            dt    246    247    248\n",
       "0   2019-07-25      4      1      4\n",
       "1   2019-07-26     14      8      9\n",
       "2   2019-07-27     24     23      8\n",
       "3   2019-07-28     33     36     36\n",
       "4   2019-07-29     55     58     71\n",
       "5   2019-07-30    129    138    145\n",
       "6   2019-07-31    620    664    746\n",
       "7   2019-08-01  11561  12306  12274\n",
       "8   2019-08-02  10946  10990  13618\n",
       "9   2019-08-03  10575  11024  11683\n",
       "10  2019-08-04  11514   9942  11512\n",
       "11  2019-08-05  12368  10949  12741\n",
       "12  2019-08-06  11726  11720  12342\n",
       "13  2019-08-07  10612  10091  10393"
      ]
     },
     "metadata": {},
     "output_type": "display_data"
    },
    {
     "data": {
      "text/plain": [
       "<Figure size 1080x504 with 0 Axes>"
      ]
     },
     "metadata": {},
     "output_type": "display_data"
    },
    {
     "data": {
      "image/png": "[encoded data removed]",
      "text/plain": [
       "<Figure size 1080x720 with 1 Axes>"
      ]
     },
     "metadata": {
      "needs_background": "light"
     },
     "output_type": "display_data"
    }
   ],
   "source": [
    "#таблица для построения диаграммы количества событий по дате для разных групп\n",
    "events_date_groups = (\n",
    "    data.pivot_table(\n",
    "    index='dt', \n",
    "    columns='exp_id',\n",
    "    values='user_id',\n",
    "    aggfunc='count'\n",
    ").reset_index()\n",
    ")\n",
    " \n",
    "events_date_groups.columns=['dt','246','247','248']\n",
    "\n",
    "display(events_date_groups)\n",
    "\n",
    "#диаграмма\n",
    "plt.figure(figsize=(15,7))\n",
    "events_date_groups[['dt','246','247','248']].plot(\n",
    "    x='dt', \n",
    "    kind='bar', \n",
    "    figsize=(15,10), \n",
    "    width=0.7\n",
    ")\n",
    "plt.grid(True)\n",
    "plt.title('Количество событий по дате для разных групп')\n",
    "plt.xlabel('Дата')\n",
    "plt.ylabel('Количество событий')\n",
    "plt.xticks(rotation=45)\n",
    "plt.show();\n"
   ]
  },
  {
   "cell_type": "code",
   "execution_count": 12,
   "metadata": {},
   "outputs": [
    {
     "data": {
      "text/html": [
       "<div>\n",
       "<style scoped>\n",
       "    .dataframe tbody tr th:only-of-type {\n",
       "        vertical-align: middle;\n",
       "    }\n",
       "\n",
       "    .dataframe tbody tr th {\n",
       "        vertical-align: top;\n",
       "    }\n",
       "\n",
       "    .dataframe thead tr th {\n",
       "        text-align: left;\n",
       "    }\n",
       "</style>\n",
       "<table border=\"1\" class=\"dataframe\">\n",
       "  <thead>\n",
       "    <tr>\n",
       "      <th>exp_id</th>\n",
       "      <th>dt</th>\n",
       "      <th colspan=\"5\" halign=\"left\">246</th>\n",
       "      <th colspan=\"5\" halign=\"left\">247</th>\n",
       "      <th colspan=\"5\" halign=\"left\">248</th>\n",
       "    </tr>\n",
       "    <tr>\n",
       "      <th>event_type</th>\n",
       "      <th></th>\n",
       "      <th>CartScreenAppear</th>\n",
       "      <th>MainScreenAppear</th>\n",
       "      <th>OffersScreenAppear</th>\n",
       "      <th>PaymentScreenSuccessful</th>\n",
       "      <th>Tutorial</th>\n",
       "      <th>CartScreenAppear</th>\n",
       "      <th>MainScreenAppear</th>\n",
       "      <th>OffersScreenAppear</th>\n",
       "      <th>PaymentScreenSuccessful</th>\n",
       "      <th>Tutorial</th>\n",
       "      <th>CartScreenAppear</th>\n",
       "      <th>MainScreenAppear</th>\n",
       "      <th>OffersScreenAppear</th>\n",
       "      <th>PaymentScreenSuccessful</th>\n",
       "      <th>Tutorial</th>\n",
       "    </tr>\n",
       "  </thead>\n",
       "  <tbody>\n",
       "    <tr>\n",
       "      <th>0</th>\n",
       "      <td>2019-07-25</td>\n",
       "      <td>NaN</td>\n",
       "      <td>3.0</td>\n",
       "      <td>1.0</td>\n",
       "      <td>NaN</td>\n",
       "      <td>NaN</td>\n",
       "      <td>NaN</td>\n",
       "      <td>1.0</td>\n",
       "      <td>NaN</td>\n",
       "      <td>NaN</td>\n",
       "      <td>NaN</td>\n",
       "      <td>2.0</td>\n",
       "      <td>NaN</td>\n",
       "      <td>NaN</td>\n",
       "      <td>2.0</td>\n",
       "      <td>NaN</td>\n",
       "    </tr>\n",
       "    <tr>\n",
       "      <th>1</th>\n",
       "      <td>2019-07-26</td>\n",
       "      <td>4.0</td>\n",
       "      <td>5.0</td>\n",
       "      <td>3.0</td>\n",
       "      <td>2.0</td>\n",
       "      <td>NaN</td>\n",
       "      <td>1.0</td>\n",
       "      <td>4.0</td>\n",
       "      <td>1.0</td>\n",
       "      <td>NaN</td>\n",
       "      <td>2.0</td>\n",
       "      <td>1.0</td>\n",
       "      <td>7.0</td>\n",
       "      <td>NaN</td>\n",
       "      <td>1.0</td>\n",
       "      <td>NaN</td>\n",
       "    </tr>\n",
       "    <tr>\n",
       "      <th>2</th>\n",
       "      <td>2019-07-27</td>\n",
       "      <td>2.0</td>\n",
       "      <td>17.0</td>\n",
       "      <td>3.0</td>\n",
       "      <td>1.0</td>\n",
       "      <td>1.0</td>\n",
       "      <td>2.0</td>\n",
       "      <td>15.0</td>\n",
       "      <td>5.0</td>\n",
       "      <td>NaN</td>\n",
       "      <td>1.0</td>\n",
       "      <td>NaN</td>\n",
       "      <td>7.0</td>\n",
       "      <td>1.0</td>\n",
       "      <td>NaN</td>\n",
       "      <td>NaN</td>\n",
       "    </tr>\n",
       "    <tr>\n",
       "      <th>3</th>\n",
       "      <td>2019-07-28</td>\n",
       "      <td>7.0</td>\n",
       "      <td>19.0</td>\n",
       "      <td>4.0</td>\n",
       "      <td>3.0</td>\n",
       "      <td>NaN</td>\n",
       "      <td>6.0</td>\n",
       "      <td>16.0</td>\n",
       "      <td>9.0</td>\n",
       "      <td>5.0</td>\n",
       "      <td>NaN</td>\n",
       "      <td>11.0</td>\n",
       "      <td>18.0</td>\n",
       "      <td>3.0</td>\n",
       "      <td>4.0</td>\n",
       "      <td>NaN</td>\n",
       "    </tr>\n",
       "    <tr>\n",
       "      <th>4</th>\n",
       "      <td>2019-07-29</td>\n",
       "      <td>5.0</td>\n",
       "      <td>46.0</td>\n",
       "      <td>2.0</td>\n",
       "      <td>2.0</td>\n",
       "      <td>NaN</td>\n",
       "      <td>10.0</td>\n",
       "      <td>38.0</td>\n",
       "      <td>7.0</td>\n",
       "      <td>3.0</td>\n",
       "      <td>NaN</td>\n",
       "      <td>8.0</td>\n",
       "      <td>48.0</td>\n",
       "      <td>11.0</td>\n",
       "      <td>4.0</td>\n",
       "      <td>NaN</td>\n",
       "    </tr>\n",
       "    <tr>\n",
       "      <th>5</th>\n",
       "      <td>2019-07-30</td>\n",
       "      <td>12.0</td>\n",
       "      <td>99.0</td>\n",
       "      <td>9.0</td>\n",
       "      <td>9.0</td>\n",
       "      <td>NaN</td>\n",
       "      <td>16.0</td>\n",
       "      <td>86.0</td>\n",
       "      <td>23.0</td>\n",
       "      <td>13.0</td>\n",
       "      <td>NaN</td>\n",
       "      <td>21.0</td>\n",
       "      <td>94.0</td>\n",
       "      <td>19.0</td>\n",
       "      <td>11.0</td>\n",
       "      <td>NaN</td>\n",
       "    </tr>\n",
       "    <tr>\n",
       "      <th>6</th>\n",
       "      <td>2019-07-31</td>\n",
       "      <td>78.0</td>\n",
       "      <td>384.0</td>\n",
       "      <td>115.0</td>\n",
       "      <td>43.0</td>\n",
       "      <td>NaN</td>\n",
       "      <td>79.0</td>\n",
       "      <td>427.0</td>\n",
       "      <td>117.0</td>\n",
       "      <td>37.0</td>\n",
       "      <td>4.0</td>\n",
       "      <td>100.0</td>\n",
       "      <td>439.0</td>\n",
       "      <td>142.0</td>\n",
       "      <td>60.0</td>\n",
       "      <td>5.0</td>\n",
       "    </tr>\n",
       "    <tr>\n",
       "      <th>7</th>\n",
       "      <td>2019-08-01</td>\n",
       "      <td>2287.0</td>\n",
       "      <td>5370.0</td>\n",
       "      <td>2062.0</td>\n",
       "      <td>1785.0</td>\n",
       "      <td>57.0</td>\n",
       "      <td>2009.0</td>\n",
       "      <td>6256.0</td>\n",
       "      <td>2376.0</td>\n",
       "      <td>1585.0</td>\n",
       "      <td>80.0</td>\n",
       "      <td>1921.0</td>\n",
       "      <td>6319.0</td>\n",
       "      <td>2550.0</td>\n",
       "      <td>1401.0</td>\n",
       "      <td>83.0</td>\n",
       "    </tr>\n",
       "    <tr>\n",
       "      <th>8</th>\n",
       "      <td>2019-08-02</td>\n",
       "      <td>1764.0</td>\n",
       "      <td>5620.0</td>\n",
       "      <td>2241.0</td>\n",
       "      <td>1255.0</td>\n",
       "      <td>66.0</td>\n",
       "      <td>1915.0</td>\n",
       "      <td>5292.0</td>\n",
       "      <td>2208.0</td>\n",
       "      <td>1531.0</td>\n",
       "      <td>44.0</td>\n",
       "      <td>2843.0</td>\n",
       "      <td>5880.0</td>\n",
       "      <td>2475.0</td>\n",
       "      <td>2362.0</td>\n",
       "      <td>58.0</td>\n",
       "    </tr>\n",
       "    <tr>\n",
       "      <th>9</th>\n",
       "      <td>2019-08-03</td>\n",
       "      <td>2082.0</td>\n",
       "      <td>4671.0</td>\n",
       "      <td>2088.0</td>\n",
       "      <td>1685.0</td>\n",
       "      <td>49.0</td>\n",
       "      <td>2107.0</td>\n",
       "      <td>4942.0</td>\n",
       "      <td>2194.0</td>\n",
       "      <td>1725.0</td>\n",
       "      <td>56.0</td>\n",
       "      <td>2185.0</td>\n",
       "      <td>5219.0</td>\n",
       "      <td>2513.0</td>\n",
       "      <td>1709.0</td>\n",
       "      <td>57.0</td>\n",
       "    </tr>\n",
       "    <tr>\n",
       "      <th>10</th>\n",
       "      <td>2019-08-04</td>\n",
       "      <td>2238.0</td>\n",
       "      <td>5178.0</td>\n",
       "      <td>2191.0</td>\n",
       "      <td>1865.0</td>\n",
       "      <td>42.0</td>\n",
       "      <td>1603.0</td>\n",
       "      <td>4958.0</td>\n",
       "      <td>2095.0</td>\n",
       "      <td>1242.0</td>\n",
       "      <td>44.0</td>\n",
       "      <td>2314.0</td>\n",
       "      <td>5067.0</td>\n",
       "      <td>2201.0</td>\n",
       "      <td>1876.0</td>\n",
       "      <td>54.0</td>\n",
       "    </tr>\n",
       "    <tr>\n",
       "      <th>11</th>\n",
       "      <td>2019-08-05</td>\n",
       "      <td>2327.0</td>\n",
       "      <td>6010.0</td>\n",
       "      <td>2120.0</td>\n",
       "      <td>1880.0</td>\n",
       "      <td>31.0</td>\n",
       "      <td>1448.0</td>\n",
       "      <td>6062.0</td>\n",
       "      <td>2230.0</td>\n",
       "      <td>1152.0</td>\n",
       "      <td>57.0</td>\n",
       "      <td>2473.0</td>\n",
       "      <td>5933.0</td>\n",
       "      <td>2316.0</td>\n",
       "      <td>1992.0</td>\n",
       "      <td>27.0</td>\n",
       "    </tr>\n",
       "    <tr>\n",
       "      <th>12</th>\n",
       "      <td>2019-08-06</td>\n",
       "      <td>2068.0</td>\n",
       "      <td>5795.0</td>\n",
       "      <td>2090.0</td>\n",
       "      <td>1727.0</td>\n",
       "      <td>46.0</td>\n",
       "      <td>1768.0</td>\n",
       "      <td>6389.0</td>\n",
       "      <td>2103.0</td>\n",
       "      <td>1422.0</td>\n",
       "      <td>38.0</td>\n",
       "      <td>1897.0</td>\n",
       "      <td>6577.0</td>\n",
       "      <td>2340.0</td>\n",
       "      <td>1482.0</td>\n",
       "      <td>46.0</td>\n",
       "    </tr>\n",
       "    <tr>\n",
       "      <th>13</th>\n",
       "      <td>2019-08-07</td>\n",
       "      <td>1924.0</td>\n",
       "      <td>5032.0</td>\n",
       "      <td>1975.0</td>\n",
       "      <td>1655.0</td>\n",
       "      <td>26.0</td>\n",
       "      <td>1584.0</td>\n",
       "      <td>5191.0</td>\n",
       "      <td>1973.0</td>\n",
       "      <td>1324.0</td>\n",
       "      <td>19.0</td>\n",
       "      <td>1546.0</td>\n",
       "      <td>5567.0</td>\n",
       "      <td>1992.0</td>\n",
       "      <td>1263.0</td>\n",
       "      <td>25.0</td>\n",
       "    </tr>\n",
       "  </tbody>\n",
       "</table>\n",
       "</div>"
      ],
      "text/plain": [
       "exp_id              dt              246                                      \\\n",
       "event_type             CartScreenAppear MainScreenAppear OffersScreenAppear   \n",
       "0           2019-07-25              NaN              3.0                1.0   \n",
       "1           2019-07-26              4.0              5.0                3.0   \n",
       "2           2019-07-27              2.0             17.0                3.0   \n",
       "3           2019-07-28              7.0             19.0                4.0   \n",
       "4           2019-07-29              5.0             46.0                2.0   \n",
       "5           2019-07-30             12.0             99.0                9.0   \n",
       "6           2019-07-31             78.0            384.0              115.0   \n",
       "7           2019-08-01           2287.0           5370.0             2062.0   \n",
       "8           2019-08-02           1764.0           5620.0             2241.0   \n",
       "9           2019-08-03           2082.0           4671.0             2088.0   \n",
       "10          2019-08-04           2238.0           5178.0             2191.0   \n",
       "11          2019-08-05           2327.0           6010.0             2120.0   \n",
       "12          2019-08-06           2068.0           5795.0             2090.0   \n",
       "13          2019-08-07           1924.0           5032.0             1975.0   \n",
       "\n",
       "exp_id                                                   247                   \\\n",
       "event_type PaymentScreenSuccessful Tutorial CartScreenAppear MainScreenAppear   \n",
       "0                              NaN      NaN              NaN              1.0   \n",
       "1                              2.0      NaN              1.0              4.0   \n",
       "2                              1.0      1.0              2.0             15.0   \n",
       "3                              3.0      NaN              6.0             16.0   \n",
       "4                              2.0      NaN             10.0             38.0   \n",
       "5                              9.0      NaN             16.0             86.0   \n",
       "6                             43.0      NaN             79.0            427.0   \n",
       "7                           1785.0     57.0           2009.0           6256.0   \n",
       "8                           1255.0     66.0           1915.0           5292.0   \n",
       "9                           1685.0     49.0           2107.0           4942.0   \n",
       "10                          1865.0     42.0           1603.0           4958.0   \n",
       "11                          1880.0     31.0           1448.0           6062.0   \n",
       "12                          1727.0     46.0           1768.0           6389.0   \n",
       "13                          1655.0     26.0           1584.0           5191.0   \n",
       "\n",
       "exp_id                                                          \\\n",
       "event_type OffersScreenAppear PaymentScreenSuccessful Tutorial   \n",
       "0                         NaN                     NaN      NaN   \n",
       "1                         1.0                     NaN      2.0   \n",
       "2                         5.0                     NaN      1.0   \n",
       "3                         9.0                     5.0      NaN   \n",
       "4                         7.0                     3.0      NaN   \n",
       "5                        23.0                    13.0      NaN   \n",
       "6                       117.0                    37.0      4.0   \n",
       "7                      2376.0                  1585.0     80.0   \n",
       "8                      2208.0                  1531.0     44.0   \n",
       "9                      2194.0                  1725.0     56.0   \n",
       "10                     2095.0                  1242.0     44.0   \n",
       "11                     2230.0                  1152.0     57.0   \n",
       "12                     2103.0                  1422.0     38.0   \n",
       "13                     1973.0                  1324.0     19.0   \n",
       "\n",
       "exp_id                  248                                      \\\n",
       "event_type CartScreenAppear MainScreenAppear OffersScreenAppear   \n",
       "0                       2.0              NaN                NaN   \n",
       "1                       1.0              7.0                NaN   \n",
       "2                       NaN              7.0                1.0   \n",
       "3                      11.0             18.0                3.0   \n",
       "4                       8.0             48.0               11.0   \n",
       "5                      21.0             94.0               19.0   \n",
       "6                     100.0            439.0              142.0   \n",
       "7                    1921.0           6319.0             2550.0   \n",
       "8                    2843.0           5880.0             2475.0   \n",
       "9                    2185.0           5219.0             2513.0   \n",
       "10                   2314.0           5067.0             2201.0   \n",
       "11                   2473.0           5933.0             2316.0   \n",
       "12                   1897.0           6577.0             2340.0   \n",
       "13                   1546.0           5567.0             1992.0   \n",
       "\n",
       "exp_id                                       \n",
       "event_type PaymentScreenSuccessful Tutorial  \n",
       "0                              2.0      NaN  \n",
       "1                              1.0      NaN  \n",
       "2                              NaN      NaN  \n",
       "3                              4.0      NaN  \n",
       "4                              4.0      NaN  \n",
       "5                             11.0      NaN  \n",
       "6                             60.0      5.0  \n",
       "7                           1401.0     83.0  \n",
       "8                           2362.0     58.0  \n",
       "9                           1709.0     57.0  \n",
       "10                          1876.0     54.0  \n",
       "11                          1992.0     27.0  \n",
       "12                          1482.0     46.0  \n",
       "13                          1263.0     25.0  "
      ]
     },
     "execution_count": 12,
     "metadata": {},
     "output_type": "execute_result"
    }
   ],
   "source": [
    "events_date_groups = (\n",
    "    data.pivot_table(\n",
    "    index='dt', \n",
    "    columns=['exp_id', 'event_type'],\n",
    "    values='user_id',\n",
    "    aggfunc='count'\n",
    ").reset_index()\n",
    ")\n",
    " \n",
    "events_date_groups"
   ]
  },
  {
   "cell_type": "markdown",
   "metadata": {},
   "source": [
    "Количество событий за день до 1 августа исчезающе мало. Очевидно, данные в логе за этот перод неполны. Полные данные есть только за период с 1 по 7 августа. \n",
    "\n",
    "<div class=\"alert alert-success\" style=\"border-radius: 15px; box-shadow: 4px 4px 4px; border: 1px solid; position: relative; padding: 15px; padding-left: 80px;\">\n",
    "<img src=\"https://lh3.googleusercontent.com/a/AAcHTtc31jlywy-FMYxLAouSSqNAmm5NsrBvivwRIASNt7wihI2ClYdpAbzWNqcigfcR04LfvopHwsJrJpnVr4UXDkCHtWk=s432-c-no\" width=\"45\" height=\"45\" style=\"position: absolute; top: 15px; left: 15px; border-radius: 50%;\">\n",
    "<b> ✔️ Комментарий ревьюера  : </b>\n",
    "\n",
    "Согласен с таким решением\n",
    "\n",
    "</div>\n",
    "\n",
    "Создадим датафрейм с данными за этот период."
   ]
  },
  {
   "cell_type": "code",
   "execution_count": 13,
   "metadata": {},
   "outputs": [
    {
     "data": {
      "text/html": [
       "<div>\n",
       "<style scoped>\n",
       "    .dataframe tbody tr th:only-of-type {\n",
       "        vertical-align: middle;\n",
       "    }\n",
       "\n",
       "    .dataframe tbody tr th {\n",
       "        vertical-align: top;\n",
       "    }\n",
       "\n",
       "    .dataframe thead th {\n",
       "        text-align: right;\n",
       "    }\n",
       "</style>\n",
       "<table border=\"1\" class=\"dataframe\">\n",
       "  <thead>\n",
       "    <tr style=\"text-align: right;\">\n",
       "      <th></th>\n",
       "      <th>event_type</th>\n",
       "      <th>user_id</th>\n",
       "      <th>event_time</th>\n",
       "      <th>exp_id</th>\n",
       "      <th>dt</th>\n",
       "    </tr>\n",
       "  </thead>\n",
       "  <tbody>\n",
       "    <tr>\n",
       "      <th>2828</th>\n",
       "      <td>Tutorial</td>\n",
       "      <td>3737462046622621720</td>\n",
       "      <td>2019-08-01 00:07:28</td>\n",
       "      <td>246</td>\n",
       "      <td>2019-08-01</td>\n",
       "    </tr>\n",
       "    <tr>\n",
       "      <th>2829</th>\n",
       "      <td>MainScreenAppear</td>\n",
       "      <td>3737462046622621720</td>\n",
       "      <td>2019-08-01 00:08:00</td>\n",
       "      <td>246</td>\n",
       "      <td>2019-08-01</td>\n",
       "    </tr>\n",
       "    <tr>\n",
       "      <th>2830</th>\n",
       "      <td>MainScreenAppear</td>\n",
       "      <td>3737462046622621720</td>\n",
       "      <td>2019-08-01 00:08:55</td>\n",
       "      <td>246</td>\n",
       "      <td>2019-08-01</td>\n",
       "    </tr>\n",
       "    <tr>\n",
       "      <th>2831</th>\n",
       "      <td>OffersScreenAppear</td>\n",
       "      <td>3737462046622621720</td>\n",
       "      <td>2019-08-01 00:08:58</td>\n",
       "      <td>246</td>\n",
       "      <td>2019-08-01</td>\n",
       "    </tr>\n",
       "    <tr>\n",
       "      <th>2832</th>\n",
       "      <td>MainScreenAppear</td>\n",
       "      <td>1433840883824088890</td>\n",
       "      <td>2019-08-01 00:08:59</td>\n",
       "      <td>247</td>\n",
       "      <td>2019-08-01</td>\n",
       "    </tr>\n",
       "    <tr>\n",
       "      <th>2833</th>\n",
       "      <td>MainScreenAppear</td>\n",
       "      <td>4899590676214355127</td>\n",
       "      <td>2019-08-01 00:10:15</td>\n",
       "      <td>247</td>\n",
       "      <td>2019-08-01</td>\n",
       "    </tr>\n",
       "    <tr>\n",
       "      <th>2834</th>\n",
       "      <td>OffersScreenAppear</td>\n",
       "      <td>3737462046622621720</td>\n",
       "      <td>2019-08-01 00:10:26</td>\n",
       "      <td>246</td>\n",
       "      <td>2019-08-01</td>\n",
       "    </tr>\n",
       "    <tr>\n",
       "      <th>2835</th>\n",
       "      <td>MainScreenAppear</td>\n",
       "      <td>3737462046622621720</td>\n",
       "      <td>2019-08-01 00:10:47</td>\n",
       "      <td>246</td>\n",
       "      <td>2019-08-01</td>\n",
       "    </tr>\n",
       "    <tr>\n",
       "      <th>2836</th>\n",
       "      <td>MainScreenAppear</td>\n",
       "      <td>3737462046622621720</td>\n",
       "      <td>2019-08-01 00:11:10</td>\n",
       "      <td>246</td>\n",
       "      <td>2019-08-01</td>\n",
       "    </tr>\n",
       "    <tr>\n",
       "      <th>2837</th>\n",
       "      <td>MainScreenAppear</td>\n",
       "      <td>3737462046622621720</td>\n",
       "      <td>2019-08-01 00:11:20</td>\n",
       "      <td>246</td>\n",
       "      <td>2019-08-01</td>\n",
       "    </tr>\n",
       "    <tr>\n",
       "      <th>2838</th>\n",
       "      <td>MainScreenAppear</td>\n",
       "      <td>4899590676214355127</td>\n",
       "      <td>2019-08-01 00:11:28</td>\n",
       "      <td>247</td>\n",
       "      <td>2019-08-01</td>\n",
       "    </tr>\n",
       "    <tr>\n",
       "      <th>2839</th>\n",
       "      <td>OffersScreenAppear</td>\n",
       "      <td>4899590676214355127</td>\n",
       "      <td>2019-08-01 00:11:30</td>\n",
       "      <td>247</td>\n",
       "      <td>2019-08-01</td>\n",
       "    </tr>\n",
       "    <tr>\n",
       "      <th>2840</th>\n",
       "      <td>MainScreenAppear</td>\n",
       "      <td>1182179323890311443</td>\n",
       "      <td>2019-08-01 00:11:57</td>\n",
       "      <td>246</td>\n",
       "      <td>2019-08-01</td>\n",
       "    </tr>\n",
       "    <tr>\n",
       "      <th>2841</th>\n",
       "      <td>Tutorial</td>\n",
       "      <td>3737462046622621720</td>\n",
       "      <td>2019-08-01 00:12:18</td>\n",
       "      <td>246</td>\n",
       "      <td>2019-08-01</td>\n",
       "    </tr>\n",
       "    <tr>\n",
       "      <th>2842</th>\n",
       "      <td>MainScreenAppear</td>\n",
       "      <td>3737462046622621720</td>\n",
       "      <td>2019-08-01 00:12:34</td>\n",
       "      <td>246</td>\n",
       "      <td>2019-08-01</td>\n",
       "    </tr>\n",
       "    <tr>\n",
       "      <th>2843</th>\n",
       "      <td>OffersScreenAppear</td>\n",
       "      <td>4899590676214355127</td>\n",
       "      <td>2019-08-01 00:12:36</td>\n",
       "      <td>247</td>\n",
       "      <td>2019-08-01</td>\n",
       "    </tr>\n",
       "    <tr>\n",
       "      <th>2844</th>\n",
       "      <td>MainScreenAppear</td>\n",
       "      <td>4613461174774205834</td>\n",
       "      <td>2019-08-01 00:14:31</td>\n",
       "      <td>248</td>\n",
       "      <td>2019-08-01</td>\n",
       "    </tr>\n",
       "    <tr>\n",
       "      <th>2845</th>\n",
       "      <td>MainScreenAppear</td>\n",
       "      <td>4613461174774205834</td>\n",
       "      <td>2019-08-01 00:14:34</td>\n",
       "      <td>248</td>\n",
       "      <td>2019-08-01</td>\n",
       "    </tr>\n",
       "    <tr>\n",
       "      <th>2846</th>\n",
       "      <td>CartScreenAppear</td>\n",
       "      <td>4613461174774205834</td>\n",
       "      <td>2019-08-01 00:14:34</td>\n",
       "      <td>248</td>\n",
       "      <td>2019-08-01</td>\n",
       "    </tr>\n",
       "    <tr>\n",
       "      <th>2847</th>\n",
       "      <td>PaymentScreenSuccessful</td>\n",
       "      <td>4613461174774205834</td>\n",
       "      <td>2019-08-01 00:14:43</td>\n",
       "      <td>248</td>\n",
       "      <td>2019-08-01</td>\n",
       "    </tr>\n",
       "  </tbody>\n",
       "</table>\n",
       "</div>"
      ],
      "text/plain": [
       "                   event_type              user_id          event_time  \\\n",
       "2828                 Tutorial  3737462046622621720 2019-08-01 00:07:28   \n",
       "2829         MainScreenAppear  3737462046622621720 2019-08-01 00:08:00   \n",
       "2830         MainScreenAppear  3737462046622621720 2019-08-01 00:08:55   \n",
       "2831       OffersScreenAppear  3737462046622621720 2019-08-01 00:08:58   \n",
       "2832         MainScreenAppear  1433840883824088890 2019-08-01 00:08:59   \n",
       "2833         MainScreenAppear  4899590676214355127 2019-08-01 00:10:15   \n",
       "2834       OffersScreenAppear  3737462046622621720 2019-08-01 00:10:26   \n",
       "2835         MainScreenAppear  3737462046622621720 2019-08-01 00:10:47   \n",
       "2836         MainScreenAppear  3737462046622621720 2019-08-01 00:11:10   \n",
       "2837         MainScreenAppear  3737462046622621720 2019-08-01 00:11:20   \n",
       "2838         MainScreenAppear  4899590676214355127 2019-08-01 00:11:28   \n",
       "2839       OffersScreenAppear  4899590676214355127 2019-08-01 00:11:30   \n",
       "2840         MainScreenAppear  1182179323890311443 2019-08-01 00:11:57   \n",
       "2841                 Tutorial  3737462046622621720 2019-08-01 00:12:18   \n",
       "2842         MainScreenAppear  3737462046622621720 2019-08-01 00:12:34   \n",
       "2843       OffersScreenAppear  4899590676214355127 2019-08-01 00:12:36   \n",
       "2844         MainScreenAppear  4613461174774205834 2019-08-01 00:14:31   \n",
       "2845         MainScreenAppear  4613461174774205834 2019-08-01 00:14:34   \n",
       "2846         CartScreenAppear  4613461174774205834 2019-08-01 00:14:34   \n",
       "2847  PaymentScreenSuccessful  4613461174774205834 2019-08-01 00:14:43   \n",
       "\n",
       "      exp_id          dt  \n",
       "2828     246  2019-08-01  \n",
       "2829     246  2019-08-01  \n",
       "2830     246  2019-08-01  \n",
       "2831     246  2019-08-01  \n",
       "2832     247  2019-08-01  \n",
       "2833     247  2019-08-01  \n",
       "2834     246  2019-08-01  \n",
       "2835     246  2019-08-01  \n",
       "2836     246  2019-08-01  \n",
       "2837     246  2019-08-01  \n",
       "2838     247  2019-08-01  \n",
       "2839     247  2019-08-01  \n",
       "2840     246  2019-08-01  \n",
       "2841     246  2019-08-01  \n",
       "2842     246  2019-08-01  \n",
       "2843     247  2019-08-01  \n",
       "2844     248  2019-08-01  \n",
       "2845     248  2019-08-01  \n",
       "2846     248  2019-08-01  \n",
       "2847     248  2019-08-01  "
      ]
     },
     "execution_count": 13,
     "metadata": {},
     "output_type": "execute_result"
    }
   ],
   "source": [
    "#датафрейм с данными с 1 по 7 августа 2019 г.\n",
    "data_actual = data[data[\"dt\"] >= pd.to_datetime('2019-08-01')]\n",
    "\n",
    "#первые 20 строк\n",
    "data_actual.head(20)"
   ]
  },
  {
   "cell_type": "markdown",
   "metadata": {},
   "source": [
    "Подсчёт количества потерянных при удалении неполных данных."
   ]
  },
  {
   "cell_type": "code",
   "execution_count": 14,
   "metadata": {},
   "outputs": [
    {
     "data": {
      "text/plain": [
       "'Количество удалённых событий: 2826 из 243713'"
      ]
     },
     "metadata": {},
     "output_type": "display_data"
    },
    {
     "data": {
      "text/plain": [
       "'Процент удалённых событий: 1.16'"
      ]
     },
     "metadata": {},
     "output_type": "display_data"
    },
    {
     "data": {
      "text/plain": [
       "'Количество удалённых пользователей: 17 из 7551'"
      ]
     },
     "metadata": {},
     "output_type": "display_data"
    },
    {
     "data": {
      "text/plain": [
       "'Процент удалённых пользователей: 0.23'"
      ]
     },
     "metadata": {},
     "output_type": "display_data"
    }
   ],
   "source": [
    "display(\n",
    "    f'Количество удалённых событий: {len(data[\"event_type\"]) - len(data_actual[\"event_type\"])} из {len(data[\"event_type\"])}',\n",
    "    f'Процент удалённых событий: {(len(data[\"event_type\"]) - len(data_actual[\"event_type\"])) * 100 / len(data[\"event_type\"]):.2f}',\n",
    "    f'Количество удалённых пользователей: {data[\"user_id\"].nunique() - data_actual[\"user_id\"].nunique()} из {data[\"user_id\"].nunique()}',\n",
    "    f'Процент удалённых пользователей: {(data[\"user_id\"].nunique() - data_actual[\"user_id\"].nunique()) * 100 / data[\"user_id\"].nunique():.2f}'\n",
    ")\n"
   ]
  },
  {
   "cell_type": "markdown",
   "metadata": {},
   "source": [
    "<div class=\"alert alert-success\" style=\"border-radius: 15px; box-shadow: 4px 4px 4px; border: 1px solid; position: relative; padding: 15px; padding-left: 80px;\">\n",
    "<img src=\"https://lh3.googleusercontent.com/a/AAcHTtc31jlywy-FMYxLAouSSqNAmm5NsrBvivwRIASNt7wihI2ClYdpAbzWNqcigfcR04LfvopHwsJrJpnVr4UXDkCHtWk=s432-c-no\" width=\"45\" height=\"45\" style=\"position: absolute; top: 15px; left: 15px; border-radius: 50%;\">\n",
    "<b> ✔️ Комментарий ревьюера  : </b>\n",
    "\n",
    "Ты правильно рассчитал требуемые показатели\n",
    "\n",
    "</div>"
   ]
  },
  {
   "cell_type": "markdown",
   "metadata": {},
   "source": [
    "Потери данных незначительные."
   ]
  },
  {
   "cell_type": "markdown",
   "metadata": {},
   "source": [
    "#### Количество и соотношение пользователей из разных групп"
   ]
  },
  {
   "cell_type": "code",
   "execution_count": 15,
   "metadata": {},
   "outputs": [
    {
     "data": {
      "text/html": [
       "<div>\n",
       "<style scoped>\n",
       "    .dataframe tbody tr th:only-of-type {\n",
       "        vertical-align: middle;\n",
       "    }\n",
       "\n",
       "    .dataframe tbody tr th {\n",
       "        vertical-align: top;\n",
       "    }\n",
       "\n",
       "    .dataframe thead th {\n",
       "        text-align: right;\n",
       "    }\n",
       "</style>\n",
       "<table border=\"1\" class=\"dataframe\">\n",
       "  <thead>\n",
       "    <tr style=\"text-align: right;\">\n",
       "      <th></th>\n",
       "      <th>users</th>\n",
       "    </tr>\n",
       "    <tr>\n",
       "      <th>group</th>\n",
       "      <th></th>\n",
       "    </tr>\n",
       "  </thead>\n",
       "  <tbody>\n",
       "    <tr>\n",
       "      <th>246</th>\n",
       "      <td>2484</td>\n",
       "    </tr>\n",
       "    <tr>\n",
       "      <th>247</th>\n",
       "      <td>2513</td>\n",
       "    </tr>\n",
       "    <tr>\n",
       "      <th>248</th>\n",
       "      <td>2537</td>\n",
       "    </tr>\n",
       "  </tbody>\n",
       "</table>\n",
       "</div>"
      ],
      "text/plain": [
       "       users\n",
       "group       \n",
       "246     2484\n",
       "247     2513\n",
       "248     2537"
      ]
     },
     "metadata": {},
     "output_type": "display_data"
    },
    {
     "data": {
      "image/png": "[encoded data removed]",
      "text/plain": [
       "<Figure size 1080x360 with 1 Axes>"
      ]
     },
     "metadata": {
      "needs_background": "light"
     },
     "output_type": "display_data"
    }
   ],
   "source": [
    "#сводная таблица\n",
    "users_per_group = data_actual.pivot_table(\n",
    "    index='exp_id',\n",
    "    values='user_id',\n",
    "    aggfunc=pd.Series.nunique\n",
    ").reset_index()\n",
    "\n",
    "\n",
    "users_per_group.columns = ['group', 'users']\n",
    "users_per_group = users_per_group.set_index('group')\n",
    "\n",
    "display(users_per_group)\n",
    "\n",
    "#диаграмма\n",
    "users_per_group.plot(\n",
    "    kind='barh',\n",
    "    grid=True,\n",
    "    figsize=(15,5),\n",
    "    legend=False\n",
    ")\n",
    "plt.title('Соотношение количества пользователей из разных групп')\n",
    "plt.ylabel('Группа')\n",
    "plt.xlabel('Количество пользователей')\n",
    "\n",
    "plt.show();\n"
   ]
  },
  {
   "cell_type": "markdown",
   "metadata": {},
   "source": [
    "Пользователи распределены по группам достаточно равномерно.\n",
    "\n",
    "Проверим данные на наличие пользователей, попавших в несколько в разных групп."
   ]
  },
  {
   "cell_type": "code",
   "execution_count": 16,
   "metadata": {},
   "outputs": [
    {
     "data": {
      "text/plain": [
       "'Количество пользователей, попавших в неколько групп: 0'"
      ]
     },
     "metadata": {},
     "output_type": "display_data"
    }
   ],
   "source": [
    "users_diff_groups = (\n",
    "    data_actual\n",
    "    .groupby(\n",
    "        'user_id', as_index=False\n",
    "    )['exp_id']\n",
    "    .agg('nunique')\n",
    "    .query('exp_id > 1')['user_id']\n",
    ")\n",
    "\n",
    "display(\n",
    "    f'Количество пользователей, попавших в неколько групп: {users_diff_groups.nunique()}'\n",
    ")    \n"
   ]
  },
  {
   "cell_type": "markdown",
   "metadata": {},
   "source": [
    "<div class=\"alert alert-success\" style=\"border-radius: 15px; box-shadow: 4px 4px 4px; border: 1px solid; position: relative; padding: 15px; padding-left: 80px;\">\n",
    "<img src=\"https://lh3.googleusercontent.com/a/AAcHTtc31jlywy-FMYxLAouSSqNAmm5NsrBvivwRIASNt7wihI2ClYdpAbzWNqcigfcR04LfvopHwsJrJpnVr4UXDkCHtWk=s432-c-no\" width=\"45\" height=\"45\" style=\"position: absolute; top: 15px; left: 15px; border-radius: 50%;\">\n",
    "<b> ✔️ Комментарий ревьюера  : </b>\n",
    "\n",
    "Это важная проверка в рамках A\\B тестирования. \n",
    "\n",
    "</div>"
   ]
  },
  {
   "cell_type": "markdown",
   "metadata": {},
   "source": [
    "Пользователей, попавших одновременно в несколько  разных груп, нет. Система разбиения трафика работает корректно."
   ]
  },
  {
   "cell_type": "markdown",
   "metadata": {},
   "source": [
    "### Исследование воронки событий\n",
    "\n",
    "#### Типы событий и частота их появления в логе"
   ]
  },
  {
   "cell_type": "code",
   "execution_count": 17,
   "metadata": {},
   "outputs": [
    {
     "data": {
      "text/plain": [
       "event_type\n",
       "MainScreenAppear           117328\n",
       "OffersScreenAppear          46333\n",
       "CartScreenAppear            42303\n",
       "PaymentScreenSuccessful     33918\n",
       "Tutorial                     1005\n",
       "Name: user_id, dtype: int64"
      ]
     },
     "metadata": {},
     "output_type": "display_data"
    },
    {
     "data": {
      "image/png": "[encoded data removed]",
      "text/plain": [
       "<Figure size 1080x504 with 1 Axes>"
      ]
     },
     "metadata": {
      "needs_background": "light"
     },
     "output_type": "display_data"
    }
   ],
   "source": [
    "#таблица количества событий по типам\n",
    "events_counts = (\n",
    "    data_actual\n",
    "        .groupby('event_type')['user_id']\n",
    "        .agg('count')\n",
    "        .sort_values(ascending=False)\n",
    ")\n",
    "\n",
    "#вывод таблицы\n",
    "display(events_counts)\n",
    "\n",
    "#диаграмма количества событий по типам\n",
    "events_counts.sort_values().plot(\n",
    "    kind='barh',\n",
    "    grid=True,\n",
    "    figsize=(15,7),\n",
    "    legend=False\n",
    ")\n",
    "plt.title('Количество событий разных типов')\n",
    "plt.ylabel('События')\n",
    "plt.xlabel('Количество')\n",
    "plt.show();"
   ]
  },
  {
   "cell_type": "markdown",
   "metadata": {},
   "source": [
    "В логе события 5 видов: \n",
    "\n",
    "- **\"MainScreenAppear\"** - пользователь заходит на главную страницу; \n",
    "- **\"OffersScreenAppear\"** - пользователю предложены товары; \n",
    "- **\"CartScreenAppear\"** - пользователь перешёл в \"корзину\" с выбранными товарами;\n",
    "- **\"PaymentScreenSuccessful\"** - пользователь успешно оплатил товары;\n",
    "- **\"Tutorial\"** - пользователь перешёл на страницу с руководством.\n",
    "\n",
    "\n",
    "#### Соотношение событий разного типа и пользователей. Воронка событий"
   ]
  },
  {
   "cell_type": "code",
   "execution_count": 18,
   "metadata": {},
   "outputs": [
    {
     "data": {
      "text/html": [
       "<div>\n",
       "<style scoped>\n",
       "    .dataframe tbody tr th:only-of-type {\n",
       "        vertical-align: middle;\n",
       "    }\n",
       "\n",
       "    .dataframe tbody tr th {\n",
       "        vertical-align: top;\n",
       "    }\n",
       "\n",
       "    .dataframe thead th {\n",
       "        text-align: right;\n",
       "    }\n",
       "</style>\n",
       "<table border=\"1\" class=\"dataframe\">\n",
       "  <thead>\n",
       "    <tr style=\"text-align: right;\">\n",
       "      <th></th>\n",
       "      <th>event_type</th>\n",
       "      <th>users</th>\n",
       "      <th>users_share</th>\n",
       "    </tr>\n",
       "  </thead>\n",
       "  <tbody>\n",
       "    <tr>\n",
       "      <th>0</th>\n",
       "      <td>MainScreenAppear</td>\n",
       "      <td>7419</td>\n",
       "      <td>98.47</td>\n",
       "    </tr>\n",
       "    <tr>\n",
       "      <th>1</th>\n",
       "      <td>OffersScreenAppear</td>\n",
       "      <td>4593</td>\n",
       "      <td>60.96</td>\n",
       "    </tr>\n",
       "    <tr>\n",
       "      <th>2</th>\n",
       "      <td>CartScreenAppear</td>\n",
       "      <td>3734</td>\n",
       "      <td>49.56</td>\n",
       "    </tr>\n",
       "    <tr>\n",
       "      <th>3</th>\n",
       "      <td>PaymentScreenSuccessful</td>\n",
       "      <td>3539</td>\n",
       "      <td>46.97</td>\n",
       "    </tr>\n",
       "    <tr>\n",
       "      <th>4</th>\n",
       "      <td>Tutorial</td>\n",
       "      <td>840</td>\n",
       "      <td>11.15</td>\n",
       "    </tr>\n",
       "  </tbody>\n",
       "</table>\n",
       "</div>"
      ],
      "text/plain": [
       "                event_type  users  users_share\n",
       "0         MainScreenAppear   7419        98.47\n",
       "1       OffersScreenAppear   4593        60.96\n",
       "2         CartScreenAppear   3734        49.56\n",
       "3  PaymentScreenSuccessful   3539        46.97\n",
       "4                 Tutorial    840        11.15"
      ]
     },
     "execution_count": 18,
     "metadata": {},
     "output_type": "execute_result"
    }
   ],
   "source": [
    "#таблица количества пользователей по типам событий\n",
    "users_per_event_type = (\n",
    "    data_actual\n",
    "        .groupby('event_type', as_index=False)['user_id']\n",
    "        .agg('nunique')\n",
    "        .sort_values(by='user_id', ascending=False)\n",
    ").reset_index(drop=True)\n",
    "\n",
    "users_per_event_type.columns=['event_type', 'users']\n",
    "\n",
    "#количество пользователей в логе\n",
    "users_count = data_actual['user_id'].nunique()\n",
    "\n",
    "#доля пользователей, совершавших события разных типов\n",
    "users_per_event_type['users_share'] = round(users_per_event_type['users'] * 100 / users_count, 2)\n",
    "\n",
    "#вывод таблицы\n",
    "users_per_event_type"
   ]
  },
  {
   "cell_type": "markdown",
   "metadata": {},
   "source": [
    "По-видимому, воронка событий выглядит следующим образом:\n",
    "\n",
    "1. **\"MainScreenAppear\"** - пользователь заходит на главную страницу; \n",
    "\n",
    "2. **\"OffersScreenAppear\"** - пользователю предложены товары, формирование заказа; \n",
    "\n",
    "3. **\"CartScreenAppear\"** - пользователь перешёл в \"корзину\" с выбранными товарами;\n",
    "\n",
    "4. **\"PaymentScreenSuccessful\"** - пользователь успешно оплатил товары;\n"
   ]
  },
  {
   "cell_type": "markdown",
   "metadata": {},
   "source": [
    "<div class=\"alert alert-success\" style=\"border-radius: 15px; box-shadow: 4px 4px 4px; border: 1px solid; position: relative; padding: 15px; padding-left: 80px;\">\n",
    "<img src=\"https://lh3.googleusercontent.com/a/AAcHTtc31jlywy-FMYxLAouSSqNAmm5NsrBvivwRIASNt7wihI2ClYdpAbzWNqcigfcR04LfvopHwsJrJpnVr4UXDkCHtWk=s432-c-no\" width=\"45\" height=\"45\" style=\"position: absolute; top: 15px; left: 15px; border-radius: 50%;\">\n",
    "<b> ✔️ Комментарий ревьюера  : </b>\n",
    "    \n",
    "Совершенно верно, `Tutorial` не входит в основную воронку продаж\n",
    "\n",
    "</div>"
   ]
  },
  {
   "cell_type": "markdown",
   "metadata": {},
   "source": [
    "#### Конверсия воронки событий и её отдельных этапов"
   ]
  },
  {
   "cell_type": "code",
   "execution_count": 19,
   "metadata": {},
   "outputs": [
    {
     "data": {
      "text/html": [
       "<div>\n",
       "<style scoped>\n",
       "    .dataframe tbody tr th:only-of-type {\n",
       "        vertical-align: middle;\n",
       "    }\n",
       "\n",
       "    .dataframe tbody tr th {\n",
       "        vertical-align: top;\n",
       "    }\n",
       "\n",
       "    .dataframe thead th {\n",
       "        text-align: right;\n",
       "    }\n",
       "</style>\n",
       "<table border=\"1\" class=\"dataframe\">\n",
       "  <thead>\n",
       "    <tr style=\"text-align: right;\">\n",
       "      <th></th>\n",
       "      <th>event_type</th>\n",
       "      <th>users</th>\n",
       "      <th>users_share</th>\n",
       "      <th>step_conversion</th>\n",
       "    </tr>\n",
       "  </thead>\n",
       "  <tbody>\n",
       "    <tr>\n",
       "      <th>0</th>\n",
       "      <td>MainScreenAppear</td>\n",
       "      <td>7419</td>\n",
       "      <td>98.47</td>\n",
       "      <td>98.47</td>\n",
       "    </tr>\n",
       "    <tr>\n",
       "      <th>1</th>\n",
       "      <td>OffersScreenAppear</td>\n",
       "      <td>4593</td>\n",
       "      <td>60.96</td>\n",
       "      <td>61.91</td>\n",
       "    </tr>\n",
       "    <tr>\n",
       "      <th>2</th>\n",
       "      <td>CartScreenAppear</td>\n",
       "      <td>3734</td>\n",
       "      <td>49.56</td>\n",
       "      <td>81.30</td>\n",
       "    </tr>\n",
       "    <tr>\n",
       "      <th>3</th>\n",
       "      <td>PaymentScreenSuccessful</td>\n",
       "      <td>3539</td>\n",
       "      <td>46.97</td>\n",
       "      <td>94.78</td>\n",
       "    </tr>\n",
       "    <tr>\n",
       "      <th>4</th>\n",
       "      <td>Tutorial</td>\n",
       "      <td>840</td>\n",
       "      <td>11.15</td>\n",
       "      <td>23.74</td>\n",
       "    </tr>\n",
       "  </tbody>\n",
       "</table>\n",
       "</div>"
      ],
      "text/plain": [
       "                event_type  users  users_share  step_conversion\n",
       "0         MainScreenAppear   7419        98.47            98.47\n",
       "1       OffersScreenAppear   4593        60.96            61.91\n",
       "2         CartScreenAppear   3734        49.56            81.30\n",
       "3  PaymentScreenSuccessful   3539        46.97            94.78\n",
       "4                 Tutorial    840        11.15            23.74"
      ]
     },
     "metadata": {},
     "output_type": "display_data"
    },
    {
     "data": {
      "text/plain": [
       "'Конверсия от первого события до успешной оплаты: 47.70 %'"
      ]
     },
     "metadata": {},
     "output_type": "display_data"
    },
    {
     "data": {
      "image/png": "[encoded data removed]",
      "text/plain": [
       "<Figure size 1080x360 with 1 Axes>"
      ]
     },
     "metadata": {
      "needs_background": "light"
     },
     "output_type": "display_data"
    }
   ],
   "source": [
    "#конверсия  каждого отдельного этапа воронки в процентах\n",
    "users_per_event_type['step_conversion'] = (\n",
    "    round(users_per_event_type['users'] * 100 / users_per_event_type['users'].shift(1), 2)\n",
    ").fillna(users_per_event_type.loc[0]['users_share'])\n",
    "\n",
    "display(users_per_event_type)\n",
    "\n",
    "#конверсия от первого события до оплаты\n",
    "conversion = users_per_event_type.loc[3]['users'] * 100 / users_per_event_type.loc[0]['users']\n",
    "\n",
    "display(\n",
    "    f'Конверсия от первого события до успешной оплаты: {conversion:.2f} %'\n",
    ")\n",
    "\n",
    "#график конверсии каждого следующего шага\n",
    "\n",
    "\n",
    "users_per_event_type.sort_values(by='users').query('event_type != \"Tutorial\"')[['event_type','step_conversion']].plot(\n",
    "    x='event_type',\n",
    "    kind='barh', \n",
    "    figsize=(15, 5),\n",
    "    legend=False\n",
    ")\n",
    "\n",
    "plt.grid(True)\n",
    "plt.title('Конверсия каждого следующего шага воронки событий')\n",
    "plt.ylabel('События')\n",
    "plt.xlabel('Конверсия, %')\n",
    "plt.show();"
   ]
  },
  {
   "cell_type": "markdown",
   "metadata": {},
   "source": [
    "<div class=\"alert alert-warning\" style=\"border-radius: 15px; box-shadow: 4px 4px 4px; border: 1px solid; position: relative; padding: 15px; padding-left: 80px;\">\n",
    "<img src=\"https://lh3.googleusercontent.com/a/AAcHTtc31jlywy-FMYxLAouSSqNAmm5NsrBvivwRIASNt7wihI2ClYdpAbzWNqcigfcR04LfvopHwsJrJpnVr4UXDkCHtWk=s432-c-no\" width=\"45\" height=\"45\" style=\"position: absolute; top: 15px; left: 15px; border-radius: 50%;\">\n",
    "<b> ✏️ Рекомендация ревьюера: </b>\n",
    "\n",
    "В некоторых местах строки кода превышают рекомендуемую длину в 79 символов.\n",
    "\n",
    "Чтобы сделать код более читаемым и соответствующим стандартам PEP8, предлагаю разделять длинные строки кода, используя круглые скобки.\n",
    "\n",
    "Такой подход позволит улучшить читаемость кода и соблюсти рекомендуемые стандарты.\n",
    "\n",
    "</div>"
   ]
  },
  {
   "cell_type": "markdown",
   "metadata": {},
   "source": [
    "<div class=\"alert alert-success\" style=\"border-radius: 15px; box-shadow: 4px 4px 4px; border: 1px solid; position: relative; padding: 15px; padding-left: 80px;\">\n",
    "<img src=\"https://lh3.googleusercontent.com/a/AAcHTtc31jlywy-FMYxLAouSSqNAmm5NsrBvivwRIASNt7wihI2ClYdpAbzWNqcigfcR04LfvopHwsJrJpnVr4UXDkCHtWk=s432-c-no\" width=\"45\" height=\"45\" style=\"position: absolute; top: 15px; left: 15px; border-radius: 50%;\">\n",
    "<b> ✔️ Комментарий ревьюера  : </b>\n",
    "\n",
    "Ты корректно рассчитал количество пользователей и их долю по этапам воронки.\n",
    "    \n",
    "---\n",
    "    \n",
    "Для визуализации воронки могу посоветовать использовать библиотеку `plotly` Funnel - https://plotly.com/python/funnel-charts/\n",
    "\n",
    "Где можно вывести показатели конверсии сразу на графике с помощью `textinfo`\n",
    "\n",
    "</div>\n",
    "\n",
    "</div>"
   ]
  },
  {
   "cell_type": "markdown",
   "metadata": {},
   "source": [
    "47,7%  пользователей проходят от первого события до успешной оплаты заказа. Больше всего пользоветелей теряется на этапе **\"OffersScreenAppear\"** - предложения товаров и формирования заказа: 38,1 % пользователей, открывших прилоежение и посетивших главную страницу, не переходят к следующему этапу."
   ]
  },
  {
   "cell_type": "markdown",
   "metadata": {},
   "source": [
    "### Вывод по разделу исследовательского анализа данных\n",
    "\n",
    "Полные данные в логе есть только за период с 1 по 7 августа. \n",
    "\n",
    "Количество пользователей за этот период:\n",
    "\n",
    "- общее: 7534;\n",
    "- группа 246: 2484;\n",
    "- группа 247: 2513;\n",
    "- группа 248: 2537.\n",
    "\n",
    "В логе события 5 видов: \n",
    "\n",
    "- **\"MainScreenAppear\"** - пользователь заходит на главную страницу; \n",
    "- **\"OffersScreenAppear\"** - пользователю предложены товары; \n",
    "- **\"CartScreenAppear\"** - пользователь перешёл в \"корзину\" с выбранными товарами;\n",
    "- **\"PaymentScreenSuccessful\"** - пользователь успешно оплатил товары;\n",
    "- **\"Tutorial\"** - пользователь перешёл на страницу с руководством.\n",
    "\n",
    "Воронка событий выглядит следующим образом:\n",
    "\n",
    "1. **\"MainScreenAppear\"** - пользователь заходит на главную страницу - совершают 98,47% пользователей, зашедших в приложение; \n",
    "\n",
    "2. **\"OffersScreenAppear\"** - пользователю предложены товары, формирование заказа - совершают 61,91% пользователей, открывших главную страницу; \n",
    "\n",
    "3. **\"CartScreenAppear\"** - пользователь перешёл в \"корзину\" с выбранными товарами - совершают 81,3% пользователей, выбравших товары;\n",
    "\n",
    "4. **\"PaymentScreenSuccessful\"** - пользователь успешно оплатил товары - совершают 94,78% пользователей, оформивших заказ в корзине;\n",
    "\n",
    "47,7%  пользователей проходят от первого события до успешной оплаты заказа. \n",
    "\n",
    "Больше всего пользоветелей теряется на этапе **\"OffersScreenAppear\"** - предложения товаров и формирования заказа: 38,1 % пользователей, открывших прилоежение и посетивших главную страницу, не переходят к следующему этапу."
   ]
  },
  {
   "cell_type": "markdown",
   "metadata": {},
   "source": [
    "## Статистический анализ данных\n",
    "\n",
    "### Выбор теста для проверки гипотез\n",
    "\n",
    "В данном исследования будут проверены гипотезы о равенстве значений конверсии для разных групп на разных этапах продуктовой воронки. Для проверки таких параметров хорошо подходит **z-тест**, поскольку для его проведения необходимо, чтобы исследуемая величина была распределена нормально с известным стандартным отклонением; при проверке гипотезы о равенстве конверсий измеряемой статистикой будет разница между пропорциями, т.е. величина, которая распределена нормально, а стандартное отклонение поддаётся вычислению.\n",
    "\n",
    "### Расчёт уровня статистической значимости\n",
    "\n",
    "Примем уровень статистической значимости в рамках исследования 5%. Поскольку исследование проводилось одновременно на трёх разных группах, для каждого параметра будет проведено четыре сравнения: \n",
    "\n",
    "- сравнение параметра для двух контрольных групп (246 и 247);\n",
    "- сравнение параметра для тестовой группы 248 и контрольной группы 246;\n",
    "- сравнение параметра для тестовой группы 248 и контрольной группы 247;\n",
    "- сравнение параметра для тестовой группы 248 и объединённой контрольной группы;\n",
    "\n",
    "Следовательно, необходимо скорректировать уровень статистической значимости для каждой пары сравниваемых групп.\n",
    "\n",
    "Воспользуемся для этого методом Шидака."
   ]
  },
  {
   "cell_type": "code",
   "execution_count": 20,
   "metadata": {},
   "outputs": [
    {
     "data": {
      "text/plain": [
       "'Уровень статистической значимости для каждого попарного сравнения: 0.012741455098566168'"
      ]
     },
     "execution_count": 20,
     "metadata": {},
     "output_type": "execute_result"
    }
   ],
   "source": [
    "#общий уровень статистической значимости\n",
    "alpha_full = 0.05\n",
    "\n",
    "#количество сравнений\n",
    "m = 4\n",
    "\n",
    "#уровень статистической значимости для каждого отдельного сравнения\n",
    "alpha =1 - (1 - alpha_full)**(1 / m)\n",
    "\n",
    "f'Уровень статистической значимости для каждого попарного сравнения: {alpha}'"
   ]
  },
  {
   "cell_type": "markdown",
   "metadata": {},
   "source": [
    "<div class=\"alert alert-success\" style=\"border-radius: 15px; box-shadow: 4px 4px 4px; border: 1px solid; position: relative; padding: 15px; padding-left: 80px;\">\n",
    "<img src=\"https://lh3.googleusercontent.com/a/AAcHTtc31jlywy-FMYxLAouSSqNAmm5NsrBvivwRIASNt7wihI2ClYdpAbzWNqcigfcR04LfvopHwsJrJpnVr4UXDkCHtWk=s432-c-no\" width=\"45\" height=\"45\" style=\"position: absolute; top: 15px; left: 15px; border-radius: 50%;\">\n",
    "<b> ✔️ Комментарий тимлида : </b>\n",
    "\n",
    "Здорово, что знаешь и используешь в работе такого рода поправки уровня значимости\n",
    "\n",
    "</div>"
   ]
  },
  {
   "cell_type": "markdown",
   "metadata": {},
   "source": [
    "### Подготовка данных для проведения тестов"
   ]
  },
  {
   "cell_type": "code",
   "execution_count": 21,
   "metadata": {},
   "outputs": [
    {
     "data": {
      "text/plain": [
       "'Таблица количества пользователей на событие и их доли от общего количества пользователей для каждой группы'"
      ]
     },
     "metadata": {},
     "output_type": "display_data"
    },
    {
     "data": {
      "text/html": [
       "<div>\n",
       "<style scoped>\n",
       "    .dataframe tbody tr th:only-of-type {\n",
       "        vertical-align: middle;\n",
       "    }\n",
       "\n",
       "    .dataframe tbody tr th {\n",
       "        vertical-align: top;\n",
       "    }\n",
       "\n",
       "    .dataframe thead tr th {\n",
       "        text-align: left;\n",
       "    }\n",
       "\n",
       "    .dataframe thead tr:last-of-type th {\n",
       "        text-align: right;\n",
       "    }\n",
       "</style>\n",
       "<table border=\"1\" class=\"dataframe\">\n",
       "  <thead>\n",
       "    <tr>\n",
       "      <th>group</th>\n",
       "      <th colspan=\"2\" halign=\"left\">246</th>\n",
       "      <th colspan=\"2\" halign=\"left\">247</th>\n",
       "      <th colspan=\"2\" halign=\"left\">248</th>\n",
       "      <th colspan=\"2\" halign=\"left\">246_247</th>\n",
       "    </tr>\n",
       "    <tr>\n",
       "      <th>parameter</th>\n",
       "      <th>users</th>\n",
       "      <th>conversion</th>\n",
       "      <th>users</th>\n",
       "      <th>conversion</th>\n",
       "      <th>users</th>\n",
       "      <th>conversion</th>\n",
       "      <th>users</th>\n",
       "      <th>conversion</th>\n",
       "    </tr>\n",
       "    <tr>\n",
       "      <th>event_type</th>\n",
       "      <th></th>\n",
       "      <th></th>\n",
       "      <th></th>\n",
       "      <th></th>\n",
       "      <th></th>\n",
       "      <th></th>\n",
       "      <th></th>\n",
       "      <th></th>\n",
       "    </tr>\n",
       "  </thead>\n",
       "  <tbody>\n",
       "    <tr>\n",
       "      <th>MainScreenAppear</th>\n",
       "      <td>2450.0</td>\n",
       "      <td>0.986312</td>\n",
       "      <td>2476.0</td>\n",
       "      <td>0.985277</td>\n",
       "      <td>2493.0</td>\n",
       "      <td>0.982657</td>\n",
       "      <td>4943.0</td>\n",
       "      <td>0.989194</td>\n",
       "    </tr>\n",
       "    <tr>\n",
       "      <th>OffersScreenAppear</th>\n",
       "      <td>1542.0</td>\n",
       "      <td>0.620773</td>\n",
       "      <td>1520.0</td>\n",
       "      <td>0.604855</td>\n",
       "      <td>1531.0</td>\n",
       "      <td>0.603469</td>\n",
       "      <td>3073.0</td>\n",
       "      <td>0.614969</td>\n",
       "    </tr>\n",
       "    <tr>\n",
       "      <th>CartScreenAppear</th>\n",
       "      <td>1266.0</td>\n",
       "      <td>0.509662</td>\n",
       "      <td>1238.0</td>\n",
       "      <td>0.492638</td>\n",
       "      <td>1230.0</td>\n",
       "      <td>0.484825</td>\n",
       "      <td>2496.0</td>\n",
       "      <td>0.499500</td>\n",
       "    </tr>\n",
       "    <tr>\n",
       "      <th>PaymentScreenSuccessful</th>\n",
       "      <td>1200.0</td>\n",
       "      <td>0.483092</td>\n",
       "      <td>1158.0</td>\n",
       "      <td>0.460804</td>\n",
       "      <td>1181.0</td>\n",
       "      <td>0.465510</td>\n",
       "      <td>2381.0</td>\n",
       "      <td>0.476486</td>\n",
       "    </tr>\n",
       "    <tr>\n",
       "      <th>Tutorial</th>\n",
       "      <td>278.0</td>\n",
       "      <td>0.111916</td>\n",
       "      <td>283.0</td>\n",
       "      <td>0.112614</td>\n",
       "      <td>279.0</td>\n",
       "      <td>0.109972</td>\n",
       "      <td>557.0</td>\n",
       "      <td>0.111467</td>\n",
       "    </tr>\n",
       "  </tbody>\n",
       "</table>\n",
       "</div>"
      ],
      "text/plain": [
       "group                       246                247                248  \\\n",
       "parameter                 users conversion   users conversion   users   \n",
       "event_type                                                              \n",
       "MainScreenAppear         2450.0   0.986312  2476.0   0.985277  2493.0   \n",
       "OffersScreenAppear       1542.0   0.620773  1520.0   0.604855  1531.0   \n",
       "CartScreenAppear         1266.0   0.509662  1238.0   0.492638  1230.0   \n",
       "PaymentScreenSuccessful  1200.0   0.483092  1158.0   0.460804  1181.0   \n",
       "Tutorial                  278.0   0.111916   283.0   0.112614   279.0   \n",
       "\n",
       "group                              246_247             \n",
       "parameter               conversion   users conversion  \n",
       "event_type                                             \n",
       "MainScreenAppear          0.982657  4943.0   0.989194  \n",
       "OffersScreenAppear        0.603469  3073.0   0.614969  \n",
       "CartScreenAppear          0.484825  2496.0   0.499500  \n",
       "PaymentScreenSuccessful   0.465510  2381.0   0.476486  \n",
       "Tutorial                  0.109972   557.0   0.111467  "
      ]
     },
     "metadata": {},
     "output_type": "display_data"
    },
    {
     "data": {
      "text/plain": [
       "'Количество пользователей в группах'"
      ]
     },
     "metadata": {},
     "output_type": "display_data"
    },
    {
     "data": {
      "text/plain": [
       "group\n",
       "246    2484\n",
       "247    2513\n",
       "248    2537\n",
       "Name: users, dtype: int64"
      ]
     },
     "metadata": {},
     "output_type": "display_data"
    },
    {
     "data": {
      "text/plain": [
       "'Список событий для тестирования'"
      ]
     },
     "metadata": {},
     "output_type": "display_data"
    },
    {
     "data": {
      "text/plain": [
       "Index(['MainScreenAppear', 'OffersScreenAppear', 'CartScreenAppear',\n",
       "       'PaymentScreenSuccessful', 'Tutorial'],\n",
       "      dtype='object', name='event_type')"
      ]
     },
     "metadata": {},
     "output_type": "display_data"
    }
   ],
   "source": [
    "#список индексов-событий\n",
    "df_stat = users_per_event_type.drop(['users','users_share','step_conversion'], axis=1)\n",
    "\n",
    "#добавление столбцов с количеством пользователей на событие и их доли от общего количества пользователей для каждой группы\n",
    "for grp in sorted(data_actual['exp_id'].unique()):\n",
    "    group_data = (\n",
    "        data_actual[data_actual['exp_id'] == grp]\n",
    "        .groupby('event_type', as_index=False)\n",
    "        .agg({'user_id':'nunique'})\n",
    "    )\n",
    "    group_data['conversion'] = group_data['user_id'] / users_per_group['users'][grp]\n",
    "    df_stat = df_stat.merge(\n",
    "        group_data, \n",
    "        left_on='event_type', \n",
    "        right_on='event_type', \n",
    "        how='left'\n",
    "    )\n",
    "\n",
    "\n",
    "    \n",
    "#добавление данных объединённой контрольной группы\n",
    "df_stat['user_246_247'] = df_stat['user_id_x'] + df_stat['user_id']\n",
    "df_stat['conversion_246_247'] = df_stat['user_246_247'] / (users_per_group['users'][246] + users_per_group['users'][247])\n",
    "\n",
    "df_stat = df_stat.set_index('event_type').T\n",
    "\n",
    "#формирование мультииндекса\n",
    "\n",
    "index = pd.MultiIndex.from_product([[246,247,248,'246_247'],['users','conversion']], names=['group', 'parameter'])\n",
    "\n",
    "df_stat.index = index\n",
    "df_stat = df_stat.T\n",
    "\n",
    "\n",
    "#список событий для проверки\n",
    "events_to_test = df_stat.index\n",
    "\n",
    "users_in_groups = users_per_group['users']\n",
    "\n",
    "#вывод результата\n",
    "display('Таблица количества пользователей на событие и их доли от общего количества пользователей для каждой группы',  \n",
    "        df_stat,\n",
    "        'Количество пользователей в группах', \n",
    "        #users_per_group, \n",
    "        users_in_groups,\n",
    "        'Список событий для тестирования',\n",
    "        events_to_test)\n"
   ]
  },
  {
   "cell_type": "markdown",
   "metadata": {},
   "source": [
    "### Функция для проверки гипотезы о равенстве долей пользователей, совершивших событие"
   ]
  },
  {
   "cell_type": "code",
   "execution_count": 22,
   "metadata": {},
   "outputs": [],
   "source": [
    "#функция\n",
    "def z_test(df, group_1, group_2, event, users_1, users_2):\n",
    "    try:\n",
    "        #конверсия группы 1\n",
    "        p1 = df[group_1,'conversion'][event]\n",
    "        \n",
    "        #конверсия группы 2\n",
    "        p2 = df[group_2,'conversion'][event]\n",
    "        \n",
    "        #конверсия скомбинированной выборки\n",
    "        p_combined = (\n",
    "            df[group_1, 'users'][event] \n",
    "            + \n",
    "            df[group_2, 'users'][event] \n",
    "        ) / (users_1 + users_2)\n",
    "        \n",
    "        #разница между конверсиями\n",
    "        difference = p1 - p2\n",
    "    \n",
    "        #z-значение\n",
    "        z_score = difference / math.sqrt(p_combined * (1 - p_combined) * (1/users_1 + 1/users_2))\n",
    "        \n",
    "        #построение стандартного нормального распределения\n",
    "        distr = st.norm(0, 1)\n",
    "\n",
    "        #вычисление p-value\n",
    "        p_value = (1 - distr.cdf(abs(z_score))) * 2\n",
    "\n",
    "        return [z_score, p_value]\n",
    "    \n",
    "    except:\n",
    "        \n",
    "        display('Ошибка работы функции')\n",
    "    "
   ]
  },
  {
   "cell_type": "markdown",
   "metadata": {},
   "source": [
    "### Проверка гипотезы о равенстве долей пользователей, совершивших разные события, между контрольными группами 246 и 247\n",
    "\n",
    "Формулирование гипотез.\n",
    "\n",
    "Нулевая гипотеза: доли пользователей из групп **246** и **247**, совершивших, события, одинаковы.\n",
    "\n",
    "Алтернативная гипотеза: доли пользователей из групп **246** и **247**, совершивших, события, различаются."
   ]
  },
  {
   "cell_type": "markdown",
   "metadata": {},
   "source": [
    "<div class=\"alert alert-success\" style=\"border-radius: 15px; box-shadow: 4px 4px 4px; border: 1px solid; position: relative; padding: 15px; padding-left: 80px;\">\n",
    "<img src=\"https://lh3.googleusercontent.com/a/AAcHTtc31jlywy-FMYxLAouSSqNAmm5NsrBvivwRIASNt7wihI2ClYdpAbzWNqcigfcR04LfvopHwsJrJpnVr4UXDkCHtWk=s432-c-no\" width=\"45\" height=\"45\" style=\"position: absolute; top: 15px; left: 15px; border-radius: 50%;\">\n",
    "<b> ✔️ Комментарий ревьюера  : </b>\n",
    "\n",
    "Очень хорошо, что не забываешь про формулировку гипотез. Это важный пункт в подобного рода задачах.\n",
    "\n",
    "</div>"
   ]
  },
  {
   "cell_type": "code",
   "execution_count": 23,
   "metadata": {},
   "outputs": [
    {
     "name": "stdout",
     "output_type": "stream",
     "text": [
      "\n",
      "Результат теста для события \"MainScreenAppear\":\n",
      "    \n",
      "z-score: 0.3093441851418436\n",
      "p-value: 0.7570597232046099\n",
      "    \n",
      "Не получилось отвергнуть нулевую гипотезу \n",
      "\n",
      "\n",
      "Результат теста для события \"OffersScreenAppear\":\n",
      "    \n",
      "z-score: 1.154987713610383\n",
      "p-value: 0.2480954578522181\n",
      "    \n",
      "Не получилось отвергнуть нулевую гипотезу \n",
      "\n",
      "\n",
      "Результат теста для события \"CartScreenAppear\":\n",
      "    \n",
      "z-score: 1.203368576486285\n",
      "p-value: 0.22883372237997213\n",
      "    \n",
      "Не получилось отвергнуть нулевую гипотезу \n",
      "\n",
      "\n",
      "Результат теста для события \"PaymentScreenSuccessful\":\n",
      "    \n",
      "z-score: 1.5779948491596598\n",
      "p-value: 0.11456679313141849\n",
      "    \n",
      "Не получилось отвергнуть нулевую гипотезу \n",
      "\n",
      "\n",
      "Результат теста для события \"Tutorial\":\n",
      "    \n",
      "z-score: -0.0781614596617372\n",
      "p-value: 0.9376996189257114\n",
      "    \n",
      "Не получилось отвергнуть нулевую гипотезу \n",
      "\n"
     ]
    }
   ],
   "source": [
    "test_group_1 = 246\n",
    "test_group_2 = 247\n",
    "\n",
    "for ev in events_to_test:\n",
    "    results = z_test(df_stat, test_group_1, test_group_2, ev, users_in_groups[test_group_1],  users_in_groups[test_group_2])\n",
    "    print(f'''\n",
    "Результат теста для события \"{ev}\":\n",
    "    \n",
    "z-score: {results[0]}\n",
    "p-value: {results[1]}\n",
    "    ''')\n",
    "    if results[1] < alpha:\n",
    "        print('Отвергаем нулевую гипотезу: разница между долями пользоваетелй, совершивших событие, статистически значима')\n",
    "    else:\n",
    "        print('Не получилось отвергнуть нулевую гипотезу \\n')\n",
    "    \n",
    "    "
   ]
  },
  {
   "cell_type": "markdown",
   "metadata": {},
   "source": [
    "<div class=\"alert alert-success\" style=\"border-radius: 15px; box-shadow: 4px 4px 4px; border: 1px solid; position: relative; padding: 15px; padding-left: 80px;\">\n",
    "<img src=\"https://lh3.googleusercontent.com/a/AAcHTtc31jlywy-FMYxLAouSSqNAmm5NsrBvivwRIASNt7wihI2ClYdpAbzWNqcigfcR04LfvopHwsJrJpnVr4UXDkCHtWk=s432-c-no\" width=\"45\" height=\"45\" style=\"position: absolute; top: 15px; left: 15px; border-radius: 50%;\">\n",
    "<b> ✔️ Комментарий ревьюера : </b>\n",
    "\n",
    "Методологически проверка гипотез проведена верно и наглядный вывод результатов\n",
    "\n",
    "</div>"
   ]
  },
  {
   "cell_type": "markdown",
   "metadata": {},
   "source": [
    "Результат проверки между двумя контрольными группами показывает, что система разбиения трафика работает корректно, расчёты выполняются правильно: для всех событий разница между долей пользователей совершивших событие, не является статистически значимой."
   ]
  },
  {
   "cell_type": "markdown",
   "metadata": {},
   "source": [
    "### Проверка гипотезы о равенстве долей пользователей, совершивших разные события, между группами 246 (контрольная) и 248 (тестовая)\n",
    "\n",
    "Формулирование гипотез.\n",
    "\n",
    "Нулевая гипотеза: доли пользователей из групп **246** и **248**, совершивших, события, одинаковы.\n",
    "\n",
    "Алтернативная гипотеза: доли пользователей из групп **246** и **248**, совершивших, события, различаются."
   ]
  },
  {
   "cell_type": "code",
   "execution_count": 24,
   "metadata": {},
   "outputs": [
    {
     "name": "stdout",
     "output_type": "stream",
     "text": [
      "\n",
      "Результат теста для события \"MainScreenAppear\":\n",
      "    \n",
      "z-score: 1.0472762353383693\n",
      "p-value: 0.2949721933554552\n",
      "    \n",
      "Не получилось отвергнуть нулевую гипотезу \n",
      "\n",
      "\n",
      "Результат теста для события \"OffersScreenAppear\":\n",
      "    \n",
      "z-score: 1.2580821335711887\n",
      "p-value: 0.20836205402738917\n",
      "    \n",
      "Не получилось отвергнуть нулевую гипотезу \n",
      "\n",
      "\n",
      "Результат теста для события \"CartScreenAppear\":\n",
      "    \n",
      "z-score: 1.7598736474548398\n",
      "p-value: 0.07842923237520116\n",
      "    \n",
      "Не получилось отвергнуть нулевую гипотезу \n",
      "\n",
      "\n",
      "Результат теста для события \"PaymentScreenSuccessful\":\n",
      "    \n",
      "z-score: 1.2473878277158326\n",
      "p-value: 0.2122553275697796\n",
      "    \n",
      "Не получилось отвергнуть нулевую гипотезу \n",
      "\n",
      "\n",
      "Результат теста для события \"Tutorial\":\n",
      "    \n",
      "z-score: 0.21928326020412683\n",
      "p-value: 0.8264294010087645\n",
      "    \n",
      "Не получилось отвергнуть нулевую гипотезу \n",
      "\n"
     ]
    }
   ],
   "source": [
    "test_group_1 = 246\n",
    "test_group_2 = 248\n",
    "\n",
    "for ev in events_to_test:\n",
    "    results = z_test(df_stat, test_group_1, test_group_2, ev, users_in_groups[test_group_1],  users_in_groups[test_group_2])\n",
    "    print(f'''\n",
    "Результат теста для события \"{ev}\":\n",
    "    \n",
    "z-score: {results[0]}\n",
    "p-value: {results[1]}\n",
    "    ''')\n",
    "    if results[1] < alpha:\n",
    "        print('Отвергаем нулевую гипотезу: разница между долями пользоваетелй, совершивших событие, статистически значима')\n",
    "    else:\n",
    "        print('Не получилось отвергнуть нулевую гипотезу \\n')\n",
    "    "
   ]
  },
  {
   "cell_type": "markdown",
   "metadata": {},
   "source": [
    "При сравнении тестовой группы **248** с контрольной группой **246** ни для одного из событий нет статистически значимой разницы в долях пользователей, совершивших событие."
   ]
  },
  {
   "cell_type": "markdown",
   "metadata": {},
   "source": [
    "### Проверка гипотезы о равенстве долей пользователей, совершивших разные события, между группами 247 (контрольная) и 248 (тестовая)\n",
    "\n",
    "Формулирование гипотез.\n",
    "\n",
    "Нулевая гипотеза: доли пользователей из групп **247** и **248**, совершивших, события, одинаковы.\n",
    "\n",
    "Алтернативная гипотеза: доли пользователей из групп **247** и **248**, совершивших, события, различаются."
   ]
  },
  {
   "cell_type": "code",
   "execution_count": 25,
   "metadata": {},
   "outputs": [
    {
     "name": "stdout",
     "output_type": "stream",
     "text": [
      "\n",
      "Результат теста для события \"MainScreenAppear\":\n",
      "    \n",
      "z-score: 0.740980338642352\n",
      "p-value: 0.4587053616621515\n",
      "    \n",
      "Не получилось отвергнуть нулевую гипотезу \n",
      "\n",
      "\n",
      "Результат теста для события \"OffersScreenAppear\":\n",
      "    \n",
      "z-score: 0.1007086015299871\n",
      "p-value: 0.9197817830592261\n",
      "    \n",
      "Не получилось отвергнуть нулевую гипотезу \n",
      "\n",
      "\n",
      "Результат теста для события \"CartScreenAppear\":\n",
      "    \n",
      "z-score: 0.5554019078073092\n",
      "p-value: 0.5786197879539783\n",
      "    \n",
      "Не получилось отвергнуть нулевую гипотезу \n",
      "\n",
      "\n",
      "Результат теста для события \"PaymentScreenSuccessful\":\n",
      "    \n",
      "z-score: -0.3353759529753951\n",
      "p-value: 0.7373415053803964\n",
      "    \n",
      "Не получилось отвергнуть нулевую гипотезу \n",
      "\n",
      "\n",
      "Результат теста для события \"Tutorial\":\n",
      "    \n",
      "z-score: 0.2984969253006019\n",
      "p-value: 0.765323922474501\n",
      "    \n",
      "Не получилось отвергнуть нулевую гипотезу \n",
      "\n"
     ]
    }
   ],
   "source": [
    "test_group_1 = 247\n",
    "test_group_2 = 248\n",
    "\n",
    "for ev in events_to_test:\n",
    "    results = z_test(df_stat, test_group_1, test_group_2, ev, users_in_groups[test_group_1],  users_in_groups[test_group_2])\n",
    "    print(f'''\n",
    "Результат теста для события \"{ev}\":\n",
    "    \n",
    "z-score: {results[0]}\n",
    "p-value: {results[1]}\n",
    "    ''')\n",
    "    if results[1] < alpha:\n",
    "        print('Отвергаем нулевую гипотезу: разница между долями пользоваетелй, совершивших событие, статистически значима')\n",
    "    else:\n",
    "        print('Не получилось отвергнуть нулевую гипотезу \\n')\n",
    "    "
   ]
  },
  {
   "cell_type": "markdown",
   "metadata": {},
   "source": [
    "При сравнении тестовой группы **248** с контрольной группой **247** ни для одного из событий нет статистически значимой разницы в долях пользователей, совершивших событие."
   ]
  },
  {
   "cell_type": "markdown",
   "metadata": {},
   "source": [
    "### Проверка гипотезы о равенстве долей пользователей, совершивших разные события, между объединённой контрольной группой (246 и 247) и 248 (тестовая)\n",
    "\n",
    "Формулирование гипотез.\n",
    "\n",
    "Нулевая гипотеза: доли пользователей из объединённой контрольной группы (**246** + **247**) и тестовой группой **248**, совершивших, события, одинаковы.\n",
    "\n",
    "Алтернативная гипотеза: доли пользователей из из объединённой контрольной группы (**246** + **247**) и тестовой группой **248**, совершивших, события, различаются."
   ]
  },
  {
   "cell_type": "code",
   "execution_count": 26,
   "metadata": {},
   "outputs": [
    {
     "name": "stdout",
     "output_type": "stream",
     "text": [
      "\n",
      "Результат теста для события \"MainScreenAppear\":\n",
      "    \n",
      "z-score: 2.366532701415624\n",
      "p-value: 0.017955587926380634\n",
      "    \n",
      "Не получилось отвергнуть нулевую гипотезу \n",
      "\n",
      "\n",
      "Результат теста для события \"OffersScreenAppear\":\n",
      "    \n",
      "z-score: 0.9676896217340311\n",
      "p-value: 0.33319940279755933\n",
      "    \n",
      "Не получилось отвергнуть нулевую гипотезу \n",
      "\n",
      "\n",
      "Результат теста для события \"CartScreenAppear\":\n",
      "    \n",
      "z-score: 1.204034702052925\n",
      "p-value: 0.22857616615936371\n",
      "    \n",
      "Не получилось отвергнуть нулевую гипотезу \n",
      "\n",
      "\n",
      "Результат теста для события \"PaymentScreenSuccessful\":\n",
      "    \n",
      "z-score: 0.901775269934737\n",
      "p-value: 0.36717625922978314\n",
      "    \n",
      "Не получилось отвергнуть нулевую гипотезу \n",
      "\n",
      "\n",
      "Результат теста для события \"Tutorial\":\n",
      "    \n",
      "z-score: 0.19518198130939132\n",
      "p-value: 0.8452504846116236\n",
      "    \n",
      "Не получилось отвергнуть нулевую гипотезу \n",
      "\n"
     ]
    }
   ],
   "source": [
    "test_group_1 = '246_247'\n",
    "test_group_2 = 248\n",
    "\n",
    "for ev in events_to_test:\n",
    "    results = z_test(df_stat, test_group_1, test_group_2, ev, users_in_groups[246] + users_in_groups[247],  users_in_groups[test_group_2])\n",
    "    print(f'''\n",
    "Результат теста для события \"{ev}\":\n",
    "    \n",
    "z-score: {results[0]}\n",
    "p-value: {results[1]}\n",
    "    ''')\n",
    "    if results[1] < alpha:\n",
    "        print('Отвергаем нулевую гипотезу: разница между долями пользоваетелй, совершивших событие, статистически значима')\n",
    "    else:\n",
    "        print('Не получилось отвергнуть нулевую гипотезу \\n')\n",
    "    "
   ]
  },
  {
   "cell_type": "markdown",
   "metadata": {},
   "source": [
    "При сравнении тестовой группы **248** с объединённой контрольной группой (**246** + **247**) ни для одного из событий нет статистически значимой разницы в долях пользователей, совершивших событие."
   ]
  },
  {
   "cell_type": "markdown",
   "metadata": {},
   "source": [
    "<div class=\"alert alert-success\" style=\"border-radius: 15px; box-shadow: 4px 4px 4px; border: 1px solid; position: relative; padding: 15px; padding-left: 80px;\">\n",
    "<img src=\"https://lh3.googleusercontent.com/a/AAcHTtc31jlywy-FMYxLAouSSqNAmm5NsrBvivwRIASNt7wihI2ClYdpAbzWNqcigfcR04LfvopHwsJrJpnVr4UXDkCHtWk=s432-c-no\" width=\"45\" height=\"45\" style=\"position: absolute; top: 15px; left: 15px; border-radius: 50%;\">\n",
    "<b> ✔️ Комментарий ревьюера : </b>\n",
    "\n",
    "Согласен с результатами. Этап проверки гипотез проведен успешно. Молодец!\n",
    "\n",
    "</div>"
   ]
  },
  {
   "cell_type": "markdown",
   "metadata": {},
   "source": [
    "### Вывод об уровне статистической значимости\n",
    "\n",
    "Уровень статистической значимости, установленный на уровне 5%, привёл бы к другим результатам: тест для события **\"MainScreenAppear\"** при сравнении тестовой группы **248** с объединённой контрольной группой (**246** + **246**) показал p-value, равное 0.018.\n",
    "\n",
    "Коррекция уровня статистической значимости по методу Шидака позволила провести тест более точно и избежать ложнопозитивного результата."
   ]
  },
  {
   "cell_type": "markdown",
   "metadata": {},
   "source": [
    "### Вывод по разделу статистического анализа данных"
   ]
  },
  {
   "cell_type": "markdown",
   "metadata": {},
   "source": [
    "В данном исследования будут проверены гипотезы о равенстве значений конверсии для разных групп на разных этапах продуктовой воронки. Для проверки параметра используется **z-тест**.\n",
    "\n",
    "Общий уровень статистической значимости в рамках исследования установлен в 5%. Поскольку в рамках исследования проводились 4 сравнения одновременно на трёх разных группах, уровень статистической значимости был скорректирован методом Шидака и установлен в 1,27%.\n",
    "\n",
    "Результаты проведённых тестов:\n",
    "\n",
    "Результат проверки между двумя контрольными группами**246** и **247** показывает, что система разбиения трафика работает корректно, расчёты выполняются правильно: для всех событий разница между долей пользователей совершивших событие, не является статистически значимой.\n",
    "\n",
    "При сравнении тестовой группы **248** с контрольной группой **246** ни для одного из событий нет статистически значимой разницы в долях пользователей, совершивших событие.\n",
    "\n",
    "При сравнении тестовой группы **248** с контрольной группой **247** ни для одного из событий нет статистически значимой разницы в долях пользователей, совершивших событие.\n",
    "\n",
    "При сравнении тестовой группы **248** с объединённой контрольной группой (**246** + **247**) ни для одного из событий нет статистически значимой разницы в долях пользователей, совершивших событие."
   ]
  },
  {
   "cell_type": "markdown",
   "metadata": {},
   "source": [
    "## Общий вывод\n",
    "\n",
    "### Цели и задачи проекта\n",
    "\n",
    "Цели проекта: \n",
    "\n",
    "Изучить воронку продаж приложения и проверить гипотезу об изменении отношения пользователей к приложению после смены шрифтов.\n",
    "\n",
    "Задачи проекта:\n",
    "\n",
    "1. Изучить данные:\n",
    "    - определить действительный период, за который есть полные данные;\n",
    "    - определить количество событи;, пользователей, их количество, соотношение и распределение пользователей по группам.\n",
    "\n",
    "2. Изучить воронку продаж:\n",
    "    - определить этапы воронки событий;\n",
    "    - рассчитать конверсию каждого этапа;\n",
    "    - выяснить, на каком этапе теряется больше всего пользователей.\n",
    "\n",
    "3. Провести статистический анализ результатов A/A/B-эксперимента. Провести серию тестов для определения изменения доли пользователей, оказавшихся на разных этапах воронки событий приложения, для двух контрольных групп и одной тестовой, пользователи которой работали в приложении с изменёнными шрифтами.\n",
    "\n",
    "### Исследовательский анализ данных\n",
    "\n",
    "Полные данные в логе есть только за период с 1 по 7 августа. \n",
    "\n",
    "Количество пользователей за этот период:\n",
    "\n",
    "- общее: 7534;\n",
    "- группа 246: 2484;\n",
    "- группа 247: 2513;\n",
    "- группа 248: 2537.\n",
    "\n",
    "В логе события 5 видов: \n",
    "\n",
    "- **\"MainScreenAppear\"** - пользователь заходит на главную страницу; \n",
    "- **\"OffersScreenAppear\"** - пользователю предложены товары; \n",
    "- **\"CartScreenAppear\"** - пользователь перешёл в \"корзину\" с выбранными товарами;\n",
    "- **\"PaymentScreenSuccessful\"** - пользователь успешно оплатил товары;\n",
    "- **\"Tutorial\"** - пользователь перешёл на страницу с руководством.\n",
    "\n",
    "Воронка событий выглядит следующим образом:\n",
    "\n",
    "1. **\"MainScreenAppear\"** - пользователь заходит на главную страницу - совершают 98,47% пользователей, зашедших в приложение; \n",
    "\n",
    "2. **\"OffersScreenAppear\"** - пользователю предложены товары, формирование заказа - совершают 61,91% пользователей, открывших главную страницу; \n",
    "\n",
    "3. **\"CartScreenAppear\"** - пользователь перешёл в \"корзину\" с выбранными товарами - совершают 81,3% пользователей, выбравших товары;\n",
    "\n",
    "4. **\"PaymentScreenSuccessful\"** - пользователь успешно оплатил товары - совершают 94,78% пользователей, оформивших заказ в корзине;\n",
    "\n",
    "47,7%  пользователей проходят от первого события до успешной оплаты заказа. \n",
    "\n",
    "Больше всего пользоветелей теряется на этапе **\"OffersScreenAppear\"** - предложения товаров и формирования заказа: 38,1 % пользователей, открывших прилоежение и посетивших главную страницу, не переходят к следующему этапу.\n",
    "\n",
    "### Статистический анализ данных\n",
    "\n",
    "В данном исследования будут проверены гипотезы о равенстве значений конверсии для разных групп на разных этапах продуктовой воронки. Для проверки параметра используется **z-тест**.\n",
    "\n",
    "Общий уровень статистической значимости в рамках исследования установлен в 5%. Поскольку в рамках исследования проводились 4 сравнения одновременно на трёх разных группах, уровень статистической значимости был скорректирован методом Шидака и установлен в 1,27%.\n",
    "\n",
    "Результаты проведённых тестов:\n",
    "\n",
    "Результат проверки между двумя контрольными группами**246** и **247** показывает, что система разбиения трафика работает корректно, расчёты выполняются правильно: для всех событий разница между долей пользователей совершивших событие, не является статистически значимой.\n",
    "\n",
    "При сравнении тестовой группы **248** с контрольной группой **246** ни для одного из событий нет статистически значимой разницы в долях пользователей, совершивших событие.\n",
    "\n",
    "При сравнении тестовой группы **248** с контрольной группой **247** ни для одного из событий нет статистически значимой разницы в долях пользователей, совершивших событие.\n",
    "\n",
    "При сравнении тестовой группы **248** с объединённой контрольной группой (**246** + **247**) ни для одного из событий нет статистически значимой разницы в долях пользователей, совершивших событие.\n",
    "\n",
    "### Рекомендации по результатам исследования\n",
    "\n",
    "Рекомендую считать, что изменение шрифтов в приложении не повлияло на отношение пользователей к приложению и их конверсию ни для одного из этапов воронки событий приложения. \n",
    "\n",
    "<div class=\"alert alert-warning\" style=\"border-radius: 15px; box-shadow: 4px 4px 4px; border: 1px solid; position: relative; padding: 15px; padding-left: 80px;\">\n",
    "<img src=\"https://lh3.googleusercontent.com/a/AAcHTtc31jlywy-FMYxLAouSSqNAmm5NsrBvivwRIASNt7wihI2ClYdpAbzWNqcigfcR04LfvopHwsJrJpnVr4UXDkCHtWk=s432-c-no\" width=\"45\" height=\"45\" style=\"position: absolute; top: 15px; left: 15px; border-radius: 50%;\">\n",
    "<b> ✏️ Рекомендация ревьюера : </b>\n",
    "\n",
    "    Дизайнеры захотели поменять шрифты во всём приложении, а менеджеры испугались, что пользователям будет непривычно. Договорились принять решение по результатам A/A/B-теста.\n",
    "\n",
    "Для полноты картины и большей практической ценности результатов, можно было добавить, помимо самого вывода, еще и рекомендации. Приведу цитату из книги для понимания важности таких рекомендаций:\n",
    "\n",
    "---\n",
    "\n",
    "Аналитик – это не просто интерфейс над данными, аналитик – это столь же важный человек для принятия решения, как и продюсер с гейм-дизайнером. Что это значит для отчета? Если отчет просто отвечает на поставленный вопрос – это недоработанный отчет, в идеале он должен сопровождаться рекомендациями.\n",
    "\n",
    "За свою практику я завернул (отправил на доработку) большое множество отчетов с комментарием: «Где call to action?» Call to action, или призыв к действию, – это то, что должно быть в каждом отчете аналитика\n",
    "\n",
    "---\n",
    "\n",
    "(c) \"Игра в цифры. Как аналитика позволяет видеоиграм жить лучше\"\n",
    "\n",
    "\n",
    "</div>\n",
    "\n",
    "### О качестве данных\n",
    "\n",
    "В датасете присутствуют 413 дублирующихся строк.\n",
    "\n",
    "Пропусков данных и явных ошибок в датасетах нет."
   ]
  }
 ],
 "metadata": {
  "ExecuteTimeLog": [
   {
    "duration": 61,
    "start_time": "2024-03-22T12:15:00.150Z"
   },
   {
    "duration": 1174,
    "start_time": "2024-03-22T12:18:08.670Z"
   },
   {
    "duration": 819,
    "start_time": "2024-03-22T12:18:10.565Z"
   },
   {
    "duration": 349,
    "start_time": "2024-03-22T12:18:43.398Z"
   },
   {
    "duration": 185,
    "start_time": "2024-03-22T12:18:58.615Z"
   },
   {
    "duration": 22,
    "start_time": "2024-03-22T12:20:06.631Z"
   },
   {
    "duration": 3,
    "start_time": "2024-03-22T12:23:16.945Z"
   },
   {
    "duration": 68,
    "start_time": "2024-03-22T12:24:04.083Z"
   },
   {
    "duration": 10,
    "start_time": "2024-03-22T12:24:10.825Z"
   },
   {
    "duration": 5,
    "start_time": "2024-03-22T12:24:48.842Z"
   },
   {
    "duration": 153,
    "start_time": "2024-03-22T12:26:58.261Z"
   },
   {
    "duration": 8,
    "start_time": "2024-03-22T12:27:02.822Z"
   },
   {
    "duration": 5,
    "start_time": "2024-03-22T12:28:09.742Z"
   },
   {
    "duration": 9,
    "start_time": "2024-03-22T12:28:16.046Z"
   },
   {
    "duration": 9,
    "start_time": "2024-03-22T12:28:19.732Z"
   },
   {
    "duration": 9,
    "start_time": "2024-03-22T12:28:22.110Z"
   },
   {
    "duration": 131,
    "start_time": "2024-03-22T12:28:34.847Z"
   },
   {
    "duration": 4,
    "start_time": "2024-03-22T12:28:51.814Z"
   },
   {
    "duration": 5,
    "start_time": "2024-03-22T12:28:57.551Z"
   },
   {
    "duration": 12,
    "start_time": "2024-03-22T12:29:00.551Z"
   },
   {
    "duration": 5,
    "start_time": "2024-03-22T12:29:03.855Z"
   },
   {
    "duration": 5,
    "start_time": "2024-03-22T12:35:41.270Z"
   },
   {
    "duration": 7,
    "start_time": "2024-03-22T12:36:08.574Z"
   },
   {
    "duration": 42,
    "start_time": "2024-03-22T12:36:47.239Z"
   },
   {
    "duration": 159,
    "start_time": "2024-03-22T12:37:41.850Z"
   },
   {
    "duration": 5,
    "start_time": "2024-03-22T12:49:24.301Z"
   },
   {
    "duration": 3,
    "start_time": "2024-03-22T12:49:57.637Z"
   },
   {
    "duration": 4,
    "start_time": "2024-03-22T12:50:12.653Z"
   },
   {
    "duration": 242,
    "start_time": "2024-03-22T12:55:07.596Z"
   },
   {
    "duration": 1135,
    "start_time": "2024-03-22T12:56:21.308Z"
   },
   {
    "duration": 4,
    "start_time": "2024-03-22T12:57:17.742Z"
   },
   {
    "duration": 9,
    "start_time": "2024-03-22T12:57:21.238Z"
   },
   {
    "duration": 9,
    "start_time": "2024-03-22T12:57:29.463Z"
   },
   {
    "duration": 1142,
    "start_time": "2024-03-22T12:58:27.217Z"
   },
   {
    "duration": 211,
    "start_time": "2024-03-22T12:58:28.361Z"
   },
   {
    "duration": 25,
    "start_time": "2024-03-22T12:58:28.573Z"
   },
   {
    "duration": 3,
    "start_time": "2024-03-22T12:58:28.600Z"
   },
   {
    "duration": 263,
    "start_time": "2024-03-22T12:58:28.605Z"
   },
   {
    "duration": 123,
    "start_time": "2024-03-22T12:58:28.872Z"
   },
   {
    "duration": 1160,
    "start_time": "2024-03-22T12:58:48.783Z"
   },
   {
    "duration": 1183,
    "start_time": "2024-03-22T12:58:57.046Z"
   },
   {
    "duration": 199,
    "start_time": "2024-03-22T12:58:58.232Z"
   },
   {
    "duration": 22,
    "start_time": "2024-03-22T12:58:58.433Z"
   },
   {
    "duration": 3,
    "start_time": "2024-03-22T12:58:58.457Z"
   },
   {
    "duration": 269,
    "start_time": "2024-03-22T12:58:58.478Z"
   },
   {
    "duration": 119,
    "start_time": "2024-03-22T12:58:58.749Z"
   },
   {
    "duration": 32,
    "start_time": "2024-03-22T12:59:14.496Z"
   },
   {
    "duration": 206,
    "start_time": "2024-03-22T13:00:15.033Z"
   },
   {
    "duration": 61,
    "start_time": "2024-03-22T13:05:50.945Z"
   },
   {
    "duration": 58,
    "start_time": "2024-03-22T13:07:34.802Z"
   },
   {
    "duration": 11,
    "start_time": "2024-03-22T13:08:48.355Z"
   },
   {
    "duration": 145,
    "start_time": "2024-03-22T13:08:53.380Z"
   },
   {
    "duration": 12,
    "start_time": "2024-03-22T13:09:03.347Z"
   },
   {
    "duration": 10,
    "start_time": "2024-03-22T13:09:27.204Z"
   },
   {
    "duration": 61,
    "start_time": "2024-03-22T13:09:41.389Z"
   },
   {
    "duration": 109,
    "start_time": "2024-03-22T13:10:35.342Z"
   },
   {
    "duration": 56,
    "start_time": "2024-03-22T13:10:41.870Z"
   },
   {
    "duration": 56,
    "start_time": "2024-03-22T13:10:56.349Z"
   },
   {
    "duration": 64,
    "start_time": "2024-03-22T13:11:03.926Z"
   },
   {
    "duration": 441,
    "start_time": "2024-03-22T13:12:07.727Z"
   },
   {
    "duration": 82,
    "start_time": "2024-03-22T13:12:23.176Z"
   },
   {
    "duration": 71,
    "start_time": "2024-03-22T13:12:45.594Z"
   },
   {
    "duration": 73,
    "start_time": "2024-03-22T13:13:19.465Z"
   },
   {
    "duration": 70,
    "start_time": "2024-03-22T13:13:26.874Z"
   },
   {
    "duration": 69,
    "start_time": "2024-03-22T13:15:11.427Z"
   },
   {
    "duration": 7,
    "start_time": "2024-03-22T13:15:27.684Z"
   },
   {
    "duration": 80,
    "start_time": "2024-03-22T13:15:32.403Z"
   },
   {
    "duration": 72,
    "start_time": "2024-03-22T13:16:20.468Z"
   },
   {
    "duration": 80,
    "start_time": "2024-03-22T13:16:35.068Z"
   },
   {
    "duration": 81,
    "start_time": "2024-03-22T13:16:53.045Z"
   },
   {
    "duration": 119,
    "start_time": "2024-03-22T13:19:30.911Z"
   },
   {
    "duration": 1653,
    "start_time": "2024-03-22T13:22:21.602Z"
   },
   {
    "duration": 1116,
    "start_time": "2024-03-22T13:22:28.035Z"
   },
   {
    "duration": 227,
    "start_time": "2024-03-22T13:22:29.153Z"
   },
   {
    "duration": 3,
    "start_time": "2024-03-22T13:22:29.382Z"
   },
   {
    "duration": 279,
    "start_time": "2024-03-22T13:22:29.387Z"
   },
   {
    "duration": 90,
    "start_time": "2024-03-22T13:22:29.668Z"
   },
   {
    "duration": 135,
    "start_time": "2024-03-22T13:22:29.760Z"
   },
   {
    "duration": 98,
    "start_time": "2024-03-22T13:22:42.635Z"
   },
   {
    "duration": 70,
    "start_time": "2024-03-22T13:23:39.428Z"
   },
   {
    "duration": 32,
    "start_time": "2024-03-22T13:41:35.789Z"
   },
   {
    "duration": 120,
    "start_time": "2024-03-22T13:42:54.660Z"
   },
   {
    "duration": 21,
    "start_time": "2024-03-22T13:42:57.492Z"
   },
   {
    "duration": 11,
    "start_time": "2024-03-22T13:43:55.694Z"
   },
   {
    "duration": 39,
    "start_time": "2024-03-22T13:44:00.510Z"
   },
   {
    "duration": 179,
    "start_time": "2024-03-22T13:44:11.190Z"
   },
   {
    "duration": 34,
    "start_time": "2024-03-22T13:44:41.894Z"
   },
   {
    "duration": 174,
    "start_time": "2024-03-22T13:44:51.494Z"
   },
   {
    "duration": 29,
    "start_time": "2024-03-22T13:44:59.854Z"
   },
   {
    "duration": 160,
    "start_time": "2024-03-22T13:45:10.495Z"
   },
   {
    "duration": 176,
    "start_time": "2024-03-22T13:45:32.375Z"
   },
   {
    "duration": 231,
    "start_time": "2024-03-22T13:45:47.759Z"
   },
   {
    "duration": 106,
    "start_time": "2024-03-22T13:45:52.543Z"
   },
   {
    "duration": 4,
    "start_time": "2024-03-22T13:45:57.255Z"
   },
   {
    "duration": 187,
    "start_time": "2024-03-22T13:45:59.535Z"
   },
   {
    "duration": 105,
    "start_time": "2024-03-22T13:46:08.959Z"
   },
   {
    "duration": 196,
    "start_time": "2024-03-22T13:46:42.559Z"
   },
   {
    "duration": 178,
    "start_time": "2024-03-22T13:46:53.704Z"
   },
   {
    "duration": 184,
    "start_time": "2024-03-22T13:47:17.075Z"
   },
   {
    "duration": 240,
    "start_time": "2024-03-22T13:47:20.791Z"
   },
   {
    "duration": 187,
    "start_time": "2024-03-22T13:47:38.848Z"
   },
   {
    "duration": 187,
    "start_time": "2024-03-22T13:48:05.409Z"
   },
   {
    "duration": 174,
    "start_time": "2024-03-22T13:48:41.471Z"
   },
   {
    "duration": 186,
    "start_time": "2024-03-22T13:49:24.442Z"
   },
   {
    "duration": 191,
    "start_time": "2024-03-22T13:49:29.914Z"
   },
   {
    "duration": 19,
    "start_time": "2024-03-22T13:51:56.948Z"
   },
   {
    "duration": 394,
    "start_time": "2024-03-22T13:59:42.923Z"
   },
   {
    "duration": 1205,
    "start_time": "2024-03-22T13:59:55.747Z"
   },
   {
    "duration": 241,
    "start_time": "2024-03-22T13:59:56.954Z"
   },
   {
    "duration": 3,
    "start_time": "2024-03-22T13:59:57.196Z"
   },
   {
    "duration": 296,
    "start_time": "2024-03-22T13:59:57.201Z"
   },
   {
    "duration": 95,
    "start_time": "2024-03-22T13:59:57.499Z"
   },
   {
    "duration": 120,
    "start_time": "2024-03-22T13:59:57.595Z"
   },
   {
    "duration": 20,
    "start_time": "2024-03-22T13:59:57.716Z"
   },
   {
    "duration": 1679,
    "start_time": "2024-03-22T13:59:57.737Z"
   },
   {
    "duration": 0,
    "start_time": "2024-03-22T13:59:59.417Z"
   },
   {
    "duration": 28,
    "start_time": "2024-03-22T14:00:02.338Z"
   },
   {
    "duration": 203,
    "start_time": "2024-03-22T14:00:07.388Z"
   },
   {
    "duration": 6,
    "start_time": "2024-03-22T14:07:17.593Z"
   },
   {
    "duration": 12,
    "start_time": "2024-03-22T14:07:23.890Z"
   },
   {
    "duration": 6,
    "start_time": "2024-03-22T14:07:30.921Z"
   },
   {
    "duration": 9,
    "start_time": "2024-03-22T14:07:47.881Z"
   },
   {
    "duration": 7,
    "start_time": "2024-03-22T14:08:10.794Z"
   },
   {
    "duration": 4,
    "start_time": "2024-03-22T14:16:46.705Z"
   },
   {
    "duration": 21,
    "start_time": "2024-03-22T14:17:19.505Z"
   },
   {
    "duration": 99,
    "start_time": "2024-03-22T14:17:49.042Z"
   },
   {
    "duration": 101,
    "start_time": "2024-03-22T14:18:06.010Z"
   },
   {
    "duration": 99,
    "start_time": "2024-03-22T14:18:22.287Z"
   },
   {
    "duration": 100,
    "start_time": "2024-03-22T14:18:28.762Z"
   },
   {
    "duration": 20,
    "start_time": "2024-03-22T14:18:39.859Z"
   },
   {
    "duration": 23,
    "start_time": "2024-03-22T14:20:26.397Z"
   },
   {
    "duration": 23,
    "start_time": "2024-03-22T14:20:35.957Z"
   },
   {
    "duration": 21,
    "start_time": "2024-03-22T14:20:53.829Z"
   },
   {
    "duration": 20,
    "start_time": "2024-03-22T14:21:17.164Z"
   },
   {
    "duration": 20,
    "start_time": "2024-03-22T14:22:07.093Z"
   },
   {
    "duration": 25,
    "start_time": "2024-03-22T14:24:56.608Z"
   },
   {
    "duration": 26,
    "start_time": "2024-03-22T14:25:08.456Z"
   },
   {
    "duration": 24,
    "start_time": "2024-03-22T14:26:01.826Z"
   },
   {
    "duration": 23,
    "start_time": "2024-03-22T14:26:10.137Z"
   },
   {
    "duration": 26,
    "start_time": "2024-03-22T14:26:18.241Z"
   },
   {
    "duration": 103,
    "start_time": "2024-03-22T14:27:04.306Z"
   },
   {
    "duration": 46,
    "start_time": "2024-03-22T14:27:30.043Z"
   },
   {
    "duration": 42,
    "start_time": "2024-03-22T14:27:33.810Z"
   },
   {
    "duration": 136,
    "start_time": "2024-03-22T14:27:41.459Z"
   },
   {
    "duration": 41,
    "start_time": "2024-03-22T14:27:48.780Z"
   },
   {
    "duration": 99,
    "start_time": "2024-03-22T14:28:50.779Z"
   },
   {
    "duration": 35,
    "start_time": "2024-03-22T14:32:13.167Z"
   },
   {
    "duration": 39,
    "start_time": "2024-03-22T14:35:33.172Z"
   },
   {
    "duration": 1129,
    "start_time": "2024-03-22T14:36:53.817Z"
   },
   {
    "duration": 221,
    "start_time": "2024-03-22T14:36:54.948Z"
   },
   {
    "duration": 3,
    "start_time": "2024-03-22T14:36:55.174Z"
   },
   {
    "duration": 318,
    "start_time": "2024-03-22T14:36:55.178Z"
   },
   {
    "duration": 104,
    "start_time": "2024-03-22T14:36:55.499Z"
   },
   {
    "duration": 119,
    "start_time": "2024-03-22T14:36:55.605Z"
   },
   {
    "duration": 51,
    "start_time": "2024-03-22T14:36:55.726Z"
   },
   {
    "duration": 35,
    "start_time": "2024-03-22T14:36:55.779Z"
   },
   {
    "duration": 6,
    "start_time": "2024-03-22T14:36:55.816Z"
   },
   {
    "duration": 52,
    "start_time": "2024-03-22T14:36:55.824Z"
   },
   {
    "duration": 209,
    "start_time": "2024-03-22T14:36:55.878Z"
   },
   {
    "duration": 126,
    "start_time": "2024-03-22T14:37:48.336Z"
   },
   {
    "duration": 5,
    "start_time": "2024-03-22T14:38:01.946Z"
   },
   {
    "duration": 163,
    "start_time": "2024-03-22T14:38:33.939Z"
   },
   {
    "duration": 9,
    "start_time": "2024-03-22T14:38:52.715Z"
   },
   {
    "duration": 33,
    "start_time": "2024-03-22T14:38:55.850Z"
   },
   {
    "duration": 38,
    "start_time": "2024-03-22T14:39:08.683Z"
   },
   {
    "duration": 348,
    "start_time": "2024-03-22T14:39:48.667Z"
   },
   {
    "duration": 299,
    "start_time": "2024-03-22T14:40:13.596Z"
   },
   {
    "duration": 254,
    "start_time": "2024-03-22T14:40:37.342Z"
   },
   {
    "duration": 267,
    "start_time": "2024-03-22T14:40:42.678Z"
   },
   {
    "duration": 344,
    "start_time": "2024-03-22T14:40:51.782Z"
   },
   {
    "duration": 442,
    "start_time": "2024-03-22T14:41:15.503Z"
   },
   {
    "duration": 97,
    "start_time": "2024-03-22T14:41:42.111Z"
   },
   {
    "duration": 571,
    "start_time": "2024-03-22T14:42:01.391Z"
   },
   {
    "duration": 533,
    "start_time": "2024-03-22T14:42:06.784Z"
   },
   {
    "duration": 298,
    "start_time": "2024-03-22T14:43:25.289Z"
   },
   {
    "duration": 1110,
    "start_time": "2024-03-22T14:44:00.438Z"
   },
   {
    "duration": 214,
    "start_time": "2024-03-22T14:44:01.550Z"
   },
   {
    "duration": 3,
    "start_time": "2024-03-22T14:44:01.765Z"
   },
   {
    "duration": 346,
    "start_time": "2024-03-22T14:44:01.769Z"
   },
   {
    "duration": 97,
    "start_time": "2024-03-22T14:44:02.117Z"
   },
   {
    "duration": 115,
    "start_time": "2024-03-22T14:44:02.215Z"
   },
   {
    "duration": 49,
    "start_time": "2024-03-22T14:44:02.332Z"
   },
   {
    "duration": 34,
    "start_time": "2024-03-22T14:44:02.383Z"
   },
   {
    "duration": 366,
    "start_time": "2024-03-22T14:44:02.419Z"
   },
   {
    "duration": 36,
    "start_time": "2024-03-22T14:44:02.788Z"
   },
   {
    "duration": 524,
    "start_time": "2024-03-22T14:44:02.826Z"
   },
   {
    "duration": 31,
    "start_time": "2024-03-22T14:44:03.351Z"
   },
   {
    "duration": 209,
    "start_time": "2024-03-22T14:44:03.384Z"
   },
   {
    "duration": 273,
    "start_time": "2024-03-22T14:44:23.723Z"
   },
   {
    "duration": 244,
    "start_time": "2024-03-22T14:46:25.695Z"
   },
   {
    "duration": 254,
    "start_time": "2024-03-22T14:46:35.615Z"
   },
   {
    "duration": 223,
    "start_time": "2024-03-22T14:46:39.975Z"
   },
   {
    "duration": 236,
    "start_time": "2024-03-22T14:46:42.174Z"
   },
   {
    "duration": 264,
    "start_time": "2024-03-22T14:46:53.927Z"
   },
   {
    "duration": 159,
    "start_time": "2024-03-22T14:47:15.743Z"
   },
   {
    "duration": 347,
    "start_time": "2024-03-22T14:47:20.631Z"
   },
   {
    "duration": 280,
    "start_time": "2024-03-22T14:49:19.898Z"
   },
   {
    "duration": 173,
    "start_time": "2024-03-22T14:52:58.231Z"
   },
   {
    "duration": 98,
    "start_time": "2024-03-22T14:53:09.103Z"
   },
   {
    "duration": 102,
    "start_time": "2024-03-22T14:53:12.486Z"
   },
   {
    "duration": 108,
    "start_time": "2024-03-22T14:53:18.063Z"
   },
   {
    "duration": 398,
    "start_time": "2024-03-22T14:53:21.390Z"
   },
   {
    "duration": 1222,
    "start_time": "2024-03-22T14:53:51.200Z"
   },
   {
    "duration": 1175,
    "start_time": "2024-03-22T14:54:03.182Z"
   },
   {
    "duration": 219,
    "start_time": "2024-03-22T14:54:04.360Z"
   },
   {
    "duration": 3,
    "start_time": "2024-03-22T14:54:04.580Z"
   },
   {
    "duration": 303,
    "start_time": "2024-03-22T14:54:04.585Z"
   },
   {
    "duration": 0,
    "start_time": "2024-03-22T14:54:04.890Z"
   },
   {
    "duration": 0,
    "start_time": "2024-03-22T14:54:04.891Z"
   },
   {
    "duration": 0,
    "start_time": "2024-03-22T14:54:04.893Z"
   },
   {
    "duration": 0,
    "start_time": "2024-03-22T14:54:04.894Z"
   },
   {
    "duration": 0,
    "start_time": "2024-03-22T14:54:04.895Z"
   },
   {
    "duration": 0,
    "start_time": "2024-03-22T14:54:04.897Z"
   },
   {
    "duration": 0,
    "start_time": "2024-03-22T14:54:04.898Z"
   },
   {
    "duration": 0,
    "start_time": "2024-03-22T14:54:04.900Z"
   },
   {
    "duration": 0,
    "start_time": "2024-03-22T14:54:04.901Z"
   },
   {
    "duration": 0,
    "start_time": "2024-03-22T14:54:04.902Z"
   },
   {
    "duration": 1199,
    "start_time": "2024-03-22T14:54:20.735Z"
   },
   {
    "duration": 1210,
    "start_time": "2024-03-22T14:54:39.224Z"
   },
   {
    "duration": 1152,
    "start_time": "2024-03-22T14:54:46.687Z"
   },
   {
    "duration": 215,
    "start_time": "2024-03-22T14:54:47.841Z"
   },
   {
    "duration": 3,
    "start_time": "2024-03-22T14:54:48.058Z"
   },
   {
    "duration": 370,
    "start_time": "2024-03-22T14:54:48.063Z"
   },
   {
    "duration": 98,
    "start_time": "2024-03-22T14:54:48.435Z"
   },
   {
    "duration": 118,
    "start_time": "2024-03-22T14:54:48.535Z"
   },
   {
    "duration": 46,
    "start_time": "2024-03-22T14:54:48.655Z"
   },
   {
    "duration": 6,
    "start_time": "2024-03-22T14:54:48.703Z"
   },
   {
    "duration": 379,
    "start_time": "2024-03-22T14:54:48.710Z"
   },
   {
    "duration": 10,
    "start_time": "2024-03-22T14:54:49.091Z"
   },
   {
    "duration": 30,
    "start_time": "2024-03-22T14:54:49.102Z"
   },
   {
    "duration": 230,
    "start_time": "2024-03-22T14:54:49.134Z"
   },
   {
    "duration": 32,
    "start_time": "2024-03-22T14:54:49.365Z"
   },
   {
    "duration": 200,
    "start_time": "2024-03-22T14:54:49.399Z"
   },
   {
    "duration": 11,
    "start_time": "2024-03-22T14:55:10.424Z"
   },
   {
    "duration": 122,
    "start_time": "2024-03-22T14:55:22.449Z"
   },
   {
    "duration": 114,
    "start_time": "2024-03-22T14:55:34.961Z"
   },
   {
    "duration": 6,
    "start_time": "2024-03-22T14:55:39.810Z"
   },
   {
    "duration": 16,
    "start_time": "2024-03-22T14:56:04.953Z"
   },
   {
    "duration": 7,
    "start_time": "2024-03-22T14:56:18.890Z"
   },
   {
    "duration": 16,
    "start_time": "2024-03-22T14:56:28.161Z"
   },
   {
    "duration": 7,
    "start_time": "2024-03-22T14:56:34.910Z"
   },
   {
    "duration": 9,
    "start_time": "2024-03-22T14:57:49.995Z"
   },
   {
    "duration": 5,
    "start_time": "2024-03-22T14:58:10.165Z"
   },
   {
    "duration": 9,
    "start_time": "2024-03-22T15:01:13.185Z"
   },
   {
    "duration": 427,
    "start_time": "2024-03-22T15:01:25.177Z"
   },
   {
    "duration": 99,
    "start_time": "2024-03-22T15:04:01.444Z"
   },
   {
    "duration": 47,
    "start_time": "2024-03-22T15:04:09.875Z"
   },
   {
    "duration": 434,
    "start_time": "2024-03-22T15:04:19.948Z"
   },
   {
    "duration": 7,
    "start_time": "2024-03-22T15:07:34.958Z"
   },
   {
    "duration": 9,
    "start_time": "2024-03-22T15:08:21.777Z"
   },
   {
    "duration": 6,
    "start_time": "2024-03-22T15:08:31.000Z"
   },
   {
    "duration": 1204,
    "start_time": "2024-03-22T15:09:20.075Z"
   },
   {
    "duration": 1143,
    "start_time": "2024-03-22T15:10:41.833Z"
   },
   {
    "duration": 225,
    "start_time": "2024-03-22T15:10:42.978Z"
   },
   {
    "duration": 3,
    "start_time": "2024-03-22T15:10:43.205Z"
   },
   {
    "duration": 328,
    "start_time": "2024-03-22T15:10:43.209Z"
   },
   {
    "duration": 78,
    "start_time": "2024-03-22T15:10:43.540Z"
   },
   {
    "duration": 95,
    "start_time": "2024-03-22T15:10:43.620Z"
   },
   {
    "duration": 42,
    "start_time": "2024-03-22T15:10:43.717Z"
   },
   {
    "duration": 16,
    "start_time": "2024-03-22T15:10:43.760Z"
   },
   {
    "duration": 562,
    "start_time": "2024-03-22T15:10:43.778Z"
   },
   {
    "duration": 5,
    "start_time": "2024-03-22T15:10:44.342Z"
   },
   {
    "duration": 30,
    "start_time": "2024-03-22T15:10:44.348Z"
   },
   {
    "duration": 224,
    "start_time": "2024-03-22T15:10:44.380Z"
   },
   {
    "duration": 27,
    "start_time": "2024-03-22T15:10:44.606Z"
   },
   {
    "duration": 205,
    "start_time": "2024-03-22T15:10:44.635Z"
   },
   {
    "duration": 1796,
    "start_time": "2024-03-22T15:11:26.166Z"
   },
   {
    "duration": 6,
    "start_time": "2024-03-22T15:11:39.615Z"
   },
   {
    "duration": 5,
    "start_time": "2024-03-22T15:14:12.378Z"
   },
   {
    "duration": 49,
    "start_time": "2024-03-22T15:16:19.054Z"
   },
   {
    "duration": 41,
    "start_time": "2024-03-22T15:17:12.344Z"
   },
   {
    "duration": 19,
    "start_time": "2024-03-22T15:17:21.839Z"
   },
   {
    "duration": 19,
    "start_time": "2024-03-22T15:17:42.312Z"
   },
   {
    "duration": 1178,
    "start_time": "2024-03-22T15:17:53.278Z"
   },
   {
    "duration": 216,
    "start_time": "2024-03-22T15:17:54.458Z"
   },
   {
    "duration": 3,
    "start_time": "2024-03-22T15:17:54.675Z"
   },
   {
    "duration": 305,
    "start_time": "2024-03-22T15:17:54.680Z"
   },
   {
    "duration": 66,
    "start_time": "2024-03-22T15:17:54.987Z"
   },
   {
    "duration": 95,
    "start_time": "2024-03-22T15:17:55.054Z"
   },
   {
    "duration": 52,
    "start_time": "2024-03-22T15:17:55.151Z"
   },
   {
    "duration": 6,
    "start_time": "2024-03-22T15:17:55.205Z"
   },
   {
    "duration": 169,
    "start_time": "2024-03-22T15:17:55.213Z"
   },
   {
    "duration": 0,
    "start_time": "2024-03-22T15:17:55.384Z"
   },
   {
    "duration": 0,
    "start_time": "2024-03-22T15:17:55.386Z"
   },
   {
    "duration": 0,
    "start_time": "2024-03-22T15:17:55.387Z"
   },
   {
    "duration": 0,
    "start_time": "2024-03-22T15:17:55.389Z"
   },
   {
    "duration": 0,
    "start_time": "2024-03-22T15:17:55.390Z"
   },
   {
    "duration": 0,
    "start_time": "2024-03-22T15:17:55.392Z"
   },
   {
    "duration": 0,
    "start_time": "2024-03-22T15:17:55.393Z"
   },
   {
    "duration": 19,
    "start_time": "2024-03-22T15:17:58.504Z"
   },
   {
    "duration": 13,
    "start_time": "2024-03-22T15:18:07.608Z"
   },
   {
    "duration": 20,
    "start_time": "2024-03-22T15:18:15.880Z"
   },
   {
    "duration": 16,
    "start_time": "2024-03-22T15:18:34.201Z"
   },
   {
    "duration": 5,
    "start_time": "2024-03-22T15:18:54.258Z"
   },
   {
    "duration": 6,
    "start_time": "2024-03-22T15:19:04.386Z"
   },
   {
    "duration": 5,
    "start_time": "2024-03-22T15:19:17.165Z"
   },
   {
    "duration": 57,
    "start_time": "2024-03-22T15:19:35.026Z"
   },
   {
    "duration": 25,
    "start_time": "2024-03-22T15:19:44.530Z"
   },
   {
    "duration": 20,
    "start_time": "2024-03-22T15:20:51.205Z"
   },
   {
    "duration": 32,
    "start_time": "2024-03-22T15:21:24.389Z"
   },
   {
    "duration": 42,
    "start_time": "2024-03-22T15:21:33.846Z"
   },
   {
    "duration": 24,
    "start_time": "2024-03-22T15:22:09.814Z"
   },
   {
    "duration": 23,
    "start_time": "2024-03-22T15:22:36.032Z"
   },
   {
    "duration": 40,
    "start_time": "2024-03-22T15:22:57.567Z"
   },
   {
    "duration": 46,
    "start_time": "2024-03-22T15:23:32.360Z"
   },
   {
    "duration": 46,
    "start_time": "2024-03-22T15:24:37.009Z"
   },
   {
    "duration": 46,
    "start_time": "2024-03-22T15:24:43.490Z"
   },
   {
    "duration": 40,
    "start_time": "2024-03-22T15:25:17.167Z"
   },
   {
    "duration": 38,
    "start_time": "2024-03-22T15:25:31.986Z"
   },
   {
    "duration": 40,
    "start_time": "2024-03-22T15:26:04.340Z"
   },
   {
    "duration": 36,
    "start_time": "2024-03-22T15:26:12.316Z"
   },
   {
    "duration": 36,
    "start_time": "2024-03-22T15:26:23.900Z"
   },
   {
    "duration": 113,
    "start_time": "2024-03-22T15:26:36.277Z"
   },
   {
    "duration": 53,
    "start_time": "2024-03-22T15:26:39.452Z"
   },
   {
    "duration": 9,
    "start_time": "2024-03-22T15:29:21.648Z"
   },
   {
    "duration": 63,
    "start_time": "2024-03-22T15:29:49.696Z"
   },
   {
    "duration": 432,
    "start_time": "2024-03-22T15:30:02.601Z"
   },
   {
    "duration": 332,
    "start_time": "2024-03-22T15:33:08.525Z"
   },
   {
    "duration": 158,
    "start_time": "2024-03-22T15:36:13.210Z"
   },
   {
    "duration": 250,
    "start_time": "2024-03-22T15:36:25.905Z"
   },
   {
    "duration": 353,
    "start_time": "2024-03-22T15:36:40.833Z"
   },
   {
    "duration": 228,
    "start_time": "2024-03-22T15:36:47.681Z"
   },
   {
    "duration": 211,
    "start_time": "2024-03-22T15:37:00.810Z"
   },
   {
    "duration": 250,
    "start_time": "2024-03-22T15:37:07.897Z"
   },
   {
    "duration": 303,
    "start_time": "2024-03-22T15:37:23.090Z"
   },
   {
    "duration": 243,
    "start_time": "2024-03-22T15:37:53.002Z"
   },
   {
    "duration": 275,
    "start_time": "2024-03-22T15:38:15.907Z"
   },
   {
    "duration": 268,
    "start_time": "2024-03-22T15:38:27.500Z"
   },
   {
    "duration": 260,
    "start_time": "2024-03-22T15:38:55.580Z"
   },
   {
    "duration": 261,
    "start_time": "2024-03-22T15:39:04.525Z"
   },
   {
    "duration": 423,
    "start_time": "2024-03-22T15:39:11.307Z"
   },
   {
    "duration": 422,
    "start_time": "2024-03-22T15:39:35.589Z"
   },
   {
    "duration": 499,
    "start_time": "2024-03-22T15:41:38.446Z"
   },
   {
    "duration": 388,
    "start_time": "2024-03-22T15:42:29.321Z"
   },
   {
    "duration": 412,
    "start_time": "2024-03-22T15:42:59.983Z"
   },
   {
    "duration": 430,
    "start_time": "2024-03-22T15:43:19.904Z"
   },
   {
    "duration": 62,
    "start_time": "2024-03-22T15:46:32.395Z"
   },
   {
    "duration": 62,
    "start_time": "2024-03-22T15:46:49.466Z"
   },
   {
    "duration": 285,
    "start_time": "2024-03-22T15:47:04.363Z"
   },
   {
    "duration": 358,
    "start_time": "2024-03-22T15:47:14.266Z"
   },
   {
    "duration": 67,
    "start_time": "2024-03-22T15:47:33.250Z"
   },
   {
    "duration": 276,
    "start_time": "2024-03-22T15:48:06.226Z"
   },
   {
    "duration": 283,
    "start_time": "2024-03-22T15:48:21.899Z"
   },
   {
    "duration": 269,
    "start_time": "2024-03-22T15:48:45.475Z"
   },
   {
    "duration": 457,
    "start_time": "2024-03-22T15:48:54.587Z"
   },
   {
    "duration": 631,
    "start_time": "2024-03-22T15:49:16.500Z"
   },
   {
    "duration": 549,
    "start_time": "2024-03-22T15:49:24.275Z"
   },
   {
    "duration": 475,
    "start_time": "2024-03-22T15:49:33.604Z"
   },
   {
    "duration": 621,
    "start_time": "2024-03-22T15:49:42.621Z"
   },
   {
    "duration": 554,
    "start_time": "2024-03-22T15:49:53.404Z"
   },
   {
    "duration": 565,
    "start_time": "2024-03-22T15:50:03.557Z"
   },
   {
    "duration": 1260,
    "start_time": "2024-03-22T15:51:03.180Z"
   },
   {
    "duration": 1183,
    "start_time": "2024-03-22T15:51:09.261Z"
   },
   {
    "duration": 926,
    "start_time": "2024-03-22T15:51:10.446Z"
   },
   {
    "duration": 4,
    "start_time": "2024-03-22T15:51:11.373Z"
   },
   {
    "duration": 295,
    "start_time": "2024-03-22T15:51:11.379Z"
   },
   {
    "duration": 99,
    "start_time": "2024-03-22T15:51:11.676Z"
   },
   {
    "duration": 122,
    "start_time": "2024-03-22T15:51:11.777Z"
   },
   {
    "duration": 43,
    "start_time": "2024-03-22T15:51:11.901Z"
   },
   {
    "duration": 6,
    "start_time": "2024-03-22T15:51:11.945Z"
   },
   {
    "duration": 657,
    "start_time": "2024-03-22T15:51:11.972Z"
   },
   {
    "duration": 0,
    "start_time": "2024-03-22T15:51:12.631Z"
   },
   {
    "duration": 0,
    "start_time": "2024-03-22T15:51:12.632Z"
   },
   {
    "duration": 0,
    "start_time": "2024-03-22T15:51:12.633Z"
   },
   {
    "duration": 0,
    "start_time": "2024-03-22T15:51:12.635Z"
   },
   {
    "duration": 0,
    "start_time": "2024-03-22T15:51:12.635Z"
   },
   {
    "duration": 0,
    "start_time": "2024-03-22T15:51:12.636Z"
   },
   {
    "duration": 0,
    "start_time": "2024-03-22T15:51:12.638Z"
   },
   {
    "duration": 0,
    "start_time": "2024-03-22T15:51:12.639Z"
   },
   {
    "duration": 572,
    "start_time": "2024-03-22T15:51:36.301Z"
   },
   {
    "duration": 391,
    "start_time": "2024-03-22T15:51:39.765Z"
   },
   {
    "duration": 385,
    "start_time": "2024-03-22T15:52:25.023Z"
   },
   {
    "duration": 462,
    "start_time": "2024-03-22T15:52:41.326Z"
   },
   {
    "duration": 399,
    "start_time": "2024-03-22T15:52:45.504Z"
   },
   {
    "duration": 409,
    "start_time": "2024-03-22T15:52:53.559Z"
   },
   {
    "duration": 428,
    "start_time": "2024-03-22T15:53:08.816Z"
   },
   {
    "duration": 402,
    "start_time": "2024-03-22T15:53:17.316Z"
   },
   {
    "duration": 11,
    "start_time": "2024-03-22T15:54:19.080Z"
   },
   {
    "duration": 10,
    "start_time": "2024-03-22T15:54:28.431Z"
   },
   {
    "duration": 477,
    "start_time": "2024-03-22T15:54:37.064Z"
   },
   {
    "duration": 432,
    "start_time": "2024-03-22T15:54:45.969Z"
   },
   {
    "duration": 525,
    "start_time": "2024-03-22T15:55:13.665Z"
   },
   {
    "duration": 485,
    "start_time": "2024-03-22T15:55:19.712Z"
   },
   {
    "duration": 488,
    "start_time": "2024-03-22T15:55:25.504Z"
   },
   {
    "duration": 404,
    "start_time": "2024-03-22T15:55:58.625Z"
   },
   {
    "duration": 491,
    "start_time": "2024-03-22T15:56:04.505Z"
   },
   {
    "duration": 407,
    "start_time": "2024-03-22T15:56:21.849Z"
   },
   {
    "duration": 389,
    "start_time": "2024-03-22T15:56:32.337Z"
   },
   {
    "duration": 404,
    "start_time": "2024-03-22T15:58:01.180Z"
   },
   {
    "duration": 382,
    "start_time": "2024-03-22T15:59:06.517Z"
   },
   {
    "duration": 418,
    "start_time": "2024-03-22T15:59:13.222Z"
   },
   {
    "duration": 503,
    "start_time": "2024-03-22T15:59:40.461Z"
   },
   {
    "duration": 576,
    "start_time": "2024-03-22T15:59:53.300Z"
   },
   {
    "duration": 481,
    "start_time": "2024-03-22T16:00:47.726Z"
   },
   {
    "duration": 397,
    "start_time": "2024-03-22T16:02:00.487Z"
   },
   {
    "duration": 8,
    "start_time": "2024-03-22T16:04:00.248Z"
   },
   {
    "duration": 8,
    "start_time": "2024-03-22T16:04:10.593Z"
   },
   {
    "duration": 1646,
    "start_time": "2024-03-22T16:04:39.272Z"
   },
   {
    "duration": 10,
    "start_time": "2024-03-22T16:04:47.530Z"
   },
   {
    "duration": 1606,
    "start_time": "2024-03-22T16:04:51.802Z"
   },
   {
    "duration": 1640,
    "start_time": "2024-03-22T16:05:00.650Z"
   },
   {
    "duration": 1756,
    "start_time": "2024-03-22T16:05:06.395Z"
   },
   {
    "duration": 12,
    "start_time": "2024-03-22T16:05:11.418Z"
   },
   {
    "duration": 8,
    "start_time": "2024-03-22T16:05:14.738Z"
   },
   {
    "duration": 398,
    "start_time": "2024-03-22T16:05:57.883Z"
   },
   {
    "duration": 9,
    "start_time": "2024-03-22T16:06:19.813Z"
   },
   {
    "duration": 106,
    "start_time": "2024-03-22T16:06:29.083Z"
   },
   {
    "duration": 8,
    "start_time": "2024-03-22T16:06:31.611Z"
   },
   {
    "duration": 9,
    "start_time": "2024-03-22T16:06:50.653Z"
   },
   {
    "duration": 412,
    "start_time": "2024-03-22T16:07:38.836Z"
   },
   {
    "duration": 9,
    "start_time": "2024-03-22T16:07:41.079Z"
   },
   {
    "duration": 8,
    "start_time": "2024-03-22T16:07:44.859Z"
   },
   {
    "duration": 4,
    "start_time": "2024-03-22T16:08:01.598Z"
   },
   {
    "duration": 4,
    "start_time": "2024-03-22T16:08:06.693Z"
   },
   {
    "duration": 4,
    "start_time": "2024-03-22T16:08:13.500Z"
   },
   {
    "duration": 8,
    "start_time": "2024-03-22T16:08:21.277Z"
   },
   {
    "duration": 4,
    "start_time": "2024-03-22T16:08:25.111Z"
   },
   {
    "duration": 3,
    "start_time": "2024-03-22T16:08:31.757Z"
   },
   {
    "duration": 5,
    "start_time": "2024-03-22T16:08:39.132Z"
   },
   {
    "duration": 25,
    "start_time": "2024-03-22T16:08:46.478Z"
   },
   {
    "duration": 27,
    "start_time": "2024-03-22T16:54:56.015Z"
   },
   {
    "duration": 37,
    "start_time": "2024-03-22T16:55:02.639Z"
   },
   {
    "duration": 44,
    "start_time": "2024-03-22T16:55:07.905Z"
   },
   {
    "duration": 47,
    "start_time": "2024-03-22T16:55:22.177Z"
   },
   {
    "duration": 55,
    "start_time": "2024-03-22T16:55:51.656Z"
   },
   {
    "duration": 448,
    "start_time": "2024-03-22T17:02:10.350Z"
   },
   {
    "duration": 43,
    "start_time": "2024-03-22T17:02:51.943Z"
   },
   {
    "duration": 59,
    "start_time": "2024-03-22T17:03:07.040Z"
   },
   {
    "duration": 53,
    "start_time": "2024-03-22T17:03:14.735Z"
   },
   {
    "duration": 50,
    "start_time": "2024-03-22T17:03:22.176Z"
   },
   {
    "duration": 54,
    "start_time": "2024-03-22T18:08:52.361Z"
   },
   {
    "duration": 1222,
    "start_time": "2024-03-23T13:02:16.714Z"
   },
   {
    "duration": 341,
    "start_time": "2024-03-23T13:02:17.938Z"
   },
   {
    "duration": 3,
    "start_time": "2024-03-23T13:02:18.280Z"
   },
   {
    "duration": 284,
    "start_time": "2024-03-23T13:02:18.285Z"
   },
   {
    "duration": 95,
    "start_time": "2024-03-23T13:02:18.571Z"
   },
   {
    "duration": 114,
    "start_time": "2024-03-23T13:02:18.667Z"
   },
   {
    "duration": 55,
    "start_time": "2024-03-23T13:02:18.792Z"
   },
   {
    "duration": 6,
    "start_time": "2024-03-23T13:02:18.850Z"
   },
   {
    "duration": 473,
    "start_time": "2024-03-23T13:02:18.867Z"
   },
   {
    "duration": 40,
    "start_time": "2024-03-23T13:02:19.343Z"
   },
   {
    "duration": 20,
    "start_time": "2024-03-23T13:02:19.385Z"
   },
   {
    "duration": 4,
    "start_time": "2024-03-23T13:02:19.407Z"
   },
   {
    "duration": 560,
    "start_time": "2024-03-23T13:02:19.412Z"
   },
   {
    "duration": 25,
    "start_time": "2024-03-23T13:02:19.973Z"
   },
   {
    "duration": 186,
    "start_time": "2024-03-23T13:02:20.000Z"
   },
   {
    "duration": 1631,
    "start_time": "2024-03-24T07:31:58.558Z"
   },
   {
    "duration": 509,
    "start_time": "2024-03-24T07:32:00.191Z"
   },
   {
    "duration": 4,
    "start_time": "2024-03-24T07:32:00.701Z"
   },
   {
    "duration": 476,
    "start_time": "2024-03-24T07:32:00.706Z"
   },
   {
    "duration": 98,
    "start_time": "2024-03-24T07:32:01.185Z"
   },
   {
    "duration": 119,
    "start_time": "2024-03-24T07:32:01.285Z"
   },
   {
    "duration": 42,
    "start_time": "2024-03-24T07:32:01.405Z"
   },
   {
    "duration": 6,
    "start_time": "2024-03-24T07:32:01.449Z"
   },
   {
    "duration": 431,
    "start_time": "2024-03-24T07:32:01.457Z"
   },
   {
    "duration": 39,
    "start_time": "2024-03-24T07:32:01.890Z"
   },
   {
    "duration": 24,
    "start_time": "2024-03-24T07:32:01.931Z"
   },
   {
    "duration": 28,
    "start_time": "2024-03-24T07:32:01.957Z"
   },
   {
    "duration": 582,
    "start_time": "2024-03-24T07:32:01.988Z"
   },
   {
    "duration": 32,
    "start_time": "2024-03-24T07:32:02.573Z"
   },
   {
    "duration": 187,
    "start_time": "2024-03-24T07:32:02.606Z"
   },
   {
    "duration": 3,
    "start_time": "2024-03-24T07:32:50.681Z"
   },
   {
    "duration": 69,
    "start_time": "2024-03-24T07:36:02.229Z"
   },
   {
    "duration": 67,
    "start_time": "2024-03-24T07:36:27.148Z"
   },
   {
    "duration": 111,
    "start_time": "2024-03-24T07:36:31.764Z"
   },
   {
    "duration": 70,
    "start_time": "2024-03-24T07:36:42.476Z"
   },
   {
    "duration": 76,
    "start_time": "2024-03-24T07:36:55.581Z"
   },
   {
    "duration": 928,
    "start_time": "2024-03-24T07:37:16.285Z"
   },
   {
    "duration": 5,
    "start_time": "2024-03-24T07:37:35.325Z"
   },
   {
    "duration": 5,
    "start_time": "2024-03-24T07:38:54.326Z"
   },
   {
    "duration": 5,
    "start_time": "2024-03-24T07:39:22.223Z"
   },
   {
    "duration": 6,
    "start_time": "2024-03-24T07:39:31.287Z"
   },
   {
    "duration": 34,
    "start_time": "2024-03-24T07:39:44.952Z"
   },
   {
    "duration": 5,
    "start_time": "2024-03-24T07:39:50.081Z"
   },
   {
    "duration": 5,
    "start_time": "2024-03-24T07:40:01.408Z"
   },
   {
    "duration": 72,
    "start_time": "2024-03-24T07:40:12.904Z"
   },
   {
    "duration": 73,
    "start_time": "2024-03-24T07:40:37.584Z"
   },
   {
    "duration": 3,
    "start_time": "2024-03-24T07:41:05.465Z"
   },
   {
    "duration": 5,
    "start_time": "2024-03-24T07:41:22.033Z"
   },
   {
    "duration": 6,
    "start_time": "2024-03-24T07:41:46.001Z"
   },
   {
    "duration": 5,
    "start_time": "2024-03-24T07:41:50.361Z"
   },
   {
    "duration": 3,
    "start_time": "2024-03-24T07:43:10.499Z"
   },
   {
    "duration": 3,
    "start_time": "2024-03-24T07:43:16.795Z"
   },
   {
    "duration": 15,
    "start_time": "2024-03-24T07:43:26.772Z"
   },
   {
    "duration": 13,
    "start_time": "2024-03-24T07:43:32.396Z"
   },
   {
    "duration": 23,
    "start_time": "2024-03-24T07:44:34.949Z"
   },
   {
    "duration": 23,
    "start_time": "2024-03-24T07:44:39.708Z"
   },
   {
    "duration": 23,
    "start_time": "2024-03-24T07:44:53.637Z"
   },
   {
    "duration": 20,
    "start_time": "2024-03-24T07:44:59.885Z"
   },
   {
    "duration": 24,
    "start_time": "2024-03-24T07:45:04.997Z"
   },
   {
    "duration": 24,
    "start_time": "2024-03-24T07:46:00.982Z"
   },
   {
    "duration": 30,
    "start_time": "2024-03-24T07:46:24.094Z"
   },
   {
    "duration": 17,
    "start_time": "2024-03-24T07:51:02.424Z"
   },
   {
    "duration": 8,
    "start_time": "2024-03-24T07:51:21.064Z"
   },
   {
    "duration": 8,
    "start_time": "2024-03-24T07:51:25.856Z"
   },
   {
    "duration": 8,
    "start_time": "2024-03-24T07:51:31.575Z"
   },
   {
    "duration": 45,
    "start_time": "2024-03-24T07:51:33.746Z"
   },
   {
    "duration": 27,
    "start_time": "2024-03-24T07:52:31.344Z"
   },
   {
    "duration": 148,
    "start_time": "2024-03-24T07:52:35.928Z"
   },
   {
    "duration": 144,
    "start_time": "2024-03-24T07:52:52.656Z"
   },
   {
    "duration": 161,
    "start_time": "2024-03-24T07:54:02.578Z"
   },
   {
    "duration": 151,
    "start_time": "2024-03-24T07:54:12.969Z"
   },
   {
    "duration": 157,
    "start_time": "2024-03-24T07:54:23.145Z"
   },
   {
    "duration": 249,
    "start_time": "2024-03-24T07:55:14.779Z"
   },
   {
    "duration": 145,
    "start_time": "2024-03-24T07:55:34.882Z"
   },
   {
    "duration": 164,
    "start_time": "2024-03-24T08:06:12.147Z"
   },
   {
    "duration": 169,
    "start_time": "2024-03-24T08:06:17.915Z"
   },
   {
    "duration": 162,
    "start_time": "2024-03-24T08:06:21.722Z"
   },
   {
    "duration": 148,
    "start_time": "2024-03-24T08:06:28.755Z"
   },
   {
    "duration": 150,
    "start_time": "2024-03-24T08:07:49.572Z"
   },
   {
    "duration": 146,
    "start_time": "2024-03-24T08:08:11.468Z"
   },
   {
    "duration": 178,
    "start_time": "2024-03-24T08:08:23.821Z"
   },
   {
    "duration": 31,
    "start_time": "2024-03-24T08:08:40.300Z"
   },
   {
    "duration": 31,
    "start_time": "2024-03-24T08:09:04.798Z"
   },
   {
    "duration": 34,
    "start_time": "2024-03-24T08:09:17.094Z"
   },
   {
    "duration": 27,
    "start_time": "2024-03-24T08:09:38.414Z"
   },
   {
    "duration": 28,
    "start_time": "2024-03-24T08:09:46.510Z"
   },
   {
    "duration": 38,
    "start_time": "2024-03-24T08:10:39.798Z"
   },
   {
    "duration": 155,
    "start_time": "2024-03-24T08:10:46.127Z"
   },
   {
    "duration": 172,
    "start_time": "2024-03-24T08:11:29.177Z"
   },
   {
    "duration": 170,
    "start_time": "2024-03-24T08:11:46.440Z"
   },
   {
    "duration": 69,
    "start_time": "2024-03-24T08:12:04.695Z"
   },
   {
    "duration": 249,
    "start_time": "2024-03-24T08:12:11.425Z"
   },
   {
    "duration": 165,
    "start_time": "2024-03-24T08:12:18.936Z"
   },
   {
    "duration": 150,
    "start_time": "2024-03-24T08:12:49.273Z"
   },
   {
    "duration": 151,
    "start_time": "2024-03-24T08:13:02.130Z"
   },
   {
    "duration": 72,
    "start_time": "2024-03-24T08:15:29.187Z"
   },
   {
    "duration": 5,
    "start_time": "2024-03-24T08:15:38.988Z"
   },
   {
    "duration": 15,
    "start_time": "2024-03-24T08:15:47.371Z"
   },
   {
    "duration": 18,
    "start_time": "2024-03-24T08:15:59.834Z"
   },
   {
    "duration": 77,
    "start_time": "2024-03-24T08:16:14.100Z"
   },
   {
    "duration": 11,
    "start_time": "2024-03-24T08:16:18.916Z"
   },
   {
    "duration": 63,
    "start_time": "2024-03-24T08:20:39.281Z"
   },
   {
    "duration": 76,
    "start_time": "2024-03-24T08:20:45.673Z"
   },
   {
    "duration": 900,
    "start_time": "2024-03-24T08:21:04.170Z"
   },
   {
    "duration": 899,
    "start_time": "2024-03-24T08:21:16.097Z"
   },
   {
    "duration": 43,
    "start_time": "2024-03-24T08:21:23.059Z"
   },
   {
    "duration": 69,
    "start_time": "2024-03-24T08:21:26.850Z"
   },
   {
    "duration": 43,
    "start_time": "2024-03-24T08:21:33.098Z"
   },
   {
    "duration": 42,
    "start_time": "2024-03-24T08:22:54.716Z"
   },
   {
    "duration": 88,
    "start_time": "2024-03-24T08:23:16.212Z"
   },
   {
    "duration": 41,
    "start_time": "2024-03-24T08:23:27.164Z"
   },
   {
    "duration": 39,
    "start_time": "2024-03-24T08:23:52.717Z"
   },
   {
    "duration": 43,
    "start_time": "2024-03-24T08:24:52.327Z"
   },
   {
    "duration": 40,
    "start_time": "2024-03-24T08:25:08.049Z"
   },
   {
    "duration": 6,
    "start_time": "2024-03-24T08:25:13.296Z"
   },
   {
    "duration": 71,
    "start_time": "2024-03-24T08:25:22.808Z"
   },
   {
    "duration": 77,
    "start_time": "2024-03-24T08:25:26.151Z"
   },
   {
    "duration": 42,
    "start_time": "2024-03-24T08:25:33.672Z"
   },
   {
    "duration": 15,
    "start_time": "2024-03-24T08:25:46.961Z"
   },
   {
    "duration": 41,
    "start_time": "2024-03-24T08:26:07.314Z"
   },
   {
    "duration": 44,
    "start_time": "2024-03-24T08:26:16.393Z"
   },
   {
    "duration": 42,
    "start_time": "2024-03-24T08:26:20.225Z"
   },
   {
    "duration": 40,
    "start_time": "2024-03-24T08:26:35.586Z"
   },
   {
    "duration": 43,
    "start_time": "2024-03-24T08:26:39.882Z"
   },
   {
    "duration": 48,
    "start_time": "2024-03-24T08:26:54.579Z"
   },
   {
    "duration": 42,
    "start_time": "2024-03-24T08:27:05.659Z"
   },
   {
    "duration": 138,
    "start_time": "2024-03-24T08:32:25.161Z"
   },
   {
    "duration": 47,
    "start_time": "2024-03-24T08:32:56.658Z"
   },
   {
    "duration": 29,
    "start_time": "2024-03-24T08:33:15.994Z"
   },
   {
    "duration": 29,
    "start_time": "2024-03-24T08:33:32.995Z"
   },
   {
    "duration": 36,
    "start_time": "2024-03-24T08:33:42.508Z"
   },
   {
    "duration": 25,
    "start_time": "2024-03-24T08:34:22.180Z"
   },
   {
    "duration": 175,
    "start_time": "2024-03-24T08:35:04.197Z"
   },
   {
    "duration": 201,
    "start_time": "2024-03-24T08:35:24.517Z"
   },
   {
    "duration": 197,
    "start_time": "2024-03-24T08:35:30.197Z"
   },
   {
    "duration": 84,
    "start_time": "2024-03-24T08:36:17.790Z"
   },
   {
    "duration": 186,
    "start_time": "2024-03-24T08:36:25.334Z"
   },
   {
    "duration": 199,
    "start_time": "2024-03-24T08:37:13.743Z"
   },
   {
    "duration": 177,
    "start_time": "2024-03-24T08:37:19.368Z"
   },
   {
    "duration": 218,
    "start_time": "2024-03-24T08:37:52.089Z"
   },
   {
    "duration": 283,
    "start_time": "2024-03-24T08:38:03.864Z"
   },
   {
    "duration": 89,
    "start_time": "2024-03-24T08:39:12.634Z"
   },
   {
    "duration": 42,
    "start_time": "2024-03-24T08:39:15.842Z"
   },
   {
    "duration": 41,
    "start_time": "2024-03-24T08:39:28.130Z"
   },
   {
    "duration": 181,
    "start_time": "2024-03-24T08:39:31.458Z"
   },
   {
    "duration": 212,
    "start_time": "2024-03-24T08:40:03.794Z"
   },
   {
    "duration": 205,
    "start_time": "2024-03-24T08:40:11.979Z"
   },
   {
    "duration": 29,
    "start_time": "2024-03-24T08:40:21.018Z"
   },
   {
    "duration": 38,
    "start_time": "2024-03-24T08:40:25.843Z"
   },
   {
    "duration": 30,
    "start_time": "2024-03-24T08:40:33.930Z"
   },
   {
    "duration": 30,
    "start_time": "2024-03-24T08:40:39.467Z"
   },
   {
    "duration": 32,
    "start_time": "2024-03-24T08:40:41.971Z"
   },
   {
    "duration": 1015,
    "start_time": "2024-03-24T08:40:53.427Z"
   },
   {
    "duration": 187,
    "start_time": "2024-03-24T08:41:00.587Z"
   },
   {
    "duration": 199,
    "start_time": "2024-03-24T08:41:11.034Z"
   },
   {
    "duration": 201,
    "start_time": "2024-03-24T08:41:17.243Z"
   },
   {
    "duration": 223,
    "start_time": "2024-03-24T08:41:53.029Z"
   },
   {
    "duration": 75,
    "start_time": "2024-03-24T09:30:44.194Z"
   },
   {
    "duration": 74,
    "start_time": "2024-03-24T09:30:53.849Z"
   },
   {
    "duration": 54,
    "start_time": "2024-03-24T09:30:58.226Z"
   },
   {
    "duration": 42,
    "start_time": "2024-03-24T09:31:21.418Z"
   },
   {
    "duration": 40,
    "start_time": "2024-03-24T09:31:40.194Z"
   },
   {
    "duration": 40,
    "start_time": "2024-03-24T09:31:48.547Z"
   },
   {
    "duration": 43,
    "start_time": "2024-03-24T09:32:28.698Z"
   },
   {
    "duration": 212,
    "start_time": "2024-03-24T09:34:15.974Z"
   },
   {
    "duration": 205,
    "start_time": "2024-03-24T09:34:21.677Z"
   },
   {
    "duration": 69,
    "start_time": "2024-03-24T09:40:41.297Z"
   },
   {
    "duration": 62,
    "start_time": "2024-03-24T09:40:44.874Z"
   },
   {
    "duration": 50,
    "start_time": "2024-03-24T09:41:10.691Z"
   },
   {
    "duration": 60,
    "start_time": "2024-03-24T09:41:20.179Z"
   },
   {
    "duration": 56,
    "start_time": "2024-03-24T09:41:26.915Z"
   },
   {
    "duration": 59,
    "start_time": "2024-03-24T09:41:36.236Z"
   },
   {
    "duration": 58,
    "start_time": "2024-03-24T09:41:45.179Z"
   },
   {
    "duration": 55,
    "start_time": "2024-03-24T09:42:08.340Z"
   },
   {
    "duration": 61,
    "start_time": "2024-03-24T09:43:19.325Z"
   },
   {
    "duration": 69,
    "start_time": "2024-03-24T09:44:42.416Z"
   },
   {
    "duration": 62,
    "start_time": "2024-03-24T09:44:48.847Z"
   },
   {
    "duration": 69,
    "start_time": "2024-03-24T09:45:06.478Z"
   },
   {
    "duration": 155,
    "start_time": "2024-03-24T09:45:38.032Z"
   },
   {
    "duration": 66,
    "start_time": "2024-03-24T09:45:56.184Z"
   },
   {
    "duration": 73,
    "start_time": "2024-03-24T09:46:09.784Z"
   },
   {
    "duration": 68,
    "start_time": "2024-03-24T09:46:46.928Z"
   },
   {
    "duration": 70,
    "start_time": "2024-03-24T09:47:24.201Z"
   },
   {
    "duration": 65,
    "start_time": "2024-03-24T09:47:28.417Z"
   },
   {
    "duration": 72,
    "start_time": "2024-03-24T09:59:25.287Z"
   },
   {
    "duration": 63,
    "start_time": "2024-03-24T09:59:47.720Z"
   },
   {
    "duration": 81,
    "start_time": "2024-03-24T10:00:04.449Z"
   },
   {
    "duration": 3,
    "start_time": "2024-03-24T10:02:45.195Z"
   },
   {
    "duration": 8,
    "start_time": "2024-03-24T10:02:48.842Z"
   },
   {
    "duration": 10,
    "start_time": "2024-03-24T10:04:41.449Z"
   },
   {
    "duration": 224,
    "start_time": "2024-03-24T10:04:49.964Z"
   },
   {
    "duration": 232,
    "start_time": "2024-03-24T10:05:39.821Z"
   },
   {
    "duration": 217,
    "start_time": "2024-03-24T10:10:08.170Z"
   },
   {
    "duration": 11,
    "start_time": "2024-03-24T10:10:56.970Z"
   },
   {
    "duration": 8,
    "start_time": "2024-03-24T10:11:15.690Z"
   },
   {
    "duration": 12,
    "start_time": "2024-03-24T10:11:39.475Z"
   },
   {
    "duration": 10,
    "start_time": "2024-03-24T10:11:47.268Z"
   },
   {
    "duration": 12,
    "start_time": "2024-03-24T10:12:04.019Z"
   },
   {
    "duration": 8,
    "start_time": "2024-03-24T10:12:25.276Z"
   },
   {
    "duration": 8,
    "start_time": "2024-03-24T10:12:30.516Z"
   },
   {
    "duration": 8,
    "start_time": "2024-03-24T10:12:59.835Z"
   },
   {
    "duration": 12,
    "start_time": "2024-03-24T10:13:28.556Z"
   },
   {
    "duration": 14,
    "start_time": "2024-03-24T10:13:36.101Z"
   },
   {
    "duration": 10,
    "start_time": "2024-03-24T10:16:42.512Z"
   },
   {
    "duration": 9,
    "start_time": "2024-03-24T10:16:58.232Z"
   },
   {
    "duration": 10,
    "start_time": "2024-03-24T10:17:09.960Z"
   },
   {
    "duration": 9,
    "start_time": "2024-03-24T10:17:25.009Z"
   },
   {
    "duration": 10,
    "start_time": "2024-03-24T10:17:50.288Z"
   },
   {
    "duration": 11,
    "start_time": "2024-03-24T10:18:00.008Z"
   },
   {
    "duration": 10,
    "start_time": "2024-03-24T10:18:08.120Z"
   },
   {
    "duration": 10,
    "start_time": "2024-03-24T10:18:40.970Z"
   },
   {
    "duration": 1117,
    "start_time": "2024-03-24T10:18:49.042Z"
   },
   {
    "duration": 222,
    "start_time": "2024-03-24T10:18:50.161Z"
   },
   {
    "duration": 3,
    "start_time": "2024-03-24T10:18:50.385Z"
   },
   {
    "duration": 279,
    "start_time": "2024-03-24T10:18:50.389Z"
   },
   {
    "duration": 96,
    "start_time": "2024-03-24T10:18:50.669Z"
   },
   {
    "duration": 128,
    "start_time": "2024-03-24T10:18:50.766Z"
   },
   {
    "duration": 43,
    "start_time": "2024-03-24T10:18:50.896Z"
   },
   {
    "duration": 5,
    "start_time": "2024-03-24T10:18:50.942Z"
   },
   {
    "duration": 455,
    "start_time": "2024-03-24T10:18:50.949Z"
   },
   {
    "duration": 39,
    "start_time": "2024-03-24T10:18:51.407Z"
   },
   {
    "duration": 44,
    "start_time": "2024-03-24T10:18:51.448Z"
   },
   {
    "duration": 200,
    "start_time": "2024-03-24T10:18:51.493Z"
   },
   {
    "duration": 150,
    "start_time": "2024-03-24T10:18:51.695Z"
   },
   {
    "duration": 0,
    "start_time": "2024-03-24T10:18:51.847Z"
   },
   {
    "duration": 0,
    "start_time": "2024-03-24T10:18:51.849Z"
   },
   {
    "duration": 0,
    "start_time": "2024-03-24T10:18:51.851Z"
   },
   {
    "duration": 0,
    "start_time": "2024-03-24T10:18:51.852Z"
   },
   {
    "duration": 0,
    "start_time": "2024-03-24T10:18:51.854Z"
   },
   {
    "duration": 9,
    "start_time": "2024-03-24T10:19:06.937Z"
   },
   {
    "duration": 40,
    "start_time": "2024-03-24T10:19:22.083Z"
   },
   {
    "duration": 1029,
    "start_time": "2024-03-24T10:19:27.909Z"
   },
   {
    "duration": 201,
    "start_time": "2024-03-24T10:19:28.939Z"
   },
   {
    "duration": 3,
    "start_time": "2024-03-24T10:19:29.141Z"
   },
   {
    "duration": 284,
    "start_time": "2024-03-24T10:19:29.146Z"
   },
   {
    "duration": 93,
    "start_time": "2024-03-24T10:19:29.431Z"
   },
   {
    "duration": 110,
    "start_time": "2024-03-24T10:19:29.525Z"
   },
   {
    "duration": 63,
    "start_time": "2024-03-24T10:19:29.636Z"
   },
   {
    "duration": 6,
    "start_time": "2024-03-24T10:19:29.700Z"
   },
   {
    "duration": 460,
    "start_time": "2024-03-24T10:19:29.708Z"
   },
   {
    "duration": 46,
    "start_time": "2024-03-24T10:19:30.171Z"
   },
   {
    "duration": 47,
    "start_time": "2024-03-24T10:19:30.219Z"
   },
   {
    "duration": 191,
    "start_time": "2024-03-24T10:19:30.268Z"
   },
   {
    "duration": 51,
    "start_time": "2024-03-24T10:19:30.460Z"
   },
   {
    "duration": 526,
    "start_time": "2024-03-24T10:19:30.513Z"
   },
   {
    "duration": 74,
    "start_time": "2024-03-24T10:19:31.041Z"
   },
   {
    "duration": 43,
    "start_time": "2024-03-24T10:19:31.116Z"
   },
   {
    "duration": 380,
    "start_time": "2024-03-24T10:19:31.161Z"
   },
   {
    "duration": 0,
    "start_time": "2024-03-24T10:19:31.542Z"
   },
   {
    "duration": 12,
    "start_time": "2024-03-24T10:19:44.186Z"
   },
   {
    "duration": 226,
    "start_time": "2024-03-24T10:20:45.276Z"
   },
   {
    "duration": 11,
    "start_time": "2024-03-24T10:21:39.948Z"
   },
   {
    "duration": 10,
    "start_time": "2024-03-24T10:21:44.036Z"
   },
   {
    "duration": 11,
    "start_time": "2024-03-24T10:32:47.426Z"
   },
   {
    "duration": 66,
    "start_time": "2024-03-24T10:33:49.594Z"
   },
   {
    "duration": 62,
    "start_time": "2024-03-24T10:33:59.099Z"
   },
   {
    "duration": 10,
    "start_time": "2024-03-24T10:35:29.525Z"
   },
   {
    "duration": 10,
    "start_time": "2024-03-24T10:35:34.997Z"
   },
   {
    "duration": 10,
    "start_time": "2024-03-24T10:36:08.621Z"
   },
   {
    "duration": 25,
    "start_time": "2024-03-24T10:44:36.629Z"
   },
   {
    "duration": 22,
    "start_time": "2024-03-24T10:44:43.885Z"
   },
   {
    "duration": 20,
    "start_time": "2024-03-24T10:45:10.174Z"
   },
   {
    "duration": 11,
    "start_time": "2024-03-24T10:45:35.623Z"
   },
   {
    "duration": 12,
    "start_time": "2024-03-24T10:51:51.085Z"
   },
   {
    "duration": 12,
    "start_time": "2024-03-24T10:51:57.164Z"
   },
   {
    "duration": 12,
    "start_time": "2024-03-24T10:52:05.110Z"
   },
   {
    "duration": 16,
    "start_time": "2024-03-24T10:52:09.317Z"
   },
   {
    "duration": 16,
    "start_time": "2024-03-24T10:54:00.742Z"
   },
   {
    "duration": 178,
    "start_time": "2024-03-24T10:54:46.632Z"
   },
   {
    "duration": 190,
    "start_time": "2024-03-24T10:55:13.745Z"
   },
   {
    "duration": 44,
    "start_time": "2024-03-24T10:57:16.187Z"
   },
   {
    "duration": 46,
    "start_time": "2024-03-24T10:57:21.613Z"
   },
   {
    "duration": 38,
    "start_time": "2024-03-24T10:57:31.158Z"
   },
   {
    "duration": 192,
    "start_time": "2024-03-24T10:57:45.814Z"
   },
   {
    "duration": 266,
    "start_time": "2024-03-24T10:58:02.187Z"
   },
   {
    "duration": 187,
    "start_time": "2024-03-24T10:59:05.405Z"
   },
   {
    "duration": 69,
    "start_time": "2024-03-24T10:59:16.892Z"
   },
   {
    "duration": 70,
    "start_time": "2024-03-24T10:59:19.597Z"
   },
   {
    "duration": 184,
    "start_time": "2024-03-24T10:59:39.797Z"
   },
   {
    "duration": 151,
    "start_time": "2024-03-24T10:59:50.677Z"
   },
   {
    "duration": 141,
    "start_time": "2024-03-24T10:59:53.654Z"
   },
   {
    "duration": 162,
    "start_time": "2024-03-24T11:00:07.310Z"
   },
   {
    "duration": 156,
    "start_time": "2024-03-24T11:00:16.934Z"
   },
   {
    "duration": 156,
    "start_time": "2024-03-24T11:00:28.630Z"
   },
   {
    "duration": 24,
    "start_time": "2024-03-24T11:01:19.950Z"
   },
   {
    "duration": 19,
    "start_time": "2024-03-24T11:01:33.352Z"
   },
   {
    "duration": 23,
    "start_time": "2024-03-24T11:01:42.655Z"
   },
   {
    "duration": 159,
    "start_time": "2024-03-24T11:02:16.648Z"
   },
   {
    "duration": 47,
    "start_time": "2024-03-24T11:02:35.832Z"
   },
   {
    "duration": 147,
    "start_time": "2024-03-24T11:02:40.860Z"
   },
   {
    "duration": 161,
    "start_time": "2024-03-24T11:02:49.383Z"
   },
   {
    "duration": 72,
    "start_time": "2024-03-24T11:04:15.314Z"
   },
   {
    "duration": 24,
    "start_time": "2024-03-24T11:04:18.711Z"
   },
   {
    "duration": 24,
    "start_time": "2024-03-24T11:04:24.313Z"
   },
   {
    "duration": 31,
    "start_time": "2024-03-24T11:04:53.723Z"
   },
   {
    "duration": 25,
    "start_time": "2024-03-24T11:05:21.187Z"
   },
   {
    "duration": 24,
    "start_time": "2024-03-24T11:05:25.138Z"
   },
   {
    "duration": 29,
    "start_time": "2024-03-24T11:05:56.564Z"
   },
   {
    "duration": 32,
    "start_time": "2024-03-24T11:06:11.445Z"
   },
   {
    "duration": 237,
    "start_time": "2024-03-24T11:06:26.012Z"
   },
   {
    "duration": 178,
    "start_time": "2024-03-24T11:06:33.964Z"
   },
   {
    "duration": 220,
    "start_time": "2024-03-24T11:07:00.221Z"
   },
   {
    "duration": 179,
    "start_time": "2024-03-24T11:07:12.516Z"
   },
   {
    "duration": 187,
    "start_time": "2024-03-24T11:08:05.568Z"
   },
   {
    "duration": 197,
    "start_time": "2024-03-24T11:08:30.575Z"
   },
   {
    "duration": 172,
    "start_time": "2024-03-24T11:08:34.574Z"
   },
   {
    "duration": 169,
    "start_time": "2024-03-24T11:08:41.022Z"
   },
   {
    "duration": 173,
    "start_time": "2024-03-24T11:08:44.223Z"
   },
   {
    "duration": 291,
    "start_time": "2024-03-24T11:08:52.409Z"
   },
   {
    "duration": 318,
    "start_time": "2024-03-24T11:09:03.551Z"
   },
   {
    "duration": 308,
    "start_time": "2024-03-24T11:09:07.904Z"
   },
   {
    "duration": 183,
    "start_time": "2024-03-24T11:09:11.511Z"
   },
   {
    "duration": 287,
    "start_time": "2024-03-24T11:09:28.919Z"
   },
   {
    "duration": 174,
    "start_time": "2024-03-24T11:11:44.474Z"
   },
   {
    "duration": 9,
    "start_time": "2024-03-24T11:46:24.381Z"
   },
   {
    "duration": 4,
    "start_time": "2024-03-24T11:47:58.425Z"
   },
   {
    "duration": 4,
    "start_time": "2024-03-24T11:48:12.230Z"
   },
   {
    "duration": 5,
    "start_time": "2024-03-24T11:48:17.742Z"
   },
   {
    "duration": 4,
    "start_time": "2024-03-24T11:48:23.446Z"
   },
   {
    "duration": 4,
    "start_time": "2024-03-24T11:48:25.919Z"
   },
   {
    "duration": 4,
    "start_time": "2024-03-24T11:51:20.920Z"
   },
   {
    "duration": 4,
    "start_time": "2024-03-24T11:51:38.544Z"
   },
   {
    "duration": 6,
    "start_time": "2024-03-24T11:56:53.158Z"
   },
   {
    "duration": 5,
    "start_time": "2024-03-24T11:58:13.440Z"
   },
   {
    "duration": 3,
    "start_time": "2024-03-24T12:01:35.692Z"
   },
   {
    "duration": 1150,
    "start_time": "2024-03-24T13:19:39.778Z"
   },
   {
    "duration": 206,
    "start_time": "2024-03-24T13:19:40.929Z"
   },
   {
    "duration": 3,
    "start_time": "2024-03-24T13:19:41.136Z"
   },
   {
    "duration": 299,
    "start_time": "2024-03-24T13:19:41.141Z"
   },
   {
    "duration": 98,
    "start_time": "2024-03-24T13:19:41.441Z"
   },
   {
    "duration": 124,
    "start_time": "2024-03-24T13:19:41.541Z"
   },
   {
    "duration": 44,
    "start_time": "2024-03-24T13:19:41.667Z"
   },
   {
    "duration": 6,
    "start_time": "2024-03-24T13:19:41.712Z"
   },
   {
    "duration": 484,
    "start_time": "2024-03-24T13:19:41.720Z"
   },
   {
    "duration": 39,
    "start_time": "2024-03-24T13:19:42.207Z"
   },
   {
    "duration": 37,
    "start_time": "2024-03-24T13:19:42.248Z"
   },
   {
    "duration": 183,
    "start_time": "2024-03-24T13:19:42.287Z"
   },
   {
    "duration": 46,
    "start_time": "2024-03-24T13:19:42.471Z"
   },
   {
    "duration": 198,
    "start_time": "2024-03-24T13:19:42.518Z"
   },
   {
    "duration": 66,
    "start_time": "2024-03-24T13:19:42.717Z"
   },
   {
    "duration": 176,
    "start_time": "2024-03-24T13:19:42.784Z"
   },
   {
    "duration": 5,
    "start_time": "2024-03-24T13:19:42.962Z"
   },
   {
    "duration": 115,
    "start_time": "2024-03-24T13:19:42.983Z"
   },
   {
    "duration": 9,
    "start_time": "2024-03-24T13:25:23.382Z"
   },
   {
    "duration": 30,
    "start_time": "2024-03-24T13:25:30.820Z"
   },
   {
    "duration": 29,
    "start_time": "2024-03-24T13:25:49.318Z"
   },
   {
    "duration": 30,
    "start_time": "2024-03-24T13:26:08.733Z"
   },
   {
    "duration": 53,
    "start_time": "2024-03-24T13:28:39.753Z"
   },
   {
    "duration": 51,
    "start_time": "2024-03-24T13:32:10.772Z"
   },
   {
    "duration": 56,
    "start_time": "2024-03-24T13:32:19.196Z"
   },
   {
    "duration": 56,
    "start_time": "2024-03-24T13:36:54.256Z"
   },
   {
    "duration": 59,
    "start_time": "2024-03-24T13:37:39.305Z"
   },
   {
    "duration": 60,
    "start_time": "2024-03-24T13:37:47.313Z"
   },
   {
    "duration": 54,
    "start_time": "2024-03-24T13:38:01.105Z"
   },
   {
    "duration": 61,
    "start_time": "2024-03-24T13:38:33.785Z"
   },
   {
    "duration": 61,
    "start_time": "2024-03-24T13:39:01.707Z"
   },
   {
    "duration": 58,
    "start_time": "2024-03-24T13:39:07.658Z"
   },
   {
    "duration": 58,
    "start_time": "2024-03-24T13:39:51.195Z"
   },
   {
    "duration": 63,
    "start_time": "2024-03-24T13:40:07.458Z"
   },
   {
    "duration": 65,
    "start_time": "2024-03-24T13:40:45.260Z"
   },
   {
    "duration": 17,
    "start_time": "2024-03-24T13:43:08.479Z"
   },
   {
    "duration": 34,
    "start_time": "2024-03-24T13:43:39.206Z"
   },
   {
    "duration": 84,
    "start_time": "2024-03-24T13:43:43.495Z"
   },
   {
    "duration": 84,
    "start_time": "2024-03-24T13:43:49.199Z"
   },
   {
    "duration": 87,
    "start_time": "2024-03-24T13:43:53.414Z"
   },
   {
    "duration": 91,
    "start_time": "2024-03-24T13:44:00.534Z"
   },
   {
    "duration": 62,
    "start_time": "2024-03-24T13:44:32.401Z"
   },
   {
    "duration": 63,
    "start_time": "2024-03-24T13:44:43.640Z"
   },
   {
    "duration": 92,
    "start_time": "2024-03-24T13:44:52.200Z"
   },
   {
    "duration": 300,
    "start_time": "2024-03-24T13:45:40.369Z"
   },
   {
    "duration": 6,
    "start_time": "2024-03-24T13:45:50.912Z"
   },
   {
    "duration": 87,
    "start_time": "2024-03-24T13:46:28.657Z"
   },
   {
    "duration": 91,
    "start_time": "2024-03-24T13:46:36.193Z"
   },
   {
    "duration": 102,
    "start_time": "2024-03-24T13:47:13.546Z"
   },
   {
    "duration": 85,
    "start_time": "2024-03-24T13:47:32.778Z"
   },
   {
    "duration": 93,
    "start_time": "2024-03-24T13:50:24.077Z"
   },
   {
    "duration": 93,
    "start_time": "2024-03-24T13:51:04.159Z"
   },
   {
    "duration": 1033,
    "start_time": "2024-03-24T13:57:23.388Z"
   },
   {
    "duration": 1066,
    "start_time": "2024-03-24T13:57:27.764Z"
   },
   {
    "duration": 1157,
    "start_time": "2024-03-24T13:57:34.861Z"
   },
   {
    "duration": 68,
    "start_time": "2024-03-24T13:57:50.412Z"
   },
   {
    "duration": 66,
    "start_time": "2024-03-24T13:57:57.124Z"
   },
   {
    "duration": 177,
    "start_time": "2024-03-24T13:58:03.053Z"
   },
   {
    "duration": 177,
    "start_time": "2024-03-24T13:58:07.581Z"
   },
   {
    "duration": 258,
    "start_time": "2024-03-24T13:58:14.941Z"
   },
   {
    "duration": 166,
    "start_time": "2024-03-24T13:58:20.350Z"
   },
   {
    "duration": 91,
    "start_time": "2024-03-24T13:58:55.966Z"
   },
   {
    "duration": 88,
    "start_time": "2024-03-24T13:59:46.695Z"
   },
   {
    "duration": 89,
    "start_time": "2024-03-24T13:59:55.703Z"
   },
   {
    "duration": 88,
    "start_time": "2024-03-24T14:00:06.344Z"
   },
   {
    "duration": 100,
    "start_time": "2024-03-24T14:00:32.232Z"
   },
   {
    "duration": 855,
    "start_time": "2024-03-24T14:00:48.561Z"
   },
   {
    "duration": 7,
    "start_time": "2024-03-24T14:01:13.527Z"
   },
   {
    "duration": 5,
    "start_time": "2024-03-24T14:01:24.976Z"
   },
   {
    "duration": 848,
    "start_time": "2024-03-24T14:01:31.600Z"
   },
   {
    "duration": 849,
    "start_time": "2024-03-24T14:01:46.151Z"
   },
   {
    "duration": 889,
    "start_time": "2024-03-24T14:01:56.240Z"
   },
   {
    "duration": 6,
    "start_time": "2024-03-24T14:01:59.983Z"
   },
   {
    "duration": 8,
    "start_time": "2024-03-24T14:02:10.768Z"
   },
   {
    "duration": 8,
    "start_time": "2024-03-24T14:02:15.111Z"
   },
   {
    "duration": 5,
    "start_time": "2024-03-24T14:02:35.168Z"
   },
   {
    "duration": 92,
    "start_time": "2024-03-24T14:02:45.457Z"
   },
   {
    "duration": 105,
    "start_time": "2024-03-24T14:02:51.831Z"
   },
   {
    "duration": 31,
    "start_time": "2024-03-24T14:03:53.079Z"
   },
   {
    "duration": 155,
    "start_time": "2024-03-24T14:03:59.160Z"
   },
   {
    "duration": 151,
    "start_time": "2024-03-24T14:04:38.208Z"
   },
   {
    "duration": 8,
    "start_time": "2024-03-24T15:30:08.295Z"
   },
   {
    "duration": 7,
    "start_time": "2024-03-24T15:30:23.030Z"
   },
   {
    "duration": 92,
    "start_time": "2024-03-24T15:30:26.182Z"
   },
   {
    "duration": 8,
    "start_time": "2024-03-24T15:30:27.526Z"
   },
   {
    "duration": 10,
    "start_time": "2024-03-24T15:30:34.342Z"
   },
   {
    "duration": 6,
    "start_time": "2024-03-24T15:30:36.861Z"
   },
   {
    "duration": 6,
    "start_time": "2024-03-24T15:30:52.614Z"
   },
   {
    "duration": 6,
    "start_time": "2024-03-24T15:31:02.413Z"
   },
   {
    "duration": 5,
    "start_time": "2024-03-24T15:31:29.471Z"
   },
   {
    "duration": 6,
    "start_time": "2024-03-24T15:31:34.352Z"
   },
   {
    "duration": 3,
    "start_time": "2024-03-24T15:31:41.575Z"
   },
   {
    "duration": 5,
    "start_time": "2024-03-24T15:32:03.423Z"
   },
   {
    "duration": 7,
    "start_time": "2024-03-24T15:32:12.704Z"
   },
   {
    "duration": 66,
    "start_time": "2024-03-24T15:34:36.683Z"
   },
   {
    "duration": 8,
    "start_time": "2024-03-24T15:36:18.284Z"
   },
   {
    "duration": 12,
    "start_time": "2024-03-24T15:36:26.269Z"
   },
   {
    "duration": 8,
    "start_time": "2024-03-24T15:36:44.574Z"
   },
   {
    "duration": 9,
    "start_time": "2024-03-24T15:37:28.607Z"
   },
   {
    "duration": 17,
    "start_time": "2024-03-24T15:37:50.407Z"
   },
   {
    "duration": 9,
    "start_time": "2024-03-24T15:39:26.681Z"
   },
   {
    "duration": 11,
    "start_time": "2024-03-24T15:39:32.609Z"
   },
   {
    "duration": 9,
    "start_time": "2024-03-24T15:40:40.666Z"
   },
   {
    "duration": 14,
    "start_time": "2024-03-24T15:41:50.995Z"
   },
   {
    "duration": 92,
    "start_time": "2024-03-24T15:44:26.799Z"
   },
   {
    "duration": 88,
    "start_time": "2024-03-24T15:45:08.271Z"
   },
   {
    "duration": 90,
    "start_time": "2024-03-24T15:45:16.111Z"
   },
   {
    "duration": 89,
    "start_time": "2024-03-24T15:46:29.016Z"
   },
   {
    "duration": 80,
    "start_time": "2024-03-24T15:46:53.529Z"
   },
   {
    "duration": 83,
    "start_time": "2024-03-24T15:46:59.577Z"
   },
   {
    "duration": 89,
    "start_time": "2024-03-24T15:47:18.385Z"
   },
   {
    "duration": 90,
    "start_time": "2024-03-24T15:47:50.514Z"
   },
   {
    "duration": 109,
    "start_time": "2024-03-24T15:48:55.387Z"
   },
   {
    "duration": 117,
    "start_time": "2024-03-24T15:49:03.195Z"
   },
   {
    "duration": 117,
    "start_time": "2024-03-24T15:49:10.652Z"
   },
   {
    "duration": 136,
    "start_time": "2024-03-24T15:49:44.980Z"
   },
   {
    "duration": 115,
    "start_time": "2024-03-24T15:50:12.644Z"
   },
   {
    "duration": 109,
    "start_time": "2024-03-24T15:50:18.724Z"
   },
   {
    "duration": 113,
    "start_time": "2024-03-24T15:50:44.005Z"
   },
   {
    "duration": 115,
    "start_time": "2024-03-24T15:51:08.501Z"
   },
   {
    "duration": 133,
    "start_time": "2024-03-24T15:51:33.229Z"
   },
   {
    "duration": 118,
    "start_time": "2024-03-24T15:51:45.381Z"
   },
   {
    "duration": 93,
    "start_time": "2024-03-24T15:55:05.250Z"
   },
   {
    "duration": 89,
    "start_time": "2024-03-24T15:55:18.273Z"
   },
   {
    "duration": 18,
    "start_time": "2024-03-24T16:01:32.055Z"
   },
   {
    "duration": 3,
    "start_time": "2024-03-24T16:01:51.864Z"
   },
   {
    "duration": 7,
    "start_time": "2024-03-24T16:01:55.216Z"
   },
   {
    "duration": 4,
    "start_time": "2024-03-24T16:03:54.130Z"
   },
   {
    "duration": 8,
    "start_time": "2024-03-24T16:03:58.258Z"
   },
   {
    "duration": 7,
    "start_time": "2024-03-24T16:04:08.915Z"
   },
   {
    "duration": 10,
    "start_time": "2024-03-24T16:04:14.443Z"
   },
   {
    "duration": 10,
    "start_time": "2024-03-24T16:04:18.939Z"
   },
   {
    "duration": 8,
    "start_time": "2024-03-24T16:04:29.499Z"
   },
   {
    "duration": 7,
    "start_time": "2024-03-24T16:04:58.644Z"
   },
   {
    "duration": 11,
    "start_time": "2024-03-24T16:05:03.636Z"
   },
   {
    "duration": 7,
    "start_time": "2024-03-24T16:07:49.175Z"
   },
   {
    "duration": 87,
    "start_time": "2024-03-24T16:08:50.448Z"
   },
   {
    "duration": 97,
    "start_time": "2024-03-24T16:09:00.968Z"
   },
   {
    "duration": 84,
    "start_time": "2024-03-24T16:09:07.457Z"
   },
   {
    "duration": 87,
    "start_time": "2024-03-24T16:09:13.684Z"
   },
   {
    "duration": 83,
    "start_time": "2024-03-24T16:09:25.560Z"
   },
   {
    "duration": 89,
    "start_time": "2024-03-24T16:10:30.603Z"
   },
   {
    "duration": 85,
    "start_time": "2024-03-24T16:10:43.290Z"
   },
   {
    "duration": 86,
    "start_time": "2024-03-24T16:11:14.667Z"
   },
   {
    "duration": 84,
    "start_time": "2024-03-24T16:11:24.515Z"
   },
   {
    "duration": 91,
    "start_time": "2024-03-24T16:13:00.133Z"
   },
   {
    "duration": 87,
    "start_time": "2024-03-24T16:13:10.957Z"
   },
   {
    "duration": 84,
    "start_time": "2024-03-24T16:13:26.677Z"
   },
   {
    "duration": 84,
    "start_time": "2024-03-24T16:13:40.541Z"
   },
   {
    "duration": 90,
    "start_time": "2024-03-24T16:13:43.062Z"
   },
   {
    "duration": 86,
    "start_time": "2024-03-24T16:14:56.591Z"
   },
   {
    "duration": 78,
    "start_time": "2024-03-24T16:15:08.191Z"
   },
   {
    "duration": 86,
    "start_time": "2024-03-24T16:15:12.791Z"
   },
   {
    "duration": 86,
    "start_time": "2024-03-24T16:15:52.736Z"
   },
   {
    "duration": 85,
    "start_time": "2024-03-24T16:15:58.704Z"
   },
   {
    "duration": 92,
    "start_time": "2024-03-24T16:17:10.258Z"
   },
   {
    "duration": 89,
    "start_time": "2024-03-24T16:17:46.346Z"
   },
   {
    "duration": 84,
    "start_time": "2024-03-24T16:17:57.554Z"
   },
   {
    "duration": 94,
    "start_time": "2024-03-24T16:18:03.067Z"
   },
   {
    "duration": 85,
    "start_time": "2024-03-24T16:18:32.300Z"
   },
   {
    "duration": 82,
    "start_time": "2024-03-24T16:18:36.163Z"
   },
   {
    "duration": 89,
    "start_time": "2024-03-24T16:18:49.779Z"
   },
   {
    "duration": 94,
    "start_time": "2024-03-24T16:19:04.819Z"
   },
   {
    "duration": 101,
    "start_time": "2024-03-24T16:19:23.011Z"
   },
   {
    "duration": 82,
    "start_time": "2024-03-24T16:19:39.516Z"
   },
   {
    "duration": 92,
    "start_time": "2024-03-24T16:19:45.868Z"
   },
   {
    "duration": 93,
    "start_time": "2024-03-24T16:19:50.724Z"
   },
   {
    "duration": 82,
    "start_time": "2024-03-24T16:19:55.269Z"
   },
   {
    "duration": 83,
    "start_time": "2024-03-24T16:20:14.037Z"
   },
   {
    "duration": 88,
    "start_time": "2024-03-24T16:20:19.108Z"
   },
   {
    "duration": 84,
    "start_time": "2024-03-24T16:20:29.373Z"
   },
   {
    "duration": 86,
    "start_time": "2024-03-24T16:20:43.357Z"
   },
   {
    "duration": 82,
    "start_time": "2024-03-24T16:20:47.333Z"
   },
   {
    "duration": 100,
    "start_time": "2024-03-24T16:20:53.100Z"
   },
   {
    "duration": 7,
    "start_time": "2024-03-24T16:21:40.070Z"
   },
   {
    "duration": 11,
    "start_time": "2024-03-24T16:21:51.222Z"
   },
   {
    "duration": 13,
    "start_time": "2024-03-24T16:22:03.431Z"
   },
   {
    "duration": 4,
    "start_time": "2024-03-24T16:22:26.494Z"
   },
   {
    "duration": 90,
    "start_time": "2024-03-24T16:22:28.327Z"
   },
   {
    "duration": 104,
    "start_time": "2024-03-24T16:22:55.183Z"
   },
   {
    "duration": 87,
    "start_time": "2024-03-24T16:23:19.272Z"
   },
   {
    "duration": 86,
    "start_time": "2024-03-24T16:23:36.792Z"
   },
   {
    "duration": 85,
    "start_time": "2024-03-24T16:23:40.304Z"
   },
   {
    "duration": 94,
    "start_time": "2024-03-24T16:23:58.434Z"
   },
   {
    "duration": 99,
    "start_time": "2024-03-24T16:24:46.953Z"
   },
   {
    "duration": 95,
    "start_time": "2024-03-24T16:24:52.370Z"
   },
   {
    "duration": 98,
    "start_time": "2024-03-24T16:25:17.875Z"
   },
   {
    "duration": 85,
    "start_time": "2024-03-24T16:25:48.323Z"
   },
   {
    "duration": 90,
    "start_time": "2024-03-24T16:25:57.562Z"
   },
   {
    "duration": 81,
    "start_time": "2024-03-24T16:26:09.395Z"
   },
   {
    "duration": 93,
    "start_time": "2024-03-24T16:26:12.900Z"
   },
   {
    "duration": 93,
    "start_time": "2024-03-24T16:26:28.571Z"
   },
   {
    "duration": 929,
    "start_time": "2024-03-24T16:26:36.156Z"
   },
   {
    "duration": 980,
    "start_time": "2024-03-24T16:26:45.027Z"
   },
   {
    "duration": 81,
    "start_time": "2024-03-24T16:26:51.115Z"
   },
   {
    "duration": 95,
    "start_time": "2024-03-24T16:26:54.860Z"
   },
   {
    "duration": 104,
    "start_time": "2024-03-24T16:27:48.605Z"
   },
   {
    "duration": 93,
    "start_time": "2024-03-24T16:28:05.501Z"
   },
   {
    "duration": 97,
    "start_time": "2024-03-24T16:28:15.885Z"
   },
   {
    "duration": 925,
    "start_time": "2024-03-24T16:28:28.102Z"
   },
   {
    "duration": 98,
    "start_time": "2024-03-24T16:28:33.799Z"
   },
   {
    "duration": 88,
    "start_time": "2024-03-24T16:28:42.103Z"
   },
   {
    "duration": 95,
    "start_time": "2024-03-24T16:28:44.814Z"
   },
   {
    "duration": 101,
    "start_time": "2024-03-24T16:29:07.503Z"
   },
   {
    "duration": 96,
    "start_time": "2024-03-24T16:29:49.606Z"
   },
   {
    "duration": 99,
    "start_time": "2024-03-24T16:30:11.975Z"
   },
   {
    "duration": 6,
    "start_time": "2024-03-24T16:30:37.454Z"
   },
   {
    "duration": 7,
    "start_time": "2024-03-24T16:30:46.215Z"
   },
   {
    "duration": 5,
    "start_time": "2024-03-24T16:30:52.808Z"
   },
   {
    "duration": 880,
    "start_time": "2024-03-24T16:31:04.983Z"
   },
   {
    "duration": 5,
    "start_time": "2024-03-24T16:31:10.361Z"
   },
   {
    "duration": 7,
    "start_time": "2024-03-24T16:31:21.192Z"
   },
   {
    "duration": 97,
    "start_time": "2024-03-24T16:31:51.947Z"
   },
   {
    "duration": 101,
    "start_time": "2024-03-24T16:31:56.529Z"
   },
   {
    "duration": 86,
    "start_time": "2024-03-24T16:32:08.024Z"
   },
   {
    "duration": 94,
    "start_time": "2024-03-24T16:32:15.441Z"
   },
   {
    "duration": 763,
    "start_time": "2024-03-24T16:32:28.411Z"
   },
   {
    "duration": 94,
    "start_time": "2024-03-24T16:32:43.298Z"
   },
   {
    "duration": 6,
    "start_time": "2024-03-24T16:33:30.244Z"
   },
   {
    "duration": 808,
    "start_time": "2024-03-24T16:34:52.108Z"
   },
   {
    "duration": 9,
    "start_time": "2024-03-24T16:35:02.077Z"
   },
   {
    "duration": 10,
    "start_time": "2024-03-24T16:35:09.860Z"
   },
   {
    "duration": 94,
    "start_time": "2024-03-24T16:35:27.916Z"
   },
   {
    "duration": 66,
    "start_time": "2024-03-24T16:44:56.640Z"
   },
   {
    "duration": 3,
    "start_time": "2024-03-24T16:45:13.951Z"
   },
   {
    "duration": 8,
    "start_time": "2024-03-24T16:45:23.080Z"
   },
   {
    "duration": 8,
    "start_time": "2024-03-24T16:45:26.280Z"
   },
   {
    "duration": 4,
    "start_time": "2024-03-24T16:45:35.706Z"
   },
   {
    "duration": 5,
    "start_time": "2024-03-24T16:46:36.697Z"
   },
   {
    "duration": 5,
    "start_time": "2024-03-24T17:15:32.091Z"
   },
   {
    "duration": 6,
    "start_time": "2024-03-24T17:16:55.228Z"
   },
   {
    "duration": 5,
    "start_time": "2024-03-24T17:17:27.870Z"
   },
   {
    "duration": 8,
    "start_time": "2024-03-24T17:17:30.964Z"
   },
   {
    "duration": 8,
    "start_time": "2024-03-24T17:18:29.557Z"
   },
   {
    "duration": 5,
    "start_time": "2024-03-24T17:18:45.719Z"
   },
   {
    "duration": 814,
    "start_time": "2024-03-24T17:18:51.534Z"
   },
   {
    "duration": 5,
    "start_time": "2024-03-24T17:18:58.455Z"
   },
   {
    "duration": 4,
    "start_time": "2024-03-24T17:19:04.167Z"
   },
   {
    "duration": 7,
    "start_time": "2024-03-24T17:19:19.102Z"
   },
   {
    "duration": 6,
    "start_time": "2024-03-24T17:19:26.638Z"
   },
   {
    "duration": 5,
    "start_time": "2024-03-24T18:19:37.425Z"
   },
   {
    "duration": 8,
    "start_time": "2024-03-24T18:19:42.512Z"
   },
   {
    "duration": 109,
    "start_time": "2024-03-24T19:29:14.932Z"
   },
   {
    "duration": 6,
    "start_time": "2024-03-24T19:29:32.723Z"
   },
   {
    "duration": 12,
    "start_time": "2024-03-24T19:29:36.002Z"
   },
   {
    "duration": 7,
    "start_time": "2024-03-24T19:29:39.812Z"
   },
   {
    "duration": 6,
    "start_time": "2024-03-24T19:31:07.862Z"
   },
   {
    "duration": 63,
    "start_time": "2024-03-25T03:58:35.677Z"
   },
   {
    "duration": 1281,
    "start_time": "2024-03-25T03:58:40.971Z"
   },
   {
    "duration": 326,
    "start_time": "2024-03-25T03:58:42.254Z"
   },
   {
    "duration": 3,
    "start_time": "2024-03-25T03:58:42.585Z"
   },
   {
    "duration": 280,
    "start_time": "2024-03-25T03:58:42.590Z"
   },
   {
    "duration": 94,
    "start_time": "2024-03-25T03:58:42.872Z"
   },
   {
    "duration": 124,
    "start_time": "2024-03-25T03:58:42.967Z"
   },
   {
    "duration": 46,
    "start_time": "2024-03-25T03:58:43.093Z"
   },
   {
    "duration": 7,
    "start_time": "2024-03-25T03:58:43.144Z"
   },
   {
    "duration": 481,
    "start_time": "2024-03-25T03:58:43.154Z"
   },
   {
    "duration": 46,
    "start_time": "2024-03-25T03:58:43.637Z"
   },
   {
    "duration": 26,
    "start_time": "2024-03-25T03:58:43.684Z"
   },
   {
    "duration": 201,
    "start_time": "2024-03-25T03:58:43.712Z"
   },
   {
    "duration": 41,
    "start_time": "2024-03-25T03:58:43.914Z"
   },
   {
    "duration": 215,
    "start_time": "2024-03-25T03:58:43.957Z"
   },
   {
    "duration": 73,
    "start_time": "2024-03-25T03:58:44.174Z"
   },
   {
    "duration": 192,
    "start_time": "2024-03-25T03:58:44.249Z"
   },
   {
    "duration": 5,
    "start_time": "2024-03-25T03:58:44.442Z"
   },
   {
    "duration": 112,
    "start_time": "2024-03-25T03:58:44.449Z"
   },
   {
    "duration": 6,
    "start_time": "2024-03-25T03:58:44.563Z"
   },
   {
    "duration": 17,
    "start_time": "2024-03-25T03:58:44.570Z"
   },
   {
    "duration": 7,
    "start_time": "2024-03-25T03:58:44.588Z"
   },
   {
    "duration": 805,
    "start_time": "2024-03-25T03:59:11.484Z"
   },
   {
    "duration": 809,
    "start_time": "2024-03-25T03:59:54.533Z"
   },
   {
    "duration": 1089,
    "start_time": "2024-03-25T04:00:02.737Z"
   },
   {
    "duration": 222,
    "start_time": "2024-03-25T04:00:03.828Z"
   },
   {
    "duration": 3,
    "start_time": "2024-03-25T04:00:04.052Z"
   },
   {
    "duration": 297,
    "start_time": "2024-03-25T04:00:04.057Z"
   },
   {
    "duration": 94,
    "start_time": "2024-03-25T04:00:04.356Z"
   },
   {
    "duration": 109,
    "start_time": "2024-03-25T04:00:04.451Z"
   },
   {
    "duration": 45,
    "start_time": "2024-03-25T04:00:04.561Z"
   },
   {
    "duration": 5,
    "start_time": "2024-03-25T04:00:04.607Z"
   },
   {
    "duration": 407,
    "start_time": "2024-03-25T04:00:04.613Z"
   },
   {
    "duration": 37,
    "start_time": "2024-03-25T04:00:05.021Z"
   },
   {
    "duration": 40,
    "start_time": "2024-03-25T04:00:05.060Z"
   },
   {
    "duration": 191,
    "start_time": "2024-03-25T04:00:05.102Z"
   },
   {
    "duration": 39,
    "start_time": "2024-03-25T04:00:05.295Z"
   },
   {
    "duration": 195,
    "start_time": "2024-03-25T04:00:05.336Z"
   },
   {
    "duration": 71,
    "start_time": "2024-03-25T04:00:05.533Z"
   },
   {
    "duration": 176,
    "start_time": "2024-03-25T04:00:05.606Z"
   },
   {
    "duration": 5,
    "start_time": "2024-03-25T04:00:05.783Z"
   },
   {
    "duration": 919,
    "start_time": "2024-03-25T04:00:05.789Z"
   },
   {
    "duration": 0,
    "start_time": "2024-03-25T04:00:06.710Z"
   },
   {
    "duration": 0,
    "start_time": "2024-03-25T04:00:06.711Z"
   },
   {
    "duration": 0,
    "start_time": "2024-03-25T04:00:06.712Z"
   },
   {
    "duration": 87,
    "start_time": "2024-03-25T04:00:44.845Z"
   },
   {
    "duration": 95,
    "start_time": "2024-03-25T04:02:20.599Z"
   },
   {
    "duration": 79,
    "start_time": "2024-03-25T04:03:57.593Z"
   },
   {
    "duration": 96,
    "start_time": "2024-03-25T04:04:02.177Z"
   },
   {
    "duration": 1017,
    "start_time": "2024-03-25T04:05:11.554Z"
   },
   {
    "duration": 85,
    "start_time": "2024-03-25T04:05:22.787Z"
   },
   {
    "duration": 4377,
    "start_time": "2024-03-25T04:05:28.482Z"
   },
   {
    "duration": 91,
    "start_time": "2024-03-25T04:05:36.370Z"
   },
   {
    "duration": 100,
    "start_time": "2024-03-25T04:06:06.515Z"
   },
   {
    "duration": 99,
    "start_time": "2024-03-25T04:06:19.675Z"
   },
   {
    "duration": 121,
    "start_time": "2024-03-25T04:08:14.782Z"
   },
   {
    "duration": 98,
    "start_time": "2024-03-25T04:08:44.572Z"
   },
   {
    "duration": 119,
    "start_time": "2024-03-25T06:03:33.684Z"
   },
   {
    "duration": 273,
    "start_time": "2024-03-25T06:04:38.059Z"
   },
   {
    "duration": 238,
    "start_time": "2024-03-25T06:04:49.131Z"
   },
   {
    "duration": 243,
    "start_time": "2024-03-25T06:04:52.011Z"
   },
   {
    "duration": 166,
    "start_time": "2024-03-25T06:05:10.188Z"
   },
   {
    "duration": 43,
    "start_time": "2024-03-25T06:05:29.396Z"
   },
   {
    "duration": 166,
    "start_time": "2024-03-25T06:05:37.980Z"
   },
   {
    "duration": 191,
    "start_time": "2024-03-25T06:06:19.819Z"
   },
   {
    "duration": 40,
    "start_time": "2024-03-25T06:06:36.005Z"
   },
   {
    "duration": 163,
    "start_time": "2024-03-25T06:06:42.901Z"
   },
   {
    "duration": 263,
    "start_time": "2024-03-25T06:06:47.516Z"
   },
   {
    "duration": 270,
    "start_time": "2024-03-25T06:06:51.869Z"
   },
   {
    "duration": 29,
    "start_time": "2024-03-25T06:07:18.277Z"
   },
   {
    "duration": 41,
    "start_time": "2024-03-25T06:07:21.125Z"
   },
   {
    "duration": 26,
    "start_time": "2024-03-25T06:07:23.876Z"
   },
   {
    "duration": 26,
    "start_time": "2024-03-25T06:07:36.045Z"
   },
   {
    "duration": 31,
    "start_time": "2024-03-25T06:10:18.120Z"
   },
   {
    "duration": 160,
    "start_time": "2024-03-25T06:10:23.929Z"
   },
   {
    "duration": 29,
    "start_time": "2024-03-25T06:10:35.376Z"
   },
   {
    "duration": 240,
    "start_time": "2024-03-25T06:10:45.096Z"
   },
   {
    "duration": 157,
    "start_time": "2024-03-25T06:11:05.712Z"
   },
   {
    "duration": 162,
    "start_time": "2024-03-25T06:11:36.089Z"
   },
   {
    "duration": 30,
    "start_time": "2024-03-25T06:11:57.139Z"
   },
   {
    "duration": 153,
    "start_time": "2024-03-25T06:12:07.186Z"
   },
   {
    "duration": 152,
    "start_time": "2024-03-25T06:12:19.257Z"
   },
   {
    "duration": 1056,
    "start_time": "2024-03-25T06:12:40.954Z"
   },
   {
    "duration": 71,
    "start_time": "2024-03-25T06:12:54.811Z"
   },
   {
    "duration": 181,
    "start_time": "2024-03-25T06:12:57.322Z"
   },
   {
    "duration": 169,
    "start_time": "2024-03-25T06:13:06.891Z"
   },
   {
    "duration": 162,
    "start_time": "2024-03-25T06:13:13.340Z"
   },
   {
    "duration": 187,
    "start_time": "2024-03-25T06:13:44.874Z"
   },
   {
    "duration": 82,
    "start_time": "2024-03-25T06:13:55.963Z"
   },
   {
    "duration": 227,
    "start_time": "2024-03-25T06:14:02.043Z"
   },
   {
    "duration": 173,
    "start_time": "2024-03-25T06:14:37.764Z"
   },
   {
    "duration": 150,
    "start_time": "2024-03-25T06:14:46.634Z"
   },
   {
    "duration": 179,
    "start_time": "2024-03-25T06:15:05.660Z"
   },
   {
    "duration": 3,
    "start_time": "2024-03-25T06:15:22.716Z"
   },
   {
    "duration": 10,
    "start_time": "2024-03-25T06:15:27.564Z"
   },
   {
    "duration": 81,
    "start_time": "2024-03-25T06:15:29.901Z"
   },
   {
    "duration": 5,
    "start_time": "2024-03-25T06:15:37.325Z"
   },
   {
    "duration": 9,
    "start_time": "2024-03-25T06:15:39.364Z"
   },
   {
    "duration": 952,
    "start_time": "2024-03-25T06:16:49.711Z"
   },
   {
    "duration": 1019,
    "start_time": "2024-03-25T06:17:07.427Z"
   },
   {
    "duration": 206,
    "start_time": "2024-03-25T06:17:08.448Z"
   },
   {
    "duration": 2,
    "start_time": "2024-03-25T06:17:08.656Z"
   },
   {
    "duration": 272,
    "start_time": "2024-03-25T06:17:08.661Z"
   },
   {
    "duration": 91,
    "start_time": "2024-03-25T06:17:08.935Z"
   },
   {
    "duration": 117,
    "start_time": "2024-03-25T06:17:09.028Z"
   },
   {
    "duration": 45,
    "start_time": "2024-03-25T06:17:09.146Z"
   },
   {
    "duration": 7,
    "start_time": "2024-03-25T06:17:09.193Z"
   },
   {
    "duration": 434,
    "start_time": "2024-03-25T06:17:09.202Z"
   },
   {
    "duration": 46,
    "start_time": "2024-03-25T06:17:09.638Z"
   },
   {
    "duration": 27,
    "start_time": "2024-03-25T06:17:09.685Z"
   },
   {
    "duration": 193,
    "start_time": "2024-03-25T06:17:09.713Z"
   },
   {
    "duration": 41,
    "start_time": "2024-03-25T06:17:09.908Z"
   },
   {
    "duration": 201,
    "start_time": "2024-03-25T06:17:09.951Z"
   },
   {
    "duration": 73,
    "start_time": "2024-03-25T06:17:10.153Z"
   },
   {
    "duration": 179,
    "start_time": "2024-03-25T06:17:10.228Z"
   },
   {
    "duration": 4,
    "start_time": "2024-03-25T06:17:10.409Z"
   },
   {
    "duration": 1006,
    "start_time": "2024-03-25T06:17:10.415Z"
   },
   {
    "duration": 0,
    "start_time": "2024-03-25T06:17:11.423Z"
   },
   {
    "duration": 0,
    "start_time": "2024-03-25T06:17:11.424Z"
   },
   {
    "duration": 0,
    "start_time": "2024-03-25T06:17:11.425Z"
   },
   {
    "duration": 934,
    "start_time": "2024-03-25T06:17:20.935Z"
   },
   {
    "duration": 5,
    "start_time": "2024-03-25T06:17:51.414Z"
   },
   {
    "duration": 5,
    "start_time": "2024-03-25T06:17:54.814Z"
   },
   {
    "duration": 89,
    "start_time": "2024-03-25T06:18:00.493Z"
   },
   {
    "duration": 5,
    "start_time": "2024-03-25T06:18:03.093Z"
   },
   {
    "duration": 71,
    "start_time": "2024-03-25T06:18:08.023Z"
   },
   {
    "duration": 953,
    "start_time": "2024-03-25T06:18:17.103Z"
   },
   {
    "duration": 84,
    "start_time": "2024-03-25T06:18:47.120Z"
   },
   {
    "duration": 89,
    "start_time": "2024-03-25T06:19:15.209Z"
   },
   {
    "duration": 1032,
    "start_time": "2024-03-25T06:19:26.601Z"
   },
   {
    "duration": 1213,
    "start_time": "2024-03-25T06:19:32.748Z"
   },
   {
    "duration": 222,
    "start_time": "2024-03-25T06:19:33.963Z"
   },
   {
    "duration": 3,
    "start_time": "2024-03-25T06:19:34.188Z"
   },
   {
    "duration": 300,
    "start_time": "2024-03-25T06:19:34.193Z"
   },
   {
    "duration": 98,
    "start_time": "2024-03-25T06:19:34.496Z"
   },
   {
    "duration": 117,
    "start_time": "2024-03-25T06:19:34.596Z"
   },
   {
    "duration": 41,
    "start_time": "2024-03-25T06:19:34.714Z"
   },
   {
    "duration": 6,
    "start_time": "2024-03-25T06:19:34.756Z"
   },
   {
    "duration": 423,
    "start_time": "2024-03-25T06:19:34.783Z"
   },
   {
    "duration": 42,
    "start_time": "2024-03-25T06:19:35.208Z"
   },
   {
    "duration": 43,
    "start_time": "2024-03-25T06:19:35.251Z"
   },
   {
    "duration": 180,
    "start_time": "2024-03-25T06:19:35.296Z"
   },
   {
    "duration": 40,
    "start_time": "2024-03-25T06:19:35.481Z"
   },
   {
    "duration": 203,
    "start_time": "2024-03-25T06:19:35.523Z"
   },
   {
    "duration": 75,
    "start_time": "2024-03-25T06:19:35.728Z"
   },
   {
    "duration": 194,
    "start_time": "2024-03-25T06:19:35.804Z"
   },
   {
    "duration": 5,
    "start_time": "2024-03-25T06:19:35.999Z"
   },
   {
    "duration": 24,
    "start_time": "2024-03-25T06:19:36.005Z"
   },
   {
    "duration": 1173,
    "start_time": "2024-03-25T06:19:36.031Z"
   },
   {
    "duration": 0,
    "start_time": "2024-03-25T06:19:37.205Z"
   },
   {
    "duration": 0,
    "start_time": "2024-03-25T06:19:37.207Z"
   },
   {
    "duration": 0,
    "start_time": "2024-03-25T06:19:37.208Z"
   },
   {
    "duration": 95,
    "start_time": "2024-03-25T06:20:27.265Z"
   },
   {
    "duration": 332,
    "start_time": "2024-03-25T06:21:12.139Z"
   },
   {
    "duration": 97,
    "start_time": "2024-03-25T06:21:29.203Z"
   },
   {
    "duration": 344,
    "start_time": "2024-03-25T06:21:40.987Z"
   },
   {
    "duration": 100,
    "start_time": "2024-03-25T06:22:03.491Z"
   },
   {
    "duration": 97,
    "start_time": "2024-03-25T06:22:46.452Z"
   },
   {
    "duration": 89,
    "start_time": "2024-03-25T06:22:51.508Z"
   },
   {
    "duration": 335,
    "start_time": "2024-03-25T06:24:34.750Z"
   },
   {
    "duration": 95,
    "start_time": "2024-03-25T06:24:37.350Z"
   },
   {
    "duration": 103,
    "start_time": "2024-03-25T06:24:40.269Z"
   },
   {
    "duration": 6,
    "start_time": "2024-03-25T06:25:05.854Z"
   },
   {
    "duration": 6,
    "start_time": "2024-03-25T06:25:07.109Z"
   },
   {
    "duration": 4,
    "start_time": "2024-03-25T06:25:58.167Z"
   },
   {
    "duration": 6,
    "start_time": "2024-03-25T06:25:59.966Z"
   },
   {
    "duration": 109,
    "start_time": "2024-03-25T06:29:00.004Z"
   },
   {
    "duration": 67,
    "start_time": "2024-03-25T06:30:31.981Z"
   },
   {
    "duration": 85,
    "start_time": "2024-03-25T06:30:35.348Z"
   },
   {
    "duration": 98,
    "start_time": "2024-03-25T06:30:37.068Z"
   },
   {
    "duration": 75,
    "start_time": "2024-03-25T06:30:53.660Z"
   },
   {
    "duration": 116,
    "start_time": "2024-03-25T06:30:57.741Z"
   },
   {
    "duration": 109,
    "start_time": "2024-03-25T06:31:01.973Z"
   },
   {
    "duration": 110,
    "start_time": "2024-03-25T06:31:17.862Z"
   },
   {
    "duration": 103,
    "start_time": "2024-03-25T06:31:27.454Z"
   },
   {
    "duration": 77,
    "start_time": "2024-03-25T06:31:32.693Z"
   },
   {
    "duration": 109,
    "start_time": "2024-03-25T06:31:37.982Z"
   },
   {
    "duration": 102,
    "start_time": "2024-03-25T06:31:50.847Z"
   },
   {
    "duration": 106,
    "start_time": "2024-03-25T06:31:56.302Z"
   },
   {
    "duration": 87,
    "start_time": "2024-03-25T06:32:02.294Z"
   },
   {
    "duration": 66,
    "start_time": "2024-03-25T06:32:08.711Z"
   },
   {
    "duration": 96,
    "start_time": "2024-03-25T06:32:15.086Z"
   },
   {
    "duration": 106,
    "start_time": "2024-03-25T06:33:46.513Z"
   },
   {
    "duration": 113,
    "start_time": "2024-03-25T06:34:01.337Z"
   },
   {
    "duration": 88,
    "start_time": "2024-03-25T06:34:16.570Z"
   },
   {
    "duration": 77,
    "start_time": "2024-03-25T06:34:19.035Z"
   },
   {
    "duration": 107,
    "start_time": "2024-03-25T06:34:22.802Z"
   },
   {
    "duration": 9,
    "start_time": "2024-03-25T06:37:05.925Z"
   },
   {
    "duration": 12,
    "start_time": "2024-03-25T06:37:16.366Z"
   },
   {
    "duration": 27,
    "start_time": "2024-03-25T06:40:05.641Z"
   },
   {
    "duration": 14,
    "start_time": "2024-03-25T06:40:10.768Z"
   },
   {
    "duration": 9,
    "start_time": "2024-03-25T06:40:19.602Z"
   },
   {
    "duration": 10,
    "start_time": "2024-03-25T06:45:00.736Z"
   },
   {
    "duration": 10,
    "start_time": "2024-03-25T06:45:05.487Z"
   },
   {
    "duration": 10,
    "start_time": "2024-03-25T06:45:12.247Z"
   },
   {
    "duration": 13,
    "start_time": "2024-03-25T06:45:16.457Z"
   },
   {
    "duration": 9,
    "start_time": "2024-03-25T06:45:24.512Z"
   },
   {
    "duration": 9,
    "start_time": "2024-03-25T06:45:43.265Z"
   },
   {
    "duration": 13,
    "start_time": "2024-03-25T06:45:59.313Z"
   },
   {
    "duration": 9,
    "start_time": "2024-03-25T06:46:19.777Z"
   },
   {
    "duration": 14,
    "start_time": "2024-03-25T06:47:34.578Z"
   },
   {
    "duration": 11,
    "start_time": "2024-03-25T06:48:18.228Z"
   },
   {
    "duration": 10,
    "start_time": "2024-03-25T06:49:22.829Z"
   },
   {
    "duration": 10,
    "start_time": "2024-03-25T06:49:25.693Z"
   },
   {
    "duration": 13,
    "start_time": "2024-03-25T06:49:33.748Z"
   },
   {
    "duration": 12,
    "start_time": "2024-03-25T06:49:38.661Z"
   },
   {
    "duration": 12,
    "start_time": "2024-03-25T06:49:44.142Z"
   },
   {
    "duration": 10,
    "start_time": "2024-03-25T06:49:47.126Z"
   },
   {
    "duration": 113,
    "start_time": "2024-03-25T06:59:34.843Z"
   },
   {
    "duration": 111,
    "start_time": "2024-03-25T06:59:50.402Z"
   },
   {
    "duration": 91,
    "start_time": "2024-03-25T07:00:08.098Z"
   },
   {
    "duration": 110,
    "start_time": "2024-03-25T07:00:12.442Z"
   },
   {
    "duration": 11,
    "start_time": "2024-03-25T07:00:42.627Z"
   },
   {
    "duration": 11,
    "start_time": "2024-03-25T07:06:15.648Z"
   },
   {
    "duration": 16,
    "start_time": "2024-03-25T07:07:05.240Z"
   },
   {
    "duration": 10,
    "start_time": "2024-03-25T07:07:09.153Z"
   },
   {
    "duration": 10,
    "start_time": "2024-03-25T07:11:13.132Z"
   },
   {
    "duration": 10,
    "start_time": "2024-03-25T07:11:25.788Z"
   },
   {
    "duration": 12,
    "start_time": "2024-03-25T07:14:51.151Z"
   },
   {
    "duration": 12,
    "start_time": "2024-03-25T07:15:24.151Z"
   },
   {
    "duration": 10,
    "start_time": "2024-03-25T07:15:31.744Z"
   },
   {
    "duration": 943,
    "start_time": "2024-03-25T07:18:06.138Z"
   },
   {
    "duration": 1091,
    "start_time": "2024-03-25T07:18:18.099Z"
   },
   {
    "duration": 730,
    "start_time": "2024-03-25T07:18:38.554Z"
   },
   {
    "duration": 905,
    "start_time": "2024-03-25T07:18:50.314Z"
   },
   {
    "duration": 773,
    "start_time": "2024-03-25T07:19:14.755Z"
   },
   {
    "duration": 11,
    "start_time": "2024-03-25T07:19:54.092Z"
   },
   {
    "duration": 1160,
    "start_time": "2024-03-25T07:48:39.788Z"
   },
   {
    "duration": 215,
    "start_time": "2024-03-25T07:48:40.950Z"
   },
   {
    "duration": 3,
    "start_time": "2024-03-25T07:48:41.167Z"
   },
   {
    "duration": 282,
    "start_time": "2024-03-25T07:48:41.182Z"
   },
   {
    "duration": 103,
    "start_time": "2024-03-25T07:48:41.465Z"
   },
   {
    "duration": 128,
    "start_time": "2024-03-25T07:48:41.570Z"
   },
   {
    "duration": 40,
    "start_time": "2024-03-25T07:48:41.700Z"
   },
   {
    "duration": 6,
    "start_time": "2024-03-25T07:48:41.741Z"
   },
   {
    "duration": 426,
    "start_time": "2024-03-25T07:48:41.748Z"
   },
   {
    "duration": 37,
    "start_time": "2024-03-25T07:48:42.183Z"
   },
   {
    "duration": 26,
    "start_time": "2024-03-25T07:48:42.222Z"
   },
   {
    "duration": 213,
    "start_time": "2024-03-25T07:48:42.250Z"
   },
   {
    "duration": 53,
    "start_time": "2024-03-25T07:48:42.465Z"
   },
   {
    "duration": 223,
    "start_time": "2024-03-25T07:48:42.520Z"
   },
   {
    "duration": 76,
    "start_time": "2024-03-25T07:48:42.744Z"
   },
   {
    "duration": 180,
    "start_time": "2024-03-25T07:48:42.822Z"
   },
   {
    "duration": 4,
    "start_time": "2024-03-25T07:48:43.004Z"
   },
   {
    "duration": 4,
    "start_time": "2024-03-25T07:48:43.010Z"
   },
   {
    "duration": 128,
    "start_time": "2024-03-25T07:48:43.016Z"
   },
   {
    "duration": 5,
    "start_time": "2024-03-25T07:48:43.146Z"
   },
   {
    "duration": 33,
    "start_time": "2024-03-25T07:48:43.153Z"
   },
   {
    "duration": 12,
    "start_time": "2024-03-25T07:48:43.188Z"
   },
   {
    "duration": 12,
    "start_time": "2024-03-25T07:48:43.201Z"
   },
   {
    "duration": 14,
    "start_time": "2024-03-25T07:48:43.214Z"
   },
   {
    "duration": 6,
    "start_time": "2024-03-25T08:04:37.242Z"
   },
   {
    "duration": 124,
    "start_time": "2024-03-25T08:05:05.994Z"
   },
   {
    "duration": 13,
    "start_time": "2024-03-25T08:05:12.273Z"
   },
   {
    "duration": 1136,
    "start_time": "2024-03-25T08:05:20.764Z"
   },
   {
    "duration": 211,
    "start_time": "2024-03-25T08:05:21.902Z"
   },
   {
    "duration": 3,
    "start_time": "2024-03-25T08:05:22.115Z"
   },
   {
    "duration": 288,
    "start_time": "2024-03-25T08:05:22.119Z"
   },
   {
    "duration": 97,
    "start_time": "2024-03-25T08:05:22.409Z"
   },
   {
    "duration": 131,
    "start_time": "2024-03-25T08:05:22.507Z"
   },
   {
    "duration": 46,
    "start_time": "2024-03-25T08:05:22.639Z"
   },
   {
    "duration": 6,
    "start_time": "2024-03-25T08:05:22.686Z"
   },
   {
    "duration": 450,
    "start_time": "2024-03-25T08:05:22.693Z"
   },
   {
    "duration": 49,
    "start_time": "2024-03-25T08:05:23.145Z"
   },
   {
    "duration": 27,
    "start_time": "2024-03-25T08:05:23.195Z"
   },
   {
    "duration": 201,
    "start_time": "2024-03-25T08:05:23.223Z"
   },
   {
    "duration": 38,
    "start_time": "2024-03-25T08:05:23.426Z"
   },
   {
    "duration": 211,
    "start_time": "2024-03-25T08:05:23.467Z"
   },
   {
    "duration": 62,
    "start_time": "2024-03-25T08:05:23.681Z"
   },
   {
    "duration": 193,
    "start_time": "2024-03-25T08:05:23.745Z"
   },
   {
    "duration": 4,
    "start_time": "2024-03-25T08:05:23.939Z"
   },
   {
    "duration": 15,
    "start_time": "2024-03-25T08:05:23.945Z"
   },
   {
    "duration": 120,
    "start_time": "2024-03-25T08:05:23.962Z"
   },
   {
    "duration": 5,
    "start_time": "2024-03-25T08:05:24.084Z"
   },
   {
    "duration": 21,
    "start_time": "2024-03-25T08:05:24.090Z"
   },
   {
    "duration": 30,
    "start_time": "2024-03-25T08:05:24.113Z"
   },
   {
    "duration": 14,
    "start_time": "2024-03-25T08:05:24.144Z"
   },
   {
    "duration": 23,
    "start_time": "2024-03-25T08:05:24.159Z"
   },
   {
    "duration": 5,
    "start_time": "2024-03-25T08:05:24.184Z"
   },
   {
    "duration": 1096,
    "start_time": "2024-03-25T08:22:26.987Z"
   },
   {
    "duration": 212,
    "start_time": "2024-03-25T08:22:28.085Z"
   },
   {
    "duration": 3,
    "start_time": "2024-03-25T08:22:28.299Z"
   },
   {
    "duration": 286,
    "start_time": "2024-03-25T08:22:28.303Z"
   },
   {
    "duration": 92,
    "start_time": "2024-03-25T08:22:28.591Z"
   },
   {
    "duration": 112,
    "start_time": "2024-03-25T08:22:28.685Z"
   },
   {
    "duration": 39,
    "start_time": "2024-03-25T08:22:28.798Z"
   },
   {
    "duration": 5,
    "start_time": "2024-03-25T08:22:28.839Z"
   },
   {
    "duration": 425,
    "start_time": "2024-03-25T08:22:28.846Z"
   },
   {
    "duration": 43,
    "start_time": "2024-03-25T08:22:29.274Z"
   },
   {
    "duration": 30,
    "start_time": "2024-03-25T08:22:29.319Z"
   },
   {
    "duration": 217,
    "start_time": "2024-03-25T08:22:29.350Z"
   },
   {
    "duration": 46,
    "start_time": "2024-03-25T08:22:29.569Z"
   },
   {
    "duration": 211,
    "start_time": "2024-03-25T08:22:29.618Z"
   },
   {
    "duration": 78,
    "start_time": "2024-03-25T08:22:29.831Z"
   },
   {
    "duration": 190,
    "start_time": "2024-03-25T08:22:29.911Z"
   },
   {
    "duration": 4,
    "start_time": "2024-03-25T08:22:30.103Z"
   },
   {
    "duration": 67,
    "start_time": "2024-03-25T08:22:30.109Z"
   },
   {
    "duration": 177,
    "start_time": "2024-03-25T08:22:30.178Z"
   },
   {
    "duration": 42,
    "start_time": "2024-03-25T08:22:30.356Z"
   },
   {
    "duration": 147,
    "start_time": "2024-03-25T08:22:30.400Z"
   },
   {
    "duration": 143,
    "start_time": "2024-03-25T08:22:30.549Z"
   },
   {
    "duration": 38,
    "start_time": "2024-03-25T08:22:30.693Z"
   },
   {
    "duration": 69,
    "start_time": "2024-03-25T08:22:30.733Z"
   },
   {
    "duration": 37,
    "start_time": "2024-03-25T08:22:30.804Z"
   },
   {
    "duration": 158,
    "start_time": "2024-03-25T08:26:19.032Z"
   },
   {
    "duration": 115,
    "start_time": "2024-03-25T08:26:44.520Z"
   },
   {
    "duration": 1212,
    "start_time": "2024-03-25T08:42:47.647Z"
   },
   {
    "duration": 220,
    "start_time": "2024-03-25T08:42:48.861Z"
   },
   {
    "duration": 3,
    "start_time": "2024-03-25T08:42:49.082Z"
   },
   {
    "duration": 288,
    "start_time": "2024-03-25T08:42:49.086Z"
   },
   {
    "duration": 98,
    "start_time": "2024-03-25T08:42:49.376Z"
   },
   {
    "duration": 117,
    "start_time": "2024-03-25T08:42:49.475Z"
   },
   {
    "duration": 42,
    "start_time": "2024-03-25T08:42:49.593Z"
   },
   {
    "duration": 5,
    "start_time": "2024-03-25T08:42:49.637Z"
   },
   {
    "duration": 471,
    "start_time": "2024-03-25T08:42:49.644Z"
   },
   {
    "duration": 75,
    "start_time": "2024-03-25T08:42:50.117Z"
   },
   {
    "duration": 38,
    "start_time": "2024-03-25T08:42:50.193Z"
   },
   {
    "duration": 200,
    "start_time": "2024-03-25T08:42:50.233Z"
   },
   {
    "duration": 48,
    "start_time": "2024-03-25T08:42:50.435Z"
   },
   {
    "duration": 207,
    "start_time": "2024-03-25T08:42:50.485Z"
   },
   {
    "duration": 63,
    "start_time": "2024-03-25T08:42:50.693Z"
   },
   {
    "duration": 187,
    "start_time": "2024-03-25T08:42:50.758Z"
   },
   {
    "duration": 4,
    "start_time": "2024-03-25T08:42:50.946Z"
   },
   {
    "duration": 15,
    "start_time": "2024-03-25T08:42:50.952Z"
   },
   {
    "duration": 113,
    "start_time": "2024-03-25T08:42:50.968Z"
   },
   {
    "duration": 6,
    "start_time": "2024-03-25T08:42:51.083Z"
   },
   {
    "duration": 30,
    "start_time": "2024-03-25T08:42:51.091Z"
   },
   {
    "duration": 32,
    "start_time": "2024-03-25T08:42:51.123Z"
   },
   {
    "duration": 19,
    "start_time": "2024-03-25T08:42:51.157Z"
   },
   {
    "duration": 16,
    "start_time": "2024-03-25T08:42:51.178Z"
   },
   {
    "duration": 1291,
    "start_time": "2024-03-25T17:55:40.644Z"
   },
   {
    "duration": 350,
    "start_time": "2024-03-25T17:55:41.937Z"
   },
   {
    "duration": 3,
    "start_time": "2024-03-25T17:55:42.289Z"
   },
   {
    "duration": 280,
    "start_time": "2024-03-25T17:55:42.293Z"
   },
   {
    "duration": 87,
    "start_time": "2024-03-25T17:55:42.576Z"
   },
   {
    "duration": 110,
    "start_time": "2024-03-25T17:55:42.664Z"
   },
   {
    "duration": 40,
    "start_time": "2024-03-25T17:55:42.775Z"
   },
   {
    "duration": 6,
    "start_time": "2024-03-25T17:55:42.817Z"
   },
   {
    "duration": 438,
    "start_time": "2024-03-25T17:55:42.824Z"
   },
   {
    "duration": 38,
    "start_time": "2024-03-25T17:55:43.264Z"
   },
   {
    "duration": 27,
    "start_time": "2024-03-25T17:55:43.304Z"
   },
   {
    "duration": 208,
    "start_time": "2024-03-25T17:55:43.333Z"
   },
   {
    "duration": 54,
    "start_time": "2024-03-25T17:55:43.543Z"
   },
   {
    "duration": 195,
    "start_time": "2024-03-25T17:55:43.599Z"
   },
   {
    "duration": 75,
    "start_time": "2024-03-25T17:55:43.795Z"
   },
   {
    "duration": 168,
    "start_time": "2024-03-25T17:55:43.871Z"
   },
   {
    "duration": 4,
    "start_time": "2024-03-25T17:55:44.041Z"
   },
   {
    "duration": 43,
    "start_time": "2024-03-25T17:55:44.046Z"
   },
   {
    "duration": 114,
    "start_time": "2024-03-25T17:55:44.090Z"
   },
   {
    "duration": 5,
    "start_time": "2024-03-25T17:55:44.206Z"
   },
   {
    "duration": 21,
    "start_time": "2024-03-25T17:55:44.212Z"
   },
   {
    "duration": 30,
    "start_time": "2024-03-25T17:55:44.234Z"
   },
   {
    "duration": 18,
    "start_time": "2024-03-25T17:55:44.265Z"
   },
   {
    "duration": 18,
    "start_time": "2024-03-25T17:55:44.285Z"
   },
   {
    "duration": 34,
    "start_time": "2024-03-25T18:01:23.313Z"
   },
   {
    "duration": 1226,
    "start_time": "2024-03-25T18:01:34.669Z"
   },
   {
    "duration": 206,
    "start_time": "2024-03-25T18:01:35.897Z"
   },
   {
    "duration": 3,
    "start_time": "2024-03-25T18:01:36.104Z"
   },
   {
    "duration": 83,
    "start_time": "2024-03-25T18:01:36.108Z"
   },
   {
    "duration": 276,
    "start_time": "2024-03-25T18:01:36.193Z"
   },
   {
    "duration": 89,
    "start_time": "2024-03-25T18:01:36.470Z"
   },
   {
    "duration": 86,
    "start_time": "2024-03-25T18:01:36.561Z"
   },
   {
    "duration": 50,
    "start_time": "2024-03-25T18:01:36.659Z"
   },
   {
    "duration": 6,
    "start_time": "2024-03-25T18:01:36.712Z"
   },
   {
    "duration": 442,
    "start_time": "2024-03-25T18:01:36.720Z"
   },
   {
    "duration": 40,
    "start_time": "2024-03-25T18:01:37.163Z"
   },
   {
    "duration": 27,
    "start_time": "2024-03-25T18:01:37.205Z"
   },
   {
    "duration": 194,
    "start_time": "2024-03-25T18:01:37.234Z"
   },
   {
    "duration": 45,
    "start_time": "2024-03-25T18:01:37.431Z"
   },
   {
    "duration": 187,
    "start_time": "2024-03-25T18:01:37.478Z"
   },
   {
    "duration": 62,
    "start_time": "2024-03-25T18:01:37.667Z"
   },
   {
    "duration": 183,
    "start_time": "2024-03-25T18:01:37.731Z"
   },
   {
    "duration": 5,
    "start_time": "2024-03-25T18:01:37.915Z"
   },
   {
    "duration": 17,
    "start_time": "2024-03-25T18:01:37.922Z"
   },
   {
    "duration": 123,
    "start_time": "2024-03-25T18:01:37.941Z"
   },
   {
    "duration": 5,
    "start_time": "2024-03-25T18:01:38.065Z"
   },
   {
    "duration": 22,
    "start_time": "2024-03-25T18:01:38.071Z"
   },
   {
    "duration": 18,
    "start_time": "2024-03-25T18:01:38.094Z"
   },
   {
    "duration": 21,
    "start_time": "2024-03-25T18:01:38.113Z"
   },
   {
    "duration": 30,
    "start_time": "2024-03-25T18:01:38.135Z"
   },
   {
    "duration": 45,
    "start_time": "2024-03-26T04:12:26.516Z"
   },
   {
    "duration": 1280,
    "start_time": "2024-03-26T04:12:32.433Z"
   },
   {
    "duration": 297,
    "start_time": "2024-03-26T04:12:33.716Z"
   },
   {
    "duration": 3,
    "start_time": "2024-03-26T04:12:34.014Z"
   },
   {
    "duration": 256,
    "start_time": "2024-03-26T04:12:34.019Z"
   },
   {
    "duration": 80,
    "start_time": "2024-03-26T04:12:34.276Z"
   },
   {
    "duration": 119,
    "start_time": "2024-03-26T04:12:34.365Z"
   },
   {
    "duration": 37,
    "start_time": "2024-03-26T04:12:34.485Z"
   },
   {
    "duration": 1073,
    "start_time": "2024-03-26T04:13:14.443Z"
   },
   {
    "duration": 197,
    "start_time": "2024-03-26T04:13:15.517Z"
   },
   {
    "duration": 3,
    "start_time": "2024-03-26T04:13:15.716Z"
   },
   {
    "duration": 273,
    "start_time": "2024-03-26T04:13:15.720Z"
   },
   {
    "duration": 92,
    "start_time": "2024-03-26T04:13:15.995Z"
   },
   {
    "duration": 106,
    "start_time": "2024-03-26T04:13:16.089Z"
   },
   {
    "duration": 37,
    "start_time": "2024-03-26T04:13:16.197Z"
   },
   {
    "duration": 153,
    "start_time": "2024-03-26T04:13:16.235Z"
   },
   {
    "duration": 5,
    "start_time": "2024-03-26T04:13:16.390Z"
   },
   {
    "duration": 378,
    "start_time": "2024-03-26T04:13:16.397Z"
   },
   {
    "duration": 35,
    "start_time": "2024-03-26T04:13:16.776Z"
   },
   {
    "duration": 24,
    "start_time": "2024-03-26T04:13:16.812Z"
   },
   {
    "duration": 176,
    "start_time": "2024-03-26T04:13:16.837Z"
   },
   {
    "duration": 36,
    "start_time": "2024-03-26T04:13:17.015Z"
   },
   {
    "duration": 185,
    "start_time": "2024-03-26T04:13:17.052Z"
   },
   {
    "duration": 66,
    "start_time": "2024-03-26T04:13:17.238Z"
   },
   {
    "duration": 176,
    "start_time": "2024-03-26T04:13:17.305Z"
   },
   {
    "duration": 4,
    "start_time": "2024-03-26T04:13:17.483Z"
   },
   {
    "duration": 6,
    "start_time": "2024-03-26T04:13:17.488Z"
   },
   {
    "duration": 117,
    "start_time": "2024-03-26T04:13:17.495Z"
   },
   {
    "duration": 5,
    "start_time": "2024-03-26T04:13:17.614Z"
   },
   {
    "duration": 16,
    "start_time": "2024-03-26T04:13:17.621Z"
   },
   {
    "duration": 33,
    "start_time": "2024-03-26T04:13:17.638Z"
   },
   {
    "duration": 13,
    "start_time": "2024-03-26T04:13:17.672Z"
   },
   {
    "duration": 12,
    "start_time": "2024-03-26T04:13:17.686Z"
   },
   {
    "duration": 219,
    "start_time": "2024-03-26T04:13:30.564Z"
   },
   {
    "duration": 22,
    "start_time": "2024-03-26T04:13:49.509Z"
   },
   {
    "duration": 339,
    "start_time": "2024-03-26T04:26:09.217Z"
   },
   {
    "duration": 356,
    "start_time": "2024-03-26T04:26:16.545Z"
   },
   {
    "duration": 1302,
    "start_time": "2024-03-26T13:07:15.036Z"
   },
   {
    "duration": 836,
    "start_time": "2024-03-26T13:07:16.339Z"
   },
   {
    "duration": 3,
    "start_time": "2024-03-26T13:07:17.176Z"
   },
   {
    "duration": 260,
    "start_time": "2024-03-26T13:07:17.181Z"
   },
   {
    "duration": 89,
    "start_time": "2024-03-26T13:07:17.442Z"
   },
   {
    "duration": 110,
    "start_time": "2024-03-26T13:07:17.533Z"
   },
   {
    "duration": 44,
    "start_time": "2024-03-26T13:07:17.645Z"
   },
   {
    "duration": 414,
    "start_time": "2024-03-26T13:07:17.690Z"
   },
   {
    "duration": 22,
    "start_time": "2024-03-26T13:07:18.106Z"
   },
   {
    "duration": 6,
    "start_time": "2024-03-26T13:07:18.130Z"
   },
   {
    "duration": 111,
    "start_time": "2024-03-26T13:07:18.138Z"
   },
   {
    "duration": 0,
    "start_time": "2024-03-26T13:07:18.251Z"
   },
   {
    "duration": 0,
    "start_time": "2024-03-26T13:07:18.251Z"
   },
   {
    "duration": 0,
    "start_time": "2024-03-26T13:07:18.252Z"
   },
   {
    "duration": 0,
    "start_time": "2024-03-26T13:07:18.253Z"
   },
   {
    "duration": 0,
    "start_time": "2024-03-26T13:07:18.254Z"
   },
   {
    "duration": 0,
    "start_time": "2024-03-26T13:07:18.255Z"
   },
   {
    "duration": 0,
    "start_time": "2024-03-26T13:07:18.256Z"
   },
   {
    "duration": 0,
    "start_time": "2024-03-26T13:07:18.257Z"
   },
   {
    "duration": 0,
    "start_time": "2024-03-26T13:07:18.269Z"
   },
   {
    "duration": 0,
    "start_time": "2024-03-26T13:07:18.270Z"
   },
   {
    "duration": 0,
    "start_time": "2024-03-26T13:07:18.271Z"
   },
   {
    "duration": 0,
    "start_time": "2024-03-26T13:07:18.272Z"
   },
   {
    "duration": 0,
    "start_time": "2024-03-26T13:07:18.274Z"
   },
   {
    "duration": 0,
    "start_time": "2024-03-26T13:07:18.274Z"
   },
   {
    "duration": 0,
    "start_time": "2024-03-26T13:07:18.275Z"
   },
   {
    "duration": 0,
    "start_time": "2024-03-26T13:07:18.276Z"
   },
   {
    "duration": 376,
    "start_time": "2024-03-26T13:08:00.667Z"
   },
   {
    "duration": 8,
    "start_time": "2024-03-26T13:08:03.242Z"
   },
   {
    "duration": 9,
    "start_time": "2024-03-26T13:09:23.101Z"
   },
   {
    "duration": 54,
    "start_time": "2024-03-26T13:09:30.438Z"
   },
   {
    "duration": 47,
    "start_time": "2024-03-26T13:09:40.525Z"
   },
   {
    "duration": 365,
    "start_time": "2024-03-26T13:10:01.775Z"
   },
   {
    "duration": 363,
    "start_time": "2024-03-26T13:10:14.766Z"
   },
   {
    "duration": 459,
    "start_time": "2024-03-26T13:11:41.816Z"
   },
   {
    "duration": 56,
    "start_time": "2024-03-26T13:11:47.912Z"
   },
   {
    "duration": 1180,
    "start_time": "2024-03-26T13:11:59.353Z"
   },
   {
    "duration": 335,
    "start_time": "2024-03-26T13:12:03.905Z"
   },
   {
    "duration": 404,
    "start_time": "2024-03-26T13:12:30.114Z"
   },
   {
    "duration": 355,
    "start_time": "2024-03-26T13:12:53.361Z"
   },
   {
    "duration": 56,
    "start_time": "2024-03-26T13:13:04.938Z"
   },
   {
    "duration": 60,
    "start_time": "2024-03-26T13:13:08.467Z"
   },
   {
    "duration": 107,
    "start_time": "2024-03-26T13:13:14.762Z"
   },
   {
    "duration": 372,
    "start_time": "2024-03-26T13:13:19.914Z"
   },
   {
    "duration": 1061,
    "start_time": "2024-03-26T13:13:42.352Z"
   },
   {
    "duration": 206,
    "start_time": "2024-03-26T13:13:43.415Z"
   },
   {
    "duration": 2,
    "start_time": "2024-03-26T13:13:43.623Z"
   },
   {
    "duration": 261,
    "start_time": "2024-03-26T13:13:43.627Z"
   },
   {
    "duration": 89,
    "start_time": "2024-03-26T13:13:43.889Z"
   },
   {
    "duration": 104,
    "start_time": "2024-03-26T13:13:43.980Z"
   },
   {
    "duration": 36,
    "start_time": "2024-03-26T13:13:44.086Z"
   },
   {
    "duration": 400,
    "start_time": "2024-03-26T13:13:44.123Z"
   },
   {
    "duration": 22,
    "start_time": "2024-03-26T13:13:44.525Z"
   },
   {
    "duration": 5,
    "start_time": "2024-03-26T13:13:44.550Z"
   },
   {
    "duration": 432,
    "start_time": "2024-03-26T13:13:44.570Z"
   },
   {
    "duration": 88,
    "start_time": "2024-03-26T13:13:45.003Z"
   },
   {
    "duration": 88,
    "start_time": "2024-03-26T13:13:45.092Z"
   },
   {
    "duration": 331,
    "start_time": "2024-03-26T13:13:45.181Z"
   },
   {
    "duration": 93,
    "start_time": "2024-03-26T13:13:45.514Z"
   },
   {
    "duration": 381,
    "start_time": "2024-03-26T13:13:45.608Z"
   },
   {
    "duration": 109,
    "start_time": "2024-03-26T13:13:45.990Z"
   },
   {
    "duration": 222,
    "start_time": "2024-03-26T13:13:46.100Z"
   },
   {
    "duration": 4,
    "start_time": "2024-03-26T13:13:46.323Z"
   },
   {
    "duration": 15,
    "start_time": "2024-03-26T13:13:46.328Z"
   },
   {
    "duration": 114,
    "start_time": "2024-03-26T13:13:46.345Z"
   },
   {
    "duration": 10,
    "start_time": "2024-03-26T13:13:46.460Z"
   },
   {
    "duration": 33,
    "start_time": "2024-03-26T13:13:46.472Z"
   },
   {
    "duration": 56,
    "start_time": "2024-03-26T13:13:46.506Z"
   },
   {
    "duration": 33,
    "start_time": "2024-03-26T13:13:46.563Z"
   },
   {
    "duration": 65,
    "start_time": "2024-03-26T13:13:46.597Z"
   },
   {
    "duration": 124,
    "start_time": "2024-03-26T13:14:35.620Z"
   },
   {
    "duration": 105,
    "start_time": "2024-03-26T13:14:48.046Z"
   },
   {
    "duration": 101,
    "start_time": "2024-03-26T13:14:52.227Z"
   },
   {
    "duration": 420,
    "start_time": "2024-03-26T13:15:04.483Z"
   },
   {
    "duration": 1312,
    "start_time": "2024-03-26T13:16:45.966Z"
   },
   {
    "duration": 392,
    "start_time": "2024-03-26T13:16:47.280Z"
   },
   {
    "duration": 3,
    "start_time": "2024-03-26T13:16:47.674Z"
   },
   {
    "duration": 501,
    "start_time": "2024-03-26T13:16:47.679Z"
   },
   {
    "duration": 92,
    "start_time": "2024-03-26T13:16:48.181Z"
   },
   {
    "duration": 107,
    "start_time": "2024-03-26T13:16:48.275Z"
   },
   {
    "duration": 37,
    "start_time": "2024-03-26T13:16:48.384Z"
   },
   {
    "duration": 407,
    "start_time": "2024-03-26T13:16:48.422Z"
   },
   {
    "duration": 22,
    "start_time": "2024-03-26T13:16:48.830Z"
   },
   {
    "duration": 5,
    "start_time": "2024-03-26T13:16:48.854Z"
   },
   {
    "duration": 356,
    "start_time": "2024-03-26T13:16:48.870Z"
   },
   {
    "duration": 42,
    "start_time": "2024-03-26T13:16:49.228Z"
   },
   {
    "duration": 23,
    "start_time": "2024-03-26T13:16:49.272Z"
   },
   {
    "duration": 176,
    "start_time": "2024-03-26T13:16:49.297Z"
   },
   {
    "duration": 38,
    "start_time": "2024-03-26T13:16:49.474Z"
   },
   {
    "duration": 189,
    "start_time": "2024-03-26T13:16:49.514Z"
   },
   {
    "duration": 66,
    "start_time": "2024-03-26T13:16:49.705Z"
   },
   {
    "duration": 198,
    "start_time": "2024-03-26T13:16:49.772Z"
   },
   {
    "duration": 4,
    "start_time": "2024-03-26T13:16:49.972Z"
   },
   {
    "duration": 7,
    "start_time": "2024-03-26T13:16:49.978Z"
   },
   {
    "duration": 109,
    "start_time": "2024-03-26T13:16:49.987Z"
   },
   {
    "duration": 4,
    "start_time": "2024-03-26T13:16:50.098Z"
   },
   {
    "duration": 22,
    "start_time": "2024-03-26T13:16:50.103Z"
   },
   {
    "duration": 21,
    "start_time": "2024-03-26T13:16:50.127Z"
   },
   {
    "duration": 26,
    "start_time": "2024-03-26T13:16:50.149Z"
   },
   {
    "duration": 18,
    "start_time": "2024-03-26T13:16:50.177Z"
   },
   {
    "duration": 23,
    "start_time": "2024-03-26T13:16:58.893Z"
   },
   {
    "duration": 28,
    "start_time": "2024-03-26T13:17:06.862Z"
   },
   {
    "duration": 49,
    "start_time": "2024-03-26T13:17:31.734Z"
   },
   {
    "duration": 113,
    "start_time": "2024-03-26T13:17:45.880Z"
   },
   {
    "duration": 26,
    "start_time": "2024-03-26T13:17:55.047Z"
   },
   {
    "duration": 97,
    "start_time": "2024-03-26T13:18:18.120Z"
   },
   {
    "duration": 17,
    "start_time": "2024-03-26T13:18:32.937Z"
   },
   {
    "duration": 18,
    "start_time": "2024-03-26T13:18:41.832Z"
   },
   {
    "duration": 84,
    "start_time": "2024-03-26T13:18:48.384Z"
   },
   {
    "duration": 1279,
    "start_time": "2024-03-26T13:19:41.897Z"
   },
   {
    "duration": 101,
    "start_time": "2024-03-26T13:20:21.457Z"
   },
   {
    "duration": 1358,
    "start_time": "2024-03-26T13:20:38.995Z"
   },
   {
    "duration": 1387,
    "start_time": "2024-03-26T13:21:01.898Z"
   },
   {
    "duration": 1379,
    "start_time": "2024-03-26T13:21:30.227Z"
   },
   {
    "duration": 1087,
    "start_time": "2024-03-26T13:21:38.334Z"
   },
   {
    "duration": 194,
    "start_time": "2024-03-26T13:21:39.423Z"
   },
   {
    "duration": 3,
    "start_time": "2024-03-26T13:21:39.620Z"
   },
   {
    "duration": 280,
    "start_time": "2024-03-26T13:21:39.624Z"
   },
   {
    "duration": 98,
    "start_time": "2024-03-26T13:21:39.906Z"
   },
   {
    "duration": 117,
    "start_time": "2024-03-26T13:21:40.006Z"
   },
   {
    "duration": 49,
    "start_time": "2024-03-26T13:21:40.124Z"
   },
   {
    "duration": 429,
    "start_time": "2024-03-26T13:21:40.175Z"
   },
   {
    "duration": 21,
    "start_time": "2024-03-26T13:21:40.607Z"
   },
   {
    "duration": 10,
    "start_time": "2024-03-26T13:21:40.630Z"
   },
   {
    "duration": 366,
    "start_time": "2024-03-26T13:21:40.642Z"
   },
   {
    "duration": 90,
    "start_time": "2024-03-26T13:21:41.010Z"
   },
   {
    "duration": 37,
    "start_time": "2024-03-26T13:21:41.102Z"
   },
   {
    "duration": 44,
    "start_time": "2024-03-26T13:21:41.141Z"
   },
   {
    "duration": 179,
    "start_time": "2024-03-26T13:21:41.187Z"
   },
   {
    "duration": 38,
    "start_time": "2024-03-26T13:21:41.370Z"
   },
   {
    "duration": 190,
    "start_time": "2024-03-26T13:21:41.410Z"
   },
   {
    "duration": 58,
    "start_time": "2024-03-26T13:21:41.601Z"
   },
   {
    "duration": 164,
    "start_time": "2024-03-26T13:21:41.670Z"
   },
   {
    "duration": 4,
    "start_time": "2024-03-26T13:21:41.835Z"
   },
   {
    "duration": 111,
    "start_time": "2024-03-26T13:21:41.841Z"
   },
   {
    "duration": 15,
    "start_time": "2024-03-26T13:21:41.954Z"
   },
   {
    "duration": 13,
    "start_time": "2024-03-26T13:21:41.971Z"
   },
   {
    "duration": 15,
    "start_time": "2024-03-26T13:21:41.985Z"
   },
   {
    "duration": 11,
    "start_time": "2024-03-26T13:21:42.002Z"
   },
   {
    "duration": 14,
    "start_time": "2024-03-26T13:21:42.014Z"
   },
   {
    "duration": 114,
    "start_time": "2024-03-26T13:22:00.405Z"
   },
   {
    "duration": 11,
    "start_time": "2024-03-26T13:22:08.411Z"
   },
   {
    "duration": 1064,
    "start_time": "2024-03-26T13:23:14.162Z"
   },
   {
    "duration": 208,
    "start_time": "2024-03-26T13:23:15.228Z"
   },
   {
    "duration": 3,
    "start_time": "2024-03-26T13:23:15.438Z"
   },
   {
    "duration": 296,
    "start_time": "2024-03-26T13:23:15.442Z"
   },
   {
    "duration": 85,
    "start_time": "2024-03-26T13:23:15.739Z"
   },
   {
    "duration": 110,
    "start_time": "2024-03-26T13:23:15.826Z"
   },
   {
    "duration": 42,
    "start_time": "2024-03-26T13:23:15.938Z"
   },
   {
    "duration": 421,
    "start_time": "2024-03-26T13:23:15.982Z"
   },
   {
    "duration": 22,
    "start_time": "2024-03-26T13:23:16.404Z"
   },
   {
    "duration": 31,
    "start_time": "2024-03-26T13:23:16.429Z"
   },
   {
    "duration": 397,
    "start_time": "2024-03-26T13:23:16.462Z"
   },
   {
    "duration": 85,
    "start_time": "2024-03-26T13:23:16.861Z"
   },
   {
    "duration": 45,
    "start_time": "2024-03-26T13:23:16.947Z"
   },
   {
    "duration": 54,
    "start_time": "2024-03-26T13:23:16.993Z"
   },
   {
    "duration": 173,
    "start_time": "2024-03-26T13:23:17.049Z"
   },
   {
    "duration": 37,
    "start_time": "2024-03-26T13:23:17.223Z"
   },
   {
    "duration": 182,
    "start_time": "2024-03-26T13:23:17.261Z"
   },
   {
    "duration": 62,
    "start_time": "2024-03-26T13:23:17.444Z"
   },
   {
    "duration": 161,
    "start_time": "2024-03-26T13:23:17.508Z"
   },
   {
    "duration": 4,
    "start_time": "2024-03-26T13:23:17.671Z"
   },
   {
    "duration": 175,
    "start_time": "2024-03-26T13:23:17.676Z"
   },
   {
    "duration": 20,
    "start_time": "2024-03-26T13:23:17.853Z"
   },
   {
    "duration": 31,
    "start_time": "2024-03-26T13:23:17.875Z"
   },
   {
    "duration": 47,
    "start_time": "2024-03-26T13:23:17.907Z"
   },
   {
    "duration": 37,
    "start_time": "2024-03-26T13:23:17.955Z"
   },
   {
    "duration": 23,
    "start_time": "2024-03-26T13:23:17.994Z"
   },
   {
    "duration": 39,
    "start_time": "2024-03-26T13:23:18.018Z"
   },
   {
    "duration": 104,
    "start_time": "2024-03-26T13:23:30.622Z"
   },
   {
    "duration": 7,
    "start_time": "2024-03-26T13:23:33.604Z"
   },
   {
    "duration": 8,
    "start_time": "2024-03-26T13:23:50.397Z"
   },
   {
    "duration": 88,
    "start_time": "2024-03-26T13:24:33.006Z"
   },
   {
    "duration": 12,
    "start_time": "2024-03-26T13:24:36.318Z"
   },
   {
    "duration": 5,
    "start_time": "2024-03-26T13:24:58.431Z"
   },
   {
    "duration": 95,
    "start_time": "2024-03-26T13:25:37.432Z"
   },
   {
    "duration": 10,
    "start_time": "2024-03-26T13:25:39.967Z"
   },
   {
    "duration": 42,
    "start_time": "2024-03-26T13:27:22.522Z"
   },
   {
    "duration": 80,
    "start_time": "2024-03-26T13:27:31.353Z"
   },
   {
    "duration": 78,
    "start_time": "2024-03-26T13:28:37.435Z"
   },
   {
    "duration": 80,
    "start_time": "2024-03-26T13:28:39.746Z"
   },
   {
    "duration": 87,
    "start_time": "2024-03-26T13:28:47.498Z"
   },
   {
    "duration": 79,
    "start_time": "2024-03-26T13:28:58.219Z"
   },
   {
    "duration": 75,
    "start_time": "2024-03-26T13:29:15.901Z"
   },
   {
    "duration": 79,
    "start_time": "2024-03-26T13:29:19.356Z"
   },
   {
    "duration": 78,
    "start_time": "2024-03-26T13:29:41.757Z"
   },
   {
    "duration": 123,
    "start_time": "2024-03-26T13:30:07.884Z"
   },
   {
    "duration": 4,
    "start_time": "2024-03-26T13:31:54.454Z"
   },
   {
    "duration": 82,
    "start_time": "2024-03-26T13:32:35.236Z"
   },
   {
    "duration": 82,
    "start_time": "2024-03-26T13:33:08.441Z"
   },
   {
    "duration": 98,
    "start_time": "2024-03-26T13:35:25.732Z"
   },
   {
    "duration": 1022,
    "start_time": "2024-03-26T13:35:43.926Z"
   },
   {
    "duration": 202,
    "start_time": "2024-03-26T13:35:44.950Z"
   },
   {
    "duration": 2,
    "start_time": "2024-03-26T13:35:45.154Z"
   },
   {
    "duration": 359,
    "start_time": "2024-03-26T13:35:45.158Z"
   },
   {
    "duration": 94,
    "start_time": "2024-03-26T13:35:45.518Z"
   },
   {
    "duration": 115,
    "start_time": "2024-03-26T13:35:45.613Z"
   },
   {
    "duration": 43,
    "start_time": "2024-03-26T13:35:45.730Z"
   },
   {
    "duration": 410,
    "start_time": "2024-03-26T13:35:45.774Z"
   },
   {
    "duration": 22,
    "start_time": "2024-03-26T13:35:46.185Z"
   },
   {
    "duration": 5,
    "start_time": "2024-03-26T13:35:46.209Z"
   },
   {
    "duration": 350,
    "start_time": "2024-03-26T13:35:46.215Z"
   },
   {
    "duration": 82,
    "start_time": "2024-03-26T13:35:46.566Z"
   },
   {
    "duration": 45,
    "start_time": "2024-03-26T13:35:46.649Z"
   },
   {
    "duration": 24,
    "start_time": "2024-03-26T13:35:46.695Z"
   },
   {
    "duration": 184,
    "start_time": "2024-03-26T13:35:46.721Z"
   },
   {
    "duration": 39,
    "start_time": "2024-03-26T13:35:46.907Z"
   },
   {
    "duration": 187,
    "start_time": "2024-03-26T13:35:46.947Z"
   },
   {
    "duration": 62,
    "start_time": "2024-03-26T13:35:47.136Z"
   },
   {
    "duration": 167,
    "start_time": "2024-03-26T13:35:47.200Z"
   },
   {
    "duration": 3,
    "start_time": "2024-03-26T13:35:47.369Z"
   },
   {
    "duration": 105,
    "start_time": "2024-03-26T13:35:47.374Z"
   },
   {
    "duration": 5,
    "start_time": "2024-03-26T13:35:47.480Z"
   },
   {
    "duration": 16,
    "start_time": "2024-03-26T13:35:47.486Z"
   },
   {
    "duration": 11,
    "start_time": "2024-03-26T13:35:47.503Z"
   },
   {
    "duration": 19,
    "start_time": "2024-03-26T13:35:47.515Z"
   },
   {
    "duration": 34,
    "start_time": "2024-03-26T13:35:47.535Z"
   },
   {
    "duration": 1104,
    "start_time": "2024-03-26T13:52:48.835Z"
   },
   {
    "duration": 202,
    "start_time": "2024-03-26T13:52:49.941Z"
   },
   {
    "duration": 3,
    "start_time": "2024-03-26T13:52:50.145Z"
   },
   {
    "duration": 284,
    "start_time": "2024-03-26T13:52:50.150Z"
   },
   {
    "duration": 102,
    "start_time": "2024-03-26T13:52:50.436Z"
   },
   {
    "duration": 113,
    "start_time": "2024-03-26T13:52:50.540Z"
   },
   {
    "duration": 50,
    "start_time": "2024-03-26T13:52:50.656Z"
   },
   {
    "duration": 430,
    "start_time": "2024-03-26T13:52:50.707Z"
   },
   {
    "duration": 23,
    "start_time": "2024-03-26T13:52:51.138Z"
   },
   {
    "duration": 5,
    "start_time": "2024-03-26T13:52:51.170Z"
   },
   {
    "duration": 371,
    "start_time": "2024-03-26T13:52:51.177Z"
   },
   {
    "duration": 89,
    "start_time": "2024-03-26T13:52:51.550Z"
   },
   {
    "duration": 41,
    "start_time": "2024-03-26T13:52:51.641Z"
   },
   {
    "duration": 25,
    "start_time": "2024-03-26T13:52:51.684Z"
   },
   {
    "duration": 196,
    "start_time": "2024-03-26T13:52:51.710Z"
   },
   {
    "duration": 39,
    "start_time": "2024-03-26T13:52:51.908Z"
   },
   {
    "duration": 212,
    "start_time": "2024-03-26T13:52:51.949Z"
   },
   {
    "duration": 64,
    "start_time": "2024-03-26T13:52:52.163Z"
   },
   {
    "duration": 170,
    "start_time": "2024-03-26T13:52:52.229Z"
   },
   {
    "duration": 4,
    "start_time": "2024-03-26T13:52:52.400Z"
   },
   {
    "duration": 113,
    "start_time": "2024-03-26T13:52:52.406Z"
   },
   {
    "duration": 5,
    "start_time": "2024-03-26T13:52:52.520Z"
   },
   {
    "duration": 24,
    "start_time": "2024-03-26T13:52:52.526Z"
   },
   {
    "duration": 24,
    "start_time": "2024-03-26T13:52:52.551Z"
   },
   {
    "duration": 13,
    "start_time": "2024-03-26T13:52:52.576Z"
   },
   {
    "duration": 11,
    "start_time": "2024-03-26T13:52:52.591Z"
   },
   {
    "duration": 93,
    "start_time": "2024-03-26T13:53:28.131Z"
   },
   {
    "duration": 117,
    "start_time": "2024-03-26T13:53:50.659Z"
   },
   {
    "duration": 93,
    "start_time": "2024-03-26T13:54:06.178Z"
   },
   {
    "duration": 102,
    "start_time": "2024-03-26T13:54:15.034Z"
   },
   {
    "duration": 96,
    "start_time": "2024-03-26T13:54:55.555Z"
   },
   {
    "duration": 84,
    "start_time": "2024-03-26T13:55:26.643Z"
   },
   {
    "duration": 82,
    "start_time": "2024-03-26T13:55:33.660Z"
   },
   {
    "duration": 95,
    "start_time": "2024-03-26T13:56:08.645Z"
   },
   {
    "duration": 99,
    "start_time": "2024-03-26T14:14:26.229Z"
   },
   {
    "duration": 80,
    "start_time": "2024-03-26T14:14:30.236Z"
   },
   {
    "duration": 3,
    "start_time": "2024-03-26T14:14:39.890Z"
   },
   {
    "duration": 119,
    "start_time": "2024-03-26T14:14:43.004Z"
   },
   {
    "duration": 119,
    "start_time": "2024-03-26T14:15:00.901Z"
   },
   {
    "duration": 122,
    "start_time": "2024-03-26T14:15:26.948Z"
   },
   {
    "duration": 120,
    "start_time": "2024-03-26T14:15:39.358Z"
   },
   {
    "duration": 124,
    "start_time": "2024-03-26T14:15:50.613Z"
   },
   {
    "duration": 125,
    "start_time": "2024-03-26T14:15:55.245Z"
   },
   {
    "duration": 114,
    "start_time": "2024-03-26T14:15:58.734Z"
   },
   {
    "duration": 118,
    "start_time": "2024-03-26T14:16:09.398Z"
   },
   {
    "duration": 113,
    "start_time": "2024-03-26T14:16:19.326Z"
   },
   {
    "duration": 117,
    "start_time": "2024-03-26T14:16:22.574Z"
   },
   {
    "duration": 209,
    "start_time": "2024-03-26T14:16:44.910Z"
   },
   {
    "duration": 123,
    "start_time": "2024-03-26T14:16:47.359Z"
   },
   {
    "duration": 122,
    "start_time": "2024-03-26T14:16:54.142Z"
   },
   {
    "duration": 117,
    "start_time": "2024-03-26T14:16:57.918Z"
   },
   {
    "duration": 126,
    "start_time": "2024-03-26T14:17:05.998Z"
   },
   {
    "duration": 139,
    "start_time": "2024-03-26T14:17:10.431Z"
   },
   {
    "duration": 100,
    "start_time": "2024-03-26T14:17:23.599Z"
   },
   {
    "duration": 119,
    "start_time": "2024-03-26T14:17:25.982Z"
   },
   {
    "duration": 123,
    "start_time": "2024-03-26T14:17:35.455Z"
   },
   {
    "duration": 115,
    "start_time": "2024-03-26T14:18:06.552Z"
   },
   {
    "duration": 114,
    "start_time": "2024-03-26T14:18:10.056Z"
   },
   {
    "duration": 115,
    "start_time": "2024-03-26T14:18:16.848Z"
   },
   {
    "duration": 121,
    "start_time": "2024-03-26T14:18:50.001Z"
   },
   {
    "duration": 132,
    "start_time": "2024-03-26T14:19:25.426Z"
   },
   {
    "duration": 123,
    "start_time": "2024-03-26T14:19:31.234Z"
   },
   {
    "duration": 118,
    "start_time": "2024-03-26T14:19:34.665Z"
   },
   {
    "duration": 119,
    "start_time": "2024-03-26T14:19:41.369Z"
   },
   {
    "duration": 4,
    "start_time": "2024-03-26T14:20:22.323Z"
   },
   {
    "duration": 112,
    "start_time": "2024-03-26T14:20:27.722Z"
   },
   {
    "duration": 123,
    "start_time": "2024-03-26T14:20:51.787Z"
   },
   {
    "duration": 113,
    "start_time": "2024-03-26T14:21:18.949Z"
   },
   {
    "duration": 122,
    "start_time": "2024-03-26T14:21:25.604Z"
   },
   {
    "duration": 116,
    "start_time": "2024-03-26T14:21:39.836Z"
   },
   {
    "duration": 108,
    "start_time": "2024-03-26T14:21:53.501Z"
   },
   {
    "duration": 113,
    "start_time": "2024-03-26T14:22:05.796Z"
   },
   {
    "duration": 9,
    "start_time": "2024-03-26T14:22:33.781Z"
   },
   {
    "duration": 4,
    "start_time": "2024-03-26T14:22:42.533Z"
   },
   {
    "duration": 3,
    "start_time": "2024-03-26T14:22:48.364Z"
   },
   {
    "duration": 4,
    "start_time": "2024-03-26T14:22:52.197Z"
   },
   {
    "duration": 3,
    "start_time": "2024-03-26T14:23:34.694Z"
   },
   {
    "duration": 110,
    "start_time": "2024-03-26T14:24:17.360Z"
   },
   {
    "duration": 10,
    "start_time": "2024-03-26T14:25:03.048Z"
   },
   {
    "duration": 3,
    "start_time": "2024-03-26T14:25:15.201Z"
   },
   {
    "duration": 3,
    "start_time": "2024-03-26T14:25:21.425Z"
   },
   {
    "duration": 8,
    "start_time": "2024-03-26T14:25:27.449Z"
   },
   {
    "duration": 4,
    "start_time": "2024-03-26T14:25:38.016Z"
   },
   {
    "duration": 4,
    "start_time": "2024-03-26T14:25:43.297Z"
   },
   {
    "duration": 4,
    "start_time": "2024-03-26T14:25:47.489Z"
   },
   {
    "duration": 3,
    "start_time": "2024-03-26T14:25:53.041Z"
   },
   {
    "duration": 4,
    "start_time": "2024-03-26T14:25:54.977Z"
   },
   {
    "duration": 4,
    "start_time": "2024-03-26T14:25:59.897Z"
   },
   {
    "duration": 3,
    "start_time": "2024-03-26T14:26:03.161Z"
   },
   {
    "duration": 4,
    "start_time": "2024-03-26T14:26:16.746Z"
   },
   {
    "duration": 4,
    "start_time": "2024-03-26T14:26:19.065Z"
   },
   {
    "duration": 8,
    "start_time": "2024-03-26T14:26:32.266Z"
   },
   {
    "duration": 3,
    "start_time": "2024-03-26T14:26:50.123Z"
   },
   {
    "duration": 3,
    "start_time": "2024-03-26T14:27:03.802Z"
   },
   {
    "duration": 5,
    "start_time": "2024-03-26T14:27:30.044Z"
   },
   {
    "duration": 10,
    "start_time": "2024-03-26T14:27:47.148Z"
   },
   {
    "duration": 5,
    "start_time": "2024-03-26T14:28:02.629Z"
   },
   {
    "duration": 4,
    "start_time": "2024-03-26T14:29:28.078Z"
   },
   {
    "duration": 5,
    "start_time": "2024-03-26T14:29:43.062Z"
   },
   {
    "duration": 3,
    "start_time": "2024-03-26T14:29:55.799Z"
   },
   {
    "duration": 5,
    "start_time": "2024-03-26T14:30:00.079Z"
   },
   {
    "duration": 4,
    "start_time": "2024-03-26T14:30:12.263Z"
   },
   {
    "duration": 7,
    "start_time": "2024-03-26T14:30:21.528Z"
   },
   {
    "duration": 5,
    "start_time": "2024-03-26T14:30:25.264Z"
   },
   {
    "duration": 8,
    "start_time": "2024-03-26T14:30:36.233Z"
   },
   {
    "duration": 5,
    "start_time": "2024-03-26T14:30:56.641Z"
   },
   {
    "duration": 4,
    "start_time": "2024-03-26T14:31:24.968Z"
   },
   {
    "duration": 4,
    "start_time": "2024-03-26T14:31:28.753Z"
   },
   {
    "duration": 3,
    "start_time": "2024-03-26T14:31:32.522Z"
   },
   {
    "duration": 4,
    "start_time": "2024-03-26T14:31:48.002Z"
   },
   {
    "duration": 11,
    "start_time": "2024-03-26T14:31:51.610Z"
   },
   {
    "duration": 4,
    "start_time": "2024-03-26T14:32:00.098Z"
   },
   {
    "duration": 4,
    "start_time": "2024-03-26T14:32:22.203Z"
   },
   {
    "duration": 4,
    "start_time": "2024-03-26T14:32:25.355Z"
   },
   {
    "duration": 4,
    "start_time": "2024-03-26T14:32:38.778Z"
   },
   {
    "duration": 5,
    "start_time": "2024-03-26T14:32:43.051Z"
   },
   {
    "duration": 4,
    "start_time": "2024-03-26T14:33:00.331Z"
   },
   {
    "duration": 4,
    "start_time": "2024-03-26T14:33:11.443Z"
   },
   {
    "duration": 4,
    "start_time": "2024-03-26T14:33:15.691Z"
   },
   {
    "duration": 9,
    "start_time": "2024-03-26T14:33:21.412Z"
   },
   {
    "duration": 3,
    "start_time": "2024-03-26T14:33:24.061Z"
   },
   {
    "duration": 11,
    "start_time": "2024-03-26T14:34:42.278Z"
   },
   {
    "duration": 9,
    "start_time": "2024-03-26T14:34:57.605Z"
   },
   {
    "duration": 8,
    "start_time": "2024-03-26T14:35:27.975Z"
   },
   {
    "duration": 4,
    "start_time": "2024-03-26T14:35:34.630Z"
   },
   {
    "duration": 100,
    "start_time": "2024-03-26T14:35:37.214Z"
   },
   {
    "duration": 4,
    "start_time": "2024-03-26T14:35:39.215Z"
   },
   {
    "duration": 119,
    "start_time": "2024-03-26T14:36:22.280Z"
   },
   {
    "duration": 5,
    "start_time": "2024-03-26T14:37:11.777Z"
   },
   {
    "duration": 5,
    "start_time": "2024-03-26T14:37:17.368Z"
   },
   {
    "duration": 8,
    "start_time": "2024-03-26T14:37:21.425Z"
   },
   {
    "duration": 104,
    "start_time": "2024-03-26T14:37:47.234Z"
   },
   {
    "duration": 327,
    "start_time": "2024-03-26T14:37:51.050Z"
   },
   {
    "duration": 3,
    "start_time": "2024-03-26T14:38:20.691Z"
   },
   {
    "duration": 10,
    "start_time": "2024-03-26T14:38:22.345Z"
   },
   {
    "duration": 10,
    "start_time": "2024-03-26T14:38:46.714Z"
   },
   {
    "duration": 10,
    "start_time": "2024-03-26T14:39:15.292Z"
   },
   {
    "duration": 3,
    "start_time": "2024-03-26T14:43:34.889Z"
   },
   {
    "duration": 77,
    "start_time": "2024-03-26T14:43:44.587Z"
   },
   {
    "duration": 88,
    "start_time": "2024-03-26T14:43:56.017Z"
   },
   {
    "duration": 78,
    "start_time": "2024-03-26T14:44:02.586Z"
   },
   {
    "duration": 80,
    "start_time": "2024-03-26T14:44:23.074Z"
   },
   {
    "duration": 81,
    "start_time": "2024-03-26T14:44:42.123Z"
   },
   {
    "duration": 102,
    "start_time": "2024-03-26T14:45:44.445Z"
   },
   {
    "duration": 109,
    "start_time": "2024-03-26T14:45:48.652Z"
   },
   {
    "duration": 81,
    "start_time": "2024-03-26T14:45:53.284Z"
   },
   {
    "duration": 80,
    "start_time": "2024-03-26T14:46:01.221Z"
   },
   {
    "duration": 110,
    "start_time": "2024-03-26T14:46:23.894Z"
   },
   {
    "duration": 116,
    "start_time": "2024-03-26T14:46:28.333Z"
   },
   {
    "duration": 125,
    "start_time": "2024-03-26T14:46:43.021Z"
   },
   {
    "duration": 129,
    "start_time": "2024-03-26T14:46:48.598Z"
   },
   {
    "duration": 128,
    "start_time": "2024-03-26T14:46:52.350Z"
   },
   {
    "duration": 79,
    "start_time": "2024-03-26T14:48:18.175Z"
   },
   {
    "duration": 79,
    "start_time": "2024-03-26T14:48:18.334Z"
   },
   {
    "duration": 79,
    "start_time": "2024-03-26T14:48:50.639Z"
   },
   {
    "duration": 82,
    "start_time": "2024-03-26T14:49:00.167Z"
   },
   {
    "duration": 12,
    "start_time": "2024-03-26T14:50:09.202Z"
   },
   {
    "duration": 5,
    "start_time": "2024-03-26T14:50:27.546Z"
   },
   {
    "duration": 5,
    "start_time": "2024-03-26T14:50:43.426Z"
   },
   {
    "duration": 160,
    "start_time": "2024-03-26T14:53:23.665Z"
   },
   {
    "duration": 152,
    "start_time": "2024-03-26T14:53:48.214Z"
   },
   {
    "duration": 119,
    "start_time": "2024-03-26T14:53:56.031Z"
   },
   {
    "duration": 77,
    "start_time": "2024-03-26T14:54:54.831Z"
   },
   {
    "duration": 76,
    "start_time": "2024-03-26T14:54:57.735Z"
   },
   {
    "duration": 82,
    "start_time": "2024-03-26T14:55:22.096Z"
   },
   {
    "duration": 89,
    "start_time": "2024-03-26T14:56:49.042Z"
   },
   {
    "duration": 1119,
    "start_time": "2024-03-26T14:58:55.949Z"
   },
   {
    "duration": 198,
    "start_time": "2024-03-26T14:58:57.070Z"
   },
   {
    "duration": 2,
    "start_time": "2024-03-26T14:58:57.270Z"
   },
   {
    "duration": 266,
    "start_time": "2024-03-26T14:58:57.274Z"
   },
   {
    "duration": 90,
    "start_time": "2024-03-26T14:58:57.541Z"
   },
   {
    "duration": 108,
    "start_time": "2024-03-26T14:58:57.632Z"
   },
   {
    "duration": 47,
    "start_time": "2024-03-26T14:58:57.741Z"
   },
   {
    "duration": 393,
    "start_time": "2024-03-26T14:58:57.790Z"
   },
   {
    "duration": 22,
    "start_time": "2024-03-26T14:58:58.185Z"
   },
   {
    "duration": 5,
    "start_time": "2024-03-26T14:58:58.209Z"
   },
   {
    "duration": 375,
    "start_time": "2024-03-26T14:58:58.216Z"
   },
   {
    "duration": 88,
    "start_time": "2024-03-26T14:58:58.592Z"
   },
   {
    "duration": 36,
    "start_time": "2024-03-26T14:58:58.681Z"
   },
   {
    "duration": 24,
    "start_time": "2024-03-26T14:58:58.718Z"
   },
   {
    "duration": 184,
    "start_time": "2024-03-26T14:58:58.744Z"
   },
   {
    "duration": 43,
    "start_time": "2024-03-26T14:58:58.930Z"
   },
   {
    "duration": 176,
    "start_time": "2024-03-26T14:58:58.975Z"
   },
   {
    "duration": 63,
    "start_time": "2024-03-26T14:58:59.152Z"
   },
   {
    "duration": 165,
    "start_time": "2024-03-26T14:58:59.217Z"
   },
   {
    "duration": 4,
    "start_time": "2024-03-26T14:58:59.383Z"
   },
   {
    "duration": 189,
    "start_time": "2024-03-26T14:58:59.388Z"
   },
   {
    "duration": 5,
    "start_time": "2024-03-26T14:58:59.578Z"
   },
   {
    "duration": 25,
    "start_time": "2024-03-26T14:58:59.584Z"
   },
   {
    "duration": 68,
    "start_time": "2024-03-26T14:58:59.611Z"
   },
   {
    "duration": 26,
    "start_time": "2024-03-26T14:58:59.681Z"
   },
   {
    "duration": 66,
    "start_time": "2024-03-26T14:58:59.709Z"
   },
   {
    "duration": 13,
    "start_time": "2024-03-26T15:03:54.380Z"
   },
   {
    "duration": 104,
    "start_time": "2024-03-26T15:04:31.667Z"
   },
   {
    "duration": 193,
    "start_time": "2024-03-26T15:04:39.227Z"
   },
   {
    "duration": 99,
    "start_time": "2024-03-26T15:04:45.861Z"
   },
   {
    "duration": 427,
    "start_time": "2024-03-26T15:04:57.468Z"
   },
   {
    "duration": 47,
    "start_time": "2024-03-27T12:00:31.873Z"
   },
   {
    "duration": 1257,
    "start_time": "2024-03-27T12:00:36.900Z"
   },
   {
    "duration": 877,
    "start_time": "2024-03-27T12:00:38.159Z"
   },
   {
    "duration": 3,
    "start_time": "2024-03-27T12:00:39.038Z"
   },
   {
    "duration": 286,
    "start_time": "2024-03-27T12:00:39.044Z"
   },
   {
    "duration": 96,
    "start_time": "2024-03-27T12:00:39.331Z"
   },
   {
    "duration": 111,
    "start_time": "2024-03-27T12:00:39.429Z"
   },
   {
    "duration": 55,
    "start_time": "2024-03-27T12:00:39.542Z"
   },
   {
    "duration": 433,
    "start_time": "2024-03-27T12:00:39.599Z"
   },
   {
    "duration": 24,
    "start_time": "2024-03-27T12:00:40.033Z"
   },
   {
    "duration": 7,
    "start_time": "2024-03-27T12:00:40.060Z"
   },
   {
    "duration": 366,
    "start_time": "2024-03-27T12:00:40.081Z"
   },
   {
    "duration": 96,
    "start_time": "2024-03-27T12:00:40.448Z"
   },
   {
    "duration": 46,
    "start_time": "2024-03-27T12:00:40.546Z"
   },
   {
    "duration": 25,
    "start_time": "2024-03-27T12:00:40.593Z"
   },
   {
    "duration": 193,
    "start_time": "2024-03-27T12:00:40.619Z"
   },
   {
    "duration": 39,
    "start_time": "2024-03-27T12:00:40.813Z"
   },
   {
    "duration": 203,
    "start_time": "2024-03-27T12:00:40.854Z"
   },
   {
    "duration": 72,
    "start_time": "2024-03-27T12:00:41.059Z"
   },
   {
    "duration": 166,
    "start_time": "2024-03-27T12:00:41.133Z"
   },
   {
    "duration": 3,
    "start_time": "2024-03-27T12:00:41.301Z"
   },
   {
    "duration": 184,
    "start_time": "2024-03-27T12:00:41.306Z"
   },
   {
    "duration": 4,
    "start_time": "2024-03-27T12:00:41.492Z"
   },
   {
    "duration": 18,
    "start_time": "2024-03-27T12:00:41.498Z"
   },
   {
    "duration": 21,
    "start_time": "2024-03-27T12:00:41.518Z"
   },
   {
    "duration": 12,
    "start_time": "2024-03-27T12:00:41.540Z"
   },
   {
    "duration": 35,
    "start_time": "2024-03-27T12:00:41.553Z"
   },
   {
    "duration": 2571,
    "start_time": "2024-03-27T12:01:02.400Z"
   },
   {
    "duration": 2838,
    "start_time": "2024-03-27T12:01:17.880Z"
   },
   {
    "duration": 572,
    "start_time": "2024-03-27T12:02:29.737Z"
   },
   {
    "duration": 24959,
    "start_time": "2024-03-27T12:02:37.065Z"
   },
   {
    "duration": 4340,
    "start_time": "2024-03-27T12:03:05.705Z"
   },
   {
    "duration": 3886,
    "start_time": "2024-03-27T12:03:12.209Z"
   },
   {
    "duration": 3441,
    "start_time": "2024-03-27T12:03:24.050Z"
   },
   {
    "duration": 3100,
    "start_time": "2024-03-27T12:03:33.289Z"
   },
   {
    "duration": 3046,
    "start_time": "2024-03-27T12:03:41.714Z"
   },
   {
    "duration": 101,
    "start_time": "2024-03-27T12:04:14.098Z"
   },
   {
    "duration": 95,
    "start_time": "2024-03-27T12:04:32.051Z"
   },
   {
    "duration": 100,
    "start_time": "2024-03-27T12:04:37.603Z"
   },
   {
    "duration": 37,
    "start_time": "2024-03-27T12:04:44.163Z"
   },
   {
    "duration": 3075,
    "start_time": "2024-03-27T12:05:03.851Z"
   },
   {
    "duration": 3181,
    "start_time": "2024-03-27T12:05:15.188Z"
   },
   {
    "duration": 1564,
    "start_time": "2024-03-27T12:05:44.854Z"
   },
   {
    "duration": 1465,
    "start_time": "2024-03-27T12:07:50.417Z"
   },
   {
    "duration": 2661,
    "start_time": "2024-03-27T12:08:04.920Z"
   },
   {
    "duration": 2729,
    "start_time": "2024-03-27T12:08:13.688Z"
   },
   {
    "duration": 2625,
    "start_time": "2024-03-27T12:08:17.769Z"
   },
   {
    "duration": 1577,
    "start_time": "2024-03-27T12:46:12.754Z"
   },
   {
    "duration": 114,
    "start_time": "2024-03-27T12:46:49.891Z"
   },
   {
    "duration": 24,
    "start_time": "2024-03-27T12:46:55.610Z"
   },
   {
    "duration": 25,
    "start_time": "2024-03-27T12:46:59.626Z"
   },
   {
    "duration": 9,
    "start_time": "2024-03-27T12:47:13.769Z"
   },
   {
    "duration": 10,
    "start_time": "2024-03-27T12:47:19.529Z"
   },
   {
    "duration": 5,
    "start_time": "2024-03-27T12:47:24.298Z"
   },
   {
    "duration": 10,
    "start_time": "2024-03-27T12:47:44.203Z"
   },
   {
    "duration": 10,
    "start_time": "2024-03-27T12:48:13.819Z"
   },
   {
    "duration": 12,
    "start_time": "2024-03-27T12:48:25.594Z"
   },
   {
    "duration": 11,
    "start_time": "2024-03-27T12:48:42.251Z"
   },
   {
    "duration": 9,
    "start_time": "2024-03-27T12:51:52.180Z"
   },
   {
    "duration": 1643,
    "start_time": "2024-03-27T12:51:58.742Z"
   },
   {
    "duration": 11,
    "start_time": "2024-03-27T12:52:05.101Z"
   },
   {
    "duration": 11,
    "start_time": "2024-03-27T12:52:08.580Z"
   },
   {
    "duration": 7,
    "start_time": "2024-03-27T12:52:36.141Z"
   },
   {
    "duration": 10,
    "start_time": "2024-03-27T12:53:20.958Z"
   },
   {
    "duration": 9,
    "start_time": "2024-03-27T12:53:26.086Z"
   },
   {
    "duration": 7,
    "start_time": "2024-03-27T12:53:30.517Z"
   },
   {
    "duration": 8,
    "start_time": "2024-03-27T12:53:36.549Z"
   },
   {
    "duration": 2727,
    "start_time": "2024-03-27T12:54:24.191Z"
   },
   {
    "duration": 8,
    "start_time": "2024-03-27T12:55:10.855Z"
   },
   {
    "duration": 8,
    "start_time": "2024-03-27T12:55:18.503Z"
   },
   {
    "duration": 8,
    "start_time": "2024-03-27T12:55:56.431Z"
   },
   {
    "duration": 9,
    "start_time": "2024-03-27T12:56:36.640Z"
   },
   {
    "duration": 312,
    "start_time": "2024-03-27T12:56:42.513Z"
   },
   {
    "duration": 1383,
    "start_time": "2024-03-27T12:56:49.976Z"
   },
   {
    "duration": 1374,
    "start_time": "2024-03-27T12:57:02.064Z"
   },
   {
    "duration": 8,
    "start_time": "2024-03-27T13:04:44.430Z"
   },
   {
    "duration": 2754,
    "start_time": "2024-03-27T13:05:21.359Z"
   },
   {
    "duration": 4001,
    "start_time": "2024-03-27T13:06:19.649Z"
   },
   {
    "duration": 3401,
    "start_time": "2024-03-27T13:06:35.032Z"
   },
   {
    "duration": 2906,
    "start_time": "2024-03-27T13:07:13.681Z"
   },
   {
    "duration": 441,
    "start_time": "2024-03-27T13:07:48.506Z"
   },
   {
    "duration": 700,
    "start_time": "2024-03-27T13:07:52.537Z"
   },
   {
    "duration": 708,
    "start_time": "2024-03-27T13:07:56.666Z"
   },
   {
    "duration": 1358,
    "start_time": "2024-03-27T13:08:01.961Z"
   },
   {
    "duration": 99,
    "start_time": "2024-03-27T13:08:20.330Z"
   },
   {
    "duration": 1573,
    "start_time": "2024-03-27T13:08:24.250Z"
   },
   {
    "duration": 1613,
    "start_time": "2024-03-27T13:08:32.035Z"
   },
   {
    "duration": 3044,
    "start_time": "2024-03-27T13:08:43.931Z"
   },
   {
    "duration": 3407,
    "start_time": "2024-03-27T13:08:54.922Z"
   },
   {
    "duration": 98,
    "start_time": "2024-03-27T13:09:47.996Z"
   },
   {
    "duration": 8,
    "start_time": "2024-03-27T13:10:11.772Z"
   },
   {
    "duration": 99,
    "start_time": "2024-03-27T13:10:16.172Z"
   },
   {
    "duration": 99,
    "start_time": "2024-03-27T13:10:21.667Z"
   },
   {
    "duration": 109,
    "start_time": "2024-03-27T13:10:26.892Z"
   },
   {
    "duration": 433,
    "start_time": "2024-03-27T13:10:56.251Z"
   },
   {
    "duration": 731,
    "start_time": "2024-03-27T13:11:00.116Z"
   },
   {
    "duration": 712,
    "start_time": "2024-03-27T13:11:19.509Z"
   },
   {
    "duration": 9,
    "start_time": "2024-03-27T13:12:28.117Z"
   },
   {
    "duration": 8,
    "start_time": "2024-03-27T13:12:32.709Z"
   },
   {
    "duration": 13,
    "start_time": "2024-03-27T13:12:38.527Z"
   },
   {
    "duration": 861,
    "start_time": "2024-03-27T13:15:56.736Z"
   },
   {
    "duration": 736,
    "start_time": "2024-03-27T13:16:11.289Z"
   },
   {
    "duration": 875,
    "start_time": "2024-03-27T13:18:11.491Z"
   },
   {
    "duration": 705,
    "start_time": "2024-03-27T13:18:18.579Z"
   },
   {
    "duration": 242,
    "start_time": "2024-03-27T13:19:17.092Z"
   },
   {
    "duration": 98,
    "start_time": "2024-03-27T13:19:20.164Z"
   },
   {
    "duration": 111,
    "start_time": "2024-03-27T13:19:23.476Z"
   },
   {
    "duration": 6,
    "start_time": "2024-03-27T13:21:33.606Z"
   },
   {
    "duration": 11,
    "start_time": "2024-03-27T13:21:39.574Z"
   },
   {
    "duration": 127,
    "start_time": "2024-03-27T13:21:55.798Z"
   },
   {
    "duration": 754,
    "start_time": "2024-03-27T13:22:35.614Z"
   },
   {
    "duration": 915,
    "start_time": "2024-03-27T13:26:35.002Z"
   },
   {
    "duration": 994,
    "start_time": "2024-03-27T13:41:00.976Z"
   },
   {
    "duration": 907,
    "start_time": "2024-03-27T13:41:05.383Z"
   },
   {
    "duration": 881,
    "start_time": "2024-03-27T13:41:14.975Z"
   },
   {
    "duration": 720,
    "start_time": "2024-03-27T13:42:37.898Z"
   },
   {
    "duration": 841,
    "start_time": "2024-03-27T13:42:43.017Z"
   },
   {
    "duration": 698,
    "start_time": "2024-03-27T13:43:08.194Z"
   },
   {
    "duration": 917,
    "start_time": "2024-03-27T13:50:01.016Z"
   },
   {
    "duration": 1316,
    "start_time": "2024-03-27T13:50:55.116Z"
   },
   {
    "duration": 103,
    "start_time": "2024-03-27T13:51:06.892Z"
   },
   {
    "duration": 765,
    "start_time": "2024-03-27T13:51:10.565Z"
   },
   {
    "duration": 350,
    "start_time": "2024-03-27T13:51:37.374Z"
   },
   {
    "duration": 912,
    "start_time": "2024-03-27T13:51:44.686Z"
   },
   {
    "duration": 713,
    "start_time": "2024-03-27T13:52:07.807Z"
   },
   {
    "duration": 220,
    "start_time": "2024-03-27T13:52:11.687Z"
   },
   {
    "duration": 1117,
    "start_time": "2024-03-27T13:56:14.939Z"
   },
   {
    "duration": 212,
    "start_time": "2024-03-27T13:56:16.058Z"
   },
   {
    "duration": 9,
    "start_time": "2024-03-27T13:56:16.272Z"
   },
   {
    "duration": 299,
    "start_time": "2024-03-27T13:56:16.283Z"
   },
   {
    "duration": 97,
    "start_time": "2024-03-27T13:56:16.585Z"
   },
   {
    "duration": 113,
    "start_time": "2024-03-27T13:56:16.683Z"
   },
   {
    "duration": 41,
    "start_time": "2024-03-27T13:56:16.798Z"
   },
   {
    "duration": 783,
    "start_time": "2024-03-27T13:56:16.841Z"
   },
   {
    "duration": 233,
    "start_time": "2024-03-27T13:56:17.626Z"
   },
   {
    "duration": 6,
    "start_time": "2024-03-27T13:56:17.861Z"
   },
   {
    "duration": 490,
    "start_time": "2024-03-27T13:56:17.882Z"
   },
   {
    "duration": 107,
    "start_time": "2024-03-27T13:56:18.374Z"
   },
   {
    "duration": 39,
    "start_time": "2024-03-27T13:56:18.482Z"
   },
   {
    "duration": 27,
    "start_time": "2024-03-27T13:56:18.523Z"
   },
   {
    "duration": 201,
    "start_time": "2024-03-27T13:56:18.551Z"
   },
   {
    "duration": 48,
    "start_time": "2024-03-27T13:56:18.754Z"
   },
   {
    "duration": 197,
    "start_time": "2024-03-27T13:56:18.804Z"
   },
   {
    "duration": 62,
    "start_time": "2024-03-27T13:56:19.002Z"
   },
   {
    "duration": 182,
    "start_time": "2024-03-27T13:56:19.066Z"
   },
   {
    "duration": 4,
    "start_time": "2024-03-27T13:56:19.250Z"
   },
   {
    "duration": 138,
    "start_time": "2024-03-27T13:56:19.255Z"
   },
   {
    "duration": 5,
    "start_time": "2024-03-27T13:56:19.394Z"
   },
   {
    "duration": 21,
    "start_time": "2024-03-27T13:56:19.400Z"
   },
   {
    "duration": 16,
    "start_time": "2024-03-27T13:56:19.423Z"
   },
   {
    "duration": 13,
    "start_time": "2024-03-27T13:56:19.441Z"
   },
   {
    "duration": 35,
    "start_time": "2024-03-27T13:56:19.456Z"
   },
   {
    "duration": 346,
    "start_time": "2024-03-27T14:21:43.537Z"
   },
   {
    "duration": 338,
    "start_time": "2024-03-27T14:21:45.985Z"
   },
   {
    "duration": 230,
    "start_time": "2024-03-27T14:22:38.073Z"
   },
   {
    "duration": 301,
    "start_time": "2024-03-27T14:22:53.001Z"
   },
   {
    "duration": 1143,
    "start_time": "2024-03-27T14:23:03.040Z"
   },
   {
    "duration": 378,
    "start_time": "2024-03-27T14:23:05.577Z"
   },
   {
    "duration": 267,
    "start_time": "2024-03-27T14:23:11.887Z"
   },
   {
    "duration": 265,
    "start_time": "2024-03-27T14:23:14.792Z"
   },
   {
    "duration": 266,
    "start_time": "2024-03-27T14:23:34.672Z"
   },
   {
    "duration": 262,
    "start_time": "2024-03-27T14:23:52.672Z"
   },
   {
    "duration": 1043,
    "start_time": "2024-03-27T16:18:12.098Z"
   },
   {
    "duration": 205,
    "start_time": "2024-03-27T16:18:13.143Z"
   },
   {
    "duration": 3,
    "start_time": "2024-03-27T16:18:13.349Z"
   },
   {
    "duration": 278,
    "start_time": "2024-03-27T16:18:13.354Z"
   },
   {
    "duration": 90,
    "start_time": "2024-03-27T16:18:13.634Z"
   },
   {
    "duration": 112,
    "start_time": "2024-03-27T16:18:13.725Z"
   },
   {
    "duration": 47,
    "start_time": "2024-03-27T16:18:13.839Z"
   },
   {
    "duration": 743,
    "start_time": "2024-03-27T16:18:13.887Z"
   },
   {
    "duration": 260,
    "start_time": "2024-03-27T16:18:14.632Z"
   },
   {
    "duration": 5,
    "start_time": "2024-03-27T16:18:14.894Z"
   },
   {
    "duration": 491,
    "start_time": "2024-03-27T16:18:14.900Z"
   },
   {
    "duration": 119,
    "start_time": "2024-03-27T16:18:15.392Z"
   },
   {
    "duration": 89,
    "start_time": "2024-03-27T16:18:15.512Z"
   },
   {
    "duration": 98,
    "start_time": "2024-03-27T16:18:15.603Z"
   },
   {
    "duration": 379,
    "start_time": "2024-03-27T16:18:15.702Z"
   },
   {
    "duration": 39,
    "start_time": "2024-03-27T16:18:16.083Z"
   },
   {
    "duration": 391,
    "start_time": "2024-03-27T16:18:16.123Z"
   },
   {
    "duration": 166,
    "start_time": "2024-03-27T16:18:16.515Z"
   },
   {
    "duration": 318,
    "start_time": "2024-03-27T16:18:16.682Z"
   },
   {
    "duration": 4,
    "start_time": "2024-03-27T16:18:17.001Z"
   },
   {
    "duration": 132,
    "start_time": "2024-03-27T16:18:17.006Z"
   },
   {
    "duration": 5,
    "start_time": "2024-03-27T16:18:17.139Z"
   },
   {
    "duration": 36,
    "start_time": "2024-03-27T16:18:17.145Z"
   },
   {
    "duration": 11,
    "start_time": "2024-03-27T16:18:17.183Z"
   },
   {
    "duration": 23,
    "start_time": "2024-03-27T16:18:17.195Z"
   },
   {
    "duration": 19,
    "start_time": "2024-03-27T16:18:17.219Z"
   },
   {
    "duration": 6,
    "start_time": "2024-03-27T16:18:30.492Z"
   },
   {
    "duration": 4,
    "start_time": "2024-03-27T16:19:10.405Z"
   },
   {
    "duration": 9,
    "start_time": "2024-03-27T16:19:12.930Z"
   },
   {
    "duration": 105,
    "start_time": "2024-03-27T16:19:45.358Z"
   },
   {
    "duration": 10,
    "start_time": "2024-03-27T16:19:49.813Z"
   },
   {
    "duration": 11,
    "start_time": "2024-03-27T16:20:02.926Z"
   },
   {
    "duration": 10,
    "start_time": "2024-03-27T16:21:10.854Z"
   },
   {
    "duration": 10,
    "start_time": "2024-03-27T16:21:31.296Z"
   },
   {
    "duration": 11,
    "start_time": "2024-03-27T16:21:34.071Z"
   },
   {
    "duration": 7,
    "start_time": "2024-03-27T16:23:39.505Z"
   },
   {
    "duration": 9,
    "start_time": "2024-03-27T16:23:43.777Z"
   },
   {
    "duration": 12,
    "start_time": "2024-03-27T16:24:57.623Z"
   },
   {
    "duration": 19,
    "start_time": "2024-03-27T16:25:01.339Z"
   },
   {
    "duration": 17,
    "start_time": "2024-03-27T16:25:32.780Z"
   },
   {
    "duration": 26,
    "start_time": "2024-03-27T16:25:41.052Z"
   },
   {
    "duration": 19,
    "start_time": "2024-03-27T16:26:14.932Z"
   },
   {
    "duration": 103,
    "start_time": "2024-03-27T16:26:55.534Z"
   },
   {
    "duration": 17,
    "start_time": "2024-03-27T16:27:18.629Z"
   },
   {
    "duration": 30,
    "start_time": "2024-03-27T16:27:23.030Z"
   },
   {
    "duration": 26,
    "start_time": "2024-03-27T16:27:33.694Z"
   },
   {
    "duration": 24,
    "start_time": "2024-03-27T16:27:45.982Z"
   },
   {
    "duration": 31,
    "start_time": "2024-03-27T16:27:50.727Z"
   },
   {
    "duration": 21,
    "start_time": "2024-03-27T16:27:54.350Z"
   },
   {
    "duration": 21,
    "start_time": "2024-03-27T16:28:05.541Z"
   },
   {
    "duration": 19,
    "start_time": "2024-03-27T16:28:13.862Z"
   },
   {
    "duration": 29,
    "start_time": "2024-03-27T16:28:16.895Z"
   },
   {
    "duration": 23,
    "start_time": "2024-03-27T16:28:25.254Z"
   },
   {
    "duration": 11,
    "start_time": "2024-03-27T16:29:23.456Z"
   },
   {
    "duration": 16,
    "start_time": "2024-03-27T16:29:26.216Z"
   },
   {
    "duration": 16,
    "start_time": "2024-03-27T16:29:39.848Z"
   },
   {
    "duration": 15,
    "start_time": "2024-03-27T16:29:44.465Z"
   },
   {
    "duration": 17,
    "start_time": "2024-03-27T16:31:03.016Z"
   },
   {
    "duration": 13,
    "start_time": "2024-03-27T16:31:38.683Z"
   },
   {
    "duration": 108,
    "start_time": "2024-03-27T16:31:59.588Z"
   },
   {
    "duration": 11,
    "start_time": "2024-03-27T16:32:11.035Z"
   },
   {
    "duration": 110,
    "start_time": "2024-03-27T16:32:30.804Z"
   },
   {
    "duration": 12,
    "start_time": "2024-03-27T16:32:32.796Z"
   },
   {
    "duration": 9,
    "start_time": "2024-03-27T16:32:36.755Z"
   },
   {
    "duration": 103,
    "start_time": "2024-03-27T16:32:40.963Z"
   },
   {
    "duration": 1321,
    "start_time": "2024-03-27T16:32:44.220Z"
   },
   {
    "duration": 98,
    "start_time": "2024-03-27T16:32:49.828Z"
   },
   {
    "duration": 1235,
    "start_time": "2024-03-27T16:32:51.907Z"
   },
   {
    "duration": 1308,
    "start_time": "2024-03-27T16:33:14.909Z"
   },
   {
    "duration": 1273,
    "start_time": "2024-03-27T16:33:31.901Z"
   },
   {
    "duration": 1255,
    "start_time": "2024-03-27T16:33:41.789Z"
   },
   {
    "duration": 14,
    "start_time": "2024-03-27T16:33:48.221Z"
   },
   {
    "duration": 1282,
    "start_time": "2024-03-27T16:33:52.292Z"
   },
   {
    "duration": 15,
    "start_time": "2024-03-27T16:34:07.078Z"
   },
   {
    "duration": 9,
    "start_time": "2024-03-27T16:34:11.477Z"
   },
   {
    "duration": 12,
    "start_time": "2024-03-27T16:34:25.654Z"
   },
   {
    "duration": 14,
    "start_time": "2024-03-27T16:35:26.431Z"
   },
   {
    "duration": 10,
    "start_time": "2024-03-27T16:35:38.766Z"
   },
   {
    "duration": 1255,
    "start_time": "2024-03-27T16:36:03.015Z"
   },
   {
    "duration": 1273,
    "start_time": "2024-03-27T16:36:05.175Z"
   },
   {
    "duration": 12,
    "start_time": "2024-03-27T16:36:10.521Z"
   },
   {
    "duration": 14,
    "start_time": "2024-03-27T16:36:12.720Z"
   },
   {
    "duration": 15,
    "start_time": "2024-03-27T16:36:15.728Z"
   },
   {
    "duration": 9,
    "start_time": "2024-03-27T16:36:35.561Z"
   },
   {
    "duration": 13,
    "start_time": "2024-03-27T16:36:38.191Z"
   },
   {
    "duration": 11,
    "start_time": "2024-03-27T16:36:56.304Z"
   },
   {
    "duration": 9,
    "start_time": "2024-03-27T16:37:02.633Z"
   },
   {
    "duration": 18,
    "start_time": "2024-03-27T16:37:05.657Z"
   },
   {
    "duration": 120,
    "start_time": "2024-03-27T16:37:40.761Z"
   },
   {
    "duration": 16,
    "start_time": "2024-03-27T16:38:17.257Z"
   },
   {
    "duration": 18,
    "start_time": "2024-03-27T16:38:28.633Z"
   },
   {
    "duration": 94,
    "start_time": "2024-03-27T16:39:03.642Z"
   },
   {
    "duration": 100,
    "start_time": "2024-03-27T16:39:14.019Z"
   },
   {
    "duration": 91,
    "start_time": "2024-03-27T16:39:27.292Z"
   },
   {
    "duration": 96,
    "start_time": "2024-03-27T16:40:03.012Z"
   },
   {
    "duration": 95,
    "start_time": "2024-03-27T16:40:14.412Z"
   },
   {
    "duration": 391,
    "start_time": "2024-03-27T16:40:25.363Z"
   },
   {
    "duration": 105,
    "start_time": "2024-03-27T16:40:41.379Z"
   },
   {
    "duration": 100,
    "start_time": "2024-03-27T16:40:52.595Z"
   },
   {
    "duration": 101,
    "start_time": "2024-03-27T16:41:05.012Z"
   },
   {
    "duration": 4,
    "start_time": "2024-03-27T16:41:16.508Z"
   },
   {
    "duration": 18,
    "start_time": "2024-03-27T16:41:19.228Z"
   },
   {
    "duration": 13,
    "start_time": "2024-03-27T16:41:35.963Z"
   },
   {
    "duration": 13,
    "start_time": "2024-03-27T16:41:39.395Z"
   },
   {
    "duration": 14,
    "start_time": "2024-03-27T16:41:44.186Z"
   },
   {
    "duration": 1423,
    "start_time": "2024-03-27T16:42:09.150Z"
   },
   {
    "duration": 223,
    "start_time": "2024-03-27T16:42:10.575Z"
   },
   {
    "duration": 3,
    "start_time": "2024-03-27T16:42:10.800Z"
   },
   {
    "duration": 301,
    "start_time": "2024-03-27T16:42:10.806Z"
   },
   {
    "duration": 99,
    "start_time": "2024-03-27T16:42:11.109Z"
   },
   {
    "duration": 114,
    "start_time": "2024-03-27T16:42:11.210Z"
   },
   {
    "duration": 40,
    "start_time": "2024-03-27T16:42:11.326Z"
   },
   {
    "duration": 818,
    "start_time": "2024-03-27T16:42:11.368Z"
   },
   {
    "duration": 277,
    "start_time": "2024-03-27T16:42:12.187Z"
   },
   {
    "duration": 5,
    "start_time": "2024-03-27T16:42:12.467Z"
   },
   {
    "duration": 478,
    "start_time": "2024-03-27T16:42:12.473Z"
   },
   {
    "duration": 96,
    "start_time": "2024-03-27T16:42:12.953Z"
   },
   {
    "duration": 48,
    "start_time": "2024-03-27T16:42:13.050Z"
   },
   {
    "duration": 27,
    "start_time": "2024-03-27T16:42:13.099Z"
   },
   {
    "duration": 199,
    "start_time": "2024-03-27T16:42:13.127Z"
   },
   {
    "duration": 40,
    "start_time": "2024-03-27T16:42:13.327Z"
   },
   {
    "duration": 214,
    "start_time": "2024-03-27T16:42:13.368Z"
   },
   {
    "duration": 77,
    "start_time": "2024-03-27T16:42:13.584Z"
   },
   {
    "duration": 204,
    "start_time": "2024-03-27T16:42:13.662Z"
   },
   {
    "duration": 5,
    "start_time": "2024-03-27T16:42:13.867Z"
   },
   {
    "duration": 179,
    "start_time": "2024-03-27T16:42:13.874Z"
   },
   {
    "duration": 0,
    "start_time": "2024-03-27T16:42:14.055Z"
   },
   {
    "duration": 0,
    "start_time": "2024-03-27T16:42:14.056Z"
   },
   {
    "duration": 0,
    "start_time": "2024-03-27T16:42:14.057Z"
   },
   {
    "duration": 0,
    "start_time": "2024-03-27T16:42:14.059Z"
   },
   {
    "duration": 0,
    "start_time": "2024-03-27T16:42:14.060Z"
   },
   {
    "duration": 0,
    "start_time": "2024-03-27T16:42:14.061Z"
   },
   {
    "duration": 108,
    "start_time": "2024-03-27T16:43:19.084Z"
   },
   {
    "duration": 86,
    "start_time": "2024-03-27T16:43:24.335Z"
   },
   {
    "duration": 115,
    "start_time": "2024-03-27T16:43:39.525Z"
   },
   {
    "duration": 5,
    "start_time": "2024-03-27T16:43:46.692Z"
   },
   {
    "duration": 13,
    "start_time": "2024-03-27T16:43:48.444Z"
   },
   {
    "duration": 1101,
    "start_time": "2024-03-27T16:43:58.807Z"
   },
   {
    "duration": 218,
    "start_time": "2024-03-27T16:43:59.910Z"
   },
   {
    "duration": 3,
    "start_time": "2024-03-27T16:44:00.130Z"
   },
   {
    "duration": 368,
    "start_time": "2024-03-27T16:44:00.135Z"
   },
   {
    "duration": 92,
    "start_time": "2024-03-27T16:44:00.505Z"
   },
   {
    "duration": 206,
    "start_time": "2024-03-27T16:44:00.599Z"
   },
   {
    "duration": 117,
    "start_time": "2024-03-27T16:44:00.806Z"
   },
   {
    "duration": 814,
    "start_time": "2024-03-27T16:44:00.924Z"
   },
   {
    "duration": 282,
    "start_time": "2024-03-27T16:44:01.740Z"
   },
   {
    "duration": 6,
    "start_time": "2024-03-27T16:44:02.024Z"
   },
   {
    "duration": 463,
    "start_time": "2024-03-27T16:44:02.031Z"
   },
   {
    "duration": 104,
    "start_time": "2024-03-27T16:44:02.496Z"
   },
   {
    "duration": 37,
    "start_time": "2024-03-27T16:44:02.602Z"
   },
   {
    "duration": 80,
    "start_time": "2024-03-27T16:44:02.640Z"
   },
   {
    "duration": 202,
    "start_time": "2024-03-27T16:44:02.722Z"
   },
   {
    "duration": 42,
    "start_time": "2024-03-27T16:44:02.925Z"
   },
   {
    "duration": 201,
    "start_time": "2024-03-27T16:44:02.969Z"
   },
   {
    "duration": 67,
    "start_time": "2024-03-27T16:44:03.171Z"
   },
   {
    "duration": 173,
    "start_time": "2024-03-27T16:44:03.239Z"
   },
   {
    "duration": 4,
    "start_time": "2024-03-27T16:44:03.413Z"
   },
   {
    "duration": 165,
    "start_time": "2024-03-27T16:44:03.419Z"
   },
   {
    "duration": 5,
    "start_time": "2024-03-27T16:44:03.585Z"
   },
   {
    "duration": 53,
    "start_time": "2024-03-27T16:44:03.592Z"
   },
   {
    "duration": 38,
    "start_time": "2024-03-27T16:44:03.646Z"
   },
   {
    "duration": 63,
    "start_time": "2024-03-27T16:44:03.686Z"
   },
   {
    "duration": 21,
    "start_time": "2024-03-27T16:44:03.751Z"
   }
  ],
  "kernelspec": {
   "display_name": "Python 3 (ipykernel)",
   "language": "python",
   "name": "python3"
  },
  "language_info": {
   "codemirror_mode": {
    "name": "ipython",
    "version": 3
   },
   "file_extension": ".py",
   "mimetype": "text/x-python",
   "name": "python",
   "nbconvert_exporter": "python",
   "pygments_lexer": "ipython3",
   "version": "3.9.5"
  },
  "toc": {
   "base_numbering": 1,
   "nav_menu": {},
   "number_sections": true,
   "sideBar": true,
   "skip_h1_title": true,
   "title_cell": "Table of Contents",
   "title_sidebar": "Contents",
   "toc_cell": false,
   "toc_position": {
    "height": "calc(100% - 180px)",
    "left": "10px",
    "top": "150px",
    "width": "517.333px"
   },
   "toc_section_display": true,
   "toc_window_display": true
  }
 },
 "nbformat": 4,
 "nbformat_minor": 2
}
