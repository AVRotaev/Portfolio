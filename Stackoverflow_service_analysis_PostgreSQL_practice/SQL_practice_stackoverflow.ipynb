{
 "cells": [
  {
   "cell_type": "markdown",
   "id": "74d34ddd-cbcc-4e75-833f-5a7f69346790",
   "metadata": {},
   "source": [
    "# Проект \"Выгрузка данных для анализа из базы данных сайта StackOverFlow\"\n",
    "\n",
    "\n",
    "**Описание проекта**\n",
    "\n",
    "Вы будете работать с базой данных **StackOverflow** — сервиса вопросов и ответов о программировании. \n",
    "\n",
    "**Цель проекта**: закрепить и продемонстрировать навыки владения языком SQL.\n",
    "\n",
    "**Задача проекта**: выгрузить из базы необходимые наборы данных.\n",
    "\n",
    "**План работы**\n",
    "\n",
    "1. Решить задания первой части.\n",
    "2. Решить задания второй части\n",
    "3. Сделать вывод.  \n",
    "\n",
    "**Используемые инструменты**\n",
    "\n",
    "- PostgreSQL\n",
    "\n",
    "**Описание данных**\n",
    "\n",
    "[ER-диаграмма и описание базы данных](https://github.com/AVRotaev/Portfolio/blob/main/Stackoverflow_service_analysis_Data_export_PostgreSQL/ER-diagram_stackoverflow.pdf)\n"
   ]
  },
  {
   "cell_type": "markdown",
   "id": "d0bbbba6-d554-4730-8931-d0cc4e7a5723",
   "metadata": {},
   "source": [
    "## Часть 1"
   ]
  },
  {
   "cell_type": "markdown",
   "id": "6df0b78f-2915-431c-b694-a4d838241a7d",
   "metadata": {},
   "source": [
    "#### Найдите количество вопросов, которые набрали больше 300 очков или как минимум 100 раз были добавлены в «Закладки»."
   ]
  },
  {
   "cell_type": "code",
   "execution_count": null,
   "id": "6ed6fe29-3497-4e3b-96c2-f2afa68d92b4",
   "metadata": {},
   "outputs": [],
   "source": [
    "SELECT COUNT(p.id) AS top_questions_amt\n",
    "FROM stackoverflow.posts p \n",
    "    JOIN stackoverflow.post_types t ON p.post_type_id = t.id\n",
    "WHERE t.type = 'Question' \n",
    "    AND (p.score > 300 OR p.favorites_count >=100);"
   ]
  },
  {
   "cell_type": "markdown",
   "id": "91d1c0eb-b84e-4ae3-8422-a58fe108eb52",
   "metadata": {},
   "source": [
    "#### Сколько в среднем в день задавали вопросов с 1 по 18 ноября 2008 включительно? Результат округлите до целого числа."
   ]
  },
  {
   "cell_type": "code",
   "execution_count": null,
   "id": "566c8b02-03b0-40e4-9fb3-4f52e0071c66",
   "metadata": {},
   "outputs": [],
   "source": [
    "SELECT ROUND(AVG(daily_posts_num))\n",
    "FROM (SELECT DISTINCT DATE_TRUNC('day',p.creation_date)::date AS day,\n",
    "        COUNT(*) OVER(PARTITION BY DATE_TRUNC('day',p.creation_date)::date) AS daily_posts_num\n",
    "      FROM stackoverflow.posts p \n",
    "      JOIN stackoverflow.post_types pt ON p.post_type_id=pt.id\n",
    "      WHERE pt.type='Question' \n",
    "          AND DATE_TRUNC('day',p.creation_date)::date BETWEEN '2008-11-01' AND '2008-11-18') AS tab\n",
    ";"
   ]
  },
  {
   "cell_type": "markdown",
   "id": "9a2d063a-78b7-41a8-aea3-b2ba11e615d0",
   "metadata": {},
   "source": [
    "#### Сколько пользователей получили значки сразу в день регистрации? Выведите количество уникальных пользователей."
   ]
  },
  {
   "cell_type": "code",
   "execution_count": null,
   "id": "d34b515c-1784-4fa9-82b7-97397d8ce85d",
   "metadata": {},
   "outputs": [],
   "source": [
    "SELECT COUNT(*)\n",
    "FROM (SELECT DISTINCT user_id, \n",
    "            u.creation_date::date AS u_date, \n",
    "            b.creation_date::date AS b_date\n",
    "    FROM stackoverflow.users u \n",
    "    JOIN stackoverflow.badges b ON u.id=b.user_id\n",
    "    WHERE u.creation_date::date = b.creation_date::date\n",
    "    ORDER BY user_id) AS tab\n",
    ";"
   ]
  },
  {
   "cell_type": "markdown",
   "id": "a65b3145-f932-45a4-b56a-b1c031e042d0",
   "metadata": {},
   "source": [
    "#### Сколько уникальных постов пользователя с именем Joel Coehoorn получили хотя бы один голос?"
   ]
  },
  {
   "cell_type": "code",
   "execution_count": null,
   "id": "e502ddcd-e21f-40f1-ac45-4c98ddb3228a",
   "metadata": {},
   "outputs": [],
   "source": [
    "SELECT COUNT(DISTINCT p.id)\n",
    "FROM stackoverflow.users u \n",
    "    JOIN stackoverflow.posts p ON u.id = p.user_id\n",
    "    JOIN stackoverflow.votes v ON p.id = v.post_id\n",
    "WHERE u.display_name = 'Joel Coehoorn'  \n",
    ";"
   ]
  },
  {
   "cell_type": "markdown",
   "id": "4d3e65b0-eadb-4603-b77d-638db368105c",
   "metadata": {},
   "source": [
    "#### Выгрузите все поля таблицы vote_types. Добавьте к таблице поле rank, в которое войдут номера записей в обратном порядке. Таблица должна быть отсортирована по полю id."
   ]
  },
  {
   "cell_type": "code",
   "execution_count": null,
   "id": "db37a63a-e7f3-484f-97d6-71db85f945d9",
   "metadata": {},
   "outputs": [],
   "source": [
    "SELECT *, \n",
    "    RANK() OVER(ORDER BY id DESC) AS rank\n",
    "FROM stackoverflow.vote_types\n",
    "ORDER BY id"
   ]
  },
  {
   "cell_type": "markdown",
   "id": "5b3d9a15-84e5-4ff1-9b73-194866d38782",
   "metadata": {},
   "source": [
    "#### Отберите 10 пользователей, которые поставили больше всего голосов типа Close. Отобразите таблицу из двух полей: идентификатором пользователя и количеством голосов. Отсортируйте данные сначала по убыванию количества голосов, потом по убыванию значения идентификатора пользователя."
   ]
  },
  {
   "cell_type": "code",
   "execution_count": null,
   "id": "36676576-29ae-4c63-ae92-5e1aa44d995e",
   "metadata": {},
   "outputs": [],
   "source": [
    "SELECT DISTINCT u.id, \n",
    "       COUNT(v.id) as votes\n",
    "FROM stackoverflow.users u \n",
    "    JOIN stackoverflow.votes v ON u.id = v.user_id\n",
    "WHERE v.vote_type_id IN (SELECT id\n",
    "                         FROM stackoverflow.vote_types\n",
    "                          WHERE name = 'Close') \n",
    "GROUP BY u.id\n",
    "ORDER BY votes desc, \n",
    "         u.id desc\n",
    "LIMIT 10\n",
    ";"
   ]
  },
  {
   "cell_type": "markdown",
   "id": "85ed388f-2d36-43d8-8e27-81dab4ab9fd8",
   "metadata": {},
   "source": [
    "#### Отберите 10 пользователей по количеству значков, полученных в период с 15 ноября по 15 декабря 2008 года включительно.\n",
    "\n",
    "Отобразите несколько полей:\n",
    "\n",
    "- идентификатор пользователя;\n",
    "- число значков;\n",
    "- место в рейтинге — чем больше значков, тем выше рейтинг.\n",
    "\n",
    "Пользователям, которые набрали одинаковое количество значков, присвойте одно и то же место в рейтинге.\n",
    "\n",
    "Отсортируйте записи по количеству значков по убыванию, а затем по возрастанию значения идентификатора пользователя."
   ]
  },
  {
   "cell_type": "code",
   "execution_count": null,
   "id": "ba1eb76d-b537-4234-b2cf-e23bf5fc05ca",
   "metadata": {},
   "outputs": [],
   "source": [
    "SELECT u.id, COUNT(b.creation_date) AS badges_count, \n",
    "        DENSE_RANK() OVER(ORDER BY COUNT(b.creation_date) DESC)\n",
    "FROM stackoverflow.users u JOIN stackoverflow.badges b ON u.id = b.user_id        \n",
    "WHERE b.creation_date::date BETWEEN '2008-11-15' AND '2008-12-15'\n",
    "GROUP BY u.id\n",
    "ORDER BY badges_count DESC, u.id\n",
    "LIMIT 10\n",
    ";"
   ]
  },
  {
   "cell_type": "markdown",
   "id": "8997187e-7bce-411a-a83d-4673cf5d2ee2",
   "metadata": {},
   "source": [
    "#### Сколько в среднем очков получает пост каждого пользователя?"
   ]
  },
  {
   "cell_type": "code",
   "execution_count": null,
   "id": "018e1802-e21e-4ee4-9f47-e330278c6341",
   "metadata": {},
   "outputs": [],
   "source": [
    "SELECT p.title AS post, u.id AS users, \n",
    "       p.score,\n",
    "       ROUND(AVG(p.score) OVER(PARTITION BY u.id)) AS avg_votes\n",
    "FROM stackoverflow.posts p JOIN stackoverflow.users u ON p.user_id = u.id                \n",
    "WHERE NOT p.score = 0\n",
    "      AND NOT p.title IS NULL\n",
    "\n",
    ";"
   ]
  },
  {
   "cell_type": "markdown",
   "id": "64a56510-ffb8-4e4d-963b-9b85403958cc",
   "metadata": {},
   "source": [
    "#### Отобразите заголовки постов, которые были написаны пользователями, получившими более 1000 значков. Посты без заголовков не должны попасть в список."
   ]
  },
  {
   "cell_type": "code",
   "execution_count": null,
   "id": "60744af4-34ee-4e10-8b98-c2660f7fc76e",
   "metadata": {},
   "outputs": [],
   "source": [
    "WITH usr AS (SELECT u.id, COUNT(b.id) AS badges\n",
    "            FROM stackoverflow.users u \n",
    "            JOIN stackoverflow.badges b ON u.id = b.user_id\n",
    "            GROUP BY u.id \n",
    "            HAVING COUNT(b.id) > 1000)\n",
    "\n",
    "SELECT p.title\n",
    "FROM stackoverflow.posts p \n",
    "JOIN usr u ON p.user_id = u.id\n",
    "WHERE p.title IS NOT NULL\n",
    ";"
   ]
  },
  {
   "cell_type": "markdown",
   "id": "07581b27-ae2a-4732-8f1e-465499998f4e",
   "metadata": {},
   "source": [
    "#### Напишите запрос, который выгрузит данные о пользователях из Канады (англ. Canada). Разделите пользователей на три группы в зависимости от количества просмотров их профилей:\n",
    "\n",
    "- пользователям с числом просмотров больше либо равным 350 присвойте группу 1;\n",
    "- пользователям с числом просмотров меньше 350, но больше либо равно 100 — группу 2;\n",
    "- пользователям с числом просмотров меньше 100 — группу 3.\n",
    "\n",
    "Отобразите в итоговой таблице идентификатор пользователя, количество просмотров профиля и группу. Пользователи с количеством просмотров меньше либо равным нулю не должны войти в итоговую таблицу."
   ]
  },
  {
   "cell_type": "code",
   "execution_count": null,
   "id": "e84eea15-f379-4d59-a7dc-533306dae11e",
   "metadata": {},
   "outputs": [],
   "source": [
    "SELECT id, views,\n",
    "        CASE \n",
    "            WHEN views >= 350 THEN 1\n",
    "            WHEN views >= 100 THEN 2\n",
    "            ELSE 3\n",
    "        END\n",
    "FROM stackoverflow.users\n",
    "WHERE location LIKE '%Canada%' AND views != 0\n",
    ";"
   ]
  },
  {
   "cell_type": "markdown",
   "id": "1c2d9295-8df1-4240-b16d-0519d8fbeb7d",
   "metadata": {},
   "source": [
    "#### Дополните предыдущий запрос. Отобразите лидеров каждой группы — пользователей, которые набрали максимальное число просмотров в своей группе. \n",
    "\n",
    "Выведите поля с идентификатором пользователя, группой и количеством просмотров. Отсортируйте таблицу по убыванию просмотров, а затем по возрастанию значения идентификатора."
   ]
  },
  {
   "cell_type": "code",
   "execution_count": null,
   "id": "3f875c35-d235-4c46-a065-84c0e55410f3",
   "metadata": {},
   "outputs": [],
   "source": [
    "WITH tab AS (SELECT id, views AS u_views,\n",
    "                    CASE \n",
    "                        WHEN views >= 350 THEN 1\n",
    "                        WHEN views >= 100 THEN 2\n",
    "                        ELSE 3\n",
    "                    END AS usr_group\n",
    "            FROM stackoverflow.users\n",
    "            WHERE location LIKE '%Canada%' AND views != 0),\n",
    "            \n",
    "tab1 AS (SELECT *,\n",
    "                MAX(u_views) OVER(PARTITION BY usr_group) AS max_views\n",
    "        FROM tab)\n",
    "        \n",
    "SELECT id, \n",
    "        usr_group, \n",
    "        u_views   \n",
    "FROM tab1\n",
    "WHERE u_views = max_views\n",
    "ORDER BY u_views DESC, id\n",
    ";"
   ]
  },
  {
   "cell_type": "markdown",
   "id": "92f427d4-19ac-4f44-9ca0-4add622e1e56",
   "metadata": {},
   "source": [
    "#### Посчитайте ежедневный прирост новых пользователей в ноябре 2008 года. \n",
    "\n",
    "Сформируйте таблицу с полями:\n",
    "\n",
    "- номер дня;\n",
    "- число пользователей, зарегистрированных в этот день;\n",
    "- сумму пользователей с накоплением."
   ]
  },
  {
   "cell_type": "code",
   "execution_count": null,
   "id": "bab2dbec-cd85-4ee5-81bb-d219949310cf",
   "metadata": {},
   "outputs": [],
   "source": [
    "WITH usr AS (SELECT EXTRACT(DAY FROM creation_date) day_num, \n",
    "                     COUNT(id) AS users\n",
    "             FROM stackoverflow.users\n",
    "             WHERE creation_date::date BETWEEN '2008-11-01' AND '2008-11-30'\n",
    "             GROUP BY day_num\n",
    "            )\n",
    "\n",
    "SELECT day_num, \n",
    "        users, \n",
    "        SUM(users) OVER(ORDER BY day_num)\n",
    "FROM usr        \n",
    ";"
   ]
  },
  {
   "cell_type": "markdown",
   "id": "5cad849c-8df4-4415-b3a3-1206f2965a08",
   "metadata": {},
   "source": [
    "#### Для каждого пользователя, который написал хотя бы один пост, найдите интервал между регистрацией и временем создания первого поста. \n",
    "\n",
    "Отобразите:\n",
    "\n",
    "- идентификатор пользователя;\n",
    "- разницу во времени между регистрацией и первым постом."
   ]
  },
  {
   "cell_type": "code",
   "execution_count": null,
   "id": "8d22ef0e-f34f-4e9d-b9c0-f56cbde76edc",
   "metadata": {},
   "outputs": [],
   "source": [
    "WITH tab AS (SELECT u.id AS user_id, \n",
    "                     u.creation_date AS reg_date,  \n",
    "                     p.id AS post_id, \n",
    "                     p.creation_date AS post_date,\n",
    "                     RANK() OVER(PARTITION BY u.id ORDER BY p.creation_date)\n",
    "             FROM stackoverflow.users u \n",
    "             JOIN stackoverflow.posts p ON u.id = p.user_id\n",
    "            )\n",
    "            \n",
    "SELECT user_id,\n",
    "       post_date - reg_date\n",
    "FROM tab    \n",
    "WHERE rank = 1\n",
    ";"
   ]
  },
  {
   "cell_type": "markdown",
   "id": "98c1857f-d075-41bd-a85b-fdc2861381c8",
   "metadata": {},
   "source": [
    "## Часть 2"
   ]
  },
  {
   "cell_type": "markdown",
   "id": "4042792c-662f-4288-8130-5dd66484e53e",
   "metadata": {},
   "source": [
    "#### Выведите общую сумму просмотров у постов, опубликованных в каждый месяц 2008 года. Если данных за какой-либо месяц в базе нет, такой месяц можно пропустить. Результат отсортируйте по убыванию общего количества просмотров."
   ]
  },
  {
   "cell_type": "code",
   "execution_count": null,
   "id": "4d946182-c92c-4007-accd-c4a00bc74537",
   "metadata": {},
   "outputs": [],
   "source": [
    "SELECT DATE_TRUNC('month', creation_date)::date AS month, \n",
    "        SUM(views_count)  AS views_monthly\n",
    "FROM stackoverflow.posts\n",
    "GROUP BY month\n",
    "ORDER BY views_monthly DESC"
   ]
  },
  {
   "cell_type": "markdown",
   "id": "0356056d-698e-4244-a231-4cdf87daf0ee",
   "metadata": {},
   "source": [
    "#### Выведите имена самых активных пользователей, которые в первый месяц после регистрации (включая день регистрации) дали больше 100 ответов. \n",
    "\n",
    "Вопросы, которые задавали пользователи, не учитывайте. \n",
    "\n",
    "Для каждого имени пользователя выведите количество уникальных значений user_id. \n",
    "\n",
    "Отсортируйте результат по полю с именами в лексикографическом порядке."
   ]
  },
  {
   "cell_type": "code",
   "execution_count": null,
   "id": "52d53093-d71a-4da7-b862-48ddb39f5c18",
   "metadata": {},
   "outputs": [],
   "source": [
    "SELECT u.display_name,\n",
    "       COUNT(DISTINCT user_id)\n",
    "FROM stackoverflow.posts p\n",
    "JOIN stackoverflow.post_types pt ON p.post_type_id = pt.id\n",
    "JOIN stackoverflow.users u ON u.id = p.user_id\n",
    "WHERE DATE_TRUNC('day', p.creation_date) >= DATE_TRUNC('day', u.creation_date)\n",
    "  AND DATE_TRUNC('day', p.creation_date) <= DATE_TRUNC('day', u.creation_date) + INTERVAL '1 month'\n",
    "  AND pt.type = 'Answer'\n",
    "GROUP BY u.display_name\n",
    "HAVING COUNT(*) > 100\n",
    "ORDER BY display_name\n",
    ";"
   ]
  },
  {
   "cell_type": "markdown",
   "id": "29624bd2-20ba-4bd0-8c6d-afb65eaa0cbc",
   "metadata": {},
   "source": [
    "#### Выведите количество постов за 2008 год по месяцам. Отберите посты от пользователей, которые зарегистрировались в сентябре 2008 года и сделали хотя бы один пост в декабре того же года. Отсортируйте таблицу по значению месяца по убыванию."
   ]
  },
  {
   "cell_type": "code",
   "execution_count": null,
   "id": "faea589a-ce1d-4f7f-8c44-89c820390b6d",
   "metadata": {},
   "outputs": [],
   "source": [
    "WITH usr AS (SELECT u.id, COUNT(*)\n",
    "            FROM stackoverflow.users u JOIN stackoverflow.posts p ON u.id = p.user_id\n",
    "            WHERE DATE_TRUNC('month', u.creation_date)::date = '2008-09-01' \n",
    "                 AND DATE_TRUNC('month', p.creation_date)::date = '2008-12-01'\n",
    "            GROUP BY u.id\n",
    "            HAVING COUNT(*) > 0)\n",
    "            \n",
    "SELECT DATE_TRUNC('month', p.creation_date)::date AS month,\n",
    "        COUNT(p.id) AS posts_num\n",
    "FROM stackoverflow.posts p \n",
    "JOIN usr u ON p.user_id = u.id \n",
    "GROUP BY month\n",
    "ORDER BY month DESC\n",
    ";"
   ]
  },
  {
   "cell_type": "markdown",
   "id": "4ba668df-7e1e-426b-b939-6dc6d8cc8f4b",
   "metadata": {},
   "source": [
    "#### Используя данные о постах, выведите несколько полей:\n",
    "\n",
    "- идентификатор пользователя, который написал пост;\n",
    "- дата создания поста;\n",
    "- количество просмотров у текущего поста;\n",
    "- сумма просмотров постов автора с накоплением.\n",
    "\n",
    "Данные в таблице должны быть отсортированы по возрастанию идентификаторов пользователей, а данные об одном и том же пользователе — по возрастанию даты создания поста."
   ]
  },
  {
   "cell_type": "code",
   "execution_count": null,
   "id": "dc728502-c9af-45f9-81f8-b3600348109e",
   "metadata": {},
   "outputs": [],
   "source": [
    "SELECT u.id, \n",
    "        p.creation_date, \n",
    "        p.views_count,\n",
    "        SUM(p.views_count) OVER(PARTITION BY u.id ORDER BY p.creation_date)\n",
    "FROM stackoverflow.users u \n",
    "JOIN stackoverflow.posts p ON u.id = p.user_id\n",
    "ORDER BY u.id\n",
    ";"
   ]
  },
  {
   "cell_type": "markdown",
   "id": "3ea1c96e-e73d-4e50-8adc-d8d96d1dd0d1",
   "metadata": {},
   "source": [
    "#### Сколько в среднем дней в период с 1 по 7 декабря 2008 года включительно пользователи взаимодействовали с платформой? \n",
    "\n",
    "Для каждого пользователя отберите дни, в которые он или она опубликовали хотя бы один пост. "
   ]
  },
  {
   "cell_type": "code",
   "execution_count": null,
   "id": "42b33f7f-9e93-4e6e-8ced-406200536fcc",
   "metadata": {},
   "outputs": [],
   "source": [
    "WITH d AS (SELECT u.id, COUNT(DISTINCT p.creation_date::date) AS days\n",
    "          FROM stackoverflow.users u \n",
    "          JOIN stackoverflow.posts p ON u.id = p.user_id\n",
    "          WHERE p.creation_date::date BETWEEN '2008-12-01' AND '2008-12-07'\n",
    "          GROUP BY u.id)\n",
    "          \n",
    "SELECT ROUND(AVG(days))\n",
    "FROM d\n",
    ";"
   ]
  },
  {
   "cell_type": "markdown",
   "id": "911fffc1-a5ad-43c4-a030-7c2134e3a61c",
   "metadata": {},
   "source": [
    "#### На сколько процентов менялось количество постов ежемесячно с 1 сентября по 31 декабря 2008 года? Отобразите таблицу со следующими полями:\n",
    "\n",
    "- Номер месяца.\n",
    "- Количество постов за месяц.\n",
    "- Процент, который показывает, насколько изменилось количество постов в текущем месяце по сравнению с предыдущим.\n",
    "\n"
   ]
  },
  {
   "cell_type": "code",
   "execution_count": null,
   "id": "a3018b58-e8c3-42d7-a62e-9782344285dc",
   "metadata": {},
   "outputs": [],
   "source": [
    "SELECT *,\n",
    "        ROUND((monthly_posts_amt * 100 / (LAG(monthly_posts_amt) OVER(ORDER BY month)::numeric)) - 100, 2) AS posts_delta\n",
    "FROM (SELECT EXTRACT(MONTH FROM creation_date) AS month, \n",
    "            COUNT(*) AS monthly_posts_amt\n",
    "    FROM stackoverflow.posts\n",
    "    WHERE DATE_TRUNC('day', creation_date)::date BETWEEN '2008-09-01' AND '2008-12-31'\n",
    "    GROUP BY month) tab\n",
    "\n",
    ";    "
   ]
  },
  {
   "cell_type": "markdown",
   "id": "47c92a37-b64b-4b99-ad05-25cf565c0051",
   "metadata": {},
   "source": [
    "#### Найдите пользователя, который опубликовал больше всего постов за всё время с момента регистрации. Выведите данные его активности за октябрь 2008 года в таком виде:\n",
    "\n",
    "- номер недели;\n",
    "- дата и время последнего поста, опубликованного на этой неделе."
   ]
  },
  {
   "cell_type": "code",
   "execution_count": null,
   "id": "f317462f-956a-4a28-b210-f2103bef4a7c",
   "metadata": {},
   "outputs": [],
   "source": [
    "WITH posts AS (SELECT  EXTRACT(WEEK FROM p.creation_date) AS week_num,\n",
    "                    p.creation_date,\n",
    "                    ROW_NUMBER() OVER(PARTITION BY DATE_TRUNC('week', p.creation_date)::date ORDER BY p.creation_date) AS last_post_num\n",
    "                   \n",
    "                FROM (SELECT u.id, \n",
    "                          COUNt(p.id) AS posts_num\n",
    "                      FROM stackoverflow.users u JOIN stackoverflow.posts p ON u.id = p.user_id\n",
    "                      GROUP BY u.id\n",
    "                      ORDER BY posts_num DESC\n",
    "                      LIMIT 1) usr \n",
    "                JOIN stackoverflow.posts p ON usr.id = p.user_id\n",
    "                WHERE DATE_TRUNC('day', p.creation_date) BETWEEN '2008-10-01' AND '2008-10-31')\n",
    "                \n",
    "SELECT week_num,\n",
    "        creation_date\n",
    "FROM (SELECT *,\n",
    "        MAX(last_post_num) OVER(PARTITION BY week_num)\n",
    "        FROM posts) tab\n",
    "WHERE  last_post_num = max\n",
    ";"
   ]
  },
  {
   "cell_type": "markdown",
   "id": "b3cdbd26-f951-4bce-8cdf-9097a2f52ace",
   "metadata": {},
   "source": [
    "## Общий вывод \n",
    "\n",
    "**Цель проекта**: закрепить и продемонстрировать навыки владения языком SQL.\n",
    "\n",
    "**Задача проекта**: выгрузить из базы необходимые наборы данных.\n",
    "\n",
    "**Вывод**: данные успешно выгружены и готовы к дальнейшей обработке и анализу."
   ]
  }
 ],
 "metadata": {
  "kernelspec": {
   "display_name": "Python 3 (ipykernel)",
   "language": "python",
   "name": "python3"
  },
  "language_info": {
   "codemirror_mode": {
    "name": "ipython",
    "version": 3
   },
   "file_extension": ".py",
   "mimetype": "text/x-python",
   "name": "python",
   "nbconvert_exporter": "python",
   "pygments_lexer": "ipython3",
   "version": "3.9.5"
  }
 },
 "nbformat": 4,
 "nbformat_minor": 5
}
