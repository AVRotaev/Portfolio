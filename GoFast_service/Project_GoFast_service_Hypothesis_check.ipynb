{
 "cells": [
  {
   "cell_type": "markdown",
   "id": "06e15d50",
   "metadata": {},
   "source": [
    "# Исследование сервиса аренды самокатов GoFast\n",
    "\n",
    "Вы аналитик популярного сервиса аренды самокатов GoFast. Вам передали данные о некоторых пользователях из нескольких городов, а также об их поездках. Проанализируйте данные и проверьте некоторые гипотезы, которые могут помочь бизнесу вырасти.\n",
    "Чтобы совершать поездки по городу, пользователи сервиса GoFast пользуются мобильным приложением. Сервисом можно пользоваться:\n",
    "\n",
    "1. Без подписки\n",
    "- абонентская плата отсутствует;\n",
    "- стоимость одной минуты поездки — 8 рублей;\n",
    "- стоимость старта (начала поездки) — 50 рублей;\n",
    "\n",
    "2. С подпиской Ultra\n",
    "- абонентская плата — 199 рублей в месяц;\n",
    "- стоимость одной минуты поездки — 6 рублей;\n",
    "- стоимость старта — бесплатно.\n",
    "\n",
    "# Описание данных\n",
    "\n",
    "В основных данных есть информация о пользователях, их поездках и подписках.\n",
    "\n",
    "Пользователи — users_go.csv\n",
    "\n",
    "- **user_id** - уникальный идентификатор пользователя\n",
    "- **name** - имя пользователя\n",
    "- **age** - возраст\n",
    "- **city** - город\n",
    "- **subscription_type** - тип подписки (free, ultra)\n",
    "\n",
    "\n",
    "Поездки — rides_go.csv\n",
    "\n",
    "- **user_id** - уникальный идентификатор пользователя\n",
    "- **distance** - расстояние, которое пользователь проехал в текущей сессии (в метрах)\n",
    "- **duration** - продолжительность сессии (в минутах) — время с того момента, как пользователь нажал кнопку «Начать поездку» до момента, как он нажал кнопку «Завершить поездку»\n",
    "- **date** - дата совершения поездки\n",
    "\n",
    "\n",
    "Подписки — subscriptions_go.csv\n",
    "\n",
    "- **subscription_type** - тип подписки\n",
    "- **minute_price** - стоимость одной минуты поездки по данной подписке\n",
    "- **start_ride_price** - стоимость начала поездки\n",
    "- **subscription_fee** - стоимость ежемесячного платежа\n"
   ]
  },
  {
   "cell_type": "code",
   "execution_count": 1,
   "id": "8a1a0a4e",
   "metadata": {},
   "outputs": [],
   "source": [
    "#импорт необходимых библиотек\n",
    "import pandas as pd\n",
    "\n",
    "import matplotlib.pyplot as plt\n",
    "\n",
    "import numpy as np\n",
    "\n",
    "from scipy import stats as st\n",
    "\n",
    "from scipy.stats import binom\n",
    "\n",
    "from math import sqrt"
   ]
  },
  {
   "cell_type": "markdown",
   "id": "a886ca06",
   "metadata": {},
   "source": [
    "#### Шаг 1. Загрузка данных"
   ]
  },
  {
   "cell_type": "markdown",
   "id": "6cb50766",
   "metadata": {},
   "source": [
    "Датасет **users_go**: загрузка, первые 20 строк, основная информация"
   ]
  },
  {
   "cell_type": "code",
   "execution_count": 2,
   "id": "724cd77c",
   "metadata": {},
   "outputs": [
    {
     "data": {
      "text/html": [
       "<div>\n",
       "<style scoped>\n",
       "    .dataframe tbody tr th:only-of-type {\n",
       "        vertical-align: middle;\n",
       "    }\n",
       "\n",
       "    .dataframe tbody tr th {\n",
       "        vertical-align: top;\n",
       "    }\n",
       "\n",
       "    .dataframe thead th {\n",
       "        text-align: right;\n",
       "    }\n",
       "</style>\n",
       "<table border=\"1\" class=\"dataframe\">\n",
       "  <thead>\n",
       "    <tr style=\"text-align: right;\">\n",
       "      <th></th>\n",
       "      <th>user_id</th>\n",
       "      <th>name</th>\n",
       "      <th>age</th>\n",
       "      <th>city</th>\n",
       "      <th>subscription_type</th>\n",
       "    </tr>\n",
       "  </thead>\n",
       "  <tbody>\n",
       "    <tr>\n",
       "      <th>0</th>\n",
       "      <td>1</td>\n",
       "      <td>Кира</td>\n",
       "      <td>22</td>\n",
       "      <td>Тюмень</td>\n",
       "      <td>ultra</td>\n",
       "    </tr>\n",
       "    <tr>\n",
       "      <th>1</th>\n",
       "      <td>2</td>\n",
       "      <td>Станислав</td>\n",
       "      <td>31</td>\n",
       "      <td>Омск</td>\n",
       "      <td>ultra</td>\n",
       "    </tr>\n",
       "    <tr>\n",
       "      <th>2</th>\n",
       "      <td>3</td>\n",
       "      <td>Алексей</td>\n",
       "      <td>20</td>\n",
       "      <td>Москва</td>\n",
       "      <td>ultra</td>\n",
       "    </tr>\n",
       "    <tr>\n",
       "      <th>3</th>\n",
       "      <td>4</td>\n",
       "      <td>Константин</td>\n",
       "      <td>26</td>\n",
       "      <td>Ростов-на-Дону</td>\n",
       "      <td>ultra</td>\n",
       "    </tr>\n",
       "    <tr>\n",
       "      <th>4</th>\n",
       "      <td>5</td>\n",
       "      <td>Адель</td>\n",
       "      <td>28</td>\n",
       "      <td>Омск</td>\n",
       "      <td>ultra</td>\n",
       "    </tr>\n",
       "    <tr>\n",
       "      <th>5</th>\n",
       "      <td>6</td>\n",
       "      <td>Регина</td>\n",
       "      <td>25</td>\n",
       "      <td>Краснодар</td>\n",
       "      <td>ultra</td>\n",
       "    </tr>\n",
       "    <tr>\n",
       "      <th>6</th>\n",
       "      <td>7</td>\n",
       "      <td>Игорь</td>\n",
       "      <td>23</td>\n",
       "      <td>Омск</td>\n",
       "      <td>ultra</td>\n",
       "    </tr>\n",
       "    <tr>\n",
       "      <th>7</th>\n",
       "      <td>8</td>\n",
       "      <td>Юрий</td>\n",
       "      <td>23</td>\n",
       "      <td>Краснодар</td>\n",
       "      <td>ultra</td>\n",
       "    </tr>\n",
       "    <tr>\n",
       "      <th>8</th>\n",
       "      <td>9</td>\n",
       "      <td>Ян</td>\n",
       "      <td>21</td>\n",
       "      <td>Пятигорск</td>\n",
       "      <td>ultra</td>\n",
       "    </tr>\n",
       "    <tr>\n",
       "      <th>9</th>\n",
       "      <td>10</td>\n",
       "      <td>Валерий</td>\n",
       "      <td>18</td>\n",
       "      <td>Екатеринбург</td>\n",
       "      <td>ultra</td>\n",
       "    </tr>\n",
       "    <tr>\n",
       "      <th>10</th>\n",
       "      <td>11</td>\n",
       "      <td>Агата</td>\n",
       "      <td>31</td>\n",
       "      <td>Краснодар</td>\n",
       "      <td>ultra</td>\n",
       "    </tr>\n",
       "    <tr>\n",
       "      <th>11</th>\n",
       "      <td>12</td>\n",
       "      <td>Марк</td>\n",
       "      <td>27</td>\n",
       "      <td>Тюмень</td>\n",
       "      <td>ultra</td>\n",
       "    </tr>\n",
       "    <tr>\n",
       "      <th>12</th>\n",
       "      <td>13</td>\n",
       "      <td>Ева</td>\n",
       "      <td>24</td>\n",
       "      <td>Краснодар</td>\n",
       "      <td>ultra</td>\n",
       "    </tr>\n",
       "    <tr>\n",
       "      <th>13</th>\n",
       "      <td>14</td>\n",
       "      <td>Антонина</td>\n",
       "      <td>18</td>\n",
       "      <td>Пятигорск</td>\n",
       "      <td>ultra</td>\n",
       "    </tr>\n",
       "    <tr>\n",
       "      <th>14</th>\n",
       "      <td>15</td>\n",
       "      <td>Валерия</td>\n",
       "      <td>24</td>\n",
       "      <td>Тюмень</td>\n",
       "      <td>ultra</td>\n",
       "    </tr>\n",
       "    <tr>\n",
       "      <th>15</th>\n",
       "      <td>16</td>\n",
       "      <td>Амалия</td>\n",
       "      <td>27</td>\n",
       "      <td>Краснодар</td>\n",
       "      <td>ultra</td>\n",
       "    </tr>\n",
       "    <tr>\n",
       "      <th>16</th>\n",
       "      <td>17</td>\n",
       "      <td>Даниил</td>\n",
       "      <td>29</td>\n",
       "      <td>Москва</td>\n",
       "      <td>ultra</td>\n",
       "    </tr>\n",
       "    <tr>\n",
       "      <th>17</th>\n",
       "      <td>18</td>\n",
       "      <td>Аделина</td>\n",
       "      <td>24</td>\n",
       "      <td>Сочи</td>\n",
       "      <td>ultra</td>\n",
       "    </tr>\n",
       "    <tr>\n",
       "      <th>18</th>\n",
       "      <td>19</td>\n",
       "      <td>Регина</td>\n",
       "      <td>32</td>\n",
       "      <td>Тюмень</td>\n",
       "      <td>ultra</td>\n",
       "    </tr>\n",
       "    <tr>\n",
       "      <th>19</th>\n",
       "      <td>20</td>\n",
       "      <td>Игорь</td>\n",
       "      <td>23</td>\n",
       "      <td>Омск</td>\n",
       "      <td>ultra</td>\n",
       "    </tr>\n",
       "  </tbody>\n",
       "</table>\n",
       "</div>"
      ],
      "text/plain": [
       "    user_id        name  age            city subscription_type\n",
       "0         1        Кира   22          Тюмень             ultra\n",
       "1         2   Станислав   31            Омск             ultra\n",
       "2         3     Алексей   20          Москва             ultra\n",
       "3         4  Константин   26  Ростов-на-Дону             ultra\n",
       "4         5       Адель   28            Омск             ultra\n",
       "5         6      Регина   25       Краснодар             ultra\n",
       "6         7       Игорь   23            Омск             ultra\n",
       "7         8        Юрий   23       Краснодар             ultra\n",
       "8         9          Ян   21       Пятигорск             ultra\n",
       "9        10     Валерий   18    Екатеринбург             ultra\n",
       "10       11       Агата   31       Краснодар             ultra\n",
       "11       12        Марк   27          Тюмень             ultra\n",
       "12       13         Ева   24       Краснодар             ultra\n",
       "13       14    Антонина   18       Пятигорск             ultra\n",
       "14       15     Валерия   24          Тюмень             ultra\n",
       "15       16      Амалия   27       Краснодар             ultra\n",
       "16       17      Даниил   29          Москва             ultra\n",
       "17       18     Аделина   24            Сочи             ultra\n",
       "18       19      Регина   32          Тюмень             ultra\n",
       "19       20       Игорь   23            Омск             ultra"
      ]
     },
     "execution_count": 2,
     "metadata": {},
     "output_type": "execute_result"
    }
   ],
   "source": [
    "#загрузка датасета users_go\n",
    "data_users = pd.read_csv('users_go.csv')\n",
    "\n",
    "#первые 20 строк\n",
    "data_users.head(20)"
   ]
  },
  {
   "cell_type": "code",
   "execution_count": 3,
   "id": "943592ed",
   "metadata": {},
   "outputs": [
    {
     "name": "stdout",
     "output_type": "stream",
     "text": [
      "<class 'pandas.core.frame.DataFrame'>\n",
      "RangeIndex: 1565 entries, 0 to 1564\n",
      "Data columns (total 5 columns):\n",
      " #   Column             Non-Null Count  Dtype \n",
      "---  ------             --------------  ----- \n",
      " 0   user_id            1565 non-null   int64 \n",
      " 1   name               1565 non-null   object\n",
      " 2   age                1565 non-null   int64 \n",
      " 3   city               1565 non-null   object\n",
      " 4   subscription_type  1565 non-null   object\n",
      "dtypes: int64(2), object(3)\n",
      "memory usage: 61.3+ KB\n"
     ]
    }
   ],
   "source": [
    "#общая информация о датасете\n",
    "data_users.info()"
   ]
  },
  {
   "cell_type": "markdown",
   "id": "218c54fe",
   "metadata": {},
   "source": [
    "Данные в таблице отображаются достаточно корректно.\n",
    "\n",
    "Явных дубликатов среди первых 20 строк нет. \n",
    "\n",
    "Пропусков нет."
   ]
  },
  {
   "cell_type": "markdown",
   "id": "3cf58f61",
   "metadata": {},
   "source": [
    "Датасет **rides_go**: загрузка, первые 20 строк, основная информация"
   ]
  },
  {
   "cell_type": "code",
   "execution_count": 4,
   "id": "b60a8d8d",
   "metadata": {},
   "outputs": [
    {
     "data": {
      "text/html": [
       "<div>\n",
       "<style scoped>\n",
       "    .dataframe tbody tr th:only-of-type {\n",
       "        vertical-align: middle;\n",
       "    }\n",
       "\n",
       "    .dataframe tbody tr th {\n",
       "        vertical-align: top;\n",
       "    }\n",
       "\n",
       "    .dataframe thead th {\n",
       "        text-align: right;\n",
       "    }\n",
       "</style>\n",
       "<table border=\"1\" class=\"dataframe\">\n",
       "  <thead>\n",
       "    <tr style=\"text-align: right;\">\n",
       "      <th></th>\n",
       "      <th>user_id</th>\n",
       "      <th>distance</th>\n",
       "      <th>duration</th>\n",
       "      <th>date</th>\n",
       "    </tr>\n",
       "  </thead>\n",
       "  <tbody>\n",
       "    <tr>\n",
       "      <th>0</th>\n",
       "      <td>1</td>\n",
       "      <td>4409.919140</td>\n",
       "      <td>25.599769</td>\n",
       "      <td>2021-01-01</td>\n",
       "    </tr>\n",
       "    <tr>\n",
       "      <th>1</th>\n",
       "      <td>1</td>\n",
       "      <td>2617.592153</td>\n",
       "      <td>15.816871</td>\n",
       "      <td>2021-01-18</td>\n",
       "    </tr>\n",
       "    <tr>\n",
       "      <th>2</th>\n",
       "      <td>1</td>\n",
       "      <td>754.159807</td>\n",
       "      <td>6.232113</td>\n",
       "      <td>2021-04-20</td>\n",
       "    </tr>\n",
       "    <tr>\n",
       "      <th>3</th>\n",
       "      <td>1</td>\n",
       "      <td>2694.783254</td>\n",
       "      <td>18.511000</td>\n",
       "      <td>2021-08-11</td>\n",
       "    </tr>\n",
       "    <tr>\n",
       "      <th>4</th>\n",
       "      <td>1</td>\n",
       "      <td>4028.687306</td>\n",
       "      <td>26.265803</td>\n",
       "      <td>2021-08-28</td>\n",
       "    </tr>\n",
       "    <tr>\n",
       "      <th>5</th>\n",
       "      <td>1</td>\n",
       "      <td>2770.890808</td>\n",
       "      <td>16.650138</td>\n",
       "      <td>2021-10-09</td>\n",
       "    </tr>\n",
       "    <tr>\n",
       "      <th>6</th>\n",
       "      <td>1</td>\n",
       "      <td>3039.020292</td>\n",
       "      <td>14.927879</td>\n",
       "      <td>2021-10-19</td>\n",
       "    </tr>\n",
       "    <tr>\n",
       "      <th>7</th>\n",
       "      <td>1</td>\n",
       "      <td>2842.118050</td>\n",
       "      <td>23.117468</td>\n",
       "      <td>2021-11-06</td>\n",
       "    </tr>\n",
       "    <tr>\n",
       "      <th>8</th>\n",
       "      <td>1</td>\n",
       "      <td>3412.690668</td>\n",
       "      <td>15.238072</td>\n",
       "      <td>2021-11-14</td>\n",
       "    </tr>\n",
       "    <tr>\n",
       "      <th>9</th>\n",
       "      <td>1</td>\n",
       "      <td>748.690645</td>\n",
       "      <td>15.041884</td>\n",
       "      <td>2021-11-22</td>\n",
       "    </tr>\n",
       "    <tr>\n",
       "      <th>10</th>\n",
       "      <td>1</td>\n",
       "      <td>4031.020195</td>\n",
       "      <td>17.674448</td>\n",
       "      <td>2021-12-14</td>\n",
       "    </tr>\n",
       "    <tr>\n",
       "      <th>11</th>\n",
       "      <td>1</td>\n",
       "      <td>2720.609748</td>\n",
       "      <td>9.529463</td>\n",
       "      <td>2021-12-22</td>\n",
       "    </tr>\n",
       "    <tr>\n",
       "      <th>12</th>\n",
       "      <td>2</td>\n",
       "      <td>3105.086678</td>\n",
       "      <td>24.307514</td>\n",
       "      <td>2021-03-15</td>\n",
       "    </tr>\n",
       "    <tr>\n",
       "      <th>13</th>\n",
       "      <td>2</td>\n",
       "      <td>3053.519401</td>\n",
       "      <td>11.543256</td>\n",
       "      <td>2021-03-18</td>\n",
       "    </tr>\n",
       "    <tr>\n",
       "      <th>14</th>\n",
       "      <td>2</td>\n",
       "      <td>4029.116927</td>\n",
       "      <td>25.109188</td>\n",
       "      <td>2021-03-23</td>\n",
       "    </tr>\n",
       "    <tr>\n",
       "      <th>15</th>\n",
       "      <td>2</td>\n",
       "      <td>2805.786329</td>\n",
       "      <td>20.652145</td>\n",
       "      <td>2021-04-08</td>\n",
       "    </tr>\n",
       "    <tr>\n",
       "      <th>16</th>\n",
       "      <td>2</td>\n",
       "      <td>3358.595495</td>\n",
       "      <td>18.396489</td>\n",
       "      <td>2021-04-13</td>\n",
       "    </tr>\n",
       "    <tr>\n",
       "      <th>17</th>\n",
       "      <td>2</td>\n",
       "      <td>3255.338202</td>\n",
       "      <td>13.851127</td>\n",
       "      <td>2021-06-20</td>\n",
       "    </tr>\n",
       "    <tr>\n",
       "      <th>18</th>\n",
       "      <td>2</td>\n",
       "      <td>3942.817648</td>\n",
       "      <td>20.142725</td>\n",
       "      <td>2021-07-02</td>\n",
       "    </tr>\n",
       "    <tr>\n",
       "      <th>19</th>\n",
       "      <td>2</td>\n",
       "      <td>2837.905316</td>\n",
       "      <td>26.027432</td>\n",
       "      <td>2021-07-18</td>\n",
       "    </tr>\n",
       "  </tbody>\n",
       "</table>\n",
       "</div>"
      ],
      "text/plain": [
       "    user_id     distance   duration        date\n",
       "0         1  4409.919140  25.599769  2021-01-01\n",
       "1         1  2617.592153  15.816871  2021-01-18\n",
       "2         1   754.159807   6.232113  2021-04-20\n",
       "3         1  2694.783254  18.511000  2021-08-11\n",
       "4         1  4028.687306  26.265803  2021-08-28\n",
       "5         1  2770.890808  16.650138  2021-10-09\n",
       "6         1  3039.020292  14.927879  2021-10-19\n",
       "7         1  2842.118050  23.117468  2021-11-06\n",
       "8         1  3412.690668  15.238072  2021-11-14\n",
       "9         1   748.690645  15.041884  2021-11-22\n",
       "10        1  4031.020195  17.674448  2021-12-14\n",
       "11        1  2720.609748   9.529463  2021-12-22\n",
       "12        2  3105.086678  24.307514  2021-03-15\n",
       "13        2  3053.519401  11.543256  2021-03-18\n",
       "14        2  4029.116927  25.109188  2021-03-23\n",
       "15        2  2805.786329  20.652145  2021-04-08\n",
       "16        2  3358.595495  18.396489  2021-04-13\n",
       "17        2  3255.338202  13.851127  2021-06-20\n",
       "18        2  3942.817648  20.142725  2021-07-02\n",
       "19        2  2837.905316  26.027432  2021-07-18"
      ]
     },
     "execution_count": 4,
     "metadata": {},
     "output_type": "execute_result"
    }
   ],
   "source": [
    "#загрузка датасета rides_go\n",
    "data_rides = pd.read_csv('rides_go.csv')\n",
    "\n",
    "#первые 20 строк\n",
    "data_rides.head(20)"
   ]
  },
  {
   "cell_type": "code",
   "execution_count": 5,
   "id": "dfc1b39b",
   "metadata": {},
   "outputs": [
    {
     "name": "stdout",
     "output_type": "stream",
     "text": [
      "<class 'pandas.core.frame.DataFrame'>\n",
      "RangeIndex: 18068 entries, 0 to 18067\n",
      "Data columns (total 4 columns):\n",
      " #   Column    Non-Null Count  Dtype  \n",
      "---  ------    --------------  -----  \n",
      " 0   user_id   18068 non-null  int64  \n",
      " 1   distance  18068 non-null  float64\n",
      " 2   duration  18068 non-null  float64\n",
      " 3   date      18068 non-null  object \n",
      "dtypes: float64(2), int64(1), object(1)\n",
      "memory usage: 564.8+ KB\n"
     ]
    }
   ],
   "source": [
    "#общая информация о датасете\n",
    "data_rides.info()"
   ]
  },
  {
   "cell_type": "markdown",
   "id": "5c2e9e45",
   "metadata": {},
   "source": [
    "Данные в таблице отображаются достаточно корректно.\n",
    "\n",
    "Явных дубликатов среди первых 20 строк нет. \n",
    "\n",
    "Пропусков нет.\n",
    "\n",
    "На этапе предобработки необходимо привести столбец **date** к типу datetime."
   ]
  },
  {
   "cell_type": "markdown",
   "id": "b2e28b34",
   "metadata": {},
   "source": [
    "Датасет **subscriptions_go**: загрузка, первые 20 строк, основная информация"
   ]
  },
  {
   "cell_type": "code",
   "execution_count": 6,
   "id": "69c355eb",
   "metadata": {},
   "outputs": [
    {
     "data": {
      "text/html": [
       "<div>\n",
       "<style scoped>\n",
       "    .dataframe tbody tr th:only-of-type {\n",
       "        vertical-align: middle;\n",
       "    }\n",
       "\n",
       "    .dataframe tbody tr th {\n",
       "        vertical-align: top;\n",
       "    }\n",
       "\n",
       "    .dataframe thead th {\n",
       "        text-align: right;\n",
       "    }\n",
       "</style>\n",
       "<table border=\"1\" class=\"dataframe\">\n",
       "  <thead>\n",
       "    <tr style=\"text-align: right;\">\n",
       "      <th></th>\n",
       "      <th>subscription_type</th>\n",
       "      <th>minute_price</th>\n",
       "      <th>start_ride_price</th>\n",
       "      <th>subscription_fee</th>\n",
       "    </tr>\n",
       "  </thead>\n",
       "  <tbody>\n",
       "    <tr>\n",
       "      <th>0</th>\n",
       "      <td>free</td>\n",
       "      <td>8</td>\n",
       "      <td>50</td>\n",
       "      <td>0</td>\n",
       "    </tr>\n",
       "    <tr>\n",
       "      <th>1</th>\n",
       "      <td>ultra</td>\n",
       "      <td>6</td>\n",
       "      <td>0</td>\n",
       "      <td>199</td>\n",
       "    </tr>\n",
       "  </tbody>\n",
       "</table>\n",
       "</div>"
      ],
      "text/plain": [
       "  subscription_type  minute_price  start_ride_price  subscription_fee\n",
       "0              free             8                50                 0\n",
       "1             ultra             6                 0               199"
      ]
     },
     "execution_count": 6,
     "metadata": {},
     "output_type": "execute_result"
    }
   ],
   "source": [
    "#загрузка датасета subscriptions_go\n",
    "data_subs = pd.read_csv('subscriptions_go.csv')\n",
    "\n",
    "#первые 20 строк\n",
    "data_subs.head(20)"
   ]
  },
  {
   "cell_type": "code",
   "execution_count": 7,
   "id": "ef367b4a",
   "metadata": {},
   "outputs": [
    {
     "name": "stdout",
     "output_type": "stream",
     "text": [
      "<class 'pandas.core.frame.DataFrame'>\n",
      "RangeIndex: 2 entries, 0 to 1\n",
      "Data columns (total 4 columns):\n",
      " #   Column             Non-Null Count  Dtype \n",
      "---  ------             --------------  ----- \n",
      " 0   subscription_type  2 non-null      object\n",
      " 1   minute_price       2 non-null      int64 \n",
      " 2   start_ride_price   2 non-null      int64 \n",
      " 3   subscription_fee   2 non-null      int64 \n",
      "dtypes: int64(3), object(1)\n",
      "memory usage: 192.0+ bytes\n"
     ]
    }
   ],
   "source": [
    "#общая информация о датасете\n",
    "data_subs.info()"
   ]
  },
  {
   "cell_type": "markdown",
   "id": "c187010d",
   "metadata": {},
   "source": [
    "Данные в таблице отображаются достаточно корректно.\n",
    "\n",
    "Явных дубликатов среди первых 20 строк нет. \n",
    "\n",
    "Пропусков нет."
   ]
  },
  {
   "cell_type": "markdown",
   "id": "1878ec09",
   "metadata": {},
   "source": [
    "#### Шаг 2. Предобработка данных"
   ]
  },
  {
   "cell_type": "markdown",
   "id": "dbba249b",
   "metadata": {},
   "source": [
    "##### Обработка столбцов датафрейма data_rides"
   ]
  },
  {
   "cell_type": "code",
   "execution_count": 8,
   "id": "40ca686b",
   "metadata": {},
   "outputs": [
    {
     "name": "stdout",
     "output_type": "stream",
     "text": [
      "<class 'pandas.core.frame.DataFrame'>\n",
      "RangeIndex: 18068 entries, 0 to 18067\n",
      "Data columns (total 4 columns):\n",
      " #   Column    Non-Null Count  Dtype         \n",
      "---  ------    --------------  -----         \n",
      " 0   user_id   18068 non-null  int64         \n",
      " 1   distance  18068 non-null  float64       \n",
      " 2   duration  18068 non-null  float64       \n",
      " 3   date      18068 non-null  datetime64[ns]\n",
      "dtypes: datetime64[ns](1), float64(2), int64(1)\n",
      "memory usage: 564.8 KB\n"
     ]
    }
   ],
   "source": [
    "#приведение столбца date к типу datetime\n",
    "data_rides['date'] = pd.to_datetime(\n",
    "    data_rides['date'], format='%Y-%m-%d'\n",
    "    )\n",
    "\n",
    "#проверка\n",
    "data_rides.info()"
   ]
  },
  {
   "cell_type": "markdown",
   "id": "e11fa83d",
   "metadata": {},
   "source": [
    "##### Создание нового столбца с номером месяца на основе столбца **date**"
   ]
  },
  {
   "cell_type": "code",
   "execution_count": 9,
   "id": "3b4812d6",
   "metadata": {},
   "outputs": [
    {
     "data": {
      "text/html": [
       "<div>\n",
       "<style scoped>\n",
       "    .dataframe tbody tr th:only-of-type {\n",
       "        vertical-align: middle;\n",
       "    }\n",
       "\n",
       "    .dataframe tbody tr th {\n",
       "        vertical-align: top;\n",
       "    }\n",
       "\n",
       "    .dataframe thead th {\n",
       "        text-align: right;\n",
       "    }\n",
       "</style>\n",
       "<table border=\"1\" class=\"dataframe\">\n",
       "  <thead>\n",
       "    <tr style=\"text-align: right;\">\n",
       "      <th></th>\n",
       "      <th>user_id</th>\n",
       "      <th>distance</th>\n",
       "      <th>duration</th>\n",
       "      <th>date</th>\n",
       "      <th>month</th>\n",
       "    </tr>\n",
       "  </thead>\n",
       "  <tbody>\n",
       "    <tr>\n",
       "      <th>0</th>\n",
       "      <td>1</td>\n",
       "      <td>4409.919140</td>\n",
       "      <td>25.599769</td>\n",
       "      <td>2021-01-01</td>\n",
       "      <td>1</td>\n",
       "    </tr>\n",
       "    <tr>\n",
       "      <th>1</th>\n",
       "      <td>1</td>\n",
       "      <td>2617.592153</td>\n",
       "      <td>15.816871</td>\n",
       "      <td>2021-01-18</td>\n",
       "      <td>1</td>\n",
       "    </tr>\n",
       "    <tr>\n",
       "      <th>2</th>\n",
       "      <td>1</td>\n",
       "      <td>754.159807</td>\n",
       "      <td>6.232113</td>\n",
       "      <td>2021-04-20</td>\n",
       "      <td>4</td>\n",
       "    </tr>\n",
       "    <tr>\n",
       "      <th>3</th>\n",
       "      <td>1</td>\n",
       "      <td>2694.783254</td>\n",
       "      <td>18.511000</td>\n",
       "      <td>2021-08-11</td>\n",
       "      <td>8</td>\n",
       "    </tr>\n",
       "    <tr>\n",
       "      <th>4</th>\n",
       "      <td>1</td>\n",
       "      <td>4028.687306</td>\n",
       "      <td>26.265803</td>\n",
       "      <td>2021-08-28</td>\n",
       "      <td>8</td>\n",
       "    </tr>\n",
       "    <tr>\n",
       "      <th>5</th>\n",
       "      <td>1</td>\n",
       "      <td>2770.890808</td>\n",
       "      <td>16.650138</td>\n",
       "      <td>2021-10-09</td>\n",
       "      <td>10</td>\n",
       "    </tr>\n",
       "    <tr>\n",
       "      <th>6</th>\n",
       "      <td>1</td>\n",
       "      <td>3039.020292</td>\n",
       "      <td>14.927879</td>\n",
       "      <td>2021-10-19</td>\n",
       "      <td>10</td>\n",
       "    </tr>\n",
       "    <tr>\n",
       "      <th>7</th>\n",
       "      <td>1</td>\n",
       "      <td>2842.118050</td>\n",
       "      <td>23.117468</td>\n",
       "      <td>2021-11-06</td>\n",
       "      <td>11</td>\n",
       "    </tr>\n",
       "    <tr>\n",
       "      <th>8</th>\n",
       "      <td>1</td>\n",
       "      <td>3412.690668</td>\n",
       "      <td>15.238072</td>\n",
       "      <td>2021-11-14</td>\n",
       "      <td>11</td>\n",
       "    </tr>\n",
       "    <tr>\n",
       "      <th>9</th>\n",
       "      <td>1</td>\n",
       "      <td>748.690645</td>\n",
       "      <td>15.041884</td>\n",
       "      <td>2021-11-22</td>\n",
       "      <td>11</td>\n",
       "    </tr>\n",
       "    <tr>\n",
       "      <th>10</th>\n",
       "      <td>1</td>\n",
       "      <td>4031.020195</td>\n",
       "      <td>17.674448</td>\n",
       "      <td>2021-12-14</td>\n",
       "      <td>12</td>\n",
       "    </tr>\n",
       "    <tr>\n",
       "      <th>11</th>\n",
       "      <td>1</td>\n",
       "      <td>2720.609748</td>\n",
       "      <td>9.529463</td>\n",
       "      <td>2021-12-22</td>\n",
       "      <td>12</td>\n",
       "    </tr>\n",
       "    <tr>\n",
       "      <th>12</th>\n",
       "      <td>2</td>\n",
       "      <td>3105.086678</td>\n",
       "      <td>24.307514</td>\n",
       "      <td>2021-03-15</td>\n",
       "      <td>3</td>\n",
       "    </tr>\n",
       "    <tr>\n",
       "      <th>13</th>\n",
       "      <td>2</td>\n",
       "      <td>3053.519401</td>\n",
       "      <td>11.543256</td>\n",
       "      <td>2021-03-18</td>\n",
       "      <td>3</td>\n",
       "    </tr>\n",
       "    <tr>\n",
       "      <th>14</th>\n",
       "      <td>2</td>\n",
       "      <td>4029.116927</td>\n",
       "      <td>25.109188</td>\n",
       "      <td>2021-03-23</td>\n",
       "      <td>3</td>\n",
       "    </tr>\n",
       "    <tr>\n",
       "      <th>15</th>\n",
       "      <td>2</td>\n",
       "      <td>2805.786329</td>\n",
       "      <td>20.652145</td>\n",
       "      <td>2021-04-08</td>\n",
       "      <td>4</td>\n",
       "    </tr>\n",
       "    <tr>\n",
       "      <th>16</th>\n",
       "      <td>2</td>\n",
       "      <td>3358.595495</td>\n",
       "      <td>18.396489</td>\n",
       "      <td>2021-04-13</td>\n",
       "      <td>4</td>\n",
       "    </tr>\n",
       "    <tr>\n",
       "      <th>17</th>\n",
       "      <td>2</td>\n",
       "      <td>3255.338202</td>\n",
       "      <td>13.851127</td>\n",
       "      <td>2021-06-20</td>\n",
       "      <td>6</td>\n",
       "    </tr>\n",
       "    <tr>\n",
       "      <th>18</th>\n",
       "      <td>2</td>\n",
       "      <td>3942.817648</td>\n",
       "      <td>20.142725</td>\n",
       "      <td>2021-07-02</td>\n",
       "      <td>7</td>\n",
       "    </tr>\n",
       "    <tr>\n",
       "      <th>19</th>\n",
       "      <td>2</td>\n",
       "      <td>2837.905316</td>\n",
       "      <td>26.027432</td>\n",
       "      <td>2021-07-18</td>\n",
       "      <td>7</td>\n",
       "    </tr>\n",
       "  </tbody>\n",
       "</table>\n",
       "</div>"
      ],
      "text/plain": [
       "    user_id     distance   duration       date  month\n",
       "0         1  4409.919140  25.599769 2021-01-01      1\n",
       "1         1  2617.592153  15.816871 2021-01-18      1\n",
       "2         1   754.159807   6.232113 2021-04-20      4\n",
       "3         1  2694.783254  18.511000 2021-08-11      8\n",
       "4         1  4028.687306  26.265803 2021-08-28      8\n",
       "5         1  2770.890808  16.650138 2021-10-09     10\n",
       "6         1  3039.020292  14.927879 2021-10-19     10\n",
       "7         1  2842.118050  23.117468 2021-11-06     11\n",
       "8         1  3412.690668  15.238072 2021-11-14     11\n",
       "9         1   748.690645  15.041884 2021-11-22     11\n",
       "10        1  4031.020195  17.674448 2021-12-14     12\n",
       "11        1  2720.609748   9.529463 2021-12-22     12\n",
       "12        2  3105.086678  24.307514 2021-03-15      3\n",
       "13        2  3053.519401  11.543256 2021-03-18      3\n",
       "14        2  4029.116927  25.109188 2021-03-23      3\n",
       "15        2  2805.786329  20.652145 2021-04-08      4\n",
       "16        2  3358.595495  18.396489 2021-04-13      4\n",
       "17        2  3255.338202  13.851127 2021-06-20      6\n",
       "18        2  3942.817648  20.142725 2021-07-02      7\n",
       "19        2  2837.905316  26.027432 2021-07-18      7"
      ]
     },
     "execution_count": 9,
     "metadata": {},
     "output_type": "execute_result"
    }
   ],
   "source": [
    "#создание столбца\n",
    "data_rides.insert(\n",
    "    loc=data_rides.columns.get_loc('date')+1,\n",
    "    column = 'month',\n",
    "    value=pd.Series(data=data_rides['date'].dt.month,\n",
    "      dtype='int')\n",
    "    )\n",
    "\n",
    "#вывод датафрейма с сновым столбцом\n",
    "data_rides.head(20)"
   ]
  },
  {
   "cell_type": "markdown",
   "id": "776a129f",
   "metadata": {},
   "source": [
    "Проверим, за какой период есть данные в датасете."
   ]
  },
  {
   "cell_type": "code",
   "execution_count": 10,
   "id": "7ef84078",
   "metadata": {},
   "outputs": [
    {
     "data": {
      "text/plain": [
       "array([2021], dtype=int64)"
      ]
     },
     "execution_count": 10,
     "metadata": {},
     "output_type": "execute_result"
    }
   ],
   "source": [
    "data_rides['date'].dt.year.unique()"
   ]
  },
  {
   "cell_type": "markdown",
   "id": "34fc3e45",
   "metadata": {},
   "source": [
    "В датасете данные только за один 2021 год, а значит, при вычислении помесячной выручки в п. 5.2 год можно не учитывать."
   ]
  },
  {
   "cell_type": "markdown",
   "id": "fbf0d7f1",
   "metadata": {},
   "source": [
    "##### Проверка на наличие дубликатов"
   ]
  },
  {
   "cell_type": "markdown",
   "id": "668eaeb1",
   "metadata": {},
   "source": [
    "Наличие явных дубликатов в датафреймах."
   ]
  },
  {
   "cell_type": "code",
   "execution_count": 11,
   "id": "1e4681c8",
   "metadata": {},
   "outputs": [
    {
     "name": "stdout",
     "output_type": "stream",
     "text": [
      "Дубликатов в датафрейме data_users: 31 \n",
      " \n",
      " Дубликатов в датафрейме data_rides: 0 \n",
      " \n",
      " Дубликатов в датафрейме data_subs: 0\n"
     ]
    }
   ],
   "source": [
    "print(\n",
    "    f'Дубликатов в датафрейме data_users: {data_users.duplicated().sum()}',\n",
    "    '\\n', '\\n',\n",
    "    f'Дубликатов в датафрейме data_rides: {data_rides.duplicated().sum()}',\n",
    "    '\\n', '\\n',\n",
    "    f'Дубликатов в датафрейме data_subs: {data_subs.duplicated().sum()}'\n",
    ")"
   ]
  },
  {
   "cell_type": "markdown",
   "id": "aa7d04a1",
   "metadata": {},
   "source": [
    "Удаление дублирующихся строк в датафрейме **data_users**."
   ]
  },
  {
   "cell_type": "code",
   "execution_count": 12,
   "id": "b60d1577",
   "metadata": {},
   "outputs": [],
   "source": [
    "data_users = data_users.drop_duplicates()"
   ]
  },
  {
   "cell_type": "markdown",
   "id": "52e84dfa",
   "metadata": {},
   "source": [
    "Неявные дубликаты возможны в столбце **city** датафрейма **data_users**. Проверим значения столбца."
   ]
  },
  {
   "cell_type": "code",
   "execution_count": 13,
   "id": "ab844599",
   "metadata": {},
   "outputs": [
    {
     "data": {
      "text/plain": [
       "array(['Екатеринбург', 'Краснодар', 'Москва', 'Омск', 'Пятигорск',\n",
       "       'Ростов-на-Дону', 'Сочи', 'Тюмень'], dtype=object)"
      ]
     },
     "execution_count": 13,
     "metadata": {},
     "output_type": "execute_result"
    }
   ],
   "source": [
    "data_users['city'].sort_values().unique()"
   ]
  },
  {
   "cell_type": "markdown",
   "id": "0308ca82",
   "metadata": {},
   "source": [
    "Дубликатов нет."
   ]
  },
  {
   "cell_type": "markdown",
   "id": "ef14def9",
   "metadata": {},
   "source": [
    "Проверим на наличие явно ошибочных значений следующие столбцы.\n",
    "\n",
    "Для датафрейма **data_users**:\n",
    " - **name**\n",
    " - **age**\n",
    " - **subscription_type**\n",
    " \n",
    "Для этого выведем уникальные значения каждого столбца."
   ]
  },
  {
   "cell_type": "code",
   "execution_count": 14,
   "id": "6fe9a714",
   "metadata": {},
   "outputs": [
    {
     "data": {
      "text/plain": [
       "array(['Агата', 'Аделина', 'Адель', 'Айдар', 'Александр', 'Александра',\n",
       "       'Алексей', 'Алина', 'Алиса', 'Алия', 'Алла', 'Альберт', 'Альбина',\n",
       "       'Алёна', 'Амалия', 'Амина', 'Амир', 'Анастасия', 'Анатолий',\n",
       "       'Ангелина', 'Андрей', 'Анжелика', 'Анна', 'Антон', 'Антонина',\n",
       "       'Ариана', 'Арина', 'Арсен', 'Арсений', 'Артемий', 'Артур', 'Артём',\n",
       "       'Богдан', 'Борис', 'Вадим', 'Валентина', 'Валерий', 'Валерия',\n",
       "       'Варвара', 'Василий', 'Василина', 'Василиса', 'Вера', 'Вероника',\n",
       "       'Виктор', 'Виктория', 'Виолетта', 'Виталий', 'Виталина', 'Влад',\n",
       "       'Влада', 'Владимир', 'Владислав', 'Владислава', 'Всеволод',\n",
       "       'Вячеслав', 'Галина', 'Георгий', 'Герман', 'Глеб', 'Гордей',\n",
       "       'Григорий', 'Давид', 'Дамир', 'Даниил', 'Данил', 'Данила',\n",
       "       'Даниэль', 'Дарина', 'Дарья', 'Демид', 'Денис', 'Диана', 'Дмитрий',\n",
       "       'Ева', 'Евгений', 'Евгения', 'Егор', 'Екатерина', 'Елена',\n",
       "       'Елизавета', 'Елисей', 'Есения', 'Жанна', 'Зарина', 'Захар',\n",
       "       'Злата', 'Иван', 'Игнат', 'Игорь', 'Ильдар', 'Илья', 'Инна',\n",
       "       'Ирина', 'Камилла', 'Карина', 'Каролина', 'Кира', 'Кирилл',\n",
       "       'Константин', 'Кристина', 'Ксения', 'Лариса', 'Лев', 'Леонид',\n",
       "       'Лиана', 'Лидия', 'Лилия', 'Любовь', 'Людмила', 'Мадина', 'Майя',\n",
       "       'Макар', 'Максим', 'Марат', 'Маргарита', 'Марина', 'Мария', 'Марк',\n",
       "       'Марсель', 'Матвей', 'Мелания', 'Милана', 'Милена', 'Мирон',\n",
       "       'Мирослав', 'Мирослава', 'Михаил', 'Назар', 'Наталия', 'Наталья',\n",
       "       'Наташа', 'Нелли', 'Ника', 'Никита', 'Николай', 'Нина', 'Одиссей',\n",
       "       'Оксана', 'Олег', 'Олеся', 'Ольга', 'Павел', 'Петр', 'Платон',\n",
       "       'Полина', 'Радмир', 'Рамиль', 'Регина', 'Роберт', 'Родион',\n",
       "       'Роман', 'Ростислав', 'Руслан', 'Рустам', 'Савелий', 'Самир',\n",
       "       'Самира', 'Светлана', 'Святогор', 'Святослав', 'Семен', 'Сергей',\n",
       "       'Снежана', 'София', 'Софья', 'Станислав', 'Степан', 'Стефания',\n",
       "       'Таисия', 'Тамара', 'Тамерлан', 'Татьяна', 'Тимофей', 'Тимур',\n",
       "       'Тихон', 'Ульяна', 'Федор', 'Эвелина', 'Эдуард', 'Элина',\n",
       "       'Эльвира', 'Эльмира', 'Эмилия', 'Эмиль', 'Юлиана', 'Юлия', 'Юрий',\n",
       "       'Ян', 'Яна', 'Яромир', 'Ярослав', 'Ярослава', 'Ясмина'],\n",
       "      dtype=object)"
      ]
     },
     "execution_count": 14,
     "metadata": {},
     "output_type": "execute_result"
    }
   ],
   "source": [
    "data_users['name'].sort_values().unique()"
   ]
  },
  {
   "cell_type": "code",
   "execution_count": 15,
   "id": "6d951f00",
   "metadata": {},
   "outputs": [
    {
     "data": {
      "text/plain": [
       "array([12, 13, 14, 15, 16, 17, 18, 19, 20, 21, 22, 23, 24, 25, 26, 27, 28,\n",
       "       29, 30, 31, 32, 33, 34, 35, 36, 37, 38, 39, 43], dtype=int64)"
      ]
     },
     "execution_count": 15,
     "metadata": {},
     "output_type": "execute_result"
    }
   ],
   "source": [
    "data_users['age'].sort_values().unique()"
   ]
  },
  {
   "cell_type": "code",
   "execution_count": 16,
   "id": "5c43d307",
   "metadata": {},
   "outputs": [
    {
     "data": {
      "text/plain": [
       "array(['free', 'ultra'], dtype=object)"
      ]
     },
     "execution_count": 16,
     "metadata": {},
     "output_type": "execute_result"
    }
   ],
   "source": [
    "data_users['subscription_type'].sort_values().unique()"
   ]
  },
  {
   "cell_type": "markdown",
   "id": "43c43a47",
   "metadata": {},
   "source": [
    "Явно ошибочных значений нет."
   ]
  },
  {
   "cell_type": "markdown",
   "id": "92ab031a",
   "metadata": {},
   "source": [
    "##### Вывод по результатам предобработки\n",
    "\n",
    "В датасете **users_go** присутствует небольшое количество дубликатов строк: 31, в других датасетах их нет. Дубликаты удалены.\n",
    "\n",
    "Неявных дубликатов в столбцах, где они могут быть, не замечено. \n",
    "\n",
    "Пропусков в датасетах нет.\n",
    "\n",
    "Столбец **date** в датафрейме **data_rides** приведён к типу данных pandas, в датафрейм добавлен столбец с номером месяца для каждой поездки. Размечать значения в этом столбце или добавлять столбец с идентификатором года не нужно, потому что данны есть только за один 2021 год."
   ]
  },
  {
   "cell_type": "markdown",
   "id": "226ef03b",
   "metadata": {},
   "source": [
    "#### Шаг 3. Исследовательский анализ данных"
   ]
  },
  {
   "cell_type": "markdown",
   "id": "b6d8a545",
   "metadata": {},
   "source": [
    "Описание и визуализация общей информаци о пользователях и поездках."
   ]
  },
  {
   "cell_type": "markdown",
   "id": "74d615fa",
   "metadata": {},
   "source": [
    "#####  Частота встречаемости городов\n",
    "\n",
    "Список значений столбца и их количество."
   ]
  },
  {
   "cell_type": "code",
   "execution_count": 17,
   "id": "c3477774",
   "metadata": {},
   "outputs": [
    {
     "data": {
      "text/plain": [
       "Пятигорск         219\n",
       "Екатеринбург      204\n",
       "Ростов-на-Дону    198\n",
       "Краснодар         193\n",
       "Сочи              189\n",
       "Омск              183\n",
       "Тюмень            180\n",
       "Москва            168\n",
       "Name: city, dtype: int64"
      ]
     },
     "execution_count": 17,
     "metadata": {},
     "output_type": "execute_result"
    }
   ],
   "source": [
    "data_users['city'].value_counts()"
   ]
  },
  {
   "cell_type": "markdown",
   "id": "5303e0f3",
   "metadata": {},
   "source": [
    "Диаграмма "
   ]
  },
  {
   "cell_type": "code",
   "execution_count": 18,
   "id": "88534c9b",
   "metadata": {},
   "outputs": [
    {
     "data": {
      "image/png": "[encoded data removed]",
      "text/plain": [
       "<Figure size 720x360 with 1 Axes>"
      ]
     },
     "metadata": {
      "needs_background": "light"
     },
     "output_type": "display_data"
    }
   ],
   "source": [
    "data_users.groupby('city')['user_id'].count().sort_values().plot(\n",
    "    kind='barh',\n",
    "    title='Количество уникальных пользователей в каждом городе',\n",
    "    figsize=(10,5),\n",
    "    grid=True,\n",
    "    legend=False, \n",
    "    );\n",
    "plt.ylabel('Города');\n",
    "plt.xlabel('Количество');"
   ]
  },
  {
   "cell_type": "markdown",
   "id": "a0777251",
   "metadata": {},
   "source": [
    "Наибольшее число пользующихся сервисом в Пятигорске, наименьшее - в Москве.\n",
    "\n",
    "Для визуализации частоты поездок в каждом городе понадобится добавить в датафрейм **data_users** столбец с количеством поездок для каждого пользователя."
   ]
  },
  {
   "cell_type": "code",
   "execution_count": 19,
   "id": "7f6c1312",
   "metadata": {},
   "outputs": [
    {
     "data": {
      "image/png": "[encoded data removed]",
      "text/plain": [
       "<Figure size 720x360 with 1 Axes>"
      ]
     },
     "metadata": {
      "needs_background": "light"
     },
     "output_type": "display_data"
    }
   ],
   "source": [
    "#создание таблицы с количеством поездок для каждого пользователя\n",
    "pivot = (data_rides\n",
    "         .sort_values(by='user_id').\n",
    "         pivot_table(\n",
    "            index='user_id', \n",
    "            values='distance', \n",
    "            aggfunc='count')\n",
    "        )\n",
    "\n",
    "#создание столбца user_id для помледующего объединения по нему\n",
    "pivot['user_id'] = pivot.index\n",
    "\n",
    "#переименование индекса таблицы\n",
    "pivot.index.names=['index']\n",
    "\n",
    "#создание временной копии data_users и добавление в неё нужного столбца \n",
    "data_users_temp = data_users.merge(pivot, on='user_id')\n",
    "\n",
    "#построение диаграммы\n",
    "data_users_temp.groupby('city')['distance'].sum().sort_values().plot(\n",
    "    kind='barh',\n",
    "    title='Количество поездок в каждом городе',\n",
    "    figsize=(10,5),\n",
    "    grid=True,\n",
    "    legend=False, \n",
    "    );\n",
    "plt.ylabel('Города');\n",
    "plt.xlabel('Количество');"
   ]
  },
  {
   "cell_type": "markdown",
   "id": "45a9c576",
   "metadata": {},
   "source": [
    "Список количества поездок на самокатах по городам:"
   ]
  },
  {
   "cell_type": "code",
   "execution_count": 20,
   "id": "68d0cd9e",
   "metadata": {},
   "outputs": [
    {
     "data": {
      "text/plain": [
       "city\n",
       "Пятигорск         2524\n",
       "Екатеринбург      2461\n",
       "Ростов-на-Дону    2450\n",
       "Краснодар         2301\n",
       "Сочи              2259\n",
       "Тюмень            2121\n",
       "Омск              2077\n",
       "Москва            1875\n",
       "Name: distance, dtype: int64"
      ]
     },
     "execution_count": 20,
     "metadata": {},
     "output_type": "execute_result"
    }
   ],
   "source": [
    "data_users_temp.groupby('city')['distance'].sum().sort_values(ascending=False)"
   ]
  },
  {
   "cell_type": "markdown",
   "id": "be970c60",
   "metadata": {},
   "source": [
    "Чаще всего пользуются самокатами в Пятигорске, реже всего - в Москве. Разница между городами с наибольшей и наименьшей популярностью сервиса находится в пределах 23-26%. Наибольшее число пользователей в городах в целом совпадает с наибольшим числом поездок, за исключением Омска и Тюмени, но разница между этими двумя городами по обоим показателям невелика."
   ]
  },
  {
   "cell_type": "markdown",
   "id": "65dffc19",
   "metadata": {},
   "source": [
    "#####  Соотношение пользователей с подпиской и без подписки"
   ]
  },
  {
   "cell_type": "markdown",
   "id": "8b082a19",
   "metadata": {},
   "source": [
    "Количество пользователей с разными подписками."
   ]
  },
  {
   "cell_type": "code",
   "execution_count": 21,
   "id": "88f311be",
   "metadata": {},
   "outputs": [
    {
     "data": {
      "text/html": [
       "<div>\n",
       "<style scoped>\n",
       "    .dataframe tbody tr th:only-of-type {\n",
       "        vertical-align: middle;\n",
       "    }\n",
       "\n",
       "    .dataframe tbody tr th {\n",
       "        vertical-align: top;\n",
       "    }\n",
       "\n",
       "    .dataframe thead th {\n",
       "        text-align: right;\n",
       "    }\n",
       "</style>\n",
       "<table border=\"1\" class=\"dataframe\">\n",
       "  <thead>\n",
       "    <tr style=\"text-align: right;\">\n",
       "      <th></th>\n",
       "      <th>user_id</th>\n",
       "    </tr>\n",
       "    <tr>\n",
       "      <th>subscription_type</th>\n",
       "      <th></th>\n",
       "    </tr>\n",
       "  </thead>\n",
       "  <tbody>\n",
       "    <tr>\n",
       "      <th>free</th>\n",
       "      <td>835</td>\n",
       "    </tr>\n",
       "    <tr>\n",
       "      <th>ultra</th>\n",
       "      <td>699</td>\n",
       "    </tr>\n",
       "  </tbody>\n",
       "</table>\n",
       "</div>"
      ],
      "text/plain": [
       "                   user_id\n",
       "subscription_type         \n",
       "free                   835\n",
       "ultra                  699"
      ]
     },
     "execution_count": 21,
     "metadata": {},
     "output_type": "execute_result"
    }
   ],
   "source": [
    "data_users.pivot_table(\n",
    "        index='subscription_type',\n",
    "        values='user_id',\n",
    "        aggfunc='count')"
   ]
  },
  {
   "cell_type": "markdown",
   "id": "07537101",
   "metadata": {},
   "source": [
    "Диаграмма соотношения."
   ]
  },
  {
   "cell_type": "code",
   "execution_count": 22,
   "id": "8b1413e3",
   "metadata": {},
   "outputs": [
    {
     "data": {
      "image/png": "[encoded data removed]",
      "text/plain": [
       "<Figure size 720x720 with 1 Axes>"
      ]
     },
     "metadata": {},
     "output_type": "display_data"
    }
   ],
   "source": [
    "(data_users\n",
    "    .pivot_table(\n",
    "        index='subscription_type',\n",
    "        values='user_id',\n",
    "        aggfunc='count')\n",
    "    .plot(\n",
    "        kind='pie',\n",
    "        y='user_id',\n",
    "        title='Соотношение пользователей с подписками free и ultra',\n",
    "        label='',\n",
    "        autopct='%0.2f%%',\n",
    "        colors=['lightblue', 'lightpink'],\n",
    "        figsize=(10,10),\n",
    "        legend=False\n",
    "    )\n",
    ");"
   ]
  },
  {
   "cell_type": "markdown",
   "id": "7a5eedf1",
   "metadata": {},
   "source": [
    "Пользователей с подпиской ultra 45,7%, пользователей, пользующихся сервисом без подписки 54,43%."
   ]
  },
  {
   "cell_type": "markdown",
   "id": "8338b9f2",
   "metadata": {},
   "source": [
    "##### Возраст пользователей"
   ]
  },
  {
   "cell_type": "markdown",
   "id": "1b217e1a",
   "metadata": {},
   "source": [
    "Гистограмма распределения пользователей по возрастам."
   ]
  },
  {
   "cell_type": "code",
   "execution_count": 23,
   "id": "2a80c06a",
   "metadata": {},
   "outputs": [
    {
     "data": {
      "image/png": "[encoded data removed]",
      "text/plain": [
       "<Figure size 720x360 with 1 Axes>"
      ]
     },
     "metadata": {
      "needs_background": "light"
     },
     "output_type": "display_data"
    }
   ],
   "source": [
    "data_users['age'].plot(\n",
    "    kind='hist',\n",
    "    bins=32,\n",
    "    grid=True,\n",
    "    figsize=(10,5),\n",
    "    title='Количество пользователей разного возраста'\n",
    ");\n",
    "\n",
    "plt.xlabel('Возраст');\n",
    "plt.ylabel('Частота значений');"
   ]
  },
  {
   "cell_type": "markdown",
   "id": "4a7c2fca",
   "metadata": {},
   "source": [
    "Количество пользователей разного возраста."
   ]
  },
  {
   "cell_type": "code",
   "execution_count": 24,
   "id": "86418007",
   "metadata": {},
   "outputs": [
    {
     "data": {
      "text/html": [
       "<div>\n",
       "<style scoped>\n",
       "    .dataframe tbody tr th:only-of-type {\n",
       "        vertical-align: middle;\n",
       "    }\n",
       "\n",
       "    .dataframe tbody tr th {\n",
       "        vertical-align: top;\n",
       "    }\n",
       "\n",
       "    .dataframe thead th {\n",
       "        text-align: right;\n",
       "    }\n",
       "</style>\n",
       "<table border=\"1\" class=\"dataframe\">\n",
       "  <thead>\n",
       "    <tr style=\"text-align: right;\">\n",
       "      <th></th>\n",
       "      <th>user_id</th>\n",
       "    </tr>\n",
       "    <tr>\n",
       "      <th>age</th>\n",
       "      <th></th>\n",
       "    </tr>\n",
       "  </thead>\n",
       "  <tbody>\n",
       "    <tr>\n",
       "      <th>12</th>\n",
       "      <td>4</td>\n",
       "    </tr>\n",
       "    <tr>\n",
       "      <th>13</th>\n",
       "      <td>8</td>\n",
       "    </tr>\n",
       "    <tr>\n",
       "      <th>14</th>\n",
       "      <td>9</td>\n",
       "    </tr>\n",
       "    <tr>\n",
       "      <th>15</th>\n",
       "      <td>13</td>\n",
       "    </tr>\n",
       "    <tr>\n",
       "      <th>16</th>\n",
       "      <td>19</td>\n",
       "    </tr>\n",
       "    <tr>\n",
       "      <th>17</th>\n",
       "      <td>26</td>\n",
       "    </tr>\n",
       "    <tr>\n",
       "      <th>18</th>\n",
       "      <td>46</td>\n",
       "    </tr>\n",
       "    <tr>\n",
       "      <th>19</th>\n",
       "      <td>47</td>\n",
       "    </tr>\n",
       "    <tr>\n",
       "      <th>20</th>\n",
       "      <td>71</td>\n",
       "    </tr>\n",
       "    <tr>\n",
       "      <th>21</th>\n",
       "      <td>93</td>\n",
       "    </tr>\n",
       "    <tr>\n",
       "      <th>22</th>\n",
       "      <td>119</td>\n",
       "    </tr>\n",
       "    <tr>\n",
       "      <th>23</th>\n",
       "      <td>129</td>\n",
       "    </tr>\n",
       "    <tr>\n",
       "      <th>24</th>\n",
       "      <td>132</td>\n",
       "    </tr>\n",
       "    <tr>\n",
       "      <th>25</th>\n",
       "      <td>145</td>\n",
       "    </tr>\n",
       "    <tr>\n",
       "      <th>26</th>\n",
       "      <td>131</td>\n",
       "    </tr>\n",
       "    <tr>\n",
       "      <th>27</th>\n",
       "      <td>119</td>\n",
       "    </tr>\n",
       "    <tr>\n",
       "      <th>28</th>\n",
       "      <td>112</td>\n",
       "    </tr>\n",
       "    <tr>\n",
       "      <th>29</th>\n",
       "      <td>68</td>\n",
       "    </tr>\n",
       "    <tr>\n",
       "      <th>30</th>\n",
       "      <td>68</td>\n",
       "    </tr>\n",
       "    <tr>\n",
       "      <th>31</th>\n",
       "      <td>48</td>\n",
       "    </tr>\n",
       "    <tr>\n",
       "      <th>32</th>\n",
       "      <td>41</td>\n",
       "    </tr>\n",
       "    <tr>\n",
       "      <th>33</th>\n",
       "      <td>39</td>\n",
       "    </tr>\n",
       "    <tr>\n",
       "      <th>34</th>\n",
       "      <td>19</td>\n",
       "    </tr>\n",
       "    <tr>\n",
       "      <th>35</th>\n",
       "      <td>15</td>\n",
       "    </tr>\n",
       "    <tr>\n",
       "      <th>36</th>\n",
       "      <td>6</td>\n",
       "    </tr>\n",
       "    <tr>\n",
       "      <th>37</th>\n",
       "      <td>2</td>\n",
       "    </tr>\n",
       "    <tr>\n",
       "      <th>38</th>\n",
       "      <td>3</td>\n",
       "    </tr>\n",
       "    <tr>\n",
       "      <th>39</th>\n",
       "      <td>1</td>\n",
       "    </tr>\n",
       "    <tr>\n",
       "      <th>43</th>\n",
       "      <td>1</td>\n",
       "    </tr>\n",
       "  </tbody>\n",
       "</table>\n",
       "</div>"
      ],
      "text/plain": [
       "     user_id\n",
       "age         \n",
       "12         4\n",
       "13         8\n",
       "14         9\n",
       "15        13\n",
       "16        19\n",
       "17        26\n",
       "18        46\n",
       "19        47\n",
       "20        71\n",
       "21        93\n",
       "22       119\n",
       "23       129\n",
       "24       132\n",
       "25       145\n",
       "26       131\n",
       "27       119\n",
       "28       112\n",
       "29        68\n",
       "30        68\n",
       "31        48\n",
       "32        41\n",
       "33        39\n",
       "34        19\n",
       "35        15\n",
       "36         6\n",
       "37         2\n",
       "38         3\n",
       "39         1\n",
       "43         1"
      ]
     },
     "execution_count": 24,
     "metadata": {},
     "output_type": "execute_result"
    }
   ],
   "source": [
    "data_users.pivot_table(\n",
    "        index='age',\n",
    "        values='user_id',\n",
    "        aggfunc='count')"
   ]
  },
  {
   "cell_type": "code",
   "execution_count": 25,
   "id": "897b3c15",
   "metadata": {},
   "outputs": [
    {
     "data": {
      "image/png": "[encoded data removed]",
      "text/plain": [
       "<Figure size 360x576 with 1 Axes>"
      ]
     },
     "metadata": {
      "needs_background": "light"
     },
     "output_type": "display_data"
    }
   ],
   "source": [
    "#диаграмма размаха значений\n",
    "data_users.boxplot('age', figsize=(5,8));\n",
    "\n",
    "plt.title('Диаграмма размаха значений столбца age');"
   ]
  },
  {
   "cell_type": "markdown",
   "id": "a3c94ce3",
   "metadata": {},
   "source": [
    "Основные характеристики столбца."
   ]
  },
  {
   "cell_type": "code",
   "execution_count": 26,
   "id": "75b70419",
   "metadata": {},
   "outputs": [
    {
     "data": {
      "text/plain": [
       "count    1534.000000\n",
       "mean       24.903520\n",
       "std         4.572367\n",
       "min        12.000000\n",
       "25%        22.000000\n",
       "50%        25.000000\n",
       "75%        28.000000\n",
       "max        43.000000\n",
       "Name: age, dtype: float64"
      ]
     },
     "execution_count": 26,
     "metadata": {},
     "output_type": "execute_result"
    }
   ],
   "source": [
    "data_users['age'].describe()"
   ]
  },
  {
   "cell_type": "markdown",
   "id": "bc02a67f",
   "metadata": {},
   "source": [
    "Основная масса пользователей - в возрасте от 13 до 37 лет. Половина - среди молодёжи 22-28 лет, самым младшим 12 лет, самому старшему 43 года. Распределение количества пользователей по возрастам стремится к нормальному с медианным значением 25 лет. Нет оснований считать маленькие или большие значения аномалиями или ошибками."
   ]
  },
  {
   "cell_type": "markdown",
   "id": "f664306b",
   "metadata": {},
   "source": [
    "##### Расстояние, которое пользователь преодолел за одну поездку"
   ]
  },
  {
   "cell_type": "markdown",
   "id": "26ac0d86",
   "metadata": {},
   "source": [
    "Для общей оценки метрики построим гистограмму значений столбца **distance** датафрейма **data_rides**."
   ]
  },
  {
   "cell_type": "code",
   "execution_count": 27,
   "id": "3e7bf7d6",
   "metadata": {},
   "outputs": [
    {
     "data": {
      "image/png": "[encoded data removed]",
      "text/plain": [
       "<Figure size 720x360 with 1 Axes>"
      ]
     },
     "metadata": {
      "needs_background": "light"
     },
     "output_type": "display_data"
    }
   ],
   "source": [
    "data_rides['distance'].plot(\n",
    "    kind='hist',\n",
    "    bins=100,\n",
    "    grid=True,\n",
    "    figsize=(10,5),\n",
    "    title='Гистограмма распределения расстояний поездок'\n",
    ");\n",
    "\n",
    "plt.xlabel('Расстояние поездок, м');\n",
    "plt.ylabel('Количество поездок');"
   ]
  },
  {
   "cell_type": "markdown",
   "id": "87ca2319",
   "metadata": {},
   "source": [
    "На гистограмме присутствуют два пика: больший около 3100 м, и меньший около 600-700 метров. \n",
    "\n",
    "Этому может быть несколько объяснений:\n",
    "\n",
    "- продолжительность поездок разнится для каких-либо категориий пользователей: в силу возраста, занятости, финансового положения;\n",
    "- продолжительность поездок связана с размерами городов, в которых проводилось исследование и соответствующей протяжённостью маршрутов, к примеру, в Москве и Екатеринбурге, поскольку там есть метро, большая часть пользователей могут совершать более короткие поездки, чем в других крупных городах;\n",
    "- поскольку коротких поездок меньше, это могут быть первые попытки начинающих пользователей;\n",
    "- продолжительность поездок может зависеть от времени года, дня недели (будни или выходные), места жительства пользователей (центр или окраина) и других неизвестных нам факторов.\n",
    "\n",
    "Аномально большие значения редки, скорее всего это не аномалии, а просто редкие продолжительные поездки фанатов езды на самокате или, к примеру, курьеры, которые используют сервис по работе - такие случаи редки, но ничего невозможного в этом нет. Оснований сомневаться в достоверности этих значений нет."
   ]
  },
  {
   "cell_type": "markdown",
   "id": "bd5ca18b",
   "metadata": {},
   "source": [
    "Для общей оценки метрики построим гистограмму значений столбца duration датафрейма data_rides."
   ]
  },
  {
   "cell_type": "code",
   "execution_count": 28,
   "id": "d1eb0ecb",
   "metadata": {},
   "outputs": [
    {
     "data": {
      "image/png": "[encoded data removed]",
      "text/plain": [
       "<Figure size 720x360 with 1 Axes>"
      ]
     },
     "metadata": {
      "needs_background": "light"
     },
     "output_type": "display_data"
    }
   ],
   "source": [
    "data_rides['duration'].plot(\n",
    "    kind='hist',\n",
    "    bins=200,\n",
    "    grid=True,\n",
    "    figsize=(10,5),\n",
    "    title='Гистограмма распределения продолжительности поездок'\n",
    ");\n",
    "\n",
    "plt.xlabel('Продолжительность поездок, мин.');\n",
    "plt.ylabel('Количество поездок');"
   ]
  },
  {
   "cell_type": "markdown",
   "id": "b5936ae0",
   "metadata": {},
   "source": [
    "В целом распределение значений стремится к нормальному с пиком около 17 минут. Чрезвычайно длительные поездки очень редки и аномалиями, скорее всего, не являются. То же самое можно сказать о коротких поездках, за исключением странного выброса в районе единицы.\n",
    "\n",
    "Изучим эту часть датафрейма."
   ]
  },
  {
   "cell_type": "code",
   "execution_count": 29,
   "id": "59d149dd",
   "metadata": {},
   "outputs": [
    {
     "data": {
      "text/plain": [
       "0.5    95\n",
       "Name: duration, dtype: int64"
      ]
     },
     "execution_count": 29,
     "metadata": {},
     "output_type": "execute_result"
    }
   ],
   "source": [
    "data_rides.query('duration < 2')['duration'].value_counts()"
   ]
  },
  {
   "cell_type": "markdown",
   "id": "2ceb26d0",
   "metadata": {},
   "source": [
    "95 строк, в которых продолжительность поездки 0,5 минут. Выведем их на экран."
   ]
  },
  {
   "cell_type": "code",
   "execution_count": 30,
   "id": "d1af761c",
   "metadata": {},
   "outputs": [
    {
     "data": {
      "text/html": [
       "<div>\n",
       "<style scoped>\n",
       "    .dataframe tbody tr th:only-of-type {\n",
       "        vertical-align: middle;\n",
       "    }\n",
       "\n",
       "    .dataframe tbody tr th {\n",
       "        vertical-align: top;\n",
       "    }\n",
       "\n",
       "    .dataframe thead th {\n",
       "        text-align: right;\n",
       "    }\n",
       "</style>\n",
       "<table border=\"1\" class=\"dataframe\">\n",
       "  <thead>\n",
       "    <tr style=\"text-align: right;\">\n",
       "      <th></th>\n",
       "      <th>user_id</th>\n",
       "      <th>distance</th>\n",
       "      <th>duration</th>\n",
       "      <th>date</th>\n",
       "      <th>month</th>\n",
       "    </tr>\n",
       "  </thead>\n",
       "  <tbody>\n",
       "    <tr>\n",
       "      <th>6531</th>\n",
       "      <td>701</td>\n",
       "      <td>4196.445201</td>\n",
       "      <td>0.5</td>\n",
       "      <td>2021-08-31</td>\n",
       "      <td>8</td>\n",
       "    </tr>\n",
       "    <tr>\n",
       "      <th>6570</th>\n",
       "      <td>704</td>\n",
       "      <td>4830.824371</td>\n",
       "      <td>0.5</td>\n",
       "      <td>2021-10-14</td>\n",
       "      <td>10</td>\n",
       "    </tr>\n",
       "    <tr>\n",
       "      <th>6680</th>\n",
       "      <td>712</td>\n",
       "      <td>4684.004397</td>\n",
       "      <td>0.5</td>\n",
       "      <td>2021-03-04</td>\n",
       "      <td>3</td>\n",
       "    </tr>\n",
       "    <tr>\n",
       "      <th>6695</th>\n",
       "      <td>713</td>\n",
       "      <td>5215.642710</td>\n",
       "      <td>0.5</td>\n",
       "      <td>2021-02-25</td>\n",
       "      <td>2</td>\n",
       "    </tr>\n",
       "    <tr>\n",
       "      <th>6768</th>\n",
       "      <td>718</td>\n",
       "      <td>5197.436649</td>\n",
       "      <td>0.5</td>\n",
       "      <td>2021-02-11</td>\n",
       "      <td>2</td>\n",
       "    </tr>\n",
       "    <tr>\n",
       "      <th>6860</th>\n",
       "      <td>724</td>\n",
       "      <td>6225.520342</td>\n",
       "      <td>0.5</td>\n",
       "      <td>2021-12-16</td>\n",
       "      <td>12</td>\n",
       "    </tr>\n",
       "    <tr>\n",
       "      <th>6883</th>\n",
       "      <td>726</td>\n",
       "      <td>4452.491518</td>\n",
       "      <td>0.5</td>\n",
       "      <td>2021-03-01</td>\n",
       "      <td>3</td>\n",
       "    </tr>\n",
       "    <tr>\n",
       "      <th>7018</th>\n",
       "      <td>735</td>\n",
       "      <td>4406.954812</td>\n",
       "      <td>0.5</td>\n",
       "      <td>2021-04-13</td>\n",
       "      <td>4</td>\n",
       "    </tr>\n",
       "    <tr>\n",
       "      <th>7160</th>\n",
       "      <td>745</td>\n",
       "      <td>5286.167732</td>\n",
       "      <td>0.5</td>\n",
       "      <td>2021-08-17</td>\n",
       "      <td>8</td>\n",
       "    </tr>\n",
       "    <tr>\n",
       "      <th>7364</th>\n",
       "      <td>760</td>\n",
       "      <td>4881.391865</td>\n",
       "      <td>0.5</td>\n",
       "      <td>2021-08-29</td>\n",
       "      <td>8</td>\n",
       "    </tr>\n",
       "    <tr>\n",
       "      <th>7437</th>\n",
       "      <td>766</td>\n",
       "      <td>4539.088310</td>\n",
       "      <td>0.5</td>\n",
       "      <td>2021-12-22</td>\n",
       "      <td>12</td>\n",
       "    </tr>\n",
       "    <tr>\n",
       "      <th>7508</th>\n",
       "      <td>772</td>\n",
       "      <td>4718.820996</td>\n",
       "      <td>0.5</td>\n",
       "      <td>2021-05-22</td>\n",
       "      <td>5</td>\n",
       "    </tr>\n",
       "    <tr>\n",
       "      <th>7537</th>\n",
       "      <td>774</td>\n",
       "      <td>5488.141903</td>\n",
       "      <td>0.5</td>\n",
       "      <td>2021-05-27</td>\n",
       "      <td>5</td>\n",
       "    </tr>\n",
       "    <tr>\n",
       "      <th>7612</th>\n",
       "      <td>780</td>\n",
       "      <td>6112.644835</td>\n",
       "      <td>0.5</td>\n",
       "      <td>2021-11-23</td>\n",
       "      <td>11</td>\n",
       "    </tr>\n",
       "    <tr>\n",
       "      <th>7679</th>\n",
       "      <td>784</td>\n",
       "      <td>5202.815712</td>\n",
       "      <td>0.5</td>\n",
       "      <td>2021-06-03</td>\n",
       "      <td>6</td>\n",
       "    </tr>\n",
       "    <tr>\n",
       "      <th>7791</th>\n",
       "      <td>792</td>\n",
       "      <td>5353.189287</td>\n",
       "      <td>0.5</td>\n",
       "      <td>2021-11-06</td>\n",
       "      <td>11</td>\n",
       "    </tr>\n",
       "    <tr>\n",
       "      <th>7830</th>\n",
       "      <td>795</td>\n",
       "      <td>6262.302747</td>\n",
       "      <td>0.5</td>\n",
       "      <td>2021-09-09</td>\n",
       "      <td>9</td>\n",
       "    </tr>\n",
       "    <tr>\n",
       "      <th>7883</th>\n",
       "      <td>800</td>\n",
       "      <td>5052.410425</td>\n",
       "      <td>0.5</td>\n",
       "      <td>2021-07-19</td>\n",
       "      <td>7</td>\n",
       "    </tr>\n",
       "    <tr>\n",
       "      <th>7932</th>\n",
       "      <td>804</td>\n",
       "      <td>5547.830031</td>\n",
       "      <td>0.5</td>\n",
       "      <td>2021-05-10</td>\n",
       "      <td>5</td>\n",
       "    </tr>\n",
       "    <tr>\n",
       "      <th>8329</th>\n",
       "      <td>836</td>\n",
       "      <td>4958.922077</td>\n",
       "      <td>0.5</td>\n",
       "      <td>2021-01-12</td>\n",
       "      <td>1</td>\n",
       "    </tr>\n",
       "  </tbody>\n",
       "</table>\n",
       "</div>"
      ],
      "text/plain": [
       "      user_id     distance  duration       date  month\n",
       "6531      701  4196.445201       0.5 2021-08-31      8\n",
       "6570      704  4830.824371       0.5 2021-10-14     10\n",
       "6680      712  4684.004397       0.5 2021-03-04      3\n",
       "6695      713  5215.642710       0.5 2021-02-25      2\n",
       "6768      718  5197.436649       0.5 2021-02-11      2\n",
       "6860      724  6225.520342       0.5 2021-12-16     12\n",
       "6883      726  4452.491518       0.5 2021-03-01      3\n",
       "7018      735  4406.954812       0.5 2021-04-13      4\n",
       "7160      745  5286.167732       0.5 2021-08-17      8\n",
       "7364      760  4881.391865       0.5 2021-08-29      8\n",
       "7437      766  4539.088310       0.5 2021-12-22     12\n",
       "7508      772  4718.820996       0.5 2021-05-22      5\n",
       "7537      774  5488.141903       0.5 2021-05-27      5\n",
       "7612      780  6112.644835       0.5 2021-11-23     11\n",
       "7679      784  5202.815712       0.5 2021-06-03      6\n",
       "7791      792  5353.189287       0.5 2021-11-06     11\n",
       "7830      795  6262.302747       0.5 2021-09-09      9\n",
       "7883      800  5052.410425       0.5 2021-07-19      7\n",
       "7932      804  5547.830031       0.5 2021-05-10      5\n",
       "8329      836  4958.922077       0.5 2021-01-12      1"
      ]
     },
     "execution_count": 30,
     "metadata": {},
     "output_type": "execute_result"
    }
   ],
   "source": [
    "data_rides.query('duration == 0.5').head(20)"
   ]
  },
  {
   "cell_type": "markdown",
   "id": "1b3f8a13",
   "metadata": {},
   "source": [
    "Можно было бы предположить, к примеру, что полминуты -  это минимально учитываемый промежуток времени в ситуации, когда пользователь передумал совершать поездку сразу после её начала. Однако продолжительность этих поездок противоречит такой версии: в такой ситуации она была бы близка к нулю.\n",
    "\n",
    "Если есть возможность, необходимо уточнить этот момент у коллег или заказчика на предмет связи с какими-нибудь акциями или спецпредложениями сервиса. В данном случае такой возможности нет.\n",
    "\n",
    "Единственное логичное предположение: в этой части датафрейма ошибочные данные.\n",
    "\n",
    "Проверим, не связаны ли эти с конкретными пользователями или датами."
   ]
  },
  {
   "cell_type": "code",
   "execution_count": 31,
   "id": "f443efa6",
   "metadata": {},
   "outputs": [
    {
     "data": {
      "text/plain": [
       "1477    1\n",
       "774     1\n",
       "1287    1\n",
       "1421    1\n",
       "906     1\n",
       "       ..\n",
       "1224    2\n",
       "973     2\n",
       "1243    2\n",
       "1007    2\n",
       "1364    2\n",
       "Name: user_id, Length: 90, dtype: int64"
      ]
     },
     "execution_count": 31,
     "metadata": {},
     "output_type": "execute_result"
    }
   ],
   "source": [
    "data_rides.query('duration == 0.5')['user_id'].value_counts().sort_values()"
   ]
  },
  {
   "cell_type": "code",
   "execution_count": 32,
   "id": "ad808ff4",
   "metadata": {},
   "outputs": [
    {
     "data": {
      "text/plain": [
       "2021-02-07    1\n",
       "2021-11-22    1\n",
       "2021-04-12    1\n",
       "2021-03-26    1\n",
       "2021-01-19    1\n",
       "             ..\n",
       "2021-07-28    2\n",
       "2021-01-12    2\n",
       "2021-11-20    2\n",
       "2021-06-18    2\n",
       "2021-08-29    3\n",
       "Name: date, Length: 82, dtype: int64"
      ]
     },
     "execution_count": 32,
     "metadata": {},
     "output_type": "execute_result"
    }
   ],
   "source": [
    "data_rides.query('duration == 0.5')['date'].value_counts().sort_values()"
   ]
  },
  {
   "cell_type": "markdown",
   "id": "427bb688",
   "metadata": {},
   "source": [
    "Никакой связи нет: ошибки распределены редко и равномерно.\n",
    "\n",
    "Поскольку таких строк немного (около 0,5%) от общего количества, и заменить их нечем, лучше всего будет от них избавиться. \n"
   ]
  },
  {
   "cell_type": "code",
   "execution_count": 33,
   "id": "cabb1451",
   "metadata": {},
   "outputs": [
    {
     "data": {
      "image/png": "[encoded data removed]",
      "text/plain": [
       "<Figure size 720x360 with 1 Axes>"
      ]
     },
     "metadata": {
      "needs_background": "light"
     },
     "output_type": "display_data"
    }
   ],
   "source": [
    "#удаление строк с ошибкой\n",
    "data_rides = data_rides.query('duration != 0.5')\n",
    "\n",
    "#гистограмма изменённого столбца\n",
    "data_rides['duration'].plot(\n",
    "    kind='hist',\n",
    "    bins=200,\n",
    "    grid=True,\n",
    "    figsize=(10,5),\n",
    "    title='Гистограмма распределения продолжительности поездок'\n",
    ");\n",
    "\n",
    "plt.xlabel('Продолжительность поездок, мин.');\n",
    "plt.ylabel('Количество поездок');"
   ]
  },
  {
   "cell_type": "markdown",
   "id": "336b230b",
   "metadata": {},
   "source": [
    "#### Шаг 4. Объединение данных"
   ]
  },
  {
   "cell_type": "markdown",
   "id": "2829c85e",
   "metadata": {},
   "source": [
    "##### Объединение данных о пользователях, поездках и подписках в один датафрейм."
   ]
  },
  {
   "cell_type": "code",
   "execution_count": 34,
   "id": "b8ad03c3",
   "metadata": {},
   "outputs": [
    {
     "data": {
      "text/html": [
       "<div>\n",
       "<style scoped>\n",
       "    .dataframe tbody tr th:only-of-type {\n",
       "        vertical-align: middle;\n",
       "    }\n",
       "\n",
       "    .dataframe tbody tr th {\n",
       "        vertical-align: top;\n",
       "    }\n",
       "\n",
       "    .dataframe thead th {\n",
       "        text-align: right;\n",
       "    }\n",
       "</style>\n",
       "<table border=\"1\" class=\"dataframe\">\n",
       "  <thead>\n",
       "    <tr style=\"text-align: right;\">\n",
       "      <th></th>\n",
       "      <th>user_id</th>\n",
       "      <th>name</th>\n",
       "      <th>age</th>\n",
       "      <th>city</th>\n",
       "      <th>subscription_type</th>\n",
       "      <th>minute_price</th>\n",
       "      <th>start_ride_price</th>\n",
       "      <th>subscription_fee</th>\n",
       "      <th>distance</th>\n",
       "      <th>duration</th>\n",
       "      <th>date</th>\n",
       "      <th>month</th>\n",
       "    </tr>\n",
       "  </thead>\n",
       "  <tbody>\n",
       "    <tr>\n",
       "      <th>0</th>\n",
       "      <td>1</td>\n",
       "      <td>Кира</td>\n",
       "      <td>22</td>\n",
       "      <td>Тюмень</td>\n",
       "      <td>ultra</td>\n",
       "      <td>6</td>\n",
       "      <td>0</td>\n",
       "      <td>199</td>\n",
       "      <td>4409.919140</td>\n",
       "      <td>25.599769</td>\n",
       "      <td>2021-01-01</td>\n",
       "      <td>1</td>\n",
       "    </tr>\n",
       "    <tr>\n",
       "      <th>1</th>\n",
       "      <td>1</td>\n",
       "      <td>Кира</td>\n",
       "      <td>22</td>\n",
       "      <td>Тюмень</td>\n",
       "      <td>ultra</td>\n",
       "      <td>6</td>\n",
       "      <td>0</td>\n",
       "      <td>199</td>\n",
       "      <td>2617.592153</td>\n",
       "      <td>15.816871</td>\n",
       "      <td>2021-01-18</td>\n",
       "      <td>1</td>\n",
       "    </tr>\n",
       "    <tr>\n",
       "      <th>2</th>\n",
       "      <td>1</td>\n",
       "      <td>Кира</td>\n",
       "      <td>22</td>\n",
       "      <td>Тюмень</td>\n",
       "      <td>ultra</td>\n",
       "      <td>6</td>\n",
       "      <td>0</td>\n",
       "      <td>199</td>\n",
       "      <td>754.159807</td>\n",
       "      <td>6.232113</td>\n",
       "      <td>2021-04-20</td>\n",
       "      <td>4</td>\n",
       "    </tr>\n",
       "    <tr>\n",
       "      <th>3</th>\n",
       "      <td>1</td>\n",
       "      <td>Кира</td>\n",
       "      <td>22</td>\n",
       "      <td>Тюмень</td>\n",
       "      <td>ultra</td>\n",
       "      <td>6</td>\n",
       "      <td>0</td>\n",
       "      <td>199</td>\n",
       "      <td>2694.783254</td>\n",
       "      <td>18.511000</td>\n",
       "      <td>2021-08-11</td>\n",
       "      <td>8</td>\n",
       "    </tr>\n",
       "    <tr>\n",
       "      <th>4</th>\n",
       "      <td>1</td>\n",
       "      <td>Кира</td>\n",
       "      <td>22</td>\n",
       "      <td>Тюмень</td>\n",
       "      <td>ultra</td>\n",
       "      <td>6</td>\n",
       "      <td>0</td>\n",
       "      <td>199</td>\n",
       "      <td>4028.687306</td>\n",
       "      <td>26.265803</td>\n",
       "      <td>2021-08-28</td>\n",
       "      <td>8</td>\n",
       "    </tr>\n",
       "    <tr>\n",
       "      <th>5</th>\n",
       "      <td>1</td>\n",
       "      <td>Кира</td>\n",
       "      <td>22</td>\n",
       "      <td>Тюмень</td>\n",
       "      <td>ultra</td>\n",
       "      <td>6</td>\n",
       "      <td>0</td>\n",
       "      <td>199</td>\n",
       "      <td>2770.890808</td>\n",
       "      <td>16.650138</td>\n",
       "      <td>2021-10-09</td>\n",
       "      <td>10</td>\n",
       "    </tr>\n",
       "    <tr>\n",
       "      <th>6</th>\n",
       "      <td>1</td>\n",
       "      <td>Кира</td>\n",
       "      <td>22</td>\n",
       "      <td>Тюмень</td>\n",
       "      <td>ultra</td>\n",
       "      <td>6</td>\n",
       "      <td>0</td>\n",
       "      <td>199</td>\n",
       "      <td>3039.020292</td>\n",
       "      <td>14.927879</td>\n",
       "      <td>2021-10-19</td>\n",
       "      <td>10</td>\n",
       "    </tr>\n",
       "    <tr>\n",
       "      <th>7</th>\n",
       "      <td>1</td>\n",
       "      <td>Кира</td>\n",
       "      <td>22</td>\n",
       "      <td>Тюмень</td>\n",
       "      <td>ultra</td>\n",
       "      <td>6</td>\n",
       "      <td>0</td>\n",
       "      <td>199</td>\n",
       "      <td>2842.118050</td>\n",
       "      <td>23.117468</td>\n",
       "      <td>2021-11-06</td>\n",
       "      <td>11</td>\n",
       "    </tr>\n",
       "    <tr>\n",
       "      <th>8</th>\n",
       "      <td>1</td>\n",
       "      <td>Кира</td>\n",
       "      <td>22</td>\n",
       "      <td>Тюмень</td>\n",
       "      <td>ultra</td>\n",
       "      <td>6</td>\n",
       "      <td>0</td>\n",
       "      <td>199</td>\n",
       "      <td>3412.690668</td>\n",
       "      <td>15.238072</td>\n",
       "      <td>2021-11-14</td>\n",
       "      <td>11</td>\n",
       "    </tr>\n",
       "    <tr>\n",
       "      <th>9</th>\n",
       "      <td>1</td>\n",
       "      <td>Кира</td>\n",
       "      <td>22</td>\n",
       "      <td>Тюмень</td>\n",
       "      <td>ultra</td>\n",
       "      <td>6</td>\n",
       "      <td>0</td>\n",
       "      <td>199</td>\n",
       "      <td>748.690645</td>\n",
       "      <td>15.041884</td>\n",
       "      <td>2021-11-22</td>\n",
       "      <td>11</td>\n",
       "    </tr>\n",
       "    <tr>\n",
       "      <th>10</th>\n",
       "      <td>1</td>\n",
       "      <td>Кира</td>\n",
       "      <td>22</td>\n",
       "      <td>Тюмень</td>\n",
       "      <td>ultra</td>\n",
       "      <td>6</td>\n",
       "      <td>0</td>\n",
       "      <td>199</td>\n",
       "      <td>4031.020195</td>\n",
       "      <td>17.674448</td>\n",
       "      <td>2021-12-14</td>\n",
       "      <td>12</td>\n",
       "    </tr>\n",
       "    <tr>\n",
       "      <th>11</th>\n",
       "      <td>1</td>\n",
       "      <td>Кира</td>\n",
       "      <td>22</td>\n",
       "      <td>Тюмень</td>\n",
       "      <td>ultra</td>\n",
       "      <td>6</td>\n",
       "      <td>0</td>\n",
       "      <td>199</td>\n",
       "      <td>2720.609748</td>\n",
       "      <td>9.529463</td>\n",
       "      <td>2021-12-22</td>\n",
       "      <td>12</td>\n",
       "    </tr>\n",
       "    <tr>\n",
       "      <th>12</th>\n",
       "      <td>2</td>\n",
       "      <td>Станислав</td>\n",
       "      <td>31</td>\n",
       "      <td>Омск</td>\n",
       "      <td>ultra</td>\n",
       "      <td>6</td>\n",
       "      <td>0</td>\n",
       "      <td>199</td>\n",
       "      <td>3105.086678</td>\n",
       "      <td>24.307514</td>\n",
       "      <td>2021-03-15</td>\n",
       "      <td>3</td>\n",
       "    </tr>\n",
       "    <tr>\n",
       "      <th>13</th>\n",
       "      <td>2</td>\n",
       "      <td>Станислав</td>\n",
       "      <td>31</td>\n",
       "      <td>Омск</td>\n",
       "      <td>ultra</td>\n",
       "      <td>6</td>\n",
       "      <td>0</td>\n",
       "      <td>199</td>\n",
       "      <td>3053.519401</td>\n",
       "      <td>11.543256</td>\n",
       "      <td>2021-03-18</td>\n",
       "      <td>3</td>\n",
       "    </tr>\n",
       "    <tr>\n",
       "      <th>14</th>\n",
       "      <td>2</td>\n",
       "      <td>Станислав</td>\n",
       "      <td>31</td>\n",
       "      <td>Омск</td>\n",
       "      <td>ultra</td>\n",
       "      <td>6</td>\n",
       "      <td>0</td>\n",
       "      <td>199</td>\n",
       "      <td>4029.116927</td>\n",
       "      <td>25.109188</td>\n",
       "      <td>2021-03-23</td>\n",
       "      <td>3</td>\n",
       "    </tr>\n",
       "    <tr>\n",
       "      <th>15</th>\n",
       "      <td>2</td>\n",
       "      <td>Станислав</td>\n",
       "      <td>31</td>\n",
       "      <td>Омск</td>\n",
       "      <td>ultra</td>\n",
       "      <td>6</td>\n",
       "      <td>0</td>\n",
       "      <td>199</td>\n",
       "      <td>2805.786329</td>\n",
       "      <td>20.652145</td>\n",
       "      <td>2021-04-08</td>\n",
       "      <td>4</td>\n",
       "    </tr>\n",
       "    <tr>\n",
       "      <th>16</th>\n",
       "      <td>2</td>\n",
       "      <td>Станислав</td>\n",
       "      <td>31</td>\n",
       "      <td>Омск</td>\n",
       "      <td>ultra</td>\n",
       "      <td>6</td>\n",
       "      <td>0</td>\n",
       "      <td>199</td>\n",
       "      <td>3358.595495</td>\n",
       "      <td>18.396489</td>\n",
       "      <td>2021-04-13</td>\n",
       "      <td>4</td>\n",
       "    </tr>\n",
       "    <tr>\n",
       "      <th>17</th>\n",
       "      <td>2</td>\n",
       "      <td>Станислав</td>\n",
       "      <td>31</td>\n",
       "      <td>Омск</td>\n",
       "      <td>ultra</td>\n",
       "      <td>6</td>\n",
       "      <td>0</td>\n",
       "      <td>199</td>\n",
       "      <td>3255.338202</td>\n",
       "      <td>13.851127</td>\n",
       "      <td>2021-06-20</td>\n",
       "      <td>6</td>\n",
       "    </tr>\n",
       "    <tr>\n",
       "      <th>18</th>\n",
       "      <td>2</td>\n",
       "      <td>Станислав</td>\n",
       "      <td>31</td>\n",
       "      <td>Омск</td>\n",
       "      <td>ultra</td>\n",
       "      <td>6</td>\n",
       "      <td>0</td>\n",
       "      <td>199</td>\n",
       "      <td>3942.817648</td>\n",
       "      <td>20.142725</td>\n",
       "      <td>2021-07-02</td>\n",
       "      <td>7</td>\n",
       "    </tr>\n",
       "    <tr>\n",
       "      <th>19</th>\n",
       "      <td>2</td>\n",
       "      <td>Станислав</td>\n",
       "      <td>31</td>\n",
       "      <td>Омск</td>\n",
       "      <td>ultra</td>\n",
       "      <td>6</td>\n",
       "      <td>0</td>\n",
       "      <td>199</td>\n",
       "      <td>2837.905316</td>\n",
       "      <td>26.027432</td>\n",
       "      <td>2021-07-18</td>\n",
       "      <td>7</td>\n",
       "    </tr>\n",
       "  </tbody>\n",
       "</table>\n",
       "</div>"
      ],
      "text/plain": [
       "    user_id       name  age    city subscription_type  minute_price  \\\n",
       "0         1       Кира   22  Тюмень             ultra             6   \n",
       "1         1       Кира   22  Тюмень             ultra             6   \n",
       "2         1       Кира   22  Тюмень             ultra             6   \n",
       "3         1       Кира   22  Тюмень             ultra             6   \n",
       "4         1       Кира   22  Тюмень             ultra             6   \n",
       "5         1       Кира   22  Тюмень             ultra             6   \n",
       "6         1       Кира   22  Тюмень             ultra             6   \n",
       "7         1       Кира   22  Тюмень             ultra             6   \n",
       "8         1       Кира   22  Тюмень             ultra             6   \n",
       "9         1       Кира   22  Тюмень             ultra             6   \n",
       "10        1       Кира   22  Тюмень             ultra             6   \n",
       "11        1       Кира   22  Тюмень             ultra             6   \n",
       "12        2  Станислав   31    Омск             ultra             6   \n",
       "13        2  Станислав   31    Омск             ultra             6   \n",
       "14        2  Станислав   31    Омск             ultra             6   \n",
       "15        2  Станислав   31    Омск             ultra             6   \n",
       "16        2  Станислав   31    Омск             ultra             6   \n",
       "17        2  Станислав   31    Омск             ultra             6   \n",
       "18        2  Станислав   31    Омск             ultra             6   \n",
       "19        2  Станислав   31    Омск             ultra             6   \n",
       "\n",
       "    start_ride_price  subscription_fee     distance   duration       date  \\\n",
       "0                  0               199  4409.919140  25.599769 2021-01-01   \n",
       "1                  0               199  2617.592153  15.816871 2021-01-18   \n",
       "2                  0               199   754.159807   6.232113 2021-04-20   \n",
       "3                  0               199  2694.783254  18.511000 2021-08-11   \n",
       "4                  0               199  4028.687306  26.265803 2021-08-28   \n",
       "5                  0               199  2770.890808  16.650138 2021-10-09   \n",
       "6                  0               199  3039.020292  14.927879 2021-10-19   \n",
       "7                  0               199  2842.118050  23.117468 2021-11-06   \n",
       "8                  0               199  3412.690668  15.238072 2021-11-14   \n",
       "9                  0               199   748.690645  15.041884 2021-11-22   \n",
       "10                 0               199  4031.020195  17.674448 2021-12-14   \n",
       "11                 0               199  2720.609748   9.529463 2021-12-22   \n",
       "12                 0               199  3105.086678  24.307514 2021-03-15   \n",
       "13                 0               199  3053.519401  11.543256 2021-03-18   \n",
       "14                 0               199  4029.116927  25.109188 2021-03-23   \n",
       "15                 0               199  2805.786329  20.652145 2021-04-08   \n",
       "16                 0               199  3358.595495  18.396489 2021-04-13   \n",
       "17                 0               199  3255.338202  13.851127 2021-06-20   \n",
       "18                 0               199  3942.817648  20.142725 2021-07-02   \n",
       "19                 0               199  2837.905316  26.027432 2021-07-18   \n",
       "\n",
       "    month  \n",
       "0       1  \n",
       "1       1  \n",
       "2       4  \n",
       "3       8  \n",
       "4       8  \n",
       "5      10  \n",
       "6      10  \n",
       "7      11  \n",
       "8      11  \n",
       "9      11  \n",
       "10     12  \n",
       "11     12  \n",
       "12      3  \n",
       "13      3  \n",
       "14      3  \n",
       "15      4  \n",
       "16      4  \n",
       "17      6  \n",
       "18      7  \n",
       "19      7  "
      ]
     },
     "execution_count": 34,
     "metadata": {},
     "output_type": "execute_result"
    }
   ],
   "source": [
    "#создание переменной для общего датафрейма, \n",
    "#добавление в него данных из data_users и data_subs\n",
    "data_full = data_users.merge(data_subs, on='subscription_type')\n",
    "\n",
    "#добавление данных из data_rides\n",
    "data_full = data_full.merge(data_rides, on='user_id')\n",
    "\n",
    "#вывод первых 20 строк полученного датафрейма\n",
    "data_full.head(20)"
   ]
  },
  {
   "cell_type": "markdown",
   "id": "76529544",
   "metadata": {},
   "source": [
    "Основная информация о полученном датафрейме, проверка на пропуски и явные дубликаты."
   ]
  },
  {
   "cell_type": "code",
   "execution_count": 35,
   "id": "72361fd4",
   "metadata": {},
   "outputs": [
    {
     "name": "stdout",
     "output_type": "stream",
     "text": [
      "<class 'pandas.core.frame.DataFrame'>\n",
      "Int64Index: 17973 entries, 0 to 17972\n",
      "Data columns (total 12 columns):\n",
      " #   Column             Non-Null Count  Dtype         \n",
      "---  ------             --------------  -----         \n",
      " 0   user_id            17973 non-null  int64         \n",
      " 1   name               17973 non-null  object        \n",
      " 2   age                17973 non-null  int64         \n",
      " 3   city               17973 non-null  object        \n",
      " 4   subscription_type  17973 non-null  object        \n",
      " 5   minute_price       17973 non-null  int64         \n",
      " 6   start_ride_price   17973 non-null  int64         \n",
      " 7   subscription_fee   17973 non-null  int64         \n",
      " 8   distance           17973 non-null  float64       \n",
      " 9   duration           17973 non-null  float64       \n",
      " 10  date               17973 non-null  datetime64[ns]\n",
      " 11  month              17973 non-null  int32         \n",
      "dtypes: datetime64[ns](1), float64(2), int32(1), int64(5), object(3)\n",
      "memory usage: 1.7+ MB\n",
      "None \n",
      " \n",
      " Количество пропусков:\n",
      " \n",
      " user_id              0\n",
      "name                 0\n",
      "age                  0\n",
      "city                 0\n",
      "subscription_type    0\n",
      "minute_price         0\n",
      "start_ride_price     0\n",
      "subscription_fee     0\n",
      "distance             0\n",
      "duration             0\n",
      "date                 0\n",
      "month                0\n",
      "dtype: int64 \n",
      " \n",
      " Количество дубликатов: 0\n"
     ]
    }
   ],
   "source": [
    "print(data_full.info(),\n",
    "      '\\n',\n",
    "      '\\n',\n",
    "      'Количество пропусков:'\n",
    "      '\\n',\n",
    "      '\\n',\n",
    "      data_full.isna().sum(),\n",
    "      '\\n',\n",
    "      '\\n',\n",
    "      f'Количество дубликатов: {data_full.duplicated().sum()}'\n",
    "     )\n",
    "\n"
   ]
  },
  {
   "cell_type": "markdown",
   "id": "9b45ff6b",
   "metadata": {},
   "source": [
    "Сравним количество строк полученного датафрейма с количеством строк исходных. Поскольку объединение сделано по типу \"inner\", достаточно сравнить с количеством строк в самом большом из исходных датафреймов - **data_rides**."
   ]
  },
  {
   "cell_type": "code",
   "execution_count": 36,
   "id": "12779fb8",
   "metadata": {},
   "outputs": [
    {
     "data": {
      "text/plain": [
       "(17973, 5)"
      ]
     },
     "execution_count": 36,
     "metadata": {},
     "output_type": "execute_result"
    }
   ],
   "source": [
    "data_rides.shape"
   ]
  },
  {
   "cell_type": "markdown",
   "id": "8e69a57d",
   "metadata": {},
   "source": [
    "В обоих случаях по 17973 строки.\n",
    "\n",
    "С датафреймом всё в порядке."
   ]
  },
  {
   "cell_type": "markdown",
   "id": "9b3aeb80",
   "metadata": {},
   "source": [
    "##### Создание из полученного датафрейма двух датафреймов для пользователей с подпиской и без"
   ]
  },
  {
   "cell_type": "markdown",
   "id": "2ed0d463",
   "metadata": {},
   "source": [
    "Датафрейм для пользователей без подписки:"
   ]
  },
  {
   "cell_type": "code",
   "execution_count": 37,
   "id": "0a2e5989",
   "metadata": {},
   "outputs": [
    {
     "data": {
      "text/html": [
       "<div>\n",
       "<style scoped>\n",
       "    .dataframe tbody tr th:only-of-type {\n",
       "        vertical-align: middle;\n",
       "    }\n",
       "\n",
       "    .dataframe tbody tr th {\n",
       "        vertical-align: top;\n",
       "    }\n",
       "\n",
       "    .dataframe thead th {\n",
       "        text-align: right;\n",
       "    }\n",
       "</style>\n",
       "<table border=\"1\" class=\"dataframe\">\n",
       "  <thead>\n",
       "    <tr style=\"text-align: right;\">\n",
       "      <th></th>\n",
       "      <th>user_id</th>\n",
       "      <th>name</th>\n",
       "      <th>age</th>\n",
       "      <th>city</th>\n",
       "      <th>subscription_type</th>\n",
       "      <th>minute_price</th>\n",
       "      <th>start_ride_price</th>\n",
       "      <th>subscription_fee</th>\n",
       "      <th>distance</th>\n",
       "      <th>duration</th>\n",
       "      <th>date</th>\n",
       "      <th>month</th>\n",
       "    </tr>\n",
       "  </thead>\n",
       "  <tbody>\n",
       "    <tr>\n",
       "      <th>0</th>\n",
       "      <td>1</td>\n",
       "      <td>Кира</td>\n",
       "      <td>22</td>\n",
       "      <td>Тюмень</td>\n",
       "      <td>ultra</td>\n",
       "      <td>6</td>\n",
       "      <td>0</td>\n",
       "      <td>199</td>\n",
       "      <td>4409.919140</td>\n",
       "      <td>25.599769</td>\n",
       "      <td>2021-01-01</td>\n",
       "      <td>1</td>\n",
       "    </tr>\n",
       "    <tr>\n",
       "      <th>1</th>\n",
       "      <td>1</td>\n",
       "      <td>Кира</td>\n",
       "      <td>22</td>\n",
       "      <td>Тюмень</td>\n",
       "      <td>ultra</td>\n",
       "      <td>6</td>\n",
       "      <td>0</td>\n",
       "      <td>199</td>\n",
       "      <td>2617.592153</td>\n",
       "      <td>15.816871</td>\n",
       "      <td>2021-01-18</td>\n",
       "      <td>1</td>\n",
       "    </tr>\n",
       "    <tr>\n",
       "      <th>2</th>\n",
       "      <td>1</td>\n",
       "      <td>Кира</td>\n",
       "      <td>22</td>\n",
       "      <td>Тюмень</td>\n",
       "      <td>ultra</td>\n",
       "      <td>6</td>\n",
       "      <td>0</td>\n",
       "      <td>199</td>\n",
       "      <td>754.159807</td>\n",
       "      <td>6.232113</td>\n",
       "      <td>2021-04-20</td>\n",
       "      <td>4</td>\n",
       "    </tr>\n",
       "    <tr>\n",
       "      <th>3</th>\n",
       "      <td>1</td>\n",
       "      <td>Кира</td>\n",
       "      <td>22</td>\n",
       "      <td>Тюмень</td>\n",
       "      <td>ultra</td>\n",
       "      <td>6</td>\n",
       "      <td>0</td>\n",
       "      <td>199</td>\n",
       "      <td>2694.783254</td>\n",
       "      <td>18.511000</td>\n",
       "      <td>2021-08-11</td>\n",
       "      <td>8</td>\n",
       "    </tr>\n",
       "    <tr>\n",
       "      <th>4</th>\n",
       "      <td>1</td>\n",
       "      <td>Кира</td>\n",
       "      <td>22</td>\n",
       "      <td>Тюмень</td>\n",
       "      <td>ultra</td>\n",
       "      <td>6</td>\n",
       "      <td>0</td>\n",
       "      <td>199</td>\n",
       "      <td>4028.687306</td>\n",
       "      <td>26.265803</td>\n",
       "      <td>2021-08-28</td>\n",
       "      <td>8</td>\n",
       "    </tr>\n",
       "    <tr>\n",
       "      <th>5</th>\n",
       "      <td>1</td>\n",
       "      <td>Кира</td>\n",
       "      <td>22</td>\n",
       "      <td>Тюмень</td>\n",
       "      <td>ultra</td>\n",
       "      <td>6</td>\n",
       "      <td>0</td>\n",
       "      <td>199</td>\n",
       "      <td>2770.890808</td>\n",
       "      <td>16.650138</td>\n",
       "      <td>2021-10-09</td>\n",
       "      <td>10</td>\n",
       "    </tr>\n",
       "    <tr>\n",
       "      <th>6</th>\n",
       "      <td>1</td>\n",
       "      <td>Кира</td>\n",
       "      <td>22</td>\n",
       "      <td>Тюмень</td>\n",
       "      <td>ultra</td>\n",
       "      <td>6</td>\n",
       "      <td>0</td>\n",
       "      <td>199</td>\n",
       "      <td>3039.020292</td>\n",
       "      <td>14.927879</td>\n",
       "      <td>2021-10-19</td>\n",
       "      <td>10</td>\n",
       "    </tr>\n",
       "    <tr>\n",
       "      <th>7</th>\n",
       "      <td>1</td>\n",
       "      <td>Кира</td>\n",
       "      <td>22</td>\n",
       "      <td>Тюмень</td>\n",
       "      <td>ultra</td>\n",
       "      <td>6</td>\n",
       "      <td>0</td>\n",
       "      <td>199</td>\n",
       "      <td>2842.118050</td>\n",
       "      <td>23.117468</td>\n",
       "      <td>2021-11-06</td>\n",
       "      <td>11</td>\n",
       "    </tr>\n",
       "    <tr>\n",
       "      <th>8</th>\n",
       "      <td>1</td>\n",
       "      <td>Кира</td>\n",
       "      <td>22</td>\n",
       "      <td>Тюмень</td>\n",
       "      <td>ultra</td>\n",
       "      <td>6</td>\n",
       "      <td>0</td>\n",
       "      <td>199</td>\n",
       "      <td>3412.690668</td>\n",
       "      <td>15.238072</td>\n",
       "      <td>2021-11-14</td>\n",
       "      <td>11</td>\n",
       "    </tr>\n",
       "    <tr>\n",
       "      <th>9</th>\n",
       "      <td>1</td>\n",
       "      <td>Кира</td>\n",
       "      <td>22</td>\n",
       "      <td>Тюмень</td>\n",
       "      <td>ultra</td>\n",
       "      <td>6</td>\n",
       "      <td>0</td>\n",
       "      <td>199</td>\n",
       "      <td>748.690645</td>\n",
       "      <td>15.041884</td>\n",
       "      <td>2021-11-22</td>\n",
       "      <td>11</td>\n",
       "    </tr>\n",
       "    <tr>\n",
       "      <th>10</th>\n",
       "      <td>1</td>\n",
       "      <td>Кира</td>\n",
       "      <td>22</td>\n",
       "      <td>Тюмень</td>\n",
       "      <td>ultra</td>\n",
       "      <td>6</td>\n",
       "      <td>0</td>\n",
       "      <td>199</td>\n",
       "      <td>4031.020195</td>\n",
       "      <td>17.674448</td>\n",
       "      <td>2021-12-14</td>\n",
       "      <td>12</td>\n",
       "    </tr>\n",
       "    <tr>\n",
       "      <th>11</th>\n",
       "      <td>1</td>\n",
       "      <td>Кира</td>\n",
       "      <td>22</td>\n",
       "      <td>Тюмень</td>\n",
       "      <td>ultra</td>\n",
       "      <td>6</td>\n",
       "      <td>0</td>\n",
       "      <td>199</td>\n",
       "      <td>2720.609748</td>\n",
       "      <td>9.529463</td>\n",
       "      <td>2021-12-22</td>\n",
       "      <td>12</td>\n",
       "    </tr>\n",
       "    <tr>\n",
       "      <th>12</th>\n",
       "      <td>2</td>\n",
       "      <td>Станислав</td>\n",
       "      <td>31</td>\n",
       "      <td>Омск</td>\n",
       "      <td>ultra</td>\n",
       "      <td>6</td>\n",
       "      <td>0</td>\n",
       "      <td>199</td>\n",
       "      <td>3105.086678</td>\n",
       "      <td>24.307514</td>\n",
       "      <td>2021-03-15</td>\n",
       "      <td>3</td>\n",
       "    </tr>\n",
       "    <tr>\n",
       "      <th>13</th>\n",
       "      <td>2</td>\n",
       "      <td>Станислав</td>\n",
       "      <td>31</td>\n",
       "      <td>Омск</td>\n",
       "      <td>ultra</td>\n",
       "      <td>6</td>\n",
       "      <td>0</td>\n",
       "      <td>199</td>\n",
       "      <td>3053.519401</td>\n",
       "      <td>11.543256</td>\n",
       "      <td>2021-03-18</td>\n",
       "      <td>3</td>\n",
       "    </tr>\n",
       "    <tr>\n",
       "      <th>14</th>\n",
       "      <td>2</td>\n",
       "      <td>Станислав</td>\n",
       "      <td>31</td>\n",
       "      <td>Омск</td>\n",
       "      <td>ultra</td>\n",
       "      <td>6</td>\n",
       "      <td>0</td>\n",
       "      <td>199</td>\n",
       "      <td>4029.116927</td>\n",
       "      <td>25.109188</td>\n",
       "      <td>2021-03-23</td>\n",
       "      <td>3</td>\n",
       "    </tr>\n",
       "    <tr>\n",
       "      <th>15</th>\n",
       "      <td>2</td>\n",
       "      <td>Станислав</td>\n",
       "      <td>31</td>\n",
       "      <td>Омск</td>\n",
       "      <td>ultra</td>\n",
       "      <td>6</td>\n",
       "      <td>0</td>\n",
       "      <td>199</td>\n",
       "      <td>2805.786329</td>\n",
       "      <td>20.652145</td>\n",
       "      <td>2021-04-08</td>\n",
       "      <td>4</td>\n",
       "    </tr>\n",
       "    <tr>\n",
       "      <th>16</th>\n",
       "      <td>2</td>\n",
       "      <td>Станислав</td>\n",
       "      <td>31</td>\n",
       "      <td>Омск</td>\n",
       "      <td>ultra</td>\n",
       "      <td>6</td>\n",
       "      <td>0</td>\n",
       "      <td>199</td>\n",
       "      <td>3358.595495</td>\n",
       "      <td>18.396489</td>\n",
       "      <td>2021-04-13</td>\n",
       "      <td>4</td>\n",
       "    </tr>\n",
       "    <tr>\n",
       "      <th>17</th>\n",
       "      <td>2</td>\n",
       "      <td>Станислав</td>\n",
       "      <td>31</td>\n",
       "      <td>Омск</td>\n",
       "      <td>ultra</td>\n",
       "      <td>6</td>\n",
       "      <td>0</td>\n",
       "      <td>199</td>\n",
       "      <td>3255.338202</td>\n",
       "      <td>13.851127</td>\n",
       "      <td>2021-06-20</td>\n",
       "      <td>6</td>\n",
       "    </tr>\n",
       "    <tr>\n",
       "      <th>18</th>\n",
       "      <td>2</td>\n",
       "      <td>Станислав</td>\n",
       "      <td>31</td>\n",
       "      <td>Омск</td>\n",
       "      <td>ultra</td>\n",
       "      <td>6</td>\n",
       "      <td>0</td>\n",
       "      <td>199</td>\n",
       "      <td>3942.817648</td>\n",
       "      <td>20.142725</td>\n",
       "      <td>2021-07-02</td>\n",
       "      <td>7</td>\n",
       "    </tr>\n",
       "    <tr>\n",
       "      <th>19</th>\n",
       "      <td>2</td>\n",
       "      <td>Станислав</td>\n",
       "      <td>31</td>\n",
       "      <td>Омск</td>\n",
       "      <td>ultra</td>\n",
       "      <td>6</td>\n",
       "      <td>0</td>\n",
       "      <td>199</td>\n",
       "      <td>2837.905316</td>\n",
       "      <td>26.027432</td>\n",
       "      <td>2021-07-18</td>\n",
       "      <td>7</td>\n",
       "    </tr>\n",
       "  </tbody>\n",
       "</table>\n",
       "</div>"
      ],
      "text/plain": [
       "    user_id       name  age    city subscription_type  minute_price  \\\n",
       "0         1       Кира   22  Тюмень             ultra             6   \n",
       "1         1       Кира   22  Тюмень             ultra             6   \n",
       "2         1       Кира   22  Тюмень             ultra             6   \n",
       "3         1       Кира   22  Тюмень             ultra             6   \n",
       "4         1       Кира   22  Тюмень             ultra             6   \n",
       "5         1       Кира   22  Тюмень             ultra             6   \n",
       "6         1       Кира   22  Тюмень             ultra             6   \n",
       "7         1       Кира   22  Тюмень             ultra             6   \n",
       "8         1       Кира   22  Тюмень             ultra             6   \n",
       "9         1       Кира   22  Тюмень             ultra             6   \n",
       "10        1       Кира   22  Тюмень             ultra             6   \n",
       "11        1       Кира   22  Тюмень             ultra             6   \n",
       "12        2  Станислав   31    Омск             ultra             6   \n",
       "13        2  Станислав   31    Омск             ultra             6   \n",
       "14        2  Станислав   31    Омск             ultra             6   \n",
       "15        2  Станислав   31    Омск             ultra             6   \n",
       "16        2  Станислав   31    Омск             ultra             6   \n",
       "17        2  Станислав   31    Омск             ultra             6   \n",
       "18        2  Станислав   31    Омск             ultra             6   \n",
       "19        2  Станислав   31    Омск             ultra             6   \n",
       "\n",
       "    start_ride_price  subscription_fee     distance   duration       date  \\\n",
       "0                  0               199  4409.919140  25.599769 2021-01-01   \n",
       "1                  0               199  2617.592153  15.816871 2021-01-18   \n",
       "2                  0               199   754.159807   6.232113 2021-04-20   \n",
       "3                  0               199  2694.783254  18.511000 2021-08-11   \n",
       "4                  0               199  4028.687306  26.265803 2021-08-28   \n",
       "5                  0               199  2770.890808  16.650138 2021-10-09   \n",
       "6                  0               199  3039.020292  14.927879 2021-10-19   \n",
       "7                  0               199  2842.118050  23.117468 2021-11-06   \n",
       "8                  0               199  3412.690668  15.238072 2021-11-14   \n",
       "9                  0               199   748.690645  15.041884 2021-11-22   \n",
       "10                 0               199  4031.020195  17.674448 2021-12-14   \n",
       "11                 0               199  2720.609748   9.529463 2021-12-22   \n",
       "12                 0               199  3105.086678  24.307514 2021-03-15   \n",
       "13                 0               199  3053.519401  11.543256 2021-03-18   \n",
       "14                 0               199  4029.116927  25.109188 2021-03-23   \n",
       "15                 0               199  2805.786329  20.652145 2021-04-08   \n",
       "16                 0               199  3358.595495  18.396489 2021-04-13   \n",
       "17                 0               199  3255.338202  13.851127 2021-06-20   \n",
       "18                 0               199  3942.817648  20.142725 2021-07-02   \n",
       "19                 0               199  2837.905316  26.027432 2021-07-18   \n",
       "\n",
       "    month  \n",
       "0       1  \n",
       "1       1  \n",
       "2       4  \n",
       "3       8  \n",
       "4       8  \n",
       "5      10  \n",
       "6      10  \n",
       "7      11  \n",
       "8      11  \n",
       "9      11  \n",
       "10     12  \n",
       "11     12  \n",
       "12      3  \n",
       "13      3  \n",
       "14      3  \n",
       "15      4  \n",
       "16      4  \n",
       "17      6  \n",
       "18      7  \n",
       "19      7  "
      ]
     },
     "execution_count": 37,
     "metadata": {},
     "output_type": "execute_result"
    }
   ],
   "source": [
    "#создание\n",
    "data_ultra = data_full.query('subscription_type == \"ultra\"').reset_index(drop=True)\n",
    "\n",
    "#вывод первых 20 строк\n",
    "data_ultra.head(20)"
   ]
  },
  {
   "cell_type": "markdown",
   "id": "e27a5440",
   "metadata": {},
   "source": [
    "Датафрейм для пользователей без подписки:"
   ]
  },
  {
   "cell_type": "code",
   "execution_count": 38,
   "id": "71ad66bf",
   "metadata": {},
   "outputs": [
    {
     "data": {
      "text/html": [
       "<div>\n",
       "<style scoped>\n",
       "    .dataframe tbody tr th:only-of-type {\n",
       "        vertical-align: middle;\n",
       "    }\n",
       "\n",
       "    .dataframe tbody tr th {\n",
       "        vertical-align: top;\n",
       "    }\n",
       "\n",
       "    .dataframe thead th {\n",
       "        text-align: right;\n",
       "    }\n",
       "</style>\n",
       "<table border=\"1\" class=\"dataframe\">\n",
       "  <thead>\n",
       "    <tr style=\"text-align: right;\">\n",
       "      <th></th>\n",
       "      <th>user_id</th>\n",
       "      <th>name</th>\n",
       "      <th>age</th>\n",
       "      <th>city</th>\n",
       "      <th>subscription_type</th>\n",
       "      <th>minute_price</th>\n",
       "      <th>start_ride_price</th>\n",
       "      <th>subscription_fee</th>\n",
       "      <th>distance</th>\n",
       "      <th>duration</th>\n",
       "      <th>date</th>\n",
       "      <th>month</th>\n",
       "    </tr>\n",
       "  </thead>\n",
       "  <tbody>\n",
       "    <tr>\n",
       "      <th>0</th>\n",
       "      <td>700</td>\n",
       "      <td>Айдар</td>\n",
       "      <td>22</td>\n",
       "      <td>Омск</td>\n",
       "      <td>free</td>\n",
       "      <td>8</td>\n",
       "      <td>50</td>\n",
       "      <td>0</td>\n",
       "      <td>2515.690719</td>\n",
       "      <td>14.944286</td>\n",
       "      <td>2021-01-02</td>\n",
       "      <td>1</td>\n",
       "    </tr>\n",
       "    <tr>\n",
       "      <th>1</th>\n",
       "      <td>700</td>\n",
       "      <td>Айдар</td>\n",
       "      <td>22</td>\n",
       "      <td>Омск</td>\n",
       "      <td>free</td>\n",
       "      <td>8</td>\n",
       "      <td>50</td>\n",
       "      <td>0</td>\n",
       "      <td>846.932642</td>\n",
       "      <td>16.234663</td>\n",
       "      <td>2021-02-01</td>\n",
       "      <td>2</td>\n",
       "    </tr>\n",
       "    <tr>\n",
       "      <th>2</th>\n",
       "      <td>700</td>\n",
       "      <td>Айдар</td>\n",
       "      <td>22</td>\n",
       "      <td>Омск</td>\n",
       "      <td>free</td>\n",
       "      <td>8</td>\n",
       "      <td>50</td>\n",
       "      <td>0</td>\n",
       "      <td>4004.434142</td>\n",
       "      <td>20.016628</td>\n",
       "      <td>2021-02-04</td>\n",
       "      <td>2</td>\n",
       "    </tr>\n",
       "    <tr>\n",
       "      <th>3</th>\n",
       "      <td>700</td>\n",
       "      <td>Айдар</td>\n",
       "      <td>22</td>\n",
       "      <td>Омск</td>\n",
       "      <td>free</td>\n",
       "      <td>8</td>\n",
       "      <td>50</td>\n",
       "      <td>0</td>\n",
       "      <td>1205.911290</td>\n",
       "      <td>9.782872</td>\n",
       "      <td>2021-02-10</td>\n",
       "      <td>2</td>\n",
       "    </tr>\n",
       "    <tr>\n",
       "      <th>4</th>\n",
       "      <td>700</td>\n",
       "      <td>Айдар</td>\n",
       "      <td>22</td>\n",
       "      <td>Омск</td>\n",
       "      <td>free</td>\n",
       "      <td>8</td>\n",
       "      <td>50</td>\n",
       "      <td>0</td>\n",
       "      <td>3047.379435</td>\n",
       "      <td>17.427673</td>\n",
       "      <td>2021-02-14</td>\n",
       "      <td>2</td>\n",
       "    </tr>\n",
       "    <tr>\n",
       "      <th>5</th>\n",
       "      <td>700</td>\n",
       "      <td>Айдар</td>\n",
       "      <td>22</td>\n",
       "      <td>Омск</td>\n",
       "      <td>free</td>\n",
       "      <td>8</td>\n",
       "      <td>50</td>\n",
       "      <td>0</td>\n",
       "      <td>4342.002254</td>\n",
       "      <td>22.368009</td>\n",
       "      <td>2021-02-23</td>\n",
       "      <td>2</td>\n",
       "    </tr>\n",
       "    <tr>\n",
       "      <th>6</th>\n",
       "      <td>700</td>\n",
       "      <td>Айдар</td>\n",
       "      <td>22</td>\n",
       "      <td>Омск</td>\n",
       "      <td>free</td>\n",
       "      <td>8</td>\n",
       "      <td>50</td>\n",
       "      <td>0</td>\n",
       "      <td>3798.334905</td>\n",
       "      <td>18.243756</td>\n",
       "      <td>2021-03-03</td>\n",
       "      <td>3</td>\n",
       "    </tr>\n",
       "    <tr>\n",
       "      <th>7</th>\n",
       "      <td>700</td>\n",
       "      <td>Айдар</td>\n",
       "      <td>22</td>\n",
       "      <td>Омск</td>\n",
       "      <td>free</td>\n",
       "      <td>8</td>\n",
       "      <td>50</td>\n",
       "      <td>0</td>\n",
       "      <td>2984.551206</td>\n",
       "      <td>15.424899</td>\n",
       "      <td>2021-04-09</td>\n",
       "      <td>4</td>\n",
       "    </tr>\n",
       "    <tr>\n",
       "      <th>8</th>\n",
       "      <td>700</td>\n",
       "      <td>Айдар</td>\n",
       "      <td>22</td>\n",
       "      <td>Омск</td>\n",
       "      <td>free</td>\n",
       "      <td>8</td>\n",
       "      <td>50</td>\n",
       "      <td>0</td>\n",
       "      <td>3360.107141</td>\n",
       "      <td>16.765497</td>\n",
       "      <td>2021-06-12</td>\n",
       "      <td>6</td>\n",
       "    </tr>\n",
       "    <tr>\n",
       "      <th>9</th>\n",
       "      <td>700</td>\n",
       "      <td>Айдар</td>\n",
       "      <td>22</td>\n",
       "      <td>Омск</td>\n",
       "      <td>free</td>\n",
       "      <td>8</td>\n",
       "      <td>50</td>\n",
       "      <td>0</td>\n",
       "      <td>2567.543847</td>\n",
       "      <td>11.312160</td>\n",
       "      <td>2021-06-23</td>\n",
       "      <td>6</td>\n",
       "    </tr>\n",
       "    <tr>\n",
       "      <th>10</th>\n",
       "      <td>700</td>\n",
       "      <td>Айдар</td>\n",
       "      <td>22</td>\n",
       "      <td>Омск</td>\n",
       "      <td>free</td>\n",
       "      <td>8</td>\n",
       "      <td>50</td>\n",
       "      <td>0</td>\n",
       "      <td>4110.232038</td>\n",
       "      <td>15.807640</td>\n",
       "      <td>2021-07-08</td>\n",
       "      <td>7</td>\n",
       "    </tr>\n",
       "    <tr>\n",
       "      <th>11</th>\n",
       "      <td>700</td>\n",
       "      <td>Айдар</td>\n",
       "      <td>22</td>\n",
       "      <td>Омск</td>\n",
       "      <td>free</td>\n",
       "      <td>8</td>\n",
       "      <td>50</td>\n",
       "      <td>0</td>\n",
       "      <td>288.974241</td>\n",
       "      <td>4.788112</td>\n",
       "      <td>2021-07-18</td>\n",
       "      <td>7</td>\n",
       "    </tr>\n",
       "    <tr>\n",
       "      <th>12</th>\n",
       "      <td>700</td>\n",
       "      <td>Айдар</td>\n",
       "      <td>22</td>\n",
       "      <td>Омск</td>\n",
       "      <td>free</td>\n",
       "      <td>8</td>\n",
       "      <td>50</td>\n",
       "      <td>0</td>\n",
       "      <td>4071.654669</td>\n",
       "      <td>16.370546</td>\n",
       "      <td>2021-08-17</td>\n",
       "      <td>8</td>\n",
       "    </tr>\n",
       "    <tr>\n",
       "      <th>13</th>\n",
       "      <td>700</td>\n",
       "      <td>Айдар</td>\n",
       "      <td>22</td>\n",
       "      <td>Омск</td>\n",
       "      <td>free</td>\n",
       "      <td>8</td>\n",
       "      <td>50</td>\n",
       "      <td>0</td>\n",
       "      <td>1920.188901</td>\n",
       "      <td>9.608453</td>\n",
       "      <td>2021-10-08</td>\n",
       "      <td>10</td>\n",
       "    </tr>\n",
       "    <tr>\n",
       "      <th>14</th>\n",
       "      <td>700</td>\n",
       "      <td>Айдар</td>\n",
       "      <td>22</td>\n",
       "      <td>Омск</td>\n",
       "      <td>free</td>\n",
       "      <td>8</td>\n",
       "      <td>50</td>\n",
       "      <td>0</td>\n",
       "      <td>4402.389717</td>\n",
       "      <td>33.013035</td>\n",
       "      <td>2021-10-15</td>\n",
       "      <td>10</td>\n",
       "    </tr>\n",
       "    <tr>\n",
       "      <th>15</th>\n",
       "      <td>700</td>\n",
       "      <td>Айдар</td>\n",
       "      <td>22</td>\n",
       "      <td>Омск</td>\n",
       "      <td>free</td>\n",
       "      <td>8</td>\n",
       "      <td>50</td>\n",
       "      <td>0</td>\n",
       "      <td>2409.555418</td>\n",
       "      <td>8.560513</td>\n",
       "      <td>2021-11-03</td>\n",
       "      <td>11</td>\n",
       "    </tr>\n",
       "    <tr>\n",
       "      <th>16</th>\n",
       "      <td>700</td>\n",
       "      <td>Айдар</td>\n",
       "      <td>22</td>\n",
       "      <td>Омск</td>\n",
       "      <td>free</td>\n",
       "      <td>8</td>\n",
       "      <td>50</td>\n",
       "      <td>0</td>\n",
       "      <td>2639.817512</td>\n",
       "      <td>8.656752</td>\n",
       "      <td>2021-11-14</td>\n",
       "      <td>11</td>\n",
       "    </tr>\n",
       "    <tr>\n",
       "      <th>17</th>\n",
       "      <td>700</td>\n",
       "      <td>Айдар</td>\n",
       "      <td>22</td>\n",
       "      <td>Омск</td>\n",
       "      <td>free</td>\n",
       "      <td>8</td>\n",
       "      <td>50</td>\n",
       "      <td>0</td>\n",
       "      <td>3686.409695</td>\n",
       "      <td>13.899449</td>\n",
       "      <td>2021-11-21</td>\n",
       "      <td>11</td>\n",
       "    </tr>\n",
       "    <tr>\n",
       "      <th>18</th>\n",
       "      <td>701</td>\n",
       "      <td>Иван</td>\n",
       "      <td>31</td>\n",
       "      <td>Екатеринбург</td>\n",
       "      <td>free</td>\n",
       "      <td>8</td>\n",
       "      <td>50</td>\n",
       "      <td>0</td>\n",
       "      <td>2676.472894</td>\n",
       "      <td>17.470598</td>\n",
       "      <td>2021-01-23</td>\n",
       "      <td>1</td>\n",
       "    </tr>\n",
       "    <tr>\n",
       "      <th>19</th>\n",
       "      <td>701</td>\n",
       "      <td>Иван</td>\n",
       "      <td>31</td>\n",
       "      <td>Екатеринбург</td>\n",
       "      <td>free</td>\n",
       "      <td>8</td>\n",
       "      <td>50</td>\n",
       "      <td>0</td>\n",
       "      <td>2743.677431</td>\n",
       "      <td>14.974710</td>\n",
       "      <td>2021-02-13</td>\n",
       "      <td>2</td>\n",
       "    </tr>\n",
       "  </tbody>\n",
       "</table>\n",
       "</div>"
      ],
      "text/plain": [
       "    user_id   name  age          city subscription_type  minute_price  \\\n",
       "0       700  Айдар   22          Омск              free             8   \n",
       "1       700  Айдар   22          Омск              free             8   \n",
       "2       700  Айдар   22          Омск              free             8   \n",
       "3       700  Айдар   22          Омск              free             8   \n",
       "4       700  Айдар   22          Омск              free             8   \n",
       "5       700  Айдар   22          Омск              free             8   \n",
       "6       700  Айдар   22          Омск              free             8   \n",
       "7       700  Айдар   22          Омск              free             8   \n",
       "8       700  Айдар   22          Омск              free             8   \n",
       "9       700  Айдар   22          Омск              free             8   \n",
       "10      700  Айдар   22          Омск              free             8   \n",
       "11      700  Айдар   22          Омск              free             8   \n",
       "12      700  Айдар   22          Омск              free             8   \n",
       "13      700  Айдар   22          Омск              free             8   \n",
       "14      700  Айдар   22          Омск              free             8   \n",
       "15      700  Айдар   22          Омск              free             8   \n",
       "16      700  Айдар   22          Омск              free             8   \n",
       "17      700  Айдар   22          Омск              free             8   \n",
       "18      701   Иван   31  Екатеринбург              free             8   \n",
       "19      701   Иван   31  Екатеринбург              free             8   \n",
       "\n",
       "    start_ride_price  subscription_fee     distance   duration       date  \\\n",
       "0                 50                 0  2515.690719  14.944286 2021-01-02   \n",
       "1                 50                 0   846.932642  16.234663 2021-02-01   \n",
       "2                 50                 0  4004.434142  20.016628 2021-02-04   \n",
       "3                 50                 0  1205.911290   9.782872 2021-02-10   \n",
       "4                 50                 0  3047.379435  17.427673 2021-02-14   \n",
       "5                 50                 0  4342.002254  22.368009 2021-02-23   \n",
       "6                 50                 0  3798.334905  18.243756 2021-03-03   \n",
       "7                 50                 0  2984.551206  15.424899 2021-04-09   \n",
       "8                 50                 0  3360.107141  16.765497 2021-06-12   \n",
       "9                 50                 0  2567.543847  11.312160 2021-06-23   \n",
       "10                50                 0  4110.232038  15.807640 2021-07-08   \n",
       "11                50                 0   288.974241   4.788112 2021-07-18   \n",
       "12                50                 0  4071.654669  16.370546 2021-08-17   \n",
       "13                50                 0  1920.188901   9.608453 2021-10-08   \n",
       "14                50                 0  4402.389717  33.013035 2021-10-15   \n",
       "15                50                 0  2409.555418   8.560513 2021-11-03   \n",
       "16                50                 0  2639.817512   8.656752 2021-11-14   \n",
       "17                50                 0  3686.409695  13.899449 2021-11-21   \n",
       "18                50                 0  2676.472894  17.470598 2021-01-23   \n",
       "19                50                 0  2743.677431  14.974710 2021-02-13   \n",
       "\n",
       "    month  \n",
       "0       1  \n",
       "1       2  \n",
       "2       2  \n",
       "3       2  \n",
       "4       2  \n",
       "5       2  \n",
       "6       3  \n",
       "7       4  \n",
       "8       6  \n",
       "9       6  \n",
       "10      7  \n",
       "11      7  \n",
       "12      8  \n",
       "13     10  \n",
       "14     10  \n",
       "15     11  \n",
       "16     11  \n",
       "17     11  \n",
       "18      1  \n",
       "19      2  "
      ]
     },
     "execution_count": 38,
     "metadata": {},
     "output_type": "execute_result"
    }
   ],
   "source": [
    "#создание\n",
    "data_free = data_full.query('subscription_type == \"free\"').reset_index(drop=True)\n",
    "\n",
    "#вывод первых 20 строк\n",
    "data_free.head(20)"
   ]
  },
  {
   "cell_type": "markdown",
   "id": "86eb32bd",
   "metadata": {},
   "source": [
    " ##### Визуализация информации о расстоянии и времени поездок для пользователей обеих категорий.\n",
    " "
   ]
  },
  {
   "cell_type": "markdown",
   "id": "1abfcb5b",
   "metadata": {},
   "source": [
    "Расстояние поездок."
   ]
  },
  {
   "cell_type": "code",
   "execution_count": 39,
   "id": "7529c013",
   "metadata": {},
   "outputs": [
    {
     "data": {
      "image/png": "[encoded data removed]",
      "text/plain": [
       "<Figure size 720x360 with 1 Axes>"
      ]
     },
     "metadata": {
      "needs_background": "light"
     },
     "output_type": "display_data"
    }
   ],
   "source": [
    "#график для пользователей без подписки\n",
    "data_free['distance'].plot(\n",
    "    kind='hist',\n",
    "    bins=150,\n",
    "    grid=True,\n",
    "    figsize=(10,5),\n",
    ");\n",
    "\n",
    "#график для пользователей с подпиской\n",
    "data_ultra['distance'].plot(\n",
    "    kind='hist',\n",
    "    bins=200,\n",
    "    grid=True,\n",
    "    color='brown',\n",
    "    figsize=(10,5)\n",
    ");\n",
    "\n",
    "plt.xlabel('Расстояние поездок, м')\n",
    "plt.ylabel('Количество поездок')\n",
    "plt.legend(['Без подписки', 'С подпиской ultra'])\n",
    "plt.title('Гистограммы распределения расстояний поездок')\n",
    "plt.show()"
   ]
  },
  {
   "cell_type": "markdown",
   "id": "7a95a460",
   "metadata": {},
   "source": [
    "Распределение дальности поездок как для пользователей с подпиской, так и без, имеет по два пика: один около 3100 м, второй для пользователей с подпиской около 1000 м, без подписки около 700 м.\n",
    "\n",
    "Большое количество коротких поездок (менее 500 м) в сегменте пользователей без подписки может говорить в пользу версии о том, что речь здесь действительно идёт о первых пробных поездках. Для проверки такой гипотезы нужно больше данных."
   ]
  },
  {
   "cell_type": "markdown",
   "id": "45bcd83a",
   "metadata": {},
   "source": [
    "Продолжительность поездок."
   ]
  },
  {
   "cell_type": "code",
   "execution_count": 40,
   "id": "8fbe0999",
   "metadata": {},
   "outputs": [
    {
     "data": {
      "image/png": "[encoded data removed]",
      "text/plain": [
       "<Figure size 720x360 with 1 Axes>"
      ]
     },
     "metadata": {
      "needs_background": "light"
     },
     "output_type": "display_data"
    }
   ],
   "source": [
    "#график для пользователей без подписки\n",
    "data_free['duration'].plot(\n",
    "    kind='hist',\n",
    "    bins=150,\n",
    "    grid=True,\n",
    "    figsize=(10,5),\n",
    ");\n",
    "\n",
    "#график для пользователей с подпиской\n",
    "data_ultra['duration'].plot(\n",
    "    kind='hist',\n",
    "    bins=150,\n",
    "    grid=True,\n",
    "    color='brown',\n",
    "    figsize=(10,5)\n",
    ");\n",
    "\n",
    "plt.xlabel('Продолжительность поездок, мин.')\n",
    "plt.ylabel('Количество поездок')\n",
    "plt.legend(['Без подписки', 'С подпиской ultra'])\n",
    "plt.title('Гистограммы распределения продолжительности поездок')\n",
    "plt.show()"
   ]
  },
  {
   "cell_type": "markdown",
   "id": "b34ce822",
   "metadata": {},
   "source": [
    "Распределение продолжительности поездок как для пользователей с подпиской, так и без, близко к нормальному с пиковым значением около 17-18 минут."
   ]
  },
  {
   "cell_type": "markdown",
   "id": "1e6e55c7",
   "metadata": {},
   "source": [
    "#### Шаг 5. Подсчёт выручки"
   ]
  },
  {
   "cell_type": "markdown",
   "id": "e906bfe0",
   "metadata": {},
   "source": [
    "##### Создание датафрейма с агрегированными данными , содержащего суммарное расстояние, количество поездок  и суммарное время для каждого пользователя за каждый месяц."
   ]
  },
  {
   "cell_type": "code",
   "execution_count": 41,
   "id": "ea58609a",
   "metadata": {},
   "outputs": [],
   "source": [
    "#округление продолжительности каждой поездки до целых значений минут\n",
    "data_full['duration'] = np.ceil(data_full['duration'])\n",
    "\n",
    "#создание датафрейма с помощью сводной таблицы\n",
    "data_rev = data_full.pivot_table(\n",
    "    index=['user_id', 'month', 'start_ride_price', 'minute_price', 'subscription_fee', 'subscription_type'], \n",
    "    values=['duration', 'name', 'distance'], \n",
    "    aggfunc={'duration':'sum', 'name':'count', 'distance':'sum'}).reset_index()\n",
    "\n",
    "#переименование столбцов\n",
    "data_rev.rename(columns = {'distance':'distance_month', 'duration':'duration_month', 'name':'rides_month'},\n",
    "            inplace=True)\n",
    "\n",
    "#приведение столбцов к типу int, поскольку полученные значения целочисленные\n",
    "data_rev[[\n",
    "    'duration_month', \n",
    "    'rides_month'\n",
    "    ]] = data_rev[['duration_month', \n",
    "            'rides_month']].astype(int)"
   ]
  },
  {
   "cell_type": "markdown",
   "id": "836105cc",
   "metadata": {},
   "source": [
    "##### Добавление столбца с помесячной выручкой, рассчитанной для каждого пользователя."
   ]
  },
  {
   "cell_type": "code",
   "execution_count": 42,
   "id": "05098226",
   "metadata": {},
   "outputs": [
    {
     "data": {
      "text/html": [
       "<div>\n",
       "<style scoped>\n",
       "    .dataframe tbody tr th:only-of-type {\n",
       "        vertical-align: middle;\n",
       "    }\n",
       "\n",
       "    .dataframe tbody tr th {\n",
       "        vertical-align: top;\n",
       "    }\n",
       "\n",
       "    .dataframe thead th {\n",
       "        text-align: right;\n",
       "    }\n",
       "</style>\n",
       "<table border=\"1\" class=\"dataframe\">\n",
       "  <thead>\n",
       "    <tr style=\"text-align: right;\">\n",
       "      <th></th>\n",
       "      <th>user_id</th>\n",
       "      <th>month</th>\n",
       "      <th>start_ride_price</th>\n",
       "      <th>minute_price</th>\n",
       "      <th>subscription_fee</th>\n",
       "      <th>subscription_type</th>\n",
       "      <th>distance_month</th>\n",
       "      <th>duration_month</th>\n",
       "      <th>rides_month</th>\n",
       "      <th>month_revenue</th>\n",
       "    </tr>\n",
       "  </thead>\n",
       "  <tbody>\n",
       "    <tr>\n",
       "      <th>0</th>\n",
       "      <td>1</td>\n",
       "      <td>1</td>\n",
       "      <td>0</td>\n",
       "      <td>6</td>\n",
       "      <td>199</td>\n",
       "      <td>ultra</td>\n",
       "      <td>7027.511294</td>\n",
       "      <td>42</td>\n",
       "      <td>2</td>\n",
       "      <td>451</td>\n",
       "    </tr>\n",
       "    <tr>\n",
       "      <th>1</th>\n",
       "      <td>1</td>\n",
       "      <td>4</td>\n",
       "      <td>0</td>\n",
       "      <td>6</td>\n",
       "      <td>199</td>\n",
       "      <td>ultra</td>\n",
       "      <td>754.159807</td>\n",
       "      <td>7</td>\n",
       "      <td>1</td>\n",
       "      <td>241</td>\n",
       "    </tr>\n",
       "    <tr>\n",
       "      <th>2</th>\n",
       "      <td>1</td>\n",
       "      <td>8</td>\n",
       "      <td>0</td>\n",
       "      <td>6</td>\n",
       "      <td>199</td>\n",
       "      <td>ultra</td>\n",
       "      <td>6723.470560</td>\n",
       "      <td>46</td>\n",
       "      <td>2</td>\n",
       "      <td>475</td>\n",
       "    </tr>\n",
       "    <tr>\n",
       "      <th>3</th>\n",
       "      <td>1</td>\n",
       "      <td>10</td>\n",
       "      <td>0</td>\n",
       "      <td>6</td>\n",
       "      <td>199</td>\n",
       "      <td>ultra</td>\n",
       "      <td>5809.911100</td>\n",
       "      <td>32</td>\n",
       "      <td>2</td>\n",
       "      <td>391</td>\n",
       "    </tr>\n",
       "    <tr>\n",
       "      <th>4</th>\n",
       "      <td>1</td>\n",
       "      <td>11</td>\n",
       "      <td>0</td>\n",
       "      <td>6</td>\n",
       "      <td>199</td>\n",
       "      <td>ultra</td>\n",
       "      <td>7003.499363</td>\n",
       "      <td>56</td>\n",
       "      <td>3</td>\n",
       "      <td>535</td>\n",
       "    </tr>\n",
       "    <tr>\n",
       "      <th>5</th>\n",
       "      <td>1</td>\n",
       "      <td>12</td>\n",
       "      <td>0</td>\n",
       "      <td>6</td>\n",
       "      <td>199</td>\n",
       "      <td>ultra</td>\n",
       "      <td>6751.629942</td>\n",
       "      <td>28</td>\n",
       "      <td>2</td>\n",
       "      <td>367</td>\n",
       "    </tr>\n",
       "    <tr>\n",
       "      <th>6</th>\n",
       "      <td>2</td>\n",
       "      <td>3</td>\n",
       "      <td>0</td>\n",
       "      <td>6</td>\n",
       "      <td>199</td>\n",
       "      <td>ultra</td>\n",
       "      <td>10187.723006</td>\n",
       "      <td>63</td>\n",
       "      <td>3</td>\n",
       "      <td>577</td>\n",
       "    </tr>\n",
       "    <tr>\n",
       "      <th>7</th>\n",
       "      <td>2</td>\n",
       "      <td>4</td>\n",
       "      <td>0</td>\n",
       "      <td>6</td>\n",
       "      <td>199</td>\n",
       "      <td>ultra</td>\n",
       "      <td>6164.381824</td>\n",
       "      <td>40</td>\n",
       "      <td>2</td>\n",
       "      <td>439</td>\n",
       "    </tr>\n",
       "    <tr>\n",
       "      <th>8</th>\n",
       "      <td>2</td>\n",
       "      <td>6</td>\n",
       "      <td>0</td>\n",
       "      <td>6</td>\n",
       "      <td>199</td>\n",
       "      <td>ultra</td>\n",
       "      <td>3255.338202</td>\n",
       "      <td>14</td>\n",
       "      <td>1</td>\n",
       "      <td>283</td>\n",
       "    </tr>\n",
       "    <tr>\n",
       "      <th>9</th>\n",
       "      <td>2</td>\n",
       "      <td>7</td>\n",
       "      <td>0</td>\n",
       "      <td>6</td>\n",
       "      <td>199</td>\n",
       "      <td>ultra</td>\n",
       "      <td>6780.722964</td>\n",
       "      <td>48</td>\n",
       "      <td>2</td>\n",
       "      <td>487</td>\n",
       "    </tr>\n",
       "    <tr>\n",
       "      <th>10</th>\n",
       "      <td>2</td>\n",
       "      <td>8</td>\n",
       "      <td>0</td>\n",
       "      <td>6</td>\n",
       "      <td>199</td>\n",
       "      <td>ultra</td>\n",
       "      <td>923.007439</td>\n",
       "      <td>7</td>\n",
       "      <td>1</td>\n",
       "      <td>241</td>\n",
       "    </tr>\n",
       "    <tr>\n",
       "      <th>11</th>\n",
       "      <td>2</td>\n",
       "      <td>10</td>\n",
       "      <td>0</td>\n",
       "      <td>6</td>\n",
       "      <td>199</td>\n",
       "      <td>ultra</td>\n",
       "      <td>2824.636598</td>\n",
       "      <td>19</td>\n",
       "      <td>1</td>\n",
       "      <td>313</td>\n",
       "    </tr>\n",
       "    <tr>\n",
       "      <th>12</th>\n",
       "      <td>2</td>\n",
       "      <td>12</td>\n",
       "      <td>0</td>\n",
       "      <td>6</td>\n",
       "      <td>199</td>\n",
       "      <td>ultra</td>\n",
       "      <td>3828.248580</td>\n",
       "      <td>12</td>\n",
       "      <td>1</td>\n",
       "      <td>271</td>\n",
       "    </tr>\n",
       "    <tr>\n",
       "      <th>13</th>\n",
       "      <td>3</td>\n",
       "      <td>1</td>\n",
       "      <td>0</td>\n",
       "      <td>6</td>\n",
       "      <td>199</td>\n",
       "      <td>ultra</td>\n",
       "      <td>3061.777147</td>\n",
       "      <td>13</td>\n",
       "      <td>1</td>\n",
       "      <td>277</td>\n",
       "    </tr>\n",
       "    <tr>\n",
       "      <th>14</th>\n",
       "      <td>3</td>\n",
       "      <td>2</td>\n",
       "      <td>0</td>\n",
       "      <td>6</td>\n",
       "      <td>199</td>\n",
       "      <td>ultra</td>\n",
       "      <td>5421.152016</td>\n",
       "      <td>39</td>\n",
       "      <td>2</td>\n",
       "      <td>433</td>\n",
       "    </tr>\n",
       "    <tr>\n",
       "      <th>15</th>\n",
       "      <td>3</td>\n",
       "      <td>4</td>\n",
       "      <td>0</td>\n",
       "      <td>6</td>\n",
       "      <td>199</td>\n",
       "      <td>ultra</td>\n",
       "      <td>2956.651632</td>\n",
       "      <td>21</td>\n",
       "      <td>1</td>\n",
       "      <td>325</td>\n",
       "    </tr>\n",
       "    <tr>\n",
       "      <th>16</th>\n",
       "      <td>3</td>\n",
       "      <td>5</td>\n",
       "      <td>0</td>\n",
       "      <td>6</td>\n",
       "      <td>199</td>\n",
       "      <td>ultra</td>\n",
       "      <td>9064.026918</td>\n",
       "      <td>63</td>\n",
       "      <td>3</td>\n",
       "      <td>577</td>\n",
       "    </tr>\n",
       "    <tr>\n",
       "      <th>17</th>\n",
       "      <td>3</td>\n",
       "      <td>7</td>\n",
       "      <td>0</td>\n",
       "      <td>6</td>\n",
       "      <td>199</td>\n",
       "      <td>ultra</td>\n",
       "      <td>10919.595403</td>\n",
       "      <td>67</td>\n",
       "      <td>3</td>\n",
       "      <td>601</td>\n",
       "    </tr>\n",
       "    <tr>\n",
       "      <th>18</th>\n",
       "      <td>3</td>\n",
       "      <td>9</td>\n",
       "      <td>0</td>\n",
       "      <td>6</td>\n",
       "      <td>199</td>\n",
       "      <td>ultra</td>\n",
       "      <td>2891.012822</td>\n",
       "      <td>23</td>\n",
       "      <td>1</td>\n",
       "      <td>337</td>\n",
       "    </tr>\n",
       "    <tr>\n",
       "      <th>19</th>\n",
       "      <td>3</td>\n",
       "      <td>12</td>\n",
       "      <td>0</td>\n",
       "      <td>6</td>\n",
       "      <td>199</td>\n",
       "      <td>ultra</td>\n",
       "      <td>2593.381928</td>\n",
       "      <td>13</td>\n",
       "      <td>1</td>\n",
       "      <td>277</td>\n",
       "    </tr>\n",
       "  </tbody>\n",
       "</table>\n",
       "</div>"
      ],
      "text/plain": [
       "    user_id  month  start_ride_price  minute_price  subscription_fee  \\\n",
       "0         1      1                 0             6               199   \n",
       "1         1      4                 0             6               199   \n",
       "2         1      8                 0             6               199   \n",
       "3         1     10                 0             6               199   \n",
       "4         1     11                 0             6               199   \n",
       "5         1     12                 0             6               199   \n",
       "6         2      3                 0             6               199   \n",
       "7         2      4                 0             6               199   \n",
       "8         2      6                 0             6               199   \n",
       "9         2      7                 0             6               199   \n",
       "10        2      8                 0             6               199   \n",
       "11        2     10                 0             6               199   \n",
       "12        2     12                 0             6               199   \n",
       "13        3      1                 0             6               199   \n",
       "14        3      2                 0             6               199   \n",
       "15        3      4                 0             6               199   \n",
       "16        3      5                 0             6               199   \n",
       "17        3      7                 0             6               199   \n",
       "18        3      9                 0             6               199   \n",
       "19        3     12                 0             6               199   \n",
       "\n",
       "   subscription_type  distance_month  duration_month  rides_month  \\\n",
       "0              ultra     7027.511294              42            2   \n",
       "1              ultra      754.159807               7            1   \n",
       "2              ultra     6723.470560              46            2   \n",
       "3              ultra     5809.911100              32            2   \n",
       "4              ultra     7003.499363              56            3   \n",
       "5              ultra     6751.629942              28            2   \n",
       "6              ultra    10187.723006              63            3   \n",
       "7              ultra     6164.381824              40            2   \n",
       "8              ultra     3255.338202              14            1   \n",
       "9              ultra     6780.722964              48            2   \n",
       "10             ultra      923.007439               7            1   \n",
       "11             ultra     2824.636598              19            1   \n",
       "12             ultra     3828.248580              12            1   \n",
       "13             ultra     3061.777147              13            1   \n",
       "14             ultra     5421.152016              39            2   \n",
       "15             ultra     2956.651632              21            1   \n",
       "16             ultra     9064.026918              63            3   \n",
       "17             ultra    10919.595403              67            3   \n",
       "18             ultra     2891.012822              23            1   \n",
       "19             ultra     2593.381928              13            1   \n",
       "\n",
       "    month_revenue  \n",
       "0             451  \n",
       "1             241  \n",
       "2             475  \n",
       "3             391  \n",
       "4             535  \n",
       "5             367  \n",
       "6             577  \n",
       "7             439  \n",
       "8             283  \n",
       "9             487  \n",
       "10            241  \n",
       "11            313  \n",
       "12            271  \n",
       "13            277  \n",
       "14            433  \n",
       "15            325  \n",
       "16            577  \n",
       "17            601  \n",
       "18            337  \n",
       "19            277  "
      ]
     },
     "execution_count": 42,
     "metadata": {},
     "output_type": "execute_result"
    }
   ],
   "source": [
    "#добавление столбца\n",
    "data_rev = data_rev.assign(\n",
    "    month_revenue = (\n",
    "        data_rev['start_ride_price'] * data_rev['rides_month'] \n",
    "        + data_rev['duration_month'] * data_rev['minute_price'] \n",
    "        + data_rev['subscription_fee']\n",
    "        )\n",
    ")\n",
    "\n",
    "#первые 20 строк полученного датафрейма\n",
    "data_rev.head(20)"
   ]
  },
  {
   "cell_type": "code",
   "execution_count": 43,
   "id": "9feeeab8",
   "metadata": {},
   "outputs": [
    {
     "name": "stdout",
     "output_type": "stream",
     "text": [
      "<class 'pandas.core.frame.DataFrame'>\n",
      "RangeIndex: 11300 entries, 0 to 11299\n",
      "Data columns (total 10 columns):\n",
      " #   Column             Non-Null Count  Dtype  \n",
      "---  ------             --------------  -----  \n",
      " 0   user_id            11300 non-null  int64  \n",
      " 1   month              11300 non-null  int64  \n",
      " 2   start_ride_price   11300 non-null  int64  \n",
      " 3   minute_price       11300 non-null  int64  \n",
      " 4   subscription_fee   11300 non-null  int64  \n",
      " 5   subscription_type  11300 non-null  object \n",
      " 6   distance_month     11300 non-null  float64\n",
      " 7   duration_month     11300 non-null  int32  \n",
      " 8   rides_month        11300 non-null  int32  \n",
      " 9   month_revenue      11300 non-null  int64  \n",
      "dtypes: float64(1), int32(2), int64(6), object(1)\n",
      "memory usage: 794.7+ KB\n",
      "None \n",
      " \n",
      " Количество пропусков:\n",
      " \n",
      " user_id              0\n",
      "name                 0\n",
      "age                  0\n",
      "city                 0\n",
      "subscription_type    0\n",
      "minute_price         0\n",
      "start_ride_price     0\n",
      "subscription_fee     0\n",
      "distance             0\n",
      "duration             0\n",
      "date                 0\n",
      "month                0\n",
      "dtype: int64 \n",
      " \n",
      " Количество дубликатов: 0\n"
     ]
    }
   ],
   "source": [
    "#беглая проверка на пропуски и дубликаты\n",
    "print(data_rev.info(),\n",
    "      '\\n',\n",
    "      '\\n',\n",
    "      'Количество пропусков:'\n",
    "      '\\n',\n",
    "      '\\n',\n",
    "      data_full.isna().sum(),\n",
    "      '\\n',\n",
    "      '\\n',\n",
    "      f'Количество дубликатов: {data_full.duplicated().sum()}'\n",
    "     )"
   ]
  },
  {
   "cell_type": "markdown",
   "id": "25d473fc",
   "metadata": {},
   "source": [
    "Датафрейм **data_rev** готов к работе."
   ]
  },
  {
   "cell_type": "markdown",
   "id": "aa3de9ac",
   "metadata": {},
   "source": [
    "#### Шаг 6. Проверка гипотез"
   ]
  },
  {
   "cell_type": "markdown",
   "id": "757e9e48",
   "metadata": {},
   "source": [
    "##### Гипотеза о разнице во времени, затраченном пользователями с подпиской и без\n",
    "\n",
    "Важно понять, тратят ли пользователи с подпиской больше времени на поездки? Если да, то пользователи с подпиской могут быть «выгоднее» для компании. Используйте исходные данные о продолжительности каждой сессии — отдельно для подписчиков и тех, у кого нет подписки."
   ]
  },
  {
   "cell_type": "markdown",
   "id": "35aaa1c1",
   "metadata": {},
   "source": [
    "Формулирование гипотез.\n",
    "\n",
    "В нашем распоряжении две генеральные совокупности, которые можно считать независимыми.\n",
    "\n",
    "Нулевая гипотеза: средняя продолжительность поездок пользователей без подписки равна средней продолжительности поездок пользователей с подпиской ultra.\n",
    "\n",
    "Альтернативная гипотеза: средняя продолжительность поездок пользователей с подпиской ultra больше средней продолжительности поездок пользователей без подписки.\n",
    "\n",
    "Проверка гипотез."
   ]
  },
  {
   "cell_type": "code",
   "execution_count": 44,
   "id": "0e7133df",
   "metadata": {},
   "outputs": [
    {
     "name": "stdout",
     "output_type": "stream",
     "text": [
      "p-значение: 4.7044680744539e-28 \n",
      "\n",
      "Отвергаем нулевую гипотезу\n",
      "\n",
      "Средняя продолжительность поездок пользователей без подписки:  17.53 \n",
      " \n",
      " Средняя продолжительность поездок пользователей с подпиской ultra:  18.54\n"
     ]
    }
   ],
   "source": [
    "\n",
    "#уровень статистической значимости\n",
    "alpha = 0.05 \n",
    "\n",
    "#расчёт и вывод p-value\n",
    "results = st.ttest_ind(data_ultra['duration'], data_free['duration'], alternative='greater')\n",
    "\n",
    "print('p-значение:', results.pvalue, '\\n')\n",
    "\n",
    "#результат\n",
    "if results.pvalue < alpha:\n",
    "    print('Отвергаем нулевую гипотезу')\n",
    "else:\n",
    "    print('Не получилось отвергнуть нулевую гипотезу') \n",
    "    \n",
    "print(\n",
    "    '\\n'\n",
    "    'Средняя продолжительность поездок пользователей без подписки: ', round(data_free['duration'].mean(), 2),\n",
    "    '\\n',\n",
    "    '\\n',\n",
    "    'Средняя продолжительность поездок пользователей с подпиской ultra: ', round(data_ultra['duration'].mean(), 2),\n",
    ")"
   ]
  },
  {
   "cell_type": "markdown",
   "id": "bf7e6889",
   "metadata": {},
   "source": [
    "Есть основания полагать, что средняя продолжительность поездок пользователей с подпиской ultra больше средней продолжительности поездок пользователей без подписки, однако результат очень близок к уровню статистической значимости в 5%, а значит, даже при понижении уровня статистической значимости считать, что средняя продолжительность поездок пользователей без подписки не равна средней продолжительности поездок пользователей с подпиской ultra, будет уже нельзя.\n",
    "\n",
    "Это означает, что решения, принятые на основе результата данного теста, могут быть рискованными."
   ]
  },
  {
   "cell_type": "markdown",
   "id": "3789fcd3",
   "metadata": {},
   "source": [
    "##### Гипотеза о расстоянии, которое пользователи с подпиской  проезжают за  одну поездку\n",
    "\n",
    "Расстояние одной поездки в 3130 метров — оптимальное с точки зрения износа самоката. Можно ли сказать, что расстояние, которое проезжают пользователи с подпиской за одну поездку, не превышает 3130 метров? "
   ]
  },
  {
   "cell_type": "markdown",
   "id": "bf85bfb2",
   "metadata": {},
   "source": [
    "Формулирование гипотез.\n",
    "\n",
    "В нашем распоряжении одна генеральная совокупность.\n",
    "\n",
    "Нулевая гипотеза: средняя дальность поездки для пользователей с подпиской равна 3130 метров.\n",
    "\n",
    "Альтернативная гипотеза: средняя дальность поездки для пользователей с подпиской больше 3130 метров.\n",
    "\n",
    "Проверка гипотез."
   ]
  },
  {
   "cell_type": "code",
   "execution_count": 45,
   "id": "eec4bace",
   "metadata": {},
   "outputs": [
    {
     "name": "stdout",
     "output_type": "stream",
     "text": [
      "p-значение: 0.9195368847849785\n",
      "Не получилось отвергнуть нулевую гипотезу\n"
     ]
    }
   ],
   "source": [
    "#уровень статистической значимости\n",
    "alpha = 0.05 \n",
    "\n",
    "\n",
    "#расчёт и вывод p-value\n",
    "results = st.ttest_1samp(data_ultra['distance'], 3130, alternative='greater')\n",
    "\n",
    "print('p-значение:', results.pvalue)\n",
    "\n",
    "#результат\n",
    "if results.pvalue < alpha:\n",
    "    print('Отвергаем нулевую гипотезу')\n",
    "else:\n",
    "    print('Не получилось отвергнуть нулевую гипотезу')"
   ]
  },
  {
   "cell_type": "markdown",
   "id": "61bd9b24",
   "metadata": {},
   "source": [
    "Нет оснований считать, что средняя дальность поездки для пользователей с подпиской больше 3130 метров. \n",
    "\n",
    "Это означает, что в среднем пользователи с подпиской ultra не превышают оптимальное с точки зрения износа самоката расстояние в 3130 м."
   ]
  },
  {
   "cell_type": "markdown",
   "id": "95f0aae3",
   "metadata": {},
   "source": [
    "##### Гипотеза о разнице значений помесячной выручки для пользователей с подпиской ultra и без\n",
    "\n",
    "Проверьте гипотезу о том, будет ли помесячная выручка от пользователей с подпиской по месяцам выше, чем помесячная выручка от пользователей без подписки."
   ]
  },
  {
   "cell_type": "markdown",
   "id": "50e80296",
   "metadata": {},
   "source": [
    "Формулирование гипотез.\n",
    "\n",
    "В нашем распоряжении две генеральные совокупности, нет оснований не считать их независимыми.\n",
    "\n",
    "Нулевая гипотеза: помесячная выручка от пользователей с подпиской по месяцам равна помесячной выручке от пользователей без подписки.\n",
    "\n",
    "Альтернативная гипотеза: помесячная выручка от пользователей с подпиской по месяцам выше, чем помесячная выручка от пользователей без подписки.\n",
    "\n",
    "Проверка гипотез."
   ]
  },
  {
   "cell_type": "code",
   "execution_count": 46,
   "id": "643a744d",
   "metadata": {},
   "outputs": [
    {
     "name": "stdout",
     "output_type": "stream",
     "text": [
      "p-значение: 2.0314113674863288e-30 \n",
      "\n",
      "Отвергаем нулевую гипотезу\n",
      "\n",
      " Средняя помесячная выручка пользователей с подпиской ultra:  362.79 \n",
      " \n",
      " Средняя помесячная выручка пользователей без подписки:  329.33\n"
     ]
    }
   ],
   "source": [
    "#уровень статистической значимости\n",
    "alpha = 0.05 \n",
    "\n",
    "#расчёт и вывод p-value\n",
    "results = st.ttest_ind(\n",
    "    data_rev.query('subscription_type == \"ultra\"')['month_revenue'], \n",
    "    data_rev.query('subscription_type == \"free\"')['month_revenue'], \n",
    "    alternative='greater'\n",
    ")\n",
    "\n",
    "print('p-значение:', results.pvalue, '\\n')\n",
    "\n",
    "#результат\n",
    "if results.pvalue < alpha:\n",
    "    print('Отвергаем нулевую гипотезу')\n",
    "else:\n",
    "    print('Не получилось отвергнуть нулевую гипотезу') \n",
    "    \n",
    "print(\n",
    "    '\\n',\n",
    "    'Средняя помесячная выручка пользователей с подпиской ultra: ', \n",
    "    round(data_rev.query('subscription_type == \"ultra\"')['month_revenue'].mean(), 2),\n",
    "    '\\n',\n",
    "    '\\n',\n",
    "    'Средняя помесячная выручка пользователей без подписки: ', \n",
    "    round(data_rev.query('subscription_type == \"free\"')['month_revenue'].mean(), 2)\n",
    ")"
   ]
  },
  {
   "cell_type": "markdown",
   "id": "3380530b",
   "metadata": {},
   "source": [
    "Есть основания считать, что помесячная выручка от пользователей с подпиской ultra по месяцам выше, чем помесячная выручка от пользователей без подписки."
   ]
  },
  {
   "cell_type": "markdown",
   "id": "6575a638",
   "metadata": {},
   "source": [
    "##### Задача о количестве обращений в техподдержку после обновления серверов\n",
    "\n",
    "Представьте такую ситуацию: техническая команда сервиса обновила сервера, с которыми взаимодействует мобильное приложение. Она надеется, что из-за этого количество обращений в техподдержку значимо снизилось. Некоторый файл содержит для каждого пользователя данные о количестве обращений до обновления и после него. Какой тест вам понадобился бы для проверки этой гипотезы?\n",
    "\n",
    "Ответ: речь идёт об одной и той же генеральной совокупности, нужно оценить один и тот же её параметр до и после изменения. Понадобится тест для проверки гипотезы о равенстве среднего генеральной совокупности для зависимых (парных) выборок, метод scipy.stats.ttest_rel(). \n",
    "\n",
    "Нулевая гипотеза: среднее количество обращений не изменилось.\n",
    "\n",
    "Альтернативная гипотеза: среднее количество обращений уменьшилось.\n",
    "\n",
    "Гипотеза левосторонняя, поэтому параметр **alternative** нужно указать 'less'."
   ]
  },
  {
   "cell_type": "markdown",
   "id": "99cc7add",
   "metadata": {},
   "source": [
    "##### Результаты исследования"
   ]
  },
  {
   "cell_type": "markdown",
   "id": "20f4768a",
   "metadata": {},
   "source": [
    "1. Есть основания полагать, что средняя продолжительность поездок пользователей с подпиской ultra больше средней продолжительности поездок пользователей без подписки, однако результат очень близок к уровню статистической значимости в 5%, а значит, даже при понижении уровня статистической значимости считать, что средняя продолжительность поездок пользователей без подписки не равна средней продолжительности поездок пользователей с подпиской ultra, будет уже нельзя. Это означает, что решения, принятые на основе результата данного теста, могут быть рискованными.\n",
    "\n",
    "\n",
    "2. В среднем пользователи с подпиской ultra не превышают оптимальное с точки зрения износа самоката расстояние в 3130 м.\n",
    "\n",
    "\n",
    "3. В среднем помесячная выручка от пользователей с подпиской ultra по месяцам выше, чем помесячная выручка от пользователей без подписки."
   ]
  },
  {
   "cell_type": "markdown",
   "id": "3bf87f8d",
   "metadata": {},
   "source": [
    "#### Общий вывод"
   ]
  },
  {
   "cell_type": "markdown",
   "id": "147e24b1",
   "metadata": {},
   "source": [
    "**Результаты общего анализа данных**\n",
    "\n",
    "Чаще всего пользуются самокатами в Пятигорске, реже всего - в Москве. Разница между городами с наибольшей и наименьшей популярностью сервиса находится в пределах 23-26%. Наибольшее число пользователей в городах в целом совпадает с наибольшим числом поездок, за исключением Омска и Тюмени, но разница между этими двумя городами по обоим показателям невелика.\n",
    "\n",
    "Пользователей с подпиской ultra 45,7%, пользователей, пользующихся сервисом без подписки 54,43%.\n",
    "\n",
    "Основная масса пользователей - в возрасте от 13 до 37 лет. Половина - среди молодёжи 22-28 лет, самым младшим 12 лет, самому старшему 43 года.\n",
    "\n",
    "С точки зрения оценки дальности поездок пользователи как с подпиской, так и без, сосредоточены в две неравные группы: большая - с распределением значений около 3100 м, меньшая для пользователей с подпиской **ultra** около 1000 м, без подписки около 700 м.\n",
    "Вызывают вопросы небольшое количество поездок, совершённых пользователями без подписки (от нуля до нескольких сотен метров), однако ошибочными эти данные, скорее всго не являются, а их анализ не входит в цели исследования, к тому же для этого нет нужных данных.\n",
    "\n",
    "\n",
    "Распределение продолжительности поездок как для пользователей с подпиской, так и без, близко к нормальному с пиковым значением около 17-18 минут.\n",
    "\n",
    "\n",
    "**Результаты статистического исследования, запрошенного заказчиком**\n",
    "\n",
    "1. Есть основания полагать, что средняя продолжительность поездок пользователей с подпиской ultra больше средней продолжительности поездок пользователей без подписки, однако результат очень близок к уровню статистической значимости в 5%, а значит, даже при понижении уровня статистической значимости считать, что средняя продолжительность поездок пользователей без подписки не равна средней продолжительности поездок пользователей с подпиской ultra, будет уже нельзя. Это означает, что решения, принятые на основе результата данного теста, могут быть рискованными.\n",
    "\n",
    "\n",
    "2. В среднем пользователи с подпиской ultra не превышают оптимальное с точки зрения износа самоката расстояние в 3130 м.\n",
    "\n",
    "\n",
    "3. В среднем помесячная выручка от пользователей с подпиской ultra по месяцам выше, чем помесячная выручка от пользователей без подписки.\n",
    "\n",
    "**О качестве данных**\n",
    "\n",
    "В датасете **users_go** присутствует небольшое количество дубликатов строк: 31.\n",
    "\n",
    "В датасете **rides_go** в столбце **duration** аномалия в виде значения \"0.5\" в 95 строках. Скорее всего, в этой части датафрейма ошибочные данные, появившиеся на этапе обработки или выгрузки данных, либо здесь сказывается некая особенность работы сервиса, о которой мне неизвестно. Этот момент также нужно уточнить у коллег и заказчика на случай, если это результат проведения некой акции, спецпредложения и т.д."
   ]
  }
 ],
 "metadata": {
  "ExecuteTimeLog": [
   {
    "duration": 373,
    "start_time": "2023-12-25T05:26:44.492Z"
   },
   {
    "duration": 100,
    "start_time": "2023-12-25T05:30:00.119Z"
   },
   {
    "duration": 4322,
    "start_time": "2023-12-25T05:34:40.715Z"
   },
   {
    "duration": 40,
    "start_time": "2023-12-25T05:34:45.039Z"
   },
   {
    "duration": 10,
    "start_time": "2023-12-25T05:35:07.885Z"
   },
   {
    "duration": 87,
    "start_time": "2023-12-25T05:39:32.983Z"
   },
   {
    "duration": 12,
    "start_time": "2023-12-25T05:39:47.497Z"
   },
   {
    "duration": 3,
    "start_time": "2023-12-25T05:41:44.746Z"
   },
   {
    "duration": 70,
    "start_time": "2023-12-25T05:53:34.783Z"
   },
   {
    "duration": 10,
    "start_time": "2023-12-25T05:53:49.424Z"
   },
   {
    "duration": 9,
    "start_time": "2023-12-25T05:54:20.638Z"
   },
   {
    "duration": 10,
    "start_time": "2023-12-25T05:54:28.952Z"
   },
   {
    "duration": 10,
    "start_time": "2023-12-25T05:54:32.144Z"
   },
   {
    "duration": 9,
    "start_time": "2023-12-25T05:54:36.288Z"
   },
   {
    "duration": 72,
    "start_time": "2023-12-25T05:55:38.170Z"
   },
   {
    "duration": 7,
    "start_time": "2023-12-25T06:04:51.714Z"
   },
   {
    "duration": 20,
    "start_time": "2023-12-25T06:05:03.684Z"
   },
   {
    "duration": 17,
    "start_time": "2023-12-25T06:05:13.044Z"
   },
   {
    "duration": 20,
    "start_time": "2023-12-25T06:07:22.876Z"
   },
   {
    "duration": 21,
    "start_time": "2023-12-25T06:07:31.158Z"
   },
   {
    "duration": 21,
    "start_time": "2023-12-25T06:07:45.197Z"
   },
   {
    "duration": 19,
    "start_time": "2023-12-25T06:07:51.774Z"
   },
   {
    "duration": 20,
    "start_time": "2023-12-25T06:08:42.888Z"
   },
   {
    "duration": 82,
    "start_time": "2023-12-25T06:08:50.688Z"
   },
   {
    "duration": 20,
    "start_time": "2023-12-25T06:18:26.120Z"
   },
   {
    "duration": 19,
    "start_time": "2023-12-25T06:18:29.313Z"
   },
   {
    "duration": 22,
    "start_time": "2023-12-25T06:18:36.274Z"
   },
   {
    "duration": 95,
    "start_time": "2023-12-25T06:22:45.070Z"
   },
   {
    "duration": 1027,
    "start_time": "2023-12-25T06:23:04.283Z"
   },
   {
    "duration": 40,
    "start_time": "2023-12-25T06:23:05.312Z"
   },
   {
    "duration": 10,
    "start_time": "2023-12-25T06:23:05.353Z"
   },
   {
    "duration": 36,
    "start_time": "2023-12-25T06:23:05.365Z"
   },
   {
    "duration": 10,
    "start_time": "2023-12-25T06:23:05.402Z"
   },
   {
    "duration": 24,
    "start_time": "2023-12-25T06:23:05.413Z"
   },
   {
    "duration": 9,
    "start_time": "2023-12-25T06:23:05.438Z"
   },
   {
    "duration": 19,
    "start_time": "2023-12-25T06:23:05.449Z"
   },
   {
    "duration": 100,
    "start_time": "2023-12-25T06:23:05.470Z"
   },
   {
    "duration": 0,
    "start_time": "2023-12-25T06:23:05.572Z"
   },
   {
    "duration": 0,
    "start_time": "2023-12-25T06:23:05.573Z"
   },
   {
    "duration": 0,
    "start_time": "2023-12-25T06:23:05.574Z"
   },
   {
    "duration": 1,
    "start_time": "2023-12-25T06:23:05.574Z"
   },
   {
    "duration": 0,
    "start_time": "2023-12-25T06:23:05.576Z"
   },
   {
    "duration": 5,
    "start_time": "2023-12-25T06:23:32.134Z"
   },
   {
    "duration": 14,
    "start_time": "2023-12-25T06:23:38.111Z"
   },
   {
    "duration": 12,
    "start_time": "2023-12-25T06:23:46.015Z"
   },
   {
    "duration": 995,
    "start_time": "2023-12-25T06:23:53.205Z"
   },
   {
    "duration": 40,
    "start_time": "2023-12-25T06:23:54.202Z"
   },
   {
    "duration": 11,
    "start_time": "2023-12-25T06:23:54.243Z"
   },
   {
    "duration": 60,
    "start_time": "2023-12-25T06:23:54.256Z"
   },
   {
    "duration": 10,
    "start_time": "2023-12-25T06:23:54.317Z"
   },
   {
    "duration": 29,
    "start_time": "2023-12-25T06:23:54.328Z"
   },
   {
    "duration": 9,
    "start_time": "2023-12-25T06:23:54.358Z"
   },
   {
    "duration": 34,
    "start_time": "2023-12-25T06:23:54.368Z"
   },
   {
    "duration": 19,
    "start_time": "2023-12-25T06:23:54.403Z"
   },
   {
    "duration": 2,
    "start_time": "2023-12-25T06:23:54.424Z"
   },
   {
    "duration": 19,
    "start_time": "2023-12-25T06:23:54.428Z"
   },
   {
    "duration": 10,
    "start_time": "2023-12-25T06:23:54.449Z"
   },
   {
    "duration": 20,
    "start_time": "2023-12-25T06:23:54.461Z"
   },
   {
    "duration": 16,
    "start_time": "2023-12-25T06:23:54.482Z"
   },
   {
    "duration": 96,
    "start_time": "2023-12-25T06:24:22.655Z"
   },
   {
    "duration": 15,
    "start_time": "2023-12-25T06:29:24.636Z"
   },
   {
    "duration": 12,
    "start_time": "2023-12-25T06:29:39.372Z"
   },
   {
    "duration": 17,
    "start_time": "2023-12-25T06:29:43.813Z"
   },
   {
    "duration": 993,
    "start_time": "2023-12-25T06:29:49.416Z"
   },
   {
    "duration": 40,
    "start_time": "2023-12-25T06:29:50.411Z"
   },
   {
    "duration": 10,
    "start_time": "2023-12-25T06:29:50.455Z"
   },
   {
    "duration": 50,
    "start_time": "2023-12-25T06:29:50.466Z"
   },
   {
    "duration": 10,
    "start_time": "2023-12-25T06:29:50.517Z"
   },
   {
    "duration": 19,
    "start_time": "2023-12-25T06:29:50.528Z"
   },
   {
    "duration": 8,
    "start_time": "2023-12-25T06:29:50.549Z"
   },
   {
    "duration": 17,
    "start_time": "2023-12-25T06:29:50.559Z"
   },
   {
    "duration": 12,
    "start_time": "2023-12-25T06:29:50.578Z"
   },
   {
    "duration": 2,
    "start_time": "2023-12-25T06:29:50.591Z"
   },
   {
    "duration": 12,
    "start_time": "2023-12-25T06:29:50.594Z"
   },
   {
    "duration": 34,
    "start_time": "2023-12-25T06:29:50.607Z"
   },
   {
    "duration": 29,
    "start_time": "2023-12-25T06:29:50.642Z"
   },
   {
    "duration": 6,
    "start_time": "2023-12-25T06:29:50.673Z"
   },
   {
    "duration": 94,
    "start_time": "2023-12-25T06:29:53.864Z"
   },
   {
    "duration": 1101,
    "start_time": "2023-12-25T06:29:59.805Z"
   },
   {
    "duration": 39,
    "start_time": "2023-12-25T06:30:00.908Z"
   },
   {
    "duration": 10,
    "start_time": "2023-12-25T06:30:00.949Z"
   },
   {
    "duration": 92,
    "start_time": "2023-12-25T06:30:00.960Z"
   },
   {
    "duration": 35,
    "start_time": "2023-12-25T06:30:01.053Z"
   },
   {
    "duration": 69,
    "start_time": "2023-12-25T06:30:01.089Z"
   },
   {
    "duration": 52,
    "start_time": "2023-12-25T06:30:01.159Z"
   },
   {
    "duration": 86,
    "start_time": "2023-12-25T06:30:01.213Z"
   },
   {
    "duration": 78,
    "start_time": "2023-12-25T06:30:01.300Z"
   },
   {
    "duration": 104,
    "start_time": "2023-12-25T06:30:01.381Z"
   },
   {
    "duration": 153,
    "start_time": "2023-12-25T06:30:01.487Z"
   },
   {
    "duration": 61,
    "start_time": "2023-12-25T06:30:01.642Z"
   },
   {
    "duration": 123,
    "start_time": "2023-12-25T06:30:01.704Z"
   },
   {
    "duration": 291,
    "start_time": "2023-12-25T06:30:01.829Z"
   },
   {
    "duration": 96,
    "start_time": "2023-12-25T06:31:40.078Z"
   },
   {
    "duration": 11,
    "start_time": "2023-12-25T06:31:45.062Z"
   },
   {
    "duration": 7,
    "start_time": "2023-12-25T06:32:43.376Z"
   },
   {
    "duration": 6,
    "start_time": "2023-12-25T06:32:47.111Z"
   },
   {
    "duration": 7,
    "start_time": "2023-12-25T06:33:23.576Z"
   },
   {
    "duration": 11,
    "start_time": "2023-12-25T06:35:38.611Z"
   },
   {
    "duration": 12,
    "start_time": "2023-12-25T06:38:25.830Z"
   },
   {
    "duration": 13,
    "start_time": "2023-12-25T06:39:32.350Z"
   },
   {
    "duration": 13,
    "start_time": "2023-12-25T06:39:49.135Z"
   },
   {
    "duration": 5,
    "start_time": "2023-12-25T06:39:59.175Z"
   },
   {
    "duration": 13,
    "start_time": "2023-12-25T06:40:00.743Z"
   },
   {
    "duration": 5,
    "start_time": "2023-12-25T06:43:27.219Z"
   },
   {
    "duration": 12,
    "start_time": "2023-12-25T06:44:14.275Z"
   },
   {
    "duration": 11,
    "start_time": "2023-12-25T06:44:31.580Z"
   },
   {
    "duration": 9,
    "start_time": "2023-12-25T06:46:37.743Z"
   },
   {
    "duration": 9,
    "start_time": "2023-12-25T06:46:48.566Z"
   },
   {
    "duration": 4,
    "start_time": "2023-12-25T06:58:24.171Z"
   },
   {
    "duration": 4,
    "start_time": "2023-12-25T07:09:46.424Z"
   },
   {
    "duration": 0,
    "start_time": "2023-12-25T07:17:25.290Z"
   },
   {
    "duration": 5,
    "start_time": "2023-12-25T07:18:31.344Z"
   },
   {
    "duration": 4,
    "start_time": "2023-12-25T07:18:36.544Z"
   },
   {
    "duration": 10,
    "start_time": "2023-12-25T07:20:22.730Z"
   },
   {
    "duration": 11,
    "start_time": "2023-12-25T07:20:43.194Z"
   },
   {
    "duration": 1091,
    "start_time": "2023-12-25T07:20:53.228Z"
   },
   {
    "duration": 41,
    "start_time": "2023-12-25T07:20:54.321Z"
   },
   {
    "duration": 11,
    "start_time": "2023-12-25T07:20:54.363Z"
   },
   {
    "duration": 37,
    "start_time": "2023-12-25T07:20:54.376Z"
   },
   {
    "duration": 10,
    "start_time": "2023-12-25T07:20:54.416Z"
   },
   {
    "duration": 37,
    "start_time": "2023-12-25T07:20:54.427Z"
   },
   {
    "duration": 12,
    "start_time": "2023-12-25T07:20:54.465Z"
   },
   {
    "duration": 69,
    "start_time": "2023-12-25T07:20:54.479Z"
   },
   {
    "duration": 24,
    "start_time": "2023-12-25T07:20:54.550Z"
   },
   {
    "duration": 40,
    "start_time": "2023-12-25T07:20:54.576Z"
   },
   {
    "duration": 11,
    "start_time": "2023-12-25T07:20:54.617Z"
   },
   {
    "duration": 32,
    "start_time": "2023-12-25T07:20:54.629Z"
   },
   {
    "duration": 104,
    "start_time": "2023-12-25T07:20:54.663Z"
   },
   {
    "duration": 0,
    "start_time": "2023-12-25T07:20:54.769Z"
   },
   {
    "duration": 0,
    "start_time": "2023-12-25T07:20:54.770Z"
   },
   {
    "duration": 0,
    "start_time": "2023-12-25T07:20:54.771Z"
   },
   {
    "duration": 0,
    "start_time": "2023-12-25T07:20:54.772Z"
   },
   {
    "duration": 0,
    "start_time": "2023-12-25T07:20:54.773Z"
   },
   {
    "duration": 0,
    "start_time": "2023-12-25T07:20:54.774Z"
   },
   {
    "duration": 843,
    "start_time": "2023-12-25T07:21:05.378Z"
   },
   {
    "duration": 979,
    "start_time": "2023-12-25T07:22:26.828Z"
   },
   {
    "duration": 1172,
    "start_time": "2023-12-25T07:22:46.041Z"
   },
   {
    "duration": 41,
    "start_time": "2023-12-25T07:22:47.215Z"
   },
   {
    "duration": 11,
    "start_time": "2023-12-25T07:22:47.258Z"
   },
   {
    "duration": 41,
    "start_time": "2023-12-25T07:22:47.272Z"
   },
   {
    "duration": 12,
    "start_time": "2023-12-25T07:22:47.315Z"
   },
   {
    "duration": 21,
    "start_time": "2023-12-25T07:22:47.328Z"
   },
   {
    "duration": 9,
    "start_time": "2023-12-25T07:22:47.351Z"
   },
   {
    "duration": 25,
    "start_time": "2023-12-25T07:22:47.362Z"
   },
   {
    "duration": 14,
    "start_time": "2023-12-25T07:22:47.389Z"
   },
   {
    "duration": 11,
    "start_time": "2023-12-25T07:22:47.405Z"
   },
   {
    "duration": 6,
    "start_time": "2023-12-25T07:22:47.417Z"
   },
   {
    "duration": 10,
    "start_time": "2023-12-25T07:22:47.424Z"
   },
   {
    "duration": 874,
    "start_time": "2023-12-25T07:22:47.436Z"
   },
   {
    "duration": 0,
    "start_time": "2023-12-25T07:22:48.311Z"
   },
   {
    "duration": 0,
    "start_time": "2023-12-25T07:22:48.313Z"
   },
   {
    "duration": 0,
    "start_time": "2023-12-25T07:22:48.314Z"
   },
   {
    "duration": 0,
    "start_time": "2023-12-25T07:22:48.315Z"
   },
   {
    "duration": 0,
    "start_time": "2023-12-25T07:22:48.316Z"
   },
   {
    "duration": 0,
    "start_time": "2023-12-25T07:22:48.317Z"
   },
   {
    "duration": 5,
    "start_time": "2023-12-25T07:26:13.159Z"
   },
   {
    "duration": 16,
    "start_time": "2023-12-25T07:26:21.520Z"
   },
   {
    "duration": 13,
    "start_time": "2023-12-25T07:27:15.745Z"
   },
   {
    "duration": 15,
    "start_time": "2023-12-25T07:27:24.113Z"
   },
   {
    "duration": 6,
    "start_time": "2023-12-25T07:28:39.882Z"
   },
   {
    "duration": 13,
    "start_time": "2023-12-25T07:28:44.506Z"
   },
   {
    "duration": 4,
    "start_time": "2023-12-25T07:28:49.778Z"
   },
   {
    "duration": 7,
    "start_time": "2023-12-25T07:28:55.938Z"
   },
   {
    "duration": 1213,
    "start_time": "2023-12-25T07:33:35.743Z"
   },
   {
    "duration": 7,
    "start_time": "2023-12-25T07:33:41.871Z"
   },
   {
    "duration": 6,
    "start_time": "2023-12-25T07:33:44.151Z"
   },
   {
    "duration": 15,
    "start_time": "2023-12-25T07:33:59.943Z"
   },
   {
    "duration": 7,
    "start_time": "2023-12-25T07:34:07.081Z"
   },
   {
    "duration": 1242,
    "start_time": "2023-12-25T07:34:14.736Z"
   },
   {
    "duration": 1264,
    "start_time": "2023-12-25T07:34:25.552Z"
   },
   {
    "duration": 1298,
    "start_time": "2023-12-25T07:34:38.530Z"
   },
   {
    "duration": 1264,
    "start_time": "2023-12-25T07:34:48.009Z"
   },
   {
    "duration": 10,
    "start_time": "2023-12-25T07:35:00.825Z"
   },
   {
    "duration": 9,
    "start_time": "2023-12-25T07:35:03.208Z"
   },
   {
    "duration": 9,
    "start_time": "2023-12-25T07:35:10.793Z"
   },
   {
    "duration": 5,
    "start_time": "2023-12-25T07:35:21.634Z"
   },
   {
    "duration": 1339,
    "start_time": "2023-12-25T07:49:00.704Z"
   },
   {
    "duration": 1552,
    "start_time": "2023-12-25T07:49:38.097Z"
   },
   {
    "duration": 1538,
    "start_time": "2023-12-25T07:49:53.393Z"
   },
   {
    "duration": 5,
    "start_time": "2023-12-25T07:51:00.203Z"
   },
   {
    "duration": 4,
    "start_time": "2023-12-25T07:51:11.698Z"
   },
   {
    "duration": 10,
    "start_time": "2023-12-25T07:51:38.889Z"
   },
   {
    "duration": 9,
    "start_time": "2023-12-25T07:51:45.371Z"
   },
   {
    "duration": 4,
    "start_time": "2023-12-25T07:51:50.890Z"
   },
   {
    "duration": 3,
    "start_time": "2023-12-25T07:51:53.714Z"
   },
   {
    "duration": 4,
    "start_time": "2023-12-25T07:51:58.690Z"
   },
   {
    "duration": 3,
    "start_time": "2023-12-25T07:52:04.707Z"
   },
   {
    "duration": 4,
    "start_time": "2023-12-25T07:52:24.612Z"
   },
   {
    "duration": 4,
    "start_time": "2023-12-25T07:52:29.283Z"
   },
   {
    "duration": 4,
    "start_time": "2023-12-25T07:52:33.811Z"
   },
   {
    "duration": 4,
    "start_time": "2023-12-25T07:52:38.211Z"
   },
   {
    "duration": 4,
    "start_time": "2023-12-25T07:52:42.411Z"
   },
   {
    "duration": 4,
    "start_time": "2023-12-25T07:52:47.427Z"
   },
   {
    "duration": 4,
    "start_time": "2023-12-25T07:52:58.412Z"
   },
   {
    "duration": 4,
    "start_time": "2023-12-25T07:53:05.348Z"
   },
   {
    "duration": 4,
    "start_time": "2023-12-25T07:53:13.396Z"
   },
   {
    "duration": 3,
    "start_time": "2023-12-25T07:53:17.987Z"
   },
   {
    "duration": 4,
    "start_time": "2023-12-25T07:53:22.764Z"
   },
   {
    "duration": 4,
    "start_time": "2023-12-25T07:53:25.796Z"
   },
   {
    "duration": 4,
    "start_time": "2023-12-25T07:53:30.516Z"
   },
   {
    "duration": 4,
    "start_time": "2023-12-25T07:53:36.460Z"
   },
   {
    "duration": 9,
    "start_time": "2023-12-25T07:54:45.534Z"
   },
   {
    "duration": 73,
    "start_time": "2023-12-25T07:55:04.054Z"
   },
   {
    "duration": 1318,
    "start_time": "2023-12-25T07:55:10.365Z"
   },
   {
    "duration": 16,
    "start_time": "2023-12-25T07:55:26.462Z"
   },
   {
    "duration": 12,
    "start_time": "2023-12-25T07:55:28.006Z"
   },
   {
    "duration": 15,
    "start_time": "2023-12-25T07:56:31.942Z"
   },
   {
    "duration": 10,
    "start_time": "2023-12-25T07:56:34.295Z"
   },
   {
    "duration": 3,
    "start_time": "2023-12-25T08:08:49.916Z"
   },
   {
    "duration": 2,
    "start_time": "2023-12-25T08:08:53.204Z"
   },
   {
    "duration": 5,
    "start_time": "2023-12-25T08:11:25.703Z"
   },
   {
    "duration": 76,
    "start_time": "2023-12-25T08:11:30.511Z"
   },
   {
    "duration": 4,
    "start_time": "2023-12-25T08:11:32.871Z"
   },
   {
    "duration": 7,
    "start_time": "2023-12-25T08:18:12.709Z"
   },
   {
    "duration": 7,
    "start_time": "2023-12-25T08:18:14.788Z"
   },
   {
    "duration": 5,
    "start_time": "2023-12-25T08:18:17.364Z"
   },
   {
    "duration": 7,
    "start_time": "2023-12-25T08:19:11.654Z"
   },
   {
    "duration": 3,
    "start_time": "2023-12-25T08:21:41.759Z"
   },
   {
    "duration": 2,
    "start_time": "2023-12-25T08:21:45.641Z"
   },
   {
    "duration": 11,
    "start_time": "2023-12-25T08:26:24.405Z"
   },
   {
    "duration": 6,
    "start_time": "2023-12-25T08:26:30.934Z"
   },
   {
    "duration": 5,
    "start_time": "2023-12-25T08:26:52.095Z"
   },
   {
    "duration": 6,
    "start_time": "2023-12-25T08:28:47.160Z"
   },
   {
    "duration": 21,
    "start_time": "2023-12-25T08:30:16.455Z"
   },
   {
    "duration": 7,
    "start_time": "2023-12-25T08:30:46.747Z"
   },
   {
    "duration": 6,
    "start_time": "2023-12-25T08:34:00.310Z"
   },
   {
    "duration": 11,
    "start_time": "2023-12-25T08:34:52.263Z"
   },
   {
    "duration": 7,
    "start_time": "2023-12-25T08:35:09.174Z"
   },
   {
    "duration": 6,
    "start_time": "2023-12-25T08:35:34.071Z"
   },
   {
    "duration": 16,
    "start_time": "2023-12-25T08:37:26.066Z"
   },
   {
    "duration": 18,
    "start_time": "2023-12-25T08:37:36.039Z"
   },
   {
    "duration": 11,
    "start_time": "2023-12-25T08:38:29.531Z"
   },
   {
    "duration": 13,
    "start_time": "2023-12-25T08:38:41.474Z"
   },
   {
    "duration": 11,
    "start_time": "2023-12-25T08:38:49.129Z"
   },
   {
    "duration": 13,
    "start_time": "2023-12-25T08:39:32.603Z"
   },
   {
    "duration": 1172,
    "start_time": "2023-12-25T08:39:36.499Z"
   },
   {
    "duration": 246,
    "start_time": "2023-12-25T08:39:47.643Z"
   },
   {
    "duration": 189,
    "start_time": "2023-12-25T08:40:14.805Z"
   },
   {
    "duration": 14,
    "start_time": "2023-12-25T08:41:22.725Z"
   },
   {
    "duration": 222,
    "start_time": "2023-12-25T08:41:28.853Z"
   },
   {
    "duration": 232,
    "start_time": "2023-12-25T08:41:50.381Z"
   },
   {
    "duration": 15,
    "start_time": "2023-12-25T08:43:56.688Z"
   },
   {
    "duration": 118,
    "start_time": "2023-12-25T08:44:08.096Z"
   },
   {
    "duration": 167,
    "start_time": "2023-12-25T08:44:14.752Z"
   },
   {
    "duration": 175,
    "start_time": "2023-12-25T08:47:06.962Z"
   },
   {
    "duration": 71,
    "start_time": "2023-12-25T08:47:37.453Z"
   },
   {
    "duration": 94,
    "start_time": "2023-12-25T08:47:40.347Z"
   },
   {
    "duration": 165,
    "start_time": "2023-12-25T08:47:48.315Z"
   },
   {
    "duration": 243,
    "start_time": "2023-12-25T08:47:52.403Z"
   },
   {
    "duration": 13,
    "start_time": "2023-12-25T08:48:04.213Z"
   },
   {
    "duration": 13,
    "start_time": "2023-12-25T08:48:07.741Z"
   },
   {
    "duration": 10,
    "start_time": "2023-12-25T08:48:15.747Z"
   },
   {
    "duration": 156,
    "start_time": "2023-12-25T08:48:30.269Z"
   },
   {
    "duration": 1057,
    "start_time": "2023-12-25T08:48:39.571Z"
   },
   {
    "duration": 41,
    "start_time": "2023-12-25T08:48:40.630Z"
   },
   {
    "duration": 11,
    "start_time": "2023-12-25T08:48:40.673Z"
   },
   {
    "duration": 60,
    "start_time": "2023-12-25T08:48:40.686Z"
   },
   {
    "duration": 11,
    "start_time": "2023-12-25T08:48:40.747Z"
   },
   {
    "duration": 45,
    "start_time": "2023-12-25T08:48:40.760Z"
   },
   {
    "duration": 21,
    "start_time": "2023-12-25T08:48:40.807Z"
   },
   {
    "duration": 59,
    "start_time": "2023-12-25T08:48:40.830Z"
   },
   {
    "duration": 28,
    "start_time": "2023-12-25T08:48:40.891Z"
   },
   {
    "duration": 17,
    "start_time": "2023-12-25T08:48:40.922Z"
   },
   {
    "duration": 4,
    "start_time": "2023-12-25T08:48:40.941Z"
   },
   {
    "duration": 16,
    "start_time": "2023-12-25T08:48:40.946Z"
   },
   {
    "duration": 26,
    "start_time": "2023-12-25T08:48:40.964Z"
   },
   {
    "duration": 9,
    "start_time": "2023-12-25T08:48:40.991Z"
   },
   {
    "duration": 17,
    "start_time": "2023-12-25T08:48:41.001Z"
   },
   {
    "duration": 19,
    "start_time": "2023-12-25T08:48:41.020Z"
   },
   {
    "duration": 13,
    "start_time": "2023-12-25T08:48:41.041Z"
   },
   {
    "duration": 110,
    "start_time": "2023-12-25T08:48:41.055Z"
   },
   {
    "duration": 0,
    "start_time": "2023-12-25T08:48:41.167Z"
   },
   {
    "duration": 0,
    "start_time": "2023-12-25T08:48:41.168Z"
   },
   {
    "duration": 0,
    "start_time": "2023-12-25T08:48:41.169Z"
   },
   {
    "duration": 0,
    "start_time": "2023-12-25T08:48:41.170Z"
   },
   {
    "duration": 0,
    "start_time": "2023-12-25T08:48:41.172Z"
   },
   {
    "duration": 0,
    "start_time": "2023-12-25T08:48:41.173Z"
   },
   {
    "duration": 176,
    "start_time": "2023-12-25T08:48:55.516Z"
   },
   {
    "duration": 163,
    "start_time": "2023-12-25T08:49:19.030Z"
   },
   {
    "duration": 155,
    "start_time": "2023-12-25T08:49:33.501Z"
   },
   {
    "duration": 11,
    "start_time": "2023-12-25T08:49:56.886Z"
   },
   {
    "duration": 12,
    "start_time": "2023-12-25T08:50:54.742Z"
   },
   {
    "duration": 134,
    "start_time": "2023-12-25T08:51:12.751Z"
   },
   {
    "duration": 157,
    "start_time": "2023-12-25T08:51:23.192Z"
   },
   {
    "duration": 159,
    "start_time": "2023-12-25T08:51:38.183Z"
   },
   {
    "duration": 165,
    "start_time": "2023-12-25T08:52:03.641Z"
   },
   {
    "duration": 161,
    "start_time": "2023-12-25T08:52:20.393Z"
   },
   {
    "duration": 165,
    "start_time": "2023-12-25T08:52:28.320Z"
   },
   {
    "duration": 73,
    "start_time": "2023-12-25T08:54:11.491Z"
   },
   {
    "duration": 10,
    "start_time": "2023-12-25T08:54:18.282Z"
   },
   {
    "duration": 10,
    "start_time": "2023-12-25T08:54:34.497Z"
   },
   {
    "duration": 8,
    "start_time": "2023-12-25T08:54:45.341Z"
   },
   {
    "duration": 12,
    "start_time": "2023-12-25T08:54:49.779Z"
   },
   {
    "duration": 16,
    "start_time": "2023-12-25T08:55:08.595Z"
   },
   {
    "duration": 12,
    "start_time": "2023-12-25T08:55:13.771Z"
   },
   {
    "duration": 14,
    "start_time": "2023-12-25T08:55:46.452Z"
   },
   {
    "duration": 244,
    "start_time": "2023-12-25T08:56:12.459Z"
   },
   {
    "duration": 358,
    "start_time": "2023-12-25T08:56:39.861Z"
   },
   {
    "duration": 12,
    "start_time": "2023-12-25T08:56:46.972Z"
   },
   {
    "duration": 127,
    "start_time": "2023-12-25T08:57:09.653Z"
   },
   {
    "duration": 73,
    "start_time": "2023-12-25T08:57:14.437Z"
   },
   {
    "duration": 72,
    "start_time": "2023-12-25T08:57:18.414Z"
   },
   {
    "duration": 156,
    "start_time": "2023-12-25T08:57:21.861Z"
   },
   {
    "duration": 151,
    "start_time": "2023-12-25T08:57:50.510Z"
   },
   {
    "duration": 147,
    "start_time": "2023-12-25T08:57:59.774Z"
   },
   {
    "duration": 1045,
    "start_time": "2023-12-25T08:59:07.472Z"
   },
   {
    "duration": 40,
    "start_time": "2023-12-25T08:59:08.518Z"
   },
   {
    "duration": 10,
    "start_time": "2023-12-25T08:59:08.559Z"
   },
   {
    "duration": 49,
    "start_time": "2023-12-25T08:59:08.570Z"
   },
   {
    "duration": 11,
    "start_time": "2023-12-25T08:59:08.620Z"
   },
   {
    "duration": 31,
    "start_time": "2023-12-25T08:59:08.632Z"
   },
   {
    "duration": 9,
    "start_time": "2023-12-25T08:59:08.665Z"
   },
   {
    "duration": 28,
    "start_time": "2023-12-25T08:59:08.676Z"
   },
   {
    "duration": 12,
    "start_time": "2023-12-25T08:59:08.706Z"
   },
   {
    "duration": 8,
    "start_time": "2023-12-25T08:59:08.720Z"
   },
   {
    "duration": 16,
    "start_time": "2023-12-25T08:59:08.729Z"
   },
   {
    "duration": 35,
    "start_time": "2023-12-25T08:59:08.747Z"
   },
   {
    "duration": 25,
    "start_time": "2023-12-25T08:59:08.784Z"
   },
   {
    "duration": 31,
    "start_time": "2023-12-25T08:59:08.811Z"
   },
   {
    "duration": 27,
    "start_time": "2023-12-25T08:59:08.844Z"
   },
   {
    "duration": 23,
    "start_time": "2023-12-25T08:59:08.873Z"
   },
   {
    "duration": 35,
    "start_time": "2023-12-25T08:59:08.898Z"
   },
   {
    "duration": 26,
    "start_time": "2023-12-25T08:59:08.935Z"
   },
   {
    "duration": 175,
    "start_time": "2023-12-25T08:59:08.962Z"
   },
   {
    "duration": 100,
    "start_time": "2023-12-25T08:59:09.139Z"
   },
   {
    "duration": 0,
    "start_time": "2023-12-25T08:59:09.241Z"
   },
   {
    "duration": 0,
    "start_time": "2023-12-25T08:59:09.242Z"
   },
   {
    "duration": 0,
    "start_time": "2023-12-25T08:59:09.243Z"
   },
   {
    "duration": 0,
    "start_time": "2023-12-25T08:59:09.244Z"
   },
   {
    "duration": 0,
    "start_time": "2023-12-25T08:59:09.245Z"
   },
   {
    "duration": 146,
    "start_time": "2023-12-25T09:00:31.713Z"
   },
   {
    "duration": 153,
    "start_time": "2023-12-25T09:00:40.976Z"
   },
   {
    "duration": 190,
    "start_time": "2023-12-25T09:00:45.761Z"
   },
   {
    "duration": 135,
    "start_time": "2023-12-25T09:06:21.335Z"
   },
   {
    "duration": 158,
    "start_time": "2023-12-25T09:06:28.886Z"
   },
   {
    "duration": 131,
    "start_time": "2023-12-25T09:07:03.664Z"
   },
   {
    "duration": 117,
    "start_time": "2023-12-25T09:07:09.575Z"
   },
   {
    "duration": 1163,
    "start_time": "2023-12-25T09:07:27.847Z"
   },
   {
    "duration": 45,
    "start_time": "2023-12-25T09:07:29.012Z"
   },
   {
    "duration": 14,
    "start_time": "2023-12-25T09:07:29.059Z"
   },
   {
    "duration": 59,
    "start_time": "2023-12-25T09:07:29.075Z"
   },
   {
    "duration": 10,
    "start_time": "2023-12-25T09:07:29.136Z"
   },
   {
    "duration": 20,
    "start_time": "2023-12-25T09:07:29.148Z"
   },
   {
    "duration": 10,
    "start_time": "2023-12-25T09:07:29.169Z"
   },
   {
    "duration": 19,
    "start_time": "2023-12-25T09:07:29.180Z"
   },
   {
    "duration": 14,
    "start_time": "2023-12-25T09:07:29.201Z"
   },
   {
    "duration": 9,
    "start_time": "2023-12-25T09:07:29.217Z"
   },
   {
    "duration": 14,
    "start_time": "2023-12-25T09:07:29.227Z"
   },
   {
    "duration": 23,
    "start_time": "2023-12-25T09:07:29.243Z"
   },
   {
    "duration": 14,
    "start_time": "2023-12-25T09:07:29.268Z"
   },
   {
    "duration": 11,
    "start_time": "2023-12-25T09:07:29.283Z"
   },
   {
    "duration": 11,
    "start_time": "2023-12-25T09:07:29.295Z"
   },
   {
    "duration": 9,
    "start_time": "2023-12-25T09:07:29.307Z"
   },
   {
    "duration": 9,
    "start_time": "2023-12-25T09:07:29.318Z"
   },
   {
    "duration": 25,
    "start_time": "2023-12-25T09:07:29.328Z"
   },
   {
    "duration": 224,
    "start_time": "2023-12-25T09:07:29.354Z"
   },
   {
    "duration": 0,
    "start_time": "2023-12-25T09:07:29.580Z"
   },
   {
    "duration": 0,
    "start_time": "2023-12-25T09:07:29.581Z"
   },
   {
    "duration": 0,
    "start_time": "2023-12-25T09:07:29.582Z"
   },
   {
    "duration": 0,
    "start_time": "2023-12-25T09:07:29.583Z"
   },
   {
    "duration": 0,
    "start_time": "2023-12-25T09:07:29.584Z"
   },
   {
    "duration": 0,
    "start_time": "2023-12-25T09:07:29.585Z"
   },
   {
    "duration": 154,
    "start_time": "2023-12-25T09:07:38.856Z"
   },
   {
    "duration": 149,
    "start_time": "2023-12-25T09:08:07.912Z"
   },
   {
    "duration": 16,
    "start_time": "2023-12-25T09:08:51.057Z"
   },
   {
    "duration": 120,
    "start_time": "2023-12-25T09:09:09.713Z"
   },
   {
    "duration": 143,
    "start_time": "2023-12-25T09:10:49.909Z"
   },
   {
    "duration": 201,
    "start_time": "2023-12-25T09:12:40.780Z"
   },
   {
    "duration": 86,
    "start_time": "2023-12-25T09:12:59.030Z"
   },
   {
    "duration": 148,
    "start_time": "2023-12-25T09:13:02.878Z"
   },
   {
    "duration": 139,
    "start_time": "2023-12-25T09:13:12.885Z"
   },
   {
    "duration": 12,
    "start_time": "2023-12-25T09:13:38.750Z"
   },
   {
    "duration": 14,
    "start_time": "2023-12-25T09:13:57.958Z"
   },
   {
    "duration": 82,
    "start_time": "2023-12-25T09:18:07.490Z"
   },
   {
    "duration": 85,
    "start_time": "2023-12-25T09:18:32.235Z"
   },
   {
    "duration": 1022,
    "start_time": "2023-12-25T09:18:41.603Z"
   },
   {
    "duration": 40,
    "start_time": "2023-12-25T09:18:42.627Z"
   },
   {
    "duration": 11,
    "start_time": "2023-12-25T09:18:42.668Z"
   },
   {
    "duration": 36,
    "start_time": "2023-12-25T09:18:42.681Z"
   },
   {
    "duration": 10,
    "start_time": "2023-12-25T09:18:42.719Z"
   },
   {
    "duration": 19,
    "start_time": "2023-12-25T09:18:42.731Z"
   },
   {
    "duration": 19,
    "start_time": "2023-12-25T09:18:42.752Z"
   },
   {
    "duration": 16,
    "start_time": "2023-12-25T09:18:42.772Z"
   },
   {
    "duration": 13,
    "start_time": "2023-12-25T09:18:42.790Z"
   },
   {
    "duration": 10,
    "start_time": "2023-12-25T09:18:42.806Z"
   },
   {
    "duration": 5,
    "start_time": "2023-12-25T09:18:42.818Z"
   },
   {
    "duration": 43,
    "start_time": "2023-12-25T09:18:42.824Z"
   },
   {
    "duration": 3,
    "start_time": "2023-12-25T09:18:42.868Z"
   },
   {
    "duration": 3,
    "start_time": "2023-12-25T09:18:42.873Z"
   },
   {
    "duration": 8,
    "start_time": "2023-12-25T09:18:42.877Z"
   },
   {
    "duration": 18,
    "start_time": "2023-12-25T09:18:42.887Z"
   },
   {
    "duration": 6,
    "start_time": "2023-12-25T09:18:42.906Z"
   },
   {
    "duration": 70,
    "start_time": "2023-12-25T09:18:42.913Z"
   },
   {
    "duration": 0,
    "start_time": "2023-12-25T09:18:42.984Z"
   },
   {
    "duration": 0,
    "start_time": "2023-12-25T09:18:42.986Z"
   },
   {
    "duration": 0,
    "start_time": "2023-12-25T09:18:42.987Z"
   },
   {
    "duration": 0,
    "start_time": "2023-12-25T09:18:42.988Z"
   },
   {
    "duration": 0,
    "start_time": "2023-12-25T09:18:42.989Z"
   },
   {
    "duration": 0,
    "start_time": "2023-12-25T09:18:42.990Z"
   },
   {
    "duration": 0,
    "start_time": "2023-12-25T09:18:42.990Z"
   },
   {
    "duration": 95,
    "start_time": "2023-12-25T09:18:54.436Z"
   },
   {
    "duration": 1057,
    "start_time": "2023-12-25T09:19:03.160Z"
   },
   {
    "duration": 41,
    "start_time": "2023-12-25T09:19:04.218Z"
   },
   {
    "duration": 10,
    "start_time": "2023-12-25T09:19:04.260Z"
   },
   {
    "duration": 47,
    "start_time": "2023-12-25T09:19:04.272Z"
   },
   {
    "duration": 10,
    "start_time": "2023-12-25T09:19:04.320Z"
   },
   {
    "duration": 44,
    "start_time": "2023-12-25T09:19:04.332Z"
   },
   {
    "duration": 9,
    "start_time": "2023-12-25T09:19:04.378Z"
   },
   {
    "duration": 19,
    "start_time": "2023-12-25T09:19:04.388Z"
   },
   {
    "duration": 11,
    "start_time": "2023-12-25T09:19:04.408Z"
   },
   {
    "duration": 9,
    "start_time": "2023-12-25T09:19:04.421Z"
   },
   {
    "duration": 11,
    "start_time": "2023-12-25T09:19:04.431Z"
   },
   {
    "duration": 23,
    "start_time": "2023-12-25T09:19:04.443Z"
   },
   {
    "duration": 2,
    "start_time": "2023-12-25T09:19:04.467Z"
   },
   {
    "duration": 8,
    "start_time": "2023-12-25T09:19:04.470Z"
   },
   {
    "duration": 7,
    "start_time": "2023-12-25T09:19:04.479Z"
   },
   {
    "duration": 7,
    "start_time": "2023-12-25T09:19:04.487Z"
   },
   {
    "duration": 8,
    "start_time": "2023-12-25T09:19:04.495Z"
   },
   {
    "duration": 79,
    "start_time": "2023-12-25T09:19:04.504Z"
   },
   {
    "duration": 0,
    "start_time": "2023-12-25T09:19:04.584Z"
   },
   {
    "duration": 0,
    "start_time": "2023-12-25T09:19:04.585Z"
   },
   {
    "duration": 0,
    "start_time": "2023-12-25T09:19:04.586Z"
   },
   {
    "duration": 0,
    "start_time": "2023-12-25T09:19:04.588Z"
   },
   {
    "duration": 0,
    "start_time": "2023-12-25T09:19:04.589Z"
   },
   {
    "duration": 0,
    "start_time": "2023-12-25T09:19:04.590Z"
   },
   {
    "duration": 0,
    "start_time": "2023-12-25T09:19:04.591Z"
   },
   {
    "duration": 71,
    "start_time": "2023-12-25T09:19:12.388Z"
   },
   {
    "duration": 10,
    "start_time": "2023-12-25T09:19:24.788Z"
   },
   {
    "duration": 13,
    "start_time": "2023-12-25T09:19:27.803Z"
   },
   {
    "duration": 14,
    "start_time": "2023-12-25T09:19:41.573Z"
   },
   {
    "duration": 14,
    "start_time": "2023-12-25T09:19:51.163Z"
   },
   {
    "duration": 1994,
    "start_time": "2023-12-25T09:20:02.140Z"
   },
   {
    "duration": 1090,
    "start_time": "2023-12-25T09:20:51.170Z"
   },
   {
    "duration": 42,
    "start_time": "2023-12-25T09:20:52.262Z"
   },
   {
    "duration": 12,
    "start_time": "2023-12-25T09:20:52.305Z"
   },
   {
    "duration": 55,
    "start_time": "2023-12-25T09:20:52.318Z"
   },
   {
    "duration": 10,
    "start_time": "2023-12-25T09:20:52.375Z"
   },
   {
    "duration": 19,
    "start_time": "2023-12-25T09:20:52.387Z"
   },
   {
    "duration": 9,
    "start_time": "2023-12-25T09:20:52.407Z"
   },
   {
    "duration": 23,
    "start_time": "2023-12-25T09:20:52.418Z"
   },
   {
    "duration": 12,
    "start_time": "2023-12-25T09:20:52.443Z"
   },
   {
    "duration": 31,
    "start_time": "2023-12-25T09:20:52.467Z"
   },
   {
    "duration": 29,
    "start_time": "2023-12-25T09:20:52.500Z"
   },
   {
    "duration": 35,
    "start_time": "2023-12-25T09:20:52.531Z"
   },
   {
    "duration": 47,
    "start_time": "2023-12-25T09:20:52.567Z"
   },
   {
    "duration": 16,
    "start_time": "2023-12-25T09:20:52.616Z"
   },
   {
    "duration": 57,
    "start_time": "2023-12-25T09:20:52.634Z"
   },
   {
    "duration": 23,
    "start_time": "2023-12-25T09:20:52.693Z"
   },
   {
    "duration": 37,
    "start_time": "2023-12-25T09:20:52.718Z"
   },
   {
    "duration": 28,
    "start_time": "2023-12-25T09:20:52.757Z"
   },
   {
    "duration": 1317,
    "start_time": "2023-12-25T09:20:52.787Z"
   },
   {
    "duration": 0,
    "start_time": "2023-12-25T09:20:54.106Z"
   },
   {
    "duration": 0,
    "start_time": "2023-12-25T09:20:54.107Z"
   },
   {
    "duration": 0,
    "start_time": "2023-12-25T09:20:54.108Z"
   },
   {
    "duration": 0,
    "start_time": "2023-12-25T09:20:54.109Z"
   },
   {
    "duration": 0,
    "start_time": "2023-12-25T09:20:54.109Z"
   },
   {
    "duration": 0,
    "start_time": "2023-12-25T09:20:54.111Z"
   },
   {
    "duration": 155,
    "start_time": "2023-12-25T09:21:13.526Z"
   },
   {
    "duration": 141,
    "start_time": "2023-12-25T09:22:11.104Z"
   },
   {
    "duration": 1170,
    "start_time": "2023-12-25T09:22:16.128Z"
   },
   {
    "duration": 1322,
    "start_time": "2023-12-25T09:22:30.073Z"
   },
   {
    "duration": 13,
    "start_time": "2023-12-25T09:22:48.608Z"
   },
   {
    "duration": 15,
    "start_time": "2023-12-25T09:23:08.528Z"
   },
   {
    "duration": 143,
    "start_time": "2023-12-25T09:23:12.951Z"
   },
   {
    "duration": 132,
    "start_time": "2023-12-25T09:23:21.769Z"
   },
   {
    "duration": 133,
    "start_time": "2023-12-25T09:23:28.520Z"
   },
   {
    "duration": 1163,
    "start_time": "2023-12-25T09:23:35.245Z"
   },
   {
    "duration": 40,
    "start_time": "2023-12-25T09:23:36.410Z"
   },
   {
    "duration": 24,
    "start_time": "2023-12-25T09:23:36.451Z"
   },
   {
    "duration": 69,
    "start_time": "2023-12-25T09:23:36.476Z"
   },
   {
    "duration": 10,
    "start_time": "2023-12-25T09:23:36.547Z"
   },
   {
    "duration": 35,
    "start_time": "2023-12-25T09:23:36.559Z"
   },
   {
    "duration": 20,
    "start_time": "2023-12-25T09:23:36.597Z"
   },
   {
    "duration": 42,
    "start_time": "2023-12-25T09:23:36.619Z"
   },
   {
    "duration": 20,
    "start_time": "2023-12-25T09:23:36.662Z"
   },
   {
    "duration": 19,
    "start_time": "2023-12-25T09:23:36.685Z"
   },
   {
    "duration": 14,
    "start_time": "2023-12-25T09:23:36.706Z"
   },
   {
    "duration": 38,
    "start_time": "2023-12-25T09:23:36.721Z"
   },
   {
    "duration": 15,
    "start_time": "2023-12-25T09:23:36.761Z"
   },
   {
    "duration": 36,
    "start_time": "2023-12-25T09:23:36.779Z"
   },
   {
    "duration": 34,
    "start_time": "2023-12-25T09:23:36.817Z"
   },
   {
    "duration": 24,
    "start_time": "2023-12-25T09:23:36.852Z"
   },
   {
    "duration": 46,
    "start_time": "2023-12-25T09:23:36.877Z"
   },
   {
    "duration": 32,
    "start_time": "2023-12-25T09:23:36.924Z"
   },
   {
    "duration": 163,
    "start_time": "2023-12-25T09:23:36.957Z"
   },
   {
    "duration": 103,
    "start_time": "2023-12-25T09:23:37.122Z"
   },
   {
    "duration": 0,
    "start_time": "2023-12-25T09:23:37.227Z"
   },
   {
    "duration": 0,
    "start_time": "2023-12-25T09:23:37.228Z"
   },
   {
    "duration": 0,
    "start_time": "2023-12-25T09:23:37.229Z"
   },
   {
    "duration": 0,
    "start_time": "2023-12-25T09:23:37.230Z"
   },
   {
    "duration": 0,
    "start_time": "2023-12-25T09:23:37.231Z"
   },
   {
    "duration": 1830,
    "start_time": "2023-12-25T09:24:00.952Z"
   },
   {
    "duration": 140,
    "start_time": "2023-12-25T09:24:28.449Z"
   },
   {
    "duration": 75,
    "start_time": "2023-12-25T09:24:36.266Z"
   },
   {
    "duration": 135,
    "start_time": "2023-12-25T09:24:40.322Z"
   },
   {
    "duration": 71,
    "start_time": "2023-12-25T09:26:31.843Z"
   },
   {
    "duration": 70,
    "start_time": "2023-12-25T09:26:36.555Z"
   },
   {
    "duration": 133,
    "start_time": "2023-12-25T09:26:39.483Z"
   },
   {
    "duration": 9,
    "start_time": "2023-12-25T09:26:55.835Z"
   },
   {
    "duration": 10,
    "start_time": "2023-12-25T09:27:10.196Z"
   },
   {
    "duration": 142,
    "start_time": "2023-12-25T09:27:19.564Z"
   },
   {
    "duration": 152,
    "start_time": "2023-12-25T09:27:46.550Z"
   },
   {
    "duration": 10,
    "start_time": "2023-12-25T09:27:54.982Z"
   },
   {
    "duration": 17,
    "start_time": "2023-12-25T09:29:12.822Z"
   },
   {
    "duration": 14,
    "start_time": "2023-12-25T09:29:37.335Z"
   },
   {
    "duration": 14,
    "start_time": "2023-12-25T09:29:53.495Z"
   },
   {
    "duration": 9,
    "start_time": "2023-12-25T09:29:57.791Z"
   },
   {
    "duration": 9,
    "start_time": "2023-12-25T09:30:09.825Z"
   },
   {
    "duration": 7,
    "start_time": "2023-12-25T09:30:14.527Z"
   },
   {
    "duration": 9,
    "start_time": "2023-12-25T09:30:19.400Z"
   },
   {
    "duration": 139,
    "start_time": "2023-12-25T09:30:36.600Z"
   },
   {
    "duration": 9,
    "start_time": "2023-12-25T09:30:51.143Z"
   },
   {
    "duration": 154,
    "start_time": "2023-12-25T09:32:06.498Z"
   },
   {
    "duration": 137,
    "start_time": "2023-12-25T09:32:11.466Z"
   },
   {
    "duration": 214,
    "start_time": "2023-12-25T09:32:24.913Z"
   },
   {
    "duration": 155,
    "start_time": "2023-12-25T09:32:31.553Z"
   },
   {
    "duration": 12,
    "start_time": "2023-12-25T09:32:46.354Z"
   },
   {
    "duration": 140,
    "start_time": "2023-12-25T09:32:48.441Z"
   },
   {
    "duration": 150,
    "start_time": "2023-12-25T09:33:11.259Z"
   },
   {
    "duration": 142,
    "start_time": "2023-12-25T09:33:25.019Z"
   },
   {
    "duration": 143,
    "start_time": "2023-12-25T09:33:39.835Z"
   },
   {
    "duration": 6,
    "start_time": "2023-12-25T09:33:58.707Z"
   },
   {
    "duration": 6,
    "start_time": "2023-12-25T09:34:15.364Z"
   },
   {
    "duration": 1026,
    "start_time": "2023-12-25T09:34:51.400Z"
   },
   {
    "duration": 40,
    "start_time": "2023-12-25T09:34:52.428Z"
   },
   {
    "duration": 10,
    "start_time": "2023-12-25T09:34:52.469Z"
   },
   {
    "duration": 65,
    "start_time": "2023-12-25T09:34:52.481Z"
   },
   {
    "duration": 11,
    "start_time": "2023-12-25T09:34:52.548Z"
   },
   {
    "duration": 42,
    "start_time": "2023-12-25T09:34:52.560Z"
   },
   {
    "duration": 9,
    "start_time": "2023-12-25T09:34:52.604Z"
   },
   {
    "duration": 34,
    "start_time": "2023-12-25T09:34:52.614Z"
   },
   {
    "duration": 15,
    "start_time": "2023-12-25T09:34:52.650Z"
   },
   {
    "duration": 11,
    "start_time": "2023-12-25T09:34:52.668Z"
   },
   {
    "duration": 13,
    "start_time": "2023-12-25T09:34:52.680Z"
   },
   {
    "duration": 28,
    "start_time": "2023-12-25T09:34:52.694Z"
   },
   {
    "duration": 22,
    "start_time": "2023-12-25T09:34:52.723Z"
   },
   {
    "duration": 15,
    "start_time": "2023-12-25T09:34:52.748Z"
   },
   {
    "duration": 9,
    "start_time": "2023-12-25T09:34:52.765Z"
   },
   {
    "duration": 20,
    "start_time": "2023-12-25T09:34:52.775Z"
   },
   {
    "duration": 35,
    "start_time": "2023-12-25T09:34:52.797Z"
   },
   {
    "duration": 21,
    "start_time": "2023-12-25T09:34:52.833Z"
   },
   {
    "duration": 165,
    "start_time": "2023-12-25T09:34:52.856Z"
   },
   {
    "duration": 2,
    "start_time": "2023-12-25T09:34:53.022Z"
   },
   {
    "duration": 13,
    "start_time": "2023-12-25T09:34:53.026Z"
   },
   {
    "duration": 32,
    "start_time": "2023-12-25T09:34:53.041Z"
   },
   {
    "duration": 13,
    "start_time": "2023-12-25T09:34:53.075Z"
   },
   {
    "duration": 226,
    "start_time": "2023-12-25T09:35:40.598Z"
   },
   {
    "duration": 16,
    "start_time": "2023-12-25T10:08:21.784Z"
   },
   {
    "duration": 14,
    "start_time": "2023-12-25T10:09:05.735Z"
   },
   {
    "duration": 12,
    "start_time": "2023-12-25T10:09:12.637Z"
   },
   {
    "duration": 8,
    "start_time": "2023-12-25T10:09:31.529Z"
   },
   {
    "duration": 19,
    "start_time": "2023-12-25T10:09:38.817Z"
   },
   {
    "duration": 95,
    "start_time": "2023-12-25T10:13:30.725Z"
   },
   {
    "duration": 9,
    "start_time": "2023-12-25T10:13:36.277Z"
   },
   {
    "duration": 9,
    "start_time": "2023-12-25T10:14:07.582Z"
   },
   {
    "duration": 13,
    "start_time": "2023-12-25T10:14:15.485Z"
   },
   {
    "duration": 18,
    "start_time": "2023-12-25T10:15:08.759Z"
   },
   {
    "duration": 19,
    "start_time": "2023-12-25T10:15:10.686Z"
   },
   {
    "duration": 1026,
    "start_time": "2023-12-25T10:15:17.286Z"
   },
   {
    "duration": 39,
    "start_time": "2023-12-25T10:15:18.314Z"
   },
   {
    "duration": 10,
    "start_time": "2023-12-25T10:15:18.355Z"
   },
   {
    "duration": 50,
    "start_time": "2023-12-25T10:15:18.366Z"
   },
   {
    "duration": 10,
    "start_time": "2023-12-25T10:15:18.418Z"
   },
   {
    "duration": 19,
    "start_time": "2023-12-25T10:15:18.430Z"
   },
   {
    "duration": 17,
    "start_time": "2023-12-25T10:15:18.451Z"
   },
   {
    "duration": 15,
    "start_time": "2023-12-25T10:15:18.469Z"
   },
   {
    "duration": 11,
    "start_time": "2023-12-25T10:15:18.486Z"
   },
   {
    "duration": 9,
    "start_time": "2023-12-25T10:15:18.498Z"
   },
   {
    "duration": 13,
    "start_time": "2023-12-25T10:15:18.508Z"
   },
   {
    "duration": 9,
    "start_time": "2023-12-25T10:15:18.523Z"
   },
   {
    "duration": 8,
    "start_time": "2023-12-25T10:15:18.533Z"
   },
   {
    "duration": 21,
    "start_time": "2023-12-25T10:15:18.544Z"
   },
   {
    "duration": 14,
    "start_time": "2023-12-25T10:15:18.567Z"
   },
   {
    "duration": 20,
    "start_time": "2023-12-25T10:15:18.583Z"
   },
   {
    "duration": 14,
    "start_time": "2023-12-25T10:15:18.605Z"
   },
   {
    "duration": 6,
    "start_time": "2023-12-25T10:15:18.620Z"
   },
   {
    "duration": 169,
    "start_time": "2023-12-25T10:15:18.627Z"
   },
   {
    "duration": 14,
    "start_time": "2023-12-25T10:15:18.798Z"
   },
   {
    "duration": 17,
    "start_time": "2023-12-25T10:15:18.813Z"
   },
   {
    "duration": 2,
    "start_time": "2023-12-25T10:15:18.832Z"
   },
   {
    "duration": 9,
    "start_time": "2023-12-25T10:15:18.835Z"
   },
   {
    "duration": 20,
    "start_time": "2023-12-25T10:15:18.845Z"
   },
   {
    "duration": 11,
    "start_time": "2023-12-25T10:15:18.867Z"
   },
   {
    "duration": 14,
    "start_time": "2023-12-25T10:16:03.984Z"
   },
   {
    "duration": 7,
    "start_time": "2023-12-25T10:16:48.248Z"
   },
   {
    "duration": 145,
    "start_time": "2023-12-25T10:17:30.185Z"
   },
   {
    "duration": 148,
    "start_time": "2023-12-25T10:17:56.555Z"
   },
   {
    "duration": 146,
    "start_time": "2023-12-25T10:18:17.906Z"
   },
   {
    "duration": 43,
    "start_time": "2023-12-25T10:20:00.820Z"
   },
   {
    "duration": 45,
    "start_time": "2023-12-25T10:20:03.243Z"
   },
   {
    "duration": 44,
    "start_time": "2023-12-25T10:20:13.652Z"
   },
   {
    "duration": 13,
    "start_time": "2023-12-25T10:22:10.469Z"
   },
   {
    "duration": 13,
    "start_time": "2023-12-25T10:22:12.949Z"
   },
   {
    "duration": 94,
    "start_time": "2023-12-25T10:23:36.048Z"
   },
   {
    "duration": 15,
    "start_time": "2023-12-25T10:23:42.935Z"
   },
   {
    "duration": 12,
    "start_time": "2023-12-25T10:24:38.656Z"
   },
   {
    "duration": 15,
    "start_time": "2023-12-25T10:28:42.253Z"
   },
   {
    "duration": 15,
    "start_time": "2023-12-25T10:29:59.302Z"
   },
   {
    "duration": 13,
    "start_time": "2023-12-25T10:30:49.895Z"
   },
   {
    "duration": 156,
    "start_time": "2023-12-25T10:30:52.502Z"
   },
   {
    "duration": 160,
    "start_time": "2023-12-25T10:31:22.807Z"
   },
   {
    "duration": 15,
    "start_time": "2023-12-25T10:31:22.969Z"
   },
   {
    "duration": 152,
    "start_time": "2023-12-25T10:32:18.144Z"
   },
   {
    "duration": 14,
    "start_time": "2023-12-25T10:36:50.429Z"
   },
   {
    "duration": 167,
    "start_time": "2023-12-25T10:39:58.744Z"
   },
   {
    "duration": 153,
    "start_time": "2023-12-25T10:40:21.064Z"
   },
   {
    "duration": 7,
    "start_time": "2023-12-25T10:42:08.792Z"
   },
   {
    "duration": 22,
    "start_time": "2023-12-25T10:42:21.130Z"
   },
   {
    "duration": 1010,
    "start_time": "2023-12-25T10:42:27.102Z"
   },
   {
    "duration": 39,
    "start_time": "2023-12-25T10:42:28.113Z"
   },
   {
    "duration": 11,
    "start_time": "2023-12-25T10:42:28.154Z"
   },
   {
    "duration": 63,
    "start_time": "2023-12-25T10:42:28.167Z"
   },
   {
    "duration": 10,
    "start_time": "2023-12-25T10:42:28.231Z"
   },
   {
    "duration": 20,
    "start_time": "2023-12-25T10:42:28.243Z"
   },
   {
    "duration": 14,
    "start_time": "2023-12-25T10:42:28.265Z"
   },
   {
    "duration": 23,
    "start_time": "2023-12-25T10:42:28.281Z"
   },
   {
    "duration": 18,
    "start_time": "2023-12-25T10:42:28.305Z"
   },
   {
    "duration": 9,
    "start_time": "2023-12-25T10:42:28.326Z"
   },
   {
    "duration": 20,
    "start_time": "2023-12-25T10:42:28.336Z"
   },
   {
    "duration": 17,
    "start_time": "2023-12-25T10:42:28.358Z"
   },
   {
    "duration": 25,
    "start_time": "2023-12-25T10:42:28.376Z"
   },
   {
    "duration": 14,
    "start_time": "2023-12-25T10:42:28.402Z"
   },
   {
    "duration": 14,
    "start_time": "2023-12-25T10:42:28.418Z"
   },
   {
    "duration": 18,
    "start_time": "2023-12-25T10:42:28.434Z"
   },
   {
    "duration": 16,
    "start_time": "2023-12-25T10:42:28.454Z"
   },
   {
    "duration": 15,
    "start_time": "2023-12-25T10:42:28.472Z"
   },
   {
    "duration": 177,
    "start_time": "2023-12-25T10:42:28.488Z"
   },
   {
    "duration": 115,
    "start_time": "2023-12-25T10:42:28.667Z"
   },
   {
    "duration": 0,
    "start_time": "2023-12-25T10:42:28.784Z"
   },
   {
    "duration": 0,
    "start_time": "2023-12-25T10:42:28.785Z"
   },
   {
    "duration": 0,
    "start_time": "2023-12-25T10:42:28.786Z"
   },
   {
    "duration": 0,
    "start_time": "2023-12-25T10:42:28.786Z"
   },
   {
    "duration": 0,
    "start_time": "2023-12-25T10:42:28.788Z"
   },
   {
    "duration": 7,
    "start_time": "2023-12-25T10:42:35.362Z"
   },
   {
    "duration": 12,
    "start_time": "2023-12-25T10:42:47.739Z"
   },
   {
    "duration": 18,
    "start_time": "2023-12-25T10:43:02.587Z"
   },
   {
    "duration": 20,
    "start_time": "2023-12-25T10:43:09.075Z"
   },
   {
    "duration": 12,
    "start_time": "2023-12-25T10:43:12.354Z"
   },
   {
    "duration": 1172,
    "start_time": "2023-12-25T10:43:31.340Z"
   },
   {
    "duration": 40,
    "start_time": "2023-12-25T10:43:32.514Z"
   },
   {
    "duration": 24,
    "start_time": "2023-12-25T10:43:32.556Z"
   },
   {
    "duration": 61,
    "start_time": "2023-12-25T10:43:32.582Z"
   },
   {
    "duration": 12,
    "start_time": "2023-12-25T10:43:32.646Z"
   },
   {
    "duration": 41,
    "start_time": "2023-12-25T10:43:32.660Z"
   },
   {
    "duration": 36,
    "start_time": "2023-12-25T10:43:32.703Z"
   },
   {
    "duration": 28,
    "start_time": "2023-12-25T10:43:32.741Z"
   },
   {
    "duration": 35,
    "start_time": "2023-12-25T10:43:32.771Z"
   },
   {
    "duration": 48,
    "start_time": "2023-12-25T10:43:32.807Z"
   },
   {
    "duration": 36,
    "start_time": "2023-12-25T10:43:32.857Z"
   },
   {
    "duration": 54,
    "start_time": "2023-12-25T10:43:32.895Z"
   },
   {
    "duration": 18,
    "start_time": "2023-12-25T10:43:32.951Z"
   },
   {
    "duration": 28,
    "start_time": "2023-12-25T10:43:32.972Z"
   },
   {
    "duration": 37,
    "start_time": "2023-12-25T10:43:33.002Z"
   },
   {
    "duration": 27,
    "start_time": "2023-12-25T10:43:33.040Z"
   },
   {
    "duration": 27,
    "start_time": "2023-12-25T10:43:33.068Z"
   },
   {
    "duration": 33,
    "start_time": "2023-12-25T10:43:33.097Z"
   },
   {
    "duration": 194,
    "start_time": "2023-12-25T10:43:33.132Z"
   },
   {
    "duration": 108,
    "start_time": "2023-12-25T10:43:33.328Z"
   },
   {
    "duration": 0,
    "start_time": "2023-12-25T10:43:33.438Z"
   },
   {
    "duration": 0,
    "start_time": "2023-12-25T10:43:33.439Z"
   },
   {
    "duration": 0,
    "start_time": "2023-12-25T10:43:33.440Z"
   },
   {
    "duration": 0,
    "start_time": "2023-12-25T10:43:33.441Z"
   },
   {
    "duration": 0,
    "start_time": "2023-12-25T10:43:33.442Z"
   },
   {
    "duration": 12,
    "start_time": "2023-12-25T10:43:37.883Z"
   },
   {
    "duration": 20,
    "start_time": "2023-12-25T10:44:13.893Z"
   },
   {
    "duration": 10,
    "start_time": "2023-12-25T10:44:32.924Z"
   },
   {
    "duration": 21,
    "start_time": "2023-12-25T10:44:46.334Z"
   },
   {
    "duration": 21,
    "start_time": "2023-12-25T10:45:06.022Z"
   },
   {
    "duration": 27,
    "start_time": "2023-12-25T10:45:42.054Z"
   },
   {
    "duration": 11,
    "start_time": "2023-12-25T10:45:44.318Z"
   },
   {
    "duration": 1025,
    "start_time": "2023-12-25T10:46:04.822Z"
   },
   {
    "duration": 47,
    "start_time": "2023-12-25T10:46:05.848Z"
   },
   {
    "duration": 41,
    "start_time": "2023-12-25T10:46:05.900Z"
   },
   {
    "duration": 56,
    "start_time": "2023-12-25T10:46:05.943Z"
   },
   {
    "duration": 10,
    "start_time": "2023-12-25T10:46:06.001Z"
   },
   {
    "duration": 28,
    "start_time": "2023-12-25T10:46:06.012Z"
   },
   {
    "duration": 47,
    "start_time": "2023-12-25T10:46:06.041Z"
   },
   {
    "duration": 20,
    "start_time": "2023-12-25T10:46:06.090Z"
   },
   {
    "duration": 12,
    "start_time": "2023-12-25T10:46:06.113Z"
   },
   {
    "duration": 9,
    "start_time": "2023-12-25T10:46:06.127Z"
   },
   {
    "duration": 17,
    "start_time": "2023-12-25T10:46:06.138Z"
   },
   {
    "duration": 35,
    "start_time": "2023-12-25T10:46:06.157Z"
   },
   {
    "duration": 25,
    "start_time": "2023-12-25T10:46:06.194Z"
   },
   {
    "duration": 24,
    "start_time": "2023-12-25T10:46:06.220Z"
   },
   {
    "duration": 54,
    "start_time": "2023-12-25T10:46:06.246Z"
   },
   {
    "duration": 12,
    "start_time": "2023-12-25T10:46:06.302Z"
   },
   {
    "duration": 6,
    "start_time": "2023-12-25T10:46:06.316Z"
   },
   {
    "duration": 20,
    "start_time": "2023-12-25T10:46:06.323Z"
   },
   {
    "duration": 193,
    "start_time": "2023-12-25T10:46:06.344Z"
   },
   {
    "duration": 39,
    "start_time": "2023-12-25T10:46:06.538Z"
   },
   {
    "duration": 102,
    "start_time": "2023-12-25T10:46:06.578Z"
   },
   {
    "duration": 0,
    "start_time": "2023-12-25T10:46:06.681Z"
   },
   {
    "duration": 0,
    "start_time": "2023-12-25T10:46:06.682Z"
   },
   {
    "duration": 0,
    "start_time": "2023-12-25T10:46:06.683Z"
   },
   {
    "duration": 0,
    "start_time": "2023-12-25T10:46:06.684Z"
   },
   {
    "duration": 0,
    "start_time": "2023-12-25T10:46:06.685Z"
   },
   {
    "duration": 13,
    "start_time": "2023-12-25T10:46:21.263Z"
   },
   {
    "duration": 7,
    "start_time": "2023-12-25T10:46:29.638Z"
   },
   {
    "duration": 17,
    "start_time": "2023-12-25T10:46:30.862Z"
   },
   {
    "duration": 14,
    "start_time": "2023-12-25T10:46:39.463Z"
   },
   {
    "duration": 1090,
    "start_time": "2023-12-25T10:47:20.610Z"
   },
   {
    "duration": 40,
    "start_time": "2023-12-25T10:47:21.702Z"
   },
   {
    "duration": 10,
    "start_time": "2023-12-25T10:47:21.743Z"
   },
   {
    "duration": 64,
    "start_time": "2023-12-25T10:47:21.755Z"
   },
   {
    "duration": 10,
    "start_time": "2023-12-25T10:47:21.821Z"
   },
   {
    "duration": 43,
    "start_time": "2023-12-25T10:47:21.833Z"
   },
   {
    "duration": 14,
    "start_time": "2023-12-25T10:47:21.879Z"
   },
   {
    "duration": 27,
    "start_time": "2023-12-25T10:47:21.895Z"
   },
   {
    "duration": 15,
    "start_time": "2023-12-25T10:47:21.924Z"
   },
   {
    "duration": 33,
    "start_time": "2023-12-25T10:47:21.942Z"
   },
   {
    "duration": 7,
    "start_time": "2023-12-25T10:47:21.978Z"
   },
   {
    "duration": 18,
    "start_time": "2023-12-25T10:47:21.986Z"
   },
   {
    "duration": 11,
    "start_time": "2023-12-25T10:47:22.005Z"
   },
   {
    "duration": 36,
    "start_time": "2023-12-25T10:47:22.018Z"
   },
   {
    "duration": 42,
    "start_time": "2023-12-25T10:47:22.056Z"
   },
   {
    "duration": 61,
    "start_time": "2023-12-25T10:47:22.100Z"
   },
   {
    "duration": 21,
    "start_time": "2023-12-25T10:47:22.162Z"
   },
   {
    "duration": 12,
    "start_time": "2023-12-25T10:47:22.185Z"
   },
   {
    "duration": 206,
    "start_time": "2023-12-25T10:47:22.199Z"
   },
   {
    "duration": 23,
    "start_time": "2023-12-25T10:47:22.407Z"
   },
   {
    "duration": 143,
    "start_time": "2023-12-25T10:47:22.432Z"
   },
   {
    "duration": 0,
    "start_time": "2023-12-25T10:47:22.577Z"
   },
   {
    "duration": 0,
    "start_time": "2023-12-25T10:47:22.579Z"
   },
   {
    "duration": 0,
    "start_time": "2023-12-25T10:47:22.580Z"
   },
   {
    "duration": 0,
    "start_time": "2023-12-25T10:47:22.581Z"
   },
   {
    "duration": 0,
    "start_time": "2023-12-25T10:47:22.583Z"
   },
   {
    "duration": 0,
    "start_time": "2023-12-25T10:47:22.584Z"
   },
   {
    "duration": 10,
    "start_time": "2023-12-25T10:47:37.904Z"
   },
   {
    "duration": 4,
    "start_time": "2023-12-25T10:47:50.465Z"
   },
   {
    "duration": 21,
    "start_time": "2023-12-25T10:47:54.929Z"
   },
   {
    "duration": 11,
    "start_time": "2023-12-25T10:47:57.576Z"
   },
   {
    "duration": 22,
    "start_time": "2023-12-25T10:48:01.544Z"
   },
   {
    "duration": 29,
    "start_time": "2023-12-25T10:48:06.209Z"
   },
   {
    "duration": 13,
    "start_time": "2023-12-25T10:48:16.688Z"
   },
   {
    "duration": 153,
    "start_time": "2023-12-25T10:48:18.000Z"
   },
   {
    "duration": 6,
    "start_time": "2023-12-25T10:48:22.720Z"
   },
   {
    "duration": 6,
    "start_time": "2023-12-25T10:48:31.352Z"
   },
   {
    "duration": 1095,
    "start_time": "2023-12-25T10:48:36.563Z"
   },
   {
    "duration": 44,
    "start_time": "2023-12-25T10:48:37.660Z"
   },
   {
    "duration": 11,
    "start_time": "2023-12-25T10:48:37.705Z"
   },
   {
    "duration": 40,
    "start_time": "2023-12-25T10:48:37.718Z"
   },
   {
    "duration": 11,
    "start_time": "2023-12-25T10:48:37.759Z"
   },
   {
    "duration": 20,
    "start_time": "2023-12-25T10:48:37.771Z"
   },
   {
    "duration": 10,
    "start_time": "2023-12-25T10:48:37.792Z"
   },
   {
    "duration": 16,
    "start_time": "2023-12-25T10:48:37.803Z"
   },
   {
    "duration": 12,
    "start_time": "2023-12-25T10:48:37.821Z"
   },
   {
    "duration": 9,
    "start_time": "2023-12-25T10:48:37.836Z"
   },
   {
    "duration": 5,
    "start_time": "2023-12-25T10:48:37.866Z"
   },
   {
    "duration": 8,
    "start_time": "2023-12-25T10:48:37.872Z"
   },
   {
    "duration": 3,
    "start_time": "2023-12-25T10:48:37.881Z"
   },
   {
    "duration": 7,
    "start_time": "2023-12-25T10:48:37.886Z"
   },
   {
    "duration": 16,
    "start_time": "2023-12-25T10:48:37.894Z"
   },
   {
    "duration": 21,
    "start_time": "2023-12-25T10:48:37.912Z"
   },
   {
    "duration": 19,
    "start_time": "2023-12-25T10:48:37.935Z"
   },
   {
    "duration": 6,
    "start_time": "2023-12-25T10:48:37.956Z"
   },
   {
    "duration": 182,
    "start_time": "2023-12-25T10:48:37.966Z"
   },
   {
    "duration": 18,
    "start_time": "2023-12-25T10:48:38.150Z"
   },
   {
    "duration": 159,
    "start_time": "2023-12-25T10:48:38.170Z"
   },
   {
    "duration": 5,
    "start_time": "2023-12-25T10:48:38.331Z"
   },
   {
    "duration": 28,
    "start_time": "2023-12-25T10:48:38.338Z"
   },
   {
    "duration": 26,
    "start_time": "2023-12-25T10:48:38.368Z"
   },
   {
    "duration": 11,
    "start_time": "2023-12-25T10:48:38.396Z"
   },
   {
    "duration": 22,
    "start_time": "2023-12-25T10:48:38.409Z"
   },
   {
    "duration": 25,
    "start_time": "2023-12-25T10:48:38.432Z"
   },
   {
    "duration": 15,
    "start_time": "2023-12-25T10:48:38.460Z"
   },
   {
    "duration": 6,
    "start_time": "2023-12-25T10:48:45.632Z"
   },
   {
    "duration": 152,
    "start_time": "2023-12-25T10:48:56.657Z"
   },
   {
    "duration": 6,
    "start_time": "2023-12-25T10:49:19.553Z"
   },
   {
    "duration": 6,
    "start_time": "2023-12-25T10:49:51.873Z"
   },
   {
    "duration": 6,
    "start_time": "2023-12-25T10:50:01.330Z"
   },
   {
    "duration": 7,
    "start_time": "2023-12-25T10:50:06.369Z"
   },
   {
    "duration": 6,
    "start_time": "2023-12-25T10:51:19.939Z"
   },
   {
    "duration": 6,
    "start_time": "2023-12-25T10:51:27.395Z"
   },
   {
    "duration": 7,
    "start_time": "2023-12-25T10:51:30.235Z"
   },
   {
    "duration": 1302,
    "start_time": "2023-12-25T10:54:17.990Z"
   },
   {
    "duration": 317,
    "start_time": "2023-12-25T10:54:33.046Z"
   },
   {
    "duration": 115,
    "start_time": "2023-12-25T10:58:59.700Z"
   },
   {
    "duration": 69,
    "start_time": "2023-12-25T11:00:02.069Z"
   },
   {
    "duration": 127,
    "start_time": "2023-12-25T11:00:06.940Z"
   },
   {
    "duration": 91,
    "start_time": "2023-12-25T11:00:49.765Z"
   },
   {
    "duration": 3,
    "start_time": "2023-12-25T11:00:55.718Z"
   },
   {
    "duration": 1323,
    "start_time": "2023-12-25T11:00:58.316Z"
   },
   {
    "duration": 1356,
    "start_time": "2023-12-25T11:00:59.716Z"
   },
   {
    "duration": 134,
    "start_time": "2023-12-25T11:01:35.741Z"
   },
   {
    "duration": 74,
    "start_time": "2023-12-25T11:01:44.006Z"
   },
   {
    "duration": 118,
    "start_time": "2023-12-25T11:01:47.782Z"
   },
   {
    "duration": 146,
    "start_time": "2023-12-25T11:02:10.022Z"
   },
   {
    "duration": 69,
    "start_time": "2023-12-25T11:03:22.135Z"
   },
   {
    "duration": 84,
    "start_time": "2023-12-25T11:03:26.607Z"
   },
   {
    "duration": 218,
    "start_time": "2023-12-25T11:03:52.314Z"
   },
   {
    "duration": 80,
    "start_time": "2023-12-25T11:05:30.281Z"
   },
   {
    "duration": 150,
    "start_time": "2023-12-25T11:05:33.018Z"
   },
   {
    "duration": 170,
    "start_time": "2023-12-25T11:05:58.042Z"
   },
   {
    "duration": 141,
    "start_time": "2023-12-25T11:06:17.386Z"
   },
   {
    "duration": 153,
    "start_time": "2023-12-25T11:06:40.666Z"
   },
   {
    "duration": 91,
    "start_time": "2023-12-25T11:09:51.733Z"
   },
   {
    "duration": 80,
    "start_time": "2023-12-25T11:10:00.958Z"
   },
   {
    "duration": 90,
    "start_time": "2023-12-25T11:10:03.525Z"
   },
   {
    "duration": 95,
    "start_time": "2023-12-25T11:10:07.078Z"
   },
   {
    "duration": 217,
    "start_time": "2023-12-25T11:10:10.765Z"
   },
   {
    "duration": 150,
    "start_time": "2023-12-25T11:10:25.494Z"
   },
   {
    "duration": 105,
    "start_time": "2023-12-25T11:11:19.887Z"
   },
   {
    "duration": 138,
    "start_time": "2023-12-25T11:11:22.551Z"
   },
   {
    "duration": 171,
    "start_time": "2023-12-25T11:11:35.847Z"
   },
   {
    "duration": 154,
    "start_time": "2023-12-25T11:12:15.352Z"
   },
   {
    "duration": 155,
    "start_time": "2023-12-25T11:12:34.919Z"
   },
   {
    "duration": 152,
    "start_time": "2023-12-25T11:12:57.408Z"
   },
   {
    "duration": 152,
    "start_time": "2023-12-25T11:13:01.624Z"
   },
   {
    "duration": 74,
    "start_time": "2023-12-25T11:14:14.538Z"
   },
   {
    "duration": 145,
    "start_time": "2023-12-25T11:14:19.833Z"
   },
   {
    "duration": 225,
    "start_time": "2023-12-25T11:14:26.097Z"
   },
   {
    "duration": 155,
    "start_time": "2023-12-25T11:14:36.067Z"
   },
   {
    "duration": 148,
    "start_time": "2023-12-25T11:14:43.322Z"
   },
   {
    "duration": 139,
    "start_time": "2023-12-25T11:15:03.058Z"
   },
   {
    "duration": 154,
    "start_time": "2023-12-25T11:15:11.386Z"
   },
   {
    "duration": 147,
    "start_time": "2023-12-25T11:15:19.003Z"
   },
   {
    "duration": 148,
    "start_time": "2023-12-25T11:15:30.811Z"
   },
   {
    "duration": 146,
    "start_time": "2023-12-25T11:15:42.483Z"
   },
   {
    "duration": 149,
    "start_time": "2023-12-25T11:15:54.333Z"
   },
   {
    "duration": 150,
    "start_time": "2023-12-25T11:16:25.404Z"
   },
   {
    "duration": 134,
    "start_time": "2023-12-25T11:16:57.644Z"
   },
   {
    "duration": 137,
    "start_time": "2023-12-25T11:17:03.636Z"
   },
   {
    "duration": 145,
    "start_time": "2023-12-25T11:17:06.900Z"
   },
   {
    "duration": 149,
    "start_time": "2023-12-25T11:17:16.493Z"
   },
   {
    "duration": 131,
    "start_time": "2023-12-25T11:17:21.277Z"
   },
   {
    "duration": 226,
    "start_time": "2023-12-25T11:17:24.085Z"
   },
   {
    "duration": 148,
    "start_time": "2023-12-25T11:17:34.949Z"
   },
   {
    "duration": 856,
    "start_time": "2023-12-25T11:19:06.527Z"
   },
   {
    "duration": 132,
    "start_time": "2023-12-25T11:19:23.975Z"
   },
   {
    "duration": 258,
    "start_time": "2023-12-25T11:19:32.239Z"
   },
   {
    "duration": 14,
    "start_time": "2023-12-25T11:19:41.615Z"
   },
   {
    "duration": 162,
    "start_time": "2023-12-25T11:19:47.543Z"
   },
   {
    "duration": 161,
    "start_time": "2023-12-25T11:19:56.735Z"
   },
   {
    "duration": 172,
    "start_time": "2023-12-25T11:20:01.383Z"
   },
   {
    "duration": 330,
    "start_time": "2023-12-25T11:21:11.129Z"
   },
   {
    "duration": 346,
    "start_time": "2023-12-25T11:21:26.433Z"
   },
   {
    "duration": 175,
    "start_time": "2023-12-25T11:21:30.681Z"
   },
   {
    "duration": 270,
    "start_time": "2023-12-25T11:21:44.746Z"
   },
   {
    "duration": 15761,
    "start_time": "2023-12-25T11:22:16.618Z"
   },
   {
    "duration": 74,
    "start_time": "2023-12-25T11:22:58.852Z"
   },
   {
    "duration": 4871,
    "start_time": "2023-12-25T11:23:02.180Z"
   },
   {
    "duration": 134,
    "start_time": "2023-12-25T11:23:16.364Z"
   },
   {
    "duration": 10,
    "start_time": "2023-12-25T11:23:47.243Z"
   },
   {
    "duration": 8,
    "start_time": "2023-12-25T11:23:49.876Z"
   },
   {
    "duration": 4,
    "start_time": "2023-12-25T11:23:56.820Z"
   },
   {
    "duration": 7,
    "start_time": "2023-12-25T11:24:06.707Z"
   },
   {
    "duration": 6,
    "start_time": "2023-12-25T11:24:09.012Z"
   },
   {
    "duration": 150,
    "start_time": "2023-12-25T11:24:28.892Z"
   },
   {
    "duration": 8,
    "start_time": "2023-12-25T11:24:40.700Z"
   },
   {
    "duration": 151,
    "start_time": "2023-12-25T11:24:44.116Z"
   },
   {
    "duration": 109,
    "start_time": "2023-12-25T11:24:57.477Z"
   },
   {
    "duration": 187,
    "start_time": "2023-12-25T11:25:00.116Z"
   },
   {
    "duration": 168,
    "start_time": "2023-12-25T11:25:03.620Z"
   },
   {
    "duration": 194,
    "start_time": "2023-12-25T11:25:11.165Z"
   },
   {
    "duration": 272,
    "start_time": "2023-12-25T11:25:44.773Z"
   },
   {
    "duration": 278,
    "start_time": "2023-12-25T11:26:00.204Z"
   },
   {
    "duration": 786,
    "start_time": "2023-12-25T11:26:07.654Z"
   },
   {
    "duration": 263,
    "start_time": "2023-12-25T11:26:24.414Z"
   },
   {
    "duration": 265,
    "start_time": "2023-12-25T11:27:40.367Z"
   },
   {
    "duration": 75,
    "start_time": "2023-12-25T11:28:04.736Z"
   },
   {
    "duration": 11,
    "start_time": "2023-12-25T11:28:16.392Z"
   },
   {
    "duration": 11,
    "start_time": "2023-12-25T11:30:12.754Z"
   },
   {
    "duration": 13,
    "start_time": "2023-12-25T11:30:29.753Z"
   },
   {
    "duration": 12,
    "start_time": "2023-12-25T11:30:43.298Z"
   },
   {
    "duration": 11,
    "start_time": "2023-12-25T11:30:51.458Z"
   },
   {
    "duration": 195,
    "start_time": "2023-12-25T11:31:36.516Z"
   },
   {
    "duration": 175,
    "start_time": "2023-12-25T11:32:59.445Z"
   },
   {
    "duration": 163,
    "start_time": "2023-12-25T11:33:12.102Z"
   },
   {
    "duration": 155,
    "start_time": "2023-12-25T11:33:14.740Z"
   },
   {
    "duration": 83,
    "start_time": "2023-12-25T11:34:14.622Z"
   },
   {
    "duration": 164,
    "start_time": "2023-12-25T11:34:17.895Z"
   },
   {
    "duration": 158,
    "start_time": "2023-12-25T11:34:45.030Z"
   },
   {
    "duration": 250,
    "start_time": "2023-12-25T11:37:43.354Z"
   },
   {
    "duration": 161,
    "start_time": "2023-12-25T11:39:21.379Z"
   },
   {
    "duration": 188,
    "start_time": "2023-12-25T11:39:34.363Z"
   },
   {
    "duration": 255,
    "start_time": "2023-12-25T11:40:22.285Z"
   },
   {
    "duration": 354,
    "start_time": "2023-12-25T11:41:23.182Z"
   },
   {
    "duration": 805,
    "start_time": "2023-12-25T11:41:36.614Z"
   },
   {
    "duration": 453,
    "start_time": "2023-12-25T11:41:43.238Z"
   },
   {
    "duration": 290,
    "start_time": "2023-12-25T11:41:46.966Z"
   },
   {
    "duration": 289,
    "start_time": "2023-12-25T11:42:23.759Z"
   },
   {
    "duration": 1642,
    "start_time": "2023-12-25T11:42:30.263Z"
   },
   {
    "duration": 362,
    "start_time": "2023-12-25T11:42:40.535Z"
   },
   {
    "duration": 348,
    "start_time": "2023-12-25T11:44:37.464Z"
   },
   {
    "duration": 396,
    "start_time": "2023-12-25T11:45:10.369Z"
   },
   {
    "duration": 216,
    "start_time": "2023-12-25T11:47:56.492Z"
   },
   {
    "duration": 362,
    "start_time": "2023-12-25T11:49:29.742Z"
   },
   {
    "duration": 193,
    "start_time": "2023-12-25T11:50:03.647Z"
   },
   {
    "duration": 1349,
    "start_time": "2023-12-25T11:50:09.647Z"
   },
   {
    "duration": 359,
    "start_time": "2023-12-25T11:50:18.007Z"
   },
   {
    "duration": 24,
    "start_time": "2023-12-25T12:15:47.690Z"
   },
   {
    "duration": 21,
    "start_time": "2023-12-25T12:16:05.442Z"
   },
   {
    "duration": 18,
    "start_time": "2023-12-25T12:16:15.618Z"
   },
   {
    "duration": 66,
    "start_time": "2023-12-25T12:16:22.547Z"
   },
   {
    "duration": 16,
    "start_time": "2023-12-25T12:16:25.039Z"
   },
   {
    "duration": 96,
    "start_time": "2023-12-25T12:16:30.099Z"
   },
   {
    "duration": 21,
    "start_time": "2023-12-25T12:16:32.394Z"
   },
   {
    "duration": 20,
    "start_time": "2023-12-25T12:17:17.731Z"
   },
   {
    "duration": 28,
    "start_time": "2023-12-25T12:18:28.350Z"
   },
   {
    "duration": 28,
    "start_time": "2023-12-25T12:18:48.013Z"
   },
   {
    "duration": 32,
    "start_time": "2023-12-25T12:19:58.383Z"
   },
   {
    "duration": 32,
    "start_time": "2023-12-25T12:20:04.063Z"
   },
   {
    "duration": 31,
    "start_time": "2023-12-25T12:20:08.214Z"
   },
   {
    "duration": 35,
    "start_time": "2023-12-25T12:20:13.629Z"
   },
   {
    "duration": 13,
    "start_time": "2023-12-25T12:20:28.312Z"
   },
   {
    "duration": 9,
    "start_time": "2023-12-25T12:20:39.919Z"
   },
   {
    "duration": 13,
    "start_time": "2023-12-25T12:20:51.775Z"
   },
   {
    "duration": 9,
    "start_time": "2023-12-25T12:23:33.963Z"
   },
   {
    "duration": 6,
    "start_time": "2023-12-25T12:23:38.594Z"
   },
   {
    "duration": 5,
    "start_time": "2023-12-25T12:23:53.138Z"
   },
   {
    "duration": 7,
    "start_time": "2023-12-25T12:24:41.820Z"
   },
   {
    "duration": 1077,
    "start_time": "2023-12-25T12:24:56.851Z"
   },
   {
    "duration": 40,
    "start_time": "2023-12-25T12:24:57.931Z"
   },
   {
    "duration": 41,
    "start_time": "2023-12-25T12:24:57.972Z"
   },
   {
    "duration": 51,
    "start_time": "2023-12-25T12:24:58.015Z"
   },
   {
    "duration": 9,
    "start_time": "2023-12-25T12:24:58.068Z"
   },
   {
    "duration": 47,
    "start_time": "2023-12-25T12:24:58.079Z"
   },
   {
    "duration": 31,
    "start_time": "2023-12-25T12:24:58.128Z"
   },
   {
    "duration": 30,
    "start_time": "2023-12-25T12:24:58.161Z"
   },
   {
    "duration": 27,
    "start_time": "2023-12-25T12:24:58.192Z"
   },
   {
    "duration": 28,
    "start_time": "2023-12-25T12:24:58.222Z"
   },
   {
    "duration": 33,
    "start_time": "2023-12-25T12:24:58.252Z"
   },
   {
    "duration": 41,
    "start_time": "2023-12-25T12:24:58.286Z"
   },
   {
    "duration": 15,
    "start_time": "2023-12-25T12:24:58.328Z"
   },
   {
    "duration": 27,
    "start_time": "2023-12-25T12:24:58.344Z"
   },
   {
    "duration": 25,
    "start_time": "2023-12-25T12:24:58.373Z"
   },
   {
    "duration": 29,
    "start_time": "2023-12-25T12:24:58.400Z"
   },
   {
    "duration": 19,
    "start_time": "2023-12-25T12:24:58.430Z"
   },
   {
    "duration": 25,
    "start_time": "2023-12-25T12:24:58.450Z"
   },
   {
    "duration": 195,
    "start_time": "2023-12-25T12:24:58.476Z"
   },
   {
    "duration": 186,
    "start_time": "2023-12-25T12:24:58.673Z"
   },
   {
    "duration": 6,
    "start_time": "2023-12-25T12:24:58.865Z"
   },
   {
    "duration": 73,
    "start_time": "2023-12-25T12:24:58.873Z"
   },
   {
    "duration": 185,
    "start_time": "2023-12-25T12:24:58.948Z"
   },
   {
    "duration": 178,
    "start_time": "2023-12-25T12:24:59.134Z"
   },
   {
    "duration": 11,
    "start_time": "2023-12-25T12:24:59.313Z"
   },
   {
    "duration": 384,
    "start_time": "2023-12-25T12:24:59.326Z"
   },
   {
    "duration": 28,
    "start_time": "2023-12-25T12:24:59.712Z"
   },
   {
    "duration": 4,
    "start_time": "2023-12-25T12:24:59.743Z"
   },
   {
    "duration": 29,
    "start_time": "2023-12-25T12:24:59.748Z"
   },
   {
    "duration": 39,
    "start_time": "2023-12-25T12:24:59.778Z"
   },
   {
    "duration": 8,
    "start_time": "2023-12-25T12:25:17.981Z"
   },
   {
    "duration": 5,
    "start_time": "2023-12-25T12:25:23.795Z"
   },
   {
    "duration": 10,
    "start_time": "2023-12-25T12:27:08.982Z"
   },
   {
    "duration": 25,
    "start_time": "2023-12-25T12:27:57.807Z"
   },
   {
    "duration": 29,
    "start_time": "2023-12-25T12:28:01.439Z"
   },
   {
    "duration": 33,
    "start_time": "2023-12-25T12:28:11.792Z"
   },
   {
    "duration": 20,
    "start_time": "2023-12-25T12:28:14.327Z"
   },
   {
    "duration": 20,
    "start_time": "2023-12-25T12:28:25.432Z"
   },
   {
    "duration": 24,
    "start_time": "2023-12-25T12:28:33.184Z"
   },
   {
    "duration": 30,
    "start_time": "2023-12-25T12:30:08.289Z"
   },
   {
    "duration": 27,
    "start_time": "2023-12-25T12:30:17.442Z"
   },
   {
    "duration": 15,
    "start_time": "2023-12-25T12:31:46.643Z"
   },
   {
    "duration": 166,
    "start_time": "2023-12-25T12:32:00.636Z"
   },
   {
    "duration": 15,
    "start_time": "2023-12-25T12:32:02.931Z"
   },
   {
    "duration": 99,
    "start_time": "2023-12-25T12:32:22.461Z"
   },
   {
    "duration": 14,
    "start_time": "2023-12-25T12:32:28.267Z"
   },
   {
    "duration": 28,
    "start_time": "2023-12-25T12:35:09.118Z"
   },
   {
    "duration": 26,
    "start_time": "2023-12-25T12:35:26.886Z"
   },
   {
    "duration": 23,
    "start_time": "2023-12-25T12:38:13.418Z"
   },
   {
    "duration": 27,
    "start_time": "2023-12-25T12:38:23.881Z"
   },
   {
    "duration": 29,
    "start_time": "2023-12-25T12:40:49.574Z"
   },
   {
    "duration": 19,
    "start_time": "2023-12-25T12:41:00.189Z"
   },
   {
    "duration": 15,
    "start_time": "2023-12-25T12:41:21.133Z"
   },
   {
    "duration": 17,
    "start_time": "2023-12-25T12:41:27.373Z"
   },
   {
    "duration": 20,
    "start_time": "2023-12-25T12:41:31.053Z"
   },
   {
    "duration": 18,
    "start_time": "2023-12-25T12:41:38.310Z"
   },
   {
    "duration": 16,
    "start_time": "2023-12-25T12:41:52.781Z"
   },
   {
    "duration": 19,
    "start_time": "2023-12-25T12:43:12.647Z"
   },
   {
    "duration": 21,
    "start_time": "2023-12-25T12:43:18.655Z"
   },
   {
    "duration": 18,
    "start_time": "2023-12-25T12:43:59.231Z"
   },
   {
    "duration": 17,
    "start_time": "2023-12-25T12:44:04.289Z"
   },
   {
    "duration": 460,
    "start_time": "2023-12-25T12:55:26.220Z"
   },
   {
    "duration": 387,
    "start_time": "2023-12-25T12:55:33.556Z"
   },
   {
    "duration": 589,
    "start_time": "2023-12-25T12:55:57.997Z"
   },
   {
    "duration": 678,
    "start_time": "2023-12-25T12:56:13.309Z"
   },
   {
    "duration": 663,
    "start_time": "2023-12-25T12:56:19.428Z"
   },
   {
    "duration": 816,
    "start_time": "2023-12-25T12:56:25.693Z"
   },
   {
    "duration": 664,
    "start_time": "2023-12-25T12:56:30.686Z"
   },
   {
    "duration": 748,
    "start_time": "2023-12-25T12:56:49.543Z"
   },
   {
    "duration": 681,
    "start_time": "2023-12-25T12:56:56.765Z"
   },
   {
    "duration": 147,
    "start_time": "2023-12-25T12:57:08.607Z"
   },
   {
    "duration": 789,
    "start_time": "2023-12-25T12:57:14.695Z"
   },
   {
    "duration": 671,
    "start_time": "2023-12-25T12:57:22.342Z"
   },
   {
    "duration": 677,
    "start_time": "2023-12-25T12:57:28.647Z"
   },
   {
    "duration": 782,
    "start_time": "2023-12-25T12:57:36.766Z"
   },
   {
    "duration": 670,
    "start_time": "2023-12-25T12:57:43.046Z"
   },
   {
    "duration": 690,
    "start_time": "2023-12-25T12:57:49.854Z"
   },
   {
    "duration": 125,
    "start_time": "2023-12-25T12:57:56.551Z"
   },
   {
    "duration": 115,
    "start_time": "2023-12-25T12:58:00.727Z"
   },
   {
    "duration": 579,
    "start_time": "2023-12-25T12:58:03.910Z"
   },
   {
    "duration": 208,
    "start_time": "2023-12-25T12:58:08.847Z"
   },
   {
    "duration": 113,
    "start_time": "2023-12-25T12:58:12.720Z"
   },
   {
    "duration": 583,
    "start_time": "2023-12-25T12:58:14.751Z"
   },
   {
    "duration": 89,
    "start_time": "2023-12-25T12:58:30.895Z"
   },
   {
    "duration": 733,
    "start_time": "2023-12-25T12:58:34.351Z"
   },
   {
    "duration": 598,
    "start_time": "2023-12-25T12:58:41.687Z"
   },
   {
    "duration": 612,
    "start_time": "2023-12-25T12:58:47.912Z"
   },
   {
    "duration": 819,
    "start_time": "2023-12-25T12:58:52.111Z"
   },
   {
    "duration": 645,
    "start_time": "2023-12-25T12:58:59.906Z"
   },
   {
    "duration": 779,
    "start_time": "2023-12-25T12:59:07.591Z"
   },
   {
    "duration": 681,
    "start_time": "2023-12-25T12:59:15.585Z"
   },
   {
    "duration": 825,
    "start_time": "2023-12-25T12:59:25.552Z"
   },
   {
    "duration": 166,
    "start_time": "2023-12-25T13:00:05.337Z"
   },
   {
    "duration": 616,
    "start_time": "2023-12-25T13:00:10.312Z"
   },
   {
    "duration": 864,
    "start_time": "2023-12-25T13:00:29.961Z"
   },
   {
    "duration": 294,
    "start_time": "2023-12-25T13:00:43.446Z"
   },
   {
    "duration": 431,
    "start_time": "2023-12-25T13:00:47.848Z"
   },
   {
    "duration": 671,
    "start_time": "2023-12-25T13:01:08.891Z"
   },
   {
    "duration": 652,
    "start_time": "2023-12-25T13:01:40.163Z"
   },
   {
    "duration": 306,
    "start_time": "2023-12-25T13:01:52.987Z"
   },
   {
    "duration": 711,
    "start_time": "2023-12-25T13:01:56.635Z"
   },
   {
    "duration": 581,
    "start_time": "2023-12-25T13:02:01.555Z"
   },
   {
    "duration": 565,
    "start_time": "2023-12-25T13:02:09.051Z"
   },
   {
    "duration": 691,
    "start_time": "2023-12-25T13:02:17.083Z"
   },
   {
    "duration": 490,
    "start_time": "2023-12-25T13:02:39.156Z"
   },
   {
    "duration": 679,
    "start_time": "2023-12-25T13:02:42.515Z"
   },
   {
    "duration": 116,
    "start_time": "2023-12-25T13:07:14.096Z"
   },
   {
    "duration": 111,
    "start_time": "2023-12-25T13:07:36.505Z"
   },
   {
    "duration": 505,
    "start_time": "2023-12-25T13:08:15.258Z"
   },
   {
    "duration": 603,
    "start_time": "2023-12-25T13:08:22.992Z"
   },
   {
    "duration": 458,
    "start_time": "2023-12-25T13:08:27.258Z"
   },
   {
    "duration": 585,
    "start_time": "2023-12-25T13:08:36.433Z"
   },
   {
    "duration": 75,
    "start_time": "2023-12-25T13:08:48.785Z"
   },
   {
    "duration": 711,
    "start_time": "2023-12-25T13:08:51.906Z"
   },
   {
    "duration": 600,
    "start_time": "2023-12-25T13:09:23.331Z"
   },
   {
    "duration": 730,
    "start_time": "2023-12-25T13:09:47.810Z"
   },
   {
    "duration": 579,
    "start_time": "2023-12-25T13:09:56.922Z"
   },
   {
    "duration": 704,
    "start_time": "2023-12-25T13:10:32.261Z"
   },
   {
    "duration": 594,
    "start_time": "2023-12-25T13:11:23.374Z"
   },
   {
    "duration": 701,
    "start_time": "2023-12-25T13:11:31.861Z"
   },
   {
    "duration": 634,
    "start_time": "2023-12-25T13:11:40.852Z"
   },
   {
    "duration": 712,
    "start_time": "2023-12-25T13:11:48.701Z"
   },
   {
    "duration": 513,
    "start_time": "2023-12-25T13:12:13.182Z"
   },
   {
    "duration": 495,
    "start_time": "2023-12-25T13:12:16.206Z"
   },
   {
    "duration": 1080,
    "start_time": "2023-12-25T13:12:42.632Z"
   },
   {
    "duration": 41,
    "start_time": "2023-12-25T13:12:43.713Z"
   },
   {
    "duration": 10,
    "start_time": "2023-12-25T13:12:43.755Z"
   },
   {
    "duration": 62,
    "start_time": "2023-12-25T13:12:43.767Z"
   },
   {
    "duration": 11,
    "start_time": "2023-12-25T13:12:43.830Z"
   },
   {
    "duration": 38,
    "start_time": "2023-12-25T13:12:43.842Z"
   },
   {
    "duration": 14,
    "start_time": "2023-12-25T13:12:43.881Z"
   },
   {
    "duration": 36,
    "start_time": "2023-12-25T13:12:43.896Z"
   },
   {
    "duration": 23,
    "start_time": "2023-12-25T13:12:43.934Z"
   },
   {
    "duration": 12,
    "start_time": "2023-12-25T13:12:43.959Z"
   },
   {
    "duration": 10,
    "start_time": "2023-12-25T13:12:43.972Z"
   },
   {
    "duration": 14,
    "start_time": "2023-12-25T13:12:43.983Z"
   },
   {
    "duration": 14,
    "start_time": "2023-12-25T13:12:43.999Z"
   },
   {
    "duration": 23,
    "start_time": "2023-12-25T13:12:44.014Z"
   },
   {
    "duration": 42,
    "start_time": "2023-12-25T13:12:44.038Z"
   },
   {
    "duration": 34,
    "start_time": "2023-12-25T13:12:44.081Z"
   },
   {
    "duration": 25,
    "start_time": "2023-12-25T13:12:44.116Z"
   },
   {
    "duration": 19,
    "start_time": "2023-12-25T13:12:44.143Z"
   },
   {
    "duration": 180,
    "start_time": "2023-12-25T13:12:44.164Z"
   },
   {
    "duration": 161,
    "start_time": "2023-12-25T13:12:44.346Z"
   },
   {
    "duration": 6,
    "start_time": "2023-12-25T13:12:44.509Z"
   },
   {
    "duration": 30,
    "start_time": "2023-12-25T13:12:44.516Z"
   },
   {
    "duration": 156,
    "start_time": "2023-12-25T13:12:44.548Z"
   },
   {
    "duration": 171,
    "start_time": "2023-12-25T13:12:44.705Z"
   },
   {
    "duration": 10,
    "start_time": "2023-12-25T13:12:44.878Z"
   },
   {
    "duration": 364,
    "start_time": "2023-12-25T13:12:44.890Z"
   },
   {
    "duration": 26,
    "start_time": "2023-12-25T13:12:45.256Z"
   },
   {
    "duration": 28,
    "start_time": "2023-12-25T13:12:45.285Z"
   },
   {
    "duration": 18,
    "start_time": "2023-12-25T13:12:45.315Z"
   },
   {
    "duration": 43,
    "start_time": "2023-12-25T13:12:45.334Z"
   },
   {
    "duration": 686,
    "start_time": "2023-12-25T13:12:45.379Z"
   },
   {
    "duration": 0,
    "start_time": "2023-12-25T13:12:46.067Z"
   },
   {
    "duration": 0,
    "start_time": "2023-12-25T13:12:46.069Z"
   },
   {
    "duration": 0,
    "start_time": "2023-12-25T13:12:46.070Z"
   },
   {
    "duration": 593,
    "start_time": "2023-12-25T13:13:01.031Z"
   },
   {
    "duration": 651,
    "start_time": "2023-12-25T13:13:17.152Z"
   },
   {
    "duration": 578,
    "start_time": "2023-12-25T13:14:29.265Z"
   },
   {
    "duration": 613,
    "start_time": "2023-12-25T13:15:27.186Z"
   },
   {
    "duration": 475,
    "start_time": "2023-12-25T13:17:20.683Z"
   },
   {
    "duration": 258,
    "start_time": "2023-12-25T13:17:58.556Z"
   },
   {
    "duration": 263,
    "start_time": "2023-12-25T13:18:03.684Z"
   },
   {
    "duration": 13,
    "start_time": "2023-12-25T13:18:41.268Z"
   },
   {
    "duration": 17,
    "start_time": "2023-12-25T13:20:37.198Z"
   },
   {
    "duration": 12,
    "start_time": "2023-12-25T13:20:45.742Z"
   },
   {
    "duration": 6,
    "start_time": "2023-12-25T13:21:01.839Z"
   },
   {
    "duration": 362,
    "start_time": "2023-12-25T13:21:22.935Z"
   },
   {
    "duration": 7,
    "start_time": "2023-12-25T13:21:49.367Z"
   },
   {
    "duration": 14,
    "start_time": "2023-12-25T13:21:54.183Z"
   },
   {
    "duration": 10,
    "start_time": "2023-12-25T13:34:47.995Z"
   },
   {
    "duration": 665,
    "start_time": "2023-12-25T13:35:37.644Z"
   },
   {
    "duration": 609,
    "start_time": "2023-12-25T13:36:02.093Z"
   },
   {
    "duration": 21,
    "start_time": "2023-12-25T13:36:51.415Z"
   },
   {
    "duration": 221,
    "start_time": "2023-12-25T13:37:32.759Z"
   },
   {
    "duration": 1190,
    "start_time": "2023-12-25T13:37:51.354Z"
   },
   {
    "duration": 1178,
    "start_time": "2023-12-25T13:37:54.231Z"
   },
   {
    "duration": 1760,
    "start_time": "2023-12-25T13:38:11.759Z"
   },
   {
    "duration": 248,
    "start_time": "2023-12-25T13:38:23.719Z"
   },
   {
    "duration": 7,
    "start_time": "2023-12-25T13:38:37.296Z"
   },
   {
    "duration": 7,
    "start_time": "2023-12-25T13:38:39.968Z"
   },
   {
    "duration": 15,
    "start_time": "2023-12-25T13:39:41.537Z"
   },
   {
    "duration": 6,
    "start_time": "2023-12-25T13:40:41.186Z"
   },
   {
    "duration": 8,
    "start_time": "2023-12-25T13:40:50.314Z"
   },
   {
    "duration": 7,
    "start_time": "2023-12-25T13:40:59.354Z"
   },
   {
    "duration": 138,
    "start_time": "2023-12-25T13:41:15.259Z"
   },
   {
    "duration": 1692,
    "start_time": "2023-12-25T13:41:36.276Z"
   },
   {
    "duration": 137,
    "start_time": "2023-12-25T13:41:39.035Z"
   },
   {
    "duration": 15,
    "start_time": "2023-12-25T13:45:15.366Z"
   },
   {
    "duration": 96,
    "start_time": "2023-12-25T13:45:19.392Z"
   },
   {
    "duration": 127,
    "start_time": "2023-12-25T13:46:03.680Z"
   },
   {
    "duration": 8,
    "start_time": "2023-12-25T13:57:03.468Z"
   },
   {
    "duration": 1101,
    "start_time": "2023-12-25T13:57:27.892Z"
   },
   {
    "duration": 39,
    "start_time": "2023-12-25T13:57:28.995Z"
   },
   {
    "duration": 11,
    "start_time": "2023-12-25T13:57:29.036Z"
   },
   {
    "duration": 40,
    "start_time": "2023-12-25T13:57:29.048Z"
   },
   {
    "duration": 10,
    "start_time": "2023-12-25T13:57:29.089Z"
   },
   {
    "duration": 27,
    "start_time": "2023-12-25T13:57:29.101Z"
   },
   {
    "duration": 9,
    "start_time": "2023-12-25T13:57:29.129Z"
   },
   {
    "duration": 35,
    "start_time": "2023-12-25T13:57:29.139Z"
   },
   {
    "duration": 12,
    "start_time": "2023-12-25T13:57:29.175Z"
   },
   {
    "duration": 9,
    "start_time": "2023-12-25T13:57:29.189Z"
   },
   {
    "duration": 14,
    "start_time": "2023-12-25T13:57:29.199Z"
   },
   {
    "duration": 6,
    "start_time": "2023-12-25T13:57:29.215Z"
   },
   {
    "duration": 5,
    "start_time": "2023-12-25T13:57:29.222Z"
   },
   {
    "duration": 18,
    "start_time": "2023-12-25T13:57:29.228Z"
   },
   {
    "duration": 18,
    "start_time": "2023-12-25T13:57:29.248Z"
   },
   {
    "duration": 4,
    "start_time": "2023-12-25T13:57:29.268Z"
   },
   {
    "duration": 13,
    "start_time": "2023-12-25T13:57:29.274Z"
   },
   {
    "duration": 18,
    "start_time": "2023-12-25T13:57:29.288Z"
   },
   {
    "duration": 169,
    "start_time": "2023-12-25T13:57:29.308Z"
   },
   {
    "duration": 162,
    "start_time": "2023-12-25T13:57:29.479Z"
   },
   {
    "duration": 6,
    "start_time": "2023-12-25T13:57:29.643Z"
   },
   {
    "duration": 21,
    "start_time": "2023-12-25T13:57:29.651Z"
   },
   {
    "duration": 172,
    "start_time": "2023-12-25T13:57:29.674Z"
   },
   {
    "duration": 171,
    "start_time": "2023-12-25T13:57:29.848Z"
   },
   {
    "duration": 12,
    "start_time": "2023-12-25T13:57:30.021Z"
   },
   {
    "duration": 322,
    "start_time": "2023-12-25T13:57:30.035Z"
   },
   {
    "duration": 383,
    "start_time": "2023-12-25T13:57:30.358Z"
   },
   {
    "duration": 101,
    "start_time": "2023-12-25T13:57:30.744Z"
   },
   {
    "duration": 0,
    "start_time": "2023-12-25T13:57:30.847Z"
   },
   {
    "duration": 0,
    "start_time": "2023-12-25T13:57:30.848Z"
   },
   {
    "duration": 0,
    "start_time": "2023-12-25T13:57:30.850Z"
   },
   {
    "duration": 0,
    "start_time": "2023-12-25T13:57:30.851Z"
   },
   {
    "duration": 0,
    "start_time": "2023-12-25T13:57:30.852Z"
   },
   {
    "duration": 0,
    "start_time": "2023-12-25T13:57:30.854Z"
   },
   {
    "duration": 0,
    "start_time": "2023-12-25T13:57:30.866Z"
   },
   {
    "duration": 0,
    "start_time": "2023-12-25T13:57:30.867Z"
   },
   {
    "duration": 0,
    "start_time": "2023-12-25T13:57:30.869Z"
   },
   {
    "duration": 0,
    "start_time": "2023-12-25T13:57:30.870Z"
   },
   {
    "duration": 0,
    "start_time": "2023-12-25T13:57:30.871Z"
   },
   {
    "duration": 0,
    "start_time": "2023-12-25T13:57:30.872Z"
   },
   {
    "duration": 0,
    "start_time": "2023-12-25T13:57:30.874Z"
   },
   {
    "duration": 0,
    "start_time": "2023-12-25T13:57:30.876Z"
   },
   {
    "duration": 184,
    "start_time": "2023-12-25T13:57:47.188Z"
   },
   {
    "duration": 113,
    "start_time": "2023-12-25T13:57:57.283Z"
   },
   {
    "duration": 17,
    "start_time": "2023-12-25T14:03:33.834Z"
   },
   {
    "duration": 13,
    "start_time": "2023-12-25T14:05:34.380Z"
   },
   {
    "duration": 8,
    "start_time": "2023-12-25T14:05:38.900Z"
   },
   {
    "duration": 602,
    "start_time": "2023-12-25T14:06:36.484Z"
   },
   {
    "duration": 1061,
    "start_time": "2023-12-25T14:07:00.116Z"
   },
   {
    "duration": 42,
    "start_time": "2023-12-25T14:07:01.179Z"
   },
   {
    "duration": 11,
    "start_time": "2023-12-25T14:07:01.223Z"
   },
   {
    "duration": 63,
    "start_time": "2023-12-25T14:07:01.235Z"
   },
   {
    "duration": 37,
    "start_time": "2023-12-25T14:07:01.300Z"
   },
   {
    "duration": 54,
    "start_time": "2023-12-25T14:07:01.339Z"
   },
   {
    "duration": 71,
    "start_time": "2023-12-25T14:07:01.394Z"
   },
   {
    "duration": 78,
    "start_time": "2023-12-25T14:07:01.467Z"
   },
   {
    "duration": 51,
    "start_time": "2023-12-25T14:07:01.546Z"
   },
   {
    "duration": 41,
    "start_time": "2023-12-25T14:07:01.599Z"
   },
   {
    "duration": 29,
    "start_time": "2023-12-25T14:07:01.641Z"
   },
   {
    "duration": 64,
    "start_time": "2023-12-25T14:07:01.671Z"
   },
   {
    "duration": 20,
    "start_time": "2023-12-25T14:07:01.736Z"
   },
   {
    "duration": 29,
    "start_time": "2023-12-25T14:07:01.757Z"
   },
   {
    "duration": 30,
    "start_time": "2023-12-25T14:07:01.787Z"
   },
   {
    "duration": 19,
    "start_time": "2023-12-25T14:07:01.818Z"
   },
   {
    "duration": 19,
    "start_time": "2023-12-25T14:07:01.838Z"
   },
   {
    "duration": 23,
    "start_time": "2023-12-25T14:07:01.858Z"
   },
   {
    "duration": 187,
    "start_time": "2023-12-25T14:07:01.883Z"
   },
   {
    "duration": 165,
    "start_time": "2023-12-25T14:07:02.072Z"
   },
   {
    "duration": 6,
    "start_time": "2023-12-25T14:07:02.239Z"
   },
   {
    "duration": 25,
    "start_time": "2023-12-25T14:07:02.247Z"
   },
   {
    "duration": 164,
    "start_time": "2023-12-25T14:07:02.273Z"
   },
   {
    "duration": 175,
    "start_time": "2023-12-25T14:07:02.439Z"
   },
   {
    "duration": 12,
    "start_time": "2023-12-25T14:07:02.615Z"
   },
   {
    "duration": 312,
    "start_time": "2023-12-25T14:07:02.628Z"
   },
   {
    "duration": 369,
    "start_time": "2023-12-25T14:07:02.941Z"
   },
   {
    "duration": 7,
    "start_time": "2023-12-25T14:07:03.313Z"
   },
   {
    "duration": 697,
    "start_time": "2023-12-25T14:07:03.321Z"
   },
   {
    "duration": 0,
    "start_time": "2023-12-25T14:07:04.019Z"
   },
   {
    "duration": 0,
    "start_time": "2023-12-25T14:07:04.020Z"
   },
   {
    "duration": 0,
    "start_time": "2023-12-25T14:07:04.021Z"
   },
   {
    "duration": 0,
    "start_time": "2023-12-25T14:07:04.102Z"
   },
   {
    "duration": 0,
    "start_time": "2023-12-25T14:07:04.103Z"
   },
   {
    "duration": 0,
    "start_time": "2023-12-25T14:07:04.105Z"
   },
   {
    "duration": 0,
    "start_time": "2023-12-25T14:07:04.106Z"
   },
   {
    "duration": 1,
    "start_time": "2023-12-25T14:07:04.106Z"
   },
   {
    "duration": 0,
    "start_time": "2023-12-25T14:07:04.107Z"
   },
   {
    "duration": 0,
    "start_time": "2023-12-25T14:07:04.109Z"
   },
   {
    "duration": 0,
    "start_time": "2023-12-25T14:07:04.110Z"
   },
   {
    "duration": 0,
    "start_time": "2023-12-25T14:07:04.111Z"
   },
   {
    "duration": 0,
    "start_time": "2023-12-25T14:07:04.112Z"
   },
   {
    "duration": 15,
    "start_time": "2023-12-25T14:07:18.101Z"
   },
   {
    "duration": 12,
    "start_time": "2023-12-25T14:10:47.393Z"
   },
   {
    "duration": 12,
    "start_time": "2023-12-25T14:11:44.402Z"
   },
   {
    "duration": 7,
    "start_time": "2023-12-25T14:11:56.572Z"
   },
   {
    "duration": 8,
    "start_time": "2023-12-25T14:12:15.523Z"
   },
   {
    "duration": 8,
    "start_time": "2023-12-25T14:12:43.572Z"
   },
   {
    "duration": 213,
    "start_time": "2023-12-25T14:14:48.021Z"
   },
   {
    "duration": 161,
    "start_time": "2023-12-25T14:14:57.182Z"
   },
   {
    "duration": 239,
    "start_time": "2023-12-25T14:15:03.158Z"
   },
   {
    "duration": 13,
    "start_time": "2023-12-25T14:15:41.026Z"
   },
   {
    "duration": 1125,
    "start_time": "2023-12-25T14:16:55.183Z"
   },
   {
    "duration": 40,
    "start_time": "2023-12-25T14:16:56.310Z"
   },
   {
    "duration": 11,
    "start_time": "2023-12-25T14:16:56.351Z"
   },
   {
    "duration": 67,
    "start_time": "2023-12-25T14:16:56.363Z"
   },
   {
    "duration": 9,
    "start_time": "2023-12-25T14:16:56.432Z"
   },
   {
    "duration": 31,
    "start_time": "2023-12-25T14:16:56.442Z"
   },
   {
    "duration": 9,
    "start_time": "2023-12-25T14:16:56.474Z"
   },
   {
    "duration": 36,
    "start_time": "2023-12-25T14:16:56.484Z"
   },
   {
    "duration": 28,
    "start_time": "2023-12-25T14:16:56.521Z"
   },
   {
    "duration": 25,
    "start_time": "2023-12-25T14:16:56.551Z"
   },
   {
    "duration": 37,
    "start_time": "2023-12-25T14:16:56.578Z"
   },
   {
    "duration": 37,
    "start_time": "2023-12-25T14:16:56.617Z"
   },
   {
    "duration": 22,
    "start_time": "2023-12-25T14:16:56.656Z"
   },
   {
    "duration": 18,
    "start_time": "2023-12-25T14:16:56.683Z"
   },
   {
    "duration": 20,
    "start_time": "2023-12-25T14:16:56.703Z"
   },
   {
    "duration": 35,
    "start_time": "2023-12-25T14:16:56.726Z"
   },
   {
    "duration": 10,
    "start_time": "2023-12-25T14:16:56.763Z"
   },
   {
    "duration": 27,
    "start_time": "2023-12-25T14:16:56.776Z"
   },
   {
    "duration": 168,
    "start_time": "2023-12-25T14:16:56.805Z"
   },
   {
    "duration": 161,
    "start_time": "2023-12-25T14:16:56.975Z"
   },
   {
    "duration": 7,
    "start_time": "2023-12-25T14:16:57.138Z"
   },
   {
    "duration": 21,
    "start_time": "2023-12-25T14:16:57.146Z"
   },
   {
    "duration": 181,
    "start_time": "2023-12-25T14:16:57.169Z"
   },
   {
    "duration": 172,
    "start_time": "2023-12-25T14:16:57.352Z"
   },
   {
    "duration": 11,
    "start_time": "2023-12-25T14:16:57.526Z"
   },
   {
    "duration": 266,
    "start_time": "2023-12-25T14:16:57.539Z"
   },
   {
    "duration": 382,
    "start_time": "2023-12-25T14:16:57.806Z"
   },
   {
    "duration": 8,
    "start_time": "2023-12-25T14:16:58.190Z"
   },
   {
    "duration": 40,
    "start_time": "2023-12-25T14:16:58.199Z"
   },
   {
    "duration": 27,
    "start_time": "2023-12-25T14:16:58.240Z"
   },
   {
    "duration": 25,
    "start_time": "2023-12-25T14:16:58.269Z"
   },
   {
    "duration": 106,
    "start_time": "2023-12-25T14:16:58.295Z"
   },
   {
    "duration": 26,
    "start_time": "2023-12-25T14:16:58.403Z"
   },
   {
    "duration": 41,
    "start_time": "2023-12-25T14:16:58.431Z"
   },
   {
    "duration": 17,
    "start_time": "2023-12-25T14:16:58.474Z"
   },
   {
    "duration": 607,
    "start_time": "2023-12-25T14:16:58.493Z"
   },
   {
    "duration": 608,
    "start_time": "2023-12-25T14:16:59.101Z"
   },
   {
    "duration": 20,
    "start_time": "2023-12-25T14:16:59.710Z"
   },
   {
    "duration": 19,
    "start_time": "2023-12-25T14:16:59.731Z"
   },
   {
    "duration": 34,
    "start_time": "2023-12-25T14:16:59.752Z"
   },
   {
    "duration": 143,
    "start_time": "2023-12-25T14:16:59.790Z"
   },
   {
    "duration": 3,
    "start_time": "2023-12-25T14:16:59.934Z"
   },
   {
    "duration": 15,
    "start_time": "2023-12-25T14:16:59.938Z"
   },
   {
    "duration": 24,
    "start_time": "2023-12-25T14:16:59.955Z"
   },
   {
    "duration": 20,
    "start_time": "2023-12-25T14:17:30.472Z"
   },
   {
    "duration": 8,
    "start_time": "2023-12-25T14:17:39.393Z"
   },
   {
    "duration": 7,
    "start_time": "2023-12-25T14:17:46.881Z"
   },
   {
    "duration": 218,
    "start_time": "2023-12-25T14:18:24.841Z"
   },
   {
    "duration": 349,
    "start_time": "2023-12-25T14:18:40.522Z"
   },
   {
    "duration": 344,
    "start_time": "2023-12-25T14:18:46.579Z"
   },
   {
    "duration": 331,
    "start_time": "2023-12-25T14:18:49.915Z"
   },
   {
    "duration": 437,
    "start_time": "2023-12-25T14:18:53.043Z"
   },
   {
    "duration": 331,
    "start_time": "2023-12-25T14:18:57.162Z"
   },
   {
    "duration": 350,
    "start_time": "2023-12-25T14:19:01.018Z"
   },
   {
    "duration": 334,
    "start_time": "2023-12-25T14:19:04.114Z"
   },
   {
    "duration": 455,
    "start_time": "2023-12-25T14:19:12.573Z"
   },
   {
    "duration": 333,
    "start_time": "2023-12-25T14:19:18.706Z"
   },
   {
    "duration": 328,
    "start_time": "2023-12-25T14:19:24.044Z"
   },
   {
    "duration": 453,
    "start_time": "2023-12-25T14:19:28.802Z"
   },
   {
    "duration": 324,
    "start_time": "2023-12-25T14:19:32.290Z"
   },
   {
    "duration": 396,
    "start_time": "2023-12-25T14:20:29.955Z"
   },
   {
    "duration": 102,
    "start_time": "2023-12-25T14:20:39.836Z"
   },
   {
    "duration": 118,
    "start_time": "2023-12-25T14:20:45.300Z"
   },
   {
    "duration": 254,
    "start_time": "2023-12-25T14:21:40.893Z"
   },
   {
    "duration": 241,
    "start_time": "2023-12-25T14:21:50.521Z"
   },
   {
    "duration": 375,
    "start_time": "2023-12-25T14:23:20.111Z"
   },
   {
    "duration": 326,
    "start_time": "2023-12-25T14:23:26.471Z"
   },
   {
    "duration": 222,
    "start_time": "2023-12-25T14:23:44.710Z"
   },
   {
    "duration": 260,
    "start_time": "2023-12-25T14:23:48.591Z"
   },
   {
    "duration": 216,
    "start_time": "2023-12-25T14:28:12.957Z"
   },
   {
    "duration": 344,
    "start_time": "2023-12-25T14:29:05.196Z"
   },
   {
    "duration": 506,
    "start_time": "2023-12-25T14:29:26.556Z"
   },
   {
    "duration": 335,
    "start_time": "2023-12-25T14:29:36.757Z"
   },
   {
    "duration": 335,
    "start_time": "2023-12-25T14:30:02.916Z"
   },
   {
    "duration": 336,
    "start_time": "2023-12-25T14:30:26.414Z"
   },
   {
    "duration": 8,
    "start_time": "2023-12-25T14:31:33.852Z"
   },
   {
    "duration": 8,
    "start_time": "2023-12-25T14:31:41.367Z"
   },
   {
    "duration": 10,
    "start_time": "2023-12-25T14:32:33.375Z"
   },
   {
    "duration": 7,
    "start_time": "2023-12-25T14:32:35.736Z"
   },
   {
    "duration": 7,
    "start_time": "2023-12-25T14:32:48.200Z"
   },
   {
    "duration": 78,
    "start_time": "2023-12-25T14:33:29.673Z"
   },
   {
    "duration": 4,
    "start_time": "2023-12-25T14:33:33.712Z"
   },
   {
    "duration": 45,
    "start_time": "2023-12-25T15:25:17.718Z"
   },
   {
    "duration": 1074,
    "start_time": "2023-12-25T15:25:34.632Z"
   },
   {
    "duration": 41,
    "start_time": "2023-12-25T15:25:35.708Z"
   },
   {
    "duration": 10,
    "start_time": "2023-12-25T15:25:35.750Z"
   },
   {
    "duration": 49,
    "start_time": "2023-12-25T15:25:35.762Z"
   },
   {
    "duration": 13,
    "start_time": "2023-12-25T15:25:35.813Z"
   },
   {
    "duration": 20,
    "start_time": "2023-12-25T15:25:35.828Z"
   },
   {
    "duration": 10,
    "start_time": "2023-12-25T15:25:35.850Z"
   },
   {
    "duration": 17,
    "start_time": "2023-12-25T15:25:35.862Z"
   },
   {
    "duration": 16,
    "start_time": "2023-12-25T15:25:35.881Z"
   },
   {
    "duration": 13,
    "start_time": "2023-12-25T15:25:35.900Z"
   },
   {
    "duration": 14,
    "start_time": "2023-12-25T15:25:35.915Z"
   },
   {
    "duration": 23,
    "start_time": "2023-12-25T15:25:35.931Z"
   },
   {
    "duration": 12,
    "start_time": "2023-12-25T15:25:35.956Z"
   },
   {
    "duration": 10,
    "start_time": "2023-12-25T15:25:35.970Z"
   },
   {
    "duration": 10,
    "start_time": "2023-12-25T15:25:35.981Z"
   },
   {
    "duration": 6,
    "start_time": "2023-12-25T15:25:35.992Z"
   },
   {
    "duration": 7,
    "start_time": "2023-12-25T15:25:36.000Z"
   },
   {
    "duration": 14,
    "start_time": "2023-12-25T15:25:36.009Z"
   },
   {
    "duration": 180,
    "start_time": "2023-12-25T15:25:36.026Z"
   },
   {
    "duration": 158,
    "start_time": "2023-12-25T15:25:36.207Z"
   },
   {
    "duration": 7,
    "start_time": "2023-12-25T15:25:36.367Z"
   },
   {
    "duration": 18,
    "start_time": "2023-12-25T15:25:36.375Z"
   },
   {
    "duration": 153,
    "start_time": "2023-12-25T15:25:36.395Z"
   },
   {
    "duration": 183,
    "start_time": "2023-12-25T15:25:36.549Z"
   },
   {
    "duration": 12,
    "start_time": "2023-12-25T15:25:36.734Z"
   },
   {
    "duration": 262,
    "start_time": "2023-12-25T15:25:36.747Z"
   },
   {
    "duration": 373,
    "start_time": "2023-12-25T15:25:37.011Z"
   },
   {
    "duration": 7,
    "start_time": "2023-12-25T15:25:37.388Z"
   },
   {
    "duration": 16,
    "start_time": "2023-12-25T15:25:37.396Z"
   },
   {
    "duration": 7,
    "start_time": "2023-12-25T15:25:37.413Z"
   },
   {
    "duration": 8,
    "start_time": "2023-12-25T15:25:37.422Z"
   },
   {
    "duration": 457,
    "start_time": "2023-12-25T15:25:37.431Z"
   },
   {
    "duration": 345,
    "start_time": "2023-12-25T15:25:37.890Z"
   },
   {
    "duration": 4,
    "start_time": "2023-12-25T15:25:38.237Z"
   },
   {
    "duration": 36,
    "start_time": "2023-12-25T15:25:38.242Z"
   },
   {
    "duration": 27,
    "start_time": "2023-12-25T15:25:38.280Z"
   },
   {
    "duration": 17,
    "start_time": "2023-12-25T15:25:38.308Z"
   },
   {
    "duration": 41,
    "start_time": "2023-12-25T15:25:38.327Z"
   },
   {
    "duration": 605,
    "start_time": "2023-12-25T15:25:38.369Z"
   },
   {
    "duration": 678,
    "start_time": "2023-12-25T15:25:38.975Z"
   },
   {
    "duration": 13,
    "start_time": "2023-12-25T15:25:39.655Z"
   },
   {
    "duration": 7,
    "start_time": "2023-12-25T15:25:39.670Z"
   },
   {
    "duration": 19,
    "start_time": "2023-12-25T15:25:39.679Z"
   },
   {
    "duration": 52,
    "start_time": "2023-12-25T15:25:39.700Z"
   },
   {
    "duration": 0,
    "start_time": "2023-12-25T15:25:39.754Z"
   },
   {
    "duration": 0,
    "start_time": "2023-12-25T15:25:39.755Z"
   },
   {
    "duration": 0,
    "start_time": "2023-12-25T15:25:39.756Z"
   },
   {
    "duration": 0,
    "start_time": "2023-12-25T15:25:39.757Z"
   },
   {
    "duration": 100,
    "start_time": "2023-12-25T15:27:25.703Z"
   },
   {
    "duration": 10,
    "start_time": "2023-12-25T15:28:09.288Z"
   },
   {
    "duration": 14,
    "start_time": "2023-12-25T15:28:29.225Z"
   },
   {
    "duration": 13,
    "start_time": "2023-12-25T15:28:43.401Z"
   },
   {
    "duration": 14,
    "start_time": "2023-12-25T15:28:51.562Z"
   },
   {
    "duration": 14,
    "start_time": "2023-12-25T15:29:08.961Z"
   },
   {
    "duration": 15,
    "start_time": "2023-12-25T15:29:36.842Z"
   },
   {
    "duration": 1093,
    "start_time": "2023-12-25T15:29:46.118Z"
   },
   {
    "duration": 40,
    "start_time": "2023-12-25T15:29:47.212Z"
   },
   {
    "duration": 11,
    "start_time": "2023-12-25T15:29:47.253Z"
   },
   {
    "duration": 38,
    "start_time": "2023-12-25T15:29:47.265Z"
   },
   {
    "duration": 11,
    "start_time": "2023-12-25T15:29:47.304Z"
   },
   {
    "duration": 20,
    "start_time": "2023-12-25T15:29:47.316Z"
   },
   {
    "duration": 9,
    "start_time": "2023-12-25T15:29:47.338Z"
   },
   {
    "duration": 23,
    "start_time": "2023-12-25T15:29:47.349Z"
   },
   {
    "duration": 13,
    "start_time": "2023-12-25T15:29:47.373Z"
   },
   {
    "duration": 10,
    "start_time": "2023-12-25T15:29:47.389Z"
   },
   {
    "duration": 10,
    "start_time": "2023-12-25T15:29:47.400Z"
   },
   {
    "duration": 6,
    "start_time": "2023-12-25T15:29:47.412Z"
   },
   {
    "duration": 2,
    "start_time": "2023-12-25T15:29:47.419Z"
   },
   {
    "duration": 11,
    "start_time": "2023-12-25T15:29:47.423Z"
   },
   {
    "duration": 32,
    "start_time": "2023-12-25T15:29:47.436Z"
   },
   {
    "duration": 13,
    "start_time": "2023-12-25T15:29:47.470Z"
   },
   {
    "duration": 5,
    "start_time": "2023-12-25T15:29:47.484Z"
   },
   {
    "duration": 6,
    "start_time": "2023-12-25T15:29:47.491Z"
   },
   {
    "duration": 160,
    "start_time": "2023-12-25T15:29:47.499Z"
   },
   {
    "duration": 20,
    "start_time": "2023-12-25T15:29:47.660Z"
   },
   {
    "duration": 158,
    "start_time": "2023-12-25T15:29:47.682Z"
   },
   {
    "duration": 7,
    "start_time": "2023-12-25T15:29:47.842Z"
   },
   {
    "duration": 21,
    "start_time": "2023-12-25T15:29:47.850Z"
   },
   {
    "duration": 163,
    "start_time": "2023-12-25T15:29:47.873Z"
   },
   {
    "duration": 179,
    "start_time": "2023-12-25T15:29:48.037Z"
   },
   {
    "duration": 11,
    "start_time": "2023-12-25T15:29:48.217Z"
   },
   {
    "duration": 267,
    "start_time": "2023-12-25T15:29:48.230Z"
   },
   {
    "duration": 369,
    "start_time": "2023-12-25T15:29:48.500Z"
   },
   {
    "duration": 7,
    "start_time": "2023-12-25T15:29:48.871Z"
   },
   {
    "duration": 16,
    "start_time": "2023-12-25T15:29:48.880Z"
   },
   {
    "duration": 6,
    "start_time": "2023-12-25T15:29:48.898Z"
   },
   {
    "duration": 9,
    "start_time": "2023-12-25T15:29:48.905Z"
   },
   {
    "duration": 447,
    "start_time": "2023-12-25T15:29:48.915Z"
   },
   {
    "duration": 22,
    "start_time": "2023-12-25T15:29:49.366Z"
   },
   {
    "duration": 25,
    "start_time": "2023-12-25T15:29:49.389Z"
   },
   {
    "duration": 17,
    "start_time": "2023-12-25T15:29:49.415Z"
   },
   {
    "duration": 40,
    "start_time": "2023-12-25T15:29:49.434Z"
   },
   {
    "duration": 572,
    "start_time": "2023-12-25T15:29:49.476Z"
   },
   {
    "duration": 673,
    "start_time": "2023-12-25T15:29:50.050Z"
   },
   {
    "duration": 103,
    "start_time": "2023-12-25T15:29:50.724Z"
   },
   {
    "duration": 0,
    "start_time": "2023-12-25T15:29:50.829Z"
   },
   {
    "duration": 0,
    "start_time": "2023-12-25T15:29:50.830Z"
   },
   {
    "duration": 19,
    "start_time": "2023-12-25T15:32:06.029Z"
   },
   {
    "duration": 21,
    "start_time": "2023-12-25T15:32:11.517Z"
   },
   {
    "duration": 17,
    "start_time": "2023-12-25T15:32:18.844Z"
   },
   {
    "duration": 19,
    "start_time": "2023-12-25T15:32:36.452Z"
   },
   {
    "duration": 11,
    "start_time": "2023-12-25T15:33:25.734Z"
   },
   {
    "duration": 13,
    "start_time": "2023-12-25T15:33:33.901Z"
   },
   {
    "duration": 15,
    "start_time": "2023-12-25T15:33:53.126Z"
   },
   {
    "duration": 21,
    "start_time": "2023-12-25T15:36:20.889Z"
   },
   {
    "duration": 154,
    "start_time": "2023-12-25T15:36:40.529Z"
   },
   {
    "duration": 8,
    "start_time": "2023-12-25T15:36:49.760Z"
   },
   {
    "duration": 9,
    "start_time": "2023-12-25T15:37:14.001Z"
   },
   {
    "duration": 14,
    "start_time": "2023-12-25T15:37:28.346Z"
   },
   {
    "duration": 1114,
    "start_time": "2023-12-25T15:37:41.300Z"
   },
   {
    "duration": 39,
    "start_time": "2023-12-25T15:37:42.416Z"
   },
   {
    "duration": 9,
    "start_time": "2023-12-25T15:37:42.457Z"
   },
   {
    "duration": 40,
    "start_time": "2023-12-25T15:37:42.468Z"
   },
   {
    "duration": 9,
    "start_time": "2023-12-25T15:37:42.510Z"
   },
   {
    "duration": 30,
    "start_time": "2023-12-25T15:37:42.520Z"
   },
   {
    "duration": 9,
    "start_time": "2023-12-25T15:37:42.551Z"
   },
   {
    "duration": 31,
    "start_time": "2023-12-25T15:37:42.561Z"
   },
   {
    "duration": 13,
    "start_time": "2023-12-25T15:37:42.593Z"
   },
   {
    "duration": 16,
    "start_time": "2023-12-25T15:37:42.610Z"
   },
   {
    "duration": 5,
    "start_time": "2023-12-25T15:37:42.628Z"
   },
   {
    "duration": 21,
    "start_time": "2023-12-25T15:37:42.635Z"
   },
   {
    "duration": 5,
    "start_time": "2023-12-25T15:37:42.657Z"
   },
   {
    "duration": 21,
    "start_time": "2023-12-25T15:37:42.663Z"
   },
   {
    "duration": 11,
    "start_time": "2023-12-25T15:37:42.686Z"
   },
   {
    "duration": 8,
    "start_time": "2023-12-25T15:37:42.699Z"
   },
   {
    "duration": 14,
    "start_time": "2023-12-25T15:37:42.708Z"
   },
   {
    "duration": 8,
    "start_time": "2023-12-25T15:37:42.724Z"
   },
   {
    "duration": 155,
    "start_time": "2023-12-25T15:37:42.734Z"
   },
   {
    "duration": 168,
    "start_time": "2023-12-25T15:37:42.891Z"
   },
   {
    "duration": 16,
    "start_time": "2023-12-25T15:37:43.064Z"
   },
   {
    "duration": 162,
    "start_time": "2023-12-25T15:37:43.082Z"
   },
   {
    "duration": 6,
    "start_time": "2023-12-25T15:37:43.246Z"
   },
   {
    "duration": 22,
    "start_time": "2023-12-25T15:37:43.254Z"
   },
   {
    "duration": 162,
    "start_time": "2023-12-25T15:37:43.278Z"
   },
   {
    "duration": 165,
    "start_time": "2023-12-25T15:37:43.442Z"
   },
   {
    "duration": 12,
    "start_time": "2023-12-25T15:37:43.608Z"
   },
   {
    "duration": 267,
    "start_time": "2023-12-25T15:37:43.623Z"
   },
   {
    "duration": 443,
    "start_time": "2023-12-25T15:37:43.892Z"
   },
   {
    "duration": 9,
    "start_time": "2023-12-25T15:37:44.337Z"
   },
   {
    "duration": 26,
    "start_time": "2023-12-25T15:37:44.347Z"
   },
   {
    "duration": 8,
    "start_time": "2023-12-25T15:37:44.375Z"
   },
   {
    "duration": 15,
    "start_time": "2023-12-25T15:37:44.385Z"
   },
   {
    "duration": 368,
    "start_time": "2023-12-25T15:37:44.402Z"
   },
   {
    "duration": 23,
    "start_time": "2023-12-25T15:37:44.772Z"
   },
   {
    "duration": 27,
    "start_time": "2023-12-25T15:37:44.796Z"
   },
   {
    "duration": 41,
    "start_time": "2023-12-25T15:37:44.825Z"
   },
   {
    "duration": 18,
    "start_time": "2023-12-25T15:37:44.867Z"
   },
   {
    "duration": 593,
    "start_time": "2023-12-25T15:37:44.886Z"
   },
   {
    "duration": 735,
    "start_time": "2023-12-25T15:37:45.481Z"
   },
   {
    "duration": 107,
    "start_time": "2023-12-25T15:37:46.218Z"
   },
   {
    "duration": 0,
    "start_time": "2023-12-25T15:37:46.327Z"
   },
   {
    "duration": 0,
    "start_time": "2023-12-25T15:37:46.328Z"
   },
   {
    "duration": 7,
    "start_time": "2023-12-25T15:38:08.411Z"
   },
   {
    "duration": 1059,
    "start_time": "2023-12-25T15:38:14.324Z"
   },
   {
    "duration": 41,
    "start_time": "2023-12-25T15:38:15.384Z"
   },
   {
    "duration": 10,
    "start_time": "2023-12-25T15:38:15.427Z"
   },
   {
    "duration": 73,
    "start_time": "2023-12-25T15:38:15.439Z"
   },
   {
    "duration": 10,
    "start_time": "2023-12-25T15:38:15.514Z"
   },
   {
    "duration": 55,
    "start_time": "2023-12-25T15:38:15.525Z"
   },
   {
    "duration": 10,
    "start_time": "2023-12-25T15:38:15.581Z"
   },
   {
    "duration": 35,
    "start_time": "2023-12-25T15:38:15.592Z"
   },
   {
    "duration": 23,
    "start_time": "2023-12-25T15:38:15.628Z"
   },
   {
    "duration": 16,
    "start_time": "2023-12-25T15:38:15.654Z"
   },
   {
    "duration": 15,
    "start_time": "2023-12-25T15:38:15.671Z"
   },
   {
    "duration": 25,
    "start_time": "2023-12-25T15:38:15.688Z"
   },
   {
    "duration": 20,
    "start_time": "2023-12-25T15:38:15.714Z"
   },
   {
    "duration": 25,
    "start_time": "2023-12-25T15:38:15.735Z"
   },
   {
    "duration": 27,
    "start_time": "2023-12-25T15:38:15.761Z"
   },
   {
    "duration": 24,
    "start_time": "2023-12-25T15:38:15.790Z"
   },
   {
    "duration": 41,
    "start_time": "2023-12-25T15:38:15.815Z"
   },
   {
    "duration": 35,
    "start_time": "2023-12-25T15:38:15.858Z"
   },
   {
    "duration": 176,
    "start_time": "2023-12-25T15:38:15.895Z"
   },
   {
    "duration": 164,
    "start_time": "2023-12-25T15:38:16.072Z"
   },
   {
    "duration": 7,
    "start_time": "2023-12-25T15:38:16.237Z"
   },
   {
    "duration": 183,
    "start_time": "2023-12-25T15:38:16.245Z"
   },
   {
    "duration": 7,
    "start_time": "2023-12-25T15:38:16.430Z"
   },
   {
    "duration": 40,
    "start_time": "2023-12-25T15:38:16.439Z"
   },
   {
    "duration": 171,
    "start_time": "2023-12-25T15:38:16.481Z"
   },
   {
    "duration": 180,
    "start_time": "2023-12-25T15:38:16.654Z"
   },
   {
    "duration": 12,
    "start_time": "2023-12-25T15:38:16.836Z"
   },
   {
    "duration": 320,
    "start_time": "2023-12-25T15:38:16.864Z"
   },
   {
    "duration": 463,
    "start_time": "2023-12-25T15:38:17.186Z"
   },
   {
    "duration": 8,
    "start_time": "2023-12-25T15:38:17.651Z"
   },
   {
    "duration": 45,
    "start_time": "2023-12-25T15:38:17.665Z"
   },
   {
    "duration": 25,
    "start_time": "2023-12-25T15:38:17.711Z"
   },
   {
    "duration": 31,
    "start_time": "2023-12-25T15:38:17.737Z"
   },
   {
    "duration": 361,
    "start_time": "2023-12-25T15:38:17.770Z"
   },
   {
    "duration": 33,
    "start_time": "2023-12-25T15:38:18.133Z"
   },
   {
    "duration": 26,
    "start_time": "2023-12-25T15:38:18.168Z"
   },
   {
    "duration": 16,
    "start_time": "2023-12-25T15:38:18.195Z"
   },
   {
    "duration": 17,
    "start_time": "2023-12-25T15:38:18.213Z"
   },
   {
    "duration": 610,
    "start_time": "2023-12-25T15:38:18.231Z"
   },
   {
    "duration": 691,
    "start_time": "2023-12-25T15:38:18.843Z"
   },
   {
    "duration": 103,
    "start_time": "2023-12-25T15:38:19.536Z"
   },
   {
    "duration": 0,
    "start_time": "2023-12-25T15:38:19.640Z"
   },
   {
    "duration": 0,
    "start_time": "2023-12-25T15:38:19.642Z"
   },
   {
    "duration": 158,
    "start_time": "2023-12-25T15:40:52.397Z"
   },
   {
    "duration": 1034,
    "start_time": "2023-12-25T15:41:19.991Z"
   },
   {
    "duration": 41,
    "start_time": "2023-12-25T15:41:21.027Z"
   },
   {
    "duration": 11,
    "start_time": "2023-12-25T15:41:21.069Z"
   },
   {
    "duration": 40,
    "start_time": "2023-12-25T15:41:21.081Z"
   },
   {
    "duration": 11,
    "start_time": "2023-12-25T15:41:21.122Z"
   },
   {
    "duration": 20,
    "start_time": "2023-12-25T15:41:21.134Z"
   },
   {
    "duration": 12,
    "start_time": "2023-12-25T15:41:21.156Z"
   },
   {
    "duration": 13,
    "start_time": "2023-12-25T15:41:21.170Z"
   },
   {
    "duration": 16,
    "start_time": "2023-12-25T15:41:21.185Z"
   },
   {
    "duration": 10,
    "start_time": "2023-12-25T15:41:21.203Z"
   },
   {
    "duration": 19,
    "start_time": "2023-12-25T15:41:21.214Z"
   },
   {
    "duration": 6,
    "start_time": "2023-12-25T15:41:21.235Z"
   },
   {
    "duration": 4,
    "start_time": "2023-12-25T15:41:21.242Z"
   },
   {
    "duration": 2,
    "start_time": "2023-12-25T15:41:21.265Z"
   },
   {
    "duration": 17,
    "start_time": "2023-12-25T15:41:21.269Z"
   },
   {
    "duration": 5,
    "start_time": "2023-12-25T15:41:21.288Z"
   },
   {
    "duration": 6,
    "start_time": "2023-12-25T15:41:21.295Z"
   },
   {
    "duration": 12,
    "start_time": "2023-12-25T15:41:21.302Z"
   },
   {
    "duration": 172,
    "start_time": "2023-12-25T15:41:21.315Z"
   },
   {
    "duration": 157,
    "start_time": "2023-12-25T15:41:21.489Z"
   },
   {
    "duration": 23,
    "start_time": "2023-12-25T15:41:21.647Z"
   },
   {
    "duration": 162,
    "start_time": "2023-12-25T15:41:21.672Z"
   },
   {
    "duration": 6,
    "start_time": "2023-12-25T15:41:21.836Z"
   },
   {
    "duration": 22,
    "start_time": "2023-12-25T15:41:21.844Z"
   },
   {
    "duration": 161,
    "start_time": "2023-12-25T15:41:21.868Z"
   },
   {
    "duration": 177,
    "start_time": "2023-12-25T15:41:22.030Z"
   },
   {
    "duration": 11,
    "start_time": "2023-12-25T15:41:22.208Z"
   },
   {
    "duration": 267,
    "start_time": "2023-12-25T15:41:22.222Z"
   },
   {
    "duration": 446,
    "start_time": "2023-12-25T15:41:22.490Z"
   },
   {
    "duration": 8,
    "start_time": "2023-12-25T15:41:22.937Z"
   },
   {
    "duration": 24,
    "start_time": "2023-12-25T15:41:22.947Z"
   },
   {
    "duration": 7,
    "start_time": "2023-12-25T15:41:22.973Z"
   },
   {
    "duration": 10,
    "start_time": "2023-12-25T15:41:22.981Z"
   },
   {
    "duration": 398,
    "start_time": "2023-12-25T15:41:22.992Z"
   },
   {
    "duration": 23,
    "start_time": "2023-12-25T15:41:23.391Z"
   },
   {
    "duration": 26,
    "start_time": "2023-12-25T15:41:23.416Z"
   },
   {
    "duration": 39,
    "start_time": "2023-12-25T15:41:23.443Z"
   },
   {
    "duration": 30,
    "start_time": "2023-12-25T15:41:23.483Z"
   },
   {
    "duration": 583,
    "start_time": "2023-12-25T15:41:23.514Z"
   },
   {
    "duration": 724,
    "start_time": "2023-12-25T15:41:24.099Z"
   },
   {
    "duration": 105,
    "start_time": "2023-12-25T15:41:24.825Z"
   },
   {
    "duration": 0,
    "start_time": "2023-12-25T15:41:24.932Z"
   },
   {
    "duration": 0,
    "start_time": "2023-12-25T15:41:24.933Z"
   },
   {
    "duration": 7,
    "start_time": "2023-12-25T15:42:02.774Z"
   },
   {
    "duration": 1059,
    "start_time": "2023-12-25T15:42:08.561Z"
   },
   {
    "duration": 40,
    "start_time": "2023-12-25T15:42:09.621Z"
   },
   {
    "duration": 11,
    "start_time": "2023-12-25T15:42:09.663Z"
   },
   {
    "duration": 58,
    "start_time": "2023-12-25T15:42:09.675Z"
   },
   {
    "duration": 10,
    "start_time": "2023-12-25T15:42:09.735Z"
   },
   {
    "duration": 60,
    "start_time": "2023-12-25T15:42:09.747Z"
   },
   {
    "duration": 11,
    "start_time": "2023-12-25T15:42:09.808Z"
   },
   {
    "duration": 22,
    "start_time": "2023-12-25T15:42:09.820Z"
   },
   {
    "duration": 60,
    "start_time": "2023-12-25T15:42:09.844Z"
   },
   {
    "duration": 13,
    "start_time": "2023-12-25T15:42:09.907Z"
   },
   {
    "duration": 13,
    "start_time": "2023-12-25T15:42:09.921Z"
   },
   {
    "duration": 34,
    "start_time": "2023-12-25T15:42:09.935Z"
   },
   {
    "duration": 19,
    "start_time": "2023-12-25T15:42:09.971Z"
   },
   {
    "duration": 29,
    "start_time": "2023-12-25T15:42:09.992Z"
   },
   {
    "duration": 38,
    "start_time": "2023-12-25T15:42:10.022Z"
   },
   {
    "duration": 48,
    "start_time": "2023-12-25T15:42:10.061Z"
   },
   {
    "duration": 36,
    "start_time": "2023-12-25T15:42:10.111Z"
   },
   {
    "duration": 33,
    "start_time": "2023-12-25T15:42:10.149Z"
   },
   {
    "duration": 176,
    "start_time": "2023-12-25T15:42:10.183Z"
   },
   {
    "duration": 164,
    "start_time": "2023-12-25T15:42:10.361Z"
   },
   {
    "duration": 6,
    "start_time": "2023-12-25T15:42:10.527Z"
   },
   {
    "duration": 49,
    "start_time": "2023-12-25T15:42:10.534Z"
   },
   {
    "duration": 190,
    "start_time": "2023-12-25T15:42:10.585Z"
   },
   {
    "duration": 176,
    "start_time": "2023-12-25T15:42:10.777Z"
   },
   {
    "duration": 17,
    "start_time": "2023-12-25T15:42:10.955Z"
   },
   {
    "duration": 253,
    "start_time": "2023-12-25T15:42:10.974Z"
   },
   {
    "duration": 359,
    "start_time": "2023-12-25T15:42:11.228Z"
   },
   {
    "duration": 7,
    "start_time": "2023-12-25T15:42:11.590Z"
   },
   {
    "duration": 14,
    "start_time": "2023-12-25T15:42:11.598Z"
   },
   {
    "duration": 7,
    "start_time": "2023-12-25T15:42:11.613Z"
   },
   {
    "duration": 19,
    "start_time": "2023-12-25T15:42:11.621Z"
   },
   {
    "duration": 453,
    "start_time": "2023-12-25T15:42:11.642Z"
   },
   {
    "duration": 22,
    "start_time": "2023-12-25T15:42:12.096Z"
   },
   {
    "duration": 26,
    "start_time": "2023-12-25T15:42:12.119Z"
   },
   {
    "duration": 17,
    "start_time": "2023-12-25T15:42:12.165Z"
   },
   {
    "duration": 22,
    "start_time": "2023-12-25T15:42:12.183Z"
   },
   {
    "duration": 608,
    "start_time": "2023-12-25T15:42:12.207Z"
   },
   {
    "duration": 696,
    "start_time": "2023-12-25T15:42:12.816Z"
   },
   {
    "duration": 103,
    "start_time": "2023-12-25T15:42:13.514Z"
   },
   {
    "duration": 0,
    "start_time": "2023-12-25T15:42:13.618Z"
   },
   {
    "duration": 0,
    "start_time": "2023-12-25T15:42:13.620Z"
   },
   {
    "duration": 16,
    "start_time": "2023-12-25T15:43:14.736Z"
   },
   {
    "duration": 15,
    "start_time": "2023-12-25T15:51:48.689Z"
   },
   {
    "duration": 16,
    "start_time": "2023-12-25T15:52:07.361Z"
   },
   {
    "duration": 6,
    "start_time": "2023-12-25T15:52:34.210Z"
   },
   {
    "duration": 8,
    "start_time": "2023-12-25T15:52:43.394Z"
   },
   {
    "duration": 6,
    "start_time": "2023-12-25T15:52:50.891Z"
   },
   {
    "duration": 6,
    "start_time": "2023-12-25T15:52:58.315Z"
   },
   {
    "duration": 11,
    "start_time": "2023-12-25T15:53:38.315Z"
   },
   {
    "duration": 7,
    "start_time": "2023-12-25T15:53:42.338Z"
   },
   {
    "duration": 9,
    "start_time": "2023-12-25T16:03:19.453Z"
   },
   {
    "duration": 94,
    "start_time": "2023-12-25T16:03:30.557Z"
   },
   {
    "duration": 10,
    "start_time": "2023-12-25T16:03:37.470Z"
   },
   {
    "duration": 11,
    "start_time": "2023-12-25T16:03:43.159Z"
   },
   {
    "duration": 1017,
    "start_time": "2023-12-25T16:03:53.604Z"
   },
   {
    "duration": 42,
    "start_time": "2023-12-25T16:03:54.623Z"
   },
   {
    "duration": 13,
    "start_time": "2023-12-25T16:03:54.667Z"
   },
   {
    "duration": 45,
    "start_time": "2023-12-25T16:03:54.682Z"
   },
   {
    "duration": 11,
    "start_time": "2023-12-25T16:03:54.728Z"
   },
   {
    "duration": 23,
    "start_time": "2023-12-25T16:03:54.741Z"
   },
   {
    "duration": 9,
    "start_time": "2023-12-25T16:03:54.766Z"
   },
   {
    "duration": 14,
    "start_time": "2023-12-25T16:03:54.777Z"
   },
   {
    "duration": 12,
    "start_time": "2023-12-25T16:03:54.792Z"
   },
   {
    "duration": 9,
    "start_time": "2023-12-25T16:03:54.807Z"
   },
   {
    "duration": 4,
    "start_time": "2023-12-25T16:03:54.817Z"
   },
   {
    "duration": 43,
    "start_time": "2023-12-25T16:03:54.823Z"
   },
   {
    "duration": 2,
    "start_time": "2023-12-25T16:03:54.868Z"
   },
   {
    "duration": 8,
    "start_time": "2023-12-25T16:03:54.871Z"
   },
   {
    "duration": 8,
    "start_time": "2023-12-25T16:03:54.881Z"
   },
   {
    "duration": 4,
    "start_time": "2023-12-25T16:03:54.891Z"
   },
   {
    "duration": 5,
    "start_time": "2023-12-25T16:03:54.897Z"
   },
   {
    "duration": 5,
    "start_time": "2023-12-25T16:03:54.903Z"
   },
   {
    "duration": 179,
    "start_time": "2023-12-25T16:03:54.910Z"
   },
   {
    "duration": 5,
    "start_time": "2023-12-25T16:03:55.090Z"
   },
   {
    "duration": 157,
    "start_time": "2023-12-25T16:03:55.097Z"
   },
   {
    "duration": 11,
    "start_time": "2023-12-25T16:03:55.255Z"
   },
   {
    "duration": 24,
    "start_time": "2023-12-25T16:03:55.267Z"
   },
   {
    "duration": 151,
    "start_time": "2023-12-25T16:03:55.292Z"
   },
   {
    "duration": 169,
    "start_time": "2023-12-25T16:03:55.445Z"
   },
   {
    "duration": 11,
    "start_time": "2023-12-25T16:03:55.615Z"
   },
   {
    "duration": 297,
    "start_time": "2023-12-25T16:03:55.627Z"
   },
   {
    "duration": 372,
    "start_time": "2023-12-25T16:03:55.929Z"
   },
   {
    "duration": 7,
    "start_time": "2023-12-25T16:03:56.303Z"
   },
   {
    "duration": 22,
    "start_time": "2023-12-25T16:03:56.311Z"
   },
   {
    "duration": 6,
    "start_time": "2023-12-25T16:03:56.335Z"
   },
   {
    "duration": 23,
    "start_time": "2023-12-25T16:03:56.343Z"
   },
   {
    "duration": 423,
    "start_time": "2023-12-25T16:03:56.368Z"
   },
   {
    "duration": 23,
    "start_time": "2023-12-25T16:03:56.793Z"
   },
   {
    "duration": 28,
    "start_time": "2023-12-25T16:03:56.818Z"
   },
   {
    "duration": 20,
    "start_time": "2023-12-25T16:03:56.866Z"
   },
   {
    "duration": 21,
    "start_time": "2023-12-25T16:03:56.888Z"
   },
   {
    "duration": 591,
    "start_time": "2023-12-25T16:03:56.910Z"
   },
   {
    "duration": 669,
    "start_time": "2023-12-25T16:03:57.503Z"
   },
   {
    "duration": 21,
    "start_time": "2023-12-25T16:03:58.174Z"
   },
   {
    "duration": 8,
    "start_time": "2023-12-25T16:03:58.196Z"
   },
   {
    "duration": 2,
    "start_time": "2023-12-25T16:03:58.205Z"
   },
   {
    "duration": 5,
    "start_time": "2023-12-25T16:03:58.208Z"
   },
   {
    "duration": 95,
    "start_time": "2023-12-25T16:05:10.150Z"
   },
   {
    "duration": 15,
    "start_time": "2023-12-25T16:05:23.974Z"
   },
   {
    "duration": 6,
    "start_time": "2023-12-25T16:07:29.544Z"
   },
   {
    "duration": 11,
    "start_time": "2023-12-25T16:07:59.410Z"
   },
   {
    "duration": 10,
    "start_time": "2023-12-25T16:08:05.586Z"
   },
   {
    "duration": 6,
    "start_time": "2023-12-25T16:08:08.218Z"
   },
   {
    "duration": 10,
    "start_time": "2023-12-25T16:08:22.941Z"
   },
   {
    "duration": 6,
    "start_time": "2023-12-25T16:08:30.587Z"
   },
   {
    "duration": 11,
    "start_time": "2023-12-25T16:08:47.427Z"
   },
   {
    "duration": 1086,
    "start_time": "2023-12-25T16:08:53.129Z"
   },
   {
    "duration": 43,
    "start_time": "2023-12-25T16:08:54.217Z"
   },
   {
    "duration": 13,
    "start_time": "2023-12-25T16:08:54.262Z"
   },
   {
    "duration": 45,
    "start_time": "2023-12-25T16:08:54.277Z"
   },
   {
    "duration": 10,
    "start_time": "2023-12-25T16:08:54.324Z"
   },
   {
    "duration": 20,
    "start_time": "2023-12-25T16:08:54.336Z"
   },
   {
    "duration": 8,
    "start_time": "2023-12-25T16:08:54.358Z"
   },
   {
    "duration": 16,
    "start_time": "2023-12-25T16:08:54.368Z"
   },
   {
    "duration": 11,
    "start_time": "2023-12-25T16:08:54.386Z"
   },
   {
    "duration": 9,
    "start_time": "2023-12-25T16:08:54.400Z"
   },
   {
    "duration": 4,
    "start_time": "2023-12-25T16:08:54.411Z"
   },
   {
    "duration": 5,
    "start_time": "2023-12-25T16:08:54.416Z"
   },
   {
    "duration": 2,
    "start_time": "2023-12-25T16:08:54.423Z"
   },
   {
    "duration": 39,
    "start_time": "2023-12-25T16:08:54.427Z"
   },
   {
    "duration": 8,
    "start_time": "2023-12-25T16:08:54.467Z"
   },
   {
    "duration": 10,
    "start_time": "2023-12-25T16:08:54.476Z"
   },
   {
    "duration": 6,
    "start_time": "2023-12-25T16:08:54.488Z"
   },
   {
    "duration": 9,
    "start_time": "2023-12-25T16:08:54.495Z"
   },
   {
    "duration": 179,
    "start_time": "2023-12-25T16:08:54.506Z"
   },
   {
    "duration": 6,
    "start_time": "2023-12-25T16:08:54.686Z"
   },
   {
    "duration": 5,
    "start_time": "2023-12-25T16:08:54.694Z"
   },
   {
    "duration": 3,
    "start_time": "2023-12-25T16:08:54.700Z"
   },
   {
    "duration": 175,
    "start_time": "2023-12-25T16:08:54.704Z"
   },
   {
    "duration": 6,
    "start_time": "2023-12-25T16:08:54.880Z"
   },
   {
    "duration": 12,
    "start_time": "2023-12-25T16:08:54.888Z"
   },
   {
    "duration": 170,
    "start_time": "2023-12-25T16:08:54.901Z"
   },
   {
    "duration": 177,
    "start_time": "2023-12-25T16:08:55.073Z"
   },
   {
    "duration": 18,
    "start_time": "2023-12-25T16:08:55.253Z"
   },
   {
    "duration": 272,
    "start_time": "2023-12-25T16:08:55.274Z"
   },
   {
    "duration": 392,
    "start_time": "2023-12-25T16:08:55.548Z"
   },
   {
    "duration": 9,
    "start_time": "2023-12-25T16:08:55.942Z"
   },
   {
    "duration": 32,
    "start_time": "2023-12-25T16:08:55.952Z"
   },
   {
    "duration": 16,
    "start_time": "2023-12-25T16:08:55.986Z"
   },
   {
    "duration": 8,
    "start_time": "2023-12-25T16:08:56.003Z"
   },
   {
    "duration": 447,
    "start_time": "2023-12-25T16:08:56.013Z"
   },
   {
    "duration": 23,
    "start_time": "2023-12-25T16:08:56.462Z"
   },
   {
    "duration": 26,
    "start_time": "2023-12-25T16:08:56.487Z"
   },
   {
    "duration": 18,
    "start_time": "2023-12-25T16:08:56.514Z"
   },
   {
    "duration": 47,
    "start_time": "2023-12-25T16:08:56.534Z"
   },
   {
    "duration": 582,
    "start_time": "2023-12-25T16:08:56.583Z"
   },
   {
    "duration": 665,
    "start_time": "2023-12-25T16:08:57.167Z"
   },
   {
    "duration": 16,
    "start_time": "2023-12-25T16:08:57.833Z"
   },
   {
    "duration": 17,
    "start_time": "2023-12-25T16:08:57.851Z"
   },
   {
    "duration": 2,
    "start_time": "2023-12-25T16:08:57.870Z"
   },
   {
    "duration": 8,
    "start_time": "2023-12-25T16:08:57.873Z"
   },
   {
    "duration": 15,
    "start_time": "2023-12-25T16:09:00.114Z"
   },
   {
    "duration": 5,
    "start_time": "2023-12-25T16:09:15.420Z"
   },
   {
    "duration": 3,
    "start_time": "2023-12-25T16:09:17.954Z"
   },
   {
    "duration": 2,
    "start_time": "2023-12-25T16:09:19.634Z"
   },
   {
    "duration": 93,
    "start_time": "2023-12-25T16:09:20.835Z"
   },
   {
    "duration": 2,
    "start_time": "2023-12-25T16:09:22.507Z"
   },
   {
    "duration": 3,
    "start_time": "2023-12-25T16:09:26.018Z"
   },
   {
    "duration": 1088,
    "start_time": "2023-12-25T16:09:31.259Z"
   },
   {
    "duration": 40,
    "start_time": "2023-12-25T16:09:32.349Z"
   },
   {
    "duration": 10,
    "start_time": "2023-12-25T16:09:32.391Z"
   },
   {
    "duration": 40,
    "start_time": "2023-12-25T16:09:32.402Z"
   },
   {
    "duration": 10,
    "start_time": "2023-12-25T16:09:32.444Z"
   },
   {
    "duration": 25,
    "start_time": "2023-12-25T16:09:32.456Z"
   },
   {
    "duration": 9,
    "start_time": "2023-12-25T16:09:32.482Z"
   },
   {
    "duration": 16,
    "start_time": "2023-12-25T16:09:32.492Z"
   },
   {
    "duration": 12,
    "start_time": "2023-12-25T16:09:32.509Z"
   },
   {
    "duration": 9,
    "start_time": "2023-12-25T16:09:32.523Z"
   },
   {
    "duration": 4,
    "start_time": "2023-12-25T16:09:32.533Z"
   },
   {
    "duration": 26,
    "start_time": "2023-12-25T16:09:32.539Z"
   },
   {
    "duration": 2,
    "start_time": "2023-12-25T16:09:32.567Z"
   },
   {
    "duration": 13,
    "start_time": "2023-12-25T16:09:32.570Z"
   },
   {
    "duration": 14,
    "start_time": "2023-12-25T16:09:32.585Z"
   },
   {
    "duration": 32,
    "start_time": "2023-12-25T16:09:32.601Z"
   },
   {
    "duration": 30,
    "start_time": "2023-12-25T16:09:32.634Z"
   },
   {
    "duration": 28,
    "start_time": "2023-12-25T16:09:32.666Z"
   },
   {
    "duration": 166,
    "start_time": "2023-12-25T16:09:32.695Z"
   },
   {
    "duration": 7,
    "start_time": "2023-12-25T16:09:32.864Z"
   },
   {
    "duration": 12,
    "start_time": "2023-12-25T16:09:32.872Z"
   },
   {
    "duration": 3,
    "start_time": "2023-12-25T16:09:32.885Z"
   },
   {
    "duration": 167,
    "start_time": "2023-12-25T16:09:32.889Z"
   },
   {
    "duration": 12,
    "start_time": "2023-12-25T16:09:33.057Z"
   },
   {
    "duration": 12,
    "start_time": "2023-12-25T16:09:33.070Z"
   },
   {
    "duration": 160,
    "start_time": "2023-12-25T16:09:33.084Z"
   },
   {
    "duration": 176,
    "start_time": "2023-12-25T16:09:33.245Z"
   },
   {
    "duration": 12,
    "start_time": "2023-12-25T16:09:33.424Z"
   },
   {
    "duration": 262,
    "start_time": "2023-12-25T16:09:33.437Z"
   },
   {
    "duration": 378,
    "start_time": "2023-12-25T16:09:33.701Z"
   },
   {
    "duration": 8,
    "start_time": "2023-12-25T16:09:34.080Z"
   },
   {
    "duration": 29,
    "start_time": "2023-12-25T16:09:34.090Z"
   },
   {
    "duration": 12,
    "start_time": "2023-12-25T16:09:34.121Z"
   },
   {
    "duration": 16,
    "start_time": "2023-12-25T16:09:34.134Z"
   },
   {
    "duration": 459,
    "start_time": "2023-12-25T16:09:34.151Z"
   },
   {
    "duration": 27,
    "start_time": "2023-12-25T16:09:34.612Z"
   },
   {
    "duration": 42,
    "start_time": "2023-12-25T16:09:34.641Z"
   },
   {
    "duration": 19,
    "start_time": "2023-12-25T16:09:34.684Z"
   },
   {
    "duration": 17,
    "start_time": "2023-12-25T16:09:34.704Z"
   },
   {
    "duration": 621,
    "start_time": "2023-12-25T16:09:34.723Z"
   },
   {
    "duration": 738,
    "start_time": "2023-12-25T16:09:35.346Z"
   },
   {
    "duration": 16,
    "start_time": "2023-12-25T16:09:36.086Z"
   },
   {
    "duration": 7,
    "start_time": "2023-12-25T16:09:36.104Z"
   },
   {
    "duration": 3,
    "start_time": "2023-12-25T16:09:36.112Z"
   },
   {
    "duration": 3,
    "start_time": "2023-12-25T16:09:36.116Z"
   },
   {
    "duration": 14,
    "start_time": "2023-12-25T16:10:04.211Z"
   },
   {
    "duration": 4,
    "start_time": "2023-12-25T16:13:30.470Z"
   },
   {
    "duration": 176,
    "start_time": "2023-12-25T16:15:26.058Z"
   },
   {
    "duration": 6,
    "start_time": "2023-12-25T16:15:36.457Z"
   },
   {
    "duration": 13,
    "start_time": "2023-12-25T16:15:41.841Z"
   },
   {
    "duration": 3,
    "start_time": "2023-12-25T16:15:51.752Z"
   },
   {
    "duration": 2,
    "start_time": "2023-12-25T16:15:53.754Z"
   },
   {
    "duration": 982,
    "start_time": "2023-12-25T16:15:57.712Z"
   },
   {
    "duration": 39,
    "start_time": "2023-12-25T16:15:58.696Z"
   },
   {
    "duration": 9,
    "start_time": "2023-12-25T16:15:58.739Z"
   },
   {
    "duration": 82,
    "start_time": "2023-12-25T16:15:58.749Z"
   },
   {
    "duration": 10,
    "start_time": "2023-12-25T16:15:58.833Z"
   },
   {
    "duration": 63,
    "start_time": "2023-12-25T16:15:58.845Z"
   },
   {
    "duration": 29,
    "start_time": "2023-12-25T16:15:58.909Z"
   },
   {
    "duration": 52,
    "start_time": "2023-12-25T16:15:58.939Z"
   },
   {
    "duration": 41,
    "start_time": "2023-12-25T16:15:58.993Z"
   },
   {
    "duration": 46,
    "start_time": "2023-12-25T16:15:59.035Z"
   },
   {
    "duration": 29,
    "start_time": "2023-12-25T16:15:59.082Z"
   },
   {
    "duration": 25,
    "start_time": "2023-12-25T16:15:59.113Z"
   },
   {
    "duration": 39,
    "start_time": "2023-12-25T16:15:59.139Z"
   },
   {
    "duration": 28,
    "start_time": "2023-12-25T16:15:59.179Z"
   },
   {
    "duration": 45,
    "start_time": "2023-12-25T16:15:59.208Z"
   },
   {
    "duration": 20,
    "start_time": "2023-12-25T16:15:59.255Z"
   },
   {
    "duration": 32,
    "start_time": "2023-12-25T16:15:59.276Z"
   },
   {
    "duration": 46,
    "start_time": "2023-12-25T16:15:59.310Z"
   },
   {
    "duration": 174,
    "start_time": "2023-12-25T16:15:59.358Z"
   },
   {
    "duration": 100,
    "start_time": "2023-12-25T16:15:59.533Z"
   },
   {
    "duration": 0,
    "start_time": "2023-12-25T16:15:59.635Z"
   },
   {
    "duration": 0,
    "start_time": "2023-12-25T16:15:59.636Z"
   },
   {
    "duration": 0,
    "start_time": "2023-12-25T16:15:59.637Z"
   },
   {
    "duration": 0,
    "start_time": "2023-12-25T16:15:59.638Z"
   },
   {
    "duration": 0,
    "start_time": "2023-12-25T16:15:59.639Z"
   },
   {
    "duration": 0,
    "start_time": "2023-12-25T16:15:59.640Z"
   },
   {
    "duration": 0,
    "start_time": "2023-12-25T16:15:59.641Z"
   },
   {
    "duration": 0,
    "start_time": "2023-12-25T16:15:59.641Z"
   },
   {
    "duration": 0,
    "start_time": "2023-12-25T16:15:59.642Z"
   },
   {
    "duration": 0,
    "start_time": "2023-12-25T16:15:59.643Z"
   },
   {
    "duration": 0,
    "start_time": "2023-12-25T16:15:59.644Z"
   },
   {
    "duration": 0,
    "start_time": "2023-12-25T16:15:59.645Z"
   },
   {
    "duration": 0,
    "start_time": "2023-12-25T16:15:59.646Z"
   },
   {
    "duration": 0,
    "start_time": "2023-12-25T16:15:59.665Z"
   },
   {
    "duration": 0,
    "start_time": "2023-12-25T16:15:59.666Z"
   },
   {
    "duration": 0,
    "start_time": "2023-12-25T16:15:59.667Z"
   },
   {
    "duration": 0,
    "start_time": "2023-12-25T16:15:59.668Z"
   },
   {
    "duration": 0,
    "start_time": "2023-12-25T16:15:59.669Z"
   },
   {
    "duration": 0,
    "start_time": "2023-12-25T16:15:59.669Z"
   },
   {
    "duration": 0,
    "start_time": "2023-12-25T16:15:59.670Z"
   },
   {
    "duration": 0,
    "start_time": "2023-12-25T16:15:59.671Z"
   },
   {
    "duration": 0,
    "start_time": "2023-12-25T16:15:59.672Z"
   },
   {
    "duration": 0,
    "start_time": "2023-12-25T16:15:59.673Z"
   },
   {
    "duration": 0,
    "start_time": "2023-12-25T16:15:59.674Z"
   },
   {
    "duration": 0,
    "start_time": "2023-12-25T16:15:59.675Z"
   },
   {
    "duration": 152,
    "start_time": "2023-12-25T16:16:21.075Z"
   },
   {
    "duration": 993,
    "start_time": "2023-12-25T16:16:26.321Z"
   },
   {
    "duration": 40,
    "start_time": "2023-12-25T16:16:27.316Z"
   },
   {
    "duration": 11,
    "start_time": "2023-12-25T16:16:27.357Z"
   },
   {
    "duration": 41,
    "start_time": "2023-12-25T16:16:27.370Z"
   },
   {
    "duration": 9,
    "start_time": "2023-12-25T16:16:27.413Z"
   },
   {
    "duration": 25,
    "start_time": "2023-12-25T16:16:27.423Z"
   },
   {
    "duration": 10,
    "start_time": "2023-12-25T16:16:27.449Z"
   },
   {
    "duration": 45,
    "start_time": "2023-12-25T16:16:27.461Z"
   },
   {
    "duration": 32,
    "start_time": "2023-12-25T16:16:27.508Z"
   },
   {
    "duration": 27,
    "start_time": "2023-12-25T16:16:27.542Z"
   },
   {
    "duration": 10,
    "start_time": "2023-12-25T16:16:27.571Z"
   },
   {
    "duration": 7,
    "start_time": "2023-12-25T16:16:27.582Z"
   },
   {
    "duration": 7,
    "start_time": "2023-12-25T16:16:27.590Z"
   },
   {
    "duration": 2,
    "start_time": "2023-12-25T16:16:27.601Z"
   },
   {
    "duration": 8,
    "start_time": "2023-12-25T16:16:27.605Z"
   },
   {
    "duration": 5,
    "start_time": "2023-12-25T16:16:27.615Z"
   },
   {
    "duration": 10,
    "start_time": "2023-12-25T16:16:27.621Z"
   },
   {
    "duration": 36,
    "start_time": "2023-12-25T16:16:27.633Z"
   },
   {
    "duration": 158,
    "start_time": "2023-12-25T16:16:27.671Z"
   },
   {
    "duration": 163,
    "start_time": "2023-12-25T16:16:27.830Z"
   },
   {
    "duration": 6,
    "start_time": "2023-12-25T16:16:27.995Z"
   },
   {
    "duration": 13,
    "start_time": "2023-12-25T16:16:28.003Z"
   },
   {
    "duration": 190,
    "start_time": "2023-12-25T16:16:28.017Z"
   },
   {
    "duration": 169,
    "start_time": "2023-12-25T16:16:28.209Z"
   },
   {
    "duration": 11,
    "start_time": "2023-12-25T16:16:28.380Z"
   },
   {
    "duration": 257,
    "start_time": "2023-12-25T16:16:28.393Z"
   },
   {
    "duration": 368,
    "start_time": "2023-12-25T16:16:28.651Z"
   },
   {
    "duration": 9,
    "start_time": "2023-12-25T16:16:29.020Z"
   },
   {
    "duration": 15,
    "start_time": "2023-12-25T16:16:29.031Z"
   },
   {
    "duration": 19,
    "start_time": "2023-12-25T16:16:29.047Z"
   },
   {
    "duration": 8,
    "start_time": "2023-12-25T16:16:29.067Z"
   },
   {
    "duration": 439,
    "start_time": "2023-12-25T16:16:29.076Z"
   },
   {
    "duration": 23,
    "start_time": "2023-12-25T16:16:29.516Z"
   },
   {
    "duration": 43,
    "start_time": "2023-12-25T16:16:29.541Z"
   },
   {
    "duration": 17,
    "start_time": "2023-12-25T16:16:29.586Z"
   },
   {
    "duration": 21,
    "start_time": "2023-12-25T16:16:29.604Z"
   },
   {
    "duration": 611,
    "start_time": "2023-12-25T16:16:29.627Z"
   },
   {
    "duration": 717,
    "start_time": "2023-12-25T16:16:30.240Z"
   },
   {
    "duration": 20,
    "start_time": "2023-12-25T16:16:30.958Z"
   },
   {
    "duration": 42,
    "start_time": "2023-12-25T16:16:30.980Z"
   },
   {
    "duration": 64,
    "start_time": "2023-12-25T16:16:31.026Z"
   },
   {
    "duration": 44,
    "start_time": "2023-12-25T16:16:31.092Z"
   },
   {
    "duration": 75,
    "start_time": "2023-12-25T16:16:31.138Z"
   },
   {
    "duration": 55,
    "start_time": "2023-12-25T16:16:31.215Z"
   },
   {
    "duration": 49,
    "start_time": "2023-12-25T16:16:31.271Z"
   },
   {
    "duration": 2,
    "start_time": "2023-12-25T16:16:36.306Z"
   },
   {
    "duration": 90,
    "start_time": "2023-12-25T16:16:42.100Z"
   },
   {
    "duration": 14,
    "start_time": "2023-12-25T16:17:13.402Z"
   },
   {
    "duration": 20,
    "start_time": "2023-12-25T16:17:15.674Z"
   },
   {
    "duration": 13,
    "start_time": "2023-12-25T16:23:23.329Z"
   },
   {
    "duration": 13,
    "start_time": "2023-12-25T16:23:29.916Z"
   },
   {
    "duration": 1047,
    "start_time": "2023-12-25T16:23:37.060Z"
   },
   {
    "duration": 40,
    "start_time": "2023-12-25T16:23:38.109Z"
   },
   {
    "duration": 9,
    "start_time": "2023-12-25T16:23:38.150Z"
   },
   {
    "duration": 34,
    "start_time": "2023-12-25T16:23:38.161Z"
   },
   {
    "duration": 11,
    "start_time": "2023-12-25T16:23:38.197Z"
   },
   {
    "duration": 19,
    "start_time": "2023-12-25T16:23:38.209Z"
   },
   {
    "duration": 9,
    "start_time": "2023-12-25T16:23:38.229Z"
   },
   {
    "duration": 15,
    "start_time": "2023-12-25T16:23:38.239Z"
   },
   {
    "duration": 19,
    "start_time": "2023-12-25T16:23:38.255Z"
   },
   {
    "duration": 9,
    "start_time": "2023-12-25T16:23:38.277Z"
   },
   {
    "duration": 4,
    "start_time": "2023-12-25T16:23:38.288Z"
   },
   {
    "duration": 10,
    "start_time": "2023-12-25T16:23:38.294Z"
   },
   {
    "duration": 4,
    "start_time": "2023-12-25T16:23:38.305Z"
   },
   {
    "duration": 4,
    "start_time": "2023-12-25T16:23:38.311Z"
   },
   {
    "duration": 8,
    "start_time": "2023-12-25T16:23:38.316Z"
   },
   {
    "duration": 9,
    "start_time": "2023-12-25T16:23:38.325Z"
   },
   {
    "duration": 31,
    "start_time": "2023-12-25T16:23:38.335Z"
   },
   {
    "duration": 6,
    "start_time": "2023-12-25T16:23:38.368Z"
   },
   {
    "duration": 171,
    "start_time": "2023-12-25T16:23:38.376Z"
   },
   {
    "duration": 182,
    "start_time": "2023-12-25T16:23:38.551Z"
   },
   {
    "duration": 6,
    "start_time": "2023-12-25T16:23:38.734Z"
   },
   {
    "duration": 18,
    "start_time": "2023-12-25T16:23:38.741Z"
   },
   {
    "duration": 149,
    "start_time": "2023-12-25T16:23:38.765Z"
   },
   {
    "duration": 170,
    "start_time": "2023-12-25T16:23:38.915Z"
   },
   {
    "duration": 11,
    "start_time": "2023-12-25T16:23:39.086Z"
   },
   {
    "duration": 250,
    "start_time": "2023-12-25T16:23:39.098Z"
   },
   {
    "duration": 368,
    "start_time": "2023-12-25T16:23:39.350Z"
   },
   {
    "duration": 8,
    "start_time": "2023-12-25T16:23:39.721Z"
   },
   {
    "duration": 17,
    "start_time": "2023-12-25T16:23:39.730Z"
   },
   {
    "duration": 20,
    "start_time": "2023-12-25T16:23:39.749Z"
   },
   {
    "duration": 28,
    "start_time": "2023-12-25T16:23:39.770Z"
   },
   {
    "duration": 421,
    "start_time": "2023-12-25T16:23:39.799Z"
   },
   {
    "duration": 22,
    "start_time": "2023-12-25T16:23:40.221Z"
   },
   {
    "duration": 36,
    "start_time": "2023-12-25T16:23:40.245Z"
   },
   {
    "duration": 16,
    "start_time": "2023-12-25T16:23:40.283Z"
   },
   {
    "duration": 17,
    "start_time": "2023-12-25T16:23:40.300Z"
   },
   {
    "duration": 591,
    "start_time": "2023-12-25T16:23:40.318Z"
   },
   {
    "duration": 674,
    "start_time": "2023-12-25T16:23:40.911Z"
   },
   {
    "duration": 15,
    "start_time": "2023-12-25T16:23:41.587Z"
   },
   {
    "duration": 6,
    "start_time": "2023-12-25T16:23:41.603Z"
   },
   {
    "duration": 22,
    "start_time": "2023-12-25T16:23:41.610Z"
   },
   {
    "duration": 44,
    "start_time": "2023-12-25T16:23:41.633Z"
   },
   {
    "duration": 35,
    "start_time": "2023-12-25T16:23:41.678Z"
   },
   {
    "duration": 38,
    "start_time": "2023-12-25T16:23:41.714Z"
   },
   {
    "duration": 26,
    "start_time": "2023-12-25T16:23:41.753Z"
   },
   {
    "duration": 26,
    "start_time": "2023-12-25T16:23:41.780Z"
   },
   {
    "duration": 11,
    "start_time": "2023-12-25T16:24:15.631Z"
   },
   {
    "duration": 91,
    "start_time": "2023-12-25T16:24:36.899Z"
   },
   {
    "duration": 18,
    "start_time": "2023-12-25T16:25:04.620Z"
   },
   {
    "duration": 1069,
    "start_time": "2023-12-25T16:25:10.746Z"
   },
   {
    "duration": 40,
    "start_time": "2023-12-25T16:25:11.816Z"
   },
   {
    "duration": 10,
    "start_time": "2023-12-25T16:25:11.858Z"
   },
   {
    "duration": 69,
    "start_time": "2023-12-25T16:25:11.870Z"
   },
   {
    "duration": 11,
    "start_time": "2023-12-25T16:25:11.940Z"
   },
   {
    "duration": 46,
    "start_time": "2023-12-25T16:25:11.952Z"
   },
   {
    "duration": 13,
    "start_time": "2023-12-25T16:25:11.999Z"
   },
   {
    "duration": 49,
    "start_time": "2023-12-25T16:25:12.014Z"
   },
   {
    "duration": 30,
    "start_time": "2023-12-25T16:25:12.064Z"
   },
   {
    "duration": 32,
    "start_time": "2023-12-25T16:25:12.097Z"
   },
   {
    "duration": 14,
    "start_time": "2023-12-25T16:25:12.131Z"
   },
   {
    "duration": 61,
    "start_time": "2023-12-25T16:25:12.146Z"
   },
   {
    "duration": 35,
    "start_time": "2023-12-25T16:25:12.209Z"
   },
   {
    "duration": 19,
    "start_time": "2023-12-25T16:25:12.246Z"
   },
   {
    "duration": 51,
    "start_time": "2023-12-25T16:25:12.266Z"
   },
   {
    "duration": 67,
    "start_time": "2023-12-25T16:25:12.318Z"
   },
   {
    "duration": 78,
    "start_time": "2023-12-25T16:25:12.386Z"
   },
   {
    "duration": 26,
    "start_time": "2023-12-25T16:25:12.466Z"
   },
   {
    "duration": 209,
    "start_time": "2023-12-25T16:25:12.494Z"
   },
   {
    "duration": 171,
    "start_time": "2023-12-25T16:25:12.704Z"
   },
   {
    "duration": 7,
    "start_time": "2023-12-25T16:25:12.877Z"
   },
   {
    "duration": 46,
    "start_time": "2023-12-25T16:25:12.885Z"
   },
   {
    "duration": 186,
    "start_time": "2023-12-25T16:25:12.933Z"
   },
   {
    "duration": 172,
    "start_time": "2023-12-25T16:25:13.120Z"
   },
   {
    "duration": 13,
    "start_time": "2023-12-25T16:25:13.294Z"
   },
   {
    "duration": 288,
    "start_time": "2023-12-25T16:25:13.309Z"
   },
   {
    "duration": 384,
    "start_time": "2023-12-25T16:25:13.598Z"
   },
   {
    "duration": 8,
    "start_time": "2023-12-25T16:25:13.986Z"
   },
   {
    "duration": 80,
    "start_time": "2023-12-25T16:25:13.996Z"
   },
   {
    "duration": 49,
    "start_time": "2023-12-25T16:25:14.078Z"
   },
   {
    "duration": 46,
    "start_time": "2023-12-25T16:25:14.129Z"
   },
   {
    "duration": 434,
    "start_time": "2023-12-25T16:25:14.176Z"
   },
   {
    "duration": 25,
    "start_time": "2023-12-25T16:25:14.611Z"
   },
   {
    "duration": 74,
    "start_time": "2023-12-25T16:25:14.638Z"
   },
   {
    "duration": 69,
    "start_time": "2023-12-25T16:25:14.714Z"
   },
   {
    "duration": 33,
    "start_time": "2023-12-25T16:25:14.785Z"
   },
   {
    "duration": 621,
    "start_time": "2023-12-25T16:25:14.820Z"
   },
   {
    "duration": 726,
    "start_time": "2023-12-25T16:25:15.442Z"
   },
   {
    "duration": 17,
    "start_time": "2023-12-25T16:25:16.170Z"
   },
   {
    "duration": 7,
    "start_time": "2023-12-25T16:25:16.189Z"
   },
   {
    "duration": 24,
    "start_time": "2023-12-25T16:25:16.198Z"
   },
   {
    "duration": 10,
    "start_time": "2023-12-25T16:25:16.224Z"
   },
   {
    "duration": 20,
    "start_time": "2023-12-25T16:25:16.235Z"
   },
   {
    "duration": 25,
    "start_time": "2023-12-25T16:25:16.257Z"
   },
   {
    "duration": 8,
    "start_time": "2023-12-25T16:25:16.284Z"
   },
   {
    "duration": 3,
    "start_time": "2023-12-25T16:25:16.293Z"
   },
   {
    "duration": 9,
    "start_time": "2023-12-25T16:25:16.297Z"
   },
   {
    "duration": 1016,
    "start_time": "2023-12-25T16:25:37.807Z"
   },
   {
    "duration": 39,
    "start_time": "2023-12-25T16:25:38.825Z"
   },
   {
    "duration": 10,
    "start_time": "2023-12-25T16:25:38.866Z"
   },
   {
    "duration": 63,
    "start_time": "2023-12-25T16:25:38.878Z"
   },
   {
    "duration": 9,
    "start_time": "2023-12-25T16:25:38.943Z"
   },
   {
    "duration": 57,
    "start_time": "2023-12-25T16:25:38.953Z"
   },
   {
    "duration": 15,
    "start_time": "2023-12-25T16:25:39.011Z"
   },
   {
    "duration": 41,
    "start_time": "2023-12-25T16:25:39.027Z"
   },
   {
    "duration": 23,
    "start_time": "2023-12-25T16:25:39.070Z"
   },
   {
    "duration": 32,
    "start_time": "2023-12-25T16:25:39.095Z"
   },
   {
    "duration": 28,
    "start_time": "2023-12-25T16:25:39.128Z"
   },
   {
    "duration": 34,
    "start_time": "2023-12-25T16:25:39.158Z"
   },
   {
    "duration": 28,
    "start_time": "2023-12-25T16:25:39.194Z"
   },
   {
    "duration": 27,
    "start_time": "2023-12-25T16:25:39.223Z"
   },
   {
    "duration": 34,
    "start_time": "2023-12-25T16:25:39.251Z"
   },
   {
    "duration": 15,
    "start_time": "2023-12-25T16:25:39.286Z"
   },
   {
    "duration": 31,
    "start_time": "2023-12-25T16:25:39.302Z"
   },
   {
    "duration": 27,
    "start_time": "2023-12-25T16:25:39.335Z"
   },
   {
    "duration": 169,
    "start_time": "2023-12-25T16:25:39.363Z"
   },
   {
    "duration": 153,
    "start_time": "2023-12-25T16:25:39.534Z"
   },
   {
    "duration": 6,
    "start_time": "2023-12-25T16:25:39.688Z"
   },
   {
    "duration": 24,
    "start_time": "2023-12-25T16:25:39.696Z"
   },
   {
    "duration": 198,
    "start_time": "2023-12-25T16:25:39.722Z"
   },
   {
    "duration": 168,
    "start_time": "2023-12-25T16:25:39.921Z"
   },
   {
    "duration": 11,
    "start_time": "2023-12-25T16:25:40.091Z"
   },
   {
    "duration": 298,
    "start_time": "2023-12-25T16:25:40.104Z"
   },
   {
    "duration": 362,
    "start_time": "2023-12-25T16:25:40.403Z"
   },
   {
    "duration": 8,
    "start_time": "2023-12-25T16:25:40.768Z"
   },
   {
    "duration": 42,
    "start_time": "2023-12-25T16:25:40.778Z"
   },
   {
    "duration": 47,
    "start_time": "2023-12-25T16:25:40.822Z"
   },
   {
    "duration": 36,
    "start_time": "2023-12-25T16:25:40.870Z"
   },
   {
    "duration": 438,
    "start_time": "2023-12-25T16:25:40.907Z"
   },
   {
    "duration": 30,
    "start_time": "2023-12-25T16:25:41.346Z"
   },
   {
    "duration": 56,
    "start_time": "2023-12-25T16:25:41.377Z"
   },
   {
    "duration": 37,
    "start_time": "2023-12-25T16:25:41.434Z"
   },
   {
    "duration": 43,
    "start_time": "2023-12-25T16:25:41.472Z"
   },
   {
    "duration": 583,
    "start_time": "2023-12-25T16:25:41.517Z"
   },
   {
    "duration": 663,
    "start_time": "2023-12-25T16:25:42.102Z"
   },
   {
    "duration": 15,
    "start_time": "2023-12-25T16:25:42.767Z"
   },
   {
    "duration": 17,
    "start_time": "2023-12-25T16:25:42.784Z"
   },
   {
    "duration": 23,
    "start_time": "2023-12-25T16:25:42.802Z"
   },
   {
    "duration": 17,
    "start_time": "2023-12-25T16:25:42.826Z"
   },
   {
    "duration": 16,
    "start_time": "2023-12-25T16:25:42.844Z"
   },
   {
    "duration": 32,
    "start_time": "2023-12-25T16:25:42.862Z"
   },
   {
    "duration": 5,
    "start_time": "2023-12-25T16:25:42.895Z"
   },
   {
    "duration": 3,
    "start_time": "2023-12-25T16:25:42.902Z"
   },
   {
    "duration": 3,
    "start_time": "2023-12-25T16:25:42.906Z"
   },
   {
    "duration": 1068,
    "start_time": "2023-12-25T16:26:16.953Z"
   },
   {
    "duration": 42,
    "start_time": "2023-12-25T16:26:18.025Z"
   },
   {
    "duration": 10,
    "start_time": "2023-12-25T16:26:18.068Z"
   },
   {
    "duration": 44,
    "start_time": "2023-12-25T16:26:18.080Z"
   },
   {
    "duration": 10,
    "start_time": "2023-12-25T16:26:18.125Z"
   },
   {
    "duration": 22,
    "start_time": "2023-12-25T16:26:18.137Z"
   },
   {
    "duration": 9,
    "start_time": "2023-12-25T16:26:18.160Z"
   },
   {
    "duration": 25,
    "start_time": "2023-12-25T16:26:18.170Z"
   },
   {
    "duration": 12,
    "start_time": "2023-12-25T16:26:18.196Z"
   },
   {
    "duration": 9,
    "start_time": "2023-12-25T16:26:18.210Z"
   },
   {
    "duration": 5,
    "start_time": "2023-12-25T16:26:18.220Z"
   },
   {
    "duration": 12,
    "start_time": "2023-12-25T16:26:18.226Z"
   },
   {
    "duration": 6,
    "start_time": "2023-12-25T16:26:18.239Z"
   },
   {
    "duration": 5,
    "start_time": "2023-12-25T16:26:18.246Z"
   },
   {
    "duration": 9,
    "start_time": "2023-12-25T16:26:18.266Z"
   },
   {
    "duration": 5,
    "start_time": "2023-12-25T16:26:18.276Z"
   },
   {
    "duration": 5,
    "start_time": "2023-12-25T16:26:18.282Z"
   },
   {
    "duration": 6,
    "start_time": "2023-12-25T16:26:18.289Z"
   },
   {
    "duration": 176,
    "start_time": "2023-12-25T16:26:18.296Z"
   },
   {
    "duration": 158,
    "start_time": "2023-12-25T16:26:18.474Z"
   },
   {
    "duration": 8,
    "start_time": "2023-12-25T16:26:18.634Z"
   },
   {
    "duration": 26,
    "start_time": "2023-12-25T16:26:18.644Z"
   },
   {
    "duration": 163,
    "start_time": "2023-12-25T16:26:18.671Z"
   },
   {
    "duration": 175,
    "start_time": "2023-12-25T16:26:18.836Z"
   },
   {
    "duration": 11,
    "start_time": "2023-12-25T16:26:19.013Z"
   },
   {
    "duration": 275,
    "start_time": "2023-12-25T16:26:19.026Z"
   },
   {
    "duration": 365,
    "start_time": "2023-12-25T16:26:19.303Z"
   },
   {
    "duration": 8,
    "start_time": "2023-12-25T16:26:19.671Z"
   },
   {
    "duration": 12,
    "start_time": "2023-12-25T16:26:19.680Z"
   },
   {
    "duration": 7,
    "start_time": "2023-12-25T16:26:19.693Z"
   },
   {
    "duration": 8,
    "start_time": "2023-12-25T16:26:19.702Z"
   },
   {
    "duration": 462,
    "start_time": "2023-12-25T16:26:19.711Z"
   },
   {
    "duration": 24,
    "start_time": "2023-12-25T16:26:20.175Z"
   },
   {
    "duration": 27,
    "start_time": "2023-12-25T16:26:20.201Z"
   },
   {
    "duration": 42,
    "start_time": "2023-12-25T16:26:20.230Z"
   },
   {
    "duration": 18,
    "start_time": "2023-12-25T16:26:20.274Z"
   },
   {
    "duration": 655,
    "start_time": "2023-12-25T16:26:20.294Z"
   },
   {
    "duration": 709,
    "start_time": "2023-12-25T16:26:20.951Z"
   },
   {
    "duration": 20,
    "start_time": "2023-12-25T16:26:21.662Z"
   },
   {
    "duration": 6,
    "start_time": "2023-12-25T16:26:21.684Z"
   },
   {
    "duration": 11,
    "start_time": "2023-12-25T16:26:21.691Z"
   },
   {
    "duration": 7,
    "start_time": "2023-12-25T16:26:21.704Z"
   },
   {
    "duration": 7,
    "start_time": "2023-12-25T16:26:21.713Z"
   },
   {
    "duration": 57,
    "start_time": "2023-12-25T16:26:21.721Z"
   },
   {
    "duration": 6,
    "start_time": "2023-12-25T16:26:21.780Z"
   },
   {
    "duration": 2,
    "start_time": "2023-12-25T16:26:21.788Z"
   },
   {
    "duration": 9,
    "start_time": "2023-12-25T16:26:21.792Z"
   },
   {
    "duration": 17,
    "start_time": "2023-12-25T16:26:46.573Z"
   },
   {
    "duration": 1038,
    "start_time": "2023-12-25T16:27:03.163Z"
   },
   {
    "duration": 39,
    "start_time": "2023-12-25T16:27:04.203Z"
   },
   {
    "duration": 10,
    "start_time": "2023-12-25T16:27:04.243Z"
   },
   {
    "duration": 44,
    "start_time": "2023-12-25T16:27:04.255Z"
   },
   {
    "duration": 10,
    "start_time": "2023-12-25T16:27:04.301Z"
   },
   {
    "duration": 26,
    "start_time": "2023-12-25T16:27:04.312Z"
   },
   {
    "duration": 9,
    "start_time": "2023-12-25T16:27:04.339Z"
   },
   {
    "duration": 18,
    "start_time": "2023-12-25T16:27:04.350Z"
   },
   {
    "duration": 30,
    "start_time": "2023-12-25T16:27:04.369Z"
   },
   {
    "duration": 9,
    "start_time": "2023-12-25T16:27:04.402Z"
   },
   {
    "duration": 22,
    "start_time": "2023-12-25T16:27:04.412Z"
   },
   {
    "duration": 28,
    "start_time": "2023-12-25T16:27:04.435Z"
   },
   {
    "duration": 5,
    "start_time": "2023-12-25T16:27:04.464Z"
   },
   {
    "duration": 4,
    "start_time": "2023-12-25T16:27:04.470Z"
   },
   {
    "duration": 15,
    "start_time": "2023-12-25T16:27:04.475Z"
   },
   {
    "duration": 4,
    "start_time": "2023-12-25T16:27:04.492Z"
   },
   {
    "duration": 5,
    "start_time": "2023-12-25T16:27:04.497Z"
   },
   {
    "duration": 12,
    "start_time": "2023-12-25T16:27:04.503Z"
   },
   {
    "duration": 164,
    "start_time": "2023-12-25T16:27:04.517Z"
   },
   {
    "duration": 154,
    "start_time": "2023-12-25T16:27:04.683Z"
   },
   {
    "duration": 6,
    "start_time": "2023-12-25T16:27:04.839Z"
   },
   {
    "duration": 20,
    "start_time": "2023-12-25T16:27:04.846Z"
   },
   {
    "duration": 153,
    "start_time": "2023-12-25T16:27:04.868Z"
   },
   {
    "duration": 169,
    "start_time": "2023-12-25T16:27:05.023Z"
   },
   {
    "duration": 11,
    "start_time": "2023-12-25T16:27:05.194Z"
   },
   {
    "duration": 261,
    "start_time": "2023-12-25T16:27:05.206Z"
   },
   {
    "duration": 373,
    "start_time": "2023-12-25T16:27:05.469Z"
   },
   {
    "duration": 7,
    "start_time": "2023-12-25T16:27:05.845Z"
   },
   {
    "duration": 14,
    "start_time": "2023-12-25T16:27:05.864Z"
   },
   {
    "duration": 13,
    "start_time": "2023-12-25T16:27:05.880Z"
   },
   {
    "duration": 16,
    "start_time": "2023-12-25T16:27:05.895Z"
   },
   {
    "duration": 445,
    "start_time": "2023-12-25T16:27:05.912Z"
   },
   {
    "duration": 27,
    "start_time": "2023-12-25T16:27:06.359Z"
   },
   {
    "duration": 26,
    "start_time": "2023-12-25T16:27:06.388Z"
   },
   {
    "duration": 16,
    "start_time": "2023-12-25T16:27:06.416Z"
   },
   {
    "duration": 40,
    "start_time": "2023-12-25T16:27:06.433Z"
   },
   {
    "duration": 590,
    "start_time": "2023-12-25T16:27:06.474Z"
   },
   {
    "duration": 673,
    "start_time": "2023-12-25T16:27:07.065Z"
   },
   {
    "duration": 26,
    "start_time": "2023-12-25T16:27:07.740Z"
   },
   {
    "duration": 7,
    "start_time": "2023-12-25T16:27:07.768Z"
   },
   {
    "duration": 10,
    "start_time": "2023-12-25T16:27:07.776Z"
   },
   {
    "duration": 8,
    "start_time": "2023-12-25T16:27:07.788Z"
   },
   {
    "duration": 8,
    "start_time": "2023-12-25T16:27:07.798Z"
   },
   {
    "duration": 26,
    "start_time": "2023-12-25T16:27:07.808Z"
   },
   {
    "duration": 5,
    "start_time": "2023-12-25T16:27:07.835Z"
   },
   {
    "duration": 12,
    "start_time": "2023-12-25T16:27:07.841Z"
   },
   {
    "duration": 6,
    "start_time": "2023-12-25T16:27:07.866Z"
   },
   {
    "duration": 19,
    "start_time": "2023-12-25T16:39:01.939Z"
   },
   {
    "duration": 7,
    "start_time": "2023-12-25T16:39:17.570Z"
   },
   {
    "duration": 10,
    "start_time": "2023-12-25T16:39:21.891Z"
   },
   {
    "duration": 18,
    "start_time": "2023-12-25T17:00:06.800Z"
   },
   {
    "duration": 21,
    "start_time": "2023-12-25T17:00:15.160Z"
   },
   {
    "duration": 8,
    "start_time": "2023-12-25T17:02:34.042Z"
   },
   {
    "duration": 106,
    "start_time": "2023-12-25T17:02:39.171Z"
   },
   {
    "duration": 1073,
    "start_time": "2023-12-25T17:02:44.330Z"
   },
   {
    "duration": 39,
    "start_time": "2023-12-25T17:02:45.405Z"
   },
   {
    "duration": 9,
    "start_time": "2023-12-25T17:02:45.445Z"
   },
   {
    "duration": 42,
    "start_time": "2023-12-25T17:02:45.456Z"
   },
   {
    "duration": 10,
    "start_time": "2023-12-25T17:02:45.500Z"
   },
   {
    "duration": 32,
    "start_time": "2023-12-25T17:02:45.511Z"
   },
   {
    "duration": 8,
    "start_time": "2023-12-25T17:02:45.544Z"
   },
   {
    "duration": 27,
    "start_time": "2023-12-25T17:02:45.554Z"
   },
   {
    "duration": 13,
    "start_time": "2023-12-25T17:02:45.583Z"
   },
   {
    "duration": 11,
    "start_time": "2023-12-25T17:02:45.598Z"
   },
   {
    "duration": 7,
    "start_time": "2023-12-25T17:02:45.611Z"
   },
   {
    "duration": 19,
    "start_time": "2023-12-25T17:02:45.619Z"
   },
   {
    "duration": 10,
    "start_time": "2023-12-25T17:02:45.639Z"
   },
   {
    "duration": 10,
    "start_time": "2023-12-25T17:02:45.650Z"
   },
   {
    "duration": 14,
    "start_time": "2023-12-25T17:02:45.661Z"
   },
   {
    "duration": 10,
    "start_time": "2023-12-25T17:02:45.676Z"
   },
   {
    "duration": 5,
    "start_time": "2023-12-25T17:02:45.687Z"
   },
   {
    "duration": 7,
    "start_time": "2023-12-25T17:02:45.693Z"
   },
   {
    "duration": 159,
    "start_time": "2023-12-25T17:02:45.702Z"
   },
   {
    "duration": 193,
    "start_time": "2023-12-25T17:02:45.864Z"
   },
   {
    "duration": 12,
    "start_time": "2023-12-25T17:02:46.058Z"
   },
   {
    "duration": 17,
    "start_time": "2023-12-25T17:02:46.071Z"
   },
   {
    "duration": 156,
    "start_time": "2023-12-25T17:02:46.090Z"
   },
   {
    "duration": 183,
    "start_time": "2023-12-25T17:02:46.248Z"
   },
   {
    "duration": 12,
    "start_time": "2023-12-25T17:02:46.432Z"
   },
   {
    "duration": 279,
    "start_time": "2023-12-25T17:02:46.445Z"
   },
   {
    "duration": 365,
    "start_time": "2023-12-25T17:02:46.726Z"
   },
   {
    "duration": 7,
    "start_time": "2023-12-25T17:02:47.094Z"
   },
   {
    "duration": 14,
    "start_time": "2023-12-25T17:02:47.102Z"
   },
   {
    "duration": 10,
    "start_time": "2023-12-25T17:02:47.117Z"
   },
   {
    "duration": 7,
    "start_time": "2023-12-25T17:02:47.128Z"
   },
   {
    "duration": 449,
    "start_time": "2023-12-25T17:02:47.137Z"
   },
   {
    "duration": 22,
    "start_time": "2023-12-25T17:02:47.588Z"
   },
   {
    "duration": 25,
    "start_time": "2023-12-25T17:02:47.612Z"
   },
   {
    "duration": 39,
    "start_time": "2023-12-25T17:02:47.639Z"
   },
   {
    "duration": 17,
    "start_time": "2023-12-25T17:02:47.679Z"
   },
   {
    "duration": 616,
    "start_time": "2023-12-25T17:02:47.697Z"
   },
   {
    "duration": 733,
    "start_time": "2023-12-25T17:02:48.314Z"
   },
   {
    "duration": 25,
    "start_time": "2023-12-25T17:02:49.049Z"
   },
   {
    "duration": 14,
    "start_time": "2023-12-25T17:02:49.076Z"
   },
   {
    "duration": 23,
    "start_time": "2023-12-25T17:02:49.091Z"
   },
   {
    "duration": 29,
    "start_time": "2023-12-25T17:02:49.115Z"
   },
   {
    "duration": 18,
    "start_time": "2023-12-25T17:02:49.146Z"
   },
   {
    "duration": 25,
    "start_time": "2023-12-25T17:02:49.166Z"
   },
   {
    "duration": 14,
    "start_time": "2023-12-25T17:02:49.193Z"
   },
   {
    "duration": 20,
    "start_time": "2023-12-25T17:02:49.209Z"
   },
   {
    "duration": 29,
    "start_time": "2023-12-25T17:02:49.231Z"
   },
   {
    "duration": 26,
    "start_time": "2023-12-25T17:03:20.548Z"
   },
   {
    "duration": 99,
    "start_time": "2023-12-25T17:03:42.947Z"
   },
   {
    "duration": 998,
    "start_time": "2023-12-25T17:03:48.818Z"
   },
   {
    "duration": 40,
    "start_time": "2023-12-25T17:03:49.819Z"
   },
   {
    "duration": 10,
    "start_time": "2023-12-25T17:03:49.861Z"
   },
   {
    "duration": 45,
    "start_time": "2023-12-25T17:03:49.873Z"
   },
   {
    "duration": 10,
    "start_time": "2023-12-25T17:03:49.919Z"
   },
   {
    "duration": 19,
    "start_time": "2023-12-25T17:03:49.930Z"
   },
   {
    "duration": 8,
    "start_time": "2023-12-25T17:03:49.951Z"
   },
   {
    "duration": 15,
    "start_time": "2023-12-25T17:03:49.960Z"
   },
   {
    "duration": 12,
    "start_time": "2023-12-25T17:03:49.976Z"
   },
   {
    "duration": 8,
    "start_time": "2023-12-25T17:03:49.990Z"
   },
   {
    "duration": 22,
    "start_time": "2023-12-25T17:03:49.999Z"
   },
   {
    "duration": 18,
    "start_time": "2023-12-25T17:03:50.022Z"
   },
   {
    "duration": 13,
    "start_time": "2023-12-25T17:03:50.041Z"
   },
   {
    "duration": 9,
    "start_time": "2023-12-25T17:03:50.055Z"
   },
   {
    "duration": 9,
    "start_time": "2023-12-25T17:03:50.065Z"
   },
   {
    "duration": 13,
    "start_time": "2023-12-25T17:03:50.075Z"
   },
   {
    "duration": 7,
    "start_time": "2023-12-25T17:03:50.090Z"
   },
   {
    "duration": 6,
    "start_time": "2023-12-25T17:03:50.099Z"
   },
   {
    "duration": 183,
    "start_time": "2023-12-25T17:03:50.106Z"
   },
   {
    "duration": 159,
    "start_time": "2023-12-25T17:03:50.291Z"
   },
   {
    "duration": 14,
    "start_time": "2023-12-25T17:03:50.452Z"
   },
   {
    "duration": 19,
    "start_time": "2023-12-25T17:03:50.468Z"
   },
   {
    "duration": 179,
    "start_time": "2023-12-25T17:03:50.488Z"
   },
   {
    "duration": 173,
    "start_time": "2023-12-25T17:03:50.669Z"
   },
   {
    "duration": 13,
    "start_time": "2023-12-25T17:03:50.843Z"
   },
   {
    "duration": 253,
    "start_time": "2023-12-25T17:03:50.865Z"
   },
   {
    "duration": 362,
    "start_time": "2023-12-25T17:03:51.119Z"
   },
   {
    "duration": 7,
    "start_time": "2023-12-25T17:03:51.484Z"
   },
   {
    "duration": 18,
    "start_time": "2023-12-25T17:03:51.493Z"
   },
   {
    "duration": 7,
    "start_time": "2023-12-25T17:03:51.512Z"
   },
   {
    "duration": 11,
    "start_time": "2023-12-25T17:03:51.521Z"
   },
   {
    "duration": 462,
    "start_time": "2023-12-25T17:03:51.534Z"
   },
   {
    "duration": 22,
    "start_time": "2023-12-25T17:03:51.997Z"
   },
   {
    "duration": 25,
    "start_time": "2023-12-25T17:03:52.020Z"
   },
   {
    "duration": 33,
    "start_time": "2023-12-25T17:03:52.046Z"
   },
   {
    "duration": 15,
    "start_time": "2023-12-25T17:03:52.081Z"
   },
   {
    "duration": 614,
    "start_time": "2023-12-25T17:03:52.098Z"
   },
   {
    "duration": 727,
    "start_time": "2023-12-25T17:03:52.714Z"
   },
   {
    "duration": 27,
    "start_time": "2023-12-25T17:03:53.443Z"
   },
   {
    "duration": 15,
    "start_time": "2023-12-25T17:03:53.472Z"
   },
   {
    "duration": 10,
    "start_time": "2023-12-25T17:03:53.489Z"
   },
   {
    "duration": 7,
    "start_time": "2023-12-25T17:03:53.501Z"
   },
   {
    "duration": 22,
    "start_time": "2023-12-25T17:03:53.510Z"
   },
   {
    "duration": 40,
    "start_time": "2023-12-25T17:03:53.534Z"
   },
   {
    "duration": 6,
    "start_time": "2023-12-25T17:03:53.576Z"
   },
   {
    "duration": 13,
    "start_time": "2023-12-25T17:03:53.584Z"
   },
   {
    "duration": 26,
    "start_time": "2023-12-25T17:03:53.598Z"
   },
   {
    "duration": 20,
    "start_time": "2023-12-25T17:05:27.518Z"
   },
   {
    "duration": 1038,
    "start_time": "2023-12-25T17:05:45.971Z"
   },
   {
    "duration": 39,
    "start_time": "2023-12-25T17:05:47.010Z"
   },
   {
    "duration": 10,
    "start_time": "2023-12-25T17:05:47.051Z"
   },
   {
    "duration": 38,
    "start_time": "2023-12-25T17:05:47.062Z"
   },
   {
    "duration": 10,
    "start_time": "2023-12-25T17:05:47.101Z"
   },
   {
    "duration": 20,
    "start_time": "2023-12-25T17:05:47.113Z"
   },
   {
    "duration": 9,
    "start_time": "2023-12-25T17:05:47.135Z"
   },
   {
    "duration": 18,
    "start_time": "2023-12-25T17:05:47.145Z"
   },
   {
    "duration": 11,
    "start_time": "2023-12-25T17:05:47.164Z"
   },
   {
    "duration": 13,
    "start_time": "2023-12-25T17:05:47.177Z"
   },
   {
    "duration": 13,
    "start_time": "2023-12-25T17:05:47.191Z"
   },
   {
    "duration": 5,
    "start_time": "2023-12-25T17:05:47.205Z"
   },
   {
    "duration": 3,
    "start_time": "2023-12-25T17:05:47.211Z"
   },
   {
    "duration": 3,
    "start_time": "2023-12-25T17:05:47.216Z"
   },
   {
    "duration": 6,
    "start_time": "2023-12-25T17:05:47.220Z"
   },
   {
    "duration": 5,
    "start_time": "2023-12-25T17:05:47.227Z"
   },
   {
    "duration": 33,
    "start_time": "2023-12-25T17:05:47.233Z"
   },
   {
    "duration": 5,
    "start_time": "2023-12-25T17:05:47.268Z"
   },
   {
    "duration": 166,
    "start_time": "2023-12-25T17:05:47.274Z"
   },
   {
    "duration": 164,
    "start_time": "2023-12-25T17:05:47.442Z"
   },
   {
    "duration": 7,
    "start_time": "2023-12-25T17:05:47.607Z"
   },
   {
    "duration": 13,
    "start_time": "2023-12-25T17:05:47.615Z"
   },
   {
    "duration": 161,
    "start_time": "2023-12-25T17:05:47.630Z"
   },
   {
    "duration": 175,
    "start_time": "2023-12-25T17:05:47.793Z"
   },
   {
    "duration": 11,
    "start_time": "2023-12-25T17:05:47.970Z"
   },
   {
    "duration": 264,
    "start_time": "2023-12-25T17:05:47.983Z"
   },
   {
    "duration": 367,
    "start_time": "2023-12-25T17:05:48.249Z"
   },
   {
    "duration": 9,
    "start_time": "2023-12-25T17:05:48.618Z"
   },
   {
    "duration": 24,
    "start_time": "2023-12-25T17:05:48.628Z"
   },
   {
    "duration": 16,
    "start_time": "2023-12-25T17:05:48.654Z"
   },
   {
    "duration": 12,
    "start_time": "2023-12-25T17:05:48.671Z"
   },
   {
    "duration": 430,
    "start_time": "2023-12-25T17:05:48.685Z"
   },
   {
    "duration": 23,
    "start_time": "2023-12-25T17:05:49.117Z"
   },
   {
    "duration": 44,
    "start_time": "2023-12-25T17:05:49.142Z"
   },
   {
    "duration": 16,
    "start_time": "2023-12-25T17:05:49.188Z"
   },
   {
    "duration": 16,
    "start_time": "2023-12-25T17:05:49.205Z"
   },
   {
    "duration": 596,
    "start_time": "2023-12-25T17:05:49.222Z"
   },
   {
    "duration": 662,
    "start_time": "2023-12-25T17:05:49.819Z"
   },
   {
    "duration": 16,
    "start_time": "2023-12-25T17:05:50.483Z"
   },
   {
    "duration": 11,
    "start_time": "2023-12-25T17:05:50.500Z"
   },
   {
    "duration": 2,
    "start_time": "2023-12-25T17:05:50.514Z"
   },
   {
    "duration": 3,
    "start_time": "2023-12-25T17:05:50.518Z"
   },
   {
    "duration": 3,
    "start_time": "2023-12-25T17:07:12.255Z"
   },
   {
    "duration": 10,
    "start_time": "2023-12-25T17:07:22.056Z"
   },
   {
    "duration": 4,
    "start_time": "2023-12-25T17:09:48.426Z"
   },
   {
    "duration": 90,
    "start_time": "2023-12-25T17:16:14.563Z"
   },
   {
    "duration": 11,
    "start_time": "2023-12-25T17:16:19.297Z"
   },
   {
    "duration": 4,
    "start_time": "2023-12-25T17:17:18.434Z"
   },
   {
    "duration": 18,
    "start_time": "2023-12-25T17:17:23.690Z"
   },
   {
    "duration": 3812,
    "start_time": "2023-12-25T17:18:46.659Z"
   },
   {
    "duration": 18,
    "start_time": "2023-12-25T17:18:56.861Z"
   },
   {
    "duration": 18,
    "start_time": "2023-12-25T17:19:14.413Z"
   },
   {
    "duration": 4,
    "start_time": "2023-12-25T17:24:28.554Z"
   },
   {
    "duration": 990,
    "start_time": "2023-12-25T17:24:34.007Z"
   },
   {
    "duration": 40,
    "start_time": "2023-12-25T17:24:34.998Z"
   },
   {
    "duration": 13,
    "start_time": "2023-12-25T17:24:35.040Z"
   },
   {
    "duration": 46,
    "start_time": "2023-12-25T17:24:35.055Z"
   },
   {
    "duration": 10,
    "start_time": "2023-12-25T17:24:35.102Z"
   },
   {
    "duration": 52,
    "start_time": "2023-12-25T17:24:35.113Z"
   },
   {
    "duration": 17,
    "start_time": "2023-12-25T17:24:35.166Z"
   },
   {
    "duration": 24,
    "start_time": "2023-12-25T17:24:35.184Z"
   },
   {
    "duration": 20,
    "start_time": "2023-12-25T17:24:35.210Z"
   },
   {
    "duration": 16,
    "start_time": "2023-12-25T17:24:35.233Z"
   },
   {
    "duration": 16,
    "start_time": "2023-12-25T17:24:35.250Z"
   },
   {
    "duration": 26,
    "start_time": "2023-12-25T17:24:35.267Z"
   },
   {
    "duration": 32,
    "start_time": "2023-12-25T17:24:35.295Z"
   },
   {
    "duration": 38,
    "start_time": "2023-12-25T17:24:35.328Z"
   },
   {
    "duration": 25,
    "start_time": "2023-12-25T17:24:35.367Z"
   },
   {
    "duration": 12,
    "start_time": "2023-12-25T17:24:35.393Z"
   },
   {
    "duration": 20,
    "start_time": "2023-12-25T17:24:35.406Z"
   },
   {
    "duration": 22,
    "start_time": "2023-12-25T17:24:35.428Z"
   },
   {
    "duration": 258,
    "start_time": "2023-12-25T17:24:35.451Z"
   },
   {
    "duration": 163,
    "start_time": "2023-12-25T17:24:35.711Z"
   },
   {
    "duration": 8,
    "start_time": "2023-12-25T17:24:35.876Z"
   },
   {
    "duration": 24,
    "start_time": "2023-12-25T17:24:35.885Z"
   },
   {
    "duration": 167,
    "start_time": "2023-12-25T17:24:35.911Z"
   },
   {
    "duration": 165,
    "start_time": "2023-12-25T17:24:36.080Z"
   },
   {
    "duration": 18,
    "start_time": "2023-12-25T17:24:36.247Z"
   },
   {
    "duration": 248,
    "start_time": "2023-12-25T17:24:36.267Z"
   },
   {
    "duration": 368,
    "start_time": "2023-12-25T17:24:36.516Z"
   },
   {
    "duration": 7,
    "start_time": "2023-12-25T17:24:36.887Z"
   },
   {
    "duration": 21,
    "start_time": "2023-12-25T17:24:36.896Z"
   },
   {
    "duration": 7,
    "start_time": "2023-12-25T17:24:36.918Z"
   },
   {
    "duration": 12,
    "start_time": "2023-12-25T17:24:36.926Z"
   },
   {
    "duration": 443,
    "start_time": "2023-12-25T17:24:36.939Z"
   },
   {
    "duration": 23,
    "start_time": "2023-12-25T17:24:37.383Z"
   },
   {
    "duration": 26,
    "start_time": "2023-12-25T17:24:37.407Z"
   },
   {
    "duration": 40,
    "start_time": "2023-12-25T17:24:37.435Z"
   },
   {
    "duration": 17,
    "start_time": "2023-12-25T17:24:37.477Z"
   },
   {
    "duration": 604,
    "start_time": "2023-12-25T17:24:37.495Z"
   },
   {
    "duration": 668,
    "start_time": "2023-12-25T17:24:38.101Z"
   },
   {
    "duration": 2,
    "start_time": "2023-12-25T17:24:38.771Z"
   },
   {
    "duration": 3748,
    "start_time": "2023-12-25T17:24:38.775Z"
   },
   {
    "duration": 14,
    "start_time": "2023-12-25T17:24:42.525Z"
   },
   {
    "duration": 10,
    "start_time": "2023-12-25T17:24:42.541Z"
   },
   {
    "duration": 4,
    "start_time": "2023-12-25T17:24:42.552Z"
   },
   {
    "duration": 3,
    "start_time": "2023-12-25T17:24:42.565Z"
   },
   {
    "duration": 400,
    "start_time": "2023-12-25T17:29:42.246Z"
   },
   {
    "duration": 1017,
    "start_time": "2023-12-25T17:29:50.286Z"
   },
   {
    "duration": 40,
    "start_time": "2023-12-25T17:29:51.305Z"
   },
   {
    "duration": 9,
    "start_time": "2023-12-25T17:29:51.346Z"
   },
   {
    "duration": 78,
    "start_time": "2023-12-25T17:29:51.357Z"
   },
   {
    "duration": 10,
    "start_time": "2023-12-25T17:29:51.437Z"
   },
   {
    "duration": 36,
    "start_time": "2023-12-25T17:29:51.448Z"
   },
   {
    "duration": 8,
    "start_time": "2023-12-25T17:29:51.486Z"
   },
   {
    "duration": 22,
    "start_time": "2023-12-25T17:29:51.496Z"
   },
   {
    "duration": 11,
    "start_time": "2023-12-25T17:29:51.519Z"
   },
   {
    "duration": 11,
    "start_time": "2023-12-25T17:29:51.532Z"
   },
   {
    "duration": 5,
    "start_time": "2023-12-25T17:29:51.544Z"
   },
   {
    "duration": 5,
    "start_time": "2023-12-25T17:29:51.550Z"
   },
   {
    "duration": 9,
    "start_time": "2023-12-25T17:29:51.557Z"
   },
   {
    "duration": 10,
    "start_time": "2023-12-25T17:29:51.567Z"
   },
   {
    "duration": 12,
    "start_time": "2023-12-25T17:29:51.578Z"
   },
   {
    "duration": 8,
    "start_time": "2023-12-25T17:29:51.591Z"
   },
   {
    "duration": 6,
    "start_time": "2023-12-25T17:29:51.600Z"
   },
   {
    "duration": 12,
    "start_time": "2023-12-25T17:29:51.607Z"
   },
   {
    "duration": 156,
    "start_time": "2023-12-25T17:29:51.620Z"
   },
   {
    "duration": 148,
    "start_time": "2023-12-25T17:29:51.778Z"
   },
   {
    "duration": 7,
    "start_time": "2023-12-25T17:29:51.928Z"
   },
   {
    "duration": 28,
    "start_time": "2023-12-25T17:29:51.937Z"
   },
   {
    "duration": 158,
    "start_time": "2023-12-25T17:29:51.967Z"
   },
   {
    "duration": 172,
    "start_time": "2023-12-25T17:29:52.127Z"
   },
   {
    "duration": 12,
    "start_time": "2023-12-25T17:29:52.301Z"
   },
   {
    "duration": 253,
    "start_time": "2023-12-25T17:29:52.314Z"
   },
   {
    "duration": 365,
    "start_time": "2023-12-25T17:29:52.569Z"
   },
   {
    "duration": 8,
    "start_time": "2023-12-25T17:29:52.939Z"
   },
   {
    "duration": 25,
    "start_time": "2023-12-25T17:29:52.949Z"
   },
   {
    "duration": 7,
    "start_time": "2023-12-25T17:29:52.976Z"
   },
   {
    "duration": 20,
    "start_time": "2023-12-25T17:29:52.985Z"
   },
   {
    "duration": 421,
    "start_time": "2023-12-25T17:29:53.007Z"
   },
   {
    "duration": 21,
    "start_time": "2023-12-25T17:29:53.430Z"
   },
   {
    "duration": 36,
    "start_time": "2023-12-25T17:29:53.453Z"
   },
   {
    "duration": 16,
    "start_time": "2023-12-25T17:29:53.490Z"
   },
   {
    "duration": 15,
    "start_time": "2023-12-25T17:29:53.508Z"
   },
   {
    "duration": 564,
    "start_time": "2023-12-25T17:29:53.525Z"
   },
   {
    "duration": 678,
    "start_time": "2023-12-25T17:29:54.090Z"
   },
   {
    "duration": 3,
    "start_time": "2023-12-25T17:29:54.769Z"
   },
   {
    "duration": 408,
    "start_time": "2023-12-25T17:29:54.773Z"
   },
   {
    "duration": 0,
    "start_time": "2023-12-25T17:29:55.183Z"
   },
   {
    "duration": 0,
    "start_time": "2023-12-25T17:29:55.184Z"
   },
   {
    "duration": 0,
    "start_time": "2023-12-25T17:29:55.185Z"
   },
   {
    "duration": 0,
    "start_time": "2023-12-25T17:29:55.186Z"
   },
   {
    "duration": 3767,
    "start_time": "2023-12-25T17:30:16.943Z"
   },
   {
    "duration": 1032,
    "start_time": "2023-12-25T17:30:25.487Z"
   },
   {
    "duration": 40,
    "start_time": "2023-12-25T17:30:26.521Z"
   },
   {
    "duration": 9,
    "start_time": "2023-12-25T17:30:26.563Z"
   },
   {
    "duration": 57,
    "start_time": "2023-12-25T17:30:26.573Z"
   },
   {
    "duration": 11,
    "start_time": "2023-12-25T17:30:26.633Z"
   },
   {
    "duration": 19,
    "start_time": "2023-12-25T17:30:26.646Z"
   },
   {
    "duration": 8,
    "start_time": "2023-12-25T17:30:26.667Z"
   },
   {
    "duration": 27,
    "start_time": "2023-12-25T17:30:26.676Z"
   },
   {
    "duration": 11,
    "start_time": "2023-12-25T17:30:26.704Z"
   },
   {
    "duration": 9,
    "start_time": "2023-12-25T17:30:26.716Z"
   },
   {
    "duration": 4,
    "start_time": "2023-12-25T17:30:26.727Z"
   },
   {
    "duration": 17,
    "start_time": "2023-12-25T17:30:26.732Z"
   },
   {
    "duration": 33,
    "start_time": "2023-12-25T17:30:26.751Z"
   },
   {
    "duration": 57,
    "start_time": "2023-12-25T17:30:26.787Z"
   },
   {
    "duration": 28,
    "start_time": "2023-12-25T17:30:26.846Z"
   },
   {
    "duration": 25,
    "start_time": "2023-12-25T17:30:26.876Z"
   },
   {
    "duration": 7,
    "start_time": "2023-12-25T17:30:26.902Z"
   },
   {
    "duration": 32,
    "start_time": "2023-12-25T17:30:26.910Z"
   },
   {
    "duration": 157,
    "start_time": "2023-12-25T17:30:26.943Z"
   },
   {
    "duration": 155,
    "start_time": "2023-12-25T17:30:27.101Z"
   },
   {
    "duration": 9,
    "start_time": "2023-12-25T17:30:27.257Z"
   },
   {
    "duration": 37,
    "start_time": "2023-12-25T17:30:27.268Z"
   },
   {
    "duration": 157,
    "start_time": "2023-12-25T17:30:27.306Z"
   },
   {
    "duration": 172,
    "start_time": "2023-12-25T17:30:27.464Z"
   },
   {
    "duration": 10,
    "start_time": "2023-12-25T17:30:27.638Z"
   },
   {
    "duration": 257,
    "start_time": "2023-12-25T17:30:27.649Z"
   },
   {
    "duration": 359,
    "start_time": "2023-12-25T17:30:27.908Z"
   },
   {
    "duration": 7,
    "start_time": "2023-12-25T17:30:28.269Z"
   },
   {
    "duration": 18,
    "start_time": "2023-12-25T17:30:28.277Z"
   },
   {
    "duration": 7,
    "start_time": "2023-12-25T17:30:28.296Z"
   },
   {
    "duration": 8,
    "start_time": "2023-12-25T17:30:28.304Z"
   },
   {
    "duration": 443,
    "start_time": "2023-12-25T17:30:28.314Z"
   },
   {
    "duration": 25,
    "start_time": "2023-12-25T17:30:28.759Z"
   },
   {
    "duration": 27,
    "start_time": "2023-12-25T17:30:28.786Z"
   },
   {
    "duration": 16,
    "start_time": "2023-12-25T17:30:28.815Z"
   },
   {
    "duration": 45,
    "start_time": "2023-12-25T17:30:28.832Z"
   },
   {
    "duration": 566,
    "start_time": "2023-12-25T17:30:28.878Z"
   },
   {
    "duration": 705,
    "start_time": "2023-12-25T17:30:29.445Z"
   },
   {
    "duration": 2,
    "start_time": "2023-12-25T17:30:30.152Z"
   },
   {
    "duration": 3815,
    "start_time": "2023-12-25T17:30:30.155Z"
   },
   {
    "duration": 13,
    "start_time": "2023-12-25T17:30:33.973Z"
   },
   {
    "duration": 5,
    "start_time": "2023-12-25T17:30:33.988Z"
   },
   {
    "duration": 12,
    "start_time": "2023-12-25T17:30:33.994Z"
   },
   {
    "duration": 18,
    "start_time": "2023-12-25T17:30:34.007Z"
   },
   {
    "duration": 1061,
    "start_time": "2023-12-25T17:32:05.756Z"
   },
   {
    "duration": 41,
    "start_time": "2023-12-25T17:32:06.818Z"
   },
   {
    "duration": 10,
    "start_time": "2023-12-25T17:32:06.860Z"
   },
   {
    "duration": 48,
    "start_time": "2023-12-25T17:32:06.872Z"
   },
   {
    "duration": 10,
    "start_time": "2023-12-25T17:32:06.921Z"
   },
   {
    "duration": 29,
    "start_time": "2023-12-25T17:32:06.933Z"
   },
   {
    "duration": 9,
    "start_time": "2023-12-25T17:32:06.964Z"
   },
   {
    "duration": 19,
    "start_time": "2023-12-25T17:32:06.975Z"
   },
   {
    "duration": 18,
    "start_time": "2023-12-25T17:32:06.996Z"
   },
   {
    "duration": 12,
    "start_time": "2023-12-25T17:32:07.017Z"
   },
   {
    "duration": 36,
    "start_time": "2023-12-25T17:32:07.030Z"
   },
   {
    "duration": 6,
    "start_time": "2023-12-25T17:32:07.067Z"
   },
   {
    "duration": 8,
    "start_time": "2023-12-25T17:32:07.074Z"
   },
   {
    "duration": 5,
    "start_time": "2023-12-25T17:32:07.083Z"
   },
   {
    "duration": 9,
    "start_time": "2023-12-25T17:32:07.089Z"
   },
   {
    "duration": 10,
    "start_time": "2023-12-25T17:32:07.099Z"
   },
   {
    "duration": 17,
    "start_time": "2023-12-25T17:32:07.111Z"
   },
   {
    "duration": 11,
    "start_time": "2023-12-25T17:32:07.129Z"
   },
   {
    "duration": 169,
    "start_time": "2023-12-25T17:32:07.142Z"
   },
   {
    "duration": 156,
    "start_time": "2023-12-25T17:32:07.313Z"
   },
   {
    "duration": 6,
    "start_time": "2023-12-25T17:32:07.470Z"
   },
   {
    "duration": 15,
    "start_time": "2023-12-25T17:32:07.478Z"
   },
   {
    "duration": 161,
    "start_time": "2023-12-25T17:32:07.495Z"
   },
   {
    "duration": 168,
    "start_time": "2023-12-25T17:32:07.657Z"
   },
   {
    "duration": 10,
    "start_time": "2023-12-25T17:32:07.827Z"
   },
   {
    "duration": 257,
    "start_time": "2023-12-25T17:32:07.839Z"
   },
   {
    "duration": 386,
    "start_time": "2023-12-25T17:32:08.098Z"
   },
   {
    "duration": 8,
    "start_time": "2023-12-25T17:32:08.487Z"
   },
   {
    "duration": 13,
    "start_time": "2023-12-25T17:32:08.496Z"
   },
   {
    "duration": 27,
    "start_time": "2023-12-25T17:32:08.510Z"
   },
   {
    "duration": 17,
    "start_time": "2023-12-25T17:32:08.539Z"
   },
   {
    "duration": 437,
    "start_time": "2023-12-25T17:32:08.558Z"
   },
   {
    "duration": 22,
    "start_time": "2023-12-25T17:32:08.997Z"
   },
   {
    "duration": 26,
    "start_time": "2023-12-25T17:32:09.020Z"
   },
   {
    "duration": 17,
    "start_time": "2023-12-25T17:32:09.066Z"
   },
   {
    "duration": 16,
    "start_time": "2023-12-25T17:32:09.084Z"
   },
   {
    "duration": 607,
    "start_time": "2023-12-25T17:32:09.102Z"
   },
   {
    "duration": 666,
    "start_time": "2023-12-25T17:32:09.710Z"
   },
   {
    "duration": 3,
    "start_time": "2023-12-25T17:32:10.377Z"
   },
   {
    "duration": 3640,
    "start_time": "2023-12-25T17:32:10.381Z"
   },
   {
    "duration": 13,
    "start_time": "2023-12-25T17:32:14.023Z"
   },
   {
    "duration": 7,
    "start_time": "2023-12-25T17:32:14.037Z"
   },
   {
    "duration": 18,
    "start_time": "2023-12-25T17:32:14.045Z"
   },
   {
    "duration": 22,
    "start_time": "2023-12-25T17:32:14.064Z"
   },
   {
    "duration": 87,
    "start_time": "2023-12-25T17:36:56.933Z"
   },
   {
    "duration": 1015,
    "start_time": "2023-12-25T17:37:06.587Z"
   },
   {
    "duration": 40,
    "start_time": "2023-12-25T17:37:07.604Z"
   },
   {
    "duration": 10,
    "start_time": "2023-12-25T17:37:07.646Z"
   },
   {
    "duration": 45,
    "start_time": "2023-12-25T17:37:07.657Z"
   },
   {
    "duration": 10,
    "start_time": "2023-12-25T17:37:07.704Z"
   },
   {
    "duration": 36,
    "start_time": "2023-12-25T17:37:07.716Z"
   },
   {
    "duration": 9,
    "start_time": "2023-12-25T17:37:07.754Z"
   },
   {
    "duration": 30,
    "start_time": "2023-12-25T17:37:07.765Z"
   },
   {
    "duration": 12,
    "start_time": "2023-12-25T17:37:07.796Z"
   },
   {
    "duration": 20,
    "start_time": "2023-12-25T17:37:07.810Z"
   },
   {
    "duration": 26,
    "start_time": "2023-12-25T17:37:07.832Z"
   },
   {
    "duration": 22,
    "start_time": "2023-12-25T17:37:07.860Z"
   },
   {
    "duration": 24,
    "start_time": "2023-12-25T17:37:07.884Z"
   },
   {
    "duration": 24,
    "start_time": "2023-12-25T17:37:07.910Z"
   },
   {
    "duration": 25,
    "start_time": "2023-12-25T17:37:07.935Z"
   },
   {
    "duration": 35,
    "start_time": "2023-12-25T17:37:07.961Z"
   },
   {
    "duration": 19,
    "start_time": "2023-12-25T17:37:07.998Z"
   },
   {
    "duration": 17,
    "start_time": "2023-12-25T17:37:08.018Z"
   },
   {
    "duration": 176,
    "start_time": "2023-12-25T17:37:08.036Z"
   },
   {
    "duration": 161,
    "start_time": "2023-12-25T17:37:08.214Z"
   },
   {
    "duration": 6,
    "start_time": "2023-12-25T17:37:08.376Z"
   },
   {
    "duration": 23,
    "start_time": "2023-12-25T17:37:08.383Z"
   },
   {
    "duration": 180,
    "start_time": "2023-12-25T17:37:08.408Z"
   },
   {
    "duration": 172,
    "start_time": "2023-12-25T17:37:08.589Z"
   },
   {
    "duration": 11,
    "start_time": "2023-12-25T17:37:08.764Z"
   },
   {
    "duration": 266,
    "start_time": "2023-12-25T17:37:08.776Z"
   },
   {
    "duration": 375,
    "start_time": "2023-12-25T17:37:09.044Z"
   },
   {
    "duration": 8,
    "start_time": "2023-12-25T17:37:09.423Z"
   },
   {
    "duration": 40,
    "start_time": "2023-12-25T17:37:09.432Z"
   },
   {
    "duration": 38,
    "start_time": "2023-12-25T17:37:09.474Z"
   },
   {
    "duration": 25,
    "start_time": "2023-12-25T17:37:09.514Z"
   },
   {
    "duration": 469,
    "start_time": "2023-12-25T17:37:09.540Z"
   },
   {
    "duration": 22,
    "start_time": "2023-12-25T17:37:10.011Z"
   },
   {
    "duration": 35,
    "start_time": "2023-12-25T17:37:10.034Z"
   },
   {
    "duration": 16,
    "start_time": "2023-12-25T17:37:10.071Z"
   },
   {
    "duration": 26,
    "start_time": "2023-12-25T17:37:10.089Z"
   },
   {
    "duration": 730,
    "start_time": "2023-12-25T17:37:10.116Z"
   },
   {
    "duration": 709,
    "start_time": "2023-12-25T17:37:10.847Z"
   },
   {
    "duration": 2,
    "start_time": "2023-12-25T17:37:11.558Z"
   },
   {
    "duration": 81,
    "start_time": "2023-12-25T17:37:11.564Z"
   },
   {
    "duration": 0,
    "start_time": "2023-12-25T17:37:11.646Z"
   },
   {
    "duration": 0,
    "start_time": "2023-12-25T17:37:11.648Z"
   },
   {
    "duration": 0,
    "start_time": "2023-12-25T17:37:11.649Z"
   },
   {
    "duration": 0,
    "start_time": "2023-12-25T17:37:11.650Z"
   },
   {
    "duration": 0,
    "start_time": "2023-12-25T17:37:11.651Z"
   },
   {
    "duration": 75,
    "start_time": "2023-12-25T17:37:16.293Z"
   },
   {
    "duration": 132,
    "start_time": "2023-12-25T17:37:26.094Z"
   },
   {
    "duration": 3,
    "start_time": "2023-12-25T17:37:36.742Z"
   },
   {
    "duration": 6,
    "start_time": "2023-12-25T17:37:38.533Z"
   },
   {
    "duration": 15,
    "start_time": "2023-12-25T17:37:40.132Z"
   },
   {
    "duration": 3795,
    "start_time": "2023-12-25T17:38:15.229Z"
   },
   {
    "duration": 14,
    "start_time": "2023-12-25T17:38:19.025Z"
   },
   {
    "duration": 3713,
    "start_time": "2023-12-25T17:38:25.294Z"
   },
   {
    "duration": 14,
    "start_time": "2023-12-25T17:38:45.679Z"
   },
   {
    "duration": 3795,
    "start_time": "2023-12-25T17:41:54.434Z"
   },
   {
    "duration": 14,
    "start_time": "2023-12-25T17:41:58.231Z"
   },
   {
    "duration": 3766,
    "start_time": "2023-12-25T17:42:41.403Z"
   },
   {
    "duration": 3836,
    "start_time": "2023-12-25T17:43:24.963Z"
   },
   {
    "duration": 3705,
    "start_time": "2023-12-25T17:43:28.801Z"
   },
   {
    "duration": 14,
    "start_time": "2023-12-25T17:43:32.508Z"
   },
   {
    "duration": 25,
    "start_time": "2023-12-25T17:43:32.523Z"
   },
   {
    "duration": 3785,
    "start_time": "2023-12-25T17:43:37.051Z"
   },
   {
    "duration": 14,
    "start_time": "2023-12-25T17:43:41.186Z"
   },
   {
    "duration": 1070,
    "start_time": "2023-12-25T17:43:58.630Z"
   },
   {
    "duration": 39,
    "start_time": "2023-12-25T17:43:59.702Z"
   },
   {
    "duration": 9,
    "start_time": "2023-12-25T17:43:59.743Z"
   },
   {
    "duration": 36,
    "start_time": "2023-12-25T17:43:59.754Z"
   },
   {
    "duration": 10,
    "start_time": "2023-12-25T17:43:59.791Z"
   },
   {
    "duration": 18,
    "start_time": "2023-12-25T17:43:59.802Z"
   },
   {
    "duration": 8,
    "start_time": "2023-12-25T17:43:59.822Z"
   },
   {
    "duration": 23,
    "start_time": "2023-12-25T17:43:59.831Z"
   },
   {
    "duration": 12,
    "start_time": "2023-12-25T17:43:59.856Z"
   },
   {
    "duration": 10,
    "start_time": "2023-12-25T17:43:59.870Z"
   },
   {
    "duration": 7,
    "start_time": "2023-12-25T17:43:59.881Z"
   },
   {
    "duration": 5,
    "start_time": "2023-12-25T17:43:59.889Z"
   },
   {
    "duration": 2,
    "start_time": "2023-12-25T17:43:59.895Z"
   },
   {
    "duration": 10,
    "start_time": "2023-12-25T17:43:59.898Z"
   },
   {
    "duration": 7,
    "start_time": "2023-12-25T17:43:59.909Z"
   },
   {
    "duration": 5,
    "start_time": "2023-12-25T17:43:59.917Z"
   },
   {
    "duration": 9,
    "start_time": "2023-12-25T17:43:59.923Z"
   },
   {
    "duration": 10,
    "start_time": "2023-12-25T17:43:59.933Z"
   },
   {
    "duration": 177,
    "start_time": "2023-12-25T17:43:59.945Z"
   },
   {
    "duration": 163,
    "start_time": "2023-12-25T17:44:00.123Z"
   },
   {
    "duration": 7,
    "start_time": "2023-12-25T17:44:00.287Z"
   },
   {
    "duration": 29,
    "start_time": "2023-12-25T17:44:00.295Z"
   },
   {
    "duration": 159,
    "start_time": "2023-12-25T17:44:00.325Z"
   },
   {
    "duration": 177,
    "start_time": "2023-12-25T17:44:00.485Z"
   },
   {
    "duration": 10,
    "start_time": "2023-12-25T17:44:00.666Z"
   },
   {
    "duration": 277,
    "start_time": "2023-12-25T17:44:00.678Z"
   },
   {
    "duration": 359,
    "start_time": "2023-12-25T17:44:00.957Z"
   },
   {
    "duration": 8,
    "start_time": "2023-12-25T17:44:01.319Z"
   },
   {
    "duration": 41,
    "start_time": "2023-12-25T17:44:01.329Z"
   },
   {
    "duration": 33,
    "start_time": "2023-12-25T17:44:01.372Z"
   },
   {
    "duration": 46,
    "start_time": "2023-12-25T17:44:01.407Z"
   },
   {
    "duration": 504,
    "start_time": "2023-12-25T17:44:01.455Z"
   },
   {
    "duration": 24,
    "start_time": "2023-12-25T17:44:01.961Z"
   },
   {
    "duration": 34,
    "start_time": "2023-12-25T17:44:01.986Z"
   },
   {
    "duration": 19,
    "start_time": "2023-12-25T17:44:02.022Z"
   },
   {
    "duration": 39,
    "start_time": "2023-12-25T17:44:02.043Z"
   },
   {
    "duration": 633,
    "start_time": "2023-12-25T17:44:02.084Z"
   },
   {
    "duration": 706,
    "start_time": "2023-12-25T17:44:02.719Z"
   },
   {
    "duration": 2,
    "start_time": "2023-12-25T17:44:03.427Z"
   },
   {
    "duration": 3644,
    "start_time": "2023-12-25T17:44:03.431Z"
   },
   {
    "duration": 94,
    "start_time": "2023-12-25T17:44:07.077Z"
   },
   {
    "duration": 0,
    "start_time": "2023-12-25T17:44:07.173Z"
   },
   {
    "duration": 1,
    "start_time": "2023-12-25T17:44:07.174Z"
   },
   {
    "duration": 0,
    "start_time": "2023-12-25T17:44:07.176Z"
   },
   {
    "duration": 0,
    "start_time": "2023-12-25T17:44:07.178Z"
   },
   {
    "duration": 0,
    "start_time": "2023-12-25T17:44:07.179Z"
   },
   {
    "duration": 3,
    "start_time": "2023-12-25T17:45:02.814Z"
   },
   {
    "duration": 3643,
    "start_time": "2023-12-25T17:45:05.349Z"
   },
   {
    "duration": 15,
    "start_time": "2023-12-25T17:45:08.994Z"
   },
   {
    "duration": 999,
    "start_time": "2023-12-25T17:45:27.124Z"
   },
   {
    "duration": 39,
    "start_time": "2023-12-25T17:45:28.124Z"
   },
   {
    "duration": 10,
    "start_time": "2023-12-25T17:45:28.164Z"
   },
   {
    "duration": 35,
    "start_time": "2023-12-25T17:45:28.176Z"
   },
   {
    "duration": 10,
    "start_time": "2023-12-25T17:45:28.213Z"
   },
   {
    "duration": 19,
    "start_time": "2023-12-25T17:45:28.224Z"
   },
   {
    "duration": 9,
    "start_time": "2023-12-25T17:45:28.244Z"
   },
   {
    "duration": 18,
    "start_time": "2023-12-25T17:45:28.255Z"
   },
   {
    "duration": 11,
    "start_time": "2023-12-25T17:45:28.275Z"
   },
   {
    "duration": 9,
    "start_time": "2023-12-25T17:45:28.289Z"
   },
   {
    "duration": 5,
    "start_time": "2023-12-25T17:45:28.299Z"
   },
   {
    "duration": 6,
    "start_time": "2023-12-25T17:45:28.305Z"
   },
   {
    "duration": 3,
    "start_time": "2023-12-25T17:45:28.312Z"
   },
   {
    "duration": 9,
    "start_time": "2023-12-25T17:45:28.316Z"
   },
   {
    "duration": 10,
    "start_time": "2023-12-25T17:45:28.326Z"
   },
   {
    "duration": 4,
    "start_time": "2023-12-25T17:45:28.366Z"
   },
   {
    "duration": 18,
    "start_time": "2023-12-25T17:45:28.371Z"
   },
   {
    "duration": 7,
    "start_time": "2023-12-25T17:45:28.391Z"
   },
   {
    "duration": 168,
    "start_time": "2023-12-25T17:45:28.400Z"
   },
   {
    "duration": 160,
    "start_time": "2023-12-25T17:45:28.569Z"
   },
   {
    "duration": 7,
    "start_time": "2023-12-25T17:45:28.731Z"
   },
   {
    "duration": 10,
    "start_time": "2023-12-25T17:45:28.739Z"
   },
   {
    "duration": 165,
    "start_time": "2023-12-25T17:45:28.765Z"
   },
   {
    "duration": 174,
    "start_time": "2023-12-25T17:45:28.931Z"
   },
   {
    "duration": 12,
    "start_time": "2023-12-25T17:45:29.107Z"
   },
   {
    "duration": 261,
    "start_time": "2023-12-25T17:45:29.120Z"
   },
   {
    "duration": 386,
    "start_time": "2023-12-25T17:45:29.383Z"
   },
   {
    "duration": 8,
    "start_time": "2023-12-25T17:45:29.772Z"
   },
   {
    "duration": 16,
    "start_time": "2023-12-25T17:45:29.781Z"
   },
   {
    "duration": 7,
    "start_time": "2023-12-25T17:45:29.798Z"
   },
   {
    "duration": 10,
    "start_time": "2023-12-25T17:45:29.806Z"
   },
   {
    "duration": 455,
    "start_time": "2023-12-25T17:45:29.817Z"
   },
   {
    "duration": 21,
    "start_time": "2023-12-25T17:45:30.274Z"
   },
   {
    "duration": 70,
    "start_time": "2023-12-25T17:45:30.297Z"
   },
   {
    "duration": 31,
    "start_time": "2023-12-25T17:45:30.368Z"
   },
   {
    "duration": 53,
    "start_time": "2023-12-25T17:45:30.401Z"
   },
   {
    "duration": 616,
    "start_time": "2023-12-25T17:45:30.456Z"
   },
   {
    "duration": 687,
    "start_time": "2023-12-25T17:45:31.074Z"
   },
   {
    "duration": 4,
    "start_time": "2023-12-25T17:45:31.762Z"
   },
   {
    "duration": 37,
    "start_time": "2023-12-25T17:45:31.767Z"
   },
   {
    "duration": 33,
    "start_time": "2023-12-25T17:45:31.806Z"
   },
   {
    "duration": 51,
    "start_time": "2023-12-25T17:45:31.840Z"
   },
   {
    "duration": 26,
    "start_time": "2023-12-25T17:45:31.893Z"
   },
   {
    "duration": 24,
    "start_time": "2023-12-25T17:45:31.921Z"
   },
   {
    "duration": 10,
    "start_time": "2023-12-25T17:45:31.946Z"
   },
   {
    "duration": 47,
    "start_time": "2023-12-25T17:45:31.957Z"
   },
   {
    "duration": 14,
    "start_time": "2023-12-25T17:45:40.149Z"
   },
   {
    "duration": 3,
    "start_time": "2023-12-25T17:47:24.152Z"
   },
   {
    "duration": 3597,
    "start_time": "2023-12-25T17:47:35.296Z"
   },
   {
    "duration": 13,
    "start_time": "2023-12-25T17:47:38.895Z"
   },
   {
    "duration": 7261,
    "start_time": "2023-12-25T17:49:06.786Z"
   },
   {
    "duration": 0,
    "start_time": "2023-12-25T17:49:14.048Z"
   },
   {
    "duration": 10730,
    "start_time": "2023-12-25T17:49:19.730Z"
   },
   {
    "duration": 18,
    "start_time": "2023-12-25T17:49:30.462Z"
   },
   {
    "duration": 4,
    "start_time": "2023-12-25T17:59:47.347Z"
   },
   {
    "duration": 84,
    "start_time": "2023-12-25T17:59:49.116Z"
   },
   {
    "duration": 3,
    "start_time": "2023-12-25T17:59:58.766Z"
   },
   {
    "duration": 2,
    "start_time": "2023-12-25T18:00:00.300Z"
   },
   {
    "duration": 4,
    "start_time": "2023-12-25T18:00:01.220Z"
   },
   {
    "duration": 10879,
    "start_time": "2023-12-25T18:00:01.799Z"
   },
   {
    "duration": 20,
    "start_time": "2023-12-25T18:00:12.680Z"
   },
   {
    "duration": 83,
    "start_time": "2023-12-25T18:02:17.974Z"
   },
   {
    "duration": 102,
    "start_time": "2023-12-25T18:02:30.560Z"
   },
   {
    "duration": 16,
    "start_time": "2023-12-25T18:02:51.441Z"
   },
   {
    "duration": 25,
    "start_time": "2023-12-25T18:02:59.447Z"
   },
   {
    "duration": 8,
    "start_time": "2023-12-25T18:03:56.593Z"
   },
   {
    "duration": 7,
    "start_time": "2023-12-25T18:04:02.296Z"
   },
   {
    "duration": 4,
    "start_time": "2023-12-25T18:05:39.371Z"
   },
   {
    "duration": 5,
    "start_time": "2023-12-25T18:09:28.030Z"
   },
   {
    "duration": 4,
    "start_time": "2023-12-25T18:09:51.639Z"
   },
   {
    "duration": 22543,
    "start_time": "2023-12-25T18:16:39.285Z"
   },
   {
    "duration": 23,
    "start_time": "2023-12-25T18:17:03.710Z"
   },
   {
    "duration": 124807,
    "start_time": "2023-12-25T18:19:04.856Z"
   },
   {
    "duration": 22,
    "start_time": "2023-12-25T18:21:14.226Z"
   },
   {
    "duration": 8,
    "start_time": "2023-12-25T18:28:48.034Z"
   },
   {
    "duration": 7,
    "start_time": "2023-12-25T18:28:55.355Z"
   },
   {
    "duration": 12,
    "start_time": "2023-12-25T18:31:56.062Z"
   },
   {
    "duration": 9,
    "start_time": "2023-12-25T18:32:01.405Z"
   },
   {
    "duration": 10,
    "start_time": "2023-12-25T18:32:22.942Z"
   },
   {
    "duration": 8,
    "start_time": "2023-12-25T18:32:28.783Z"
   },
   {
    "duration": 8,
    "start_time": "2023-12-25T18:32:43.279Z"
   },
   {
    "duration": 8,
    "start_time": "2023-12-25T18:32:48.711Z"
   },
   {
    "duration": 13,
    "start_time": "2023-12-25T18:33:02.023Z"
   },
   {
    "duration": 7,
    "start_time": "2023-12-25T18:33:07.953Z"
   },
   {
    "duration": 8,
    "start_time": "2023-12-25T18:33:17.607Z"
   },
   {
    "duration": 9,
    "start_time": "2023-12-25T18:33:28.319Z"
   },
   {
    "duration": 15,
    "start_time": "2023-12-25T18:34:40.408Z"
   },
   {
    "duration": 6,
    "start_time": "2023-12-25T18:34:59.425Z"
   },
   {
    "duration": 9,
    "start_time": "2023-12-25T18:36:43.867Z"
   },
   {
    "duration": 3,
    "start_time": "2023-12-25T18:36:46.403Z"
   },
   {
    "duration": 109911,
    "start_time": "2023-12-25T18:36:47.611Z"
   },
   {
    "duration": 21,
    "start_time": "2023-12-25T18:38:37.524Z"
   },
   {
    "duration": 11,
    "start_time": "2023-12-25T18:42:28.706Z"
   },
   {
    "duration": 7,
    "start_time": "2023-12-25T18:42:36.994Z"
   },
   {
    "duration": 18,
    "start_time": "2023-12-25T18:42:39.873Z"
   },
   {
    "duration": 21,
    "start_time": "2023-12-25T18:43:49.938Z"
   },
   {
    "duration": 23,
    "start_time": "2023-12-25T18:46:07.684Z"
   },
   {
    "duration": 23,
    "start_time": "2023-12-25T18:46:17.205Z"
   },
   {
    "duration": 1043,
    "start_time": "2023-12-25T18:46:26.072Z"
   },
   {
    "duration": 40,
    "start_time": "2023-12-25T18:46:27.117Z"
   },
   {
    "duration": 9,
    "start_time": "2023-12-25T18:46:27.159Z"
   },
   {
    "duration": 38,
    "start_time": "2023-12-25T18:46:27.170Z"
   },
   {
    "duration": 10,
    "start_time": "2023-12-25T18:46:27.210Z"
   },
   {
    "duration": 25,
    "start_time": "2023-12-25T18:46:27.221Z"
   },
   {
    "duration": 9,
    "start_time": "2023-12-25T18:46:27.248Z"
   },
   {
    "duration": 18,
    "start_time": "2023-12-25T18:46:27.258Z"
   },
   {
    "duration": 19,
    "start_time": "2023-12-25T18:46:27.278Z"
   },
   {
    "duration": 10,
    "start_time": "2023-12-25T18:46:27.300Z"
   },
   {
    "duration": 5,
    "start_time": "2023-12-25T18:46:27.312Z"
   },
   {
    "duration": 8,
    "start_time": "2023-12-25T18:46:27.319Z"
   },
   {
    "duration": 7,
    "start_time": "2023-12-25T18:46:27.328Z"
   },
   {
    "duration": 5,
    "start_time": "2023-12-25T18:46:27.336Z"
   },
   {
    "duration": 24,
    "start_time": "2023-12-25T18:46:27.342Z"
   },
   {
    "duration": 6,
    "start_time": "2023-12-25T18:46:27.368Z"
   },
   {
    "duration": 9,
    "start_time": "2023-12-25T18:46:27.376Z"
   },
   {
    "duration": 6,
    "start_time": "2023-12-25T18:46:27.386Z"
   },
   {
    "duration": 173,
    "start_time": "2023-12-25T18:46:27.394Z"
   },
   {
    "duration": 167,
    "start_time": "2023-12-25T18:46:27.568Z"
   },
   {
    "duration": 7,
    "start_time": "2023-12-25T18:46:27.737Z"
   },
   {
    "duration": 26,
    "start_time": "2023-12-25T18:46:27.745Z"
   },
   {
    "duration": 159,
    "start_time": "2023-12-25T18:46:27.773Z"
   },
   {
    "duration": 170,
    "start_time": "2023-12-25T18:46:27.934Z"
   },
   {
    "duration": 12,
    "start_time": "2023-12-25T18:46:28.105Z"
   },
   {
    "duration": 264,
    "start_time": "2023-12-25T18:46:28.118Z"
   },
   {
    "duration": 382,
    "start_time": "2023-12-25T18:46:28.384Z"
   },
   {
    "duration": 8,
    "start_time": "2023-12-25T18:46:28.769Z"
   },
   {
    "duration": 24,
    "start_time": "2023-12-25T18:46:28.778Z"
   },
   {
    "duration": 25,
    "start_time": "2023-12-25T18:46:28.803Z"
   },
   {
    "duration": 18,
    "start_time": "2023-12-25T18:46:28.830Z"
   },
   {
    "duration": 429,
    "start_time": "2023-12-25T18:46:28.849Z"
   },
   {
    "duration": 22,
    "start_time": "2023-12-25T18:46:29.280Z"
   },
   {
    "duration": 36,
    "start_time": "2023-12-25T18:46:29.304Z"
   },
   {
    "duration": 29,
    "start_time": "2023-12-25T18:46:29.341Z"
   },
   {
    "duration": 18,
    "start_time": "2023-12-25T18:46:29.371Z"
   },
   {
    "duration": 582,
    "start_time": "2023-12-25T18:46:29.390Z"
   },
   {
    "duration": 701,
    "start_time": "2023-12-25T18:46:29.973Z"
   },
   {
    "duration": 2,
    "start_time": "2023-12-25T18:46:30.675Z"
   },
   {
    "duration": 41,
    "start_time": "2023-12-25T18:46:30.679Z"
   },
   {
    "duration": 43,
    "start_time": "2023-12-25T18:46:30.722Z"
   },
   {
    "duration": 55,
    "start_time": "2023-12-25T18:46:30.766Z"
   },
   {
    "duration": 52,
    "start_time": "2023-12-25T18:46:30.823Z"
   },
   {
    "duration": 157,
    "start_time": "2023-12-25T18:46:30.877Z"
   },
   {
    "duration": 0,
    "start_time": "2023-12-25T18:46:31.036Z"
   },
   {
    "duration": 0,
    "start_time": "2023-12-25T18:46:31.037Z"
   },
   {
    "duration": 0,
    "start_time": "2023-12-25T18:46:31.038Z"
   },
   {
    "duration": 0,
    "start_time": "2023-12-25T18:46:31.039Z"
   },
   {
    "duration": 0,
    "start_time": "2023-12-25T18:46:31.040Z"
   },
   {
    "duration": 0,
    "start_time": "2023-12-25T18:46:31.041Z"
   },
   {
    "duration": 1075,
    "start_time": "2023-12-25T18:46:46.341Z"
   },
   {
    "duration": 40,
    "start_time": "2023-12-25T18:46:47.418Z"
   },
   {
    "duration": 9,
    "start_time": "2023-12-25T18:46:47.460Z"
   },
   {
    "duration": 40,
    "start_time": "2023-12-25T18:46:47.471Z"
   },
   {
    "duration": 11,
    "start_time": "2023-12-25T18:46:47.512Z"
   },
   {
    "duration": 19,
    "start_time": "2023-12-25T18:46:47.524Z"
   },
   {
    "duration": 9,
    "start_time": "2023-12-25T18:46:47.545Z"
   },
   {
    "duration": 19,
    "start_time": "2023-12-25T18:46:47.555Z"
   },
   {
    "duration": 12,
    "start_time": "2023-12-25T18:46:47.575Z"
   },
   {
    "duration": 9,
    "start_time": "2023-12-25T18:46:47.589Z"
   },
   {
    "duration": 5,
    "start_time": "2023-12-25T18:46:47.599Z"
   },
   {
    "duration": 5,
    "start_time": "2023-12-25T18:46:47.605Z"
   },
   {
    "duration": 2,
    "start_time": "2023-12-25T18:46:47.611Z"
   },
   {
    "duration": 6,
    "start_time": "2023-12-25T18:46:47.614Z"
   },
   {
    "duration": 8,
    "start_time": "2023-12-25T18:46:47.621Z"
   },
   {
    "duration": 37,
    "start_time": "2023-12-25T18:46:47.630Z"
   },
   {
    "duration": 17,
    "start_time": "2023-12-25T18:46:47.669Z"
   },
   {
    "duration": 11,
    "start_time": "2023-12-25T18:46:47.688Z"
   },
   {
    "duration": 167,
    "start_time": "2023-12-25T18:46:47.700Z"
   },
   {
    "duration": 168,
    "start_time": "2023-12-25T18:46:47.869Z"
   },
   {
    "duration": 6,
    "start_time": "2023-12-25T18:46:48.039Z"
   },
   {
    "duration": 22,
    "start_time": "2023-12-25T18:46:48.047Z"
   },
   {
    "duration": 156,
    "start_time": "2023-12-25T18:46:48.071Z"
   },
   {
    "duration": 181,
    "start_time": "2023-12-25T18:46:48.228Z"
   },
   {
    "duration": 11,
    "start_time": "2023-12-25T18:46:48.411Z"
   },
   {
    "duration": 267,
    "start_time": "2023-12-25T18:46:48.423Z"
   },
   {
    "duration": 370,
    "start_time": "2023-12-25T18:46:48.691Z"
   },
   {
    "duration": 8,
    "start_time": "2023-12-25T18:46:49.069Z"
   },
   {
    "duration": 24,
    "start_time": "2023-12-25T18:46:49.078Z"
   },
   {
    "duration": 26,
    "start_time": "2023-12-25T18:46:49.103Z"
   },
   {
    "duration": 94,
    "start_time": "2023-12-25T18:46:49.131Z"
   },
   {
    "duration": 364,
    "start_time": "2023-12-25T18:46:49.227Z"
   },
   {
    "duration": 23,
    "start_time": "2023-12-25T18:46:49.592Z"
   },
   {
    "duration": 28,
    "start_time": "2023-12-25T18:46:49.617Z"
   },
   {
    "duration": 18,
    "start_time": "2023-12-25T18:46:49.666Z"
   },
   {
    "duration": 18,
    "start_time": "2023-12-25T18:46:49.686Z"
   },
   {
    "duration": 597,
    "start_time": "2023-12-25T18:46:49.706Z"
   },
   {
    "duration": 709,
    "start_time": "2023-12-25T18:46:50.305Z"
   },
   {
    "duration": 3,
    "start_time": "2023-12-25T18:46:51.016Z"
   },
   {
    "duration": 4,
    "start_time": "2023-12-25T18:46:51.021Z"
   },
   {
    "duration": 2,
    "start_time": "2023-12-25T18:46:51.027Z"
   },
   {
    "duration": 5,
    "start_time": "2023-12-25T18:46:51.031Z"
   },
   {
    "duration": 7,
    "start_time": "2023-12-25T18:46:51.038Z"
   },
   {
    "duration": 104417,
    "start_time": "2023-12-25T18:46:51.046Z"
   },
   {
    "duration": 4,
    "start_time": "2023-12-25T18:48:35.465Z"
   },
   {
    "duration": 23,
    "start_time": "2023-12-25T18:48:35.471Z"
   },
   {
    "duration": 22,
    "start_time": "2023-12-25T18:48:35.496Z"
   },
   {
    "duration": 26,
    "start_time": "2023-12-25T18:48:35.519Z"
   },
   {
    "duration": 2,
    "start_time": "2023-12-25T18:48:35.546Z"
   },
   {
    "duration": 16,
    "start_time": "2023-12-25T18:48:35.550Z"
   },
   {
    "duration": 1283,
    "start_time": "2023-12-25T19:58:36.767Z"
   },
   {
    "duration": 1103,
    "start_time": "2023-12-25T19:58:50.775Z"
   },
   {
    "duration": 1229,
    "start_time": "2023-12-25T19:59:49.175Z"
   },
   {
    "duration": 959,
    "start_time": "2023-12-25T20:00:06.688Z"
   },
   {
    "duration": 6,
    "start_time": "2023-12-25T20:00:55.385Z"
   },
   {
    "duration": 19,
    "start_time": "2023-12-25T20:03:17.451Z"
   },
   {
    "duration": 156,
    "start_time": "2023-12-25T20:03:39.459Z"
   },
   {
    "duration": 124,
    "start_time": "2023-12-25T20:04:09.188Z"
   },
   {
    "duration": 135,
    "start_time": "2023-12-25T20:04:15.084Z"
   },
   {
    "duration": 128,
    "start_time": "2023-12-25T20:04:27.116Z"
   },
   {
    "duration": 125,
    "start_time": "2023-12-25T20:04:30.861Z"
   },
   {
    "duration": 139,
    "start_time": "2023-12-25T20:04:33.572Z"
   },
   {
    "duration": 134,
    "start_time": "2023-12-25T20:04:36.204Z"
   },
   {
    "duration": 223,
    "start_time": "2023-12-25T20:04:38.948Z"
   },
   {
    "duration": 4459,
    "start_time": "2023-12-25T20:04:59.604Z"
   },
   {
    "duration": 4428,
    "start_time": "2023-12-25T20:05:14.717Z"
   },
   {
    "duration": 588,
    "start_time": "2023-12-25T20:05:24.068Z"
   },
   {
    "duration": 361,
    "start_time": "2023-12-25T20:05:35.165Z"
   },
   {
    "duration": 261,
    "start_time": "2023-12-25T20:05:42.277Z"
   },
   {
    "duration": 526,
    "start_time": "2023-12-25T20:08:33.617Z"
   },
   {
    "duration": 794,
    "start_time": "2023-12-25T20:08:51.762Z"
   },
   {
    "duration": 840,
    "start_time": "2023-12-25T20:08:58.554Z"
   },
   {
    "duration": 870,
    "start_time": "2023-12-25T20:09:10.363Z"
   },
   {
    "duration": 687,
    "start_time": "2023-12-25T20:09:14.216Z"
   },
   {
    "duration": 20,
    "start_time": "2023-12-25T20:10:21.138Z"
   },
   {
    "duration": 18,
    "start_time": "2023-12-25T20:10:42.371Z"
   },
   {
    "duration": 206,
    "start_time": "2023-12-25T20:10:56.747Z"
   },
   {
    "duration": 102,
    "start_time": "2023-12-25T20:11:03.636Z"
   },
   {
    "duration": 92,
    "start_time": "2023-12-25T20:11:08.907Z"
   },
   {
    "duration": 111,
    "start_time": "2023-12-25T20:11:14.964Z"
   },
   {
    "duration": 97,
    "start_time": "2023-12-25T20:11:19.540Z"
   },
   {
    "duration": 95,
    "start_time": "2023-12-25T20:11:27.203Z"
   },
   {
    "duration": 25,
    "start_time": "2023-12-25T20:11:46.483Z"
   },
   {
    "duration": 14,
    "start_time": "2023-12-25T20:12:04.691Z"
   },
   {
    "duration": 19,
    "start_time": "2023-12-25T20:12:16.813Z"
   },
   {
    "duration": 18,
    "start_time": "2023-12-25T20:12:21.348Z"
   },
   {
    "duration": 693,
    "start_time": "2023-12-25T20:12:41.870Z"
   },
   {
    "duration": 127,
    "start_time": "2023-12-25T20:12:49.997Z"
   },
   {
    "duration": 328,
    "start_time": "2023-12-25T20:12:58.597Z"
   },
   {
    "duration": 172,
    "start_time": "2023-12-25T20:13:04.725Z"
   },
   {
    "duration": 137,
    "start_time": "2023-12-25T20:13:43.855Z"
   },
   {
    "duration": 101,
    "start_time": "2023-12-25T20:13:55.221Z"
   },
   {
    "duration": 176,
    "start_time": "2023-12-25T20:14:21.071Z"
   },
   {
    "duration": 19,
    "start_time": "2023-12-25T20:14:36.896Z"
   },
   {
    "duration": 19,
    "start_time": "2023-12-25T20:14:41.008Z"
   },
   {
    "duration": 169,
    "start_time": "2023-12-25T20:14:57.486Z"
   },
   {
    "duration": 1204,
    "start_time": "2023-12-26T05:39:48.357Z"
   },
   {
    "duration": 93,
    "start_time": "2023-12-26T05:39:49.563Z"
   },
   {
    "duration": 10,
    "start_time": "2023-12-26T05:39:49.657Z"
   },
   {
    "duration": 74,
    "start_time": "2023-12-26T05:39:49.669Z"
   },
   {
    "duration": 11,
    "start_time": "2023-12-26T05:39:49.745Z"
   },
   {
    "duration": 55,
    "start_time": "2023-12-26T05:39:49.758Z"
   },
   {
    "duration": 9,
    "start_time": "2023-12-26T05:39:49.815Z"
   },
   {
    "duration": 27,
    "start_time": "2023-12-26T05:39:49.826Z"
   },
   {
    "duration": 17,
    "start_time": "2023-12-26T05:39:49.855Z"
   },
   {
    "duration": 10,
    "start_time": "2023-12-26T05:39:49.875Z"
   },
   {
    "duration": 6,
    "start_time": "2023-12-26T05:39:49.886Z"
   },
   {
    "duration": 22,
    "start_time": "2023-12-26T05:39:49.893Z"
   },
   {
    "duration": 16,
    "start_time": "2023-12-26T05:39:49.916Z"
   },
   {
    "duration": 5,
    "start_time": "2023-12-26T05:39:49.934Z"
   },
   {
    "duration": 7,
    "start_time": "2023-12-26T05:39:49.941Z"
   },
   {
    "duration": 27,
    "start_time": "2023-12-26T05:39:49.949Z"
   },
   {
    "duration": 18,
    "start_time": "2023-12-26T05:39:49.977Z"
   },
   {
    "duration": 10,
    "start_time": "2023-12-26T05:39:49.996Z"
   },
   {
    "duration": 153,
    "start_time": "2023-12-26T05:39:50.008Z"
   },
   {
    "duration": 159,
    "start_time": "2023-12-26T05:39:50.162Z"
   },
   {
    "duration": 6,
    "start_time": "2023-12-26T05:39:50.323Z"
   },
   {
    "duration": 12,
    "start_time": "2023-12-26T05:39:50.330Z"
   },
   {
    "duration": 169,
    "start_time": "2023-12-26T05:39:50.343Z"
   },
   {
    "duration": 181,
    "start_time": "2023-12-26T05:39:50.514Z"
   },
   {
    "duration": 16,
    "start_time": "2023-12-26T05:39:50.696Z"
   },
   {
    "duration": 264,
    "start_time": "2023-12-26T05:39:50.714Z"
   },
   {
    "duration": 383,
    "start_time": "2023-12-26T05:39:50.980Z"
   },
   {
    "duration": 7,
    "start_time": "2023-12-26T05:39:51.367Z"
   },
   {
    "duration": 48,
    "start_time": "2023-12-26T05:39:51.376Z"
   },
   {
    "duration": 35,
    "start_time": "2023-12-26T05:39:51.425Z"
   },
   {
    "duration": 118,
    "start_time": "2023-12-26T05:39:51.461Z"
   },
   {
    "duration": 411,
    "start_time": "2023-12-26T05:39:51.581Z"
   },
   {
    "duration": 27,
    "start_time": "2023-12-26T05:39:51.994Z"
   },
   {
    "duration": 33,
    "start_time": "2023-12-26T05:39:52.023Z"
   },
   {
    "duration": 36,
    "start_time": "2023-12-26T05:39:52.058Z"
   },
   {
    "duration": 34,
    "start_time": "2023-12-26T05:39:52.095Z"
   },
   {
    "duration": 653,
    "start_time": "2023-12-26T05:39:52.130Z"
   },
   {
    "duration": 672,
    "start_time": "2023-12-26T05:39:52.784Z"
   },
   {
    "duration": 3,
    "start_time": "2023-12-26T05:39:53.457Z"
   },
   {
    "duration": 26,
    "start_time": "2023-12-26T05:39:53.461Z"
   },
   {
    "duration": 11,
    "start_time": "2023-12-26T05:39:53.488Z"
   },
   {
    "duration": 24,
    "start_time": "2023-12-26T05:39:53.501Z"
   },
   {
    "duration": 10,
    "start_time": "2023-12-26T05:39:53.527Z"
   },
   {
    "duration": 103240,
    "start_time": "2023-12-26T05:39:53.538Z"
   },
   {
    "duration": 4,
    "start_time": "2023-12-26T05:41:36.780Z"
   },
   {
    "duration": 17,
    "start_time": "2023-12-26T05:41:36.785Z"
   },
   {
    "duration": 11,
    "start_time": "2023-12-26T05:41:36.803Z"
   },
   {
    "duration": 21,
    "start_time": "2023-12-26T05:41:36.816Z"
   },
   {
    "duration": 2,
    "start_time": "2023-12-26T05:41:36.839Z"
   },
   {
    "duration": 11,
    "start_time": "2023-12-26T05:41:36.842Z"
   },
   {
    "duration": 1065,
    "start_time": "2023-12-26T06:50:31.794Z"
   },
   {
    "duration": 39,
    "start_time": "2023-12-26T06:50:32.861Z"
   },
   {
    "duration": 10,
    "start_time": "2023-12-26T06:50:32.902Z"
   },
   {
    "duration": 43,
    "start_time": "2023-12-26T06:50:32.914Z"
   },
   {
    "duration": 11,
    "start_time": "2023-12-26T06:50:32.958Z"
   },
   {
    "duration": 20,
    "start_time": "2023-12-26T06:50:32.971Z"
   },
   {
    "duration": 8,
    "start_time": "2023-12-26T06:50:32.993Z"
   },
   {
    "duration": 31,
    "start_time": "2023-12-26T06:50:33.003Z"
   },
   {
    "duration": 12,
    "start_time": "2023-12-26T06:50:33.036Z"
   },
   {
    "duration": 19,
    "start_time": "2023-12-26T06:50:33.050Z"
   },
   {
    "duration": 30,
    "start_time": "2023-12-26T06:50:33.071Z"
   },
   {
    "duration": 6,
    "start_time": "2023-12-26T06:50:33.103Z"
   },
   {
    "duration": 7,
    "start_time": "2023-12-26T06:50:33.110Z"
   },
   {
    "duration": 23,
    "start_time": "2023-12-26T06:50:33.118Z"
   },
   {
    "duration": 21,
    "start_time": "2023-12-26T06:50:33.143Z"
   },
   {
    "duration": 13,
    "start_time": "2023-12-26T06:50:33.165Z"
   },
   {
    "duration": 23,
    "start_time": "2023-12-26T06:50:33.180Z"
   },
   {
    "duration": 13,
    "start_time": "2023-12-26T06:50:33.205Z"
   },
   {
    "duration": 170,
    "start_time": "2023-12-26T06:50:33.220Z"
   },
   {
    "duration": 160,
    "start_time": "2023-12-26T06:50:33.392Z"
   },
   {
    "duration": 7,
    "start_time": "2023-12-26T06:50:33.553Z"
   },
   {
    "duration": 21,
    "start_time": "2023-12-26T06:50:33.561Z"
   },
   {
    "duration": 187,
    "start_time": "2023-12-26T06:50:33.584Z"
   },
   {
    "duration": 175,
    "start_time": "2023-12-26T06:50:33.773Z"
   },
   {
    "duration": 12,
    "start_time": "2023-12-26T06:50:33.950Z"
   },
   {
    "duration": 265,
    "start_time": "2023-12-26T06:50:33.964Z"
   },
   {
    "duration": 369,
    "start_time": "2023-12-26T06:50:34.231Z"
   },
   {
    "duration": 11,
    "start_time": "2023-12-26T06:50:34.603Z"
   },
   {
    "duration": 19,
    "start_time": "2023-12-26T06:50:34.616Z"
   },
   {
    "duration": 8,
    "start_time": "2023-12-26T06:50:34.636Z"
   },
   {
    "duration": 8,
    "start_time": "2023-12-26T06:50:34.645Z"
   },
   {
    "duration": 476,
    "start_time": "2023-12-26T06:50:34.655Z"
   },
   {
    "duration": 23,
    "start_time": "2023-12-26T06:50:35.133Z"
   },
   {
    "duration": 26,
    "start_time": "2023-12-26T06:50:35.158Z"
   },
   {
    "duration": 42,
    "start_time": "2023-12-26T06:50:35.186Z"
   },
   {
    "duration": 17,
    "start_time": "2023-12-26T06:50:35.229Z"
   },
   {
    "duration": 655,
    "start_time": "2023-12-26T06:50:35.248Z"
   },
   {
    "duration": 685,
    "start_time": "2023-12-26T06:50:35.904Z"
   },
   {
    "duration": 102882,
    "start_time": "2023-12-26T06:50:36.591Z"
   },
   {
    "duration": 2,
    "start_time": "2023-12-26T06:52:19.475Z"
   },
   {
    "duration": 70,
    "start_time": "2023-12-26T06:52:19.479Z"
   },
   {
    "duration": 47,
    "start_time": "2023-12-26T06:52:19.550Z"
   },
   {
    "duration": 51,
    "start_time": "2023-12-26T06:52:19.599Z"
   },
   {
    "duration": 51,
    "start_time": "2023-12-26T06:52:19.652Z"
   },
   {
    "duration": 19,
    "start_time": "2023-12-26T06:52:26.827Z"
   },
   {
    "duration": 28,
    "start_time": "2023-12-26T06:52:53.742Z"
   },
   {
    "duration": 25,
    "start_time": "2023-12-26T06:53:15.366Z"
   },
   {
    "duration": 19,
    "start_time": "2023-12-26T06:53:39.175Z"
   },
   {
    "duration": 4,
    "start_time": "2023-12-26T06:53:50.967Z"
   },
   {
    "duration": 18,
    "start_time": "2023-12-26T06:53:55.751Z"
   },
   {
    "duration": 18,
    "start_time": "2023-12-26T06:54:30.624Z"
   },
   {
    "duration": 31,
    "start_time": "2023-12-26T06:54:40.992Z"
   },
   {
    "duration": 20,
    "start_time": "2023-12-26T06:55:13.712Z"
   },
   {
    "duration": 22,
    "start_time": "2023-12-26T06:55:21.737Z"
   },
   {
    "duration": 42,
    "start_time": "2023-12-26T06:55:22.024Z"
   },
   {
    "duration": 1497,
    "start_time": "2023-12-26T06:55:33.053Z"
   },
   {
    "duration": 38,
    "start_time": "2023-12-26T06:55:34.551Z"
   },
   {
    "duration": 11,
    "start_time": "2023-12-26T06:55:34.590Z"
   },
   {
    "duration": 38,
    "start_time": "2023-12-26T06:55:34.603Z"
   },
   {
    "duration": 11,
    "start_time": "2023-12-26T06:55:34.643Z"
   },
   {
    "duration": 17,
    "start_time": "2023-12-26T06:55:34.656Z"
   },
   {
    "duration": 10,
    "start_time": "2023-12-26T06:55:34.675Z"
   },
   {
    "duration": 25,
    "start_time": "2023-12-26T06:55:34.687Z"
   },
   {
    "duration": 12,
    "start_time": "2023-12-26T06:55:34.713Z"
   },
   {
    "duration": 10,
    "start_time": "2023-12-26T06:55:34.728Z"
   },
   {
    "duration": 6,
    "start_time": "2023-12-26T06:55:34.740Z"
   },
   {
    "duration": 8,
    "start_time": "2023-12-26T06:55:34.747Z"
   },
   {
    "duration": 6,
    "start_time": "2023-12-26T06:55:34.756Z"
   },
   {
    "duration": 6,
    "start_time": "2023-12-26T06:55:34.764Z"
   },
   {
    "duration": 7,
    "start_time": "2023-12-26T06:55:34.812Z"
   },
   {
    "duration": 6,
    "start_time": "2023-12-26T06:55:34.821Z"
   },
   {
    "duration": 7,
    "start_time": "2023-12-26T06:55:34.829Z"
   },
   {
    "duration": 9,
    "start_time": "2023-12-26T06:55:34.838Z"
   },
   {
    "duration": 207,
    "start_time": "2023-12-26T06:55:34.849Z"
   },
   {
    "duration": 160,
    "start_time": "2023-12-26T06:55:35.057Z"
   },
   {
    "duration": 7,
    "start_time": "2023-12-26T06:55:35.219Z"
   },
   {
    "duration": 11,
    "start_time": "2023-12-26T06:55:35.228Z"
   },
   {
    "duration": 180,
    "start_time": "2023-12-26T06:55:35.241Z"
   },
   {
    "duration": 182,
    "start_time": "2023-12-26T06:55:35.422Z"
   },
   {
    "duration": 18,
    "start_time": "2023-12-26T06:55:35.606Z"
   },
   {
    "duration": 281,
    "start_time": "2023-12-26T06:55:35.626Z"
   },
   {
    "duration": 363,
    "start_time": "2023-12-26T06:55:35.910Z"
   },
   {
    "duration": 8,
    "start_time": "2023-12-26T06:55:36.277Z"
   },
   {
    "duration": 27,
    "start_time": "2023-12-26T06:55:36.287Z"
   },
   {
    "duration": 10,
    "start_time": "2023-12-26T06:55:36.316Z"
   },
   {
    "duration": 11,
    "start_time": "2023-12-26T06:55:36.328Z"
   },
   {
    "duration": 450,
    "start_time": "2023-12-26T06:55:36.341Z"
   },
   {
    "duration": 30,
    "start_time": "2023-12-26T06:55:36.793Z"
   },
   {
    "duration": 26,
    "start_time": "2023-12-26T06:55:36.824Z"
   },
   {
    "duration": 17,
    "start_time": "2023-12-26T06:55:36.852Z"
   },
   {
    "duration": 53,
    "start_time": "2023-12-26T06:55:36.870Z"
   },
   {
    "duration": 698,
    "start_time": "2023-12-26T06:55:36.925Z"
   },
   {
    "duration": 686,
    "start_time": "2023-12-26T06:55:37.625Z"
   },
   {
    "duration": 104747,
    "start_time": "2023-12-26T06:55:38.312Z"
   },
   {
    "duration": 2,
    "start_time": "2023-12-26T06:57:23.061Z"
   },
   {
    "duration": 28,
    "start_time": "2023-12-26T06:57:23.065Z"
   },
   {
    "duration": 38,
    "start_time": "2023-12-26T06:57:23.095Z"
   },
   {
    "duration": 5,
    "start_time": "2023-12-26T06:57:23.134Z"
   },
   {
    "duration": 18,
    "start_time": "2023-12-26T06:57:23.140Z"
   },
   {
    "duration": 10,
    "start_time": "2023-12-26T06:57:23.159Z"
   },
   {
    "duration": 18,
    "start_time": "2023-12-26T06:57:34.978Z"
   },
   {
    "duration": 38,
    "start_time": "2023-12-26T06:58:08.131Z"
   },
   {
    "duration": 15,
    "start_time": "2023-12-26T06:58:40.044Z"
   },
   {
    "duration": 18,
    "start_time": "2023-12-26T06:59:23.781Z"
   },
   {
    "duration": 1058,
    "start_time": "2023-12-26T06:59:34.340Z"
   },
   {
    "duration": 37,
    "start_time": "2023-12-26T06:59:35.400Z"
   },
   {
    "duration": 11,
    "start_time": "2023-12-26T06:59:35.439Z"
   },
   {
    "duration": 38,
    "start_time": "2023-12-26T06:59:35.452Z"
   },
   {
    "duration": 10,
    "start_time": "2023-12-26T06:59:35.492Z"
   },
   {
    "duration": 18,
    "start_time": "2023-12-26T06:59:35.504Z"
   },
   {
    "duration": 10,
    "start_time": "2023-12-26T06:59:35.524Z"
   },
   {
    "duration": 24,
    "start_time": "2023-12-26T06:59:35.535Z"
   },
   {
    "duration": 11,
    "start_time": "2023-12-26T06:59:35.561Z"
   },
   {
    "duration": 36,
    "start_time": "2023-12-26T06:59:35.575Z"
   },
   {
    "duration": 6,
    "start_time": "2023-12-26T06:59:35.612Z"
   },
   {
    "duration": 13,
    "start_time": "2023-12-26T06:59:35.619Z"
   },
   {
    "duration": 6,
    "start_time": "2023-12-26T06:59:35.634Z"
   },
   {
    "duration": 5,
    "start_time": "2023-12-26T06:59:35.641Z"
   },
   {
    "duration": 14,
    "start_time": "2023-12-26T06:59:35.647Z"
   },
   {
    "duration": 6,
    "start_time": "2023-12-26T06:59:35.663Z"
   },
   {
    "duration": 42,
    "start_time": "2023-12-26T06:59:35.670Z"
   },
   {
    "duration": 25,
    "start_time": "2023-12-26T06:59:35.713Z"
   },
   {
    "duration": 172,
    "start_time": "2023-12-26T06:59:35.739Z"
   },
   {
    "duration": 173,
    "start_time": "2023-12-26T06:59:35.913Z"
   },
   {
    "duration": 7,
    "start_time": "2023-12-26T06:59:36.088Z"
   },
   {
    "duration": 19,
    "start_time": "2023-12-26T06:59:36.110Z"
   },
   {
    "duration": 181,
    "start_time": "2023-12-26T06:59:36.130Z"
   },
   {
    "duration": 174,
    "start_time": "2023-12-26T06:59:36.312Z"
   },
   {
    "duration": 11,
    "start_time": "2023-12-26T06:59:36.487Z"
   },
   {
    "duration": 260,
    "start_time": "2023-12-26T06:59:36.499Z"
   },
   {
    "duration": 381,
    "start_time": "2023-12-26T06:59:36.761Z"
   },
   {
    "duration": 11,
    "start_time": "2023-12-26T06:59:37.145Z"
   },
   {
    "duration": 19,
    "start_time": "2023-12-26T06:59:37.159Z"
   },
   {
    "duration": 36,
    "start_time": "2023-12-26T06:59:37.180Z"
   },
   {
    "duration": 11,
    "start_time": "2023-12-26T06:59:37.219Z"
   },
   {
    "duration": 441,
    "start_time": "2023-12-26T06:59:37.232Z"
   },
   {
    "duration": 22,
    "start_time": "2023-12-26T06:59:37.674Z"
   },
   {
    "duration": 26,
    "start_time": "2023-12-26T06:59:37.711Z"
   },
   {
    "duration": 17,
    "start_time": "2023-12-26T06:59:37.739Z"
   },
   {
    "duration": 17,
    "start_time": "2023-12-26T06:59:37.757Z"
   },
   {
    "duration": 706,
    "start_time": "2023-12-26T06:59:37.776Z"
   },
   {
    "duration": 695,
    "start_time": "2023-12-26T06:59:38.484Z"
   },
   {
    "duration": 106109,
    "start_time": "2023-12-26T06:59:39.181Z"
   },
   {
    "duration": 2,
    "start_time": "2023-12-26T07:01:25.292Z"
   },
   {
    "duration": 29,
    "start_time": "2023-12-26T07:01:25.329Z"
   },
   {
    "duration": 2,
    "start_time": "2023-12-26T07:01:25.360Z"
   },
   {
    "duration": 17,
    "start_time": "2023-12-26T07:01:25.364Z"
   },
   {
    "duration": 36,
    "start_time": "2023-12-26T07:01:25.384Z"
   },
   {
    "duration": 20,
    "start_time": "2023-12-26T07:11:04.473Z"
   },
   {
    "duration": 6,
    "start_time": "2023-12-26T07:29:19.627Z"
   },
   {
    "duration": 6,
    "start_time": "2023-12-26T07:30:03.291Z"
   },
   {
    "duration": 1052,
    "start_time": "2023-12-26T07:30:40.036Z"
   },
   {
    "duration": 38,
    "start_time": "2023-12-26T07:30:41.089Z"
   },
   {
    "duration": 10,
    "start_time": "2023-12-26T07:30:41.128Z"
   },
   {
    "duration": 46,
    "start_time": "2023-12-26T07:30:41.140Z"
   },
   {
    "duration": 10,
    "start_time": "2023-12-26T07:30:41.187Z"
   },
   {
    "duration": 20,
    "start_time": "2023-12-26T07:30:41.199Z"
   },
   {
    "duration": 11,
    "start_time": "2023-12-26T07:30:41.220Z"
   },
   {
    "duration": 26,
    "start_time": "2023-12-26T07:30:41.232Z"
   },
   {
    "duration": 15,
    "start_time": "2023-12-26T07:30:41.259Z"
   },
   {
    "duration": 12,
    "start_time": "2023-12-26T07:30:41.313Z"
   },
   {
    "duration": 15,
    "start_time": "2023-12-26T07:30:41.327Z"
   },
   {
    "duration": 20,
    "start_time": "2023-12-26T07:30:41.343Z"
   },
   {
    "duration": 46,
    "start_time": "2023-12-26T07:30:41.365Z"
   },
   {
    "duration": 23,
    "start_time": "2023-12-26T07:30:41.413Z"
   },
   {
    "duration": 18,
    "start_time": "2023-12-26T07:30:41.437Z"
   },
   {
    "duration": 13,
    "start_time": "2023-12-26T07:30:41.456Z"
   },
   {
    "duration": 10,
    "start_time": "2023-12-26T07:30:41.471Z"
   },
   {
    "duration": 9,
    "start_time": "2023-12-26T07:30:41.483Z"
   },
   {
    "duration": 204,
    "start_time": "2023-12-26T07:30:41.493Z"
   },
   {
    "duration": 167,
    "start_time": "2023-12-26T07:30:41.698Z"
   },
   {
    "duration": 48,
    "start_time": "2023-12-26T07:30:41.867Z"
   },
   {
    "duration": 15,
    "start_time": "2023-12-26T07:30:41.917Z"
   },
   {
    "duration": 209,
    "start_time": "2023-12-26T07:30:41.934Z"
   },
   {
    "duration": 176,
    "start_time": "2023-12-26T07:30:42.145Z"
   },
   {
    "duration": 12,
    "start_time": "2023-12-26T07:30:42.322Z"
   },
   {
    "duration": 277,
    "start_time": "2023-12-26T07:30:42.336Z"
   },
   {
    "duration": 370,
    "start_time": "2023-12-26T07:30:42.614Z"
   },
   {
    "duration": 7,
    "start_time": "2023-12-26T07:30:42.988Z"
   },
   {
    "duration": 24,
    "start_time": "2023-12-26T07:30:42.997Z"
   },
   {
    "duration": 7,
    "start_time": "2023-12-26T07:30:43.022Z"
   },
   {
    "duration": 7,
    "start_time": "2023-12-26T07:30:43.031Z"
   },
   {
    "duration": 440,
    "start_time": "2023-12-26T07:30:43.039Z"
   },
   {
    "duration": 31,
    "start_time": "2023-12-26T07:30:43.481Z"
   },
   {
    "duration": 27,
    "start_time": "2023-12-26T07:30:43.513Z"
   },
   {
    "duration": 17,
    "start_time": "2023-12-26T07:30:43.541Z"
   },
   {
    "duration": 16,
    "start_time": "2023-12-26T07:30:43.559Z"
   },
   {
    "duration": 695,
    "start_time": "2023-12-26T07:30:43.577Z"
   },
   {
    "duration": 668,
    "start_time": "2023-12-26T07:30:44.274Z"
   },
   {
    "duration": 5,
    "start_time": "2023-12-26T07:30:44.943Z"
   },
   {
    "duration": 0,
    "start_time": "2023-12-26T07:30:44.950Z"
   },
   {
    "duration": 0,
    "start_time": "2023-12-26T07:30:44.951Z"
   },
   {
    "duration": 0,
    "start_time": "2023-12-26T07:30:44.952Z"
   },
   {
    "duration": 0,
    "start_time": "2023-12-26T07:30:44.954Z"
   },
   {
    "duration": 1124,
    "start_time": "2023-12-26T07:31:41.634Z"
   },
   {
    "duration": 39,
    "start_time": "2023-12-26T07:31:42.760Z"
   },
   {
    "duration": 10,
    "start_time": "2023-12-26T07:31:42.800Z"
   },
   {
    "duration": 43,
    "start_time": "2023-12-26T07:31:42.812Z"
   },
   {
    "duration": 9,
    "start_time": "2023-12-26T07:31:42.856Z"
   },
   {
    "duration": 25,
    "start_time": "2023-12-26T07:31:42.867Z"
   },
   {
    "duration": 9,
    "start_time": "2023-12-26T07:31:42.893Z"
   },
   {
    "duration": 17,
    "start_time": "2023-12-26T07:31:42.904Z"
   },
   {
    "duration": 11,
    "start_time": "2023-12-26T07:31:42.922Z"
   },
   {
    "duration": 10,
    "start_time": "2023-12-26T07:31:42.936Z"
   },
   {
    "duration": 14,
    "start_time": "2023-12-26T07:31:42.948Z"
   },
   {
    "duration": 11,
    "start_time": "2023-12-26T07:31:42.964Z"
   },
   {
    "duration": 3,
    "start_time": "2023-12-26T07:31:42.976Z"
   },
   {
    "duration": 9,
    "start_time": "2023-12-26T07:31:42.980Z"
   },
   {
    "duration": 7,
    "start_time": "2023-12-26T07:31:43.011Z"
   },
   {
    "duration": 9,
    "start_time": "2023-12-26T07:31:43.020Z"
   },
   {
    "duration": 6,
    "start_time": "2023-12-26T07:31:43.030Z"
   },
   {
    "duration": 8,
    "start_time": "2023-12-26T07:31:43.038Z"
   },
   {
    "duration": 184,
    "start_time": "2023-12-26T07:31:43.048Z"
   },
   {
    "duration": 159,
    "start_time": "2023-12-26T07:31:43.234Z"
   },
   {
    "duration": 6,
    "start_time": "2023-12-26T07:31:43.395Z"
   },
   {
    "duration": 10,
    "start_time": "2023-12-26T07:31:43.411Z"
   },
   {
    "duration": 162,
    "start_time": "2023-12-26T07:31:43.423Z"
   },
   {
    "duration": 193,
    "start_time": "2023-12-26T07:31:43.587Z"
   },
   {
    "duration": 11,
    "start_time": "2023-12-26T07:31:43.782Z"
   },
   {
    "duration": 267,
    "start_time": "2023-12-26T07:31:43.794Z"
   },
   {
    "duration": 376,
    "start_time": "2023-12-26T07:31:44.062Z"
   },
   {
    "duration": 8,
    "start_time": "2023-12-26T07:31:44.441Z"
   },
   {
    "duration": 12,
    "start_time": "2023-12-26T07:31:44.450Z"
   },
   {
    "duration": 7,
    "start_time": "2023-12-26T07:31:44.464Z"
   },
   {
    "duration": 11,
    "start_time": "2023-12-26T07:31:44.472Z"
   },
   {
    "duration": 452,
    "start_time": "2023-12-26T07:31:44.511Z"
   },
   {
    "duration": 26,
    "start_time": "2023-12-26T07:31:44.964Z"
   },
   {
    "duration": 41,
    "start_time": "2023-12-26T07:31:44.992Z"
   },
   {
    "duration": 71,
    "start_time": "2023-12-26T07:31:45.035Z"
   },
   {
    "duration": 17,
    "start_time": "2023-12-26T07:31:45.107Z"
   },
   {
    "duration": 640,
    "start_time": "2023-12-26T07:31:45.126Z"
   },
   {
    "duration": 684,
    "start_time": "2023-12-26T07:31:45.768Z"
   },
   {
    "duration": 5,
    "start_time": "2023-12-26T07:31:46.453Z"
   },
   {
    "duration": 24,
    "start_time": "2023-12-26T07:31:46.460Z"
   },
   {
    "duration": 33,
    "start_time": "2023-12-26T07:31:46.485Z"
   },
   {
    "duration": 6,
    "start_time": "2023-12-26T07:31:46.520Z"
   },
   {
    "duration": 7,
    "start_time": "2023-12-26T07:31:46.527Z"
   },
   {
    "duration": 96,
    "start_time": "2023-12-26T07:34:57.121Z"
   },
   {
    "duration": 11,
    "start_time": "2023-12-26T07:35:02.289Z"
   },
   {
    "duration": 6,
    "start_time": "2023-12-26T07:35:07.321Z"
   },
   {
    "duration": 4,
    "start_time": "2023-12-26T07:36:07.607Z"
   },
   {
    "duration": 5,
    "start_time": "2023-12-26T07:36:20.083Z"
   },
   {
    "duration": 6,
    "start_time": "2023-12-26T07:36:25.578Z"
   },
   {
    "duration": 2580,
    "start_time": "2023-12-26T07:41:19.247Z"
   },
   {
    "duration": 4958,
    "start_time": "2023-12-26T07:41:29.336Z"
   },
   {
    "duration": 854,
    "start_time": "2023-12-26T07:41:43.968Z"
   },
   {
    "duration": 7,
    "start_time": "2023-12-26T07:42:01.464Z"
   },
   {
    "duration": 4,
    "start_time": "2023-12-26T07:42:11.849Z"
   },
   {
    "duration": 6,
    "start_time": "2023-12-26T07:45:38.933Z"
   },
   {
    "duration": 6,
    "start_time": "2023-12-26T07:57:57.751Z"
   },
   {
    "duration": 10,
    "start_time": "2023-12-26T08:02:46.685Z"
   },
   {
    "duration": 5,
    "start_time": "2023-12-26T08:02:54.438Z"
   },
   {
    "duration": 4,
    "start_time": "2023-12-26T08:04:49.936Z"
   },
   {
    "duration": 1273,
    "start_time": "2023-12-26T08:10:51.917Z"
   },
   {
    "duration": 1106,
    "start_time": "2023-12-26T08:11:00.150Z"
   },
   {
    "duration": 46,
    "start_time": "2023-12-26T08:11:01.259Z"
   },
   {
    "duration": 12,
    "start_time": "2023-12-26T08:11:01.307Z"
   },
   {
    "duration": 59,
    "start_time": "2023-12-26T08:11:01.321Z"
   },
   {
    "duration": 50,
    "start_time": "2023-12-26T08:11:01.382Z"
   },
   {
    "duration": 73,
    "start_time": "2023-12-26T08:11:01.434Z"
   },
   {
    "duration": 123,
    "start_time": "2023-12-26T08:11:01.508Z"
   },
   {
    "duration": 94,
    "start_time": "2023-12-26T08:11:01.633Z"
   },
   {
    "duration": 147,
    "start_time": "2023-12-26T08:11:01.729Z"
   },
   {
    "duration": 55,
    "start_time": "2023-12-26T08:11:01.878Z"
   },
   {
    "duration": 51,
    "start_time": "2023-12-26T08:11:01.934Z"
   },
   {
    "duration": 42,
    "start_time": "2023-12-26T08:11:01.986Z"
   },
   {
    "duration": 53,
    "start_time": "2023-12-26T08:11:02.030Z"
   },
   {
    "duration": 29,
    "start_time": "2023-12-26T08:11:02.084Z"
   },
   {
    "duration": 36,
    "start_time": "2023-12-26T08:11:02.114Z"
   },
   {
    "duration": 18,
    "start_time": "2023-12-26T08:11:02.152Z"
   },
   {
    "duration": 24,
    "start_time": "2023-12-26T08:11:02.172Z"
   },
   {
    "duration": 64,
    "start_time": "2023-12-26T08:11:02.198Z"
   },
   {
    "duration": 224,
    "start_time": "2023-12-26T08:11:02.263Z"
   },
   {
    "duration": 173,
    "start_time": "2023-12-26T08:11:02.489Z"
   },
   {
    "duration": 7,
    "start_time": "2023-12-26T08:11:02.663Z"
   },
   {
    "duration": 42,
    "start_time": "2023-12-26T08:11:02.671Z"
   },
   {
    "duration": 206,
    "start_time": "2023-12-26T08:11:02.715Z"
   },
   {
    "duration": 181,
    "start_time": "2023-12-26T08:11:02.922Z"
   },
   {
    "duration": 16,
    "start_time": "2023-12-26T08:11:03.104Z"
   },
   {
    "duration": 272,
    "start_time": "2023-12-26T08:11:03.122Z"
   },
   {
    "duration": 392,
    "start_time": "2023-12-26T08:11:03.396Z"
   },
   {
    "duration": 19,
    "start_time": "2023-12-26T08:11:03.793Z"
   },
   {
    "duration": 48,
    "start_time": "2023-12-26T08:11:03.813Z"
   },
   {
    "duration": 21,
    "start_time": "2023-12-26T08:11:03.863Z"
   },
   {
    "duration": 26,
    "start_time": "2023-12-26T08:11:03.885Z"
   },
   {
    "duration": 434,
    "start_time": "2023-12-26T08:11:03.912Z"
   },
   {
    "duration": 22,
    "start_time": "2023-12-26T08:11:04.348Z"
   },
   {
    "duration": 42,
    "start_time": "2023-12-26T08:11:04.372Z"
   },
   {
    "duration": 17,
    "start_time": "2023-12-26T08:11:04.415Z"
   },
   {
    "duration": 20,
    "start_time": "2023-12-26T08:11:04.433Z"
   },
   {
    "duration": 656,
    "start_time": "2023-12-26T08:11:04.455Z"
   },
   {
    "duration": 700,
    "start_time": "2023-12-26T08:11:05.112Z"
   },
   {
    "duration": 5,
    "start_time": "2023-12-26T08:11:05.814Z"
   },
   {
    "duration": 39,
    "start_time": "2023-12-26T08:11:05.821Z"
   },
   {
    "duration": 69,
    "start_time": "2023-12-26T08:11:05.861Z"
   },
   {
    "duration": 6,
    "start_time": "2023-12-26T08:11:05.932Z"
   },
   {
    "duration": 41,
    "start_time": "2023-12-26T08:11:05.939Z"
   },
   {
    "duration": 1263,
    "start_time": "2023-12-26T08:11:05.982Z"
   },
   {
    "duration": 0,
    "start_time": "2023-12-26T08:11:07.247Z"
   },
   {
    "duration": 1137,
    "start_time": "2023-12-26T08:15:01.720Z"
   },
   {
    "duration": 39,
    "start_time": "2023-12-26T08:15:02.860Z"
   },
   {
    "duration": 11,
    "start_time": "2023-12-26T08:15:02.901Z"
   },
   {
    "duration": 62,
    "start_time": "2023-12-26T08:15:02.914Z"
   },
   {
    "duration": 10,
    "start_time": "2023-12-26T08:15:02.978Z"
   },
   {
    "duration": 21,
    "start_time": "2023-12-26T08:15:02.990Z"
   },
   {
    "duration": 20,
    "start_time": "2023-12-26T08:15:03.012Z"
   },
   {
    "duration": 24,
    "start_time": "2023-12-26T08:15:03.034Z"
   },
   {
    "duration": 14,
    "start_time": "2023-12-26T08:15:03.060Z"
   },
   {
    "duration": 12,
    "start_time": "2023-12-26T08:15:03.077Z"
   },
   {
    "duration": 5,
    "start_time": "2023-12-26T08:15:03.090Z"
   },
   {
    "duration": 6,
    "start_time": "2023-12-26T08:15:03.111Z"
   },
   {
    "duration": 15,
    "start_time": "2023-12-26T08:15:03.119Z"
   },
   {
    "duration": 20,
    "start_time": "2023-12-26T08:15:03.135Z"
   },
   {
    "duration": 29,
    "start_time": "2023-12-26T08:15:03.156Z"
   },
   {
    "duration": 17,
    "start_time": "2023-12-26T08:15:03.187Z"
   },
   {
    "duration": 11,
    "start_time": "2023-12-26T08:15:03.205Z"
   },
   {
    "duration": 41,
    "start_time": "2023-12-26T08:15:03.218Z"
   },
   {
    "duration": 174,
    "start_time": "2023-12-26T08:15:03.260Z"
   },
   {
    "duration": 159,
    "start_time": "2023-12-26T08:15:03.436Z"
   },
   {
    "duration": 16,
    "start_time": "2023-12-26T08:15:03.597Z"
   },
   {
    "duration": 28,
    "start_time": "2023-12-26T08:15:03.615Z"
   },
   {
    "duration": 157,
    "start_time": "2023-12-26T08:15:03.644Z"
   },
   {
    "duration": 169,
    "start_time": "2023-12-26T08:15:03.803Z"
   },
   {
    "duration": 11,
    "start_time": "2023-12-26T08:15:03.974Z"
   },
   {
    "duration": 264,
    "start_time": "2023-12-26T08:15:03.987Z"
   },
   {
    "duration": 358,
    "start_time": "2023-12-26T08:15:04.253Z"
   },
   {
    "duration": 8,
    "start_time": "2023-12-26T08:15:04.615Z"
   },
   {
    "duration": 15,
    "start_time": "2023-12-26T08:15:04.625Z"
   },
   {
    "duration": 8,
    "start_time": "2023-12-26T08:15:04.642Z"
   },
   {
    "duration": 19,
    "start_time": "2023-12-26T08:15:04.651Z"
   },
   {
    "duration": 446,
    "start_time": "2023-12-26T08:15:04.680Z"
   },
   {
    "duration": 26,
    "start_time": "2023-12-26T08:15:05.128Z"
   },
   {
    "duration": 25,
    "start_time": "2023-12-26T08:15:05.156Z"
   },
   {
    "duration": 18,
    "start_time": "2023-12-26T08:15:05.211Z"
   },
   {
    "duration": 18,
    "start_time": "2023-12-26T08:15:05.231Z"
   },
   {
    "duration": 718,
    "start_time": "2023-12-26T08:15:05.250Z"
   },
   {
    "duration": 698,
    "start_time": "2023-12-26T08:15:05.969Z"
   },
   {
    "duration": 103048,
    "start_time": "2023-12-26T08:15:06.669Z"
   },
   {
    "duration": 19,
    "start_time": "2023-12-26T08:16:49.719Z"
   },
   {
    "duration": 29,
    "start_time": "2023-12-26T08:16:49.739Z"
   },
   {
    "duration": 5,
    "start_time": "2023-12-26T08:16:49.770Z"
   },
   {
    "duration": 38,
    "start_time": "2023-12-26T08:16:49.776Z"
   },
   {
    "duration": 1361,
    "start_time": "2023-12-26T08:16:49.816Z"
   },
   {
    "duration": 0,
    "start_time": "2023-12-26T08:16:51.179Z"
   },
   {
    "duration": 13,
    "start_time": "2023-12-26T08:19:21.904Z"
   },
   {
    "duration": 8,
    "start_time": "2023-12-26T08:19:43.343Z"
   },
   {
    "duration": 8,
    "start_time": "2023-12-26T08:19:58.215Z"
   },
   {
    "duration": 99,
    "start_time": "2023-12-26T08:42:36.156Z"
   },
   {
    "duration": 90,
    "start_time": "2023-12-26T08:43:16.909Z"
   },
   {
    "duration": 165,
    "start_time": "2023-12-26T08:59:34.276Z"
   },
   {
    "duration": 173,
    "start_time": "2023-12-26T08:59:46.275Z"
   },
   {
    "duration": 724,
    "start_time": "2023-12-26T09:03:06.776Z"
   },
   {
    "duration": 1015,
    "start_time": "2023-12-26T09:06:01.743Z"
   },
   {
    "duration": 40,
    "start_time": "2023-12-26T09:06:02.760Z"
   },
   {
    "duration": 10,
    "start_time": "2023-12-26T09:06:02.801Z"
   },
   {
    "duration": 54,
    "start_time": "2023-12-26T09:06:02.813Z"
   },
   {
    "duration": 12,
    "start_time": "2023-12-26T09:06:02.868Z"
   },
   {
    "duration": 38,
    "start_time": "2023-12-26T09:06:02.882Z"
   },
   {
    "duration": 11,
    "start_time": "2023-12-26T09:06:02.922Z"
   },
   {
    "duration": 25,
    "start_time": "2023-12-26T09:06:02.934Z"
   },
   {
    "duration": 12,
    "start_time": "2023-12-26T09:06:02.961Z"
   },
   {
    "duration": 36,
    "start_time": "2023-12-26T09:06:02.976Z"
   },
   {
    "duration": 6,
    "start_time": "2023-12-26T09:06:03.014Z"
   },
   {
    "duration": 5,
    "start_time": "2023-12-26T09:06:03.022Z"
   },
   {
    "duration": 7,
    "start_time": "2023-12-26T09:06:03.028Z"
   },
   {
    "duration": 5,
    "start_time": "2023-12-26T09:06:03.036Z"
   },
   {
    "duration": 7,
    "start_time": "2023-12-26T09:06:03.042Z"
   },
   {
    "duration": 12,
    "start_time": "2023-12-26T09:06:03.051Z"
   },
   {
    "duration": 194,
    "start_time": "2023-12-26T09:06:03.065Z"
   },
   {
    "duration": 159,
    "start_time": "2023-12-26T09:06:03.260Z"
   },
   {
    "duration": 7,
    "start_time": "2023-12-26T09:06:03.420Z"
   },
   {
    "duration": 33,
    "start_time": "2023-12-26T09:06:03.428Z"
   },
   {
    "duration": 214,
    "start_time": "2023-12-26T09:06:03.463Z"
   },
   {
    "duration": 176,
    "start_time": "2023-12-26T09:06:03.678Z"
   },
   {
    "duration": 11,
    "start_time": "2023-12-26T09:06:03.856Z"
   },
   {
    "duration": 106,
    "start_time": "2023-12-26T09:06:03.868Z"
   },
   {
    "duration": 407,
    "start_time": "2023-12-26T09:06:03.976Z"
   },
   {
    "duration": 861,
    "start_time": "2023-12-26T09:06:04.385Z"
   },
   {
    "duration": 69,
    "start_time": "2023-12-26T09:06:05.247Z"
   },
   {
    "duration": 43,
    "start_time": "2023-12-26T09:06:05.321Z"
   },
   {
    "duration": 31,
    "start_time": "2023-12-26T09:06:05.366Z"
   },
   {
    "duration": 34,
    "start_time": "2023-12-26T09:06:05.399Z"
   },
   {
    "duration": 437,
    "start_time": "2023-12-26T09:06:05.435Z"
   },
   {
    "duration": 38,
    "start_time": "2023-12-26T09:06:05.874Z"
   },
   {
    "duration": 27,
    "start_time": "2023-12-26T09:06:05.913Z"
   },
   {
    "duration": 22,
    "start_time": "2023-12-26T09:06:05.941Z"
   },
   {
    "duration": 18,
    "start_time": "2023-12-26T09:06:05.965Z"
   },
   {
    "duration": 1547,
    "start_time": "2023-12-26T09:06:06.011Z"
   },
   {
    "duration": 1434,
    "start_time": "2023-12-26T09:06:07.611Z"
   },
   {
    "duration": 219299,
    "start_time": "2023-12-26T09:06:09.047Z"
   },
   {
    "duration": 71,
    "start_time": "2023-12-26T09:09:48.347Z"
   },
   {
    "duration": 94,
    "start_time": "2023-12-26T09:09:48.420Z"
   },
   {
    "duration": 7,
    "start_time": "2023-12-26T09:09:48.516Z"
   },
   {
    "duration": 25,
    "start_time": "2023-12-26T09:09:48.524Z"
   },
   {
    "duration": 74,
    "start_time": "2023-12-26T09:09:48.551Z"
   },
   {
    "duration": 1113,
    "start_time": "2023-12-26T09:24:17.181Z"
   },
   {
    "duration": 40,
    "start_time": "2023-12-26T09:24:18.296Z"
   },
   {
    "duration": 11,
    "start_time": "2023-12-26T09:24:18.337Z"
   },
   {
    "duration": 58,
    "start_time": "2023-12-26T09:24:18.351Z"
   },
   {
    "duration": 10,
    "start_time": "2023-12-26T09:24:18.411Z"
   },
   {
    "duration": 24,
    "start_time": "2023-12-26T09:24:18.423Z"
   },
   {
    "duration": 10,
    "start_time": "2023-12-26T09:24:18.449Z"
   },
   {
    "duration": 19,
    "start_time": "2023-12-26T09:24:18.461Z"
   },
   {
    "duration": 24,
    "start_time": "2023-12-26T09:24:18.481Z"
   },
   {
    "duration": 15,
    "start_time": "2023-12-26T09:24:18.508Z"
   },
   {
    "duration": 15,
    "start_time": "2023-12-26T09:24:18.525Z"
   },
   {
    "duration": 28,
    "start_time": "2023-12-26T09:24:18.541Z"
   },
   {
    "duration": 32,
    "start_time": "2023-12-26T09:24:18.570Z"
   },
   {
    "duration": 29,
    "start_time": "2023-12-26T09:24:18.603Z"
   },
   {
    "duration": 22,
    "start_time": "2023-12-26T09:24:18.634Z"
   },
   {
    "duration": 25,
    "start_time": "2023-12-26T09:24:18.658Z"
   },
   {
    "duration": 230,
    "start_time": "2023-12-26T09:24:18.685Z"
   },
   {
    "duration": 174,
    "start_time": "2023-12-26T09:24:18.917Z"
   },
   {
    "duration": 6,
    "start_time": "2023-12-26T09:24:19.093Z"
   },
   {
    "duration": 31,
    "start_time": "2023-12-26T09:24:19.100Z"
   },
   {
    "duration": 198,
    "start_time": "2023-12-26T09:24:19.132Z"
   },
   {
    "duration": 183,
    "start_time": "2023-12-26T09:24:19.332Z"
   },
   {
    "duration": 14,
    "start_time": "2023-12-26T09:24:19.517Z"
   },
   {
    "duration": 116,
    "start_time": "2023-12-26T09:24:19.533Z"
   },
   {
    "duration": 281,
    "start_time": "2023-12-26T09:24:19.651Z"
   },
   {
    "duration": 472,
    "start_time": "2023-12-26T09:24:19.934Z"
   },
   {
    "duration": 18,
    "start_time": "2023-12-26T09:24:20.408Z"
   },
   {
    "duration": 34,
    "start_time": "2023-12-26T09:24:20.430Z"
   },
   {
    "duration": 33,
    "start_time": "2023-12-26T09:24:20.466Z"
   },
   {
    "duration": 69,
    "start_time": "2023-12-26T09:24:20.500Z"
   },
   {
    "duration": 428,
    "start_time": "2023-12-26T09:24:20.571Z"
   },
   {
    "duration": 29,
    "start_time": "2023-12-26T09:24:21.001Z"
   },
   {
    "duration": 34,
    "start_time": "2023-12-26T09:24:21.032Z"
   },
   {
    "duration": 19,
    "start_time": "2023-12-26T09:24:21.067Z"
   },
   {
    "duration": 45,
    "start_time": "2023-12-26T09:24:21.088Z"
   },
   {
    "duration": 758,
    "start_time": "2023-12-26T09:24:21.135Z"
   },
   {
    "duration": 762,
    "start_time": "2023-12-26T09:24:21.895Z"
   },
   {
    "duration": 112310,
    "start_time": "2023-12-26T09:24:22.659Z"
   },
   {
    "duration": 20,
    "start_time": "2023-12-26T09:26:14.970Z"
   },
   {
    "duration": 83,
    "start_time": "2023-12-26T09:26:14.992Z"
   },
   {
    "duration": 30,
    "start_time": "2023-12-26T09:26:15.078Z"
   },
   {
    "duration": 80,
    "start_time": "2023-12-26T09:26:15.110Z"
   },
   {
    "duration": 61,
    "start_time": "2023-12-26T09:26:15.192Z"
   },
   {
    "duration": 11,
    "start_time": "2023-12-26T09:37:24.052Z"
   },
   {
    "duration": 1135,
    "start_time": "2023-12-26T09:40:18.254Z"
   },
   {
    "duration": 40,
    "start_time": "2023-12-26T09:40:19.391Z"
   },
   {
    "duration": 39,
    "start_time": "2023-12-26T09:40:19.433Z"
   },
   {
    "duration": 422,
    "start_time": "2023-12-26T09:40:19.475Z"
   },
   {
    "duration": 369,
    "start_time": "2023-12-26T09:40:19.899Z"
   },
   {
    "duration": 333,
    "start_time": "2023-12-26T09:40:20.269Z"
   },
   {
    "duration": 72,
    "start_time": "2023-12-26T09:40:20.603Z"
   },
   {
    "duration": 52,
    "start_time": "2023-12-26T09:40:20.678Z"
   },
   {
    "duration": 34,
    "start_time": "2023-12-26T09:40:20.732Z"
   },
   {
    "duration": 68,
    "start_time": "2023-12-26T09:40:20.769Z"
   },
   {
    "duration": 58,
    "start_time": "2023-12-26T09:40:20.840Z"
   },
   {
    "duration": 125,
    "start_time": "2023-12-26T09:40:20.900Z"
   },
   {
    "duration": 131,
    "start_time": "2023-12-26T09:40:21.027Z"
   },
   {
    "duration": 39,
    "start_time": "2023-12-26T09:40:21.160Z"
   },
   {
    "duration": 26,
    "start_time": "2023-12-26T09:40:21.202Z"
   },
   {
    "duration": 9,
    "start_time": "2023-12-26T09:40:21.230Z"
   },
   {
    "duration": 177,
    "start_time": "2023-12-26T09:40:21.241Z"
   },
   {
    "duration": 181,
    "start_time": "2023-12-26T09:40:21.422Z"
   },
   {
    "duration": 17,
    "start_time": "2023-12-26T09:40:21.605Z"
   },
   {
    "duration": 29,
    "start_time": "2023-12-26T09:40:21.624Z"
   },
   {
    "duration": 185,
    "start_time": "2023-12-26T09:40:21.655Z"
   },
   {
    "duration": 200,
    "start_time": "2023-12-26T09:40:21.843Z"
   },
   {
    "duration": 17,
    "start_time": "2023-12-26T09:40:22.045Z"
   },
   {
    "duration": 189,
    "start_time": "2023-12-26T09:40:22.064Z"
   },
   {
    "duration": 291,
    "start_time": "2023-12-26T09:40:22.255Z"
   },
   {
    "duration": 465,
    "start_time": "2023-12-26T09:40:22.547Z"
   },
   {
    "duration": 11,
    "start_time": "2023-12-26T09:40:23.014Z"
   },
   {
    "duration": 17,
    "start_time": "2023-12-26T09:40:23.028Z"
   },
   {
    "duration": 8,
    "start_time": "2023-12-26T09:40:23.046Z"
   },
   {
    "duration": 13,
    "start_time": "2023-12-26T09:40:23.055Z"
   },
   {
    "duration": 491,
    "start_time": "2023-12-26T09:40:23.069Z"
   },
   {
    "duration": 24,
    "start_time": "2023-12-26T09:40:23.562Z"
   },
   {
    "duration": 48,
    "start_time": "2023-12-26T09:40:23.588Z"
   },
   {
    "duration": 19,
    "start_time": "2023-12-26T09:40:23.637Z"
   },
   {
    "duration": 24,
    "start_time": "2023-12-26T09:40:23.658Z"
   },
   {
    "duration": 782,
    "start_time": "2023-12-26T09:40:23.683Z"
   },
   {
    "duration": 836,
    "start_time": "2023-12-26T09:40:24.468Z"
   },
   {
    "duration": 114887,
    "start_time": "2023-12-26T09:40:25.305Z"
   },
   {
    "duration": 28,
    "start_time": "2023-12-26T09:42:20.194Z"
   },
   {
    "duration": 45,
    "start_time": "2023-12-26T09:42:20.224Z"
   },
   {
    "duration": 6,
    "start_time": "2023-12-26T09:42:20.270Z"
   },
   {
    "duration": 6,
    "start_time": "2023-12-26T09:42:20.278Z"
   },
   {
    "duration": 38,
    "start_time": "2023-12-26T09:42:20.286Z"
   },
   {
    "duration": 53,
    "start_time": "2023-12-26T14:27:32.256Z"
   },
   {
    "duration": 1415,
    "start_time": "2023-12-26T14:27:42.178Z"
   },
   {
    "duration": 99,
    "start_time": "2023-12-26T14:27:43.595Z"
   },
   {
    "duration": 13,
    "start_time": "2023-12-26T14:27:43.696Z"
   },
   {
    "duration": 175,
    "start_time": "2023-12-26T14:27:43.712Z"
   },
   {
    "duration": 18,
    "start_time": "2023-12-26T14:27:43.889Z"
   },
   {
    "duration": 60,
    "start_time": "2023-12-26T14:27:43.909Z"
   },
   {
    "duration": 13,
    "start_time": "2023-12-26T14:27:43.971Z"
   },
   {
    "duration": 23,
    "start_time": "2023-12-26T14:27:43.986Z"
   },
   {
    "duration": 16,
    "start_time": "2023-12-26T14:27:44.011Z"
   },
   {
    "duration": 14,
    "start_time": "2023-12-26T14:27:44.031Z"
   },
   {
    "duration": 6,
    "start_time": "2023-12-26T14:27:44.046Z"
   },
   {
    "duration": 10,
    "start_time": "2023-12-26T14:27:44.054Z"
   },
   {
    "duration": 35,
    "start_time": "2023-12-26T14:27:44.066Z"
   },
   {
    "duration": 12,
    "start_time": "2023-12-26T14:27:44.103Z"
   },
   {
    "duration": 12,
    "start_time": "2023-12-26T14:27:44.116Z"
   },
   {
    "duration": 8,
    "start_time": "2023-12-26T14:27:44.129Z"
   },
   {
    "duration": 201,
    "start_time": "2023-12-26T14:27:44.139Z"
   },
   {
    "duration": 186,
    "start_time": "2023-12-26T14:27:44.342Z"
   },
   {
    "duration": 8,
    "start_time": "2023-12-26T14:27:44.530Z"
   },
   {
    "duration": 14,
    "start_time": "2023-12-26T14:27:44.539Z"
   },
   {
    "duration": 196,
    "start_time": "2023-12-26T14:27:44.555Z"
   },
   {
    "duration": 207,
    "start_time": "2023-12-26T14:27:44.753Z"
   },
   {
    "duration": 19,
    "start_time": "2023-12-26T14:27:44.962Z"
   },
   {
    "duration": 139,
    "start_time": "2023-12-26T14:27:44.983Z"
   },
   {
    "duration": 316,
    "start_time": "2023-12-26T14:27:45.123Z"
   },
   {
    "duration": 527,
    "start_time": "2023-12-26T14:27:45.441Z"
   },
   {
    "duration": 10,
    "start_time": "2023-12-26T14:27:45.970Z"
   },
   {
    "duration": 30,
    "start_time": "2023-12-26T14:27:45.984Z"
   },
   {
    "duration": 9,
    "start_time": "2023-12-26T14:27:46.016Z"
   },
   {
    "duration": 19,
    "start_time": "2023-12-26T14:27:46.026Z"
   },
   {
    "duration": 461,
    "start_time": "2023-12-26T14:27:46.047Z"
   },
   {
    "duration": 27,
    "start_time": "2023-12-26T14:27:46.510Z"
   },
   {
    "duration": 32,
    "start_time": "2023-12-26T14:27:46.539Z"
   },
   {
    "duration": 60,
    "start_time": "2023-12-26T14:27:46.573Z"
   },
   {
    "duration": 23,
    "start_time": "2023-12-26T14:27:46.635Z"
   },
   {
    "duration": 796,
    "start_time": "2023-12-26T14:27:46.660Z"
   },
   {
    "duration": 847,
    "start_time": "2023-12-26T14:27:47.457Z"
   },
   {
    "duration": 141342,
    "start_time": "2023-12-26T14:27:48.307Z"
   },
   {
    "duration": 22,
    "start_time": "2023-12-26T14:30:09.651Z"
   },
   {
    "duration": 50,
    "start_time": "2023-12-26T14:30:09.675Z"
   },
   {
    "duration": 8,
    "start_time": "2023-12-26T14:30:09.726Z"
   },
   {
    "duration": 20,
    "start_time": "2023-12-26T14:30:09.736Z"
   },
   {
    "duration": 42,
    "start_time": "2023-12-26T14:30:09.759Z"
   },
   {
    "duration": 7,
    "start_time": "2023-12-26T14:33:10.627Z"
   },
   {
    "duration": 6,
    "start_time": "2023-12-26T14:33:16.299Z"
   },
   {
    "duration": 21,
    "start_time": "2023-12-26T14:42:59.686Z"
   },
   {
    "duration": 10,
    "start_time": "2023-12-26T14:43:09.399Z"
   },
   {
    "duration": 8,
    "start_time": "2023-12-26T14:43:21.031Z"
   },
   {
    "duration": 7,
    "start_time": "2023-12-26T14:43:27.246Z"
   },
   {
    "duration": 6,
    "start_time": "2023-12-26T14:43:32.935Z"
   },
   {
    "duration": 140,
    "start_time": "2023-12-26T14:45:28.697Z"
   },
   {
    "duration": 209,
    "start_time": "2023-12-26T14:45:53.361Z"
   },
   {
    "duration": 295,
    "start_time": "2023-12-26T14:46:10.233Z"
   },
   {
    "duration": 217,
    "start_time": "2023-12-26T14:46:28.018Z"
   },
   {
    "duration": 178,
    "start_time": "2023-12-26T14:46:53.235Z"
   },
   {
    "duration": 196,
    "start_time": "2023-12-26T14:47:09.754Z"
   },
   {
    "duration": 9,
    "start_time": "2023-12-26T14:48:07.444Z"
   },
   {
    "duration": 232,
    "start_time": "2023-12-26T14:50:30.439Z"
   },
   {
    "duration": 213,
    "start_time": "2023-12-26T14:51:09.279Z"
   },
   {
    "duration": 294,
    "start_time": "2023-12-26T14:51:48.424Z"
   },
   {
    "duration": 463,
    "start_time": "2023-12-26T14:52:05.432Z"
   },
   {
    "duration": 557,
    "start_time": "2023-12-26T14:52:14.784Z"
   },
   {
    "duration": 411,
    "start_time": "2023-12-26T14:52:41.545Z"
   },
   {
    "duration": 467,
    "start_time": "2023-12-26T14:53:22.145Z"
   },
   {
    "duration": 533,
    "start_time": "2023-12-26T14:53:31.362Z"
   },
   {
    "duration": 353,
    "start_time": "2023-12-26T14:53:46.756Z"
   },
   {
    "duration": 306,
    "start_time": "2023-12-26T14:54:05.258Z"
   },
   {
    "duration": 415,
    "start_time": "2023-12-26T14:55:26.316Z"
   },
   {
    "duration": 480,
    "start_time": "2023-12-26T14:56:03.476Z"
   },
   {
    "duration": 4,
    "start_time": "2023-12-26T14:59:16.545Z"
   },
   {
    "duration": 47,
    "start_time": "2023-12-26T15:05:38.366Z"
   },
   {
    "duration": 35,
    "start_time": "2023-12-26T15:05:47.958Z"
   },
   {
    "duration": 42,
    "start_time": "2023-12-26T15:07:48.496Z"
   },
   {
    "duration": 4,
    "start_time": "2023-12-26T15:08:39.937Z"
   },
   {
    "duration": 8,
    "start_time": "2023-12-26T15:08:49.426Z"
   },
   {
    "duration": 4,
    "start_time": "2023-12-26T15:08:52.737Z"
   },
   {
    "duration": 820,
    "start_time": "2023-12-26T15:09:41.427Z"
   },
   {
    "duration": 20,
    "start_time": "2023-12-26T15:10:01.683Z"
   },
   {
    "duration": 11,
    "start_time": "2023-12-26T15:10:08.835Z"
   },
   {
    "duration": 12,
    "start_time": "2023-12-26T15:11:24.684Z"
   },
   {
    "duration": 7,
    "start_time": "2023-12-26T15:11:27.867Z"
   },
   {
    "duration": 10,
    "start_time": "2023-12-26T15:11:30.941Z"
   },
   {
    "duration": 5,
    "start_time": "2023-12-26T15:11:37.652Z"
   },
   {
    "duration": 4,
    "start_time": "2023-12-26T15:11:41.012Z"
   },
   {
    "duration": 5,
    "start_time": "2023-12-26T15:11:51.132Z"
   },
   {
    "duration": 124,
    "start_time": "2023-12-26T15:12:14.580Z"
   },
   {
    "duration": 4,
    "start_time": "2023-12-26T15:12:38.597Z"
   },
   {
    "duration": 5,
    "start_time": "2023-12-26T15:12:48.381Z"
   },
   {
    "duration": 4,
    "start_time": "2023-12-26T15:12:51.356Z"
   },
   {
    "duration": 45,
    "start_time": "2023-12-26T15:16:08.032Z"
   },
   {
    "duration": 4,
    "start_time": "2023-12-26T15:16:16.905Z"
   },
   {
    "duration": 8,
    "start_time": "2023-12-26T15:16:21.737Z"
   },
   {
    "duration": 4,
    "start_time": "2023-12-26T15:16:23.696Z"
   },
   {
    "duration": 22,
    "start_time": "2023-12-26T15:17:38.587Z"
   },
   {
    "duration": 41,
    "start_time": "2023-12-26T15:17:58.299Z"
   },
   {
    "duration": 34,
    "start_time": "2023-12-26T15:24:32.928Z"
   },
   {
    "duration": 45,
    "start_time": "2023-12-26T15:24:40.025Z"
   },
   {
    "duration": 45,
    "start_time": "2023-12-26T15:24:49.858Z"
   },
   {
    "duration": 44,
    "start_time": "2023-12-26T15:26:14.987Z"
   },
   {
    "duration": 45,
    "start_time": "2023-12-26T15:26:22.011Z"
   },
   {
    "duration": 1267,
    "start_time": "2023-12-26T15:27:05.990Z"
   },
   {
    "duration": 43,
    "start_time": "2023-12-26T15:27:07.259Z"
   },
   {
    "duration": 14,
    "start_time": "2023-12-26T15:27:07.304Z"
   },
   {
    "duration": 45,
    "start_time": "2023-12-26T15:27:07.321Z"
   },
   {
    "duration": 13,
    "start_time": "2023-12-26T15:27:07.368Z"
   },
   {
    "duration": 31,
    "start_time": "2023-12-26T15:27:07.399Z"
   },
   {
    "duration": 12,
    "start_time": "2023-12-26T15:27:07.432Z"
   },
   {
    "duration": 29,
    "start_time": "2023-12-26T15:27:07.446Z"
   },
   {
    "duration": 15,
    "start_time": "2023-12-26T15:27:07.477Z"
   },
   {
    "duration": 9,
    "start_time": "2023-12-26T15:27:07.495Z"
   },
   {
    "duration": 22,
    "start_time": "2023-12-26T15:27:07.506Z"
   },
   {
    "duration": 25,
    "start_time": "2023-12-26T15:27:07.530Z"
   },
   {
    "duration": 42,
    "start_time": "2023-12-26T15:27:07.557Z"
   },
   {
    "duration": 39,
    "start_time": "2023-12-26T15:27:07.604Z"
   },
   {
    "duration": 34,
    "start_time": "2023-12-26T15:27:07.645Z"
   },
   {
    "duration": 44,
    "start_time": "2023-12-26T15:27:07.681Z"
   },
   {
    "duration": 25,
    "start_time": "2023-12-26T15:27:07.727Z"
   },
   {
    "duration": 223,
    "start_time": "2023-12-26T15:27:07.755Z"
   },
   {
    "duration": 278,
    "start_time": "2023-12-26T15:27:07.980Z"
   },
   {
    "duration": 8,
    "start_time": "2023-12-26T15:27:08.260Z"
   },
   {
    "duration": 30,
    "start_time": "2023-12-26T15:27:08.271Z"
   },
   {
    "duration": 164,
    "start_time": "2023-12-26T15:27:08.304Z"
   },
   {
    "duration": 224,
    "start_time": "2023-12-26T15:27:08.471Z"
   },
   {
    "duration": 18,
    "start_time": "2023-12-26T15:27:08.697Z"
   },
   {
    "duration": 140,
    "start_time": "2023-12-26T15:27:08.717Z"
   },
   {
    "duration": 9,
    "start_time": "2023-12-26T15:27:08.859Z"
   },
   {
    "duration": 333,
    "start_time": "2023-12-26T15:27:08.870Z"
   },
   {
    "duration": 588,
    "start_time": "2023-12-26T15:27:09.208Z"
   },
   {
    "duration": 11,
    "start_time": "2023-12-26T15:27:09.799Z"
   },
   {
    "duration": 27,
    "start_time": "2023-12-26T15:27:09.813Z"
   },
   {
    "duration": 13,
    "start_time": "2023-12-26T15:27:09.842Z"
   },
   {
    "duration": 21,
    "start_time": "2023-12-26T15:27:09.857Z"
   },
   {
    "duration": 468,
    "start_time": "2023-12-26T15:27:09.880Z"
   },
   {
    "duration": 26,
    "start_time": "2023-12-26T15:27:10.350Z"
   },
   {
    "duration": 49,
    "start_time": "2023-12-26T15:27:10.378Z"
   },
   {
    "duration": 4,
    "start_time": "2023-12-26T15:27:10.429Z"
   },
   {
    "duration": 37,
    "start_time": "2023-12-26T15:27:10.435Z"
   },
   {
    "duration": 48,
    "start_time": "2023-12-26T15:27:10.474Z"
   },
   {
    "duration": 884,
    "start_time": "2023-12-26T15:27:10.525Z"
   },
   {
    "duration": 907,
    "start_time": "2023-12-26T15:27:11.411Z"
   },
   {
    "duration": 123,
    "start_time": "2023-12-26T15:27:12.320Z"
   },
   {
    "duration": 0,
    "start_time": "2023-12-26T15:27:12.445Z"
   },
   {
    "duration": 0,
    "start_time": "2023-12-26T15:27:12.447Z"
   },
   {
    "duration": 0,
    "start_time": "2023-12-26T15:27:12.449Z"
   },
   {
    "duration": 0,
    "start_time": "2023-12-26T15:27:12.450Z"
   },
   {
    "duration": 0,
    "start_time": "2023-12-26T15:27:12.451Z"
   },
   {
    "duration": 0,
    "start_time": "2023-12-26T15:27:12.453Z"
   },
   {
    "duration": 56,
    "start_time": "2023-12-26T15:27:47.284Z"
   },
   {
    "duration": 9,
    "start_time": "2023-12-26T15:28:10.012Z"
   },
   {
    "duration": 4,
    "start_time": "2023-12-26T15:28:14.347Z"
   },
   {
    "duration": 16,
    "start_time": "2023-12-26T15:28:18.141Z"
   },
   {
    "duration": 31,
    "start_time": "2023-12-26T15:28:39.748Z"
   },
   {
    "duration": 17,
    "start_time": "2023-12-26T15:29:19.272Z"
   },
   {
    "duration": 25,
    "start_time": "2023-12-26T15:29:48.822Z"
   },
   {
    "duration": 6,
    "start_time": "2023-12-26T15:29:52.870Z"
   },
   {
    "duration": 44,
    "start_time": "2023-12-26T15:31:56.449Z"
   },
   {
    "duration": 56,
    "start_time": "2023-12-26T15:32:56.369Z"
   },
   {
    "duration": 61,
    "start_time": "2023-12-26T15:33:03.922Z"
   },
   {
    "duration": 10,
    "start_time": "2023-12-26T15:33:09.897Z"
   },
   {
    "duration": 16,
    "start_time": "2023-12-26T15:33:12.907Z"
   },
   {
    "duration": 8,
    "start_time": "2023-12-26T15:35:08.412Z"
   },
   {
    "duration": 8,
    "start_time": "2023-12-26T15:35:44.437Z"
   },
   {
    "duration": 5,
    "start_time": "2023-12-26T15:36:04.292Z"
   },
   {
    "duration": 33,
    "start_time": "2023-12-26T15:36:12.700Z"
   },
   {
    "duration": 50,
    "start_time": "2023-12-26T15:36:39.863Z"
   },
   {
    "duration": 778,
    "start_time": "2023-12-26T15:36:49.342Z"
   },
   {
    "duration": 1216,
    "start_time": "2023-12-26T15:37:07.885Z"
   },
   {
    "duration": 40,
    "start_time": "2023-12-26T15:37:09.104Z"
   },
   {
    "duration": 12,
    "start_time": "2023-12-26T15:37:09.146Z"
   },
   {
    "duration": 52,
    "start_time": "2023-12-26T15:37:09.160Z"
   },
   {
    "duration": 12,
    "start_time": "2023-12-26T15:37:09.213Z"
   },
   {
    "duration": 23,
    "start_time": "2023-12-26T15:37:09.226Z"
   },
   {
    "duration": 11,
    "start_time": "2023-12-26T15:37:09.251Z"
   },
   {
    "duration": 19,
    "start_time": "2023-12-26T15:37:09.264Z"
   },
   {
    "duration": 27,
    "start_time": "2023-12-26T15:37:09.285Z"
   },
   {
    "duration": 15,
    "start_time": "2023-12-26T15:37:09.315Z"
   },
   {
    "duration": 18,
    "start_time": "2023-12-26T15:37:09.332Z"
   },
   {
    "duration": 5,
    "start_time": "2023-12-26T15:37:09.352Z"
   },
   {
    "duration": 22,
    "start_time": "2023-12-26T15:37:09.358Z"
   },
   {
    "duration": 8,
    "start_time": "2023-12-26T15:37:09.381Z"
   },
   {
    "duration": 25,
    "start_time": "2023-12-26T15:37:09.391Z"
   },
   {
    "duration": 27,
    "start_time": "2023-12-26T15:37:09.417Z"
   },
   {
    "duration": 26,
    "start_time": "2023-12-26T15:37:09.445Z"
   },
   {
    "duration": 191,
    "start_time": "2023-12-26T15:37:09.473Z"
   },
   {
    "duration": 206,
    "start_time": "2023-12-26T15:37:09.666Z"
   },
   {
    "duration": 8,
    "start_time": "2023-12-26T15:37:09.875Z"
   },
   {
    "duration": 26,
    "start_time": "2023-12-26T15:37:09.885Z"
   },
   {
    "duration": 150,
    "start_time": "2023-12-26T15:37:09.913Z"
   },
   {
    "duration": 209,
    "start_time": "2023-12-26T15:37:10.064Z"
   },
   {
    "duration": 14,
    "start_time": "2023-12-26T15:37:10.274Z"
   },
   {
    "duration": 127,
    "start_time": "2023-12-26T15:37:10.289Z"
   },
   {
    "duration": 8,
    "start_time": "2023-12-26T15:37:10.418Z"
   },
   {
    "duration": 311,
    "start_time": "2023-12-26T15:37:10.427Z"
   },
   {
    "duration": 512,
    "start_time": "2023-12-26T15:37:10.742Z"
   },
   {
    "duration": 8,
    "start_time": "2023-12-26T15:37:11.256Z"
   },
   {
    "duration": 32,
    "start_time": "2023-12-26T15:37:11.266Z"
   },
   {
    "duration": 9,
    "start_time": "2023-12-26T15:37:11.300Z"
   },
   {
    "duration": 20,
    "start_time": "2023-12-26T15:37:11.311Z"
   },
   {
    "duration": 425,
    "start_time": "2023-12-26T15:37:11.333Z"
   },
   {
    "duration": 28,
    "start_time": "2023-12-26T15:37:11.759Z"
   },
   {
    "duration": 42,
    "start_time": "2023-12-26T15:37:11.788Z"
   },
   {
    "duration": 5,
    "start_time": "2023-12-26T15:37:11.831Z"
   },
   {
    "duration": 27,
    "start_time": "2023-12-26T15:37:11.837Z"
   },
   {
    "duration": 46,
    "start_time": "2023-12-26T15:37:11.866Z"
   },
   {
    "duration": 756,
    "start_time": "2023-12-26T15:37:11.914Z"
   },
   {
    "duration": 820,
    "start_time": "2023-12-26T15:37:12.672Z"
   },
   {
    "duration": 48,
    "start_time": "2023-12-26T15:37:13.494Z"
   },
   {
    "duration": 4,
    "start_time": "2023-12-26T15:37:13.544Z"
   },
   {
    "duration": 22,
    "start_time": "2023-12-26T15:37:13.549Z"
   },
   {
    "duration": 49,
    "start_time": "2023-12-26T15:37:13.573Z"
   },
   {
    "duration": 8,
    "start_time": "2023-12-26T15:37:13.625Z"
   },
   {
    "duration": 7,
    "start_time": "2023-12-26T15:37:13.635Z"
   },
   {
    "duration": 16,
    "start_time": "2023-12-26T15:37:13.644Z"
   },
   {
    "duration": 20,
    "start_time": "2023-12-26T15:40:50.099Z"
   },
   {
    "duration": 18,
    "start_time": "2023-12-26T15:41:02.859Z"
   },
   {
    "duration": 21,
    "start_time": "2023-12-26T15:42:20.132Z"
   },
   {
    "duration": 3,
    "start_time": "2023-12-26T15:47:59.679Z"
   },
   {
    "duration": 1301,
    "start_time": "2023-12-26T15:48:08.369Z"
   },
   {
    "duration": 40,
    "start_time": "2023-12-26T15:48:09.672Z"
   },
   {
    "duration": 11,
    "start_time": "2023-12-26T15:48:09.714Z"
   },
   {
    "duration": 42,
    "start_time": "2023-12-26T15:48:09.727Z"
   },
   {
    "duration": 16,
    "start_time": "2023-12-26T15:48:09.772Z"
   },
   {
    "duration": 22,
    "start_time": "2023-12-26T15:48:09.789Z"
   },
   {
    "duration": 10,
    "start_time": "2023-12-26T15:48:09.813Z"
   },
   {
    "duration": 25,
    "start_time": "2023-12-26T15:48:09.826Z"
   },
   {
    "duration": 58,
    "start_time": "2023-12-26T15:48:09.853Z"
   },
   {
    "duration": 8,
    "start_time": "2023-12-26T15:48:09.913Z"
   },
   {
    "duration": 15,
    "start_time": "2023-12-26T15:48:09.923Z"
   },
   {
    "duration": 64,
    "start_time": "2023-12-26T15:48:09.939Z"
   },
   {
    "duration": 27,
    "start_time": "2023-12-26T15:48:10.005Z"
   },
   {
    "duration": 31,
    "start_time": "2023-12-26T15:48:10.035Z"
   },
   {
    "duration": 40,
    "start_time": "2023-12-26T15:48:10.068Z"
   },
   {
    "duration": 21,
    "start_time": "2023-12-26T15:48:10.109Z"
   },
   {
    "duration": 7,
    "start_time": "2023-12-26T15:48:10.132Z"
   },
   {
    "duration": 382,
    "start_time": "2023-12-26T15:48:10.140Z"
   },
   {
    "duration": 392,
    "start_time": "2023-12-26T15:48:10.523Z"
   },
   {
    "duration": 7,
    "start_time": "2023-12-26T15:48:10.917Z"
   },
   {
    "duration": 13,
    "start_time": "2023-12-26T15:48:10.926Z"
   },
   {
    "duration": 234,
    "start_time": "2023-12-26T15:48:11.000Z"
   },
   {
    "duration": 302,
    "start_time": "2023-12-26T15:48:11.236Z"
   },
   {
    "duration": 13,
    "start_time": "2023-12-26T15:48:11.540Z"
   },
   {
    "duration": 147,
    "start_time": "2023-12-26T15:48:11.554Z"
   },
   {
    "duration": 10,
    "start_time": "2023-12-26T15:48:11.703Z"
   },
   {
    "duration": 587,
    "start_time": "2023-12-26T15:48:11.715Z"
   },
   {
    "duration": 1220,
    "start_time": "2023-12-26T15:48:12.304Z"
   },
   {
    "duration": 8,
    "start_time": "2023-12-26T15:48:13.526Z"
   },
   {
    "duration": 14,
    "start_time": "2023-12-26T15:48:13.601Z"
   },
   {
    "duration": 9,
    "start_time": "2023-12-26T15:48:13.616Z"
   },
   {
    "duration": 79,
    "start_time": "2023-12-26T15:48:13.626Z"
   },
   {
    "duration": 828,
    "start_time": "2023-12-26T15:48:13.707Z"
   },
   {
    "duration": 71,
    "start_time": "2023-12-26T15:48:14.536Z"
   },
   {
    "duration": 30,
    "start_time": "2023-12-26T15:48:14.609Z"
   },
   {
    "duration": 4,
    "start_time": "2023-12-26T15:48:14.640Z"
   },
   {
    "duration": 21,
    "start_time": "2023-12-26T15:48:14.701Z"
   },
   {
    "duration": 76,
    "start_time": "2023-12-26T15:48:14.724Z"
   },
   {
    "duration": 1602,
    "start_time": "2023-12-26T15:48:14.802Z"
   },
   {
    "duration": 1926,
    "start_time": "2023-12-26T15:48:16.406Z"
   },
   {
    "duration": 173,
    "start_time": "2023-12-26T15:48:18.338Z"
   },
   {
    "duration": 5,
    "start_time": "2023-12-26T15:48:18.512Z"
   },
   {
    "duration": 85,
    "start_time": "2023-12-26T15:48:18.519Z"
   },
   {
    "duration": 28,
    "start_time": "2023-12-26T15:48:18.606Z"
   },
   {
    "duration": 70,
    "start_time": "2023-12-26T15:48:18.635Z"
   },
   {
    "duration": 6,
    "start_time": "2023-12-26T15:48:18.707Z"
   },
   {
    "duration": 21,
    "start_time": "2023-12-26T15:48:18.715Z"
   },
   {
    "duration": 46,
    "start_time": "2023-12-26T15:54:33.776Z"
   },
   {
    "duration": 47,
    "start_time": "2023-12-26T15:54:44.432Z"
   },
   {
    "duration": 45,
    "start_time": "2023-12-26T15:54:59.367Z"
   },
   {
    "duration": 40,
    "start_time": "2023-12-26T15:55:17.960Z"
   },
   {
    "duration": 16,
    "start_time": "2023-12-26T15:55:22.760Z"
   },
   {
    "duration": 1115,
    "start_time": "2023-12-26T16:31:44.641Z"
   },
   {
    "duration": 40,
    "start_time": "2023-12-26T16:31:45.758Z"
   },
   {
    "duration": 11,
    "start_time": "2023-12-26T16:31:45.800Z"
   },
   {
    "duration": 52,
    "start_time": "2023-12-26T16:31:45.813Z"
   },
   {
    "duration": 12,
    "start_time": "2023-12-26T16:31:45.866Z"
   },
   {
    "duration": 30,
    "start_time": "2023-12-26T16:31:45.879Z"
   },
   {
    "duration": 9,
    "start_time": "2023-12-26T16:31:45.911Z"
   },
   {
    "duration": 16,
    "start_time": "2023-12-26T16:31:45.922Z"
   },
   {
    "duration": 12,
    "start_time": "2023-12-26T16:31:45.940Z"
   },
   {
    "duration": 7,
    "start_time": "2023-12-26T16:31:45.954Z"
   },
   {
    "duration": 18,
    "start_time": "2023-12-26T16:31:45.963Z"
   },
   {
    "duration": 9,
    "start_time": "2023-12-26T16:31:45.982Z"
   },
   {
    "duration": 24,
    "start_time": "2023-12-26T16:31:45.992Z"
   },
   {
    "duration": 7,
    "start_time": "2023-12-26T16:31:46.018Z"
   },
   {
    "duration": 5,
    "start_time": "2023-12-26T16:31:46.027Z"
   },
   {
    "duration": 35,
    "start_time": "2023-12-26T16:31:46.033Z"
   },
   {
    "duration": 21,
    "start_time": "2023-12-26T16:31:46.069Z"
   },
   {
    "duration": 174,
    "start_time": "2023-12-26T16:31:46.091Z"
   },
   {
    "duration": 174,
    "start_time": "2023-12-26T16:31:46.267Z"
   },
   {
    "duration": 6,
    "start_time": "2023-12-26T16:31:46.442Z"
   },
   {
    "duration": 25,
    "start_time": "2023-12-26T16:31:46.450Z"
   },
   {
    "duration": 117,
    "start_time": "2023-12-26T16:31:46.476Z"
   },
   {
    "duration": 190,
    "start_time": "2023-12-26T16:31:46.594Z"
   },
   {
    "duration": 12,
    "start_time": "2023-12-26T16:31:46.786Z"
   },
   {
    "duration": 121,
    "start_time": "2023-12-26T16:31:46.799Z"
   },
   {
    "duration": 7,
    "start_time": "2023-12-26T16:31:46.922Z"
   },
   {
    "duration": 302,
    "start_time": "2023-12-26T16:31:46.931Z"
   },
   {
    "duration": 464,
    "start_time": "2023-12-26T16:31:47.237Z"
   },
   {
    "duration": 8,
    "start_time": "2023-12-26T16:31:47.702Z"
   },
   {
    "duration": 14,
    "start_time": "2023-12-26T16:31:47.712Z"
   },
   {
    "duration": 11,
    "start_time": "2023-12-26T16:31:47.728Z"
   },
   {
    "duration": 8,
    "start_time": "2023-12-26T16:31:47.741Z"
   },
   {
    "duration": 454,
    "start_time": "2023-12-26T16:31:47.752Z"
   },
   {
    "duration": 26,
    "start_time": "2023-12-26T16:31:48.207Z"
   },
   {
    "duration": 29,
    "start_time": "2023-12-26T16:31:48.234Z"
   },
   {
    "duration": 27,
    "start_time": "2023-12-26T16:31:48.264Z"
   },
   {
    "duration": 31,
    "start_time": "2023-12-26T16:31:48.292Z"
   },
   {
    "duration": 21,
    "start_time": "2023-12-26T16:31:48.324Z"
   },
   {
    "duration": 753,
    "start_time": "2023-12-26T16:31:48.346Z"
   },
   {
    "duration": 764,
    "start_time": "2023-12-26T16:31:49.101Z"
   },
   {
    "duration": 45,
    "start_time": "2023-12-26T16:31:49.866Z"
   },
   {
    "duration": 15,
    "start_time": "2023-12-26T16:31:49.912Z"
   },
   {
    "duration": 25,
    "start_time": "2023-12-26T16:31:49.928Z"
   },
   {
    "duration": 7,
    "start_time": "2023-12-26T16:31:49.955Z"
   },
   {
    "duration": 27,
    "start_time": "2023-12-26T16:31:49.964Z"
   },
   {
    "duration": 98,
    "start_time": "2023-12-26T16:31:49.992Z"
   },
   {
    "duration": 7,
    "start_time": "2023-12-26T16:33:27.884Z"
   },
   {
    "duration": 50,
    "start_time": "2023-12-28T11:42:48.195Z"
   },
   {
    "duration": 1238,
    "start_time": "2023-12-28T11:42:56.590Z"
   },
   {
    "duration": 85,
    "start_time": "2023-12-28T11:42:57.831Z"
   },
   {
    "duration": 12,
    "start_time": "2023-12-28T11:42:57.917Z"
   },
   {
    "duration": 116,
    "start_time": "2023-12-28T11:42:57.930Z"
   },
   {
    "duration": 10,
    "start_time": "2023-12-28T11:42:58.048Z"
   },
   {
    "duration": 87,
    "start_time": "2023-12-28T11:42:58.060Z"
   },
   {
    "duration": 9,
    "start_time": "2023-12-28T11:42:58.148Z"
   },
   {
    "duration": 45,
    "start_time": "2023-12-28T11:42:58.159Z"
   },
   {
    "duration": 23,
    "start_time": "2023-12-28T11:42:58.205Z"
   },
   {
    "duration": 26,
    "start_time": "2023-12-28T11:42:58.232Z"
   },
   {
    "duration": 10,
    "start_time": "2023-12-28T11:42:58.260Z"
   },
   {
    "duration": 17,
    "start_time": "2023-12-28T11:42:58.271Z"
   },
   {
    "duration": 26,
    "start_time": "2023-12-28T11:42:58.289Z"
   },
   {
    "duration": 25,
    "start_time": "2023-12-28T11:42:58.316Z"
   },
   {
    "duration": 26,
    "start_time": "2023-12-28T11:42:58.343Z"
   },
   {
    "duration": 19,
    "start_time": "2023-12-28T11:42:58.371Z"
   },
   {
    "duration": 13,
    "start_time": "2023-12-28T11:42:58.392Z"
   },
   {
    "duration": 183,
    "start_time": "2023-12-28T11:42:58.407Z"
   },
   {
    "duration": 175,
    "start_time": "2023-12-28T11:42:58.591Z"
   },
   {
    "duration": 8,
    "start_time": "2023-12-28T11:42:58.767Z"
   },
   {
    "duration": 30,
    "start_time": "2023-12-28T11:42:58.776Z"
   },
   {
    "duration": 127,
    "start_time": "2023-12-28T11:42:58.808Z"
   },
   {
    "duration": 178,
    "start_time": "2023-12-28T11:42:58.937Z"
   },
   {
    "duration": 12,
    "start_time": "2023-12-28T11:42:59.116Z"
   },
   {
    "duration": 123,
    "start_time": "2023-12-28T11:42:59.129Z"
   },
   {
    "duration": 7,
    "start_time": "2023-12-28T11:42:59.254Z"
   },
   {
    "duration": 265,
    "start_time": "2023-12-28T11:42:59.263Z"
   },
   {
    "duration": 465,
    "start_time": "2023-12-28T11:42:59.532Z"
   },
   {
    "duration": 8,
    "start_time": "2023-12-28T11:42:59.999Z"
   },
   {
    "duration": 71,
    "start_time": "2023-12-28T11:43:00.008Z"
   },
   {
    "duration": 31,
    "start_time": "2023-12-28T11:43:00.081Z"
   },
   {
    "duration": 39,
    "start_time": "2023-12-28T11:43:00.114Z"
   },
   {
    "duration": 432,
    "start_time": "2023-12-28T11:43:00.155Z"
   },
   {
    "duration": 23,
    "start_time": "2023-12-28T11:43:00.589Z"
   },
   {
    "duration": 42,
    "start_time": "2023-12-28T11:43:00.613Z"
   },
   {
    "duration": 6,
    "start_time": "2023-12-28T11:43:00.656Z"
   },
   {
    "duration": 41,
    "start_time": "2023-12-28T11:43:00.663Z"
   },
   {
    "duration": 29,
    "start_time": "2023-12-28T11:43:00.706Z"
   },
   {
    "duration": 755,
    "start_time": "2023-12-28T11:43:00.737Z"
   },
   {
    "duration": 745,
    "start_time": "2023-12-28T11:43:01.494Z"
   },
   {
    "duration": 30,
    "start_time": "2023-12-28T11:43:02.242Z"
   },
   {
    "duration": 32,
    "start_time": "2023-12-28T11:43:02.273Z"
   },
   {
    "duration": 56,
    "start_time": "2023-12-28T11:43:02.307Z"
   },
   {
    "duration": 32,
    "start_time": "2023-12-28T11:43:02.365Z"
   },
   {
    "duration": 30,
    "start_time": "2023-12-28T11:43:02.399Z"
   },
   {
    "duration": 21,
    "start_time": "2023-12-28T11:43:02.431Z"
   },
   {
    "duration": 99,
    "start_time": "2023-12-28T11:43:02.454Z"
   },
   {
    "duration": 8,
    "start_time": "2023-12-28T11:43:28.156Z"
   },
   {
    "duration": 4,
    "start_time": "2023-12-28T11:43:40.875Z"
   },
   {
    "duration": 219,
    "start_time": "2023-12-28T11:43:46.555Z"
   },
   {
    "duration": 7,
    "start_time": "2023-12-28T11:44:49.773Z"
   },
   {
    "duration": 253,
    "start_time": "2023-12-28T11:45:00.900Z"
   },
   {
    "duration": 8,
    "start_time": "2023-12-28T11:45:02.956Z"
   },
   {
    "duration": 1471,
    "start_time": "2023-12-28T11:58:13.266Z"
   },
   {
    "duration": 239,
    "start_time": "2023-12-28T11:58:46.713Z"
   },
   {
    "duration": 4,
    "start_time": "2023-12-28T12:01:03.165Z"
   },
   {
    "duration": 4,
    "start_time": "2023-12-28T12:01:08.932Z"
   },
   {
    "duration": 6,
    "start_time": "2023-12-28T12:01:33.699Z"
   },
   {
    "duration": 5,
    "start_time": "2023-12-28T12:01:38.405Z"
   },
   {
    "duration": 4,
    "start_time": "2023-12-28T12:01:44.749Z"
   },
   {
    "duration": 4,
    "start_time": "2023-12-28T12:01:49.292Z"
   },
   {
    "duration": 4,
    "start_time": "2023-12-28T12:02:53.358Z"
   },
   {
    "duration": 5,
    "start_time": "2023-12-28T12:02:57.958Z"
   },
   {
    "duration": 5,
    "start_time": "2023-12-28T12:03:15.838Z"
   },
   {
    "duration": 4,
    "start_time": "2023-12-28T12:03:21.686Z"
   },
   {
    "duration": 4,
    "start_time": "2023-12-28T12:03:24.286Z"
   },
   {
    "duration": 4,
    "start_time": "2023-12-28T12:03:28.607Z"
   },
   {
    "duration": 4,
    "start_time": "2023-12-28T12:03:31.846Z"
   },
   {
    "duration": 5,
    "start_time": "2023-12-28T12:03:54.399Z"
   },
   {
    "duration": 1612,
    "start_time": "2023-12-28T12:04:25.040Z"
   },
   {
    "duration": 376,
    "start_time": "2023-12-28T12:04:45.808Z"
   },
   {
    "duration": 1652,
    "start_time": "2023-12-28T12:05:03.714Z"
   },
   {
    "duration": 1725,
    "start_time": "2023-12-28T12:05:08.736Z"
   },
   {
    "duration": 7,
    "start_time": "2023-12-28T12:06:55.706Z"
   },
   {
    "duration": 128,
    "start_time": "2023-12-28T12:07:42.066Z"
   },
   {
    "duration": 1631,
    "start_time": "2023-12-28T12:07:53.443Z"
   },
   {
    "duration": 1639,
    "start_time": "2023-12-28T12:07:59.300Z"
   },
   {
    "duration": 333,
    "start_time": "2023-12-28T12:08:16.120Z"
   },
   {
    "duration": 343,
    "start_time": "2023-12-28T12:08:17.795Z"
   },
   {
    "duration": 461,
    "start_time": "2023-12-28T12:08:21.476Z"
   },
   {
    "duration": 333,
    "start_time": "2023-12-28T12:08:24.883Z"
   },
   {
    "duration": 885,
    "start_time": "2023-12-28T12:08:45.324Z"
   },
   {
    "duration": 257,
    "start_time": "2023-12-28T12:09:00.189Z"
   },
   {
    "duration": 168,
    "start_time": "2023-12-28T12:09:48.197Z"
   },
   {
    "duration": 256,
    "start_time": "2023-12-28T12:10:08.259Z"
   },
   {
    "duration": 1219,
    "start_time": "2023-12-28T12:10:27.727Z"
   },
   {
    "duration": 1743,
    "start_time": "2023-12-28T12:10:45.277Z"
   },
   {
    "duration": 1747,
    "start_time": "2023-12-28T12:10:53.510Z"
   },
   {
    "duration": 1440,
    "start_time": "2023-12-28T12:11:08.214Z"
   },
   {
    "duration": 1226,
    "start_time": "2023-12-28T12:11:29.039Z"
   },
   {
    "duration": 343,
    "start_time": "2023-12-28T12:11:36.992Z"
   },
   {
    "duration": 326,
    "start_time": "2023-12-28T12:11:50.280Z"
   },
   {
    "duration": 407,
    "start_time": "2023-12-28T12:11:55.463Z"
   },
   {
    "duration": 2177,
    "start_time": "2023-12-28T12:12:06.663Z"
   },
   {
    "duration": 2002,
    "start_time": "2023-12-28T12:12:20.744Z"
   },
   {
    "duration": 1705,
    "start_time": "2023-12-28T12:21:16.489Z"
   },
   {
    "duration": 3,
    "start_time": "2023-12-28T12:21:38.712Z"
   },
   {
    "duration": 3,
    "start_time": "2023-12-28T12:23:09.410Z"
   },
   {
    "duration": 10,
    "start_time": "2023-12-28T12:28:51.312Z"
   },
   {
    "duration": 10,
    "start_time": "2023-12-28T12:29:04.641Z"
   },
   {
    "duration": 14,
    "start_time": "2023-12-28T12:29:12.681Z"
   },
   {
    "duration": 5,
    "start_time": "2023-12-28T12:29:28.808Z"
   },
   {
    "duration": 7,
    "start_time": "2023-12-28T12:29:36.896Z"
   },
   {
    "duration": 6,
    "start_time": "2023-12-28T12:30:25.282Z"
   },
   {
    "duration": 8,
    "start_time": "2023-12-28T12:30:29.660Z"
   },
   {
    "duration": 9,
    "start_time": "2023-12-28T12:30:33.514Z"
   },
   {
    "duration": 7,
    "start_time": "2023-12-28T12:30:38.123Z"
   },
   {
    "duration": 6,
    "start_time": "2023-12-28T12:30:41.058Z"
   },
   {
    "duration": 6,
    "start_time": "2023-12-28T12:30:46.530Z"
   },
   {
    "duration": 6,
    "start_time": "2023-12-28T12:30:52.946Z"
   },
   {
    "duration": 8,
    "start_time": "2023-12-28T12:30:57.625Z"
   },
   {
    "duration": 7,
    "start_time": "2023-12-28T12:31:01.194Z"
   },
   {
    "duration": 6,
    "start_time": "2023-12-28T12:31:15.411Z"
   },
   {
    "duration": 7,
    "start_time": "2023-12-28T12:31:19.874Z"
   },
   {
    "duration": 7,
    "start_time": "2023-12-28T12:31:23.619Z"
   },
   {
    "duration": 6,
    "start_time": "2023-12-28T12:31:27.035Z"
   },
   {
    "duration": 6,
    "start_time": "2023-12-28T12:31:30.707Z"
   },
   {
    "duration": 6,
    "start_time": "2023-12-28T12:31:33.451Z"
   },
   {
    "duration": 6,
    "start_time": "2023-12-28T12:31:36.931Z"
   },
   {
    "duration": 7,
    "start_time": "2023-12-28T12:31:39.827Z"
   },
   {
    "duration": 6,
    "start_time": "2023-12-28T12:34:28.407Z"
   },
   {
    "duration": 8,
    "start_time": "2023-12-28T12:34:31.806Z"
   },
   {
    "duration": 7,
    "start_time": "2023-12-28T12:34:35.503Z"
   },
   {
    "duration": 8,
    "start_time": "2023-12-28T12:34:40.455Z"
   },
   {
    "duration": 6,
    "start_time": "2023-12-28T12:34:45.102Z"
   },
   {
    "duration": 6,
    "start_time": "2023-12-28T12:34:48.206Z"
   },
   {
    "duration": 6,
    "start_time": "2023-12-28T12:34:51.360Z"
   },
   {
    "duration": 6,
    "start_time": "2023-12-28T12:34:54.662Z"
   },
   {
    "duration": 6,
    "start_time": "2023-12-28T12:34:57.031Z"
   },
   {
    "duration": 6,
    "start_time": "2023-12-28T12:35:04.566Z"
   },
   {
    "duration": 6,
    "start_time": "2023-12-28T12:35:07.479Z"
   },
   {
    "duration": 6,
    "start_time": "2023-12-28T12:35:12.575Z"
   },
   {
    "duration": 6,
    "start_time": "2023-12-28T12:35:19.464Z"
   },
   {
    "duration": 1919,
    "start_time": "2023-12-28T12:35:24.335Z"
   },
   {
    "duration": 1900,
    "start_time": "2023-12-28T12:35:43.863Z"
   },
   {
    "duration": 1926,
    "start_time": "2023-12-28T12:35:52.407Z"
   },
   {
    "duration": 1828,
    "start_time": "2023-12-28T12:36:32.993Z"
   },
   {
    "duration": 452,
    "start_time": "2023-12-28T12:36:46.409Z"
   },
   {
    "duration": 9,
    "start_time": "2023-12-28T12:37:06.977Z"
   },
   {
    "duration": 6,
    "start_time": "2023-12-28T12:37:13.120Z"
   },
   {
    "duration": 6,
    "start_time": "2023-12-28T12:39:58.092Z"
   },
   {
    "duration": 6,
    "start_time": "2023-12-28T12:40:17.252Z"
   },
   {
    "duration": 6,
    "start_time": "2023-12-28T12:44:35.376Z"
   },
   {
    "duration": 7,
    "start_time": "2023-12-28T12:45:01.816Z"
   },
   {
    "duration": 6,
    "start_time": "2023-12-28T12:46:22.674Z"
   },
   {
    "duration": 8,
    "start_time": "2023-12-28T12:46:58.606Z"
   },
   {
    "duration": 6,
    "start_time": "2023-12-28T12:47:03.539Z"
   },
   {
    "duration": 6,
    "start_time": "2023-12-28T12:47:11.476Z"
   },
   {
    "duration": 7,
    "start_time": "2023-12-28T12:48:15.653Z"
   },
   {
    "duration": 7,
    "start_time": "2023-12-28T12:48:21.340Z"
   },
   {
    "duration": 6,
    "start_time": "2023-12-28T12:48:25.253Z"
   },
   {
    "duration": 1194,
    "start_time": "2023-12-28T12:48:35.727Z"
   },
   {
    "duration": 40,
    "start_time": "2023-12-28T12:48:36.923Z"
   },
   {
    "duration": 12,
    "start_time": "2023-12-28T12:48:36.964Z"
   },
   {
    "duration": 42,
    "start_time": "2023-12-28T12:48:36.978Z"
   },
   {
    "duration": 14,
    "start_time": "2023-12-28T12:48:37.021Z"
   },
   {
    "duration": 29,
    "start_time": "2023-12-28T12:48:37.036Z"
   },
   {
    "duration": 23,
    "start_time": "2023-12-28T12:48:37.067Z"
   },
   {
    "duration": 28,
    "start_time": "2023-12-28T12:48:37.092Z"
   },
   {
    "duration": 30,
    "start_time": "2023-12-28T12:48:37.122Z"
   },
   {
    "duration": 20,
    "start_time": "2023-12-28T12:48:37.155Z"
   },
   {
    "duration": 19,
    "start_time": "2023-12-28T12:48:37.176Z"
   },
   {
    "duration": 33,
    "start_time": "2023-12-28T12:48:37.196Z"
   },
   {
    "duration": 26,
    "start_time": "2023-12-28T12:48:37.231Z"
   },
   {
    "duration": 31,
    "start_time": "2023-12-28T12:48:37.258Z"
   },
   {
    "duration": 47,
    "start_time": "2023-12-28T12:48:37.290Z"
   },
   {
    "duration": 25,
    "start_time": "2023-12-28T12:48:37.339Z"
   },
   {
    "duration": 30,
    "start_time": "2023-12-28T12:48:37.365Z"
   },
   {
    "duration": 187,
    "start_time": "2023-12-28T12:48:37.396Z"
   },
   {
    "duration": 173,
    "start_time": "2023-12-28T12:48:37.584Z"
   },
   {
    "duration": 7,
    "start_time": "2023-12-28T12:48:37.759Z"
   },
   {
    "duration": 28,
    "start_time": "2023-12-28T12:48:37.768Z"
   },
   {
    "duration": 138,
    "start_time": "2023-12-28T12:48:37.798Z"
   },
   {
    "duration": 189,
    "start_time": "2023-12-28T12:48:37.938Z"
   },
   {
    "duration": 15,
    "start_time": "2023-12-28T12:48:38.128Z"
   },
   {
    "duration": 128,
    "start_time": "2023-12-28T12:48:38.144Z"
   },
   {
    "duration": 7,
    "start_time": "2023-12-28T12:48:38.274Z"
   },
   {
    "duration": 315,
    "start_time": "2023-12-28T12:48:38.282Z"
   },
   {
    "duration": 460,
    "start_time": "2023-12-28T12:48:38.601Z"
   },
   {
    "duration": 8,
    "start_time": "2023-12-28T12:48:39.062Z"
   },
   {
    "duration": 34,
    "start_time": "2023-12-28T12:48:39.072Z"
   },
   {
    "duration": 18,
    "start_time": "2023-12-28T12:48:39.108Z"
   },
   {
    "duration": 27,
    "start_time": "2023-12-28T12:48:39.128Z"
   },
   {
    "duration": 394,
    "start_time": "2023-12-28T12:48:39.157Z"
   },
   {
    "duration": 24,
    "start_time": "2023-12-28T12:48:39.553Z"
   },
   {
    "duration": 30,
    "start_time": "2023-12-28T12:48:39.578Z"
   },
   {
    "duration": 7,
    "start_time": "2023-12-28T12:48:39.610Z"
   },
   {
    "duration": 55,
    "start_time": "2023-12-28T12:48:39.619Z"
   },
   {
    "duration": 49,
    "start_time": "2023-12-28T12:48:39.676Z"
   },
   {
    "duration": 680,
    "start_time": "2023-12-28T12:48:39.727Z"
   },
   {
    "duration": 734,
    "start_time": "2023-12-28T12:48:40.409Z"
   },
   {
    "duration": 35,
    "start_time": "2023-12-28T12:48:41.145Z"
   },
   {
    "duration": 18,
    "start_time": "2023-12-28T12:48:41.182Z"
   },
   {
    "duration": 47,
    "start_time": "2023-12-28T12:48:41.202Z"
   },
   {
    "duration": 8,
    "start_time": "2023-12-28T12:48:41.251Z"
   },
   {
    "duration": 32,
    "start_time": "2023-12-28T12:48:41.260Z"
   },
   {
    "duration": 47,
    "start_time": "2023-12-28T12:48:41.294Z"
   },
   {
    "duration": 1789,
    "start_time": "2023-12-28T12:48:41.343Z"
   },
   {
    "duration": 10,
    "start_time": "2023-12-28T12:48:43.133Z"
   },
   {
    "duration": 28,
    "start_time": "2023-12-28T12:48:43.144Z"
   },
   {
    "duration": 96,
    "start_time": "2023-12-28T12:49:14.017Z"
   },
   {
    "duration": 6,
    "start_time": "2023-12-28T12:49:18.052Z"
   },
   {
    "duration": 8,
    "start_time": "2023-12-28T12:49:19.660Z"
   },
   {
    "duration": 1107,
    "start_time": "2023-12-28T12:49:26.983Z"
   },
   {
    "duration": 40,
    "start_time": "2023-12-28T12:49:28.092Z"
   },
   {
    "duration": 12,
    "start_time": "2023-12-28T12:49:28.134Z"
   },
   {
    "duration": 38,
    "start_time": "2023-12-28T12:49:28.148Z"
   },
   {
    "duration": 10,
    "start_time": "2023-12-28T12:49:28.188Z"
   },
   {
    "duration": 19,
    "start_time": "2023-12-28T12:49:28.200Z"
   },
   {
    "duration": 11,
    "start_time": "2023-12-28T12:49:28.220Z"
   },
   {
    "duration": 22,
    "start_time": "2023-12-28T12:49:28.233Z"
   },
   {
    "duration": 14,
    "start_time": "2023-12-28T12:49:28.256Z"
   },
   {
    "duration": 6,
    "start_time": "2023-12-28T12:49:28.273Z"
   },
   {
    "duration": 12,
    "start_time": "2023-12-28T12:49:28.281Z"
   },
   {
    "duration": 6,
    "start_time": "2023-12-28T12:49:28.294Z"
   },
   {
    "duration": 42,
    "start_time": "2023-12-28T12:49:28.302Z"
   },
   {
    "duration": 7,
    "start_time": "2023-12-28T12:49:28.346Z"
   },
   {
    "duration": 6,
    "start_time": "2023-12-28T12:49:28.354Z"
   },
   {
    "duration": 5,
    "start_time": "2023-12-28T12:49:28.362Z"
   },
   {
    "duration": 5,
    "start_time": "2023-12-28T12:49:28.368Z"
   },
   {
    "duration": 200,
    "start_time": "2023-12-28T12:49:28.375Z"
   },
   {
    "duration": 170,
    "start_time": "2023-12-28T12:49:28.577Z"
   },
   {
    "duration": 7,
    "start_time": "2023-12-28T12:49:28.749Z"
   },
   {
    "duration": 17,
    "start_time": "2023-12-28T12:49:28.758Z"
   },
   {
    "duration": 124,
    "start_time": "2023-12-28T12:49:28.777Z"
   },
   {
    "duration": 190,
    "start_time": "2023-12-28T12:49:28.903Z"
   },
   {
    "duration": 12,
    "start_time": "2023-12-28T12:49:29.095Z"
   },
   {
    "duration": 120,
    "start_time": "2023-12-28T12:49:29.108Z"
   },
   {
    "duration": 14,
    "start_time": "2023-12-28T12:49:29.229Z"
   },
   {
    "duration": 317,
    "start_time": "2023-12-28T12:49:29.245Z"
   },
   {
    "duration": 471,
    "start_time": "2023-12-28T12:49:29.566Z"
   },
   {
    "duration": 9,
    "start_time": "2023-12-28T12:49:30.039Z"
   },
   {
    "duration": 42,
    "start_time": "2023-12-28T12:49:30.049Z"
   },
   {
    "duration": 25,
    "start_time": "2023-12-28T12:49:30.093Z"
   },
   {
    "duration": 50,
    "start_time": "2023-12-28T12:49:30.120Z"
   },
   {
    "duration": 445,
    "start_time": "2023-12-28T12:49:30.171Z"
   },
   {
    "duration": 29,
    "start_time": "2023-12-28T12:49:30.617Z"
   },
   {
    "duration": 39,
    "start_time": "2023-12-28T12:49:30.648Z"
   },
   {
    "duration": 3,
    "start_time": "2023-12-28T12:49:30.688Z"
   },
   {
    "duration": 37,
    "start_time": "2023-12-28T12:49:30.693Z"
   },
   {
    "duration": 35,
    "start_time": "2023-12-28T12:49:30.732Z"
   },
   {
    "duration": 706,
    "start_time": "2023-12-28T12:49:30.769Z"
   },
   {
    "duration": 703,
    "start_time": "2023-12-28T12:49:31.477Z"
   },
   {
    "duration": 31,
    "start_time": "2023-12-28T12:49:32.182Z"
   },
   {
    "duration": 14,
    "start_time": "2023-12-28T12:49:32.214Z"
   },
   {
    "duration": 35,
    "start_time": "2023-12-28T12:49:32.229Z"
   },
   {
    "duration": 7,
    "start_time": "2023-12-28T12:49:32.266Z"
   },
   {
    "duration": 29,
    "start_time": "2023-12-28T12:49:32.274Z"
   },
   {
    "duration": 25,
    "start_time": "2023-12-28T12:49:32.305Z"
   },
   {
    "duration": 1826,
    "start_time": "2023-12-28T12:49:32.331Z"
   },
   {
    "duration": 6,
    "start_time": "2023-12-28T12:49:34.158Z"
   },
   {
    "duration": 23,
    "start_time": "2023-12-28T12:49:34.166Z"
   },
   {
    "duration": 6,
    "start_time": "2023-12-28T12:49:58.118Z"
   },
   {
    "duration": 6,
    "start_time": "2023-12-28T12:50:03.038Z"
   },
   {
    "duration": 5,
    "start_time": "2023-12-28T12:50:06.542Z"
   },
   {
    "duration": 5,
    "start_time": "2023-12-28T12:50:13.838Z"
   },
   {
    "duration": 6,
    "start_time": "2023-12-28T12:50:17.767Z"
   },
   {
    "duration": 5,
    "start_time": "2023-12-28T12:50:20.895Z"
   },
   {
    "duration": 6,
    "start_time": "2023-12-28T12:50:23.774Z"
   },
   {
    "duration": 6,
    "start_time": "2023-12-28T12:50:27.477Z"
   },
   {
    "duration": 6,
    "start_time": "2023-12-28T12:50:30.814Z"
   },
   {
    "duration": 6,
    "start_time": "2023-12-28T12:50:34.870Z"
   },
   {
    "duration": 6,
    "start_time": "2023-12-28T12:50:38.886Z"
   },
   {
    "duration": 1864,
    "start_time": "2023-12-28T12:50:43.927Z"
   },
   {
    "duration": 94,
    "start_time": "2023-12-28T12:53:48.074Z"
   },
   {
    "duration": 10,
    "start_time": "2023-12-28T12:53:54.393Z"
   },
   {
    "duration": 9,
    "start_time": "2023-12-28T12:54:06.434Z"
   },
   {
    "duration": 9,
    "start_time": "2023-12-28T12:54:15.042Z"
   },
   {
    "duration": 8,
    "start_time": "2023-12-28T12:54:24.450Z"
   },
   {
    "duration": 8,
    "start_time": "2023-12-28T12:54:29.826Z"
   },
   {
    "duration": 9,
    "start_time": "2023-12-28T12:54:41.378Z"
   },
   {
    "duration": 8,
    "start_time": "2023-12-28T12:54:46.449Z"
   },
   {
    "duration": 6,
    "start_time": "2023-12-28T12:54:55.427Z"
   },
   {
    "duration": 8,
    "start_time": "2023-12-28T12:54:56.667Z"
   },
   {
    "duration": 114,
    "start_time": "2023-12-28T12:55:14.258Z"
   },
   {
    "duration": 101,
    "start_time": "2023-12-28T12:55:23.875Z"
   },
   {
    "duration": 6,
    "start_time": "2023-12-28T12:56:23.141Z"
   },
   {
    "duration": 253,
    "start_time": "2023-12-28T12:56:37.708Z"
   },
   {
    "duration": 11,
    "start_time": "2023-12-28T12:57:11.542Z"
   },
   {
    "duration": 1127,
    "start_time": "2023-12-28T12:58:25.210Z"
   },
   {
    "duration": 42,
    "start_time": "2023-12-28T12:58:26.339Z"
   },
   {
    "duration": 11,
    "start_time": "2023-12-28T12:58:26.383Z"
   },
   {
    "duration": 39,
    "start_time": "2023-12-28T12:58:26.396Z"
   },
   {
    "duration": 11,
    "start_time": "2023-12-28T12:58:26.437Z"
   },
   {
    "duration": 23,
    "start_time": "2023-12-28T12:58:26.450Z"
   },
   {
    "duration": 10,
    "start_time": "2023-12-28T12:58:26.474Z"
   },
   {
    "duration": 14,
    "start_time": "2023-12-28T12:58:26.486Z"
   },
   {
    "duration": 12,
    "start_time": "2023-12-28T12:58:26.502Z"
   },
   {
    "duration": 27,
    "start_time": "2023-12-28T12:58:26.517Z"
   },
   {
    "duration": 11,
    "start_time": "2023-12-28T12:58:26.546Z"
   },
   {
    "duration": 12,
    "start_time": "2023-12-28T12:58:26.558Z"
   },
   {
    "duration": 22,
    "start_time": "2023-12-28T12:58:26.572Z"
   },
   {
    "duration": 23,
    "start_time": "2023-12-28T12:58:26.596Z"
   },
   {
    "duration": 10,
    "start_time": "2023-12-28T12:58:26.621Z"
   },
   {
    "duration": 22,
    "start_time": "2023-12-28T12:58:26.633Z"
   },
   {
    "duration": 14,
    "start_time": "2023-12-28T12:58:26.656Z"
   },
   {
    "duration": 184,
    "start_time": "2023-12-28T12:58:26.671Z"
   },
   {
    "duration": 159,
    "start_time": "2023-12-28T12:58:26.857Z"
   },
   {
    "duration": 6,
    "start_time": "2023-12-28T12:58:27.018Z"
   },
   {
    "duration": 22,
    "start_time": "2023-12-28T12:58:27.025Z"
   },
   {
    "duration": 124,
    "start_time": "2023-12-28T12:58:27.049Z"
   },
   {
    "duration": 198,
    "start_time": "2023-12-28T12:58:27.175Z"
   },
   {
    "duration": 13,
    "start_time": "2023-12-28T12:58:27.375Z"
   },
   {
    "duration": 143,
    "start_time": "2023-12-28T12:58:27.389Z"
   },
   {
    "duration": 9,
    "start_time": "2023-12-28T12:58:27.534Z"
   },
   {
    "duration": 280,
    "start_time": "2023-12-28T12:58:27.545Z"
   },
   {
    "duration": 445,
    "start_time": "2023-12-28T12:58:27.829Z"
   },
   {
    "duration": 8,
    "start_time": "2023-12-28T12:58:28.275Z"
   },
   {
    "duration": 21,
    "start_time": "2023-12-28T12:58:28.284Z"
   },
   {
    "duration": 7,
    "start_time": "2023-12-28T12:58:28.307Z"
   },
   {
    "duration": 7,
    "start_time": "2023-12-28T12:58:28.315Z"
   },
   {
    "duration": 375,
    "start_time": "2023-12-28T12:58:28.324Z"
   },
   {
    "duration": 24,
    "start_time": "2023-12-28T12:58:28.701Z"
   },
   {
    "duration": 38,
    "start_time": "2023-12-28T12:58:28.727Z"
   },
   {
    "duration": 14,
    "start_time": "2023-12-28T12:58:28.766Z"
   },
   {
    "duration": 28,
    "start_time": "2023-12-28T12:58:28.782Z"
   },
   {
    "duration": 30,
    "start_time": "2023-12-28T12:58:28.812Z"
   },
   {
    "duration": 703,
    "start_time": "2023-12-28T12:58:28.844Z"
   },
   {
    "duration": 714,
    "start_time": "2023-12-28T12:58:29.548Z"
   },
   {
    "duration": 31,
    "start_time": "2023-12-28T12:58:30.264Z"
   },
   {
    "duration": 20,
    "start_time": "2023-12-28T12:58:30.297Z"
   },
   {
    "duration": 37,
    "start_time": "2023-12-28T12:58:30.319Z"
   },
   {
    "duration": 7,
    "start_time": "2023-12-28T12:58:30.357Z"
   },
   {
    "duration": 34,
    "start_time": "2023-12-28T12:58:30.365Z"
   },
   {
    "duration": 35,
    "start_time": "2023-12-28T12:58:30.401Z"
   },
   {
    "duration": 1766,
    "start_time": "2023-12-28T12:58:30.438Z"
   },
   {
    "duration": 6,
    "start_time": "2023-12-28T12:58:32.206Z"
   },
   {
    "duration": 1108,
    "start_time": "2023-12-28T13:01:40.798Z"
   },
   {
    "duration": 44,
    "start_time": "2023-12-28T13:01:41.908Z"
   },
   {
    "duration": 11,
    "start_time": "2023-12-28T13:01:41.960Z"
   },
   {
    "duration": 37,
    "start_time": "2023-12-28T13:01:41.982Z"
   },
   {
    "duration": 10,
    "start_time": "2023-12-28T13:01:42.021Z"
   },
   {
    "duration": 23,
    "start_time": "2023-12-28T13:01:42.033Z"
   },
   {
    "duration": 10,
    "start_time": "2023-12-28T13:01:42.057Z"
   },
   {
    "duration": 15,
    "start_time": "2023-12-28T13:01:42.068Z"
   },
   {
    "duration": 13,
    "start_time": "2023-12-28T13:01:42.085Z"
   },
   {
    "duration": 6,
    "start_time": "2023-12-28T13:01:42.099Z"
   },
   {
    "duration": 40,
    "start_time": "2023-12-28T13:01:42.106Z"
   },
   {
    "duration": 6,
    "start_time": "2023-12-28T13:01:42.148Z"
   },
   {
    "duration": 14,
    "start_time": "2023-12-28T13:01:42.157Z"
   },
   {
    "duration": 6,
    "start_time": "2023-12-28T13:01:42.173Z"
   },
   {
    "duration": 5,
    "start_time": "2023-12-28T13:01:42.180Z"
   },
   {
    "duration": 6,
    "start_time": "2023-12-28T13:01:42.187Z"
   },
   {
    "duration": 9,
    "start_time": "2023-12-28T13:01:42.194Z"
   },
   {
    "duration": 207,
    "start_time": "2023-12-28T13:01:42.205Z"
   },
   {
    "duration": 182,
    "start_time": "2023-12-28T13:01:42.413Z"
   },
   {
    "duration": 6,
    "start_time": "2023-12-28T13:01:42.597Z"
   },
   {
    "duration": 12,
    "start_time": "2023-12-28T13:01:42.605Z"
   },
   {
    "duration": 131,
    "start_time": "2023-12-28T13:01:42.618Z"
   },
   {
    "duration": 237,
    "start_time": "2023-12-28T13:01:42.751Z"
   },
   {
    "duration": 12,
    "start_time": "2023-12-28T13:01:42.989Z"
   },
   {
    "duration": 134,
    "start_time": "2023-12-28T13:01:43.002Z"
   },
   {
    "duration": 19,
    "start_time": "2023-12-28T13:01:43.144Z"
   },
   {
    "duration": 310,
    "start_time": "2023-12-28T13:01:43.166Z"
   },
   {
    "duration": 502,
    "start_time": "2023-12-28T13:01:43.477Z"
   },
   {
    "duration": 8,
    "start_time": "2023-12-28T13:01:43.980Z"
   },
   {
    "duration": 31,
    "start_time": "2023-12-28T13:01:43.990Z"
   },
   {
    "duration": 24,
    "start_time": "2023-12-28T13:01:44.022Z"
   },
   {
    "duration": 21,
    "start_time": "2023-12-28T13:01:44.049Z"
   },
   {
    "duration": 431,
    "start_time": "2023-12-28T13:01:44.071Z"
   },
   {
    "duration": 25,
    "start_time": "2023-12-28T13:01:44.504Z"
   },
   {
    "duration": 48,
    "start_time": "2023-12-28T13:01:44.530Z"
   },
   {
    "duration": 4,
    "start_time": "2023-12-28T13:01:44.580Z"
   },
   {
    "duration": 27,
    "start_time": "2023-12-28T13:01:44.586Z"
   },
   {
    "duration": 45,
    "start_time": "2023-12-28T13:01:44.616Z"
   },
   {
    "duration": 757,
    "start_time": "2023-12-28T13:01:44.663Z"
   },
   {
    "duration": 818,
    "start_time": "2023-12-28T13:01:45.422Z"
   },
   {
    "duration": 42,
    "start_time": "2023-12-28T13:01:46.242Z"
   },
   {
    "duration": 15,
    "start_time": "2023-12-28T13:01:46.286Z"
   },
   {
    "duration": 53,
    "start_time": "2023-12-28T13:01:46.303Z"
   },
   {
    "duration": 8,
    "start_time": "2023-12-28T13:01:46.359Z"
   },
   {
    "duration": 5,
    "start_time": "2023-12-28T13:01:46.369Z"
   },
   {
    "duration": 19,
    "start_time": "2023-12-28T13:01:46.375Z"
   },
   {
    "duration": 1985,
    "start_time": "2023-12-28T13:01:46.395Z"
   },
   {
    "duration": 6,
    "start_time": "2023-12-28T13:01:48.382Z"
   },
   {
    "duration": 40265,
    "start_time": "2023-12-28T13:01:48.389Z"
   },
   {
    "duration": 0,
    "start_time": "2023-12-28T13:02:28.657Z"
   },
   {
    "duration": 7,
    "start_time": "2023-12-28T13:02:30.666Z"
   },
   {
    "duration": 72,
    "start_time": "2023-12-28T13:13:11.479Z"
   },
   {
    "duration": 45,
    "start_time": "2023-12-29T13:30:25.496Z"
   },
   {
    "duration": 2343,
    "start_time": "2024-01-05T10:42:33.352Z"
   },
   {
    "duration": 400,
    "start_time": "2024-01-05T10:42:35.697Z"
   },
   {
    "duration": 0,
    "start_time": "2024-01-05T10:42:36.101Z"
   },
   {
    "duration": 0,
    "start_time": "2024-01-05T10:42:36.102Z"
   },
   {
    "duration": 0,
    "start_time": "2024-01-05T10:42:36.103Z"
   },
   {
    "duration": 0,
    "start_time": "2024-01-05T10:42:36.104Z"
   },
   {
    "duration": 0,
    "start_time": "2024-01-05T10:42:36.105Z"
   },
   {
    "duration": 0,
    "start_time": "2024-01-05T10:42:36.106Z"
   },
   {
    "duration": 0,
    "start_time": "2024-01-05T10:42:36.108Z"
   },
   {
    "duration": 0,
    "start_time": "2024-01-05T10:42:36.109Z"
   },
   {
    "duration": 0,
    "start_time": "2024-01-05T10:42:36.110Z"
   },
   {
    "duration": 0,
    "start_time": "2024-01-05T10:42:36.111Z"
   },
   {
    "duration": 0,
    "start_time": "2024-01-05T10:42:36.112Z"
   },
   {
    "duration": 0,
    "start_time": "2024-01-05T10:42:36.192Z"
   },
   {
    "duration": 0,
    "start_time": "2024-01-05T10:42:36.193Z"
   },
   {
    "duration": 0,
    "start_time": "2024-01-05T10:42:36.194Z"
   },
   {
    "duration": 0,
    "start_time": "2024-01-05T10:42:36.195Z"
   },
   {
    "duration": 0,
    "start_time": "2024-01-05T10:42:36.196Z"
   },
   {
    "duration": 0,
    "start_time": "2024-01-05T10:42:36.197Z"
   },
   {
    "duration": 0,
    "start_time": "2024-01-05T10:42:36.197Z"
   },
   {
    "duration": 0,
    "start_time": "2024-01-05T10:42:36.198Z"
   },
   {
    "duration": 0,
    "start_time": "2024-01-05T10:42:36.200Z"
   },
   {
    "duration": 0,
    "start_time": "2024-01-05T10:42:36.201Z"
   },
   {
    "duration": 1,
    "start_time": "2024-01-05T10:42:36.202Z"
   },
   {
    "duration": 0,
    "start_time": "2024-01-05T10:42:36.204Z"
   },
   {
    "duration": 0,
    "start_time": "2024-01-05T10:42:36.205Z"
   },
   {
    "duration": 0,
    "start_time": "2024-01-05T10:42:36.206Z"
   },
   {
    "duration": 0,
    "start_time": "2024-01-05T10:42:36.207Z"
   },
   {
    "duration": 0,
    "start_time": "2024-01-05T10:42:36.208Z"
   },
   {
    "duration": 0,
    "start_time": "2024-01-05T10:42:36.209Z"
   },
   {
    "duration": 0,
    "start_time": "2024-01-05T10:42:36.210Z"
   },
   {
    "duration": 0,
    "start_time": "2024-01-05T10:42:36.293Z"
   },
   {
    "duration": 0,
    "start_time": "2024-01-05T10:42:36.294Z"
   },
   {
    "duration": 0,
    "start_time": "2024-01-05T10:42:36.296Z"
   },
   {
    "duration": 0,
    "start_time": "2024-01-05T10:42:36.297Z"
   },
   {
    "duration": 0,
    "start_time": "2024-01-05T10:42:36.298Z"
   },
   {
    "duration": 0,
    "start_time": "2024-01-05T10:42:36.300Z"
   },
   {
    "duration": 0,
    "start_time": "2024-01-05T10:42:36.301Z"
   },
   {
    "duration": 0,
    "start_time": "2024-01-05T10:42:36.302Z"
   },
   {
    "duration": 0,
    "start_time": "2024-01-05T10:42:36.304Z"
   },
   {
    "duration": 0,
    "start_time": "2024-01-05T10:42:36.305Z"
   },
   {
    "duration": 0,
    "start_time": "2024-01-05T10:42:36.307Z"
   },
   {
    "duration": 0,
    "start_time": "2024-01-05T10:42:36.308Z"
   },
   {
    "duration": 0,
    "start_time": "2024-01-05T10:42:36.310Z"
   },
   {
    "duration": 0,
    "start_time": "2024-01-05T10:42:36.311Z"
   },
   {
    "duration": 0,
    "start_time": "2024-01-05T10:42:36.391Z"
   },
   {
    "duration": 0,
    "start_time": "2024-01-05T10:42:36.394Z"
   },
   {
    "duration": 0,
    "start_time": "2024-01-05T10:42:36.395Z"
   },
   {
    "duration": 0,
    "start_time": "2024-01-05T10:42:36.396Z"
   },
   {
    "duration": 0,
    "start_time": "2024-01-05T10:42:36.397Z"
   },
   {
    "duration": 1022,
    "start_time": "2024-01-05T11:40:33.711Z"
   },
   {
    "duration": 125,
    "start_time": "2024-01-05T11:40:34.735Z"
   },
   {
    "duration": 0,
    "start_time": "2024-01-05T11:40:34.865Z"
   },
   {
    "duration": 0,
    "start_time": "2024-01-05T11:40:34.866Z"
   },
   {
    "duration": 1,
    "start_time": "2024-01-05T11:40:34.867Z"
   },
   {
    "duration": 0,
    "start_time": "2024-01-05T11:40:34.869Z"
   },
   {
    "duration": 0,
    "start_time": "2024-01-05T11:40:34.869Z"
   },
   {
    "duration": 0,
    "start_time": "2024-01-05T11:40:34.870Z"
   },
   {
    "duration": 0,
    "start_time": "2024-01-05T11:40:34.871Z"
   },
   {
    "duration": 0,
    "start_time": "2024-01-05T11:40:34.872Z"
   },
   {
    "duration": 0,
    "start_time": "2024-01-05T11:40:34.873Z"
   },
   {
    "duration": 0,
    "start_time": "2024-01-05T11:40:34.874Z"
   },
   {
    "duration": 0,
    "start_time": "2024-01-05T11:40:34.892Z"
   },
   {
    "duration": 0,
    "start_time": "2024-01-05T11:40:34.893Z"
   },
   {
    "duration": 0,
    "start_time": "2024-01-05T11:40:34.894Z"
   },
   {
    "duration": 0,
    "start_time": "2024-01-05T11:40:34.895Z"
   },
   {
    "duration": 0,
    "start_time": "2024-01-05T11:40:34.896Z"
   },
   {
    "duration": 0,
    "start_time": "2024-01-05T11:40:34.897Z"
   },
   {
    "duration": 0,
    "start_time": "2024-01-05T11:40:34.898Z"
   },
   {
    "duration": 0,
    "start_time": "2024-01-05T11:40:34.899Z"
   },
   {
    "duration": 0,
    "start_time": "2024-01-05T11:40:34.899Z"
   },
   {
    "duration": 0,
    "start_time": "2024-01-05T11:40:34.900Z"
   },
   {
    "duration": 0,
    "start_time": "2024-01-05T11:40:34.901Z"
   },
   {
    "duration": 0,
    "start_time": "2024-01-05T11:40:34.902Z"
   },
   {
    "duration": 0,
    "start_time": "2024-01-05T11:40:34.903Z"
   },
   {
    "duration": 0,
    "start_time": "2024-01-05T11:40:34.904Z"
   },
   {
    "duration": 0,
    "start_time": "2024-01-05T11:40:34.905Z"
   },
   {
    "duration": 0,
    "start_time": "2024-01-05T11:40:34.906Z"
   },
   {
    "duration": 0,
    "start_time": "2024-01-05T11:40:34.907Z"
   },
   {
    "duration": 0,
    "start_time": "2024-01-05T11:40:34.908Z"
   },
   {
    "duration": 0,
    "start_time": "2024-01-05T11:40:34.909Z"
   },
   {
    "duration": 0,
    "start_time": "2024-01-05T11:40:34.910Z"
   },
   {
    "duration": 0,
    "start_time": "2024-01-05T11:40:34.911Z"
   },
   {
    "duration": 0,
    "start_time": "2024-01-05T11:40:34.912Z"
   },
   {
    "duration": 0,
    "start_time": "2024-01-05T11:40:34.913Z"
   },
   {
    "duration": 1,
    "start_time": "2024-01-05T11:40:34.913Z"
   },
   {
    "duration": 0,
    "start_time": "2024-01-05T11:40:34.915Z"
   },
   {
    "duration": 0,
    "start_time": "2024-01-05T11:40:34.915Z"
   },
   {
    "duration": 0,
    "start_time": "2024-01-05T11:40:34.917Z"
   },
   {
    "duration": 0,
    "start_time": "2024-01-05T11:40:34.917Z"
   },
   {
    "duration": 0,
    "start_time": "2024-01-05T11:40:34.918Z"
   },
   {
    "duration": 0,
    "start_time": "2024-01-05T11:40:34.919Z"
   },
   {
    "duration": 0,
    "start_time": "2024-01-05T11:40:34.920Z"
   },
   {
    "duration": 0,
    "start_time": "2024-01-05T11:40:34.921Z"
   },
   {
    "duration": 0,
    "start_time": "2024-01-05T11:40:34.922Z"
   },
   {
    "duration": 0,
    "start_time": "2024-01-05T11:40:34.922Z"
   },
   {
    "duration": 0,
    "start_time": "2024-01-05T11:40:34.923Z"
   },
   {
    "duration": 0,
    "start_time": "2024-01-05T11:40:34.924Z"
   },
   {
    "duration": 0,
    "start_time": "2024-01-05T11:40:34.925Z"
   },
   {
    "duration": 0,
    "start_time": "2024-01-05T11:40:34.926Z"
   },
   {
    "duration": 33,
    "start_time": "2024-01-05T11:41:05.272Z"
   },
   {
    "duration": 33,
    "start_time": "2024-01-05T11:41:09.350Z"
   },
   {
    "duration": 36,
    "start_time": "2024-01-05T11:41:18.894Z"
   },
   {
    "duration": 1030,
    "start_time": "2024-01-05T11:41:26.441Z"
   },
   {
    "duration": 37,
    "start_time": "2024-01-05T11:41:27.473Z"
   },
   {
    "duration": 10,
    "start_time": "2024-01-05T11:41:27.512Z"
   },
   {
    "duration": 169,
    "start_time": "2024-01-05T11:41:27.523Z"
   },
   {
    "duration": 10,
    "start_time": "2024-01-05T11:41:27.693Z"
   },
   {
    "duration": 75,
    "start_time": "2024-01-05T11:41:27.704Z"
   },
   {
    "duration": 10,
    "start_time": "2024-01-05T11:41:27.780Z"
   },
   {
    "duration": 23,
    "start_time": "2024-01-05T11:41:27.791Z"
   },
   {
    "duration": 20,
    "start_time": "2024-01-05T11:41:27.815Z"
   },
   {
    "duration": 13,
    "start_time": "2024-01-05T11:41:27.837Z"
   },
   {
    "duration": 23,
    "start_time": "2024-01-05T11:41:27.851Z"
   },
   {
    "duration": 41,
    "start_time": "2024-01-05T11:41:27.876Z"
   },
   {
    "duration": 21,
    "start_time": "2024-01-05T11:41:27.919Z"
   },
   {
    "duration": 6,
    "start_time": "2024-01-05T11:41:27.941Z"
   },
   {
    "duration": 21,
    "start_time": "2024-01-05T11:41:27.948Z"
   },
   {
    "duration": 30,
    "start_time": "2024-01-05T11:41:27.970Z"
   },
   {
    "duration": 20,
    "start_time": "2024-01-05T11:41:28.002Z"
   },
   {
    "duration": 169,
    "start_time": "2024-01-05T11:41:28.023Z"
   },
   {
    "duration": 164,
    "start_time": "2024-01-05T11:41:28.193Z"
   },
   {
    "duration": 7,
    "start_time": "2024-01-05T11:41:28.358Z"
   },
   {
    "duration": 41,
    "start_time": "2024-01-05T11:41:28.366Z"
   },
   {
    "duration": 97,
    "start_time": "2024-01-05T11:41:28.408Z"
   },
   {
    "duration": 172,
    "start_time": "2024-01-05T11:41:28.507Z"
   },
   {
    "duration": 16,
    "start_time": "2024-01-05T11:41:28.681Z"
   },
   {
    "duration": 124,
    "start_time": "2024-01-05T11:41:28.698Z"
   },
   {
    "duration": 7,
    "start_time": "2024-01-05T11:41:28.824Z"
   },
   {
    "duration": 243,
    "start_time": "2024-01-05T11:41:28.833Z"
   },
   {
    "duration": 407,
    "start_time": "2024-01-05T11:41:29.079Z"
   },
   {
    "duration": 24,
    "start_time": "2024-01-05T11:41:29.487Z"
   },
   {
    "duration": 12,
    "start_time": "2024-01-05T11:41:29.513Z"
   },
   {
    "duration": 7,
    "start_time": "2024-01-05T11:41:29.527Z"
   },
   {
    "duration": 10,
    "start_time": "2024-01-05T11:41:29.536Z"
   },
   {
    "duration": 352,
    "start_time": "2024-01-05T11:41:29.548Z"
   },
   {
    "duration": 22,
    "start_time": "2024-01-05T11:41:29.901Z"
   },
   {
    "duration": 25,
    "start_time": "2024-01-05T11:41:29.924Z"
   },
   {
    "duration": 3,
    "start_time": "2024-01-05T11:41:29.950Z"
   },
   {
    "duration": 39,
    "start_time": "2024-01-05T11:41:29.954Z"
   },
   {
    "duration": 17,
    "start_time": "2024-01-05T11:41:29.994Z"
   },
   {
    "duration": 634,
    "start_time": "2024-01-05T11:41:30.013Z"
   },
   {
    "duration": 664,
    "start_time": "2024-01-05T11:41:30.649Z"
   },
   {
    "duration": 28,
    "start_time": "2024-01-05T11:41:31.315Z"
   },
   {
    "duration": 52,
    "start_time": "2024-01-05T11:41:31.345Z"
   },
   {
    "duration": 48,
    "start_time": "2024-01-05T11:41:31.399Z"
   },
   {
    "duration": 7,
    "start_time": "2024-01-05T11:41:31.449Z"
   },
   {
    "duration": 51,
    "start_time": "2024-01-05T11:41:31.457Z"
   },
   {
    "duration": 53,
    "start_time": "2024-01-05T11:41:31.510Z"
   },
   {
    "duration": 1621,
    "start_time": "2024-01-05T11:41:31.564Z"
   },
   {
    "duration": 9,
    "start_time": "2024-01-05T11:41:33.186Z"
   },
   {
    "duration": 9,
    "start_time": "2024-01-05T11:41:33.197Z"
   },
   {
    "duration": 192,
    "start_time": "2024-01-05T11:41:33.208Z"
   },
   {
    "duration": 8610,
    "start_time": "2024-04-01T14:15:21.468Z"
   }
  ],
  "kernelspec": {
   "display_name": "Python 3 (ipykernel)",
   "language": "python",
   "name": "python3"
  },
  "language_info": {
   "codemirror_mode": {
    "name": "ipython",
    "version": 3
   },
   "file_extension": ".py",
   "mimetype": "text/x-python",
   "name": "python",
   "nbconvert_exporter": "python",
   "pygments_lexer": "ipython3",
   "version": "3.9.5"
  },
  "toc": {
   "base_numbering": 1,
   "nav_menu": {},
   "number_sections": true,
   "sideBar": true,
   "skip_h1_title": true,
   "title_cell": "Table of Contents",
   "title_sidebar": "Contents",
   "toc_cell": false,
   "toc_position": {},
   "toc_section_display": true,
   "toc_window_display": true
  }
 },
 "nbformat": 4,
 "nbformat_minor": 5
}
